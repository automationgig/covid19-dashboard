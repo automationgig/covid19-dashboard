{
 "cells": [
  {
   "cell_type": "markdown",
   "metadata": {},
   "source": [
    "# COVID-19 Data Analysis & Visualization"
   ]
  },
  {
   "cell_type": "markdown",
   "metadata": {},
   "source": [
    "## What is COVID-19?"
   ]
  },
  {
   "cell_type": "markdown",
   "metadata": {},
   "source": [
    "> Coronavirus disease (COVID-19) is an infectious disease caused by a newly discovered coronavirus.\n",
    "Most people infected with the COVID-19 virus will experience mild to moderate respiratory illness and recover without requiring special treatment.  Older people, and those with underlying medical problems like cardiovascular disease, diabetes, chronic respiratory disease, and cancer are more likely to develop serious illness.\n",
    "The best way to prevent and slow down transmission is to be well informed about the COVID-19 virus, the disease it causes and how it spreads. Protect yourself and others from infection by washing your hands or using an alcohol based rub frequently and not touching your face. \n",
    "The COVID-19 virus spreads primarily through droplets of saliva or discharge from the nose when an infected person coughs or sneezes, so it’s important that you also practice respiratory etiquette (for example, by coughing into a flexed elbow)."
   ]
  },
  {
   "cell_type": "markdown",
   "metadata": {},
   "source": [
    "![Coronavirus Image](https://cdn.pixabay.com/photo/2020/03/16/16/29/virus-4937553_960_720.jpg)"
   ]
  },
  {
   "cell_type": "markdown",
   "metadata": {},
   "source": [
    "# Importing Libraries"
   ]
  },
  {
   "cell_type": "code",
   "execution_count": 1,
   "metadata": {},
   "outputs": [],
   "source": [
    "# Importing the libraries\n",
    "import numpy as np\n",
    "import pandas as pd\n",
    "import matplotlib.pyplot as plt\n",
    "\n",
    "import plotly.express as px\n",
    "import plotly.graph_objects as go\n",
    "\n",
    "from IPython.core.display import display, HTML\n",
    "\n",
    "from ipywidgets import interact\n",
    "import ipywidgets as widgets\n",
    "import folium"
   ]
  },
  {
   "cell_type": "markdown",
   "metadata": {},
   "source": [
    "# Loading the data from source"
   ]
  },
  {
   "cell_type": "code",
   "execution_count": 2,
   "metadata": {},
   "outputs": [],
   "source": [
    "# loading data right from the source:\n",
    "death_df = pd.read_csv('https://raw.githubusercontent.com/CSSEGISandData/COVID-19/master/csse_covid_19_data/csse_covid_19_time_series/time_series_covid19_deaths_global.csv')\n",
    "confirmed_df = pd.read_csv('https://raw.githubusercontent.com/CSSEGISandData/COVID-19/master/csse_covid_19_data/csse_covid_19_time_series/time_series_covid19_confirmed_global.csv')\n",
    "recovered_df = pd.read_csv('https://raw.githubusercontent.com/CSSEGISandData/COVID-19/master/csse_covid_19_data/csse_covid_19_time_series/time_series_covid19_recovered_global.csv')\n",
    "country_df = pd.read_csv('https://raw.githubusercontent.com/CSSEGISandData/COVID-19/web-data/data/cases_country.csv')"
   ]
  },
  {
   "cell_type": "markdown",
   "metadata": {},
   "source": [
    "# Understanding the data"
   ]
  },
  {
   "cell_type": "code",
   "execution_count": 3,
   "metadata": {
    "scrolled": true
   },
   "outputs": [
    {
     "data": {
      "text/html": [
       "<div>\n",
       "<style scoped>\n",
       "    .dataframe tbody tr th:only-of-type {\n",
       "        vertical-align: middle;\n",
       "    }\n",
       "\n",
       "    .dataframe tbody tr th {\n",
       "        vertical-align: top;\n",
       "    }\n",
       "\n",
       "    .dataframe thead th {\n",
       "        text-align: right;\n",
       "    }\n",
       "</style>\n",
       "<table border=\"1\" class=\"dataframe\">\n",
       "  <thead>\n",
       "    <tr style=\"text-align: right;\">\n",
       "      <th></th>\n",
       "      <th>Province/State</th>\n",
       "      <th>Country/Region</th>\n",
       "      <th>Lat</th>\n",
       "      <th>Long</th>\n",
       "      <th>1/22/20</th>\n",
       "      <th>1/23/20</th>\n",
       "      <th>1/24/20</th>\n",
       "      <th>1/25/20</th>\n",
       "      <th>1/26/20</th>\n",
       "      <th>1/27/20</th>\n",
       "      <th>...</th>\n",
       "      <th>4/25/21</th>\n",
       "      <th>4/26/21</th>\n",
       "      <th>4/27/21</th>\n",
       "      <th>4/28/21</th>\n",
       "      <th>4/29/21</th>\n",
       "      <th>4/30/21</th>\n",
       "      <th>5/1/21</th>\n",
       "      <th>5/2/21</th>\n",
       "      <th>5/3/21</th>\n",
       "      <th>5/4/21</th>\n",
       "    </tr>\n",
       "  </thead>\n",
       "  <tbody>\n",
       "    <tr>\n",
       "      <th>0</th>\n",
       "      <td>NaN</td>\n",
       "      <td>Afghanistan</td>\n",
       "      <td>33.93911</td>\n",
       "      <td>67.709953</td>\n",
       "      <td>0</td>\n",
       "      <td>0</td>\n",
       "      <td>0</td>\n",
       "      <td>0</td>\n",
       "      <td>0</td>\n",
       "      <td>0</td>\n",
       "      <td>...</td>\n",
       "      <td>2582</td>\n",
       "      <td>2592</td>\n",
       "      <td>2598</td>\n",
       "      <td>2611</td>\n",
       "      <td>2618</td>\n",
       "      <td>2625</td>\n",
       "      <td>2631</td>\n",
       "      <td>2637</td>\n",
       "      <td>2642</td>\n",
       "      <td>2648</td>\n",
       "    </tr>\n",
       "    <tr>\n",
       "      <th>1</th>\n",
       "      <td>NaN</td>\n",
       "      <td>Albania</td>\n",
       "      <td>41.15330</td>\n",
       "      <td>20.168300</td>\n",
       "      <td>0</td>\n",
       "      <td>0</td>\n",
       "      <td>0</td>\n",
       "      <td>0</td>\n",
       "      <td>0</td>\n",
       "      <td>0</td>\n",
       "      <td>...</td>\n",
       "      <td>2378</td>\n",
       "      <td>2379</td>\n",
       "      <td>2383</td>\n",
       "      <td>2386</td>\n",
       "      <td>2389</td>\n",
       "      <td>2394</td>\n",
       "      <td>2396</td>\n",
       "      <td>2397</td>\n",
       "      <td>2399</td>\n",
       "      <td>2402</td>\n",
       "    </tr>\n",
       "    <tr>\n",
       "      <th>2</th>\n",
       "      <td>NaN</td>\n",
       "      <td>Algeria</td>\n",
       "      <td>28.03390</td>\n",
       "      <td>1.659600</td>\n",
       "      <td>0</td>\n",
       "      <td>0</td>\n",
       "      <td>0</td>\n",
       "      <td>0</td>\n",
       "      <td>0</td>\n",
       "      <td>0</td>\n",
       "      <td>...</td>\n",
       "      <td>3207</td>\n",
       "      <td>3217</td>\n",
       "      <td>3225</td>\n",
       "      <td>3234</td>\n",
       "      <td>3244</td>\n",
       "      <td>3253</td>\n",
       "      <td>3261</td>\n",
       "      <td>3270</td>\n",
       "      <td>3280</td>\n",
       "      <td>3289</td>\n",
       "    </tr>\n",
       "    <tr>\n",
       "      <th>3</th>\n",
       "      <td>NaN</td>\n",
       "      <td>Andorra</td>\n",
       "      <td>42.50630</td>\n",
       "      <td>1.521800</td>\n",
       "      <td>0</td>\n",
       "      <td>0</td>\n",
       "      <td>0</td>\n",
       "      <td>0</td>\n",
       "      <td>0</td>\n",
       "      <td>0</td>\n",
       "      <td>...</td>\n",
       "      <td>124</td>\n",
       "      <td>124</td>\n",
       "      <td>124</td>\n",
       "      <td>125</td>\n",
       "      <td>125</td>\n",
       "      <td>125</td>\n",
       "      <td>125</td>\n",
       "      <td>127</td>\n",
       "      <td>127</td>\n",
       "      <td>127</td>\n",
       "    </tr>\n",
       "    <tr>\n",
       "      <th>4</th>\n",
       "      <td>NaN</td>\n",
       "      <td>Angola</td>\n",
       "      <td>-11.20270</td>\n",
       "      <td>17.873900</td>\n",
       "      <td>0</td>\n",
       "      <td>0</td>\n",
       "      <td>0</td>\n",
       "      <td>0</td>\n",
       "      <td>0</td>\n",
       "      <td>0</td>\n",
       "      <td>...</td>\n",
       "      <td>579</td>\n",
       "      <td>583</td>\n",
       "      <td>587</td>\n",
       "      <td>591</td>\n",
       "      <td>594</td>\n",
       "      <td>596</td>\n",
       "      <td>600</td>\n",
       "      <td>602</td>\n",
       "      <td>603</td>\n",
       "      <td>609</td>\n",
       "    </tr>\n",
       "  </tbody>\n",
       "</table>\n",
       "<p>5 rows × 473 columns</p>\n",
       "</div>"
      ],
      "text/plain": [
       "  Province/State Country/Region       Lat       Long  1/22/20  1/23/20  \\\n",
       "0            NaN    Afghanistan  33.93911  67.709953        0        0   \n",
       "1            NaN        Albania  41.15330  20.168300        0        0   \n",
       "2            NaN        Algeria  28.03390   1.659600        0        0   \n",
       "3            NaN        Andorra  42.50630   1.521800        0        0   \n",
       "4            NaN         Angola -11.20270  17.873900        0        0   \n",
       "\n",
       "   1/24/20  1/25/20  1/26/20  1/27/20  ...  4/25/21  4/26/21  4/27/21  \\\n",
       "0        0        0        0        0  ...     2582     2592     2598   \n",
       "1        0        0        0        0  ...     2378     2379     2383   \n",
       "2        0        0        0        0  ...     3207     3217     3225   \n",
       "3        0        0        0        0  ...      124      124      124   \n",
       "4        0        0        0        0  ...      579      583      587   \n",
       "\n",
       "   4/28/21  4/29/21  4/30/21  5/1/21  5/2/21  5/3/21  5/4/21  \n",
       "0     2611     2618     2625    2631    2637    2642    2648  \n",
       "1     2386     2389     2394    2396    2397    2399    2402  \n",
       "2     3234     3244     3253    3261    3270    3280    3289  \n",
       "3      125      125      125     125     127     127     127  \n",
       "4      591      594      596     600     602     603     609  \n",
       "\n",
       "[5 rows x 473 columns]"
      ]
     },
     "execution_count": 3,
     "metadata": {},
     "output_type": "execute_result"
    }
   ],
   "source": [
    "# Checking some of the rows from death_df dataframe\n",
    "death_df.head()"
   ]
  },
  {
   "cell_type": "code",
   "execution_count": 4,
   "metadata": {},
   "outputs": [
    {
     "data": {
      "text/html": [
       "<div>\n",
       "<style scoped>\n",
       "    .dataframe tbody tr th:only-of-type {\n",
       "        vertical-align: middle;\n",
       "    }\n",
       "\n",
       "    .dataframe tbody tr th {\n",
       "        vertical-align: top;\n",
       "    }\n",
       "\n",
       "    .dataframe thead th {\n",
       "        text-align: right;\n",
       "    }\n",
       "</style>\n",
       "<table border=\"1\" class=\"dataframe\">\n",
       "  <thead>\n",
       "    <tr style=\"text-align: right;\">\n",
       "      <th></th>\n",
       "      <th>Province/State</th>\n",
       "      <th>Country/Region</th>\n",
       "      <th>Lat</th>\n",
       "      <th>Long</th>\n",
       "      <th>1/22/20</th>\n",
       "      <th>1/23/20</th>\n",
       "      <th>1/24/20</th>\n",
       "      <th>1/25/20</th>\n",
       "      <th>1/26/20</th>\n",
       "      <th>1/27/20</th>\n",
       "      <th>...</th>\n",
       "      <th>4/25/21</th>\n",
       "      <th>4/26/21</th>\n",
       "      <th>4/27/21</th>\n",
       "      <th>4/28/21</th>\n",
       "      <th>4/29/21</th>\n",
       "      <th>4/30/21</th>\n",
       "      <th>5/1/21</th>\n",
       "      <th>5/2/21</th>\n",
       "      <th>5/3/21</th>\n",
       "      <th>5/4/21</th>\n",
       "    </tr>\n",
       "  </thead>\n",
       "  <tbody>\n",
       "    <tr>\n",
       "      <th>0</th>\n",
       "      <td>NaN</td>\n",
       "      <td>Afghanistan</td>\n",
       "      <td>33.93911</td>\n",
       "      <td>67.709953</td>\n",
       "      <td>0</td>\n",
       "      <td>0</td>\n",
       "      <td>0</td>\n",
       "      <td>0</td>\n",
       "      <td>0</td>\n",
       "      <td>0</td>\n",
       "      <td>...</td>\n",
       "      <td>58843</td>\n",
       "      <td>59015</td>\n",
       "      <td>59225</td>\n",
       "      <td>59370</td>\n",
       "      <td>59576</td>\n",
       "      <td>59745</td>\n",
       "      <td>59939</td>\n",
       "      <td>60122</td>\n",
       "      <td>60300</td>\n",
       "      <td>60563</td>\n",
       "    </tr>\n",
       "    <tr>\n",
       "      <th>1</th>\n",
       "      <td>NaN</td>\n",
       "      <td>Albania</td>\n",
       "      <td>41.15330</td>\n",
       "      <td>20.168300</td>\n",
       "      <td>0</td>\n",
       "      <td>0</td>\n",
       "      <td>0</td>\n",
       "      <td>0</td>\n",
       "      <td>0</td>\n",
       "      <td>0</td>\n",
       "      <td>...</td>\n",
       "      <td>130537</td>\n",
       "      <td>130606</td>\n",
       "      <td>130736</td>\n",
       "      <td>130859</td>\n",
       "      <td>130977</td>\n",
       "      <td>131085</td>\n",
       "      <td>131185</td>\n",
       "      <td>131238</td>\n",
       "      <td>131276</td>\n",
       "      <td>131327</td>\n",
       "    </tr>\n",
       "    <tr>\n",
       "      <th>2</th>\n",
       "      <td>NaN</td>\n",
       "      <td>Algeria</td>\n",
       "      <td>28.03390</td>\n",
       "      <td>1.659600</td>\n",
       "      <td>0</td>\n",
       "      <td>0</td>\n",
       "      <td>0</td>\n",
       "      <td>0</td>\n",
       "      <td>0</td>\n",
       "      <td>0</td>\n",
       "      <td>...</td>\n",
       "      <td>120922</td>\n",
       "      <td>121112</td>\n",
       "      <td>121344</td>\n",
       "      <td>121580</td>\n",
       "      <td>121866</td>\n",
       "      <td>122108</td>\n",
       "      <td>122311</td>\n",
       "      <td>122522</td>\n",
       "      <td>122717</td>\n",
       "      <td>122999</td>\n",
       "    </tr>\n",
       "    <tr>\n",
       "      <th>3</th>\n",
       "      <td>NaN</td>\n",
       "      <td>Andorra</td>\n",
       "      <td>42.50630</td>\n",
       "      <td>1.521800</td>\n",
       "      <td>0</td>\n",
       "      <td>0</td>\n",
       "      <td>0</td>\n",
       "      <td>0</td>\n",
       "      <td>0</td>\n",
       "      <td>0</td>\n",
       "      <td>...</td>\n",
       "      <td>13060</td>\n",
       "      <td>13083</td>\n",
       "      <td>13121</td>\n",
       "      <td>13148</td>\n",
       "      <td>13198</td>\n",
       "      <td>13232</td>\n",
       "      <td>13232</td>\n",
       "      <td>13282</td>\n",
       "      <td>13295</td>\n",
       "      <td>13316</td>\n",
       "    </tr>\n",
       "    <tr>\n",
       "      <th>4</th>\n",
       "      <td>NaN</td>\n",
       "      <td>Angola</td>\n",
       "      <td>-11.20270</td>\n",
       "      <td>17.873900</td>\n",
       "      <td>0</td>\n",
       "      <td>0</td>\n",
       "      <td>0</td>\n",
       "      <td>0</td>\n",
       "      <td>0</td>\n",
       "      <td>0</td>\n",
       "      <td>...</td>\n",
       "      <td>25609</td>\n",
       "      <td>25710</td>\n",
       "      <td>25942</td>\n",
       "      <td>26168</td>\n",
       "      <td>26431</td>\n",
       "      <td>26652</td>\n",
       "      <td>26815</td>\n",
       "      <td>26993</td>\n",
       "      <td>27133</td>\n",
       "      <td>27284</td>\n",
       "    </tr>\n",
       "  </tbody>\n",
       "</table>\n",
       "<p>5 rows × 473 columns</p>\n",
       "</div>"
      ],
      "text/plain": [
       "  Province/State Country/Region       Lat       Long  1/22/20  1/23/20  \\\n",
       "0            NaN    Afghanistan  33.93911  67.709953        0        0   \n",
       "1            NaN        Albania  41.15330  20.168300        0        0   \n",
       "2            NaN        Algeria  28.03390   1.659600        0        0   \n",
       "3            NaN        Andorra  42.50630   1.521800        0        0   \n",
       "4            NaN         Angola -11.20270  17.873900        0        0   \n",
       "\n",
       "   1/24/20  1/25/20  1/26/20  1/27/20  ...  4/25/21  4/26/21  4/27/21  \\\n",
       "0        0        0        0        0  ...    58843    59015    59225   \n",
       "1        0        0        0        0  ...   130537   130606   130736   \n",
       "2        0        0        0        0  ...   120922   121112   121344   \n",
       "3        0        0        0        0  ...    13060    13083    13121   \n",
       "4        0        0        0        0  ...    25609    25710    25942   \n",
       "\n",
       "   4/28/21  4/29/21  4/30/21  5/1/21  5/2/21  5/3/21  5/4/21  \n",
       "0    59370    59576    59745   59939   60122   60300   60563  \n",
       "1   130859   130977   131085  131185  131238  131276  131327  \n",
       "2   121580   121866   122108  122311  122522  122717  122999  \n",
       "3    13148    13198    13232   13232   13282   13295   13316  \n",
       "4    26168    26431    26652   26815   26993   27133   27284  \n",
       "\n",
       "[5 rows x 473 columns]"
      ]
     },
     "execution_count": 4,
     "metadata": {},
     "output_type": "execute_result"
    }
   ],
   "source": [
    "# Checking some of the rows from confirmed_df dataframe\n",
    "confirmed_df.head()"
   ]
  },
  {
   "cell_type": "code",
   "execution_count": 5,
   "metadata": {
    "scrolled": true
   },
   "outputs": [
    {
     "data": {
      "text/html": [
       "<div>\n",
       "<style scoped>\n",
       "    .dataframe tbody tr th:only-of-type {\n",
       "        vertical-align: middle;\n",
       "    }\n",
       "\n",
       "    .dataframe tbody tr th {\n",
       "        vertical-align: top;\n",
       "    }\n",
       "\n",
       "    .dataframe thead th {\n",
       "        text-align: right;\n",
       "    }\n",
       "</style>\n",
       "<table border=\"1\" class=\"dataframe\">\n",
       "  <thead>\n",
       "    <tr style=\"text-align: right;\">\n",
       "      <th></th>\n",
       "      <th>Province/State</th>\n",
       "      <th>Country/Region</th>\n",
       "      <th>Lat</th>\n",
       "      <th>Long</th>\n",
       "      <th>1/22/20</th>\n",
       "      <th>1/23/20</th>\n",
       "      <th>1/24/20</th>\n",
       "      <th>1/25/20</th>\n",
       "      <th>1/26/20</th>\n",
       "      <th>1/27/20</th>\n",
       "      <th>...</th>\n",
       "      <th>4/25/21</th>\n",
       "      <th>4/26/21</th>\n",
       "      <th>4/27/21</th>\n",
       "      <th>4/28/21</th>\n",
       "      <th>4/29/21</th>\n",
       "      <th>4/30/21</th>\n",
       "      <th>5/1/21</th>\n",
       "      <th>5/2/21</th>\n",
       "      <th>5/3/21</th>\n",
       "      <th>5/4/21</th>\n",
       "    </tr>\n",
       "  </thead>\n",
       "  <tbody>\n",
       "    <tr>\n",
       "      <th>0</th>\n",
       "      <td>NaN</td>\n",
       "      <td>Afghanistan</td>\n",
       "      <td>33.93911</td>\n",
       "      <td>67.709953</td>\n",
       "      <td>0</td>\n",
       "      <td>0</td>\n",
       "      <td>0</td>\n",
       "      <td>0</td>\n",
       "      <td>0</td>\n",
       "      <td>0</td>\n",
       "      <td>...</td>\n",
       "      <td>52489</td>\n",
       "      <td>52520</td>\n",
       "      <td>52794</td>\n",
       "      <td>52974</td>\n",
       "      <td>53103</td>\n",
       "      <td>53206</td>\n",
       "      <td>53272</td>\n",
       "      <td>53391</td>\n",
       "      <td>53391</td>\n",
       "      <td>53694</td>\n",
       "    </tr>\n",
       "    <tr>\n",
       "      <th>1</th>\n",
       "      <td>NaN</td>\n",
       "      <td>Albania</td>\n",
       "      <td>41.15330</td>\n",
       "      <td>20.168300</td>\n",
       "      <td>0</td>\n",
       "      <td>0</td>\n",
       "      <td>0</td>\n",
       "      <td>0</td>\n",
       "      <td>0</td>\n",
       "      <td>0</td>\n",
       "      <td>...</td>\n",
       "      <td>105728</td>\n",
       "      <td>106465</td>\n",
       "      <td>107163</td>\n",
       "      <td>107887</td>\n",
       "      <td>108606</td>\n",
       "      <td>109338</td>\n",
       "      <td>110172</td>\n",
       "      <td>110920</td>\n",
       "      <td>111792</td>\n",
       "      <td>112626</td>\n",
       "    </tr>\n",
       "    <tr>\n",
       "      <th>2</th>\n",
       "      <td>NaN</td>\n",
       "      <td>Algeria</td>\n",
       "      <td>28.03390</td>\n",
       "      <td>1.659600</td>\n",
       "      <td>0</td>\n",
       "      <td>0</td>\n",
       "      <td>0</td>\n",
       "      <td>0</td>\n",
       "      <td>0</td>\n",
       "      <td>0</td>\n",
       "      <td>...</td>\n",
       "      <td>84299</td>\n",
       "      <td>84440</td>\n",
       "      <td>84598</td>\n",
       "      <td>84745</td>\n",
       "      <td>84940</td>\n",
       "      <td>85108</td>\n",
       "      <td>85249</td>\n",
       "      <td>85398</td>\n",
       "      <td>85534</td>\n",
       "      <td>85693</td>\n",
       "    </tr>\n",
       "    <tr>\n",
       "      <th>3</th>\n",
       "      <td>NaN</td>\n",
       "      <td>Andorra</td>\n",
       "      <td>42.50630</td>\n",
       "      <td>1.521800</td>\n",
       "      <td>0</td>\n",
       "      <td>0</td>\n",
       "      <td>0</td>\n",
       "      <td>0</td>\n",
       "      <td>0</td>\n",
       "      <td>0</td>\n",
       "      <td>...</td>\n",
       "      <td>12491</td>\n",
       "      <td>12519</td>\n",
       "      <td>12561</td>\n",
       "      <td>12590</td>\n",
       "      <td>12650</td>\n",
       "      <td>12684</td>\n",
       "      <td>12684</td>\n",
       "      <td>12753</td>\n",
       "      <td>12793</td>\n",
       "      <td>12818</td>\n",
       "    </tr>\n",
       "    <tr>\n",
       "      <th>4</th>\n",
       "      <td>NaN</td>\n",
       "      <td>Angola</td>\n",
       "      <td>-11.20270</td>\n",
       "      <td>17.873900</td>\n",
       "      <td>0</td>\n",
       "      <td>0</td>\n",
       "      <td>0</td>\n",
       "      <td>0</td>\n",
       "      <td>0</td>\n",
       "      <td>0</td>\n",
       "      <td>...</td>\n",
       "      <td>23092</td>\n",
       "      <td>23288</td>\n",
       "      <td>23341</td>\n",
       "      <td>23584</td>\n",
       "      <td>23606</td>\n",
       "      <td>23876</td>\n",
       "      <td>23913</td>\n",
       "      <td>23913</td>\n",
       "      <td>24190</td>\n",
       "      <td>24190</td>\n",
       "    </tr>\n",
       "  </tbody>\n",
       "</table>\n",
       "<p>5 rows × 473 columns</p>\n",
       "</div>"
      ],
      "text/plain": [
       "  Province/State Country/Region       Lat       Long  1/22/20  1/23/20  \\\n",
       "0            NaN    Afghanistan  33.93911  67.709953        0        0   \n",
       "1            NaN        Albania  41.15330  20.168300        0        0   \n",
       "2            NaN        Algeria  28.03390   1.659600        0        0   \n",
       "3            NaN        Andorra  42.50630   1.521800        0        0   \n",
       "4            NaN         Angola -11.20270  17.873900        0        0   \n",
       "\n",
       "   1/24/20  1/25/20  1/26/20  1/27/20  ...  4/25/21  4/26/21  4/27/21  \\\n",
       "0        0        0        0        0  ...    52489    52520    52794   \n",
       "1        0        0        0        0  ...   105728   106465   107163   \n",
       "2        0        0        0        0  ...    84299    84440    84598   \n",
       "3        0        0        0        0  ...    12491    12519    12561   \n",
       "4        0        0        0        0  ...    23092    23288    23341   \n",
       "\n",
       "   4/28/21  4/29/21  4/30/21  5/1/21  5/2/21  5/3/21  5/4/21  \n",
       "0    52974    53103    53206   53272   53391   53391   53694  \n",
       "1   107887   108606   109338  110172  110920  111792  112626  \n",
       "2    84745    84940    85108   85249   85398   85534   85693  \n",
       "3    12590    12650    12684   12684   12753   12793   12818  \n",
       "4    23584    23606    23876   23913   23913   24190   24190  \n",
       "\n",
       "[5 rows x 473 columns]"
      ]
     },
     "execution_count": 5,
     "metadata": {},
     "output_type": "execute_result"
    }
   ],
   "source": [
    "# Checking some of the rows from recovered_df dataframe\n",
    "recovered_df.head()"
   ]
  },
  {
   "cell_type": "code",
   "execution_count": 6,
   "metadata": {
    "scrolled": false
   },
   "outputs": [
    {
     "data": {
      "text/html": [
       "<div>\n",
       "<style scoped>\n",
       "    .dataframe tbody tr th:only-of-type {\n",
       "        vertical-align: middle;\n",
       "    }\n",
       "\n",
       "    .dataframe tbody tr th {\n",
       "        vertical-align: top;\n",
       "    }\n",
       "\n",
       "    .dataframe thead th {\n",
       "        text-align: right;\n",
       "    }\n",
       "</style>\n",
       "<table border=\"1\" class=\"dataframe\">\n",
       "  <thead>\n",
       "    <tr style=\"text-align: right;\">\n",
       "      <th></th>\n",
       "      <th>Country_Region</th>\n",
       "      <th>Last_Update</th>\n",
       "      <th>Lat</th>\n",
       "      <th>Long_</th>\n",
       "      <th>Confirmed</th>\n",
       "      <th>Deaths</th>\n",
       "      <th>Recovered</th>\n",
       "      <th>Active</th>\n",
       "      <th>Incident_Rate</th>\n",
       "      <th>People_Tested</th>\n",
       "      <th>People_Hospitalized</th>\n",
       "      <th>Mortality_Rate</th>\n",
       "      <th>UID</th>\n",
       "      <th>ISO3</th>\n",
       "    </tr>\n",
       "  </thead>\n",
       "  <tbody>\n",
       "    <tr>\n",
       "      <th>0</th>\n",
       "      <td>Afghanistan</td>\n",
       "      <td>2021-05-05 04:20:43</td>\n",
       "      <td>33.93911</td>\n",
       "      <td>67.709953</td>\n",
       "      <td>60563.0</td>\n",
       "      <td>2648.0</td>\n",
       "      <td>53694.0</td>\n",
       "      <td>4221.0</td>\n",
       "      <td>155.575600</td>\n",
       "      <td>NaN</td>\n",
       "      <td>NaN</td>\n",
       "      <td>4.372307</td>\n",
       "      <td>4</td>\n",
       "      <td>AFG</td>\n",
       "    </tr>\n",
       "    <tr>\n",
       "      <th>1</th>\n",
       "      <td>Albania</td>\n",
       "      <td>2021-05-05 04:20:43</td>\n",
       "      <td>41.15330</td>\n",
       "      <td>20.168300</td>\n",
       "      <td>131327.0</td>\n",
       "      <td>2402.0</td>\n",
       "      <td>112626.0</td>\n",
       "      <td>16299.0</td>\n",
       "      <td>4563.451247</td>\n",
       "      <td>NaN</td>\n",
       "      <td>NaN</td>\n",
       "      <td>1.829022</td>\n",
       "      <td>8</td>\n",
       "      <td>ALB</td>\n",
       "    </tr>\n",
       "    <tr>\n",
       "      <th>2</th>\n",
       "      <td>Algeria</td>\n",
       "      <td>2021-05-05 04:20:43</td>\n",
       "      <td>28.03390</td>\n",
       "      <td>1.659600</td>\n",
       "      <td>122999.0</td>\n",
       "      <td>3289.0</td>\n",
       "      <td>85693.0</td>\n",
       "      <td>34017.0</td>\n",
       "      <td>280.492758</td>\n",
       "      <td>NaN</td>\n",
       "      <td>NaN</td>\n",
       "      <td>2.674005</td>\n",
       "      <td>12</td>\n",
       "      <td>DZA</td>\n",
       "    </tr>\n",
       "    <tr>\n",
       "      <th>3</th>\n",
       "      <td>Andorra</td>\n",
       "      <td>2021-05-05 04:20:43</td>\n",
       "      <td>42.50630</td>\n",
       "      <td>1.521800</td>\n",
       "      <td>13316.0</td>\n",
       "      <td>127.0</td>\n",
       "      <td>12818.0</td>\n",
       "      <td>371.0</td>\n",
       "      <td>17234.194008</td>\n",
       "      <td>NaN</td>\n",
       "      <td>NaN</td>\n",
       "      <td>0.953740</td>\n",
       "      <td>20</td>\n",
       "      <td>AND</td>\n",
       "    </tr>\n",
       "    <tr>\n",
       "      <th>4</th>\n",
       "      <td>Angola</td>\n",
       "      <td>2021-05-05 04:20:43</td>\n",
       "      <td>-11.20270</td>\n",
       "      <td>17.873900</td>\n",
       "      <td>27284.0</td>\n",
       "      <td>609.0</td>\n",
       "      <td>24190.0</td>\n",
       "      <td>2485.0</td>\n",
       "      <td>83.015206</td>\n",
       "      <td>NaN</td>\n",
       "      <td>NaN</td>\n",
       "      <td>2.232077</td>\n",
       "      <td>24</td>\n",
       "      <td>AGO</td>\n",
       "    </tr>\n",
       "  </tbody>\n",
       "</table>\n",
       "</div>"
      ],
      "text/plain": [
       "  Country_Region          Last_Update       Lat      Long_  Confirmed  Deaths  \\\n",
       "0    Afghanistan  2021-05-05 04:20:43  33.93911  67.709953    60563.0  2648.0   \n",
       "1        Albania  2021-05-05 04:20:43  41.15330  20.168300   131327.0  2402.0   \n",
       "2        Algeria  2021-05-05 04:20:43  28.03390   1.659600   122999.0  3289.0   \n",
       "3        Andorra  2021-05-05 04:20:43  42.50630   1.521800    13316.0   127.0   \n",
       "4         Angola  2021-05-05 04:20:43 -11.20270  17.873900    27284.0   609.0   \n",
       "\n",
       "   Recovered   Active  Incident_Rate  People_Tested  People_Hospitalized  \\\n",
       "0    53694.0   4221.0     155.575600            NaN                  NaN   \n",
       "1   112626.0  16299.0    4563.451247            NaN                  NaN   \n",
       "2    85693.0  34017.0     280.492758            NaN                  NaN   \n",
       "3    12818.0    371.0   17234.194008            NaN                  NaN   \n",
       "4    24190.0   2485.0      83.015206            NaN                  NaN   \n",
       "\n",
       "   Mortality_Rate  UID ISO3  \n",
       "0        4.372307    4  AFG  \n",
       "1        1.829022    8  ALB  \n",
       "2        2.674005   12  DZA  \n",
       "3        0.953740   20  AND  \n",
       "4        2.232077   24  AGO  "
      ]
     },
     "execution_count": 6,
     "metadata": {},
     "output_type": "execute_result"
    }
   ],
   "source": [
    "# Checking some of the rows from country_df dataframe\n",
    "country_df.head()"
   ]
  },
  {
   "cell_type": "code",
   "execution_count": 7,
   "metadata": {},
   "outputs": [
    {
     "name": "stdout",
     "output_type": "stream",
     "text": [
      "(275, 473)\n",
      "(275, 473)\n",
      "(260, 473)\n",
      "(192, 14)\n"
     ]
    }
   ],
   "source": [
    "# Checking the size of the dataframes\n",
    "print(death_df.shape)\n",
    "print(confirmed_df.shape)\n",
    "print(recovered_df.shape)\n",
    "print(country_df.shape)"
   ]
  },
  {
   "cell_type": "code",
   "execution_count": 8,
   "metadata": {
    "scrolled": true
   },
   "outputs": [
    {
     "name": "stdout",
     "output_type": "stream",
     "text": [
      "<class 'pandas.core.frame.DataFrame'>\n",
      "RangeIndex: 275 entries, 0 to 274\n",
      "Data columns (total 473 columns):\n",
      " #   Column          Dtype  \n",
      "---  ------          -----  \n",
      " 0   Province/State  object \n",
      " 1   Country/Region  object \n",
      " 2   Lat             float64\n",
      " 3   Long            float64\n",
      " 4   1/22/20         int64  \n",
      " 5   1/23/20         int64  \n",
      " 6   1/24/20         int64  \n",
      " 7   1/25/20         int64  \n",
      " 8   1/26/20         int64  \n",
      " 9   1/27/20         int64  \n",
      " 10  1/28/20         int64  \n",
      " 11  1/29/20         int64  \n",
      " 12  1/30/20         int64  \n",
      " 13  1/31/20         int64  \n",
      " 14  2/1/20          int64  \n",
      " 15  2/2/20          int64  \n",
      " 16  2/3/20          int64  \n",
      " 17  2/4/20          int64  \n",
      " 18  2/5/20          int64  \n",
      " 19  2/6/20          int64  \n",
      " 20  2/7/20          int64  \n",
      " 21  2/8/20          int64  \n",
      " 22  2/9/20          int64  \n",
      " 23  2/10/20         int64  \n",
      " 24  2/11/20         int64  \n",
      " 25  2/12/20         int64  \n",
      " 26  2/13/20         int64  \n",
      " 27  2/14/20         int64  \n",
      " 28  2/15/20         int64  \n",
      " 29  2/16/20         int64  \n",
      " 30  2/17/20         int64  \n",
      " 31  2/18/20         int64  \n",
      " 32  2/19/20         int64  \n",
      " 33  2/20/20         int64  \n",
      " 34  2/21/20         int64  \n",
      " 35  2/22/20         int64  \n",
      " 36  2/23/20         int64  \n",
      " 37  2/24/20         int64  \n",
      " 38  2/25/20         int64  \n",
      " 39  2/26/20         int64  \n",
      " 40  2/27/20         int64  \n",
      " 41  2/28/20         int64  \n",
      " 42  2/29/20         int64  \n",
      " 43  3/1/20          int64  \n",
      " 44  3/2/20          int64  \n",
      " 45  3/3/20          int64  \n",
      " 46  3/4/20          int64  \n",
      " 47  3/5/20          int64  \n",
      " 48  3/6/20          int64  \n",
      " 49  3/7/20          int64  \n",
      " 50  3/8/20          int64  \n",
      " 51  3/9/20          int64  \n",
      " 52  3/10/20         int64  \n",
      " 53  3/11/20         int64  \n",
      " 54  3/12/20         int64  \n",
      " 55  3/13/20         int64  \n",
      " 56  3/14/20         int64  \n",
      " 57  3/15/20         int64  \n",
      " 58  3/16/20         int64  \n",
      " 59  3/17/20         int64  \n",
      " 60  3/18/20         int64  \n",
      " 61  3/19/20         int64  \n",
      " 62  3/20/20         int64  \n",
      " 63  3/21/20         int64  \n",
      " 64  3/22/20         int64  \n",
      " 65  3/23/20         int64  \n",
      " 66  3/24/20         int64  \n",
      " 67  3/25/20         int64  \n",
      " 68  3/26/20         int64  \n",
      " 69  3/27/20         int64  \n",
      " 70  3/28/20         int64  \n",
      " 71  3/29/20         int64  \n",
      " 72  3/30/20         int64  \n",
      " 73  3/31/20         int64  \n",
      " 74  4/1/20          int64  \n",
      " 75  4/2/20          int64  \n",
      " 76  4/3/20          int64  \n",
      " 77  4/4/20          int64  \n",
      " 78  4/5/20          int64  \n",
      " 79  4/6/20          int64  \n",
      " 80  4/7/20          int64  \n",
      " 81  4/8/20          int64  \n",
      " 82  4/9/20          int64  \n",
      " 83  4/10/20         int64  \n",
      " 84  4/11/20         int64  \n",
      " 85  4/12/20         int64  \n",
      " 86  4/13/20         int64  \n",
      " 87  4/14/20         int64  \n",
      " 88  4/15/20         int64  \n",
      " 89  4/16/20         int64  \n",
      " 90  4/17/20         int64  \n",
      " 91  4/18/20         int64  \n",
      " 92  4/19/20         int64  \n",
      " 93  4/20/20         int64  \n",
      " 94  4/21/20         int64  \n",
      " 95  4/22/20         int64  \n",
      " 96  4/23/20         int64  \n",
      " 97  4/24/20         int64  \n",
      " 98  4/25/20         int64  \n",
      " 99  4/26/20         int64  \n",
      " 100 4/27/20         int64  \n",
      " 101 4/28/20         int64  \n",
      " 102 4/29/20         int64  \n",
      " 103 4/30/20         int64  \n",
      " 104 5/1/20          int64  \n",
      " 105 5/2/20          int64  \n",
      " 106 5/3/20          int64  \n",
      " 107 5/4/20          int64  \n",
      " 108 5/5/20          int64  \n",
      " 109 5/6/20          int64  \n",
      " 110 5/7/20          int64  \n",
      " 111 5/8/20          int64  \n",
      " 112 5/9/20          int64  \n",
      " 113 5/10/20         int64  \n",
      " 114 5/11/20         int64  \n",
      " 115 5/12/20         int64  \n",
      " 116 5/13/20         int64  \n",
      " 117 5/14/20         int64  \n",
      " 118 5/15/20         int64  \n",
      " 119 5/16/20         int64  \n",
      " 120 5/17/20         int64  \n",
      " 121 5/18/20         int64  \n",
      " 122 5/19/20         int64  \n",
      " 123 5/20/20         int64  \n",
      " 124 5/21/20         int64  \n",
      " 125 5/22/20         int64  \n",
      " 126 5/23/20         int64  \n",
      " 127 5/24/20         int64  \n",
      " 128 5/25/20         int64  \n",
      " 129 5/26/20         int64  \n",
      " 130 5/27/20         int64  \n",
      " 131 5/28/20         int64  \n",
      " 132 5/29/20         int64  \n",
      " 133 5/30/20         int64  \n",
      " 134 5/31/20         int64  \n",
      " 135 6/1/20          int64  \n",
      " 136 6/2/20          int64  \n",
      " 137 6/3/20          int64  \n",
      " 138 6/4/20          int64  \n",
      " 139 6/5/20          int64  \n",
      " 140 6/6/20          int64  \n",
      " 141 6/7/20          int64  \n",
      " 142 6/8/20          int64  \n",
      " 143 6/9/20          int64  \n",
      " 144 6/10/20         int64  \n",
      " 145 6/11/20         int64  \n",
      " 146 6/12/20         int64  \n",
      " 147 6/13/20         int64  \n",
      " 148 6/14/20         int64  \n",
      " 149 6/15/20         int64  \n",
      " 150 6/16/20         int64  \n",
      " 151 6/17/20         int64  \n",
      " 152 6/18/20         int64  \n",
      " 153 6/19/20         int64  \n",
      " 154 6/20/20         int64  \n",
      " 155 6/21/20         int64  \n",
      " 156 6/22/20         int64  \n",
      " 157 6/23/20         int64  \n",
      " 158 6/24/20         int64  \n",
      " 159 6/25/20         int64  \n",
      " 160 6/26/20         int64  \n",
      " 161 6/27/20         int64  \n",
      " 162 6/28/20         int64  \n",
      " 163 6/29/20         int64  \n",
      " 164 6/30/20         int64  \n",
      " 165 7/1/20          int64  \n",
      " 166 7/2/20          int64  \n",
      " 167 7/3/20          int64  \n",
      " 168 7/4/20          int64  \n",
      " 169 7/5/20          int64  \n",
      " 170 7/6/20          int64  \n",
      " 171 7/7/20          int64  \n",
      " 172 7/8/20          int64  \n",
      " 173 7/9/20          int64  \n",
      " 174 7/10/20         int64  \n",
      " 175 7/11/20         int64  \n",
      " 176 7/12/20         int64  \n",
      " 177 7/13/20         int64  \n",
      " 178 7/14/20         int64  \n",
      " 179 7/15/20         int64  \n",
      " 180 7/16/20         int64  \n",
      " 181 7/17/20         int64  \n",
      " 182 7/18/20         int64  \n",
      " 183 7/19/20         int64  \n",
      " 184 7/20/20         int64  \n",
      " 185 7/21/20         int64  \n",
      " 186 7/22/20         int64  \n",
      " 187 7/23/20         int64  \n",
      " 188 7/24/20         int64  \n",
      " 189 7/25/20         int64  \n",
      " 190 7/26/20         int64  \n",
      " 191 7/27/20         int64  \n",
      " 192 7/28/20         int64  \n",
      " 193 7/29/20         int64  \n",
      " 194 7/30/20         int64  \n",
      " 195 7/31/20         int64  \n",
      " 196 8/1/20          int64  \n",
      " 197 8/2/20          int64  \n",
      " 198 8/3/20          int64  \n",
      " 199 8/4/20          int64  \n",
      " 200 8/5/20          int64  \n",
      " 201 8/6/20          int64  \n",
      " 202 8/7/20          int64  \n",
      " 203 8/8/20          int64  \n",
      " 204 8/9/20          int64  \n",
      " 205 8/10/20         int64  \n",
      " 206 8/11/20         int64  \n",
      " 207 8/12/20         int64  \n",
      " 208 8/13/20         int64  \n",
      " 209 8/14/20         int64  \n",
      " 210 8/15/20         int64  \n",
      " 211 8/16/20         int64  \n",
      " 212 8/17/20         int64  \n",
      " 213 8/18/20         int64  \n",
      " 214 8/19/20         int64  \n",
      " 215 8/20/20         int64  \n",
      " 216 8/21/20         int64  \n",
      " 217 8/22/20         int64  \n",
      " 218 8/23/20         int64  \n",
      " 219 8/24/20         int64  \n",
      " 220 8/25/20         int64  \n",
      " 221 8/26/20         int64  \n",
      " 222 8/27/20         int64  \n",
      " 223 8/28/20         int64  \n",
      " 224 8/29/20         int64  \n",
      " 225 8/30/20         int64  \n",
      " 226 8/31/20         int64  \n",
      " 227 9/1/20          int64  \n",
      " 228 9/2/20          int64  \n",
      " 229 9/3/20          int64  \n",
      " 230 9/4/20          int64  \n",
      " 231 9/5/20          int64  \n",
      " 232 9/6/20          int64  \n",
      " 233 9/7/20          int64  \n",
      " 234 9/8/20          int64  \n",
      " 235 9/9/20          int64  \n",
      " 236 9/10/20         int64  \n",
      " 237 9/11/20         int64  \n",
      " 238 9/12/20         int64  \n",
      " 239 9/13/20         int64  \n",
      " 240 9/14/20         int64  \n",
      " 241 9/15/20         int64  \n",
      " 242 9/16/20         int64  \n",
      " 243 9/17/20         int64  \n",
      " 244 9/18/20         int64  \n",
      " 245 9/19/20         int64  \n",
      " 246 9/20/20         int64  \n",
      " 247 9/21/20         int64  \n",
      " 248 9/22/20         int64  \n",
      " 249 9/23/20         int64  \n",
      " 250 9/24/20         int64  \n",
      " 251 9/25/20         int64  \n",
      " 252 9/26/20         int64  \n",
      " 253 9/27/20         int64  \n",
      " 254 9/28/20         int64  \n",
      " 255 9/29/20         int64  \n",
      " 256 9/30/20         int64  \n",
      " 257 10/1/20         int64  \n",
      " 258 10/2/20         int64  \n",
      " 259 10/3/20         int64  \n",
      " 260 10/4/20         int64  \n",
      " 261 10/5/20         int64  \n",
      " 262 10/6/20         int64  \n",
      " 263 10/7/20         int64  \n",
      " 264 10/8/20         int64  \n",
      " 265 10/9/20         int64  \n",
      " 266 10/10/20        int64  \n",
      " 267 10/11/20        int64  \n",
      " 268 10/12/20        int64  \n",
      " 269 10/13/20        int64  \n",
      " 270 10/14/20        int64  \n",
      " 271 10/15/20        int64  \n",
      " 272 10/16/20        int64  \n",
      " 273 10/17/20        int64  \n",
      " 274 10/18/20        int64  \n",
      " 275 10/19/20        int64  \n",
      " 276 10/20/20        int64  \n",
      " 277 10/21/20        int64  \n",
      " 278 10/22/20        int64  \n",
      " 279 10/23/20        int64  \n",
      " 280 10/24/20        int64  \n",
      " 281 10/25/20        int64  \n",
      " 282 10/26/20        int64  \n",
      " 283 10/27/20        int64  \n",
      " 284 10/28/20        int64  \n",
      " 285 10/29/20        int64  \n",
      " 286 10/30/20        int64  \n",
      " 287 10/31/20        int64  \n",
      " 288 11/1/20         int64  \n",
      " 289 11/2/20         int64  \n",
      " 290 11/3/20         int64  \n",
      " 291 11/4/20         int64  \n",
      " 292 11/5/20         int64  \n",
      " 293 11/6/20         int64  \n",
      " 294 11/7/20         int64  \n",
      " 295 11/8/20         int64  \n",
      " 296 11/9/20         int64  \n",
      " 297 11/10/20        int64  \n",
      " 298 11/11/20        int64  \n",
      " 299 11/12/20        int64  \n",
      " 300 11/13/20        int64  \n",
      " 301 11/14/20        int64  \n",
      " 302 11/15/20        int64  \n",
      " 303 11/16/20        int64  \n",
      " 304 11/17/20        int64  \n",
      " 305 11/18/20        int64  \n",
      " 306 11/19/20        int64  \n",
      " 307 11/20/20        int64  \n",
      " 308 11/21/20        int64  \n",
      " 309 11/22/20        int64  \n",
      " 310 11/23/20        int64  \n",
      " 311 11/24/20        int64  \n",
      " 312 11/25/20        int64  \n",
      " 313 11/26/20        int64  \n",
      " 314 11/27/20        int64  \n",
      " 315 11/28/20        int64  \n",
      " 316 11/29/20        int64  \n",
      " 317 11/30/20        int64  \n",
      " 318 12/1/20         int64  \n",
      " 319 12/2/20         int64  \n",
      " 320 12/3/20         int64  \n",
      " 321 12/4/20         int64  \n",
      " 322 12/5/20         int64  \n",
      " 323 12/6/20         int64  \n",
      " 324 12/7/20         int64  \n",
      " 325 12/8/20         int64  \n",
      " 326 12/9/20         int64  \n",
      " 327 12/10/20        int64  \n",
      " 328 12/11/20        int64  \n",
      " 329 12/12/20        int64  \n",
      " 330 12/13/20        int64  \n",
      " 331 12/14/20        int64  \n",
      " 332 12/15/20        int64  \n",
      " 333 12/16/20        int64  \n",
      " 334 12/17/20        int64  \n",
      " 335 12/18/20        int64  \n",
      " 336 12/19/20        int64  \n",
      " 337 12/20/20        int64  \n",
      " 338 12/21/20        int64  \n",
      " 339 12/22/20        int64  \n",
      " 340 12/23/20        int64  \n",
      " 341 12/24/20        int64  \n",
      " 342 12/25/20        int64  \n",
      " 343 12/26/20        int64  \n",
      " 344 12/27/20        int64  \n",
      " 345 12/28/20        int64  \n",
      " 346 12/29/20        int64  \n",
      " 347 12/30/20        int64  \n",
      " 348 12/31/20        int64  \n",
      " 349 1/1/21          int64  \n",
      " 350 1/2/21          int64  \n",
      " 351 1/3/21          int64  \n",
      " 352 1/4/21          int64  \n",
      " 353 1/5/21          int64  \n",
      " 354 1/6/21          int64  \n",
      " 355 1/7/21          int64  \n",
      " 356 1/8/21          int64  \n",
      " 357 1/9/21          int64  \n",
      " 358 1/10/21         int64  \n",
      " 359 1/11/21         int64  \n",
      " 360 1/12/21         int64  \n",
      " 361 1/13/21         int64  \n",
      " 362 1/14/21         int64  \n",
      " 363 1/15/21         int64  \n",
      " 364 1/16/21         int64  \n",
      " 365 1/17/21         int64  \n",
      " 366 1/18/21         int64  \n",
      " 367 1/19/21         int64  \n",
      " 368 1/20/21         int64  \n",
      " 369 1/21/21         int64  \n",
      " 370 1/22/21         int64  \n",
      " 371 1/23/21         int64  \n",
      " 372 1/24/21         int64  \n",
      " 373 1/25/21         int64  \n",
      " 374 1/26/21         int64  \n",
      " 375 1/27/21         int64  \n",
      " 376 1/28/21         int64  \n",
      " 377 1/29/21         int64  \n",
      " 378 1/30/21         int64  \n",
      " 379 1/31/21         int64  \n",
      " 380 2/1/21          int64  \n",
      " 381 2/2/21          int64  \n",
      " 382 2/3/21          int64  \n",
      " 383 2/4/21          int64  \n",
      " 384 2/5/21          int64  \n",
      " 385 2/6/21          int64  \n",
      " 386 2/7/21          int64  \n",
      " 387 2/8/21          int64  \n",
      " 388 2/9/21          int64  \n",
      " 389 2/10/21         int64  \n",
      " 390 2/11/21         int64  \n",
      " 391 2/12/21         int64  \n",
      " 392 2/13/21         int64  \n",
      " 393 2/14/21         int64  \n",
      " 394 2/15/21         int64  \n",
      " 395 2/16/21         int64  \n",
      " 396 2/17/21         int64  \n",
      " 397 2/18/21         int64  \n",
      " 398 2/19/21         int64  \n",
      " 399 2/20/21         int64  \n",
      " 400 2/21/21         int64  \n",
      " 401 2/22/21         int64  \n",
      " 402 2/23/21         int64  \n",
      " 403 2/24/21         int64  \n",
      " 404 2/25/21         int64  \n",
      " 405 2/26/21         int64  \n",
      " 406 2/27/21         int64  \n",
      " 407 2/28/21         int64  \n",
      " 408 3/1/21          int64  \n",
      " 409 3/2/21          int64  \n",
      " 410 3/3/21          int64  \n",
      " 411 3/4/21          int64  \n",
      " 412 3/5/21          int64  \n",
      " 413 3/6/21          int64  \n",
      " 414 3/7/21          int64  \n",
      " 415 3/8/21          int64  \n",
      " 416 3/9/21          int64  \n",
      " 417 3/10/21         int64  \n",
      " 418 3/11/21         int64  \n",
      " 419 3/12/21         int64  \n",
      " 420 3/13/21         int64  \n",
      " 421 3/14/21         int64  \n",
      " 422 3/15/21         int64  \n",
      " 423 3/16/21         int64  \n",
      " 424 3/17/21         int64  \n",
      " 425 3/18/21         int64  \n",
      " 426 3/19/21         int64  \n",
      " 427 3/20/21         int64  \n",
      " 428 3/21/21         int64  \n",
      " 429 3/22/21         int64  \n",
      " 430 3/23/21         int64  \n",
      " 431 3/24/21         int64  \n",
      " 432 3/25/21         int64  \n",
      " 433 3/26/21         int64  \n",
      " 434 3/27/21         int64  \n",
      " 435 3/28/21         int64  \n",
      " 436 3/29/21         int64  \n",
      " 437 3/30/21         int64  \n",
      " 438 3/31/21         int64  \n",
      " 439 4/1/21          int64  \n",
      " 440 4/2/21          int64  \n",
      " 441 4/3/21          int64  \n",
      " 442 4/4/21          int64  \n",
      " 443 4/5/21          int64  \n",
      " 444 4/6/21          int64  \n",
      " 445 4/7/21          int64  \n",
      " 446 4/8/21          int64  \n",
      " 447 4/9/21          int64  \n",
      " 448 4/10/21         int64  \n",
      " 449 4/11/21         int64  \n",
      " 450 4/12/21         int64  \n",
      " 451 4/13/21         int64  \n",
      " 452 4/14/21         int64  \n",
      " 453 4/15/21         int64  \n",
      " 454 4/16/21         int64  \n",
      " 455 4/17/21         int64  \n",
      " 456 4/18/21         int64  \n",
      " 457 4/19/21         int64  \n",
      " 458 4/20/21         int64  \n",
      " 459 4/21/21         int64  \n",
      " 460 4/22/21         int64  \n",
      " 461 4/23/21         int64  \n",
      " 462 4/24/21         int64  \n",
      " 463 4/25/21         int64  \n",
      " 464 4/26/21         int64  \n",
      " 465 4/27/21         int64  \n",
      " 466 4/28/21         int64  \n",
      " 467 4/29/21         int64  \n",
      " 468 4/30/21         int64  \n",
      " 469 5/1/21          int64  \n",
      " 470 5/2/21          int64  \n",
      " 471 5/3/21          int64  \n",
      " 472 5/4/21          int64  \n",
      "dtypes: float64(2), int64(469), object(2)\n",
      "memory usage: 1016.3+ KB\n"
     ]
    }
   ],
   "source": [
    "# Checking for the data types of each column\n",
    "death_df.info('show')"
   ]
  },
  {
   "cell_type": "code",
   "execution_count": 9,
   "metadata": {
    "scrolled": true
   },
   "outputs": [
    {
     "name": "stdout",
     "output_type": "stream",
     "text": [
      "<class 'pandas.core.frame.DataFrame'>\n",
      "RangeIndex: 275 entries, 0 to 274\n",
      "Data columns (total 473 columns):\n",
      " #   Column          Dtype  \n",
      "---  ------          -----  \n",
      " 0   Province/State  object \n",
      " 1   Country/Region  object \n",
      " 2   Lat             float64\n",
      " 3   Long            float64\n",
      " 4   1/22/20         int64  \n",
      " 5   1/23/20         int64  \n",
      " 6   1/24/20         int64  \n",
      " 7   1/25/20         int64  \n",
      " 8   1/26/20         int64  \n",
      " 9   1/27/20         int64  \n",
      " 10  1/28/20         int64  \n",
      " 11  1/29/20         int64  \n",
      " 12  1/30/20         int64  \n",
      " 13  1/31/20         int64  \n",
      " 14  2/1/20          int64  \n",
      " 15  2/2/20          int64  \n",
      " 16  2/3/20          int64  \n",
      " 17  2/4/20          int64  \n",
      " 18  2/5/20          int64  \n",
      " 19  2/6/20          int64  \n",
      " 20  2/7/20          int64  \n",
      " 21  2/8/20          int64  \n",
      " 22  2/9/20          int64  \n",
      " 23  2/10/20         int64  \n",
      " 24  2/11/20         int64  \n",
      " 25  2/12/20         int64  \n",
      " 26  2/13/20         int64  \n",
      " 27  2/14/20         int64  \n",
      " 28  2/15/20         int64  \n",
      " 29  2/16/20         int64  \n",
      " 30  2/17/20         int64  \n",
      " 31  2/18/20         int64  \n",
      " 32  2/19/20         int64  \n",
      " 33  2/20/20         int64  \n",
      " 34  2/21/20         int64  \n",
      " 35  2/22/20         int64  \n",
      " 36  2/23/20         int64  \n",
      " 37  2/24/20         int64  \n",
      " 38  2/25/20         int64  \n",
      " 39  2/26/20         int64  \n",
      " 40  2/27/20         int64  \n",
      " 41  2/28/20         int64  \n",
      " 42  2/29/20         int64  \n",
      " 43  3/1/20          int64  \n",
      " 44  3/2/20          int64  \n",
      " 45  3/3/20          int64  \n",
      " 46  3/4/20          int64  \n",
      " 47  3/5/20          int64  \n",
      " 48  3/6/20          int64  \n",
      " 49  3/7/20          int64  \n",
      " 50  3/8/20          int64  \n",
      " 51  3/9/20          int64  \n",
      " 52  3/10/20         int64  \n",
      " 53  3/11/20         int64  \n",
      " 54  3/12/20         int64  \n",
      " 55  3/13/20         int64  \n",
      " 56  3/14/20         int64  \n",
      " 57  3/15/20         int64  \n",
      " 58  3/16/20         int64  \n",
      " 59  3/17/20         int64  \n",
      " 60  3/18/20         int64  \n",
      " 61  3/19/20         int64  \n",
      " 62  3/20/20         int64  \n",
      " 63  3/21/20         int64  \n",
      " 64  3/22/20         int64  \n",
      " 65  3/23/20         int64  \n",
      " 66  3/24/20         int64  \n",
      " 67  3/25/20         int64  \n",
      " 68  3/26/20         int64  \n",
      " 69  3/27/20         int64  \n",
      " 70  3/28/20         int64  \n",
      " 71  3/29/20         int64  \n",
      " 72  3/30/20         int64  \n",
      " 73  3/31/20         int64  \n",
      " 74  4/1/20          int64  \n",
      " 75  4/2/20          int64  \n",
      " 76  4/3/20          int64  \n",
      " 77  4/4/20          int64  \n",
      " 78  4/5/20          int64  \n",
      " 79  4/6/20          int64  \n",
      " 80  4/7/20          int64  \n",
      " 81  4/8/20          int64  \n",
      " 82  4/9/20          int64  \n",
      " 83  4/10/20         int64  \n",
      " 84  4/11/20         int64  \n",
      " 85  4/12/20         int64  \n",
      " 86  4/13/20         int64  \n",
      " 87  4/14/20         int64  \n",
      " 88  4/15/20         int64  \n",
      " 89  4/16/20         int64  \n",
      " 90  4/17/20         int64  \n",
      " 91  4/18/20         int64  \n",
      " 92  4/19/20         int64  \n",
      " 93  4/20/20         int64  \n",
      " 94  4/21/20         int64  \n",
      " 95  4/22/20         int64  \n",
      " 96  4/23/20         int64  \n",
      " 97  4/24/20         int64  \n",
      " 98  4/25/20         int64  \n",
      " 99  4/26/20         int64  \n",
      " 100 4/27/20         int64  \n",
      " 101 4/28/20         int64  \n",
      " 102 4/29/20         int64  \n",
      " 103 4/30/20         int64  \n",
      " 104 5/1/20          int64  \n",
      " 105 5/2/20          int64  \n",
      " 106 5/3/20          int64  \n",
      " 107 5/4/20          int64  \n",
      " 108 5/5/20          int64  \n",
      " 109 5/6/20          int64  \n",
      " 110 5/7/20          int64  \n",
      " 111 5/8/20          int64  \n",
      " 112 5/9/20          int64  \n",
      " 113 5/10/20         int64  \n",
      " 114 5/11/20         int64  \n",
      " 115 5/12/20         int64  \n",
      " 116 5/13/20         int64  \n",
      " 117 5/14/20         int64  \n",
      " 118 5/15/20         int64  \n",
      " 119 5/16/20         int64  \n",
      " 120 5/17/20         int64  \n",
      " 121 5/18/20         int64  \n",
      " 122 5/19/20         int64  \n",
      " 123 5/20/20         int64  \n",
      " 124 5/21/20         int64  \n",
      " 125 5/22/20         int64  \n",
      " 126 5/23/20         int64  \n",
      " 127 5/24/20         int64  \n",
      " 128 5/25/20         int64  \n",
      " 129 5/26/20         int64  \n",
      " 130 5/27/20         int64  \n",
      " 131 5/28/20         int64  \n",
      " 132 5/29/20         int64  \n",
      " 133 5/30/20         int64  \n",
      " 134 5/31/20         int64  \n",
      " 135 6/1/20          int64  \n",
      " 136 6/2/20          int64  \n",
      " 137 6/3/20          int64  \n",
      " 138 6/4/20          int64  \n",
      " 139 6/5/20          int64  \n",
      " 140 6/6/20          int64  \n",
      " 141 6/7/20          int64  \n",
      " 142 6/8/20          int64  \n",
      " 143 6/9/20          int64  \n",
      " 144 6/10/20         int64  \n",
      " 145 6/11/20         int64  \n",
      " 146 6/12/20         int64  \n",
      " 147 6/13/20         int64  \n",
      " 148 6/14/20         int64  \n",
      " 149 6/15/20         int64  \n",
      " 150 6/16/20         int64  \n",
      " 151 6/17/20         int64  \n",
      " 152 6/18/20         int64  \n",
      " 153 6/19/20         int64  \n",
      " 154 6/20/20         int64  \n",
      " 155 6/21/20         int64  \n",
      " 156 6/22/20         int64  \n",
      " 157 6/23/20         int64  \n",
      " 158 6/24/20         int64  \n",
      " 159 6/25/20         int64  \n",
      " 160 6/26/20         int64  \n",
      " 161 6/27/20         int64  \n",
      " 162 6/28/20         int64  \n",
      " 163 6/29/20         int64  \n",
      " 164 6/30/20         int64  \n",
      " 165 7/1/20          int64  \n",
      " 166 7/2/20          int64  \n",
      " 167 7/3/20          int64  \n",
      " 168 7/4/20          int64  \n",
      " 169 7/5/20          int64  \n",
      " 170 7/6/20          int64  \n",
      " 171 7/7/20          int64  \n",
      " 172 7/8/20          int64  \n",
      " 173 7/9/20          int64  \n",
      " 174 7/10/20         int64  \n",
      " 175 7/11/20         int64  \n",
      " 176 7/12/20         int64  \n",
      " 177 7/13/20         int64  \n",
      " 178 7/14/20         int64  \n",
      " 179 7/15/20         int64  \n",
      " 180 7/16/20         int64  \n",
      " 181 7/17/20         int64  \n",
      " 182 7/18/20         int64  \n",
      " 183 7/19/20         int64  \n",
      " 184 7/20/20         int64  \n",
      " 185 7/21/20         int64  \n",
      " 186 7/22/20         int64  \n",
      " 187 7/23/20         int64  \n",
      " 188 7/24/20         int64  \n",
      " 189 7/25/20         int64  \n",
      " 190 7/26/20         int64  \n",
      " 191 7/27/20         int64  \n",
      " 192 7/28/20         int64  \n",
      " 193 7/29/20         int64  \n",
      " 194 7/30/20         int64  \n",
      " 195 7/31/20         int64  \n",
      " 196 8/1/20          int64  \n",
      " 197 8/2/20          int64  \n",
      " 198 8/3/20          int64  \n",
      " 199 8/4/20          int64  \n",
      " 200 8/5/20          int64  \n",
      " 201 8/6/20          int64  \n",
      " 202 8/7/20          int64  \n",
      " 203 8/8/20          int64  \n",
      " 204 8/9/20          int64  \n",
      " 205 8/10/20         int64  \n",
      " 206 8/11/20         int64  \n",
      " 207 8/12/20         int64  \n",
      " 208 8/13/20         int64  \n",
      " 209 8/14/20         int64  \n",
      " 210 8/15/20         int64  \n",
      " 211 8/16/20         int64  \n",
      " 212 8/17/20         int64  \n",
      " 213 8/18/20         int64  \n",
      " 214 8/19/20         int64  \n",
      " 215 8/20/20         int64  \n",
      " 216 8/21/20         int64  \n",
      " 217 8/22/20         int64  \n",
      " 218 8/23/20         int64  \n",
      " 219 8/24/20         int64  \n",
      " 220 8/25/20         int64  \n",
      " 221 8/26/20         int64  \n",
      " 222 8/27/20         int64  \n",
      " 223 8/28/20         int64  \n",
      " 224 8/29/20         int64  \n",
      " 225 8/30/20         int64  \n",
      " 226 8/31/20         int64  \n",
      " 227 9/1/20          int64  \n",
      " 228 9/2/20          int64  \n",
      " 229 9/3/20          int64  \n",
      " 230 9/4/20          int64  \n",
      " 231 9/5/20          int64  \n",
      " 232 9/6/20          int64  \n",
      " 233 9/7/20          int64  \n",
      " 234 9/8/20          int64  \n",
      " 235 9/9/20          int64  \n",
      " 236 9/10/20         int64  \n",
      " 237 9/11/20         int64  \n",
      " 238 9/12/20         int64  \n",
      " 239 9/13/20         int64  \n",
      " 240 9/14/20         int64  \n",
      " 241 9/15/20         int64  \n",
      " 242 9/16/20         int64  \n",
      " 243 9/17/20         int64  \n",
      " 244 9/18/20         int64  \n",
      " 245 9/19/20         int64  \n",
      " 246 9/20/20         int64  \n",
      " 247 9/21/20         int64  \n",
      " 248 9/22/20         int64  \n",
      " 249 9/23/20         int64  \n",
      " 250 9/24/20         int64  \n",
      " 251 9/25/20         int64  \n",
      " 252 9/26/20         int64  \n",
      " 253 9/27/20         int64  \n",
      " 254 9/28/20         int64  \n",
      " 255 9/29/20         int64  \n",
      " 256 9/30/20         int64  \n",
      " 257 10/1/20         int64  \n",
      " 258 10/2/20         int64  \n",
      " 259 10/3/20         int64  \n",
      " 260 10/4/20         int64  \n",
      " 261 10/5/20         int64  \n",
      " 262 10/6/20         int64  \n",
      " 263 10/7/20         int64  \n",
      " 264 10/8/20         int64  \n",
      " 265 10/9/20         int64  \n",
      " 266 10/10/20        int64  \n",
      " 267 10/11/20        int64  \n",
      " 268 10/12/20        int64  \n",
      " 269 10/13/20        int64  \n",
      " 270 10/14/20        int64  \n",
      " 271 10/15/20        int64  \n",
      " 272 10/16/20        int64  \n",
      " 273 10/17/20        int64  \n",
      " 274 10/18/20        int64  \n",
      " 275 10/19/20        int64  \n",
      " 276 10/20/20        int64  \n",
      " 277 10/21/20        int64  \n",
      " 278 10/22/20        int64  \n",
      " 279 10/23/20        int64  \n",
      " 280 10/24/20        int64  \n",
      " 281 10/25/20        int64  \n",
      " 282 10/26/20        int64  \n",
      " 283 10/27/20        int64  \n",
      " 284 10/28/20        int64  \n",
      " 285 10/29/20        int64  \n",
      " 286 10/30/20        int64  \n",
      " 287 10/31/20        int64  \n",
      " 288 11/1/20         int64  \n",
      " 289 11/2/20         int64  \n",
      " 290 11/3/20         int64  \n",
      " 291 11/4/20         int64  \n",
      " 292 11/5/20         int64  \n",
      " 293 11/6/20         int64  \n",
      " 294 11/7/20         int64  \n",
      " 295 11/8/20         int64  \n",
      " 296 11/9/20         int64  \n",
      " 297 11/10/20        int64  \n",
      " 298 11/11/20        int64  \n",
      " 299 11/12/20        int64  \n",
      " 300 11/13/20        int64  \n",
      " 301 11/14/20        int64  \n",
      " 302 11/15/20        int64  \n",
      " 303 11/16/20        int64  \n",
      " 304 11/17/20        int64  \n",
      " 305 11/18/20        int64  \n",
      " 306 11/19/20        int64  \n",
      " 307 11/20/20        int64  \n",
      " 308 11/21/20        int64  \n",
      " 309 11/22/20        int64  \n",
      " 310 11/23/20        int64  \n",
      " 311 11/24/20        int64  \n",
      " 312 11/25/20        int64  \n",
      " 313 11/26/20        int64  \n",
      " 314 11/27/20        int64  \n",
      " 315 11/28/20        int64  \n",
      " 316 11/29/20        int64  \n",
      " 317 11/30/20        int64  \n",
      " 318 12/1/20         int64  \n",
      " 319 12/2/20         int64  \n",
      " 320 12/3/20         int64  \n",
      " 321 12/4/20         int64  \n",
      " 322 12/5/20         int64  \n",
      " 323 12/6/20         int64  \n",
      " 324 12/7/20         int64  \n",
      " 325 12/8/20         int64  \n",
      " 326 12/9/20         int64  \n",
      " 327 12/10/20        int64  \n",
      " 328 12/11/20        int64  \n",
      " 329 12/12/20        int64  \n",
      " 330 12/13/20        int64  \n",
      " 331 12/14/20        int64  \n",
      " 332 12/15/20        int64  \n",
      " 333 12/16/20        int64  \n",
      " 334 12/17/20        int64  \n",
      " 335 12/18/20        int64  \n",
      " 336 12/19/20        int64  \n",
      " 337 12/20/20        int64  \n",
      " 338 12/21/20        int64  \n",
      " 339 12/22/20        int64  \n",
      " 340 12/23/20        int64  \n",
      " 341 12/24/20        int64  \n",
      " 342 12/25/20        int64  \n",
      " 343 12/26/20        int64  \n",
      " 344 12/27/20        int64  \n",
      " 345 12/28/20        int64  \n",
      " 346 12/29/20        int64  \n",
      " 347 12/30/20        int64  \n",
      " 348 12/31/20        int64  \n",
      " 349 1/1/21          int64  \n",
      " 350 1/2/21          int64  \n",
      " 351 1/3/21          int64  \n",
      " 352 1/4/21          int64  \n",
      " 353 1/5/21          int64  \n",
      " 354 1/6/21          int64  \n",
      " 355 1/7/21          int64  \n",
      " 356 1/8/21          int64  \n",
      " 357 1/9/21          int64  \n",
      " 358 1/10/21         int64  \n",
      " 359 1/11/21         int64  \n",
      " 360 1/12/21         int64  \n",
      " 361 1/13/21         int64  \n",
      " 362 1/14/21         int64  \n",
      " 363 1/15/21         int64  \n",
      " 364 1/16/21         int64  \n",
      " 365 1/17/21         int64  \n",
      " 366 1/18/21         int64  \n",
      " 367 1/19/21         int64  \n",
      " 368 1/20/21         int64  \n",
      " 369 1/21/21         int64  \n",
      " 370 1/22/21         int64  \n",
      " 371 1/23/21         int64  \n",
      " 372 1/24/21         int64  \n",
      " 373 1/25/21         int64  \n",
      " 374 1/26/21         int64  \n",
      " 375 1/27/21         int64  \n",
      " 376 1/28/21         int64  \n",
      " 377 1/29/21         int64  \n",
      " 378 1/30/21         int64  \n",
      " 379 1/31/21         int64  \n",
      " 380 2/1/21          int64  \n",
      " 381 2/2/21          int64  \n",
      " 382 2/3/21          int64  \n",
      " 383 2/4/21          int64  \n",
      " 384 2/5/21          int64  \n",
      " 385 2/6/21          int64  \n",
      " 386 2/7/21          int64  \n",
      " 387 2/8/21          int64  \n",
      " 388 2/9/21          int64  \n",
      " 389 2/10/21         int64  \n",
      " 390 2/11/21         int64  \n",
      " 391 2/12/21         int64  \n",
      " 392 2/13/21         int64  \n",
      " 393 2/14/21         int64  \n",
      " 394 2/15/21         int64  \n",
      " 395 2/16/21         int64  \n",
      " 396 2/17/21         int64  \n",
      " 397 2/18/21         int64  \n",
      " 398 2/19/21         int64  \n",
      " 399 2/20/21         int64  \n",
      " 400 2/21/21         int64  \n",
      " 401 2/22/21         int64  \n",
      " 402 2/23/21         int64  \n",
      " 403 2/24/21         int64  \n",
      " 404 2/25/21         int64  \n",
      " 405 2/26/21         int64  \n",
      " 406 2/27/21         int64  \n",
      " 407 2/28/21         int64  \n",
      " 408 3/1/21          int64  \n",
      " 409 3/2/21          int64  \n",
      " 410 3/3/21          int64  \n",
      " 411 3/4/21          int64  \n",
      " 412 3/5/21          int64  \n",
      " 413 3/6/21          int64  \n",
      " 414 3/7/21          int64  \n",
      " 415 3/8/21          int64  \n",
      " 416 3/9/21          int64  \n",
      " 417 3/10/21         int64  \n",
      " 418 3/11/21         int64  \n",
      " 419 3/12/21         int64  \n",
      " 420 3/13/21         int64  \n",
      " 421 3/14/21         int64  \n",
      " 422 3/15/21         int64  \n",
      " 423 3/16/21         int64  \n",
      " 424 3/17/21         int64  \n",
      " 425 3/18/21         int64  \n",
      " 426 3/19/21         int64  \n",
      " 427 3/20/21         int64  \n",
      " 428 3/21/21         int64  \n",
      " 429 3/22/21         int64  \n",
      " 430 3/23/21         int64  \n",
      " 431 3/24/21         int64  \n",
      " 432 3/25/21         int64  \n",
      " 433 3/26/21         int64  \n",
      " 434 3/27/21         int64  \n",
      " 435 3/28/21         int64  \n",
      " 436 3/29/21         int64  \n",
      " 437 3/30/21         int64  \n",
      " 438 3/31/21         int64  \n",
      " 439 4/1/21          int64  \n",
      " 440 4/2/21          int64  \n",
      " 441 4/3/21          int64  \n",
      " 442 4/4/21          int64  \n",
      " 443 4/5/21          int64  \n",
      " 444 4/6/21          int64  \n",
      " 445 4/7/21          int64  \n",
      " 446 4/8/21          int64  \n",
      " 447 4/9/21          int64  \n",
      " 448 4/10/21         int64  \n",
      " 449 4/11/21         int64  \n",
      " 450 4/12/21         int64  \n",
      " 451 4/13/21         int64  \n",
      " 452 4/14/21         int64  \n",
      " 453 4/15/21         int64  \n",
      " 454 4/16/21         int64  \n",
      " 455 4/17/21         int64  \n",
      " 456 4/18/21         int64  \n",
      " 457 4/19/21         int64  \n",
      " 458 4/20/21         int64  \n",
      " 459 4/21/21         int64  \n",
      " 460 4/22/21         int64  \n",
      " 461 4/23/21         int64  \n",
      " 462 4/24/21         int64  \n",
      " 463 4/25/21         int64  \n",
      " 464 4/26/21         int64  \n",
      " 465 4/27/21         int64  \n",
      " 466 4/28/21         int64  \n",
      " 467 4/29/21         int64  \n",
      " 468 4/30/21         int64  \n",
      " 469 5/1/21          int64  \n",
      " 470 5/2/21          int64  \n",
      " 471 5/3/21          int64  \n",
      " 472 5/4/21          int64  \n",
      "dtypes: float64(2), int64(469), object(2)\n",
      "memory usage: 1016.3+ KB\n"
     ]
    }
   ],
   "source": [
    "# Checking for the data types of each column\n",
    "confirmed_df.info('show')"
   ]
  },
  {
   "cell_type": "code",
   "execution_count": 10,
   "metadata": {
    "scrolled": true
   },
   "outputs": [
    {
     "name": "stdout",
     "output_type": "stream",
     "text": [
      "<class 'pandas.core.frame.DataFrame'>\n",
      "RangeIndex: 260 entries, 0 to 259\n",
      "Data columns (total 473 columns):\n",
      " #   Column          Dtype  \n",
      "---  ------          -----  \n",
      " 0   Province/State  object \n",
      " 1   Country/Region  object \n",
      " 2   Lat             float64\n",
      " 3   Long            float64\n",
      " 4   1/22/20         int64  \n",
      " 5   1/23/20         int64  \n",
      " 6   1/24/20         int64  \n",
      " 7   1/25/20         int64  \n",
      " 8   1/26/20         int64  \n",
      " 9   1/27/20         int64  \n",
      " 10  1/28/20         int64  \n",
      " 11  1/29/20         int64  \n",
      " 12  1/30/20         int64  \n",
      " 13  1/31/20         int64  \n",
      " 14  2/1/20          int64  \n",
      " 15  2/2/20          int64  \n",
      " 16  2/3/20          int64  \n",
      " 17  2/4/20          int64  \n",
      " 18  2/5/20          int64  \n",
      " 19  2/6/20          int64  \n",
      " 20  2/7/20          int64  \n",
      " 21  2/8/20          int64  \n",
      " 22  2/9/20          int64  \n",
      " 23  2/10/20         int64  \n",
      " 24  2/11/20         int64  \n",
      " 25  2/12/20         int64  \n",
      " 26  2/13/20         int64  \n",
      " 27  2/14/20         int64  \n",
      " 28  2/15/20         int64  \n",
      " 29  2/16/20         int64  \n",
      " 30  2/17/20         int64  \n",
      " 31  2/18/20         int64  \n",
      " 32  2/19/20         int64  \n",
      " 33  2/20/20         int64  \n",
      " 34  2/21/20         int64  \n",
      " 35  2/22/20         int64  \n",
      " 36  2/23/20         int64  \n",
      " 37  2/24/20         int64  \n",
      " 38  2/25/20         int64  \n",
      " 39  2/26/20         int64  \n",
      " 40  2/27/20         int64  \n",
      " 41  2/28/20         int64  \n",
      " 42  2/29/20         int64  \n",
      " 43  3/1/20          int64  \n",
      " 44  3/2/20          int64  \n",
      " 45  3/3/20          int64  \n",
      " 46  3/4/20          int64  \n",
      " 47  3/5/20          int64  \n",
      " 48  3/6/20          int64  \n",
      " 49  3/7/20          int64  \n",
      " 50  3/8/20          int64  \n",
      " 51  3/9/20          int64  \n",
      " 52  3/10/20         int64  \n",
      " 53  3/11/20         int64  \n",
      " 54  3/12/20         int64  \n",
      " 55  3/13/20         int64  \n",
      " 56  3/14/20         int64  \n",
      " 57  3/15/20         int64  \n",
      " 58  3/16/20         int64  \n",
      " 59  3/17/20         int64  \n",
      " 60  3/18/20         int64  \n",
      " 61  3/19/20         int64  \n",
      " 62  3/20/20         int64  \n",
      " 63  3/21/20         int64  \n",
      " 64  3/22/20         int64  \n",
      " 65  3/23/20         int64  \n",
      " 66  3/24/20         int64  \n",
      " 67  3/25/20         int64  \n",
      " 68  3/26/20         int64  \n",
      " 69  3/27/20         int64  \n",
      " 70  3/28/20         int64  \n",
      " 71  3/29/20         int64  \n",
      " 72  3/30/20         int64  \n",
      " 73  3/31/20         int64  \n",
      " 74  4/1/20          int64  \n",
      " 75  4/2/20          int64  \n",
      " 76  4/3/20          int64  \n",
      " 77  4/4/20          int64  \n",
      " 78  4/5/20          int64  \n",
      " 79  4/6/20          int64  \n",
      " 80  4/7/20          int64  \n",
      " 81  4/8/20          int64  \n",
      " 82  4/9/20          int64  \n",
      " 83  4/10/20         int64  \n",
      " 84  4/11/20         int64  \n",
      " 85  4/12/20         int64  \n",
      " 86  4/13/20         int64  \n",
      " 87  4/14/20         int64  \n",
      " 88  4/15/20         int64  \n",
      " 89  4/16/20         int64  \n",
      " 90  4/17/20         int64  \n",
      " 91  4/18/20         int64  \n",
      " 92  4/19/20         int64  \n",
      " 93  4/20/20         int64  \n",
      " 94  4/21/20         int64  \n",
      " 95  4/22/20         int64  \n",
      " 96  4/23/20         int64  \n",
      " 97  4/24/20         int64  \n",
      " 98  4/25/20         int64  \n",
      " 99  4/26/20         int64  \n",
      " 100 4/27/20         int64  \n",
      " 101 4/28/20         int64  \n",
      " 102 4/29/20         int64  \n",
      " 103 4/30/20         int64  \n",
      " 104 5/1/20          int64  \n",
      " 105 5/2/20          int64  \n",
      " 106 5/3/20          int64  \n",
      " 107 5/4/20          int64  \n",
      " 108 5/5/20          int64  \n",
      " 109 5/6/20          int64  \n",
      " 110 5/7/20          int64  \n",
      " 111 5/8/20          int64  \n",
      " 112 5/9/20          int64  \n",
      " 113 5/10/20         int64  \n",
      " 114 5/11/20         int64  \n",
      " 115 5/12/20         int64  \n",
      " 116 5/13/20         int64  \n",
      " 117 5/14/20         int64  \n",
      " 118 5/15/20         int64  \n",
      " 119 5/16/20         int64  \n",
      " 120 5/17/20         int64  \n",
      " 121 5/18/20         int64  \n",
      " 122 5/19/20         int64  \n",
      " 123 5/20/20         int64  \n",
      " 124 5/21/20         int64  \n",
      " 125 5/22/20         int64  \n",
      " 126 5/23/20         int64  \n",
      " 127 5/24/20         int64  \n",
      " 128 5/25/20         int64  \n",
      " 129 5/26/20         int64  \n",
      " 130 5/27/20         int64  \n",
      " 131 5/28/20         int64  \n",
      " 132 5/29/20         int64  \n",
      " 133 5/30/20         int64  \n",
      " 134 5/31/20         int64  \n",
      " 135 6/1/20          int64  \n",
      " 136 6/2/20          int64  \n",
      " 137 6/3/20          int64  \n",
      " 138 6/4/20          int64  \n",
      " 139 6/5/20          int64  \n",
      " 140 6/6/20          int64  \n",
      " 141 6/7/20          int64  \n",
      " 142 6/8/20          int64  \n",
      " 143 6/9/20          int64  \n",
      " 144 6/10/20         int64  \n",
      " 145 6/11/20         int64  \n",
      " 146 6/12/20         int64  \n",
      " 147 6/13/20         int64  \n",
      " 148 6/14/20         int64  \n",
      " 149 6/15/20         int64  \n",
      " 150 6/16/20         int64  \n",
      " 151 6/17/20         int64  \n",
      " 152 6/18/20         int64  \n",
      " 153 6/19/20         int64  \n",
      " 154 6/20/20         int64  \n",
      " 155 6/21/20         int64  \n",
      " 156 6/22/20         int64  \n",
      " 157 6/23/20         int64  \n",
      " 158 6/24/20         int64  \n",
      " 159 6/25/20         int64  \n",
      " 160 6/26/20         int64  \n",
      " 161 6/27/20         int64  \n",
      " 162 6/28/20         int64  \n",
      " 163 6/29/20         int64  \n",
      " 164 6/30/20         int64  \n",
      " 165 7/1/20          int64  \n",
      " 166 7/2/20          int64  \n",
      " 167 7/3/20          int64  \n",
      " 168 7/4/20          int64  \n",
      " 169 7/5/20          int64  \n",
      " 170 7/6/20          int64  \n",
      " 171 7/7/20          int64  \n",
      " 172 7/8/20          int64  \n",
      " 173 7/9/20          int64  \n",
      " 174 7/10/20         int64  \n",
      " 175 7/11/20         int64  \n",
      " 176 7/12/20         int64  \n",
      " 177 7/13/20         int64  \n",
      " 178 7/14/20         int64  \n",
      " 179 7/15/20         int64  \n",
      " 180 7/16/20         int64  \n",
      " 181 7/17/20         int64  \n",
      " 182 7/18/20         int64  \n",
      " 183 7/19/20         int64  \n",
      " 184 7/20/20         int64  \n",
      " 185 7/21/20         int64  \n",
      " 186 7/22/20         int64  \n",
      " 187 7/23/20         int64  \n",
      " 188 7/24/20         int64  \n",
      " 189 7/25/20         int64  \n",
      " 190 7/26/20         int64  \n",
      " 191 7/27/20         int64  \n",
      " 192 7/28/20         int64  \n",
      " 193 7/29/20         int64  \n",
      " 194 7/30/20         int64  \n",
      " 195 7/31/20         int64  \n",
      " 196 8/1/20          int64  \n",
      " 197 8/2/20          int64  \n",
      " 198 8/3/20          int64  \n",
      " 199 8/4/20          int64  \n",
      " 200 8/5/20          int64  \n",
      " 201 8/6/20          int64  \n",
      " 202 8/7/20          int64  \n",
      " 203 8/8/20          int64  \n",
      " 204 8/9/20          int64  \n",
      " 205 8/10/20         int64  \n",
      " 206 8/11/20         int64  \n",
      " 207 8/12/20         int64  \n",
      " 208 8/13/20         int64  \n",
      " 209 8/14/20         int64  \n",
      " 210 8/15/20         int64  \n",
      " 211 8/16/20         int64  \n",
      " 212 8/17/20         int64  \n",
      " 213 8/18/20         int64  \n",
      " 214 8/19/20         int64  \n",
      " 215 8/20/20         int64  \n",
      " 216 8/21/20         int64  \n",
      " 217 8/22/20         int64  \n",
      " 218 8/23/20         int64  \n",
      " 219 8/24/20         int64  \n",
      " 220 8/25/20         int64  \n",
      " 221 8/26/20         int64  \n",
      " 222 8/27/20         int64  \n",
      " 223 8/28/20         int64  \n",
      " 224 8/29/20         int64  \n",
      " 225 8/30/20         int64  \n",
      " 226 8/31/20         int64  \n",
      " 227 9/1/20          int64  \n",
      " 228 9/2/20          int64  \n",
      " 229 9/3/20          int64  \n",
      " 230 9/4/20          int64  \n",
      " 231 9/5/20          int64  \n",
      " 232 9/6/20          int64  \n",
      " 233 9/7/20          int64  \n",
      " 234 9/8/20          int64  \n",
      " 235 9/9/20          int64  \n",
      " 236 9/10/20         int64  \n",
      " 237 9/11/20         int64  \n",
      " 238 9/12/20         int64  \n",
      " 239 9/13/20         int64  \n",
      " 240 9/14/20         int64  \n",
      " 241 9/15/20         int64  \n",
      " 242 9/16/20         int64  \n",
      " 243 9/17/20         int64  \n",
      " 244 9/18/20         int64  \n",
      " 245 9/19/20         int64  \n",
      " 246 9/20/20         int64  \n",
      " 247 9/21/20         int64  \n",
      " 248 9/22/20         int64  \n",
      " 249 9/23/20         int64  \n",
      " 250 9/24/20         int64  \n",
      " 251 9/25/20         int64  \n",
      " 252 9/26/20         int64  \n",
      " 253 9/27/20         int64  \n",
      " 254 9/28/20         int64  \n",
      " 255 9/29/20         int64  \n",
      " 256 9/30/20         int64  \n",
      " 257 10/1/20         int64  \n",
      " 258 10/2/20         int64  \n",
      " 259 10/3/20         int64  \n",
      " 260 10/4/20         int64  \n",
      " 261 10/5/20         int64  \n",
      " 262 10/6/20         int64  \n",
      " 263 10/7/20         int64  \n",
      " 264 10/8/20         int64  \n",
      " 265 10/9/20         int64  \n",
      " 266 10/10/20        int64  \n",
      " 267 10/11/20        int64  \n",
      " 268 10/12/20        int64  \n",
      " 269 10/13/20        int64  \n",
      " 270 10/14/20        int64  \n",
      " 271 10/15/20        int64  \n",
      " 272 10/16/20        int64  \n",
      " 273 10/17/20        int64  \n",
      " 274 10/18/20        int64  \n",
      " 275 10/19/20        int64  \n",
      " 276 10/20/20        int64  \n",
      " 277 10/21/20        int64  \n",
      " 278 10/22/20        int64  \n",
      " 279 10/23/20        int64  \n",
      " 280 10/24/20        int64  \n",
      " 281 10/25/20        int64  \n",
      " 282 10/26/20        int64  \n",
      " 283 10/27/20        int64  \n",
      " 284 10/28/20        int64  \n",
      " 285 10/29/20        int64  \n",
      " 286 10/30/20        int64  \n",
      " 287 10/31/20        int64  \n",
      " 288 11/1/20         int64  \n",
      " 289 11/2/20         int64  \n",
      " 290 11/3/20         int64  \n",
      " 291 11/4/20         int64  \n",
      " 292 11/5/20         int64  \n",
      " 293 11/6/20         int64  \n",
      " 294 11/7/20         int64  \n",
      " 295 11/8/20         int64  \n",
      " 296 11/9/20         int64  \n",
      " 297 11/10/20        int64  \n",
      " 298 11/11/20        int64  \n",
      " 299 11/12/20        int64  \n",
      " 300 11/13/20        int64  \n",
      " 301 11/14/20        int64  \n",
      " 302 11/15/20        int64  \n",
      " 303 11/16/20        int64  \n",
      " 304 11/17/20        int64  \n",
      " 305 11/18/20        int64  \n",
      " 306 11/19/20        int64  \n",
      " 307 11/20/20        int64  \n",
      " 308 11/21/20        int64  \n",
      " 309 11/22/20        int64  \n",
      " 310 11/23/20        int64  \n",
      " 311 11/24/20        int64  \n",
      " 312 11/25/20        int64  \n",
      " 313 11/26/20        int64  \n",
      " 314 11/27/20        int64  \n",
      " 315 11/28/20        int64  \n",
      " 316 11/29/20        int64  \n",
      " 317 11/30/20        int64  \n",
      " 318 12/1/20         int64  \n",
      " 319 12/2/20         int64  \n",
      " 320 12/3/20         int64  \n",
      " 321 12/4/20         int64  \n",
      " 322 12/5/20         int64  \n",
      " 323 12/6/20         int64  \n",
      " 324 12/7/20         int64  \n",
      " 325 12/8/20         int64  \n",
      " 326 12/9/20         int64  \n",
      " 327 12/10/20        int64  \n",
      " 328 12/11/20        int64  \n",
      " 329 12/12/20        int64  \n",
      " 330 12/13/20        int64  \n",
      " 331 12/14/20        int64  \n",
      " 332 12/15/20        int64  \n",
      " 333 12/16/20        int64  \n",
      " 334 12/17/20        int64  \n",
      " 335 12/18/20        int64  \n",
      " 336 12/19/20        int64  \n",
      " 337 12/20/20        int64  \n",
      " 338 12/21/20        int64  \n",
      " 339 12/22/20        int64  \n",
      " 340 12/23/20        int64  \n",
      " 341 12/24/20        int64  \n",
      " 342 12/25/20        int64  \n",
      " 343 12/26/20        int64  \n",
      " 344 12/27/20        int64  \n",
      " 345 12/28/20        int64  \n",
      " 346 12/29/20        int64  \n",
      " 347 12/30/20        int64  \n",
      " 348 12/31/20        int64  \n",
      " 349 1/1/21          int64  \n",
      " 350 1/2/21          int64  \n",
      " 351 1/3/21          int64  \n",
      " 352 1/4/21          int64  \n",
      " 353 1/5/21          int64  \n",
      " 354 1/6/21          int64  \n",
      " 355 1/7/21          int64  \n",
      " 356 1/8/21          int64  \n",
      " 357 1/9/21          int64  \n",
      " 358 1/10/21         int64  \n",
      " 359 1/11/21         int64  \n",
      " 360 1/12/21         int64  \n",
      " 361 1/13/21         int64  \n",
      " 362 1/14/21         int64  \n",
      " 363 1/15/21         int64  \n",
      " 364 1/16/21         int64  \n",
      " 365 1/17/21         int64  \n",
      " 366 1/18/21         int64  \n",
      " 367 1/19/21         int64  \n",
      " 368 1/20/21         int64  \n",
      " 369 1/21/21         int64  \n",
      " 370 1/22/21         int64  \n",
      " 371 1/23/21         int64  \n",
      " 372 1/24/21         int64  \n",
      " 373 1/25/21         int64  \n",
      " 374 1/26/21         int64  \n",
      " 375 1/27/21         int64  \n",
      " 376 1/28/21         int64  \n",
      " 377 1/29/21         int64  \n",
      " 378 1/30/21         int64  \n",
      " 379 1/31/21         int64  \n",
      " 380 2/1/21          int64  \n",
      " 381 2/2/21          int64  \n",
      " 382 2/3/21          int64  \n",
      " 383 2/4/21          int64  \n",
      " 384 2/5/21          int64  \n",
      " 385 2/6/21          int64  \n",
      " 386 2/7/21          int64  \n",
      " 387 2/8/21          int64  \n",
      " 388 2/9/21          int64  \n",
      " 389 2/10/21         int64  \n",
      " 390 2/11/21         int64  \n",
      " 391 2/12/21         int64  \n",
      " 392 2/13/21         int64  \n",
      " 393 2/14/21         int64  \n",
      " 394 2/15/21         int64  \n",
      " 395 2/16/21         int64  \n",
      " 396 2/17/21         int64  \n",
      " 397 2/18/21         int64  \n",
      " 398 2/19/21         int64  \n",
      " 399 2/20/21         int64  \n",
      " 400 2/21/21         int64  \n",
      " 401 2/22/21         int64  \n",
      " 402 2/23/21         int64  \n",
      " 403 2/24/21         int64  \n",
      " 404 2/25/21         int64  \n",
      " 405 2/26/21         int64  \n",
      " 406 2/27/21         int64  \n",
      " 407 2/28/21         int64  \n",
      " 408 3/1/21          int64  \n",
      " 409 3/2/21          int64  \n",
      " 410 3/3/21          int64  \n",
      " 411 3/4/21          int64  \n",
      " 412 3/5/21          int64  \n",
      " 413 3/6/21          int64  \n",
      " 414 3/7/21          int64  \n",
      " 415 3/8/21          int64  \n",
      " 416 3/9/21          int64  \n",
      " 417 3/10/21         int64  \n",
      " 418 3/11/21         int64  \n",
      " 419 3/12/21         int64  \n",
      " 420 3/13/21         int64  \n",
      " 421 3/14/21         int64  \n",
      " 422 3/15/21         int64  \n",
      " 423 3/16/21         int64  \n",
      " 424 3/17/21         int64  \n",
      " 425 3/18/21         int64  \n",
      " 426 3/19/21         int64  \n",
      " 427 3/20/21         int64  \n",
      " 428 3/21/21         int64  \n",
      " 429 3/22/21         int64  \n",
      " 430 3/23/21         int64  \n",
      " 431 3/24/21         int64  \n",
      " 432 3/25/21         int64  \n",
      " 433 3/26/21         int64  \n",
      " 434 3/27/21         int64  \n",
      " 435 3/28/21         int64  \n",
      " 436 3/29/21         int64  \n",
      " 437 3/30/21         int64  \n",
      " 438 3/31/21         int64  \n",
      " 439 4/1/21          int64  \n",
      " 440 4/2/21          int64  \n",
      " 441 4/3/21          int64  \n",
      " 442 4/4/21          int64  \n",
      " 443 4/5/21          int64  \n",
      " 444 4/6/21          int64  \n",
      " 445 4/7/21          int64  \n",
      " 446 4/8/21          int64  \n",
      " 447 4/9/21          int64  \n",
      " 448 4/10/21         int64  \n",
      " 449 4/11/21         int64  \n",
      " 450 4/12/21         int64  \n",
      " 451 4/13/21         int64  \n",
      " 452 4/14/21         int64  \n",
      " 453 4/15/21         int64  \n",
      " 454 4/16/21         int64  \n",
      " 455 4/17/21         int64  \n",
      " 456 4/18/21         int64  \n",
      " 457 4/19/21         int64  \n",
      " 458 4/20/21         int64  \n",
      " 459 4/21/21         int64  \n",
      " 460 4/22/21         int64  \n",
      " 461 4/23/21         int64  \n",
      " 462 4/24/21         int64  \n",
      " 463 4/25/21         int64  \n",
      " 464 4/26/21         int64  \n",
      " 465 4/27/21         int64  \n",
      " 466 4/28/21         int64  \n",
      " 467 4/29/21         int64  \n",
      " 468 4/30/21         int64  \n",
      " 469 5/1/21          int64  \n",
      " 470 5/2/21          int64  \n",
      " 471 5/3/21          int64  \n",
      " 472 5/4/21          int64  \n",
      "dtypes: float64(2), int64(469), object(2)\n",
      "memory usage: 960.9+ KB\n"
     ]
    }
   ],
   "source": [
    "# Checking for the data types of each column\n",
    "recovered_df.info('show')"
   ]
  },
  {
   "cell_type": "code",
   "execution_count": 11,
   "metadata": {},
   "outputs": [
    {
     "data": {
      "text/plain": [
       "China                    34\n",
       "Canada                   16\n",
       "United Kingdom           12\n",
       "France                   12\n",
       "Australia                 8\n",
       "                         ..\n",
       "Korea, South              1\n",
       "Saint Kitts and Nevis     1\n",
       "Brazil                    1\n",
       "Mauritania                1\n",
       "Chile                     1\n",
       "Name: Country/Region, Length: 192, dtype: int64"
      ]
     },
     "execution_count": 11,
     "metadata": {},
     "output_type": "execute_result"
    }
   ],
   "source": [
    "# Checking for the distribution of data\n",
    "confirmed_df['Country/Region'].value_counts()"
   ]
  },
  {
   "cell_type": "markdown",
   "metadata": {},
   "source": [
    "# Preparing the data"
   ]
  },
  {
   "cell_type": "code",
   "execution_count": 12,
   "metadata": {},
   "outputs": [],
   "source": [
    "# Converting the columns names to lower case\n",
    "death_df.columns = map(str.lower,death_df.columns)\n",
    "confirmed_df.columns = map(str.lower,confirmed_df.columns)\n",
    "recovered_df.columns = map(str.lower,recovered_df.columns)\n",
    "country_df.columns = map(str.lower,country_df.columns)"
   ]
  },
  {
   "cell_type": "code",
   "execution_count": 13,
   "metadata": {},
   "outputs": [],
   "source": [
    "# Renaming some of the columns for easy handling\n",
    "death_df = death_df.rename(columns={'province/state': 'state', 'country/region': 'country'})\n",
    "confirmed_df = confirmed_df.rename(columns={'province/state': 'state', 'country/region': 'country'})\n",
    "recovered_df = recovered_df.rename(columns={'province/state': 'state', 'country/region': 'country'})\n",
    "country_df = country_df.rename(columns={'country_region': 'country'})"
   ]
  },
  {
   "cell_type": "markdown",
   "metadata": {},
   "source": [
    "# Feature Engineering\n",
    "### Confirmed/Death/Recovered New Cases"
   ]
  },
  {
   "cell_type": "code",
   "execution_count": 14,
   "metadata": {},
   "outputs": [],
   "source": [
    "# Creating a new feature \"NewCases\" to capture the difference between the last/latest day count and 2nd last day count\n",
    "confirmed_df.insert(4,'NewCases',0)\n",
    "confirmed_df['NewCases'] = confirmed_df.iloc[:,-1] - confirmed_df.iloc[:,-2]"
   ]
  },
  {
   "cell_type": "code",
   "execution_count": 15,
   "metadata": {},
   "outputs": [],
   "source": [
    "# Creating a new feature \"NewCases\" to capture the difference between the last/latest day count and 2nd last day count\n",
    "recovered_df.insert(4,'NewCases',0)\n",
    "recovered_df['NewCases'] = recovered_df.iloc[:,-1] - recovered_df.iloc[:,-2]"
   ]
  },
  {
   "cell_type": "code",
   "execution_count": 16,
   "metadata": {},
   "outputs": [],
   "source": [
    "# Creating a new feature \"NewCases\" to capture the difference between the last/latest day count and 2nd last day count\n",
    "death_df.insert(4,'NewCases',0)\n",
    "death_df['NewCases'] = death_df.iloc[:,-1] - death_df.iloc[:,-2]"
   ]
  },
  {
   "cell_type": "markdown",
   "metadata": {},
   "source": [
    "## Overal Worldwide Counts"
   ]
  },
  {
   "cell_type": "code",
   "execution_count": 17,
   "metadata": {},
   "outputs": [
    {
     "data": {
      "text/plain": [
       "153977028.0"
      ]
     },
     "execution_count": 17,
     "metadata": {},
     "output_type": "execute_result"
    }
   ],
   "source": [
    "# Summing up the total confirmed cases across countries\n",
    "confirmed_total = country_df['confirmed'].sum()\n",
    "confirmed_total"
   ]
  },
  {
   "cell_type": "code",
   "execution_count": 18,
   "metadata": {},
   "outputs": [
    {
     "data": {
      "text/plain": [
       "3223800.0"
      ]
     },
     "execution_count": 18,
     "metadata": {},
     "output_type": "execute_result"
    }
   ],
   "source": [
    "# Summing up the total deaths cases across countries\n",
    "deaths_total = country_df['deaths'].sum()\n",
    "deaths_total"
   ]
  },
  {
   "cell_type": "code",
   "execution_count": 19,
   "metadata": {},
   "outputs": [
    {
     "data": {
      "text/plain": [
       "90574575.0"
      ]
     },
     "execution_count": 19,
     "metadata": {},
     "output_type": "execute_result"
    }
   ],
   "source": [
    "# Summing up the total recovered cases across countries\n",
    "recovered_total = country_df['recovered'].sum()\n",
    "recovered_total"
   ]
  },
  {
   "cell_type": "code",
   "execution_count": 20,
   "metadata": {},
   "outputs": [
    {
     "data": {
      "text/plain": [
       "28244559.0"
      ]
     },
     "execution_count": 20,
     "metadata": {},
     "output_type": "execute_result"
    }
   ],
   "source": [
    "# Summing up the total active cases across countries\n",
    "active_total = country_df['active'].sum()\n",
    "active_total"
   ]
  },
  {
   "cell_type": "code",
   "execution_count": 21,
   "metadata": {
    "scrolled": true
   },
   "outputs": [
    {
     "data": {
      "text/html": [
       "<div style = 'background-color: #504e4e; padding: 32px '><span style='color: #fff; font-size:32px;'> Confirmed: 153977028.0</span><span style='color: red; font-size:32px;margin-left:22px;'> Deaths: 3223800.0</span><span style='color: lightgreen; font-size:32px; margin-left:22px;'> Recovered: 90574575.0</span><span style='color: #fff; font-size:32px; margin-left:22px;'> Active: 28244559.0</span></div>"
      ],
      "text/plain": [
       "<IPython.core.display.HTML object>"
      ]
     },
     "metadata": {},
     "output_type": "display_data"
    }
   ],
   "source": [
    "# displaying the current total stats\n",
    "\n",
    "display(HTML(\"<div style = 'background-color: #504e4e; padding: 32px '>\" +\n",
    "             \"<span style='color: #fff; font-size:32px;'> Confirmed: \"  + str(confirmed_total) +\"</span>\" +\n",
    "             \"<span style='color: red; font-size:32px;margin-left:22px;'> Deaths: \" + str(deaths_total) + \"</span>\"+\n",
    "             \"<span style='color: lightgreen; font-size:32px; margin-left:22px;'> Recovered: \" + str(recovered_total) + \"</span>\"+\n",
    "             \"<span style='color: #fff; font-size:32px; margin-left:22px;'> Active: \"  + str(active_total) +\"</span>\" +\n",
    "             \"</div>\")\n",
    "       )"
   ]
  },
  {
   "cell_type": "markdown",
   "metadata": {},
   "source": [
    "# Data Visualization through Bubble Charts"
   ]
  },
  {
   "cell_type": "markdown",
   "metadata": {},
   "source": [
    "### Latest Count of Confirmed New Cases"
   ]
  },
  {
   "cell_type": "code",
   "execution_count": 22,
   "metadata": {
    "scrolled": false
   },
   "outputs": [
    {
     "data": {
      "text/html": [
       "<div>\n",
       "<style scoped>\n",
       "    .dataframe tbody tr th:only-of-type {\n",
       "        vertical-align: middle;\n",
       "    }\n",
       "\n",
       "    .dataframe tbody tr th {\n",
       "        vertical-align: top;\n",
       "    }\n",
       "\n",
       "    .dataframe thead th {\n",
       "        text-align: right;\n",
       "    }\n",
       "</style>\n",
       "<table border=\"1\" class=\"dataframe\">\n",
       "  <thead>\n",
       "    <tr style=\"text-align: right;\">\n",
       "      <th></th>\n",
       "      <th>state</th>\n",
       "      <th>country</th>\n",
       "      <th>lat</th>\n",
       "      <th>long</th>\n",
       "      <th>NewCases</th>\n",
       "      <th>1/22/20</th>\n",
       "      <th>1/23/20</th>\n",
       "      <th>1/24/20</th>\n",
       "      <th>1/25/20</th>\n",
       "      <th>1/26/20</th>\n",
       "      <th>...</th>\n",
       "      <th>4/25/21</th>\n",
       "      <th>4/26/21</th>\n",
       "      <th>4/27/21</th>\n",
       "      <th>4/28/21</th>\n",
       "      <th>4/29/21</th>\n",
       "      <th>4/30/21</th>\n",
       "      <th>5/1/21</th>\n",
       "      <th>5/2/21</th>\n",
       "      <th>5/3/21</th>\n",
       "      <th>5/4/21</th>\n",
       "    </tr>\n",
       "  </thead>\n",
       "  <tbody>\n",
       "    <tr>\n",
       "      <th>0</th>\n",
       "      <td>NaN</td>\n",
       "      <td>Afghanistan</td>\n",
       "      <td>33.93911</td>\n",
       "      <td>67.709953</td>\n",
       "      <td>263</td>\n",
       "      <td>0</td>\n",
       "      <td>0</td>\n",
       "      <td>0</td>\n",
       "      <td>0</td>\n",
       "      <td>0</td>\n",
       "      <td>...</td>\n",
       "      <td>58843</td>\n",
       "      <td>59015</td>\n",
       "      <td>59225</td>\n",
       "      <td>59370</td>\n",
       "      <td>59576</td>\n",
       "      <td>59745</td>\n",
       "      <td>59939</td>\n",
       "      <td>60122</td>\n",
       "      <td>60300</td>\n",
       "      <td>60563</td>\n",
       "    </tr>\n",
       "    <tr>\n",
       "      <th>1</th>\n",
       "      <td>NaN</td>\n",
       "      <td>Albania</td>\n",
       "      <td>41.15330</td>\n",
       "      <td>20.168300</td>\n",
       "      <td>51</td>\n",
       "      <td>0</td>\n",
       "      <td>0</td>\n",
       "      <td>0</td>\n",
       "      <td>0</td>\n",
       "      <td>0</td>\n",
       "      <td>...</td>\n",
       "      <td>130537</td>\n",
       "      <td>130606</td>\n",
       "      <td>130736</td>\n",
       "      <td>130859</td>\n",
       "      <td>130977</td>\n",
       "      <td>131085</td>\n",
       "      <td>131185</td>\n",
       "      <td>131238</td>\n",
       "      <td>131276</td>\n",
       "      <td>131327</td>\n",
       "    </tr>\n",
       "    <tr>\n",
       "      <th>2</th>\n",
       "      <td>NaN</td>\n",
       "      <td>Algeria</td>\n",
       "      <td>28.03390</td>\n",
       "      <td>1.659600</td>\n",
       "      <td>282</td>\n",
       "      <td>0</td>\n",
       "      <td>0</td>\n",
       "      <td>0</td>\n",
       "      <td>0</td>\n",
       "      <td>0</td>\n",
       "      <td>...</td>\n",
       "      <td>120922</td>\n",
       "      <td>121112</td>\n",
       "      <td>121344</td>\n",
       "      <td>121580</td>\n",
       "      <td>121866</td>\n",
       "      <td>122108</td>\n",
       "      <td>122311</td>\n",
       "      <td>122522</td>\n",
       "      <td>122717</td>\n",
       "      <td>122999</td>\n",
       "    </tr>\n",
       "    <tr>\n",
       "      <th>3</th>\n",
       "      <td>NaN</td>\n",
       "      <td>Andorra</td>\n",
       "      <td>42.50630</td>\n",
       "      <td>1.521800</td>\n",
       "      <td>21</td>\n",
       "      <td>0</td>\n",
       "      <td>0</td>\n",
       "      <td>0</td>\n",
       "      <td>0</td>\n",
       "      <td>0</td>\n",
       "      <td>...</td>\n",
       "      <td>13060</td>\n",
       "      <td>13083</td>\n",
       "      <td>13121</td>\n",
       "      <td>13148</td>\n",
       "      <td>13198</td>\n",
       "      <td>13232</td>\n",
       "      <td>13232</td>\n",
       "      <td>13282</td>\n",
       "      <td>13295</td>\n",
       "      <td>13316</td>\n",
       "    </tr>\n",
       "    <tr>\n",
       "      <th>4</th>\n",
       "      <td>NaN</td>\n",
       "      <td>Angola</td>\n",
       "      <td>-11.20270</td>\n",
       "      <td>17.873900</td>\n",
       "      <td>151</td>\n",
       "      <td>0</td>\n",
       "      <td>0</td>\n",
       "      <td>0</td>\n",
       "      <td>0</td>\n",
       "      <td>0</td>\n",
       "      <td>...</td>\n",
       "      <td>25609</td>\n",
       "      <td>25710</td>\n",
       "      <td>25942</td>\n",
       "      <td>26168</td>\n",
       "      <td>26431</td>\n",
       "      <td>26652</td>\n",
       "      <td>26815</td>\n",
       "      <td>26993</td>\n",
       "      <td>27133</td>\n",
       "      <td>27284</td>\n",
       "    </tr>\n",
       "  </tbody>\n",
       "</table>\n",
       "<p>5 rows × 474 columns</p>\n",
       "</div>"
      ],
      "text/plain": [
       "  state      country       lat       long  NewCases  1/22/20  1/23/20  \\\n",
       "0   NaN  Afghanistan  33.93911  67.709953       263        0        0   \n",
       "1   NaN      Albania  41.15330  20.168300        51        0        0   \n",
       "2   NaN      Algeria  28.03390   1.659600       282        0        0   \n",
       "3   NaN      Andorra  42.50630   1.521800        21        0        0   \n",
       "4   NaN       Angola -11.20270  17.873900       151        0        0   \n",
       "\n",
       "   1/24/20  1/25/20  1/26/20  ...  4/25/21  4/26/21  4/27/21  4/28/21  \\\n",
       "0        0        0        0  ...    58843    59015    59225    59370   \n",
       "1        0        0        0  ...   130537   130606   130736   130859   \n",
       "2        0        0        0  ...   120922   121112   121344   121580   \n",
       "3        0        0        0  ...    13060    13083    13121    13148   \n",
       "4        0        0        0  ...    25609    25710    25942    26168   \n",
       "\n",
       "   4/29/21  4/30/21  5/1/21  5/2/21  5/3/21  5/4/21  \n",
       "0    59576    59745   59939   60122   60300   60563  \n",
       "1   130977   131085  131185  131238  131276  131327  \n",
       "2   121866   122108  122311  122522  122717  122999  \n",
       "3    13198    13232   13232   13282   13295   13316  \n",
       "4    26431    26652   26815   26993   27133   27284  \n",
       "\n",
       "[5 rows x 474 columns]"
      ]
     },
     "execution_count": 22,
     "metadata": {},
     "output_type": "execute_result"
    }
   ],
   "source": [
    "# Printing some rows\n",
    "confirmed_df.head()"
   ]
  },
  {
   "cell_type": "code",
   "execution_count": 23,
   "metadata": {
    "scrolled": true
   },
   "outputs": [
    {
     "data": {
      "text/plain": [
       "country\n",
       "Afghanistan           263\n",
       "Albania                51\n",
       "Algeria               282\n",
       "Andorra                21\n",
       "Angola                151\n",
       "                     ... \n",
       "Vietnam                10\n",
       "West Bank and Gaza    718\n",
       "Yemen                  27\n",
       "Zambia                 82\n",
       "Zimbabwe               34\n",
       "Name: NewCases, Length: 192, dtype: int64"
      ]
     },
     "execution_count": 23,
     "metadata": {},
     "output_type": "execute_result"
    }
   ],
   "source": [
    "# To understand how groupby clause works\n",
    "confirmed_df.groupby(\"country\")['NewCases'].sum()"
   ]
  },
  {
   "cell_type": "code",
   "execution_count": 24,
   "metadata": {
    "scrolled": true
   },
   "outputs": [
    {
     "data": {
      "text/html": [
       "<div>\n",
       "<style scoped>\n",
       "    .dataframe tbody tr th:only-of-type {\n",
       "        vertical-align: middle;\n",
       "    }\n",
       "\n",
       "    .dataframe tbody tr th {\n",
       "        vertical-align: top;\n",
       "    }\n",
       "\n",
       "    .dataframe thead th {\n",
       "        text-align: right;\n",
       "    }\n",
       "</style>\n",
       "<table border=\"1\" class=\"dataframe\">\n",
       "  <thead>\n",
       "    <tr style=\"text-align: right;\">\n",
       "      <th></th>\n",
       "      <th>country</th>\n",
       "      <th>TotalNewCases</th>\n",
       "    </tr>\n",
       "  </thead>\n",
       "  <tbody>\n",
       "    <tr>\n",
       "      <th>23</th>\n",
       "      <td>Brazil</td>\n",
       "      <td>77359</td>\n",
       "    </tr>\n",
       "    <tr>\n",
       "      <th>178</th>\n",
       "      <td>US</td>\n",
       "      <td>40374</td>\n",
       "    </tr>\n",
       "    <tr>\n",
       "      <th>177</th>\n",
       "      <td>Turkey</td>\n",
       "      <td>28997</td>\n",
       "    </tr>\n",
       "    <tr>\n",
       "      <th>6</th>\n",
       "      <td>Argentina</td>\n",
       "      <td>26238</td>\n",
       "    </tr>\n",
       "    <tr>\n",
       "      <th>62</th>\n",
       "      <td>France</td>\n",
       "      <td>24377</td>\n",
       "    </tr>\n",
       "  </tbody>\n",
       "</table>\n",
       "</div>"
      ],
      "text/plain": [
       "       country  TotalNewCases\n",
       "23      Brazil          77359\n",
       "178         US          40374\n",
       "177     Turkey          28997\n",
       "6    Argentina          26238\n",
       "62      France          24377"
      ]
     },
     "execution_count": 24,
     "metadata": {},
     "output_type": "execute_result"
    }
   ],
   "source": [
    "# Aggregating the confirmed new cases against each country\n",
    "country_confirmed_newcases = confirmed_df.groupby(\"country\")['NewCases'].sum().reset_index(name ='TotalNewCases')\n",
    "country_confirmed_newcases = country_confirmed_newcases.sort_values(by='TotalNewCases', ascending=False)\n",
    "country_confirmed_newcases.head(5)"
   ]
  },
  {
   "cell_type": "code",
   "execution_count": 25,
   "metadata": {
    "scrolled": false
   },
   "outputs": [
    {
     "data": {
      "application/vnd.jupyter.widget-view+json": {
       "model_id": "80b29127017b496e91c336f1076b1b2f",
       "version_major": 2,
       "version_minor": 0
      },
      "text/plain": [
       "interactive(children=(IntSlider(value=10, description='n', max=30, min=-10), Output()), _dom_classes=('widget-…"
      ]
     },
     "metadata": {},
     "output_type": "display_data"
    }
   ],
   "source": [
    "# Visualizing the new confirmed cases against each country using plotly\n",
    "def bubble_chart(n):\n",
    "    fig = px.scatter(country_confirmed_newcases.head(n), x=\"country\", y=\"TotalNewCases\", size=\"TotalNewCases\", color=\"country\",\n",
    "               hover_name=\"country\", size_max=60)\n",
    "    fig.update_layout(\n",
    "    title=str(n) +\" countries with highest number of confirmed new cases. <br> (Last updated on \"+(confirmed_df.columns)[-1]+\")\",\n",
    "    xaxis_title=\"Countries\",\n",
    "    yaxis_title=\"Confirmed New Cases\",\n",
    "    width = 900\n",
    "    )\n",
    "    fig.show();\n",
    "    \n",
    "\n",
    "interact(bubble_chart, n=10)\n",
    "ipywLayout = widgets.Layout()\n",
    "ipywLayout.display='none'"
   ]
  },
  {
   "cell_type": "markdown",
   "metadata": {},
   "source": [
    "### Latest Count of New Death Cases"
   ]
  },
  {
   "cell_type": "code",
   "execution_count": 26,
   "metadata": {},
   "outputs": [
    {
     "data": {
      "text/html": [
       "<div>\n",
       "<style scoped>\n",
       "    .dataframe tbody tr th:only-of-type {\n",
       "        vertical-align: middle;\n",
       "    }\n",
       "\n",
       "    .dataframe tbody tr th {\n",
       "        vertical-align: top;\n",
       "    }\n",
       "\n",
       "    .dataframe thead th {\n",
       "        text-align: right;\n",
       "    }\n",
       "</style>\n",
       "<table border=\"1\" class=\"dataframe\">\n",
       "  <thead>\n",
       "    <tr style=\"text-align: right;\">\n",
       "      <th></th>\n",
       "      <th>country</th>\n",
       "      <th>TotalNewCases</th>\n",
       "    </tr>\n",
       "  </thead>\n",
       "  <tbody>\n",
       "    <tr>\n",
       "      <th>23</th>\n",
       "      <td>Brazil</td>\n",
       "      <td>2966</td>\n",
       "    </tr>\n",
       "    <tr>\n",
       "      <th>178</th>\n",
       "      <td>US</td>\n",
       "      <td>915</td>\n",
       "    </tr>\n",
       "    <tr>\n",
       "      <th>37</th>\n",
       "      <td>Colombia</td>\n",
       "      <td>463</td>\n",
       "    </tr>\n",
       "    <tr>\n",
       "      <th>6</th>\n",
       "      <td>Argentina</td>\n",
       "      <td>410</td>\n",
       "    </tr>\n",
       "    <tr>\n",
       "      <th>114</th>\n",
       "      <td>Mexico</td>\n",
       "      <td>395</td>\n",
       "    </tr>\n",
       "  </tbody>\n",
       "</table>\n",
       "</div>"
      ],
      "text/plain": [
       "       country  TotalNewCases\n",
       "23      Brazil           2966\n",
       "178         US            915\n",
       "37    Colombia            463\n",
       "6    Argentina            410\n",
       "114     Mexico            395"
      ]
     },
     "execution_count": 26,
     "metadata": {},
     "output_type": "execute_result"
    }
   ],
   "source": [
    "# Aggregating the new death cases against each country\n",
    "country_death_newcases = death_df.groupby(\"country\")['NewCases'].sum().reset_index(name ='TotalNewCases')\n",
    "country_death_newcases = country_death_newcases.sort_values(by='TotalNewCases', ascending=False)\n",
    "country_death_newcases.head(5)"
   ]
  },
  {
   "cell_type": "code",
   "execution_count": 27,
   "metadata": {
    "scrolled": false
   },
   "outputs": [
    {
     "data": {
      "application/vnd.jupyter.widget-view+json": {
       "model_id": "645b16657a82436bafc445d59af8a065",
       "version_major": 2,
       "version_minor": 0
      },
      "text/plain": [
       "interactive(children=(IntSlider(value=10, description='n', max=30, min=-10), Output()), _dom_classes=('widget-…"
      ]
     },
     "metadata": {},
     "output_type": "display_data"
    }
   ],
   "source": [
    "# Visualizing the new death cases against each country using plotly\n",
    "def bubble_chart(n):\n",
    "    fig = px.scatter(country_death_newcases.head(n), x=\"country\", y=\"TotalNewCases\", size=\"TotalNewCases\", color=\"country\",\n",
    "               hover_name=\"country\", size_max=60)\n",
    "    fig.update_layout(\n",
    "    title=str(n) +\" countries with highest number of new death cases. <br> (Last updated on \"+(death_df.columns)[-1]+\")\",\n",
    "    xaxis_title=\"Countries\",\n",
    "    yaxis_title=\"New Death Cases\",\n",
    "    width = 900\n",
    "    )\n",
    "    fig.show();\n",
    "\n",
    "    \n",
    "interact(bubble_chart, n=10)\n",
    "ipywLayout = widgets.Layout()\n",
    "ipywLayout.display='none'"
   ]
  },
  {
   "cell_type": "markdown",
   "metadata": {},
   "source": [
    "### Latest Count of New Recovered Cases"
   ]
  },
  {
   "cell_type": "code",
   "execution_count": 28,
   "metadata": {
    "scrolled": true
   },
   "outputs": [
    {
     "data": {
      "text/html": [
       "<div>\n",
       "<style scoped>\n",
       "    .dataframe tbody tr th:only-of-type {\n",
       "        vertical-align: middle;\n",
       "    }\n",
       "\n",
       "    .dataframe tbody tr th {\n",
       "        vertical-align: top;\n",
       "    }\n",
       "\n",
       "    .dataframe thead th {\n",
       "        text-align: right;\n",
       "    }\n",
       "</style>\n",
       "<table border=\"1\" class=\"dataframe\">\n",
       "  <thead>\n",
       "    <tr style=\"text-align: right;\">\n",
       "      <th></th>\n",
       "      <th>country</th>\n",
       "      <th>TotalNewCases</th>\n",
       "    </tr>\n",
       "  </thead>\n",
       "  <tbody>\n",
       "    <tr>\n",
       "      <th>177</th>\n",
       "      <td>Turkey</td>\n",
       "      <td>38218</td>\n",
       "    </tr>\n",
       "    <tr>\n",
       "      <th>23</th>\n",
       "      <td>Brazil</td>\n",
       "      <td>35418</td>\n",
       "    </tr>\n",
       "    <tr>\n",
       "      <th>66</th>\n",
       "      <td>Germany</td>\n",
       "      <td>21460</td>\n",
       "    </tr>\n",
       "    <tr>\n",
       "      <th>6</th>\n",
       "      <td>Argentina</td>\n",
       "      <td>19386</td>\n",
       "    </tr>\n",
       "    <tr>\n",
       "      <th>85</th>\n",
       "      <td>Italy</td>\n",
       "      <td>18477</td>\n",
       "    </tr>\n",
       "  </tbody>\n",
       "</table>\n",
       "</div>"
      ],
      "text/plain": [
       "       country  TotalNewCases\n",
       "177     Turkey          38218\n",
       "23      Brazil          35418\n",
       "66     Germany          21460\n",
       "6    Argentina          19386\n",
       "85       Italy          18477"
      ]
     },
     "execution_count": 28,
     "metadata": {},
     "output_type": "execute_result"
    }
   ],
   "source": [
    "# Aggregating the recovered new cases against each country\n",
    "country_recovered_newcases = recovered_df.groupby(\"country\")['NewCases'].sum().reset_index(name ='TotalNewCases')\n",
    "country_recovered_newcases = country_recovered_newcases.sort_values(by='TotalNewCases', ascending=False)\n",
    "country_recovered_newcases.head(5)"
   ]
  },
  {
   "cell_type": "code",
   "execution_count": 29,
   "metadata": {
    "scrolled": false
   },
   "outputs": [
    {
     "data": {
      "application/vnd.jupyter.widget-view+json": {
       "model_id": "006be420227e4f5f8ce3d8e195aa9fb7",
       "version_major": 2,
       "version_minor": 0
      },
      "text/plain": [
       "interactive(children=(IntSlider(value=10, description='n', max=30, min=-10), Output()), _dom_classes=('widget-…"
      ]
     },
     "metadata": {},
     "output_type": "display_data"
    }
   ],
   "source": [
    "# Visualizing the recovered new cases against each country using plotly\n",
    "def bubble_chart(n):\n",
    "    fig = px.scatter(country_recovered_newcases.head(n), x=\"country\", y=\"TotalNewCases\", size=\"TotalNewCases\", color=\"country\",\n",
    "               hover_name=\"country\", size_max=60)\n",
    "    fig.update_layout(\n",
    "    title=str(n) +\" countries with highest number of new recovered cases. <br> (Last updated on \"+(recovered_df.columns)[-1]+\")\",\n",
    "    xaxis_title=\"Countries\",\n",
    "    yaxis_title=\"New Recovered Cases\",\n",
    "    width = 900\n",
    "    )\n",
    "    fig.show();\n",
    "\n",
    "    \n",
    "interact(bubble_chart, n=10)\n",
    "ipywLayout = widgets.Layout()\n",
    "ipywLayout.display='none'"
   ]
  },
  {
   "cell_type": "markdown",
   "metadata": {},
   "source": [
    " "
   ]
  },
  {
   "cell_type": "markdown",
   "metadata": {},
   "source": [
    "# Data Visualization through Line Charts"
   ]
  },
  {
   "cell_type": "markdown",
   "metadata": {},
   "source": [
    "### Trend of Confirmed Case"
   ]
  },
  {
   "cell_type": "code",
   "execution_count": 30,
   "metadata": {},
   "outputs": [
    {
     "data": {
      "text/html": [
       "<div>\n",
       "<style scoped>\n",
       "    .dataframe tbody tr th:only-of-type {\n",
       "        vertical-align: middle;\n",
       "    }\n",
       "\n",
       "    .dataframe tbody tr th {\n",
       "        vertical-align: top;\n",
       "    }\n",
       "\n",
       "    .dataframe thead th {\n",
       "        text-align: right;\n",
       "    }\n",
       "</style>\n",
       "<table border=\"1\" class=\"dataframe\">\n",
       "  <thead>\n",
       "    <tr style=\"text-align: right;\">\n",
       "      <th></th>\n",
       "      <th>state</th>\n",
       "      <th>country</th>\n",
       "      <th>lat</th>\n",
       "      <th>long</th>\n",
       "      <th>NewCases</th>\n",
       "      <th>1/22/20</th>\n",
       "      <th>1/23/20</th>\n",
       "      <th>1/24/20</th>\n",
       "      <th>1/25/20</th>\n",
       "      <th>1/26/20</th>\n",
       "      <th>...</th>\n",
       "      <th>4/25/21</th>\n",
       "      <th>4/26/21</th>\n",
       "      <th>4/27/21</th>\n",
       "      <th>4/28/21</th>\n",
       "      <th>4/29/21</th>\n",
       "      <th>4/30/21</th>\n",
       "      <th>5/1/21</th>\n",
       "      <th>5/2/21</th>\n",
       "      <th>5/3/21</th>\n",
       "      <th>5/4/21</th>\n",
       "    </tr>\n",
       "  </thead>\n",
       "  <tbody>\n",
       "    <tr>\n",
       "      <th>0</th>\n",
       "      <td>NaN</td>\n",
       "      <td>Afghanistan</td>\n",
       "      <td>33.93911</td>\n",
       "      <td>67.709953</td>\n",
       "      <td>263</td>\n",
       "      <td>0</td>\n",
       "      <td>0</td>\n",
       "      <td>0</td>\n",
       "      <td>0</td>\n",
       "      <td>0</td>\n",
       "      <td>...</td>\n",
       "      <td>58843</td>\n",
       "      <td>59015</td>\n",
       "      <td>59225</td>\n",
       "      <td>59370</td>\n",
       "      <td>59576</td>\n",
       "      <td>59745</td>\n",
       "      <td>59939</td>\n",
       "      <td>60122</td>\n",
       "      <td>60300</td>\n",
       "      <td>60563</td>\n",
       "    </tr>\n",
       "    <tr>\n",
       "      <th>1</th>\n",
       "      <td>NaN</td>\n",
       "      <td>Albania</td>\n",
       "      <td>41.15330</td>\n",
       "      <td>20.168300</td>\n",
       "      <td>51</td>\n",
       "      <td>0</td>\n",
       "      <td>0</td>\n",
       "      <td>0</td>\n",
       "      <td>0</td>\n",
       "      <td>0</td>\n",
       "      <td>...</td>\n",
       "      <td>130537</td>\n",
       "      <td>130606</td>\n",
       "      <td>130736</td>\n",
       "      <td>130859</td>\n",
       "      <td>130977</td>\n",
       "      <td>131085</td>\n",
       "      <td>131185</td>\n",
       "      <td>131238</td>\n",
       "      <td>131276</td>\n",
       "      <td>131327</td>\n",
       "    </tr>\n",
       "    <tr>\n",
       "      <th>2</th>\n",
       "      <td>NaN</td>\n",
       "      <td>Algeria</td>\n",
       "      <td>28.03390</td>\n",
       "      <td>1.659600</td>\n",
       "      <td>282</td>\n",
       "      <td>0</td>\n",
       "      <td>0</td>\n",
       "      <td>0</td>\n",
       "      <td>0</td>\n",
       "      <td>0</td>\n",
       "      <td>...</td>\n",
       "      <td>120922</td>\n",
       "      <td>121112</td>\n",
       "      <td>121344</td>\n",
       "      <td>121580</td>\n",
       "      <td>121866</td>\n",
       "      <td>122108</td>\n",
       "      <td>122311</td>\n",
       "      <td>122522</td>\n",
       "      <td>122717</td>\n",
       "      <td>122999</td>\n",
       "    </tr>\n",
       "    <tr>\n",
       "      <th>3</th>\n",
       "      <td>NaN</td>\n",
       "      <td>Andorra</td>\n",
       "      <td>42.50630</td>\n",
       "      <td>1.521800</td>\n",
       "      <td>21</td>\n",
       "      <td>0</td>\n",
       "      <td>0</td>\n",
       "      <td>0</td>\n",
       "      <td>0</td>\n",
       "      <td>0</td>\n",
       "      <td>...</td>\n",
       "      <td>13060</td>\n",
       "      <td>13083</td>\n",
       "      <td>13121</td>\n",
       "      <td>13148</td>\n",
       "      <td>13198</td>\n",
       "      <td>13232</td>\n",
       "      <td>13232</td>\n",
       "      <td>13282</td>\n",
       "      <td>13295</td>\n",
       "      <td>13316</td>\n",
       "    </tr>\n",
       "    <tr>\n",
       "      <th>4</th>\n",
       "      <td>NaN</td>\n",
       "      <td>Angola</td>\n",
       "      <td>-11.20270</td>\n",
       "      <td>17.873900</td>\n",
       "      <td>151</td>\n",
       "      <td>0</td>\n",
       "      <td>0</td>\n",
       "      <td>0</td>\n",
       "      <td>0</td>\n",
       "      <td>0</td>\n",
       "      <td>...</td>\n",
       "      <td>25609</td>\n",
       "      <td>25710</td>\n",
       "      <td>25942</td>\n",
       "      <td>26168</td>\n",
       "      <td>26431</td>\n",
       "      <td>26652</td>\n",
       "      <td>26815</td>\n",
       "      <td>26993</td>\n",
       "      <td>27133</td>\n",
       "      <td>27284</td>\n",
       "    </tr>\n",
       "  </tbody>\n",
       "</table>\n",
       "<p>5 rows × 474 columns</p>\n",
       "</div>"
      ],
      "text/plain": [
       "  state      country       lat       long  NewCases  1/22/20  1/23/20  \\\n",
       "0   NaN  Afghanistan  33.93911  67.709953       263        0        0   \n",
       "1   NaN      Albania  41.15330  20.168300        51        0        0   \n",
       "2   NaN      Algeria  28.03390   1.659600       282        0        0   \n",
       "3   NaN      Andorra  42.50630   1.521800        21        0        0   \n",
       "4   NaN       Angola -11.20270  17.873900       151        0        0   \n",
       "\n",
       "   1/24/20  1/25/20  1/26/20  ...  4/25/21  4/26/21  4/27/21  4/28/21  \\\n",
       "0        0        0        0  ...    58843    59015    59225    59370   \n",
       "1        0        0        0  ...   130537   130606   130736   130859   \n",
       "2        0        0        0  ...   120922   121112   121344   121580   \n",
       "3        0        0        0  ...    13060    13083    13121    13148   \n",
       "4        0        0        0  ...    25609    25710    25942    26168   \n",
       "\n",
       "   4/29/21  4/30/21  5/1/21  5/2/21  5/3/21  5/4/21  \n",
       "0    59576    59745   59939   60122   60300   60563  \n",
       "1   130977   131085  131185  131238  131276  131327  \n",
       "2   121866   122108  122311  122522  122717  122999  \n",
       "3    13198    13232   13232   13282   13295   13316  \n",
       "4    26431    26652   26815   26993   27133   27284  \n",
       "\n",
       "[5 rows x 474 columns]"
      ]
     },
     "execution_count": 30,
     "metadata": {},
     "output_type": "execute_result"
    }
   ],
   "source": [
    "confirmed_df.head()"
   ]
  },
  {
   "cell_type": "code",
   "execution_count": 31,
   "metadata": {},
   "outputs": [
    {
     "data": {
      "text/plain": [
       "1/22/20           0\n",
       "1/23/20           0\n",
       "1/24/20           0\n",
       "1/25/20           0\n",
       "1/26/20           0\n",
       "             ...   \n",
       "4/30/21    19164969\n",
       "5/1/21     19557457\n",
       "5/2/21     19925517\n",
       "5/3/21     20282833\n",
       "5/4/21     20282833\n",
       "Length: 469, dtype: int64"
      ]
     },
     "execution_count": 31,
     "metadata": {},
     "output_type": "execute_result"
    }
   ],
   "source": [
    "# Just to visualize the spread of data for a country\n",
    "confirmed_df[confirmed_df['country'] == 'India'].iloc[:,5:].sum(axis=0)"
   ]
  },
  {
   "cell_type": "code",
   "execution_count": 32,
   "metadata": {},
   "outputs": [
    {
     "data": {
      "application/vnd.jupyter.widget-view+json": {
       "model_id": "476f2509cb544d1a83a6d47428f52472",
       "version_major": 2,
       "version_minor": 0
      },
      "text/plain": [
       "interactive(children=(Text(value='India', description='name'), Output()), _dom_classes=('widget-interact',))"
      ]
     },
     "metadata": {},
     "output_type": "display_data"
    }
   ],
   "source": [
    "# Visualizing the trend of confirmed cases over time using Plotly\n",
    "def confirmedCases_trend(name):\n",
    "    x_data = confirmed_df.iloc[:, 5:].columns\n",
    "    y_data = confirmed_df[confirmed_df['country'] == name].iloc[:,5:].sum(axis=0)\n",
    "    \n",
    "    fig = go.Figure()\n",
    "    fig.add_trace(go.Scatter(x=x_data, y=y_data,\n",
    "                    mode='markers',\n",
    "                    name='markers'))\n",
    "\n",
    "    fig.update_layout(\n",
    "        title=str(name) +\"'s trend on confirmed casess. <br> (Last updated on \"+(confirmed_df.columns)[-1]+\")\",\n",
    "        xaxis_title=\"Date\",\n",
    "        yaxis_title=\"Confirmed Cases\",\n",
    "        width = 800\n",
    "        )\n",
    "\n",
    "    fig.show()\n",
    "    \n",
    "    \n",
    "\n",
    "interact(confirmedCases_trend, name='India')\n",
    "ipywLayout = widgets.Layout()\n",
    "ipywLayout.display='none'"
   ]
  },
  {
   "cell_type": "markdown",
   "metadata": {},
   "source": [
    "### Trend of Death Cases"
   ]
  },
  {
   "cell_type": "code",
   "execution_count": 33,
   "metadata": {},
   "outputs": [
    {
     "data": {
      "application/vnd.jupyter.widget-view+json": {
       "model_id": "2354183610b242b78ee798d1bf1ba9e2",
       "version_major": 2,
       "version_minor": 0
      },
      "text/plain": [
       "interactive(children=(Text(value='India', description='name'), Output()), _dom_classes=('widget-interact',))"
      ]
     },
     "metadata": {},
     "output_type": "display_data"
    }
   ],
   "source": [
    "# Visualizing the trend of death cases over time using Plotly\n",
    "def deathCases_trend(name):\n",
    "    x_data = death_df.iloc[:, 5:].columns\n",
    "    y_data = death_df[death_df['country'] == name].iloc[:,5:].sum(axis=0)\n",
    "    \n",
    "    fig = go.Figure()\n",
    "    fig.add_trace(go.Scatter(x=x_data, y=y_data,\n",
    "                    mode='markers',\n",
    "                    name='markers'))\n",
    "\n",
    "    fig.update_layout(\n",
    "        title=str(name) +\"'s trend on death cases. <br> (Last updated on \"+(death_df.columns)[-1]+\")\",\n",
    "        xaxis_title=\"Date\",\n",
    "        yaxis_title=\"Death Cases\",\n",
    "        width = 800\n",
    "        )\n",
    "\n",
    "    fig.show()\n",
    "    \n",
    "\n",
    "interact(deathCases_trend, name='India')\n",
    "ipywLayout = widgets.Layout()\n",
    "ipywLayout.display='none'"
   ]
  },
  {
   "cell_type": "markdown",
   "metadata": {},
   "source": [
    "### Trend of Recovered Case"
   ]
  },
  {
   "cell_type": "code",
   "execution_count": 34,
   "metadata": {},
   "outputs": [
    {
     "data": {
      "application/vnd.jupyter.widget-view+json": {
       "model_id": "50b05e4e07044b018627ea567c1ce132",
       "version_major": 2,
       "version_minor": 0
      },
      "text/plain": [
       "interactive(children=(Text(value='India', description='name'), Output()), _dom_classes=('widget-interact',))"
      ]
     },
     "metadata": {},
     "output_type": "display_data"
    }
   ],
   "source": [
    "# Visualizing the trend of recovered cases over time using Plotly\n",
    "def recoveredCases_trend(name):\n",
    "    x_data = recovered_df.iloc[:, 5:].columns\n",
    "    y_data = recovered_df[recovered_df['country'] == name].iloc[:,5:].sum(axis=0)\n",
    "    \n",
    "    fig = go.Figure()\n",
    "    fig.add_trace(go.Scatter(x=x_data, y=y_data,\n",
    "                    mode='markers',\n",
    "                    name='markers'))\n",
    "\n",
    "    fig.update_layout(\n",
    "        title=str(name) +\"'s trend on recovered casess. <br> (Last updated on \"+(recovered_df.columns)[-1]+\")\",\n",
    "        xaxis_title=\"Date\",\n",
    "        yaxis_title=\"Recovered Cases\",\n",
    "        width = 800\n",
    "        )\n",
    "\n",
    "    fig.show()\n",
    "    \n",
    "    \n",
    "interact(recoveredCases_trend, name='India')\n",
    "ipywLayout = widgets.Layout()\n",
    "ipywLayout.display='none'"
   ]
  },
  {
   "cell_type": "markdown",
   "metadata": {},
   "source": [
    " "
   ]
  },
  {
   "cell_type": "markdown",
   "metadata": {},
   "source": [
    "# Interactive Table Chart"
   ]
  },
  {
   "cell_type": "markdown",
   "metadata": {},
   "source": [
    "### COVID-19 Confirmed/Death/Recovered/Active cases - Sorted by Confirmed Cases in Descending order"
   ]
  },
  {
   "cell_type": "code",
   "execution_count": 35,
   "metadata": {},
   "outputs": [
    {
     "data": {
      "application/vnd.jupyter.widget-view+json": {
       "model_id": "9a34e7e20b084ffe8cd7411af6a36179",
       "version_major": 2,
       "version_minor": 0
      },
      "text/plain": [
       "interactive(children=(Text(value='10', description='n'), Output()), _dom_classes=('widget-interact',))"
      ]
     },
     "metadata": {},
     "output_type": "display_data"
    }
   ],
   "source": [
    "# Printing the top n countries sorted by Confirmed Cases in Descending order\n",
    "def show_latest_cases(n):\n",
    "    n = int(n)\n",
    "    df1 = country_df[['country','last_update','confirmed','deaths','recovered','active','incident_rate','mortality_rate']]\n",
    "    df1 = df1.sort_values(by ='confirmed', ascending=False)\n",
    "    return df1.head(n)\n",
    "\n",
    "\n",
    "interact(show_latest_cases, n='10')\n",
    "ipywLayout = widgets.Layout()\n",
    "ipywLayout.display='none'"
   ]
  },
  {
   "cell_type": "markdown",
   "metadata": {},
   "source": [
    "### COVID-19 Confirmed/Death/Recovered/Active cases - Country specific"
   ]
  },
  {
   "cell_type": "code",
   "execution_count": 36,
   "metadata": {},
   "outputs": [
    {
     "data": {
      "application/vnd.jupyter.widget-view+json": {
       "model_id": "fef21cf6c12f42098e53d33d535d35ec",
       "version_major": 2,
       "version_minor": 0
      },
      "text/plain": [
       "interactive(children=(Text(value='India', description='name'), Output()), _dom_classes=('widget-interact',))"
      ]
     },
     "metadata": {},
     "output_type": "display_data"
    }
   ],
   "source": [
    "# Country specific search to see the count details\n",
    "def country_specific(name):\n",
    "    df1 = country_df[['country','last_update','confirmed','deaths','recovered','active','incident_rate','mortality_rate']]\n",
    "    country_specific = df1.loc[df1['country'] == name]\n",
    "    return country_specific\n",
    "\n",
    "\n",
    "interact(country_specific, name='India')\n",
    "ipywLayout = widgets.Layout()\n",
    "ipywLayout.display='none'"
   ]
  },
  {
   "cell_type": "markdown",
   "metadata": {},
   "source": [
    "# Data Visualization through Bar Charts"
   ]
  },
  {
   "cell_type": "markdown",
   "metadata": {},
   "source": [
    "### Worst Hit Countries - Confirmed Cases"
   ]
  },
  {
   "cell_type": "code",
   "execution_count": 37,
   "metadata": {},
   "outputs": [
    {
     "data": {
      "text/html": [
       "<div>\n",
       "<style scoped>\n",
       "    .dataframe tbody tr th:only-of-type {\n",
       "        vertical-align: middle;\n",
       "    }\n",
       "\n",
       "    .dataframe tbody tr th {\n",
       "        vertical-align: top;\n",
       "    }\n",
       "\n",
       "    .dataframe thead th {\n",
       "        text-align: right;\n",
       "    }\n",
       "</style>\n",
       "<table border=\"1\" class=\"dataframe\">\n",
       "  <thead>\n",
       "    <tr style=\"text-align: right;\">\n",
       "      <th></th>\n",
       "      <th>country</th>\n",
       "      <th>last_update</th>\n",
       "      <th>lat</th>\n",
       "      <th>long_</th>\n",
       "      <th>confirmed</th>\n",
       "      <th>deaths</th>\n",
       "      <th>recovered</th>\n",
       "      <th>active</th>\n",
       "      <th>incident_rate</th>\n",
       "      <th>people_tested</th>\n",
       "      <th>people_hospitalized</th>\n",
       "      <th>mortality_rate</th>\n",
       "      <th>uid</th>\n",
       "      <th>iso3</th>\n",
       "    </tr>\n",
       "  </thead>\n",
       "  <tbody>\n",
       "    <tr>\n",
       "      <th>0</th>\n",
       "      <td>Afghanistan</td>\n",
       "      <td>2021-05-05 04:20:43</td>\n",
       "      <td>33.93911</td>\n",
       "      <td>67.709953</td>\n",
       "      <td>60563.0</td>\n",
       "      <td>2648.0</td>\n",
       "      <td>53694.0</td>\n",
       "      <td>4221.0</td>\n",
       "      <td>155.575600</td>\n",
       "      <td>NaN</td>\n",
       "      <td>NaN</td>\n",
       "      <td>4.372307</td>\n",
       "      <td>4</td>\n",
       "      <td>AFG</td>\n",
       "    </tr>\n",
       "    <tr>\n",
       "      <th>1</th>\n",
       "      <td>Albania</td>\n",
       "      <td>2021-05-05 04:20:43</td>\n",
       "      <td>41.15330</td>\n",
       "      <td>20.168300</td>\n",
       "      <td>131327.0</td>\n",
       "      <td>2402.0</td>\n",
       "      <td>112626.0</td>\n",
       "      <td>16299.0</td>\n",
       "      <td>4563.451247</td>\n",
       "      <td>NaN</td>\n",
       "      <td>NaN</td>\n",
       "      <td>1.829022</td>\n",
       "      <td>8</td>\n",
       "      <td>ALB</td>\n",
       "    </tr>\n",
       "    <tr>\n",
       "      <th>2</th>\n",
       "      <td>Algeria</td>\n",
       "      <td>2021-05-05 04:20:43</td>\n",
       "      <td>28.03390</td>\n",
       "      <td>1.659600</td>\n",
       "      <td>122999.0</td>\n",
       "      <td>3289.0</td>\n",
       "      <td>85693.0</td>\n",
       "      <td>34017.0</td>\n",
       "      <td>280.492758</td>\n",
       "      <td>NaN</td>\n",
       "      <td>NaN</td>\n",
       "      <td>2.674005</td>\n",
       "      <td>12</td>\n",
       "      <td>DZA</td>\n",
       "    </tr>\n",
       "    <tr>\n",
       "      <th>3</th>\n",
       "      <td>Andorra</td>\n",
       "      <td>2021-05-05 04:20:43</td>\n",
       "      <td>42.50630</td>\n",
       "      <td>1.521800</td>\n",
       "      <td>13316.0</td>\n",
       "      <td>127.0</td>\n",
       "      <td>12818.0</td>\n",
       "      <td>371.0</td>\n",
       "      <td>17234.194008</td>\n",
       "      <td>NaN</td>\n",
       "      <td>NaN</td>\n",
       "      <td>0.953740</td>\n",
       "      <td>20</td>\n",
       "      <td>AND</td>\n",
       "    </tr>\n",
       "    <tr>\n",
       "      <th>4</th>\n",
       "      <td>Angola</td>\n",
       "      <td>2021-05-05 04:20:43</td>\n",
       "      <td>-11.20270</td>\n",
       "      <td>17.873900</td>\n",
       "      <td>27284.0</td>\n",
       "      <td>609.0</td>\n",
       "      <td>24190.0</td>\n",
       "      <td>2485.0</td>\n",
       "      <td>83.015206</td>\n",
       "      <td>NaN</td>\n",
       "      <td>NaN</td>\n",
       "      <td>2.232077</td>\n",
       "      <td>24</td>\n",
       "      <td>AGO</td>\n",
       "    </tr>\n",
       "  </tbody>\n",
       "</table>\n",
       "</div>"
      ],
      "text/plain": [
       "       country          last_update       lat      long_  confirmed  deaths  \\\n",
       "0  Afghanistan  2021-05-05 04:20:43  33.93911  67.709953    60563.0  2648.0   \n",
       "1      Albania  2021-05-05 04:20:43  41.15330  20.168300   131327.0  2402.0   \n",
       "2      Algeria  2021-05-05 04:20:43  28.03390   1.659600   122999.0  3289.0   \n",
       "3      Andorra  2021-05-05 04:20:43  42.50630   1.521800    13316.0   127.0   \n",
       "4       Angola  2021-05-05 04:20:43 -11.20270  17.873900    27284.0   609.0   \n",
       "\n",
       "   recovered   active  incident_rate  people_tested  people_hospitalized  \\\n",
       "0    53694.0   4221.0     155.575600            NaN                  NaN   \n",
       "1   112626.0  16299.0    4563.451247            NaN                  NaN   \n",
       "2    85693.0  34017.0     280.492758            NaN                  NaN   \n",
       "3    12818.0    371.0   17234.194008            NaN                  NaN   \n",
       "4    24190.0   2485.0      83.015206            NaN                  NaN   \n",
       "\n",
       "   mortality_rate  uid iso3  \n",
       "0        4.372307    4  AFG  \n",
       "1        1.829022    8  ALB  \n",
       "2        2.674005   12  DZA  \n",
       "3        0.953740   20  AND  \n",
       "4        2.232077   24  AGO  "
      ]
     },
     "execution_count": 37,
     "metadata": {},
     "output_type": "execute_result"
    }
   ],
   "source": [
    "country_df.head()"
   ]
  },
  {
   "cell_type": "code",
   "execution_count": 38,
   "metadata": {},
   "outputs": [
    {
     "data": {
      "application/vnd.jupyter.widget-view+json": {
       "model_id": "ca4d7d6c1fd9405981f9027d4f5ac576",
       "version_major": 2,
       "version_minor": 0
      },
      "text/plain": [
       "interactive(children=(IntSlider(value=10, description='n', max=30, min=-10), Output()), _dom_classes=('widget-…"
      ]
     },
     "metadata": {},
     "output_type": "display_data"
    }
   ],
   "source": [
    "# Visualizing the top n countries with respect to confirmed cases using Plotly\n",
    "def confirmedCases_bar_chart(n):\n",
    "    df1 = country_df.sort_values(by ='confirmed', ascending=False)\n",
    "    fig = px.bar(df1.head(n), x=\"country\", y=\"confirmed\")\n",
    "    \n",
    "    fig.update_layout(\n",
    "    title=str(n) +\" countries with highest number of confirmed cases. <br> (Last updated on \"+ df1.last_update[1] +\")\",\n",
    "    xaxis_title=\"Countries\",\n",
    "    yaxis_title=\"Confirmed Cases\",\n",
    "    width = 800\n",
    "    )\n",
    "    \n",
    "    fig.show();\n",
    "\n",
    "    \n",
    "interact(confirmedCases_bar_chart, n=10)\n",
    "ipywLayout = widgets.Layout()\n",
    "ipywLayout.display='none'"
   ]
  },
  {
   "cell_type": "markdown",
   "metadata": {},
   "source": [
    "### Worst Hit Countries - Death Cases"
   ]
  },
  {
   "cell_type": "code",
   "execution_count": 39,
   "metadata": {},
   "outputs": [
    {
     "data": {
      "application/vnd.jupyter.widget-view+json": {
       "model_id": "dd15de4a8981463ba5c8a80121acd8e8",
       "version_major": 2,
       "version_minor": 0
      },
      "text/plain": [
       "interactive(children=(IntSlider(value=10, description='n', max=30, min=-10), Output()), _dom_classes=('widget-…"
      ]
     },
     "metadata": {},
     "output_type": "display_data"
    }
   ],
   "source": [
    "# Visualizing the top n countries with respect to death cases using Plotly\n",
    "def deathCases_bar_chart(n):\n",
    "    df1 = country_df.sort_values(by ='deaths', ascending=False)\n",
    "    fig = px.bar(df1.head(n), x=\"country\", y=\"deaths\")\n",
    "    \n",
    "    fig.update_layout(\n",
    "    title=str(n) +\" countries with highest number of death cases. <br> (Last updated on \"+ df1.last_update[1] +\")\",\n",
    "    xaxis_title=\"Countries\",\n",
    "    yaxis_title=\"Death Cases\",\n",
    "    width = 800\n",
    "    )\n",
    "    \n",
    "    fig.show();\n",
    "\n",
    "    \n",
    "interact(deathCases_bar_chart, n=10)\n",
    "ipywLayout = widgets.Layout()\n",
    "ipywLayout.display='none'"
   ]
  },
  {
   "cell_type": "markdown",
   "metadata": {},
   "source": [
    "### Countries - Recovered Cases"
   ]
  },
  {
   "cell_type": "code",
   "execution_count": 40,
   "metadata": {},
   "outputs": [
    {
     "data": {
      "application/vnd.jupyter.widget-view+json": {
       "model_id": "55ed68e40d22431a8159855d092eda47",
       "version_major": 2,
       "version_minor": 0
      },
      "text/plain": [
       "interactive(children=(IntSlider(value=10, description='n', max=30, min=-10), Output()), _dom_classes=('widget-…"
      ]
     },
     "metadata": {},
     "output_type": "display_data"
    }
   ],
   "source": [
    "# Visualizing the top n countries with respect to recovered cases using Plotly\n",
    "def recoveredCases_bar_chart(n):\n",
    "    df1 = country_df.sort_values(by ='recovered', ascending=False)\n",
    "    fig = px.bar(df1.head(n), x=\"country\", y=\"recovered\")\n",
    "    \n",
    "    fig.update_layout(\n",
    "    title=str(n) +\" countries with highest number of recovered cases. <br> (Last updated on \"+ df1.last_update[1] +\")\",\n",
    "    xaxis_title=\"Countries\",\n",
    "    yaxis_title=\"Recovered Cases\",\n",
    "    width = 800\n",
    "    )\n",
    "    \n",
    "    fig.show();\n",
    "\n",
    "    \n",
    "interact(recoveredCases_bar_chart, n=10)\n",
    "ipywLayout = widgets.Layout()\n",
    "ipywLayout.display='none'"
   ]
  },
  {
   "cell_type": "markdown",
   "metadata": {},
   "source": [
    "### Countries - Active Cases"
   ]
  },
  {
   "cell_type": "code",
   "execution_count": 41,
   "metadata": {
    "scrolled": false
   },
   "outputs": [
    {
     "data": {
      "application/vnd.jupyter.widget-view+json": {
       "model_id": "751f57c0809645d8b60e6630a0a8e54f",
       "version_major": 2,
       "version_minor": 0
      },
      "text/plain": [
       "interactive(children=(IntSlider(value=10, description='n', max=30, min=-10), Output()), _dom_classes=('widget-…"
      ]
     },
     "metadata": {},
     "output_type": "display_data"
    }
   ],
   "source": [
    "# Visualizing the top n countries with respect to active cases using Plotly\n",
    "def activeCases_bar_chart(n):\n",
    "    df1 = country_df.sort_values(by ='active', ascending=False)\n",
    "    fig = px.bar(df1.head(n), x=\"country\", y=\"recovered\")\n",
    "    \n",
    "    fig.update_layout(\n",
    "    title=str(n) +\" countries with highest number of active cases. <br> (Last updated on \"+ df1.last_update[1] +\")\",\n",
    "    xaxis_title=\"Countries\",\n",
    "    yaxis_title=\"Active Cases\",\n",
    "    width = 800\n",
    "    )\n",
    "    \n",
    "    fig.show();\n",
    "\n",
    "    \n",
    "interact(recoveredCases_bar_chart, n=10)\n",
    "ipywLayout = widgets.Layout()\n",
    "ipywLayout.display='none'"
   ]
  },
  {
   "cell_type": "markdown",
   "metadata": {},
   "source": [
    "# Data Visualization on Maps"
   ]
  },
  {
   "cell_type": "markdown",
   "metadata": {},
   "source": [
    "### Global spread of COVID-19 using Folium"
   ]
  },
  {
   "cell_type": "code",
   "execution_count": 42,
   "metadata": {
    "scrolled": true
   },
   "outputs": [
    {
     "data": {
      "text/html": [
       "<div>\n",
       "<style scoped>\n",
       "    .dataframe tbody tr th:only-of-type {\n",
       "        vertical-align: middle;\n",
       "    }\n",
       "\n",
       "    .dataframe tbody tr th {\n",
       "        vertical-align: top;\n",
       "    }\n",
       "\n",
       "    .dataframe thead th {\n",
       "        text-align: right;\n",
       "    }\n",
       "</style>\n",
       "<table border=\"1\" class=\"dataframe\">\n",
       "  <thead>\n",
       "    <tr style=\"text-align: right;\">\n",
       "      <th></th>\n",
       "      <th>state</th>\n",
       "      <th>country</th>\n",
       "      <th>lat</th>\n",
       "      <th>long</th>\n",
       "      <th>NewCases</th>\n",
       "      <th>1/22/20</th>\n",
       "      <th>1/23/20</th>\n",
       "      <th>1/24/20</th>\n",
       "      <th>1/25/20</th>\n",
       "      <th>1/26/20</th>\n",
       "      <th>...</th>\n",
       "      <th>4/25/21</th>\n",
       "      <th>4/26/21</th>\n",
       "      <th>4/27/21</th>\n",
       "      <th>4/28/21</th>\n",
       "      <th>4/29/21</th>\n",
       "      <th>4/30/21</th>\n",
       "      <th>5/1/21</th>\n",
       "      <th>5/2/21</th>\n",
       "      <th>5/3/21</th>\n",
       "      <th>5/4/21</th>\n",
       "    </tr>\n",
       "  </thead>\n",
       "  <tbody>\n",
       "    <tr>\n",
       "      <th>52</th>\n",
       "      <td>Repatriated Travellers</td>\n",
       "      <td>Canada</td>\n",
       "      <td>NaN</td>\n",
       "      <td>NaN</td>\n",
       "      <td>0</td>\n",
       "      <td>0</td>\n",
       "      <td>0</td>\n",
       "      <td>0</td>\n",
       "      <td>0</td>\n",
       "      <td>0</td>\n",
       "      <td>...</td>\n",
       "      <td>13</td>\n",
       "      <td>13</td>\n",
       "      <td>13</td>\n",
       "      <td>13</td>\n",
       "      <td>13</td>\n",
       "      <td>13</td>\n",
       "      <td>13</td>\n",
       "      <td>13</td>\n",
       "      <td>13</td>\n",
       "      <td>13</td>\n",
       "    </tr>\n",
       "    <tr>\n",
       "      <th>88</th>\n",
       "      <td>Unknown</td>\n",
       "      <td>China</td>\n",
       "      <td>NaN</td>\n",
       "      <td>NaN</td>\n",
       "      <td>0</td>\n",
       "      <td>0</td>\n",
       "      <td>0</td>\n",
       "      <td>0</td>\n",
       "      <td>0</td>\n",
       "      <td>0</td>\n",
       "      <td>...</td>\n",
       "      <td>0</td>\n",
       "      <td>0</td>\n",
       "      <td>0</td>\n",
       "      <td>0</td>\n",
       "      <td>0</td>\n",
       "      <td>0</td>\n",
       "      <td>0</td>\n",
       "      <td>0</td>\n",
       "      <td>0</td>\n",
       "      <td>0</td>\n",
       "    </tr>\n",
       "  </tbody>\n",
       "</table>\n",
       "<p>2 rows × 474 columns</p>\n",
       "</div>"
      ],
      "text/plain": [
       "                     state country  lat  long  NewCases  1/22/20  1/23/20  \\\n",
       "52  Repatriated Travellers  Canada  NaN   NaN         0        0        0   \n",
       "88                 Unknown   China  NaN   NaN         0        0        0   \n",
       "\n",
       "    1/24/20  1/25/20  1/26/20  ...  4/25/21  4/26/21  4/27/21  4/28/21  \\\n",
       "52        0        0        0  ...       13       13       13       13   \n",
       "88        0        0        0  ...        0        0        0        0   \n",
       "\n",
       "    4/29/21  4/30/21  5/1/21  5/2/21  5/3/21  5/4/21  \n",
       "52       13       13      13      13      13      13  \n",
       "88        0        0       0       0       0       0  \n",
       "\n",
       "[2 rows x 474 columns]"
      ]
     },
     "execution_count": 42,
     "metadata": {},
     "output_type": "execute_result"
    }
   ],
   "source": [
    "# Checking number of null in lat\n",
    "confirmed_df[confirmed_df['lat'].isnull()]"
   ]
  },
  {
   "cell_type": "code",
   "execution_count": 43,
   "metadata": {},
   "outputs": [
    {
     "data": {
      "text/html": [
       "<div>\n",
       "<style scoped>\n",
       "    .dataframe tbody tr th:only-of-type {\n",
       "        vertical-align: middle;\n",
       "    }\n",
       "\n",
       "    .dataframe tbody tr th {\n",
       "        vertical-align: top;\n",
       "    }\n",
       "\n",
       "    .dataframe thead th {\n",
       "        text-align: right;\n",
       "    }\n",
       "</style>\n",
       "<table border=\"1\" class=\"dataframe\">\n",
       "  <thead>\n",
       "    <tr style=\"text-align: right;\">\n",
       "      <th></th>\n",
       "      <th>state</th>\n",
       "      <th>country</th>\n",
       "      <th>lat</th>\n",
       "      <th>long</th>\n",
       "      <th>NewCases</th>\n",
       "      <th>1/22/20</th>\n",
       "      <th>1/23/20</th>\n",
       "      <th>1/24/20</th>\n",
       "      <th>1/25/20</th>\n",
       "      <th>1/26/20</th>\n",
       "      <th>...</th>\n",
       "      <th>4/25/21</th>\n",
       "      <th>4/26/21</th>\n",
       "      <th>4/27/21</th>\n",
       "      <th>4/28/21</th>\n",
       "      <th>4/29/21</th>\n",
       "      <th>4/30/21</th>\n",
       "      <th>5/1/21</th>\n",
       "      <th>5/2/21</th>\n",
       "      <th>5/3/21</th>\n",
       "      <th>5/4/21</th>\n",
       "    </tr>\n",
       "  </thead>\n",
       "  <tbody>\n",
       "    <tr>\n",
       "      <th>52</th>\n",
       "      <td>Repatriated Travellers</td>\n",
       "      <td>Canada</td>\n",
       "      <td>NaN</td>\n",
       "      <td>NaN</td>\n",
       "      <td>0</td>\n",
       "      <td>0</td>\n",
       "      <td>0</td>\n",
       "      <td>0</td>\n",
       "      <td>0</td>\n",
       "      <td>0</td>\n",
       "      <td>...</td>\n",
       "      <td>13</td>\n",
       "      <td>13</td>\n",
       "      <td>13</td>\n",
       "      <td>13</td>\n",
       "      <td>13</td>\n",
       "      <td>13</td>\n",
       "      <td>13</td>\n",
       "      <td>13</td>\n",
       "      <td>13</td>\n",
       "      <td>13</td>\n",
       "    </tr>\n",
       "    <tr>\n",
       "      <th>88</th>\n",
       "      <td>Unknown</td>\n",
       "      <td>China</td>\n",
       "      <td>NaN</td>\n",
       "      <td>NaN</td>\n",
       "      <td>0</td>\n",
       "      <td>0</td>\n",
       "      <td>0</td>\n",
       "      <td>0</td>\n",
       "      <td>0</td>\n",
       "      <td>0</td>\n",
       "      <td>...</td>\n",
       "      <td>0</td>\n",
       "      <td>0</td>\n",
       "      <td>0</td>\n",
       "      <td>0</td>\n",
       "      <td>0</td>\n",
       "      <td>0</td>\n",
       "      <td>0</td>\n",
       "      <td>0</td>\n",
       "      <td>0</td>\n",
       "      <td>0</td>\n",
       "    </tr>\n",
       "  </tbody>\n",
       "</table>\n",
       "<p>2 rows × 474 columns</p>\n",
       "</div>"
      ],
      "text/plain": [
       "                     state country  lat  long  NewCases  1/22/20  1/23/20  \\\n",
       "52  Repatriated Travellers  Canada  NaN   NaN         0        0        0   \n",
       "88                 Unknown   China  NaN   NaN         0        0        0   \n",
       "\n",
       "    1/24/20  1/25/20  1/26/20  ...  4/25/21  4/26/21  4/27/21  4/28/21  \\\n",
       "52        0        0        0  ...       13       13       13       13   \n",
       "88        0        0        0  ...        0        0        0        0   \n",
       "\n",
       "    4/29/21  4/30/21  5/1/21  5/2/21  5/3/21  5/4/21  \n",
       "52       13       13      13      13      13      13  \n",
       "88        0        0       0       0       0       0  \n",
       "\n",
       "[2 rows x 474 columns]"
      ]
     },
     "execution_count": 43,
     "metadata": {},
     "output_type": "execute_result"
    }
   ],
   "source": [
    "# Checking number of null in long\n",
    "confirmed_df[confirmed_df['long'].isnull()]"
   ]
  },
  {
   "cell_type": "code",
   "execution_count": 44,
   "metadata": {},
   "outputs": [],
   "source": [
    "# Removing the null values from confirmed_df\n",
    "confirmed_df = confirmed_df[~confirmed_df['lat'].isnull()]"
   ]
  },
  {
   "cell_type": "code",
   "execution_count": 45,
   "metadata": {
    "scrolled": true
   },
   "outputs": [
    {
     "data": {
      "text/html": [
       "<div style=\"width:100%;\"><div style=\"position:relative;width:100%;height:0;padding-bottom:60%;\"><span style=\"color:#565656\">Make this Notebook Trusted to load map: File -> Trust Notebook</span><iframe src=\"about:blank\" style=\"position:absolute;width:100%;height:100%;left:0;top:0;border:none !important;\" data-html=%3C%21DOCTYPE%20html%3E%0A%3Chead%3E%20%20%20%20%0A%20%20%20%20%3Cmeta%20http-equiv%3D%22content-type%22%20content%3D%22text/html%3B%20charset%3DUTF-8%22%20/%3E%0A%20%20%20%20%0A%20%20%20%20%20%20%20%20%3Cscript%3E%0A%20%20%20%20%20%20%20%20%20%20%20%20L_NO_TOUCH%20%3D%20false%3B%0A%20%20%20%20%20%20%20%20%20%20%20%20L_DISABLE_3D%20%3D%20false%3B%0A%20%20%20%20%20%20%20%20%3C/script%3E%0A%20%20%20%20%0A%20%20%20%20%3Cstyle%3Ehtml%2C%20body%20%7Bwidth%3A%20100%25%3Bheight%3A%20100%25%3Bmargin%3A%200%3Bpadding%3A%200%3B%7D%3C/style%3E%0A%20%20%20%20%3Cstyle%3E%23map%20%7Bposition%3Aabsolute%3Btop%3A0%3Bbottom%3A0%3Bright%3A0%3Bleft%3A0%3B%7D%3C/style%3E%0A%20%20%20%20%3Cscript%20src%3D%22https%3A//cdn.jsdelivr.net/npm/leaflet%401.6.0/dist/leaflet.js%22%3E%3C/script%3E%0A%20%20%20%20%3Cscript%20src%3D%22https%3A//code.jquery.com/jquery-1.12.4.min.js%22%3E%3C/script%3E%0A%20%20%20%20%3Cscript%20src%3D%22https%3A//maxcdn.bootstrapcdn.com/bootstrap/3.2.0/js/bootstrap.min.js%22%3E%3C/script%3E%0A%20%20%20%20%3Cscript%20src%3D%22https%3A//cdnjs.cloudflare.com/ajax/libs/Leaflet.awesome-markers/2.0.2/leaflet.awesome-markers.js%22%3E%3C/script%3E%0A%20%20%20%20%3Clink%20rel%3D%22stylesheet%22%20href%3D%22https%3A//cdn.jsdelivr.net/npm/leaflet%401.6.0/dist/leaflet.css%22/%3E%0A%20%20%20%20%3Clink%20rel%3D%22stylesheet%22%20href%3D%22https%3A//maxcdn.bootstrapcdn.com/bootstrap/3.2.0/css/bootstrap.min.css%22/%3E%0A%20%20%20%20%3Clink%20rel%3D%22stylesheet%22%20href%3D%22https%3A//maxcdn.bootstrapcdn.com/bootstrap/3.2.0/css/bootstrap-theme.min.css%22/%3E%0A%20%20%20%20%3Clink%20rel%3D%22stylesheet%22%20href%3D%22https%3A//maxcdn.bootstrapcdn.com/font-awesome/4.6.3/css/font-awesome.min.css%22/%3E%0A%20%20%20%20%3Clink%20rel%3D%22stylesheet%22%20href%3D%22https%3A//cdnjs.cloudflare.com/ajax/libs/Leaflet.awesome-markers/2.0.2/leaflet.awesome-markers.css%22/%3E%0A%20%20%20%20%3Clink%20rel%3D%22stylesheet%22%20href%3D%22https%3A//cdn.jsdelivr.net/gh/python-visualization/folium/folium/templates/leaflet.awesome.rotate.min.css%22/%3E%0A%20%20%20%20%0A%20%20%20%20%20%20%20%20%20%20%20%20%3Cmeta%20name%3D%22viewport%22%20content%3D%22width%3Ddevice-width%2C%0A%20%20%20%20%20%20%20%20%20%20%20%20%20%20%20%20initial-scale%3D1.0%2C%20maximum-scale%3D1.0%2C%20user-scalable%3Dno%22%20/%3E%0A%20%20%20%20%20%20%20%20%20%20%20%20%3Cstyle%3E%0A%20%20%20%20%20%20%20%20%20%20%20%20%20%20%20%20%23map_aebf8a811f48491ea9853ca070daf374%20%7B%0A%20%20%20%20%20%20%20%20%20%20%20%20%20%20%20%20%20%20%20%20position%3A%20relative%3B%0A%20%20%20%20%20%20%20%20%20%20%20%20%20%20%20%20%20%20%20%20width%3A%20100.0%25%3B%0A%20%20%20%20%20%20%20%20%20%20%20%20%20%20%20%20%20%20%20%20height%3A%20100.0%25%3B%0A%20%20%20%20%20%20%20%20%20%20%20%20%20%20%20%20%20%20%20%20left%3A%200.0%25%3B%0A%20%20%20%20%20%20%20%20%20%20%20%20%20%20%20%20%20%20%20%20top%3A%200.0%25%3B%0A%20%20%20%20%20%20%20%20%20%20%20%20%20%20%20%20%7D%0A%20%20%20%20%20%20%20%20%20%20%20%20%3C/style%3E%0A%20%20%20%20%20%20%20%20%0A%3C/head%3E%0A%3Cbody%3E%20%20%20%20%0A%20%20%20%20%0A%20%20%20%20%20%20%20%20%20%20%20%20%3Cdiv%20class%3D%22folium-map%22%20id%3D%22map_aebf8a811f48491ea9853ca070daf374%22%20%3E%3C/div%3E%0A%20%20%20%20%20%20%20%20%0A%3C/body%3E%0A%3Cscript%3E%20%20%20%20%0A%20%20%20%20%0A%20%20%20%20%20%20%20%20%20%20%20%20var%20map_aebf8a811f48491ea9853ca070daf374%20%3D%20L.map%28%0A%20%20%20%20%20%20%20%20%20%20%20%20%20%20%20%20%22map_aebf8a811f48491ea9853ca070daf374%22%2C%0A%20%20%20%20%20%20%20%20%20%20%20%20%20%20%20%20%7B%0A%20%20%20%20%20%20%20%20%20%20%20%20%20%20%20%20%20%20%20%20center%3A%20%5B11.0%2C%200.0%5D%2C%0A%20%20%20%20%20%20%20%20%20%20%20%20%20%20%20%20%20%20%20%20crs%3A%20L.CRS.EPSG3857%2C%0A%20%20%20%20%20%20%20%20%20%20%20%20%20%20%20%20%20%20%20%20zoom%3A%202%2C%0A%20%20%20%20%20%20%20%20%20%20%20%20%20%20%20%20%20%20%20%20zoomControl%3A%20true%2C%0A%20%20%20%20%20%20%20%20%20%20%20%20%20%20%20%20%20%20%20%20preferCanvas%3A%20false%2C%0A%20%20%20%20%20%20%20%20%20%20%20%20%20%20%20%20%7D%0A%20%20%20%20%20%20%20%20%20%20%20%20%29%3B%0A%0A%20%20%20%20%20%20%20%20%20%20%20%20%0A%0A%20%20%20%20%20%20%20%20%0A%20%20%20%20%0A%20%20%20%20%20%20%20%20%20%20%20%20var%20tile_layer_39d5d77f19fe4b00be69ab261be0f7cd%20%3D%20L.tileLayer%28%0A%20%20%20%20%20%20%20%20%20%20%20%20%20%20%20%20%22https%3A//cartodb-basemaps-%7Bs%7D.global.ssl.fastly.net/light_all/%7Bz%7D/%7Bx%7D/%7By%7D.png%22%2C%0A%20%20%20%20%20%20%20%20%20%20%20%20%20%20%20%20%7B%22attribution%22%3A%20%22%5Cu0026copy%3B%20%5Cu003ca%20href%3D%5C%22http%3A//www.openstreetmap.org/copyright%5C%22%5Cu003eOpenStreetMap%5Cu003c/a%5Cu003e%20contributors%20%5Cu0026copy%3B%20%5Cu003ca%20href%3D%5C%22http%3A//cartodb.com/attributions%5C%22%5Cu003eCartoDB%5Cu003c/a%5Cu003e%2C%20CartoDB%20%5Cu003ca%20href%20%3D%5C%22http%3A//cartodb.com/attributions%5C%22%5Cu003eattributions%5Cu003c/a%5Cu003e%22%2C%20%22detectRetina%22%3A%20false%2C%20%22maxNativeZoom%22%3A%206%2C%20%22maxZoom%22%3A%206%2C%20%22minZoom%22%3A%202%2C%20%22noWrap%22%3A%20false%2C%20%22opacity%22%3A%201%2C%20%22subdomains%22%3A%20%22abc%22%2C%20%22tms%22%3A%20false%7D%0A%20%20%20%20%20%20%20%20%20%20%20%20%29.addTo%28map_aebf8a811f48491ea9853ca070daf374%29%3B%0A%20%20%20%20%20%20%20%20%0A%20%20%20%20%0A%20%20%20%20%20%20%20%20%20%20%20%20var%20circle_dcc0208586c74b298b7efb841c1bdee3%20%3D%20L.circle%28%0A%20%20%20%20%20%20%20%20%20%20%20%20%20%20%20%20%5B33.93911%2C%2067.709953%5D%2C%0A%20%20%20%20%20%20%20%20%20%20%20%20%20%20%20%20%7B%22bubblingMouseEvents%22%3A%20true%2C%20%22color%22%3A%20%22red%22%2C%20%22dashArray%22%3A%20null%2C%20%22dashOffset%22%3A%20null%2C%20%22fill%22%3A%20true%2C%20%22fillColor%22%3A%20%22indigo%22%2C%20%22fillOpacity%22%3A%200.2%2C%20%22fillRule%22%3A%20%22evenodd%22%2C%20%22lineCap%22%3A%20%22round%22%2C%20%22lineJoin%22%3A%20%22round%22%2C%20%22opacity%22%3A%201.0%2C%20%22radius%22%3A%2056000.0%2C%20%22stroke%22%3A%20true%2C%20%22weight%22%3A%203%7D%0A%20%20%20%20%20%20%20%20%20%20%20%20%29.addTo%28map_aebf8a811f48491ea9853ca070daf374%29%3B%0A%20%20%20%20%20%20%20%20%0A%20%20%20%20%0A%20%20%20%20%20%20%20%20%20%20%20%20circle_dcc0208586c74b298b7efb841c1bdee3.bindTooltip%28%0A%20%20%20%20%20%20%20%20%20%20%20%20%20%20%20%20%60%3Cdiv%3E%0A%20%20%20%20%20%20%20%20%20%20%20%20%20%20%20%20%20%20%20%20%20%3Cdiv%20style%3D%27margin%3A%200%3B%20background-color%3A%20black%3B%20color%3A%20white%3B%27%3E%3Ch4%20style%3D%27text-align%3Acenter%3Bfont-weight%3A%20bold%27%3EAfghanistan%3C/h4%3E%3Chr%20style%3D%27margin%3A10px%3Bcolor%3A%20white%3B%27%3E%3Cul%20style%3D%27color%3A%20white%3B%3Blist-style-type%3Acircle%3Balign-item%3Aleft%3Bpadding-left%3A20px%3Bpadding-right%3A20px%27%3E%3Cli%3EConfirmed%3A%2060563%3C/li%3E%3Cli%3EDeaths%3A%20%20%202648%3C/li%3E%3Cli%3EDeath%20Rate%3A%204.37%3C/li%3E%3C/ul%3E%3C/div%3E%0A%20%20%20%20%20%20%20%20%20%20%20%20%20%20%20%20%20%3C/div%3E%60%2C%0A%20%20%20%20%20%20%20%20%20%20%20%20%20%20%20%20%7B%22sticky%22%3A%20true%7D%0A%20%20%20%20%20%20%20%20%20%20%20%20%29%3B%0A%20%20%20%20%20%20%20%20%0A%20%20%20%20%0A%20%20%20%20%20%20%20%20%20%20%20%20var%20circle_5a14911956404c93adde0c4b1bb82570%20%3D%20L.circle%28%0A%20%20%20%20%20%20%20%20%20%20%20%20%20%20%20%20%5B41.1533%2C%2020.1683%5D%2C%0A%20%20%20%20%20%20%20%20%20%20%20%20%20%20%20%20%7B%22bubblingMouseEvents%22%3A%20true%2C%20%22color%22%3A%20%22red%22%2C%20%22dashArray%22%3A%20null%2C%20%22dashOffset%22%3A%20null%2C%20%22fill%22%3A%20true%2C%20%22fillColor%22%3A%20%22indigo%22%2C%20%22fillOpacity%22%3A%200.2%2C%20%22fillRule%22%3A%20%22evenodd%22%2C%20%22lineCap%22%3A%20%22round%22%2C%20%22lineJoin%22%3A%20%22round%22%2C%20%22opacity%22%3A%201.0%2C%20%22radius%22%3A%2056000.0%2C%20%22stroke%22%3A%20true%2C%20%22weight%22%3A%203%7D%0A%20%20%20%20%20%20%20%20%20%20%20%20%29.addTo%28map_aebf8a811f48491ea9853ca070daf374%29%3B%0A%20%20%20%20%20%20%20%20%0A%20%20%20%20%0A%20%20%20%20%20%20%20%20%20%20%20%20circle_5a14911956404c93adde0c4b1bb82570.bindTooltip%28%0A%20%20%20%20%20%20%20%20%20%20%20%20%20%20%20%20%60%3Cdiv%3E%0A%20%20%20%20%20%20%20%20%20%20%20%20%20%20%20%20%20%20%20%20%20%3Cdiv%20style%3D%27margin%3A%200%3B%20background-color%3A%20black%3B%20color%3A%20white%3B%27%3E%3Ch4%20style%3D%27text-align%3Acenter%3Bfont-weight%3A%20bold%27%3EAlbania%3C/h4%3E%3Chr%20style%3D%27margin%3A10px%3Bcolor%3A%20white%3B%27%3E%3Cul%20style%3D%27color%3A%20white%3B%3Blist-style-type%3Acircle%3Balign-item%3Aleft%3Bpadding-left%3A20px%3Bpadding-right%3A20px%27%3E%3Cli%3EConfirmed%3A%20131327%3C/li%3E%3Cli%3EDeaths%3A%20%20%202402%3C/li%3E%3Cli%3EDeath%20Rate%3A%201.83%3C/li%3E%3C/ul%3E%3C/div%3E%0A%20%20%20%20%20%20%20%20%20%20%20%20%20%20%20%20%20%3C/div%3E%60%2C%0A%20%20%20%20%20%20%20%20%20%20%20%20%20%20%20%20%7B%22sticky%22%3A%20true%7D%0A%20%20%20%20%20%20%20%20%20%20%20%20%29%3B%0A%20%20%20%20%20%20%20%20%0A%20%20%20%20%0A%20%20%20%20%20%20%20%20%20%20%20%20var%20circle_da9cb76ef6af414c981694360f4db1d2%20%3D%20L.circle%28%0A%20%20%20%20%20%20%20%20%20%20%20%20%20%20%20%20%5B28.0339%2C%201.6596%5D%2C%0A%20%20%20%20%20%20%20%20%20%20%20%20%20%20%20%20%7B%22bubblingMouseEvents%22%3A%20true%2C%20%22color%22%3A%20%22red%22%2C%20%22dashArray%22%3A%20null%2C%20%22dashOffset%22%3A%20null%2C%20%22fill%22%3A%20true%2C%20%22fillColor%22%3A%20%22indigo%22%2C%20%22fillOpacity%22%3A%200.2%2C%20%22fillRule%22%3A%20%22evenodd%22%2C%20%22lineCap%22%3A%20%22round%22%2C%20%22lineJoin%22%3A%20%22round%22%2C%20%22opacity%22%3A%201.0%2C%20%22radius%22%3A%2056000.0%2C%20%22stroke%22%3A%20true%2C%20%22weight%22%3A%203%7D%0A%20%20%20%20%20%20%20%20%20%20%20%20%29.addTo%28map_aebf8a811f48491ea9853ca070daf374%29%3B%0A%20%20%20%20%20%20%20%20%0A%20%20%20%20%0A%20%20%20%20%20%20%20%20%20%20%20%20circle_da9cb76ef6af414c981694360f4db1d2.bindTooltip%28%0A%20%20%20%20%20%20%20%20%20%20%20%20%20%20%20%20%60%3Cdiv%3E%0A%20%20%20%20%20%20%20%20%20%20%20%20%20%20%20%20%20%20%20%20%20%3Cdiv%20style%3D%27margin%3A%200%3B%20background-color%3A%20black%3B%20color%3A%20white%3B%27%3E%3Ch4%20style%3D%27text-align%3Acenter%3Bfont-weight%3A%20bold%27%3EAlgeria%3C/h4%3E%3Chr%20style%3D%27margin%3A10px%3Bcolor%3A%20white%3B%27%3E%3Cul%20style%3D%27color%3A%20white%3B%3Blist-style-type%3Acircle%3Balign-item%3Aleft%3Bpadding-left%3A20px%3Bpadding-right%3A20px%27%3E%3Cli%3EConfirmed%3A%20122999%3C/li%3E%3Cli%3EDeaths%3A%20%20%203289%3C/li%3E%3Cli%3EDeath%20Rate%3A%202.67%3C/li%3E%3C/ul%3E%3C/div%3E%0A%20%20%20%20%20%20%20%20%20%20%20%20%20%20%20%20%20%3C/div%3E%60%2C%0A%20%20%20%20%20%20%20%20%20%20%20%20%20%20%20%20%7B%22sticky%22%3A%20true%7D%0A%20%20%20%20%20%20%20%20%20%20%20%20%29%3B%0A%20%20%20%20%20%20%20%20%0A%20%20%20%20%0A%20%20%20%20%20%20%20%20%20%20%20%20var%20circle_87b50d3b9e1b4c499815c99ac32d2fd2%20%3D%20L.circle%28%0A%20%20%20%20%20%20%20%20%20%20%20%20%20%20%20%20%5B42.5063%2C%201.5218%5D%2C%0A%20%20%20%20%20%20%20%20%20%20%20%20%20%20%20%20%7B%22bubblingMouseEvents%22%3A%20true%2C%20%22color%22%3A%20%22red%22%2C%20%22dashArray%22%3A%20null%2C%20%22dashOffset%22%3A%20null%2C%20%22fill%22%3A%20true%2C%20%22fillColor%22%3A%20%22indigo%22%2C%20%22fillOpacity%22%3A%200.2%2C%20%22fillRule%22%3A%20%22evenodd%22%2C%20%22lineCap%22%3A%20%22round%22%2C%20%22lineJoin%22%3A%20%22round%22%2C%20%22opacity%22%3A%201.0%2C%20%22radius%22%3A%2046000.0%2C%20%22stroke%22%3A%20true%2C%20%22weight%22%3A%203%7D%0A%20%20%20%20%20%20%20%20%20%20%20%20%29.addTo%28map_aebf8a811f48491ea9853ca070daf374%29%3B%0A%20%20%20%20%20%20%20%20%0A%20%20%20%20%0A%20%20%20%20%20%20%20%20%20%20%20%20circle_87b50d3b9e1b4c499815c99ac32d2fd2.bindTooltip%28%0A%20%20%20%20%20%20%20%20%20%20%20%20%20%20%20%20%60%3Cdiv%3E%0A%20%20%20%20%20%20%20%20%20%20%20%20%20%20%20%20%20%20%20%20%20%3Cdiv%20style%3D%27margin%3A%200%3B%20background-color%3A%20black%3B%20color%3A%20white%3B%27%3E%3Ch4%20style%3D%27text-align%3Acenter%3Bfont-weight%3A%20bold%27%3EAndorra%3C/h4%3E%3Chr%20style%3D%27margin%3A10px%3Bcolor%3A%20white%3B%27%3E%3Cul%20style%3D%27color%3A%20white%3B%3Blist-style-type%3Acircle%3Balign-item%3Aleft%3Bpadding-left%3A20px%3Bpadding-right%3A20px%27%3E%3Cli%3EConfirmed%3A%2013316%3C/li%3E%3Cli%3EDeaths%3A%20%20%20127%3C/li%3E%3Cli%3EDeath%20Rate%3A%200.95%3C/li%3E%3C/ul%3E%3C/div%3E%0A%20%20%20%20%20%20%20%20%20%20%20%20%20%20%20%20%20%3C/div%3E%60%2C%0A%20%20%20%20%20%20%20%20%20%20%20%20%20%20%20%20%7B%22sticky%22%3A%20true%7D%0A%20%20%20%20%20%20%20%20%20%20%20%20%29%3B%0A%20%20%20%20%20%20%20%20%0A%20%20%20%20%0A%20%20%20%20%20%20%20%20%20%20%20%20var%20circle_9db6666cce974bd8ad6fe03f5533fc06%20%3D%20L.circle%28%0A%20%20%20%20%20%20%20%20%20%20%20%20%20%20%20%20%5B-11.2027%2C%2017.8739%5D%2C%0A%20%20%20%20%20%20%20%20%20%20%20%20%20%20%20%20%7B%22bubblingMouseEvents%22%3A%20true%2C%20%22color%22%3A%20%22red%22%2C%20%22dashArray%22%3A%20null%2C%20%22dashOffset%22%3A%20null%2C%20%22fill%22%3A%20true%2C%20%22fillColor%22%3A%20%22indigo%22%2C%20%22fillOpacity%22%3A%200.2%2C%20%22fillRule%22%3A%20%22evenodd%22%2C%20%22lineCap%22%3A%20%22round%22%2C%20%22lineJoin%22%3A%20%22round%22%2C%20%22opacity%22%3A%201.0%2C%20%22radius%22%3A%2051000.0%2C%20%22stroke%22%3A%20true%2C%20%22weight%22%3A%203%7D%0A%20%20%20%20%20%20%20%20%20%20%20%20%29.addTo%28map_aebf8a811f48491ea9853ca070daf374%29%3B%0A%20%20%20%20%20%20%20%20%0A%20%20%20%20%0A%20%20%20%20%20%20%20%20%20%20%20%20circle_9db6666cce974bd8ad6fe03f5533fc06.bindTooltip%28%0A%20%20%20%20%20%20%20%20%20%20%20%20%20%20%20%20%60%3Cdiv%3E%0A%20%20%20%20%20%20%20%20%20%20%20%20%20%20%20%20%20%20%20%20%20%3Cdiv%20style%3D%27margin%3A%200%3B%20background-color%3A%20black%3B%20color%3A%20white%3B%27%3E%3Ch4%20style%3D%27text-align%3Acenter%3Bfont-weight%3A%20bold%27%3EAngola%3C/h4%3E%3Chr%20style%3D%27margin%3A10px%3Bcolor%3A%20white%3B%27%3E%3Cul%20style%3D%27color%3A%20white%3B%3Blist-style-type%3Acircle%3Balign-item%3Aleft%3Bpadding-left%3A20px%3Bpadding-right%3A20px%27%3E%3Cli%3EConfirmed%3A%2027284%3C/li%3E%3Cli%3EDeaths%3A%20%20%20609%3C/li%3E%3Cli%3EDeath%20Rate%3A%202.23%3C/li%3E%3C/ul%3E%3C/div%3E%0A%20%20%20%20%20%20%20%20%20%20%20%20%20%20%20%20%20%3C/div%3E%60%2C%0A%20%20%20%20%20%20%20%20%20%20%20%20%20%20%20%20%7B%22sticky%22%3A%20true%7D%0A%20%20%20%20%20%20%20%20%20%20%20%20%29%3B%0A%20%20%20%20%20%20%20%20%0A%20%20%20%20%0A%20%20%20%20%20%20%20%20%20%20%20%20var%20circle_f5afef801913413797fed1eb8aed4015%20%3D%20L.circle%28%0A%20%20%20%20%20%20%20%20%20%20%20%20%20%20%20%20%5B17.0608%2C%20-61.7964%5D%2C%0A%20%20%20%20%20%20%20%20%20%20%20%20%20%20%20%20%7B%22bubblingMouseEvents%22%3A%20true%2C%20%22color%22%3A%20%22red%22%2C%20%22dashArray%22%3A%20null%2C%20%22dashOffset%22%3A%20null%2C%20%22fill%22%3A%20true%2C%20%22fillColor%22%3A%20%22indigo%22%2C%20%22fillOpacity%22%3A%200.2%2C%20%22fillRule%22%3A%20%22evenodd%22%2C%20%22lineCap%22%3A%20%22round%22%2C%20%22lineJoin%22%3A%20%22round%22%2C%20%22opacity%22%3A%201.0%2C%20%22radius%22%3A%2036000.0%2C%20%22stroke%22%3A%20true%2C%20%22weight%22%3A%203%7D%0A%20%20%20%20%20%20%20%20%20%20%20%20%29.addTo%28map_aebf8a811f48491ea9853ca070daf374%29%3B%0A%20%20%20%20%20%20%20%20%0A%20%20%20%20%0A%20%20%20%20%20%20%20%20%20%20%20%20circle_f5afef801913413797fed1eb8aed4015.bindTooltip%28%0A%20%20%20%20%20%20%20%20%20%20%20%20%20%20%20%20%60%3Cdiv%3E%0A%20%20%20%20%20%20%20%20%20%20%20%20%20%20%20%20%20%20%20%20%20%3Cdiv%20style%3D%27margin%3A%200%3B%20background-color%3A%20black%3B%20color%3A%20white%3B%27%3E%3Ch4%20style%3D%27text-align%3Acenter%3Bfont-weight%3A%20bold%27%3EAntigua%20and%20Barbuda%3C/h4%3E%3Chr%20style%3D%27margin%3A10px%3Bcolor%3A%20white%3B%27%3E%3Cul%20style%3D%27color%3A%20white%3B%3Blist-style-type%3Acircle%3Balign-item%3Aleft%3Bpadding-left%3A20px%3Bpadding-right%3A20px%27%3E%3Cli%3EConfirmed%3A%201232%3C/li%3E%3Cli%3EDeaths%3A%20%20%2032%3C/li%3E%3Cli%3EDeath%20Rate%3A%202.6%3C/li%3E%3C/ul%3E%3C/div%3E%0A%20%20%20%20%20%20%20%20%20%20%20%20%20%20%20%20%20%3C/div%3E%60%2C%0A%20%20%20%20%20%20%20%20%20%20%20%20%20%20%20%20%7B%22sticky%22%3A%20true%7D%0A%20%20%20%20%20%20%20%20%20%20%20%20%29%3B%0A%20%20%20%20%20%20%20%20%0A%20%20%20%20%0A%20%20%20%20%20%20%20%20%20%20%20%20var%20circle_742a2e5abbf7460c8a7ea713d805096f%20%3D%20L.circle%28%0A%20%20%20%20%20%20%20%20%20%20%20%20%20%20%20%20%5B-38.4161%2C%20-63.6167%5D%2C%0A%20%20%20%20%20%20%20%20%20%20%20%20%20%20%20%20%7B%22bubblingMouseEvents%22%3A%20true%2C%20%22color%22%3A%20%22red%22%2C%20%22dashArray%22%3A%20null%2C%20%22dashOffset%22%3A%20null%2C%20%22fill%22%3A%20true%2C%20%22fillColor%22%3A%20%22indigo%22%2C%20%22fillOpacity%22%3A%200.2%2C%20%22fillRule%22%3A%20%22evenodd%22%2C%20%22lineCap%22%3A%20%22round%22%2C%20%22lineJoin%22%3A%20%22round%22%2C%20%22opacity%22%3A%201.0%2C%20%22radius%22%3A%2071000.0%2C%20%22stroke%22%3A%20true%2C%20%22weight%22%3A%203%7D%0A%20%20%20%20%20%20%20%20%20%20%20%20%29.addTo%28map_aebf8a811f48491ea9853ca070daf374%29%3B%0A%20%20%20%20%20%20%20%20%0A%20%20%20%20%0A%20%20%20%20%20%20%20%20%20%20%20%20circle_742a2e5abbf7460c8a7ea713d805096f.bindTooltip%28%0A%20%20%20%20%20%20%20%20%20%20%20%20%20%20%20%20%60%3Cdiv%3E%0A%20%20%20%20%20%20%20%20%20%20%20%20%20%20%20%20%20%20%20%20%20%3Cdiv%20style%3D%27margin%3A%200%3B%20background-color%3A%20black%3B%20color%3A%20white%3B%27%3E%3Ch4%20style%3D%27text-align%3Acenter%3Bfont-weight%3A%20bold%27%3EArgentina%3C/h4%3E%3Chr%20style%3D%27margin%3A10px%3Bcolor%3A%20white%3B%27%3E%3Cul%20style%3D%27color%3A%20white%3B%3Blist-style-type%3Acircle%3Balign-item%3Aleft%3Bpadding-left%3A20px%3Bpadding-right%3A20px%27%3E%3Cli%3EConfirmed%3A%203047417%3C/li%3E%3Cli%3EDeaths%3A%20%20%2065202%3C/li%3E%3Cli%3EDeath%20Rate%3A%202.14%3C/li%3E%3C/ul%3E%3C/div%3E%0A%20%20%20%20%20%20%20%20%20%20%20%20%20%20%20%20%20%3C/div%3E%60%2C%0A%20%20%20%20%20%20%20%20%20%20%20%20%20%20%20%20%7B%22sticky%22%3A%20true%7D%0A%20%20%20%20%20%20%20%20%20%20%20%20%29%3B%0A%20%20%20%20%20%20%20%20%0A%20%20%20%20%0A%20%20%20%20%20%20%20%20%20%20%20%20var%20circle_363f9e1b3cc9484b8be4e644694e2ad3%20%3D%20L.circle%28%0A%20%20%20%20%20%20%20%20%20%20%20%20%20%20%20%20%5B40.0691%2C%2045.0382%5D%2C%0A%20%20%20%20%20%20%20%20%20%20%20%20%20%20%20%20%7B%22bubblingMouseEvents%22%3A%20true%2C%20%22color%22%3A%20%22red%22%2C%20%22dashArray%22%3A%20null%2C%20%22dashOffset%22%3A%20null%2C%20%22fill%22%3A%20true%2C%20%22fillColor%22%3A%20%22indigo%22%2C%20%22fillOpacity%22%3A%200.2%2C%20%22fillRule%22%3A%20%22evenodd%22%2C%20%22lineCap%22%3A%20%22round%22%2C%20%22lineJoin%22%3A%20%22round%22%2C%20%22opacity%22%3A%201.0%2C%20%22radius%22%3A%2061000.0%2C%20%22stroke%22%3A%20true%2C%20%22weight%22%3A%203%7D%0A%20%20%20%20%20%20%20%20%20%20%20%20%29.addTo%28map_aebf8a811f48491ea9853ca070daf374%29%3B%0A%20%20%20%20%20%20%20%20%0A%20%20%20%20%0A%20%20%20%20%20%20%20%20%20%20%20%20circle_363f9e1b3cc9484b8be4e644694e2ad3.bindTooltip%28%0A%20%20%20%20%20%20%20%20%20%20%20%20%20%20%20%20%60%3Cdiv%3E%0A%20%20%20%20%20%20%20%20%20%20%20%20%20%20%20%20%20%20%20%20%20%3Cdiv%20style%3D%27margin%3A%200%3B%20background-color%3A%20black%3B%20color%3A%20white%3B%27%3E%3Ch4%20style%3D%27text-align%3Acenter%3Bfont-weight%3A%20bold%27%3EArmenia%3C/h4%3E%3Chr%20style%3D%27margin%3A10px%3Bcolor%3A%20white%3B%27%3E%3Cul%20style%3D%27color%3A%20white%3B%3Blist-style-type%3Acircle%3Balign-item%3Aleft%3Bpadding-left%3A20px%3Bpadding-right%3A20px%27%3E%3Cli%3EConfirmed%3A%20217407%3C/li%3E%3Cli%3EDeaths%3A%20%20%204165%3C/li%3E%3Cli%3EDeath%20Rate%3A%201.92%3C/li%3E%3C/ul%3E%3C/div%3E%0A%20%20%20%20%20%20%20%20%20%20%20%20%20%20%20%20%20%3C/div%3E%60%2C%0A%20%20%20%20%20%20%20%20%20%20%20%20%20%20%20%20%7B%22sticky%22%3A%20true%7D%0A%20%20%20%20%20%20%20%20%20%20%20%20%29%3B%0A%20%20%20%20%20%20%20%20%0A%20%20%20%20%0A%20%20%20%20%20%20%20%20%20%20%20%20var%20circle_dd495c71374f4f7fbbc8352cddca96aa%20%3D%20L.circle%28%0A%20%20%20%20%20%20%20%20%20%20%20%20%20%20%20%20%5B-35.4735%2C%20149.0124%5D%2C%0A%20%20%20%20%20%20%20%20%20%20%20%20%20%20%20%20%7B%22bubblingMouseEvents%22%3A%20true%2C%20%22color%22%3A%20%22red%22%2C%20%22dashArray%22%3A%20null%2C%20%22dashOffset%22%3A%20null%2C%20%22fill%22%3A%20true%2C%20%22fillColor%22%3A%20%22indigo%22%2C%20%22fillOpacity%22%3A%200.2%2C%20%22fillRule%22%3A%20%22evenodd%22%2C%20%22lineCap%22%3A%20%22round%22%2C%20%22lineJoin%22%3A%20%22round%22%2C%20%22opacity%22%3A%201.0%2C%20%22radius%22%3A%2021000.0%2C%20%22stroke%22%3A%20true%2C%20%22weight%22%3A%203%7D%0A%20%20%20%20%20%20%20%20%20%20%20%20%29.addTo%28map_aebf8a811f48491ea9853ca070daf374%29%3B%0A%20%20%20%20%20%20%20%20%0A%20%20%20%20%0A%20%20%20%20%20%20%20%20%20%20%20%20circle_dd495c71374f4f7fbbc8352cddca96aa.bindTooltip%28%0A%20%20%20%20%20%20%20%20%20%20%20%20%20%20%20%20%60%3Cdiv%3E%0A%20%20%20%20%20%20%20%20%20%20%20%20%20%20%20%20%20%20%20%20%20%3Cdiv%20style%3D%27margin%3A%200%3B%20background-color%3A%20black%3B%20color%3A%20white%3B%27%3E%3Ch4%20style%3D%27text-align%3Acenter%3Bfont-weight%3A%20bold%27%3EAustralia%3C/h4%3E%3Chr%20style%3D%27margin%3A10px%3Bcolor%3A%20white%3B%27%3E%3Cul%20style%3D%27color%3A%20white%3B%3Blist-style-type%3Acircle%3Balign-item%3Aleft%3Bpadding-left%3A20px%3Bpadding-right%3A20px%27%3E%3Cli%3EConfirmed%3A%20124%3C/li%3E%3Cli%3EDeaths%3A%20%20%203%3C/li%3E%3Cli%3EDeath%20Rate%3A%202.4%3C/li%3E%3C/ul%3E%3C/div%3E%0A%20%20%20%20%20%20%20%20%20%20%20%20%20%20%20%20%20%3C/div%3E%60%2C%0A%20%20%20%20%20%20%20%20%20%20%20%20%20%20%20%20%7B%22sticky%22%3A%20true%7D%0A%20%20%20%20%20%20%20%20%20%20%20%20%29%3B%0A%20%20%20%20%20%20%20%20%0A%20%20%20%20%0A%20%20%20%20%20%20%20%20%20%20%20%20var%20circle_12fed5fad600474797c24e5cca1fd86a%20%3D%20L.circle%28%0A%20%20%20%20%20%20%20%20%20%20%20%20%20%20%20%20%5B-33.8688%2C%20151.2093%5D%2C%0A%20%20%20%20%20%20%20%20%20%20%20%20%20%20%20%20%7B%22bubblingMouseEvents%22%3A%20true%2C%20%22color%22%3A%20%22red%22%2C%20%22dashArray%22%3A%20null%2C%20%22dashOffset%22%3A%20null%2C%20%22fill%22%3A%20true%2C%20%22fillColor%22%3A%20%22indigo%22%2C%20%22fillOpacity%22%3A%200.2%2C%20%22fillRule%22%3A%20%22evenodd%22%2C%20%22lineCap%22%3A%20%22round%22%2C%20%22lineJoin%22%3A%20%22round%22%2C%20%22opacity%22%3A%201.0%2C%20%22radius%22%3A%2041000.0%2C%20%22stroke%22%3A%20true%2C%20%22weight%22%3A%203%7D%0A%20%20%20%20%20%20%20%20%20%20%20%20%29.addTo%28map_aebf8a811f48491ea9853ca070daf374%29%3B%0A%20%20%20%20%20%20%20%20%0A%20%20%20%20%0A%20%20%20%20%20%20%20%20%20%20%20%20circle_12fed5fad600474797c24e5cca1fd86a.bindTooltip%28%0A%20%20%20%20%20%20%20%20%20%20%20%20%20%20%20%20%60%3Cdiv%3E%0A%20%20%20%20%20%20%20%20%20%20%20%20%20%20%20%20%20%20%20%20%20%3Cdiv%20style%3D%27margin%3A%200%3B%20background-color%3A%20black%3B%20color%3A%20white%3B%27%3E%3Ch4%20style%3D%27text-align%3Acenter%3Bfont-weight%3A%20bold%27%3EAustralia%3C/h4%3E%3Chr%20style%3D%27margin%3A10px%3Bcolor%3A%20white%3B%27%3E%3Cul%20style%3D%27color%3A%20white%3B%3Blist-style-type%3Acircle%3Balign-item%3Aleft%3Bpadding-left%3A20px%3Bpadding-right%3A20px%27%3E%3Cli%3EConfirmed%3A%205506%3C/li%3E%3Cli%3EDeaths%3A%20%20%2054%3C/li%3E%3Cli%3EDeath%20Rate%3A%200.98%3C/li%3E%3C/ul%3E%3C/div%3E%0A%20%20%20%20%20%20%20%20%20%20%20%20%20%20%20%20%20%3C/div%3E%60%2C%0A%20%20%20%20%20%20%20%20%20%20%20%20%20%20%20%20%7B%22sticky%22%3A%20true%7D%0A%20%20%20%20%20%20%20%20%20%20%20%20%29%3B%0A%20%20%20%20%20%20%20%20%0A%20%20%20%20%0A%20%20%20%20%20%20%20%20%20%20%20%20var%20circle_4a385165a5cc4e279904f83547ba6b7b%20%3D%20L.circle%28%0A%20%20%20%20%20%20%20%20%20%20%20%20%20%20%20%20%5B-12.4634%2C%20130.8456%5D%2C%0A%20%20%20%20%20%20%20%20%20%20%20%20%20%20%20%20%7B%22bubblingMouseEvents%22%3A%20true%2C%20%22color%22%3A%20%22red%22%2C%20%22dashArray%22%3A%20null%2C%20%22dashOffset%22%3A%20null%2C%20%22fill%22%3A%20true%2C%20%22fillColor%22%3A%20%22indigo%22%2C%20%22fillOpacity%22%3A%200.2%2C%20%22fillRule%22%3A%20%22evenodd%22%2C%20%22lineCap%22%3A%20%22round%22%2C%20%22lineJoin%22%3A%20%22round%22%2C%20%22opacity%22%3A%201.0%2C%20%22radius%22%3A%2026000.0%2C%20%22stroke%22%3A%20true%2C%20%22weight%22%3A%203%7D%0A%20%20%20%20%20%20%20%20%20%20%20%20%29.addTo%28map_aebf8a811f48491ea9853ca070daf374%29%3B%0A%20%20%20%20%20%20%20%20%0A%20%20%20%20%0A%20%20%20%20%20%20%20%20%20%20%20%20circle_4a385165a5cc4e279904f83547ba6b7b.bindTooltip%28%0A%20%20%20%20%20%20%20%20%20%20%20%20%20%20%20%20%60%3Cdiv%3E%0A%20%20%20%20%20%20%20%20%20%20%20%20%20%20%20%20%20%20%20%20%20%3Cdiv%20style%3D%27margin%3A%200%3B%20background-color%3A%20black%3B%20color%3A%20white%3B%27%3E%3Ch4%20style%3D%27text-align%3Acenter%3Bfont-weight%3A%20bold%27%3EAustralia%3C/h4%3E%3Chr%20style%3D%27margin%3A10px%3Bcolor%3A%20white%3B%27%3E%3Cul%20style%3D%27color%3A%20white%3B%3Blist-style-type%3Acircle%3Balign-item%3Aleft%3Bpadding-left%3A20px%3Bpadding-right%3A20px%27%3E%3Cli%3EConfirmed%3A%20166%3C/li%3E%3Cli%3EDeaths%3A%20%20%200%3C/li%3E%3Cli%3EDeath%20Rate%3A%200.0%3C/li%3E%3C/ul%3E%3C/div%3E%0A%20%20%20%20%20%20%20%20%20%20%20%20%20%20%20%20%20%3C/div%3E%60%2C%0A%20%20%20%20%20%20%20%20%20%20%20%20%20%20%20%20%7B%22sticky%22%3A%20true%7D%0A%20%20%20%20%20%20%20%20%20%20%20%20%29%3B%0A%20%20%20%20%20%20%20%20%0A%20%20%20%20%0A%20%20%20%20%20%20%20%20%20%20%20%20var%20circle_ac80f9836dcb4eb591950240d54424f2%20%3D%20L.circle%28%0A%20%20%20%20%20%20%20%20%20%20%20%20%20%20%20%20%5B-27.4698%2C%20153.0251%5D%2C%0A%20%20%20%20%20%20%20%20%20%20%20%20%20%20%20%20%7B%22bubblingMouseEvents%22%3A%20true%2C%20%22color%22%3A%20%22red%22%2C%20%22dashArray%22%3A%20null%2C%20%22dashOffset%22%3A%20null%2C%20%22fill%22%3A%20true%2C%20%22fillColor%22%3A%20%22indigo%22%2C%20%22fillOpacity%22%3A%200.2%2C%20%22fillRule%22%3A%20%22evenodd%22%2C%20%22lineCap%22%3A%20%22round%22%2C%20%22lineJoin%22%3A%20%22round%22%2C%20%22opacity%22%3A%201.0%2C%20%22radius%22%3A%2036000.0%2C%20%22stroke%22%3A%20true%2C%20%22weight%22%3A%203%7D%0A%20%20%20%20%20%20%20%20%20%20%20%20%29.addTo%28map_aebf8a811f48491ea9853ca070daf374%29%3B%0A%20%20%20%20%20%20%20%20%0A%20%20%20%20%0A%20%20%20%20%20%20%20%20%20%20%20%20circle_ac80f9836dcb4eb591950240d54424f2.bindTooltip%28%0A%20%20%20%20%20%20%20%20%20%20%20%20%20%20%20%20%60%3Cdiv%3E%0A%20%20%20%20%20%20%20%20%20%20%20%20%20%20%20%20%20%20%20%20%20%3Cdiv%20style%3D%27margin%3A%200%3B%20background-color%3A%20black%3B%20color%3A%20white%3B%27%3E%3Ch4%20style%3D%27text-align%3Acenter%3Bfont-weight%3A%20bold%27%3EAustralia%3C/h4%3E%3Chr%20style%3D%27margin%3A10px%3Bcolor%3A%20white%3B%27%3E%3Cul%20style%3D%27color%3A%20white%3B%3Blist-style-type%3Acircle%3Balign-item%3Aleft%3Bpadding-left%3A20px%3Bpadding-right%3A20px%27%3E%3Cli%3EConfirmed%3A%201568%3C/li%3E%3Cli%3EDeaths%3A%20%20%207%3C/li%3E%3Cli%3EDeath%20Rate%3A%200.45%3C/li%3E%3C/ul%3E%3C/div%3E%0A%20%20%20%20%20%20%20%20%20%20%20%20%20%20%20%20%20%3C/div%3E%60%2C%0A%20%20%20%20%20%20%20%20%20%20%20%20%20%20%20%20%7B%22sticky%22%3A%20true%7D%0A%20%20%20%20%20%20%20%20%20%20%20%20%29%3B%0A%20%20%20%20%20%20%20%20%0A%20%20%20%20%0A%20%20%20%20%20%20%20%20%20%20%20%20var%20circle_a9397c3160724986837640e0646fd37d%20%3D%20L.circle%28%0A%20%20%20%20%20%20%20%20%20%20%20%20%20%20%20%20%5B-34.9285%2C%20138.6007%5D%2C%0A%20%20%20%20%20%20%20%20%20%20%20%20%20%20%20%20%7B%22bubblingMouseEvents%22%3A%20true%2C%20%22color%22%3A%20%22red%22%2C%20%22dashArray%22%3A%20null%2C%20%22dashOffset%22%3A%20null%2C%20%22fill%22%3A%20true%2C%20%22fillColor%22%3A%20%22indigo%22%2C%20%22fillOpacity%22%3A%200.2%2C%20%22fillRule%22%3A%20%22evenodd%22%2C%20%22lineCap%22%3A%20%22round%22%2C%20%22lineJoin%22%3A%20%22round%22%2C%20%22opacity%22%3A%201.0%2C%20%22radius%22%3A%2031000.0%2C%20%22stroke%22%3A%20true%2C%20%22weight%22%3A%203%7D%0A%20%20%20%20%20%20%20%20%20%20%20%20%29.addTo%28map_aebf8a811f48491ea9853ca070daf374%29%3B%0A%20%20%20%20%20%20%20%20%0A%20%20%20%20%0A%20%20%20%20%20%20%20%20%20%20%20%20circle_a9397c3160724986837640e0646fd37d.bindTooltip%28%0A%20%20%20%20%20%20%20%20%20%20%20%20%20%20%20%20%60%3Cdiv%3E%0A%20%20%20%20%20%20%20%20%20%20%20%20%20%20%20%20%20%20%20%20%20%3Cdiv%20style%3D%27margin%3A%200%3B%20background-color%3A%20black%3B%20color%3A%20white%3B%27%3E%3Ch4%20style%3D%27text-align%3Acenter%3Bfont-weight%3A%20bold%27%3EAustralia%3C/h4%3E%3Chr%20style%3D%27margin%3A10px%3Bcolor%3A%20white%3B%27%3E%3Cul%20style%3D%27color%3A%20white%3B%3Blist-style-type%3Acircle%3Balign-item%3Aleft%3Bpadding-left%3A20px%3Bpadding-right%3A20px%27%3E%3Cli%3EConfirmed%3A%20733%3C/li%3E%3Cli%3EDeaths%3A%20%20%204%3C/li%3E%3Cli%3EDeath%20Rate%3A%200.54%3C/li%3E%3C/ul%3E%3C/div%3E%0A%20%20%20%20%20%20%20%20%20%20%20%20%20%20%20%20%20%3C/div%3E%60%2C%0A%20%20%20%20%20%20%20%20%20%20%20%20%20%20%20%20%7B%22sticky%22%3A%20true%7D%0A%20%20%20%20%20%20%20%20%20%20%20%20%29%3B%0A%20%20%20%20%20%20%20%20%0A%20%20%20%20%0A%20%20%20%20%20%20%20%20%20%20%20%20var%20circle_bee3322028454501bed1ecf87c9bf610%20%3D%20L.circle%28%0A%20%20%20%20%20%20%20%20%20%20%20%20%20%20%20%20%5B-42.8821%2C%20147.3272%5D%2C%0A%20%20%20%20%20%20%20%20%20%20%20%20%20%20%20%20%7B%22bubblingMouseEvents%22%3A%20true%2C%20%22color%22%3A%20%22red%22%2C%20%22dashArray%22%3A%20null%2C%20%22dashOffset%22%3A%20null%2C%20%22fill%22%3A%20true%2C%20%22fillColor%22%3A%20%22indigo%22%2C%20%22fillOpacity%22%3A%200.2%2C%20%22fillRule%22%3A%20%22evenodd%22%2C%20%22lineCap%22%3A%20%22round%22%2C%20%22lineJoin%22%3A%20%22round%22%2C%20%22opacity%22%3A%201.0%2C%20%22radius%22%3A%2026000.0%2C%20%22stroke%22%3A%20true%2C%20%22weight%22%3A%203%7D%0A%20%20%20%20%20%20%20%20%20%20%20%20%29.addTo%28map_aebf8a811f48491ea9853ca070daf374%29%3B%0A%20%20%20%20%20%20%20%20%0A%20%20%20%20%0A%20%20%20%20%20%20%20%20%20%20%20%20circle_bee3322028454501bed1ecf87c9bf610.bindTooltip%28%0A%20%20%20%20%20%20%20%20%20%20%20%20%20%20%20%20%60%3Cdiv%3E%0A%20%20%20%20%20%20%20%20%20%20%20%20%20%20%20%20%20%20%20%20%20%3Cdiv%20style%3D%27margin%3A%200%3B%20background-color%3A%20black%3B%20color%3A%20white%3B%27%3E%3Ch4%20style%3D%27text-align%3Acenter%3Bfont-weight%3A%20bold%27%3EAustralia%3C/h4%3E%3Chr%20style%3D%27margin%3A10px%3Bcolor%3A%20white%3B%27%3E%3Cul%20style%3D%27color%3A%20white%3B%3Blist-style-type%3Acircle%3Balign-item%3Aleft%3Bpadding-left%3A20px%3Bpadding-right%3A20px%27%3E%3Cli%3EConfirmed%3A%20234%3C/li%3E%3Cli%3EDeaths%3A%20%20%2013%3C/li%3E%3Cli%3EDeath%20Rate%3A%205.53%3C/li%3E%3C/ul%3E%3C/div%3E%0A%20%20%20%20%20%20%20%20%20%20%20%20%20%20%20%20%20%3C/div%3E%60%2C%0A%20%20%20%20%20%20%20%20%20%20%20%20%20%20%20%20%7B%22sticky%22%3A%20true%7D%0A%20%20%20%20%20%20%20%20%20%20%20%20%29%3B%0A%20%20%20%20%20%20%20%20%0A%20%20%20%20%0A%20%20%20%20%20%20%20%20%20%20%20%20var%20circle_06f4303c8d744c41bc1d8bdad6a29fc1%20%3D%20L.circle%28%0A%20%20%20%20%20%20%20%20%20%20%20%20%20%20%20%20%5B-37.8136%2C%20144.9631%5D%2C%0A%20%20%20%20%20%20%20%20%20%20%20%20%20%20%20%20%7B%22bubblingMouseEvents%22%3A%20true%2C%20%22color%22%3A%20%22red%22%2C%20%22dashArray%22%3A%20null%2C%20%22dashOffset%22%3A%20null%2C%20%22fill%22%3A%20true%2C%20%22fillColor%22%3A%20%22indigo%22%2C%20%22fillOpacity%22%3A%200.2%2C%20%22fillRule%22%3A%20%22evenodd%22%2C%20%22lineCap%22%3A%20%22round%22%2C%20%22lineJoin%22%3A%20%22round%22%2C%20%22opacity%22%3A%201.0%2C%20%22radius%22%3A%2046000.0%2C%20%22stroke%22%3A%20true%2C%20%22weight%22%3A%203%7D%0A%20%20%20%20%20%20%20%20%20%20%20%20%29.addTo%28map_aebf8a811f48491ea9853ca070daf374%29%3B%0A%20%20%20%20%20%20%20%20%0A%20%20%20%20%0A%20%20%20%20%20%20%20%20%20%20%20%20circle_06f4303c8d744c41bc1d8bdad6a29fc1.bindTooltip%28%0A%20%20%20%20%20%20%20%20%20%20%20%20%20%20%20%20%60%3Cdiv%3E%0A%20%20%20%20%20%20%20%20%20%20%20%20%20%20%20%20%20%20%20%20%20%3Cdiv%20style%3D%27margin%3A%200%3B%20background-color%3A%20black%3B%20color%3A%20white%3B%27%3E%3Ch4%20style%3D%27text-align%3Acenter%3Bfont-weight%3A%20bold%27%3EAustralia%3C/h4%3E%3Chr%20style%3D%27margin%3A10px%3Bcolor%3A%20white%3B%27%3E%3Cul%20style%3D%27color%3A%20white%3B%3Blist-style-type%3Acircle%3Balign-item%3Aleft%3Bpadding-left%3A20px%3Bpadding-right%3A20px%27%3E%3Cli%3EConfirmed%3A%2020524%3C/li%3E%3Cli%3EDeaths%3A%20%20%20820%3C/li%3E%3Cli%3EDeath%20Rate%3A%204.0%3C/li%3E%3C/ul%3E%3C/div%3E%0A%20%20%20%20%20%20%20%20%20%20%20%20%20%20%20%20%20%3C/div%3E%60%2C%0A%20%20%20%20%20%20%20%20%20%20%20%20%20%20%20%20%7B%22sticky%22%3A%20true%7D%0A%20%20%20%20%20%20%20%20%20%20%20%20%29%3B%0A%20%20%20%20%20%20%20%20%0A%20%20%20%20%0A%20%20%20%20%20%20%20%20%20%20%20%20var%20circle_af9c34d2174a4e68b8bb389e8c12a40a%20%3D%20L.circle%28%0A%20%20%20%20%20%20%20%20%20%20%20%20%20%20%20%20%5B-31.9505%2C%20115.8605%5D%2C%0A%20%20%20%20%20%20%20%20%20%20%20%20%20%20%20%20%7B%22bubblingMouseEvents%22%3A%20true%2C%20%22color%22%3A%20%22red%22%2C%20%22dashArray%22%3A%20null%2C%20%22dashOffset%22%3A%20null%2C%20%22fill%22%3A%20true%2C%20%22fillColor%22%3A%20%22indigo%22%2C%20%22fillOpacity%22%3A%200.2%2C%20%22fillRule%22%3A%20%22evenodd%22%2C%20%22lineCap%22%3A%20%22round%22%2C%20%22lineJoin%22%3A%20%22round%22%2C%20%22opacity%22%3A%201.0%2C%20%22radius%22%3A%2031000.0%2C%20%22stroke%22%3A%20true%2C%20%22weight%22%3A%203%7D%0A%20%20%20%20%20%20%20%20%20%20%20%20%29.addTo%28map_aebf8a811f48491ea9853ca070daf374%29%3B%0A%20%20%20%20%20%20%20%20%0A%20%20%20%20%0A%20%20%20%20%20%20%20%20%20%20%20%20circle_af9c34d2174a4e68b8bb389e8c12a40a.bindTooltip%28%0A%20%20%20%20%20%20%20%20%20%20%20%20%20%20%20%20%60%3Cdiv%3E%0A%20%20%20%20%20%20%20%20%20%20%20%20%20%20%20%20%20%20%20%20%20%3Cdiv%20style%3D%27margin%3A%200%3B%20background-color%3A%20black%3B%20color%3A%20white%3B%27%3E%3Ch4%20style%3D%27text-align%3Acenter%3Bfont-weight%3A%20bold%27%3EAustralia%3C/h4%3E%3Chr%20style%3D%27margin%3A10px%3Bcolor%3A%20white%3B%27%3E%3Cul%20style%3D%27color%3A%20white%3B%3Blist-style-type%3Acircle%3Balign-item%3Aleft%3Bpadding-left%3A20px%3Bpadding-right%3A20px%27%3E%3Cli%3EConfirmed%3A%201010%3C/li%3E%3Cli%3EDeaths%3A%20%20%209%3C/li%3E%3Cli%3EDeath%20Rate%3A%200.89%3C/li%3E%3C/ul%3E%3C/div%3E%0A%20%20%20%20%20%20%20%20%20%20%20%20%20%20%20%20%20%3C/div%3E%60%2C%0A%20%20%20%20%20%20%20%20%20%20%20%20%20%20%20%20%7B%22sticky%22%3A%20true%7D%0A%20%20%20%20%20%20%20%20%20%20%20%20%29%3B%0A%20%20%20%20%20%20%20%20%0A%20%20%20%20%0A%20%20%20%20%20%20%20%20%20%20%20%20var%20circle_faef303b1ad44dd1b188156903537ff9%20%3D%20L.circle%28%0A%20%20%20%20%20%20%20%20%20%20%20%20%20%20%20%20%5B47.5162%2C%2014.5501%5D%2C%0A%20%20%20%20%20%20%20%20%20%20%20%20%20%20%20%20%7B%22bubblingMouseEvents%22%3A%20true%2C%20%22color%22%3A%20%22red%22%2C%20%22dashArray%22%3A%20null%2C%20%22dashOffset%22%3A%20null%2C%20%22fill%22%3A%20true%2C%20%22fillColor%22%3A%20%22indigo%22%2C%20%22fillOpacity%22%3A%200.2%2C%20%22fillRule%22%3A%20%22evenodd%22%2C%20%22lineCap%22%3A%20%22round%22%2C%20%22lineJoin%22%3A%20%22round%22%2C%20%22opacity%22%3A%201.0%2C%20%22radius%22%3A%2066000.0%2C%20%22stroke%22%3A%20true%2C%20%22weight%22%3A%203%7D%0A%20%20%20%20%20%20%20%20%20%20%20%20%29.addTo%28map_aebf8a811f48491ea9853ca070daf374%29%3B%0A%20%20%20%20%20%20%20%20%0A%20%20%20%20%0A%20%20%20%20%20%20%20%20%20%20%20%20circle_faef303b1ad44dd1b188156903537ff9.bindTooltip%28%0A%20%20%20%20%20%20%20%20%20%20%20%20%20%20%20%20%60%3Cdiv%3E%0A%20%20%20%20%20%20%20%20%20%20%20%20%20%20%20%20%20%20%20%20%20%3Cdiv%20style%3D%27margin%3A%200%3B%20background-color%3A%20black%3B%20color%3A%20white%3B%27%3E%3Ch4%20style%3D%27text-align%3Acenter%3Bfont-weight%3A%20bold%27%3EAustria%3C/h4%3E%3Chr%20style%3D%27margin%3A10px%3Bcolor%3A%20white%3B%27%3E%3Cul%20style%3D%27color%3A%20white%3B%3Blist-style-type%3Acircle%3Balign-item%3Aleft%3Bpadding-left%3A20px%3Bpadding-right%3A20px%27%3E%3Cli%3EConfirmed%3A%20624595%3C/li%3E%3Cli%3EDeaths%3A%20%20%2010291%3C/li%3E%3Cli%3EDeath%20Rate%3A%201.65%3C/li%3E%3C/ul%3E%3C/div%3E%0A%20%20%20%20%20%20%20%20%20%20%20%20%20%20%20%20%20%3C/div%3E%60%2C%0A%20%20%20%20%20%20%20%20%20%20%20%20%20%20%20%20%7B%22sticky%22%3A%20true%7D%0A%20%20%20%20%20%20%20%20%20%20%20%20%29%3B%0A%20%20%20%20%20%20%20%20%0A%20%20%20%20%0A%20%20%20%20%20%20%20%20%20%20%20%20var%20circle_23aa759427164f85b76ba12196f24acd%20%3D%20L.circle%28%0A%20%20%20%20%20%20%20%20%20%20%20%20%20%20%20%20%5B40.1431%2C%2047.5769%5D%2C%0A%20%20%20%20%20%20%20%20%20%20%20%20%20%20%20%20%7B%22bubblingMouseEvents%22%3A%20true%2C%20%22color%22%3A%20%22red%22%2C%20%22dashArray%22%3A%20null%2C%20%22dashOffset%22%3A%20null%2C%20%22fill%22%3A%20true%2C%20%22fillColor%22%3A%20%22indigo%22%2C%20%22fillOpacity%22%3A%200.2%2C%20%22fillRule%22%3A%20%22evenodd%22%2C%20%22lineCap%22%3A%20%22round%22%2C%20%22lineJoin%22%3A%20%22round%22%2C%20%22opacity%22%3A%201.0%2C%20%22radius%22%3A%2061000.0%2C%20%22stroke%22%3A%20true%2C%20%22weight%22%3A%203%7D%0A%20%20%20%20%20%20%20%20%20%20%20%20%29.addTo%28map_aebf8a811f48491ea9853ca070daf374%29%3B%0A%20%20%20%20%20%20%20%20%0A%20%20%20%20%0A%20%20%20%20%20%20%20%20%20%20%20%20circle_23aa759427164f85b76ba12196f24acd.bindTooltip%28%0A%20%20%20%20%20%20%20%20%20%20%20%20%20%20%20%20%60%3Cdiv%3E%0A%20%20%20%20%20%20%20%20%20%20%20%20%20%20%20%20%20%20%20%20%20%3Cdiv%20style%3D%27margin%3A%200%3B%20background-color%3A%20black%3B%20color%3A%20white%3B%27%3E%3Ch4%20style%3D%27text-align%3Acenter%3Bfont-weight%3A%20bold%27%3EAzerbaijan%3C/h4%3E%3Chr%20style%3D%27margin%3A10px%3Bcolor%3A%20white%3B%27%3E%3Cul%20style%3D%27color%3A%20white%3B%3Blist-style-type%3Acircle%3Balign-item%3Aleft%3Bpadding-left%3A20px%3Bpadding-right%3A20px%27%3E%3Cli%3EConfirmed%3A%20322761%3C/li%3E%3Cli%3EDeaths%3A%20%20%204597%3C/li%3E%3Cli%3EDeath%20Rate%3A%201.42%3C/li%3E%3C/ul%3E%3C/div%3E%0A%20%20%20%20%20%20%20%20%20%20%20%20%20%20%20%20%20%3C/div%3E%60%2C%0A%20%20%20%20%20%20%20%20%20%20%20%20%20%20%20%20%7B%22sticky%22%3A%20true%7D%0A%20%20%20%20%20%20%20%20%20%20%20%20%29%3B%0A%20%20%20%20%20%20%20%20%0A%20%20%20%20%0A%20%20%20%20%20%20%20%20%20%20%20%20var%20circle_7466d46b63664079b597afbe47c741f1%20%3D%20L.circle%28%0A%20%20%20%20%20%20%20%20%20%20%20%20%20%20%20%20%5B25.025885%2C%20-78.035889%5D%2C%0A%20%20%20%20%20%20%20%20%20%20%20%20%20%20%20%20%7B%22bubblingMouseEvents%22%3A%20true%2C%20%22color%22%3A%20%22red%22%2C%20%22dashArray%22%3A%20null%2C%20%22dashOffset%22%3A%20null%2C%20%22fill%22%3A%20true%2C%20%22fillColor%22%3A%20%22indigo%22%2C%20%22fillOpacity%22%3A%200.2%2C%20%22fillRule%22%3A%20%22evenodd%22%2C%20%22lineCap%22%3A%20%22round%22%2C%20%22lineJoin%22%3A%20%22round%22%2C%20%22opacity%22%3A%201.0%2C%20%22radius%22%3A%2046000.0%2C%20%22stroke%22%3A%20true%2C%20%22weight%22%3A%203%7D%0A%20%20%20%20%20%20%20%20%20%20%20%20%29.addTo%28map_aebf8a811f48491ea9853ca070daf374%29%3B%0A%20%20%20%20%20%20%20%20%0A%20%20%20%20%0A%20%20%20%20%20%20%20%20%20%20%20%20circle_7466d46b63664079b597afbe47c741f1.bindTooltip%28%0A%20%20%20%20%20%20%20%20%20%20%20%20%20%20%20%20%60%3Cdiv%3E%0A%20%20%20%20%20%20%20%20%20%20%20%20%20%20%20%20%20%20%20%20%20%3Cdiv%20style%3D%27margin%3A%200%3B%20background-color%3A%20black%3B%20color%3A%20white%3B%27%3E%3Ch4%20style%3D%27text-align%3Acenter%3Bfont-weight%3A%20bold%27%3EBahamas%3C/h4%3E%3Chr%20style%3D%27margin%3A10px%3Bcolor%3A%20white%3B%27%3E%3Cul%20style%3D%27color%3A%20white%3B%3Blist-style-type%3Acircle%3Balign-item%3Aleft%3Bpadding-left%3A20px%3Bpadding-right%3A20px%27%3E%3Cli%3EConfirmed%3A%2010576%3C/li%3E%3Cli%3EDeaths%3A%20%20%20210%3C/li%3E%3Cli%3EDeath%20Rate%3A%201.99%3C/li%3E%3C/ul%3E%3C/div%3E%0A%20%20%20%20%20%20%20%20%20%20%20%20%20%20%20%20%20%3C/div%3E%60%2C%0A%20%20%20%20%20%20%20%20%20%20%20%20%20%20%20%20%7B%22sticky%22%3A%20true%7D%0A%20%20%20%20%20%20%20%20%20%20%20%20%29%3B%0A%20%20%20%20%20%20%20%20%0A%20%20%20%20%0A%20%20%20%20%20%20%20%20%20%20%20%20var%20circle_4f21c96fdba6440593e74da1718e1662%20%3D%20L.circle%28%0A%20%20%20%20%20%20%20%20%20%20%20%20%20%20%20%20%5B26.0275%2C%2050.55%5D%2C%0A%20%20%20%20%20%20%20%20%20%20%20%20%20%20%20%20%7B%22bubblingMouseEvents%22%3A%20true%2C%20%22color%22%3A%20%22red%22%2C%20%22dashArray%22%3A%20null%2C%20%22dashOffset%22%3A%20null%2C%20%22fill%22%3A%20true%2C%20%22fillColor%22%3A%20%22indigo%22%2C%20%22fillOpacity%22%3A%200.2%2C%20%22fillRule%22%3A%20%22evenodd%22%2C%20%22lineCap%22%3A%20%22round%22%2C%20%22lineJoin%22%3A%20%22round%22%2C%20%22opacity%22%3A%201.0%2C%20%22radius%22%3A%2061000.0%2C%20%22stroke%22%3A%20true%2C%20%22weight%22%3A%203%7D%0A%20%20%20%20%20%20%20%20%20%20%20%20%29.addTo%28map_aebf8a811f48491ea9853ca070daf374%29%3B%0A%20%20%20%20%20%20%20%20%0A%20%20%20%20%0A%20%20%20%20%20%20%20%20%20%20%20%20circle_4f21c96fdba6440593e74da1718e1662.bindTooltip%28%0A%20%20%20%20%20%20%20%20%20%20%20%20%20%20%20%20%60%3Cdiv%3E%0A%20%20%20%20%20%20%20%20%20%20%20%20%20%20%20%20%20%20%20%20%20%3Cdiv%20style%3D%27margin%3A%200%3B%20background-color%3A%20black%3B%20color%3A%20white%3B%27%3E%3Ch4%20style%3D%27text-align%3Acenter%3Bfont-weight%3A%20bold%27%3EBahrain%3C/h4%3E%3Chr%20style%3D%27margin%3A10px%3Bcolor%3A%20white%3B%27%3E%3Cul%20style%3D%27color%3A%20white%3B%3Blist-style-type%3Acircle%3Balign-item%3Aleft%3Bpadding-left%3A20px%3Bpadding-right%3A20px%27%3E%3Cli%3EConfirmed%3A%20181880%3C/li%3E%3Cli%3EDeaths%3A%20%20%20662%3C/li%3E%3Cli%3EDeath%20Rate%3A%200.36%3C/li%3E%3C/ul%3E%3C/div%3E%0A%20%20%20%20%20%20%20%20%20%20%20%20%20%20%20%20%20%3C/div%3E%60%2C%0A%20%20%20%20%20%20%20%20%20%20%20%20%20%20%20%20%7B%22sticky%22%3A%20true%7D%0A%20%20%20%20%20%20%20%20%20%20%20%20%29%3B%0A%20%20%20%20%20%20%20%20%0A%20%20%20%20%0A%20%20%20%20%20%20%20%20%20%20%20%20var%20circle_bc9691b68dcc47d99292dcb6b182ad2b%20%3D%20L.circle%28%0A%20%20%20%20%20%20%20%20%20%20%20%20%20%20%20%20%5B23.685%2C%2090.3563%5D%2C%0A%20%20%20%20%20%20%20%20%20%20%20%20%20%20%20%20%7B%22bubblingMouseEvents%22%3A%20true%2C%20%22color%22%3A%20%22red%22%2C%20%22dashArray%22%3A%20null%2C%20%22dashOffset%22%3A%20null%2C%20%22fill%22%3A%20true%2C%20%22fillColor%22%3A%20%22indigo%22%2C%20%22fillOpacity%22%3A%200.2%2C%20%22fillRule%22%3A%20%22evenodd%22%2C%20%22lineCap%22%3A%20%22round%22%2C%20%22lineJoin%22%3A%20%22round%22%2C%20%22opacity%22%3A%201.0%2C%20%22radius%22%3A%2066000.0%2C%20%22stroke%22%3A%20true%2C%20%22weight%22%3A%203%7D%0A%20%20%20%20%20%20%20%20%20%20%20%20%29.addTo%28map_aebf8a811f48491ea9853ca070daf374%29%3B%0A%20%20%20%20%20%20%20%20%0A%20%20%20%20%0A%20%20%20%20%20%20%20%20%20%20%20%20circle_bc9691b68dcc47d99292dcb6b182ad2b.bindTooltip%28%0A%20%20%20%20%20%20%20%20%20%20%20%20%20%20%20%20%60%3Cdiv%3E%0A%20%20%20%20%20%20%20%20%20%20%20%20%20%20%20%20%20%20%20%20%20%3Cdiv%20style%3D%27margin%3A%200%3B%20background-color%3A%20black%3B%20color%3A%20white%3B%27%3E%3Ch4%20style%3D%27text-align%3Acenter%3Bfont-weight%3A%20bold%27%3EBangladesh%3C/h4%3E%3Chr%20style%3D%27margin%3A10px%3Bcolor%3A%20white%3B%27%3E%3Cul%20style%3D%27color%3A%20white%3B%3Blist-style-type%3Acircle%3Balign-item%3Aleft%3Bpadding-left%3A20px%3Bpadding-right%3A20px%27%3E%3Cli%3EConfirmed%3A%20765596%3C/li%3E%3Cli%3EDeaths%3A%20%20%2011705%3C/li%3E%3Cli%3EDeath%20Rate%3A%201.53%3C/li%3E%3C/ul%3E%3C/div%3E%0A%20%20%20%20%20%20%20%20%20%20%20%20%20%20%20%20%20%3C/div%3E%60%2C%0A%20%20%20%20%20%20%20%20%20%20%20%20%20%20%20%20%7B%22sticky%22%3A%20true%7D%0A%20%20%20%20%20%20%20%20%20%20%20%20%29%3B%0A%20%20%20%20%20%20%20%20%0A%20%20%20%20%0A%20%20%20%20%20%20%20%20%20%20%20%20var%20circle_4f453310b11a4f93891e65e3e394ec03%20%3D%20L.circle%28%0A%20%20%20%20%20%20%20%20%20%20%20%20%20%20%20%20%5B13.1939%2C%20-59.5432%5D%2C%0A%20%20%20%20%20%20%20%20%20%20%20%20%20%20%20%20%7B%22bubblingMouseEvents%22%3A%20true%2C%20%22color%22%3A%20%22red%22%2C%20%22dashArray%22%3A%20null%2C%20%22dashOffset%22%3A%20null%2C%20%22fill%22%3A%20true%2C%20%22fillColor%22%3A%20%22indigo%22%2C%20%22fillOpacity%22%3A%200.2%2C%20%22fillRule%22%3A%20%22evenodd%22%2C%20%22lineCap%22%3A%20%22round%22%2C%20%22lineJoin%22%3A%20%22round%22%2C%20%22opacity%22%3A%201.0%2C%20%22radius%22%3A%2041000.0%2C%20%22stroke%22%3A%20true%2C%20%22weight%22%3A%203%7D%0A%20%20%20%20%20%20%20%20%20%20%20%20%29.addTo%28map_aebf8a811f48491ea9853ca070daf374%29%3B%0A%20%20%20%20%20%20%20%20%0A%20%20%20%20%0A%20%20%20%20%20%20%20%20%20%20%20%20circle_4f453310b11a4f93891e65e3e394ec03.bindTooltip%28%0A%20%20%20%20%20%20%20%20%20%20%20%20%20%20%20%20%60%3Cdiv%3E%0A%20%20%20%20%20%20%20%20%20%20%20%20%20%20%20%20%20%20%20%20%20%3Cdiv%20style%3D%27margin%3A%200%3B%20background-color%3A%20black%3B%20color%3A%20white%3B%27%3E%3Ch4%20style%3D%27text-align%3Acenter%3Bfont-weight%3A%20bold%27%3EBarbados%3C/h4%3E%3Chr%20style%3D%27margin%3A10px%3Bcolor%3A%20white%3B%27%3E%3Cul%20style%3D%27color%3A%20white%3B%3Blist-style-type%3Acircle%3Balign-item%3Aleft%3Bpadding-left%3A20px%3Bpadding-right%3A20px%27%3E%3Cli%3EConfirmed%3A%203884%3C/li%3E%3Cli%3EDeaths%3A%20%20%2045%3C/li%3E%3Cli%3EDeath%20Rate%3A%201.16%3C/li%3E%3C/ul%3E%3C/div%3E%0A%20%20%20%20%20%20%20%20%20%20%20%20%20%20%20%20%20%3C/div%3E%60%2C%0A%20%20%20%20%20%20%20%20%20%20%20%20%20%20%20%20%7B%22sticky%22%3A%20true%7D%0A%20%20%20%20%20%20%20%20%20%20%20%20%29%3B%0A%20%20%20%20%20%20%20%20%0A%20%20%20%20%0A%20%20%20%20%20%20%20%20%20%20%20%20var%20circle_aaff03dce20747519b471483344202bb%20%3D%20L.circle%28%0A%20%20%20%20%20%20%20%20%20%20%20%20%20%20%20%20%5B53.7098%2C%2027.9534%5D%2C%0A%20%20%20%20%20%20%20%20%20%20%20%20%20%20%20%20%7B%22bubblingMouseEvents%22%3A%20true%2C%20%22color%22%3A%20%22red%22%2C%20%22dashArray%22%3A%20null%2C%20%22dashOffset%22%3A%20null%2C%20%22fill%22%3A%20true%2C%20%22fillColor%22%3A%20%22indigo%22%2C%20%22fillOpacity%22%3A%200.2%2C%20%22fillRule%22%3A%20%22evenodd%22%2C%20%22lineCap%22%3A%20%22round%22%2C%20%22lineJoin%22%3A%20%22round%22%2C%20%22opacity%22%3A%201.0%2C%20%22radius%22%3A%2061000.0%2C%20%22stroke%22%3A%20true%2C%20%22weight%22%3A%203%7D%0A%20%20%20%20%20%20%20%20%20%20%20%20%29.addTo%28map_aebf8a811f48491ea9853ca070daf374%29%3B%0A%20%20%20%20%20%20%20%20%0A%20%20%20%20%0A%20%20%20%20%20%20%20%20%20%20%20%20circle_aaff03dce20747519b471483344202bb.bindTooltip%28%0A%20%20%20%20%20%20%20%20%20%20%20%20%20%20%20%20%60%3Cdiv%3E%0A%20%20%20%20%20%20%20%20%20%20%20%20%20%20%20%20%20%20%20%20%20%3Cdiv%20style%3D%27margin%3A%200%3B%20background-color%3A%20black%3B%20color%3A%20white%3B%27%3E%3Ch4%20style%3D%27text-align%3Acenter%3Bfont-weight%3A%20bold%27%3EBelarus%3C/h4%3E%3Chr%20style%3D%27margin%3A10px%3Bcolor%3A%20white%3B%27%3E%3Cul%20style%3D%27color%3A%20white%3B%3Blist-style-type%3Acircle%3Balign-item%3Aleft%3Bpadding-left%3A20px%3Bpadding-right%3A20px%27%3E%3Cli%3EConfirmed%3A%20362594%3C/li%3E%3Cli%3EDeaths%3A%20%20%202582%3C/li%3E%3Cli%3EDeath%20Rate%3A%200.71%3C/li%3E%3C/ul%3E%3C/div%3E%0A%20%20%20%20%20%20%20%20%20%20%20%20%20%20%20%20%20%3C/div%3E%60%2C%0A%20%20%20%20%20%20%20%20%20%20%20%20%20%20%20%20%7B%22sticky%22%3A%20true%7D%0A%20%20%20%20%20%20%20%20%20%20%20%20%29%3B%0A%20%20%20%20%20%20%20%20%0A%20%20%20%20%0A%20%20%20%20%20%20%20%20%20%20%20%20var%20circle_b69d49dedaec4b908d085ba044a6d336%20%3D%20L.circle%28%0A%20%20%20%20%20%20%20%20%20%20%20%20%20%20%20%20%5B50.8333%2C%204.469936%5D%2C%0A%20%20%20%20%20%20%20%20%20%20%20%20%20%20%20%20%7B%22bubblingMouseEvents%22%3A%20true%2C%20%22color%22%3A%20%22red%22%2C%20%22dashArray%22%3A%20null%2C%20%22dashOffset%22%3A%20null%2C%20%22fill%22%3A%20true%2C%20%22fillColor%22%3A%20%22indigo%22%2C%20%22fillOpacity%22%3A%200.2%2C%20%22fillRule%22%3A%20%22evenodd%22%2C%20%22lineCap%22%3A%20%22round%22%2C%20%22lineJoin%22%3A%20%22round%22%2C%20%22opacity%22%3A%201.0%2C%20%22radius%22%3A%2066000.0%2C%20%22stroke%22%3A%20true%2C%20%22weight%22%3A%203%7D%0A%20%20%20%20%20%20%20%20%20%20%20%20%29.addTo%28map_aebf8a811f48491ea9853ca070daf374%29%3B%0A%20%20%20%20%20%20%20%20%0A%20%20%20%20%0A%20%20%20%20%20%20%20%20%20%20%20%20circle_b69d49dedaec4b908d085ba044a6d336.bindTooltip%28%0A%20%20%20%20%20%20%20%20%20%20%20%20%20%20%20%20%60%3Cdiv%3E%0A%20%20%20%20%20%20%20%20%20%20%20%20%20%20%20%20%20%20%20%20%20%3Cdiv%20style%3D%27margin%3A%200%3B%20background-color%3A%20black%3B%20color%3A%20white%3B%27%3E%3Ch4%20style%3D%27text-align%3Acenter%3Bfont-weight%3A%20bold%27%3EBelgium%3C/h4%3E%3Chr%20style%3D%27margin%3A10px%3Bcolor%3A%20white%3B%27%3E%3Cul%20style%3D%27color%3A%20white%3B%3Blist-style-type%3Acircle%3Balign-item%3Aleft%3Bpadding-left%3A20px%3Bpadding-right%3A20px%27%3E%3Cli%3EConfirmed%3A%20999627%3C/li%3E%3Cli%3EDeaths%3A%20%20%2024367%3C/li%3E%3Cli%3EDeath%20Rate%3A%202.44%3C/li%3E%3C/ul%3E%3C/div%3E%0A%20%20%20%20%20%20%20%20%20%20%20%20%20%20%20%20%20%3C/div%3E%60%2C%0A%20%20%20%20%20%20%20%20%20%20%20%20%20%20%20%20%7B%22sticky%22%3A%20true%7D%0A%20%20%20%20%20%20%20%20%20%20%20%20%29%3B%0A%20%20%20%20%20%20%20%20%0A%20%20%20%20%0A%20%20%20%20%20%20%20%20%20%20%20%20var%20circle_b5e65c787efb49ada635c5a91603929b%20%3D%20L.circle%28%0A%20%20%20%20%20%20%20%20%20%20%20%20%20%20%20%20%5B17.1899%2C%20-88.4976%5D%2C%0A%20%20%20%20%20%20%20%20%20%20%20%20%20%20%20%20%7B%22bubblingMouseEvents%22%3A%20true%2C%20%22color%22%3A%20%22red%22%2C%20%22dashArray%22%3A%20null%2C%20%22dashOffset%22%3A%20null%2C%20%22fill%22%3A%20true%2C%20%22fillColor%22%3A%20%22indigo%22%2C%20%22fillOpacity%22%3A%200.2%2C%20%22fillRule%22%3A%20%22evenodd%22%2C%20%22lineCap%22%3A%20%22round%22%2C%20%22lineJoin%22%3A%20%22round%22%2C%20%22opacity%22%3A%201.0%2C%20%22radius%22%3A%2046000.0%2C%20%22stroke%22%3A%20true%2C%20%22weight%22%3A%203%7D%0A%20%20%20%20%20%20%20%20%20%20%20%20%29.addTo%28map_aebf8a811f48491ea9853ca070daf374%29%3B%0A%20%20%20%20%20%20%20%20%0A%20%20%20%20%0A%20%20%20%20%20%20%20%20%20%20%20%20circle_b5e65c787efb49ada635c5a91603929b.bindTooltip%28%0A%20%20%20%20%20%20%20%20%20%20%20%20%20%20%20%20%60%3Cdiv%3E%0A%20%20%20%20%20%20%20%20%20%20%20%20%20%20%20%20%20%20%20%20%20%3Cdiv%20style%3D%27margin%3A%200%3B%20background-color%3A%20black%3B%20color%3A%20white%3B%27%3E%3Ch4%20style%3D%27text-align%3Acenter%3Bfont-weight%3A%20bold%27%3EBelize%3C/h4%3E%3Chr%20style%3D%27margin%3A10px%3Bcolor%3A%20white%3B%27%3E%3Cul%20style%3D%27color%3A%20white%3B%3Blist-style-type%3Acircle%3Balign-item%3Aleft%3Bpadding-left%3A20px%3Bpadding-right%3A20px%27%3E%3Cli%3EConfirmed%3A%2012675%3C/li%3E%3Cli%3EDeaths%3A%20%20%20323%3C/li%3E%3Cli%3EDeath%20Rate%3A%202.55%3C/li%3E%3C/ul%3E%3C/div%3E%0A%20%20%20%20%20%20%20%20%20%20%20%20%20%20%20%20%20%3C/div%3E%60%2C%0A%20%20%20%20%20%20%20%20%20%20%20%20%20%20%20%20%7B%22sticky%22%3A%20true%7D%0A%20%20%20%20%20%20%20%20%20%20%20%20%29%3B%0A%20%20%20%20%20%20%20%20%0A%20%20%20%20%0A%20%20%20%20%20%20%20%20%20%20%20%20var%20circle_674e6d03ebe54167a26e2bf3a45a40a6%20%3D%20L.circle%28%0A%20%20%20%20%20%20%20%20%20%20%20%20%20%20%20%20%5B9.3077%2C%202.3158%5D%2C%0A%20%20%20%20%20%20%20%20%20%20%20%20%20%20%20%20%7B%22bubblingMouseEvents%22%3A%20true%2C%20%22color%22%3A%20%22red%22%2C%20%22dashArray%22%3A%20null%2C%20%22dashOffset%22%3A%20null%2C%20%22fill%22%3A%20true%2C%20%22fillColor%22%3A%20%22indigo%22%2C%20%22fillOpacity%22%3A%200.2%2C%20%22fillRule%22%3A%20%22evenodd%22%2C%20%22lineCap%22%3A%20%22round%22%2C%20%22lineJoin%22%3A%20%22round%22%2C%20%22opacity%22%3A%201.0%2C%20%22radius%22%3A%2041000.0%2C%20%22stroke%22%3A%20true%2C%20%22weight%22%3A%203%7D%0A%20%20%20%20%20%20%20%20%20%20%20%20%29.addTo%28map_aebf8a811f48491ea9853ca070daf374%29%3B%0A%20%20%20%20%20%20%20%20%0A%20%20%20%20%0A%20%20%20%20%20%20%20%20%20%20%20%20circle_674e6d03ebe54167a26e2bf3a45a40a6.bindTooltip%28%0A%20%20%20%20%20%20%20%20%20%20%20%20%20%20%20%20%60%3Cdiv%3E%0A%20%20%20%20%20%20%20%20%20%20%20%20%20%20%20%20%20%20%20%20%20%3Cdiv%20style%3D%27margin%3A%200%3B%20background-color%3A%20black%3B%20color%3A%20white%3B%27%3E%3Ch4%20style%3D%27text-align%3Acenter%3Bfont-weight%3A%20bold%27%3EBenin%3C/h4%3E%3Chr%20style%3D%27margin%3A10px%3Bcolor%3A%20white%3B%27%3E%3Cul%20style%3D%27color%3A%20white%3B%3Blist-style-type%3Acircle%3Balign-item%3Aleft%3Bpadding-left%3A20px%3Bpadding-right%3A20px%27%3E%3Cli%3EConfirmed%3A%207884%3C/li%3E%3Cli%3EDeaths%3A%20%20%20100%3C/li%3E%3Cli%3EDeath%20Rate%3A%201.27%3C/li%3E%3C/ul%3E%3C/div%3E%0A%20%20%20%20%20%20%20%20%20%20%20%20%20%20%20%20%20%3C/div%3E%60%2C%0A%20%20%20%20%20%20%20%20%20%20%20%20%20%20%20%20%7B%22sticky%22%3A%20true%7D%0A%20%20%20%20%20%20%20%20%20%20%20%20%29%3B%0A%20%20%20%20%20%20%20%20%0A%20%20%20%20%0A%20%20%20%20%20%20%20%20%20%20%20%20var%20circle_3ec53181cab54fa8976e18aa4ab48e63%20%3D%20L.circle%28%0A%20%20%20%20%20%20%20%20%20%20%20%20%20%20%20%20%5B27.5142%2C%2090.4336%5D%2C%0A%20%20%20%20%20%20%20%20%20%20%20%20%20%20%20%20%7B%22bubblingMouseEvents%22%3A%20true%2C%20%22color%22%3A%20%22red%22%2C%20%22dashArray%22%3A%20null%2C%20%22dashOffset%22%3A%20null%2C%20%22fill%22%3A%20true%2C%20%22fillColor%22%3A%20%22indigo%22%2C%20%22fillOpacity%22%3A%200.2%2C%20%22fillRule%22%3A%20%22evenodd%22%2C%20%22lineCap%22%3A%20%22round%22%2C%20%22lineJoin%22%3A%20%22round%22%2C%20%22opacity%22%3A%201.0%2C%20%22radius%22%3A%2036000.0%2C%20%22stroke%22%3A%20true%2C%20%22weight%22%3A%203%7D%0A%20%20%20%20%20%20%20%20%20%20%20%20%29.addTo%28map_aebf8a811f48491ea9853ca070daf374%29%3B%0A%20%20%20%20%20%20%20%20%0A%20%20%20%20%0A%20%20%20%20%20%20%20%20%20%20%20%20circle_3ec53181cab54fa8976e18aa4ab48e63.bindTooltip%28%0A%20%20%20%20%20%20%20%20%20%20%20%20%20%20%20%20%60%3Cdiv%3E%0A%20%20%20%20%20%20%20%20%20%20%20%20%20%20%20%20%20%20%20%20%20%3Cdiv%20style%3D%27margin%3A%200%3B%20background-color%3A%20black%3B%20color%3A%20white%3B%27%3E%3Ch4%20style%3D%27text-align%3Acenter%3Bfont-weight%3A%20bold%27%3EBhutan%3C/h4%3E%3Chr%20style%3D%27margin%3A10px%3Bcolor%3A%20white%3B%27%3E%3Cul%20style%3D%27color%3A%20white%3B%3Blist-style-type%3Acircle%3Balign-item%3Aleft%3Bpadding-left%3A20px%3Bpadding-right%3A20px%27%3E%3Cli%3EConfirmed%3A%201135%3C/li%3E%3Cli%3EDeaths%3A%20%20%201%3C/li%3E%3Cli%3EDeath%20Rate%3A%200.09%3C/li%3E%3C/ul%3E%3C/div%3E%0A%20%20%20%20%20%20%20%20%20%20%20%20%20%20%20%20%20%3C/div%3E%60%2C%0A%20%20%20%20%20%20%20%20%20%20%20%20%20%20%20%20%7B%22sticky%22%3A%20true%7D%0A%20%20%20%20%20%20%20%20%20%20%20%20%29%3B%0A%20%20%20%20%20%20%20%20%0A%20%20%20%20%0A%20%20%20%20%20%20%20%20%20%20%20%20var%20circle_bc4a8550f3a84c1d8959f2a7f7242530%20%3D%20L.circle%28%0A%20%20%20%20%20%20%20%20%20%20%20%20%20%20%20%20%5B-16.2902%2C%20-63.5887%5D%2C%0A%20%20%20%20%20%20%20%20%20%20%20%20%20%20%20%20%7B%22bubblingMouseEvents%22%3A%20true%2C%20%22color%22%3A%20%22red%22%2C%20%22dashArray%22%3A%20null%2C%20%22dashOffset%22%3A%20null%2C%20%22fill%22%3A%20true%2C%20%22fillColor%22%3A%20%22indigo%22%2C%20%22fillOpacity%22%3A%200.2%2C%20%22fillRule%22%3A%20%22evenodd%22%2C%20%22lineCap%22%3A%20%22round%22%2C%20%22lineJoin%22%3A%20%22round%22%2C%20%22opacity%22%3A%201.0%2C%20%22radius%22%3A%2061000.0%2C%20%22stroke%22%3A%20true%2C%20%22weight%22%3A%203%7D%0A%20%20%20%20%20%20%20%20%20%20%20%20%29.addTo%28map_aebf8a811f48491ea9853ca070daf374%29%3B%0A%20%20%20%20%20%20%20%20%0A%20%20%20%20%0A%20%20%20%20%20%20%20%20%20%20%20%20circle_bc4a8550f3a84c1d8959f2a7f7242530.bindTooltip%28%0A%20%20%20%20%20%20%20%20%20%20%20%20%20%20%20%20%60%3Cdiv%3E%0A%20%20%20%20%20%20%20%20%20%20%20%20%20%20%20%20%20%20%20%20%20%3Cdiv%20style%3D%27margin%3A%200%3B%20background-color%3A%20black%3B%20color%3A%20white%3B%27%3E%3Ch4%20style%3D%27text-align%3Acenter%3Bfont-weight%3A%20bold%27%3EBolivia%3C/h4%3E%3Chr%20style%3D%27margin%3A10px%3Bcolor%3A%20white%3B%27%3E%3Cul%20style%3D%27color%3A%20white%3B%3Blist-style-type%3Acircle%3Balign-item%3Aleft%3Bpadding-left%3A20px%3Bpadding-right%3A20px%27%3E%3Cli%3EConfirmed%3A%20308984%3C/li%3E%3Cli%3EDeaths%3A%20%20%2013035%3C/li%3E%3Cli%3EDeath%20Rate%3A%204.22%3C/li%3E%3C/ul%3E%3C/div%3E%0A%20%20%20%20%20%20%20%20%20%20%20%20%20%20%20%20%20%3C/div%3E%60%2C%0A%20%20%20%20%20%20%20%20%20%20%20%20%20%20%20%20%7B%22sticky%22%3A%20true%7D%0A%20%20%20%20%20%20%20%20%20%20%20%20%29%3B%0A%20%20%20%20%20%20%20%20%0A%20%20%20%20%0A%20%20%20%20%20%20%20%20%20%20%20%20var%20circle_7fc26499b668401693e513a479402e2d%20%3D%20L.circle%28%0A%20%20%20%20%20%20%20%20%20%20%20%20%20%20%20%20%5B43.9159%2C%2017.6791%5D%2C%0A%20%20%20%20%20%20%20%20%20%20%20%20%20%20%20%20%7B%22bubblingMouseEvents%22%3A%20true%2C%20%22color%22%3A%20%22red%22%2C%20%22dashArray%22%3A%20null%2C%20%22dashOffset%22%3A%20null%2C%20%22fill%22%3A%20true%2C%20%22fillColor%22%3A%20%22indigo%22%2C%20%22fillOpacity%22%3A%200.2%2C%20%22fillRule%22%3A%20%22evenodd%22%2C%20%22lineCap%22%3A%20%22round%22%2C%20%22lineJoin%22%3A%20%22round%22%2C%20%22opacity%22%3A%201.0%2C%20%22radius%22%3A%2061000.0%2C%20%22stroke%22%3A%20true%2C%20%22weight%22%3A%203%7D%0A%20%20%20%20%20%20%20%20%20%20%20%20%29.addTo%28map_aebf8a811f48491ea9853ca070daf374%29%3B%0A%20%20%20%20%20%20%20%20%0A%20%20%20%20%0A%20%20%20%20%20%20%20%20%20%20%20%20circle_7fc26499b668401693e513a479402e2d.bindTooltip%28%0A%20%20%20%20%20%20%20%20%20%20%20%20%20%20%20%20%60%3Cdiv%3E%0A%20%20%20%20%20%20%20%20%20%20%20%20%20%20%20%20%20%20%20%20%20%3Cdiv%20style%3D%27margin%3A%200%3B%20background-color%3A%20black%3B%20color%3A%20white%3B%27%3E%3Ch4%20style%3D%27text-align%3Acenter%3Bfont-weight%3A%20bold%27%3EBosnia%20and%20Herzegovina%3C/h4%3E%3Chr%20style%3D%27margin%3A10px%3Bcolor%3A%20white%3B%27%3E%3Cul%20style%3D%27color%3A%20white%3B%3Blist-style-type%3Acircle%3Balign-item%3Aleft%3Bpadding-left%3A20px%3Bpadding-right%3A20px%27%3E%3Cli%3EConfirmed%3A%20199463%3C/li%3E%3Cli%3EDeaths%3A%20%20%208713%3C/li%3E%3Cli%3EDeath%20Rate%3A%204.37%3C/li%3E%3C/ul%3E%3C/div%3E%0A%20%20%20%20%20%20%20%20%20%20%20%20%20%20%20%20%20%3C/div%3E%60%2C%0A%20%20%20%20%20%20%20%20%20%20%20%20%20%20%20%20%7B%22sticky%22%3A%20true%7D%0A%20%20%20%20%20%20%20%20%20%20%20%20%29%3B%0A%20%20%20%20%20%20%20%20%0A%20%20%20%20%0A%20%20%20%20%20%20%20%20%20%20%20%20var%20circle_7236c5b6a5a243aa903b294785e88d12%20%3D%20L.circle%28%0A%20%20%20%20%20%20%20%20%20%20%20%20%20%20%20%20%5B-22.3285%2C%2024.6849%5D%2C%0A%20%20%20%20%20%20%20%20%20%20%20%20%20%20%20%20%7B%22bubblingMouseEvents%22%3A%20true%2C%20%22color%22%3A%20%22red%22%2C%20%22dashArray%22%3A%20null%2C%20%22dashOffset%22%3A%20null%2C%20%22fill%22%3A%20true%2C%20%22fillColor%22%3A%20%22indigo%22%2C%20%22fillOpacity%22%3A%200.2%2C%20%22fillRule%22%3A%20%22evenodd%22%2C%20%22lineCap%22%3A%20%22round%22%2C%20%22lineJoin%22%3A%20%22round%22%2C%20%22opacity%22%3A%201.0%2C%20%22radius%22%3A%2051000.0%2C%20%22stroke%22%3A%20true%2C%20%22weight%22%3A%203%7D%0A%20%20%20%20%20%20%20%20%20%20%20%20%29.addTo%28map_aebf8a811f48491ea9853ca070daf374%29%3B%0A%20%20%20%20%20%20%20%20%0A%20%20%20%20%0A%20%20%20%20%20%20%20%20%20%20%20%20circle_7236c5b6a5a243aa903b294785e88d12.bindTooltip%28%0A%20%20%20%20%20%20%20%20%20%20%20%20%20%20%20%20%60%3Cdiv%3E%0A%20%20%20%20%20%20%20%20%20%20%20%20%20%20%20%20%20%20%20%20%20%3Cdiv%20style%3D%27margin%3A%200%3B%20background-color%3A%20black%3B%20color%3A%20white%3B%27%3E%3Ch4%20style%3D%27text-align%3Acenter%3Bfont-weight%3A%20bold%27%3EBotswana%3C/h4%3E%3Chr%20style%3D%27margin%3A10px%3Bcolor%3A%20white%3B%27%3E%3Cul%20style%3D%27color%3A%20white%3B%3Blist-style-type%3Acircle%3Balign-item%3Aleft%3Bpadding-left%3A20px%3Bpadding-right%3A20px%27%3E%3Cli%3EConfirmed%3A%2047851%3C/li%3E%3Cli%3EDeaths%3A%20%20%20724%3C/li%3E%3Cli%3EDeath%20Rate%3A%201.51%3C/li%3E%3C/ul%3E%3C/div%3E%0A%20%20%20%20%20%20%20%20%20%20%20%20%20%20%20%20%20%3C/div%3E%60%2C%0A%20%20%20%20%20%20%20%20%20%20%20%20%20%20%20%20%7B%22sticky%22%3A%20true%7D%0A%20%20%20%20%20%20%20%20%20%20%20%20%29%3B%0A%20%20%20%20%20%20%20%20%0A%20%20%20%20%0A%20%20%20%20%20%20%20%20%20%20%20%20var%20circle_06c9a18bed784aebb5918fcaf383bcd9%20%3D%20L.circle%28%0A%20%20%20%20%20%20%20%20%20%20%20%20%20%20%20%20%5B-14.235%2C%20-51.9253%5D%2C%0A%20%20%20%20%20%20%20%20%20%20%20%20%20%20%20%20%7B%22bubblingMouseEvents%22%3A%20true%2C%20%22color%22%3A%20%22red%22%2C%20%22dashArray%22%3A%20null%2C%20%22dashOffset%22%3A%20null%2C%20%22fill%22%3A%20true%2C%20%22fillColor%22%3A%20%22indigo%22%2C%20%22fillOpacity%22%3A%200.2%2C%20%22fillRule%22%3A%20%22evenodd%22%2C%20%22lineCap%22%3A%20%22round%22%2C%20%22lineJoin%22%3A%20%22round%22%2C%20%22opacity%22%3A%201.0%2C%20%22radius%22%3A%2081000.0%2C%20%22stroke%22%3A%20true%2C%20%22weight%22%3A%203%7D%0A%20%20%20%20%20%20%20%20%20%20%20%20%29.addTo%28map_aebf8a811f48491ea9853ca070daf374%29%3B%0A%20%20%20%20%20%20%20%20%0A%20%20%20%20%0A%20%20%20%20%20%20%20%20%20%20%20%20circle_06c9a18bed784aebb5918fcaf383bcd9.bindTooltip%28%0A%20%20%20%20%20%20%20%20%20%20%20%20%20%20%20%20%60%3Cdiv%3E%0A%20%20%20%20%20%20%20%20%20%20%20%20%20%20%20%20%20%20%20%20%20%3Cdiv%20style%3D%27margin%3A%200%3B%20background-color%3A%20black%3B%20color%3A%20white%3B%27%3E%3Ch4%20style%3D%27text-align%3Acenter%3Bfont-weight%3A%20bold%27%3EBrazil%3C/h4%3E%3Chr%20style%3D%27margin%3A10px%3Bcolor%3A%20white%3B%27%3E%3Cul%20style%3D%27color%3A%20white%3B%3Blist-style-type%3Acircle%3Balign-item%3Aleft%3Bpadding-left%3A20px%3Bpadding-right%3A20px%27%3E%3Cli%3EConfirmed%3A%2014856888%3C/li%3E%3Cli%3EDeaths%3A%20%20%20411588%3C/li%3E%3Cli%3EDeath%20Rate%3A%202.77%3C/li%3E%3C/ul%3E%3C/div%3E%0A%20%20%20%20%20%20%20%20%20%20%20%20%20%20%20%20%20%3C/div%3E%60%2C%0A%20%20%20%20%20%20%20%20%20%20%20%20%20%20%20%20%7B%22sticky%22%3A%20true%7D%0A%20%20%20%20%20%20%20%20%20%20%20%20%29%3B%0A%20%20%20%20%20%20%20%20%0A%20%20%20%20%0A%20%20%20%20%20%20%20%20%20%20%20%20var%20circle_a3ef83637bbc40c79148d767d4c38a12%20%3D%20L.circle%28%0A%20%20%20%20%20%20%20%20%20%20%20%20%20%20%20%20%5B4.5353%2C%20114.7277%5D%2C%0A%20%20%20%20%20%20%20%20%20%20%20%20%20%20%20%20%7B%22bubblingMouseEvents%22%3A%20true%2C%20%22color%22%3A%20%22red%22%2C%20%22dashArray%22%3A%20null%2C%20%22dashOffset%22%3A%20null%2C%20%22fill%22%3A%20true%2C%20%22fillColor%22%3A%20%22indigo%22%2C%20%22fillOpacity%22%3A%200.2%2C%20%22fillRule%22%3A%20%22evenodd%22%2C%20%22lineCap%22%3A%20%22round%22%2C%20%22lineJoin%22%3A%20%22round%22%2C%20%22opacity%22%3A%201.0%2C%20%22radius%22%3A%2026000.0%2C%20%22stroke%22%3A%20true%2C%20%22weight%22%3A%203%7D%0A%20%20%20%20%20%20%20%20%20%20%20%20%29.addTo%28map_aebf8a811f48491ea9853ca070daf374%29%3B%0A%20%20%20%20%20%20%20%20%0A%20%20%20%20%0A%20%20%20%20%20%20%20%20%20%20%20%20circle_a3ef83637bbc40c79148d767d4c38a12.bindTooltip%28%0A%20%20%20%20%20%20%20%20%20%20%20%20%20%20%20%20%60%3Cdiv%3E%0A%20%20%20%20%20%20%20%20%20%20%20%20%20%20%20%20%20%20%20%20%20%3Cdiv%20style%3D%27margin%3A%200%3B%20background-color%3A%20black%3B%20color%3A%20white%3B%27%3E%3Ch4%20style%3D%27text-align%3Acenter%3Bfont-weight%3A%20bold%27%3EBrunei%3C/h4%3E%3Chr%20style%3D%27margin%3A10px%3Bcolor%3A%20white%3B%27%3E%3Cul%20style%3D%27color%3A%20white%3B%3Blist-style-type%3Acircle%3Balign-item%3Aleft%3Bpadding-left%3A20px%3Bpadding-right%3A20px%27%3E%3Cli%3EConfirmed%3A%20228%3C/li%3E%3Cli%3EDeaths%3A%20%20%203%3C/li%3E%3Cli%3EDeath%20Rate%3A%201.31%3C/li%3E%3C/ul%3E%3C/div%3E%0A%20%20%20%20%20%20%20%20%20%20%20%20%20%20%20%20%20%3C/div%3E%60%2C%0A%20%20%20%20%20%20%20%20%20%20%20%20%20%20%20%20%7B%22sticky%22%3A%20true%7D%0A%20%20%20%20%20%20%20%20%20%20%20%20%29%3B%0A%20%20%20%20%20%20%20%20%0A%20%20%20%20%0A%20%20%20%20%20%20%20%20%20%20%20%20var%20circle_db041548b746475e92554dbded386a4f%20%3D%20L.circle%28%0A%20%20%20%20%20%20%20%20%20%20%20%20%20%20%20%20%5B42.7339%2C%2025.4858%5D%2C%0A%20%20%20%20%20%20%20%20%20%20%20%20%20%20%20%20%7B%22bubblingMouseEvents%22%3A%20true%2C%20%22color%22%3A%20%22red%22%2C%20%22dashArray%22%3A%20null%2C%20%22dashOffset%22%3A%20null%2C%20%22fill%22%3A%20true%2C%20%22fillColor%22%3A%20%22indigo%22%2C%20%22fillOpacity%22%3A%200.2%2C%20%22fillRule%22%3A%20%22evenodd%22%2C%20%22lineCap%22%3A%20%22round%22%2C%20%22lineJoin%22%3A%20%22round%22%2C%20%22opacity%22%3A%201.0%2C%20%22radius%22%3A%2061000.0%2C%20%22stroke%22%3A%20true%2C%20%22weight%22%3A%203%7D%0A%20%20%20%20%20%20%20%20%20%20%20%20%29.addTo%28map_aebf8a811f48491ea9853ca070daf374%29%3B%0A%20%20%20%20%20%20%20%20%0A%20%20%20%20%0A%20%20%20%20%20%20%20%20%20%20%20%20circle_db041548b746475e92554dbded386a4f.bindTooltip%28%0A%20%20%20%20%20%20%20%20%20%20%20%20%20%20%20%20%60%3Cdiv%3E%0A%20%20%20%20%20%20%20%20%20%20%20%20%20%20%20%20%20%20%20%20%20%3Cdiv%20style%3D%27margin%3A%200%3B%20background-color%3A%20black%3B%20color%3A%20white%3B%27%3E%3Ch4%20style%3D%27text-align%3Acenter%3Bfont-weight%3A%20bold%27%3EBulgaria%3C/h4%3E%3Chr%20style%3D%27margin%3A10px%3Bcolor%3A%20white%3B%27%3E%3Cul%20style%3D%27color%3A%20white%3B%3Blist-style-type%3Acircle%3Balign-item%3Aleft%3Bpadding-left%3A20px%3Bpadding-right%3A20px%27%3E%3Cli%3EConfirmed%3A%20406192%3C/li%3E%3Cli%3EDeaths%3A%20%20%2016609%3C/li%3E%3Cli%3EDeath%20Rate%3A%204.09%3C/li%3E%3C/ul%3E%3C/div%3E%0A%20%20%20%20%20%20%20%20%20%20%20%20%20%20%20%20%20%3C/div%3E%60%2C%0A%20%20%20%20%20%20%20%20%20%20%20%20%20%20%20%20%7B%22sticky%22%3A%20true%7D%0A%20%20%20%20%20%20%20%20%20%20%20%20%29%3B%0A%20%20%20%20%20%20%20%20%0A%20%20%20%20%0A%20%20%20%20%20%20%20%20%20%20%20%20var%20circle_aa34aa8082d846468e1c254c866a2d8a%20%3D%20L.circle%28%0A%20%20%20%20%20%20%20%20%20%20%20%20%20%20%20%20%5B12.2383%2C%20-1.5616%5D%2C%0A%20%20%20%20%20%20%20%20%20%20%20%20%20%20%20%20%7B%22bubblingMouseEvents%22%3A%20true%2C%20%22color%22%3A%20%22red%22%2C%20%22dashArray%22%3A%20null%2C%20%22dashOffset%22%3A%20null%2C%20%22fill%22%3A%20true%2C%20%22fillColor%22%3A%20%22indigo%22%2C%20%22fillOpacity%22%3A%200.2%2C%20%22fillRule%22%3A%20%22evenodd%22%2C%20%22lineCap%22%3A%20%22round%22%2C%20%22lineJoin%22%3A%20%22round%22%2C%20%22opacity%22%3A%201.0%2C%20%22radius%22%3A%2046000.0%2C%20%22stroke%22%3A%20true%2C%20%22weight%22%3A%203%7D%0A%20%20%20%20%20%20%20%20%20%20%20%20%29.addTo%28map_aebf8a811f48491ea9853ca070daf374%29%3B%0A%20%20%20%20%20%20%20%20%0A%20%20%20%20%0A%20%20%20%20%20%20%20%20%20%20%20%20circle_aa34aa8082d846468e1c254c866a2d8a.bindTooltip%28%0A%20%20%20%20%20%20%20%20%20%20%20%20%20%20%20%20%60%3Cdiv%3E%0A%20%20%20%20%20%20%20%20%20%20%20%20%20%20%20%20%20%20%20%20%20%3Cdiv%20style%3D%27margin%3A%200%3B%20background-color%3A%20black%3B%20color%3A%20white%3B%27%3E%3Ch4%20style%3D%27text-align%3Acenter%3Bfont-weight%3A%20bold%27%3EBurkina%20Faso%3C/h4%3E%3Chr%20style%3D%27margin%3A10px%3Bcolor%3A%20white%3B%27%3E%3Cul%20style%3D%27color%3A%20white%3B%3Blist-style-type%3Acircle%3Balign-item%3Aleft%3Bpadding-left%3A20px%3Bpadding-right%3A20px%27%3E%3Cli%3EConfirmed%3A%2013339%3C/li%3E%3Cli%3EDeaths%3A%20%20%20161%3C/li%3E%3Cli%3EDeath%20Rate%3A%201.21%3C/li%3E%3C/ul%3E%3C/div%3E%0A%20%20%20%20%20%20%20%20%20%20%20%20%20%20%20%20%20%3C/div%3E%60%2C%0A%20%20%20%20%20%20%20%20%20%20%20%20%20%20%20%20%7B%22sticky%22%3A%20true%7D%0A%20%20%20%20%20%20%20%20%20%20%20%20%29%3B%0A%20%20%20%20%20%20%20%20%0A%20%20%20%20%0A%20%20%20%20%20%20%20%20%20%20%20%20var%20circle_7d8bc3914648474f9678860fdfe0ffe3%20%3D%20L.circle%28%0A%20%20%20%20%20%20%20%20%20%20%20%20%20%20%20%20%5B21.9162%2C%2095.956%5D%2C%0A%20%20%20%20%20%20%20%20%20%20%20%20%20%20%20%20%7B%22bubblingMouseEvents%22%3A%20true%2C%20%22color%22%3A%20%22red%22%2C%20%22dashArray%22%3A%20null%2C%20%22dashOffset%22%3A%20null%2C%20%22fill%22%3A%20true%2C%20%22fillColor%22%3A%20%22indigo%22%2C%20%22fillOpacity%22%3A%200.2%2C%20%22fillRule%22%3A%20%22evenodd%22%2C%20%22lineCap%22%3A%20%22round%22%2C%20%22lineJoin%22%3A%20%22round%22%2C%20%22opacity%22%3A%201.0%2C%20%22radius%22%3A%2056000.0%2C%20%22stroke%22%3A%20true%2C%20%22weight%22%3A%203%7D%0A%20%20%20%20%20%20%20%20%20%20%20%20%29.addTo%28map_aebf8a811f48491ea9853ca070daf374%29%3B%0A%20%20%20%20%20%20%20%20%0A%20%20%20%20%0A%20%20%20%20%20%20%20%20%20%20%20%20circle_7d8bc3914648474f9678860fdfe0ffe3.bindTooltip%28%0A%20%20%20%20%20%20%20%20%20%20%20%20%20%20%20%20%60%3Cdiv%3E%0A%20%20%20%20%20%20%20%20%20%20%20%20%20%20%20%20%20%20%20%20%20%3Cdiv%20style%3D%27margin%3A%200%3B%20background-color%3A%20black%3B%20color%3A%20white%3B%27%3E%3Ch4%20style%3D%27text-align%3Acenter%3Bfont-weight%3A%20bold%27%3EBurma%3C/h4%3E%3Chr%20style%3D%27margin%3A10px%3Bcolor%3A%20white%3B%27%3E%3Cul%20style%3D%27color%3A%20white%3B%3Blist-style-type%3Acircle%3Balign-item%3Aleft%3Bpadding-left%3A20px%3Bpadding-right%3A20px%27%3E%3Cli%3EConfirmed%3A%20142858%3C/li%3E%3Cli%3EDeaths%3A%20%20%203209%3C/li%3E%3Cli%3EDeath%20Rate%3A%202.25%3C/li%3E%3C/ul%3E%3C/div%3E%0A%20%20%20%20%20%20%20%20%20%20%20%20%20%20%20%20%20%3C/div%3E%60%2C%0A%20%20%20%20%20%20%20%20%20%20%20%20%20%20%20%20%7B%22sticky%22%3A%20true%7D%0A%20%20%20%20%20%20%20%20%20%20%20%20%29%3B%0A%20%20%20%20%20%20%20%20%0A%20%20%20%20%0A%20%20%20%20%20%20%20%20%20%20%20%20var%20circle_d95b2f9e646a450ba1bbf4bb43525002%20%3D%20L.circle%28%0A%20%20%20%20%20%20%20%20%20%20%20%20%20%20%20%20%5B-3.3731%2C%2029.9189%5D%2C%0A%20%20%20%20%20%20%20%20%20%20%20%20%20%20%20%20%7B%22bubblingMouseEvents%22%3A%20true%2C%20%22color%22%3A%20%22red%22%2C%20%22dashArray%22%3A%20null%2C%20%22dashOffset%22%3A%20null%2C%20%22fill%22%3A%20true%2C%20%22fillColor%22%3A%20%22indigo%22%2C%20%22fillOpacity%22%3A%200.2%2C%20%22fillRule%22%3A%20%22evenodd%22%2C%20%22lineCap%22%3A%20%22round%22%2C%20%22lineJoin%22%3A%20%22round%22%2C%20%22opacity%22%3A%201.0%2C%20%22radius%22%3A%2041000.0%2C%20%22stroke%22%3A%20true%2C%20%22weight%22%3A%203%7D%0A%20%20%20%20%20%20%20%20%20%20%20%20%29.addTo%28map_aebf8a811f48491ea9853ca070daf374%29%3B%0A%20%20%20%20%20%20%20%20%0A%20%20%20%20%0A%20%20%20%20%20%20%20%20%20%20%20%20circle_d95b2f9e646a450ba1bbf4bb43525002.bindTooltip%28%0A%20%20%20%20%20%20%20%20%20%20%20%20%20%20%20%20%60%3Cdiv%3E%0A%20%20%20%20%20%20%20%20%20%20%20%20%20%20%20%20%20%20%20%20%20%3Cdiv%20style%3D%27margin%3A%200%3B%20background-color%3A%20black%3B%20color%3A%20white%3B%27%3E%3Ch4%20style%3D%27text-align%3Acenter%3Bfont-weight%3A%20bold%27%3EBurundi%3C/h4%3E%3Chr%20style%3D%27margin%3A10px%3Bcolor%3A%20white%3B%27%3E%3Cul%20style%3D%27color%3A%20white%3B%3Blist-style-type%3Acircle%3Balign-item%3Aleft%3Bpadding-left%3A20px%3Bpadding-right%3A20px%27%3E%3Cli%3EConfirmed%3A%204052%3C/li%3E%3Cli%3EDeaths%3A%20%20%206%3C/li%3E%3Cli%3EDeath%20Rate%3A%200.15%3C/li%3E%3C/ul%3E%3C/div%3E%0A%20%20%20%20%20%20%20%20%20%20%20%20%20%20%20%20%20%3C/div%3E%60%2C%0A%20%20%20%20%20%20%20%20%20%20%20%20%20%20%20%20%7B%22sticky%22%3A%20true%7D%0A%20%20%20%20%20%20%20%20%20%20%20%20%29%3B%0A%20%20%20%20%20%20%20%20%0A%20%20%20%20%0A%20%20%20%20%20%20%20%20%20%20%20%20var%20circle_f1de13f5823f466b97e2440ea93b23e4%20%3D%20L.circle%28%0A%20%20%20%20%20%20%20%20%20%20%20%20%20%20%20%20%5B16.5388%2C%20-23.0418%5D%2C%0A%20%20%20%20%20%20%20%20%20%20%20%20%20%20%20%20%7B%22bubblingMouseEvents%22%3A%20true%2C%20%22color%22%3A%20%22red%22%2C%20%22dashArray%22%3A%20null%2C%20%22dashOffset%22%3A%20null%2C%20%22fill%22%3A%20true%2C%20%22fillColor%22%3A%20%22indigo%22%2C%20%22fillOpacity%22%3A%200.2%2C%20%22fillRule%22%3A%20%22evenodd%22%2C%20%22lineCap%22%3A%20%22round%22%2C%20%22lineJoin%22%3A%20%22round%22%2C%20%22opacity%22%3A%201.0%2C%20%22radius%22%3A%2051000.0%2C%20%22stroke%22%3A%20true%2C%20%22weight%22%3A%203%7D%0A%20%20%20%20%20%20%20%20%20%20%20%20%29.addTo%28map_aebf8a811f48491ea9853ca070daf374%29%3B%0A%20%20%20%20%20%20%20%20%0A%20%20%20%20%0A%20%20%20%20%20%20%20%20%20%20%20%20circle_f1de13f5823f466b97e2440ea93b23e4.bindTooltip%28%0A%20%20%20%20%20%20%20%20%20%20%20%20%20%20%20%20%60%3Cdiv%3E%0A%20%20%20%20%20%20%20%20%20%20%20%20%20%20%20%20%20%20%20%20%20%3Cdiv%20style%3D%27margin%3A%200%3B%20background-color%3A%20black%3B%20color%3A%20white%3B%27%3E%3Ch4%20style%3D%27text-align%3Acenter%3Bfont-weight%3A%20bold%27%3ECabo%20Verde%3C/h4%3E%3Chr%20style%3D%27margin%3A10px%3Bcolor%3A%20white%3B%27%3E%3Cul%20style%3D%27color%3A%20white%3B%3Blist-style-type%3Acircle%3Balign-item%3Aleft%3Bpadding-left%3A20px%3Bpadding-right%3A20px%27%3E%3Cli%3EConfirmed%3A%2024742%3C/li%3E%3Cli%3EDeaths%3A%20%20%20228%3C/li%3E%3Cli%3EDeath%20Rate%3A%200.92%3C/li%3E%3C/ul%3E%3C/div%3E%0A%20%20%20%20%20%20%20%20%20%20%20%20%20%20%20%20%20%3C/div%3E%60%2C%0A%20%20%20%20%20%20%20%20%20%20%20%20%20%20%20%20%7B%22sticky%22%3A%20true%7D%0A%20%20%20%20%20%20%20%20%20%20%20%20%29%3B%0A%20%20%20%20%20%20%20%20%0A%20%20%20%20%0A%20%20%20%20%20%20%20%20%20%20%20%20var%20circle_4bfe3e24be134141af018a3d6bb6db85%20%3D%20L.circle%28%0A%20%20%20%20%20%20%20%20%20%20%20%20%20%20%20%20%5B11.55%2C%20104.9167%5D%2C%0A%20%20%20%20%20%20%20%20%20%20%20%20%20%20%20%20%7B%22bubblingMouseEvents%22%3A%20true%2C%20%22color%22%3A%20%22red%22%2C%20%22dashArray%22%3A%20null%2C%20%22dashOffset%22%3A%20null%2C%20%22fill%22%3A%20true%2C%20%22fillColor%22%3A%20%22indigo%22%2C%20%22fillOpacity%22%3A%200.2%2C%20%22fillRule%22%3A%20%22evenodd%22%2C%20%22lineCap%22%3A%20%22round%22%2C%20%22lineJoin%22%3A%20%22round%22%2C%20%22opacity%22%3A%201.0%2C%20%22radius%22%3A%2046000.0%2C%20%22stroke%22%3A%20true%2C%20%22weight%22%3A%203%7D%0A%20%20%20%20%20%20%20%20%20%20%20%20%29.addTo%28map_aebf8a811f48491ea9853ca070daf374%29%3B%0A%20%20%20%20%20%20%20%20%0A%20%20%20%20%0A%20%20%20%20%20%20%20%20%20%20%20%20circle_4bfe3e24be134141af018a3d6bb6db85.bindTooltip%28%0A%20%20%20%20%20%20%20%20%20%20%20%20%20%20%20%20%60%3Cdiv%3E%0A%20%20%20%20%20%20%20%20%20%20%20%20%20%20%20%20%20%20%20%20%20%3Cdiv%20style%3D%27margin%3A%200%3B%20background-color%3A%20black%3B%20color%3A%20white%3B%27%3E%3Ch4%20style%3D%27text-align%3Acenter%3Bfont-weight%3A%20bold%27%3ECambodia%3C/h4%3E%3Chr%20style%3D%27margin%3A10px%3Bcolor%3A%20white%3B%27%3E%3Cul%20style%3D%27color%3A%20white%3B%3Blist-style-type%3Acircle%3Balign-item%3Aleft%3Bpadding-left%3A20px%3Bpadding-right%3A20px%27%3E%3Cli%3EConfirmed%3A%2016299%3C/li%3E%3Cli%3EDeaths%3A%20%20%20107%3C/li%3E%3Cli%3EDeath%20Rate%3A%200.66%3C/li%3E%3C/ul%3E%3C/div%3E%0A%20%20%20%20%20%20%20%20%20%20%20%20%20%20%20%20%20%3C/div%3E%60%2C%0A%20%20%20%20%20%20%20%20%20%20%20%20%20%20%20%20%7B%22sticky%22%3A%20true%7D%0A%20%20%20%20%20%20%20%20%20%20%20%20%29%3B%0A%20%20%20%20%20%20%20%20%0A%20%20%20%20%0A%20%20%20%20%20%20%20%20%20%20%20%20var%20circle_a335c3c412b64e19bcb7bd43571658de%20%3D%20L.circle%28%0A%20%20%20%20%20%20%20%20%20%20%20%20%20%20%20%20%5B3.8480000000000003%2C%2011.5021%5D%2C%0A%20%20%20%20%20%20%20%20%20%20%20%20%20%20%20%20%7B%22bubblingMouseEvents%22%3A%20true%2C%20%22color%22%3A%20%22red%22%2C%20%22dashArray%22%3A%20null%2C%20%22dashOffset%22%3A%20null%2C%20%22fill%22%3A%20true%2C%20%22fillColor%22%3A%20%22indigo%22%2C%20%22fillOpacity%22%3A%200.2%2C%20%22fillRule%22%3A%20%22evenodd%22%2C%20%22lineCap%22%3A%20%22round%22%2C%20%22lineJoin%22%3A%20%22round%22%2C%20%22opacity%22%3A%201.0%2C%20%22radius%22%3A%2056000.0%2C%20%22stroke%22%3A%20true%2C%20%22weight%22%3A%203%7D%0A%20%20%20%20%20%20%20%20%20%20%20%20%29.addTo%28map_aebf8a811f48491ea9853ca070daf374%29%3B%0A%20%20%20%20%20%20%20%20%0A%20%20%20%20%0A%20%20%20%20%20%20%20%20%20%20%20%20circle_a335c3c412b64e19bcb7bd43571658de.bindTooltip%28%0A%20%20%20%20%20%20%20%20%20%20%20%20%20%20%20%20%60%3Cdiv%3E%0A%20%20%20%20%20%20%20%20%20%20%20%20%20%20%20%20%20%20%20%20%20%3Cdiv%20style%3D%27margin%3A%200%3B%20background-color%3A%20black%3B%20color%3A%20white%3B%27%3E%3Ch4%20style%3D%27text-align%3Acenter%3Bfont-weight%3A%20bold%27%3ECameroon%3C/h4%3E%3Chr%20style%3D%27margin%3A10px%3Bcolor%3A%20white%3B%27%3E%3Cul%20style%3D%27color%3A%20white%3B%3Blist-style-type%3Acircle%3Balign-item%3Aleft%3Bpadding-left%3A20px%3Bpadding-right%3A20px%27%3E%3Cli%3EConfirmed%3A%2072250%3C/li%3E%3Cli%3EDeaths%3A%20%20%201107%3C/li%3E%3Cli%3EDeath%20Rate%3A%201.53%3C/li%3E%3C/ul%3E%3C/div%3E%0A%20%20%20%20%20%20%20%20%20%20%20%20%20%20%20%20%20%3C/div%3E%60%2C%0A%20%20%20%20%20%20%20%20%20%20%20%20%20%20%20%20%7B%22sticky%22%3A%20true%7D%0A%20%20%20%20%20%20%20%20%20%20%20%20%29%3B%0A%20%20%20%20%20%20%20%20%0A%20%20%20%20%0A%20%20%20%20%20%20%20%20%20%20%20%20var%20circle_a5e9c59fd3b14d3bba2ed5a93be0090c%20%3D%20L.circle%28%0A%20%20%20%20%20%20%20%20%20%20%20%20%20%20%20%20%5B53.9333%2C%20-116.5765%5D%2C%0A%20%20%20%20%20%20%20%20%20%20%20%20%20%20%20%20%7B%22bubblingMouseEvents%22%3A%20true%2C%20%22color%22%3A%20%22red%22%2C%20%22dashArray%22%3A%20null%2C%20%22dashOffset%22%3A%20null%2C%20%22fill%22%3A%20true%2C%20%22fillColor%22%3A%20%22indigo%22%2C%20%22fillOpacity%22%3A%200.2%2C%20%22fillRule%22%3A%20%22evenodd%22%2C%20%22lineCap%22%3A%20%22round%22%2C%20%22lineJoin%22%3A%20%22round%22%2C%20%22opacity%22%3A%201.0%2C%20%22radius%22%3A%2061000.0%2C%20%22stroke%22%3A%20true%2C%20%22weight%22%3A%203%7D%0A%20%20%20%20%20%20%20%20%20%20%20%20%29.addTo%28map_aebf8a811f48491ea9853ca070daf374%29%3B%0A%20%20%20%20%20%20%20%20%0A%20%20%20%20%0A%20%20%20%20%20%20%20%20%20%20%20%20circle_a5e9c59fd3b14d3bba2ed5a93be0090c.bindTooltip%28%0A%20%20%20%20%20%20%20%20%20%20%20%20%20%20%20%20%60%3Cdiv%3E%0A%20%20%20%20%20%20%20%20%20%20%20%20%20%20%20%20%20%20%20%20%20%3Cdiv%20style%3D%27margin%3A%200%3B%20background-color%3A%20black%3B%20color%3A%20white%3B%27%3E%3Ch4%20style%3D%27text-align%3Acenter%3Bfont-weight%3A%20bold%27%3ECanada%3C/h4%3E%3Chr%20style%3D%27margin%3A10px%3Bcolor%3A%20white%3B%27%3E%3Cul%20style%3D%27color%3A%20white%3B%3Blist-style-type%3Acircle%3Balign-item%3Aleft%3Bpadding-left%3A20px%3Bpadding-right%3A20px%27%3E%3Cli%3EConfirmed%3A%20198653%3C/li%3E%3Cli%3EDeaths%3A%20%20%202099%3C/li%3E%3Cli%3EDeath%20Rate%3A%201.06%3C/li%3E%3C/ul%3E%3C/div%3E%0A%20%20%20%20%20%20%20%20%20%20%20%20%20%20%20%20%20%3C/div%3E%60%2C%0A%20%20%20%20%20%20%20%20%20%20%20%20%20%20%20%20%7B%22sticky%22%3A%20true%7D%0A%20%20%20%20%20%20%20%20%20%20%20%20%29%3B%0A%20%20%20%20%20%20%20%20%0A%20%20%20%20%0A%20%20%20%20%20%20%20%20%20%20%20%20var%20circle_876d6d994e3347be973116684bb0bc6b%20%3D%20L.circle%28%0A%20%20%20%20%20%20%20%20%20%20%20%20%20%20%20%20%5B53.7267%2C%20-127.6476%5D%2C%0A%20%20%20%20%20%20%20%20%20%20%20%20%20%20%20%20%7B%22bubblingMouseEvents%22%3A%20true%2C%20%22color%22%3A%20%22red%22%2C%20%22dashArray%22%3A%20null%2C%20%22dashOffset%22%3A%20null%2C%20%22fill%22%3A%20true%2C%20%22fillColor%22%3A%20%22indigo%22%2C%20%22fillOpacity%22%3A%200.2%2C%20%22fillRule%22%3A%20%22evenodd%22%2C%20%22lineCap%22%3A%20%22round%22%2C%20%22lineJoin%22%3A%20%22round%22%2C%20%22opacity%22%3A%201.0%2C%20%22radius%22%3A%2056000.0%2C%20%22stroke%22%3A%20true%2C%20%22weight%22%3A%203%7D%0A%20%20%20%20%20%20%20%20%20%20%20%20%29.addTo%28map_aebf8a811f48491ea9853ca070daf374%29%3B%0A%20%20%20%20%20%20%20%20%0A%20%20%20%20%0A%20%20%20%20%20%20%20%20%20%20%20%20circle_876d6d994e3347be973116684bb0bc6b.bindTooltip%28%0A%20%20%20%20%20%20%20%20%20%20%20%20%20%20%20%20%60%3Cdiv%3E%0A%20%20%20%20%20%20%20%20%20%20%20%20%20%20%20%20%20%20%20%20%20%3Cdiv%20style%3D%27margin%3A%200%3B%20background-color%3A%20black%3B%20color%3A%20white%3B%27%3E%3Ch4%20style%3D%27text-align%3Acenter%3Bfont-weight%3A%20bold%27%3ECanada%3C/h4%3E%3Chr%20style%3D%27margin%3A10px%3Bcolor%3A%20white%3B%27%3E%3Cul%20style%3D%27color%3A%20white%3B%3Blist-style-type%3Acircle%3Balign-item%3Aleft%3Bpadding-left%3A20px%3Bpadding-right%3A20px%27%3E%3Cli%3EConfirmed%3A%20132353%3C/li%3E%3Cli%3EDeaths%3A%20%20%201597%3C/li%3E%3Cli%3EDeath%20Rate%3A%201.21%3C/li%3E%3C/ul%3E%3C/div%3E%0A%20%20%20%20%20%20%20%20%20%20%20%20%20%20%20%20%20%3C/div%3E%60%2C%0A%20%20%20%20%20%20%20%20%20%20%20%20%20%20%20%20%7B%22sticky%22%3A%20true%7D%0A%20%20%20%20%20%20%20%20%20%20%20%20%29%3B%0A%20%20%20%20%20%20%20%20%0A%20%20%20%20%0A%20%20%20%20%20%20%20%20%20%20%20%20var%20circle_388ad511362243d7b9647cc669d36dca%20%3D%20L.circle%28%0A%20%20%20%20%20%20%20%20%20%20%20%20%20%20%20%20%5B0.0%2C%200.0%5D%2C%0A%20%20%20%20%20%20%20%20%20%20%20%20%20%20%20%20%7B%22bubblingMouseEvents%22%3A%20true%2C%20%22color%22%3A%20%22red%22%2C%20%22dashArray%22%3A%20null%2C%20%22dashOffset%22%3A%20null%2C%20%22fill%22%3A%20true%2C%20%22fillColor%22%3A%20%22indigo%22%2C%20%22fillOpacity%22%3A%200.2%2C%20%22fillRule%22%3A%20%22evenodd%22%2C%20%22lineCap%22%3A%20%22round%22%2C%20%22lineJoin%22%3A%20%22round%22%2C%20%22opacity%22%3A%201.0%2C%20%22radius%22%3A%201000.0%2C%20%22stroke%22%3A%20true%2C%20%22weight%22%3A%203%7D%0A%20%20%20%20%20%20%20%20%20%20%20%20%29.addTo%28map_aebf8a811f48491ea9853ca070daf374%29%3B%0A%20%20%20%20%20%20%20%20%0A%20%20%20%20%0A%20%20%20%20%20%20%20%20%20%20%20%20circle_388ad511362243d7b9647cc669d36dca.bindTooltip%28%0A%20%20%20%20%20%20%20%20%20%20%20%20%20%20%20%20%60%3Cdiv%3E%0A%20%20%20%20%20%20%20%20%20%20%20%20%20%20%20%20%20%20%20%20%20%3Cdiv%20style%3D%27margin%3A%200%3B%20background-color%3A%20black%3B%20color%3A%20white%3B%27%3E%3Ch4%20style%3D%27text-align%3Acenter%3Bfont-weight%3A%20bold%27%3ECanada%3C/h4%3E%3Chr%20style%3D%27margin%3A10px%3Bcolor%3A%20white%3B%27%3E%3Cul%20style%3D%27color%3A%20white%3B%3Blist-style-type%3Acircle%3Balign-item%3Aleft%3Bpadding-left%3A20px%3Bpadding-right%3A20px%27%3E%3Cli%3EConfirmed%3A%200%3C/li%3E%3Cli%3EDeaths%3A%20%20%201%3C/li%3E%3Cli%3EDeath%20Rate%3A%20100.0%3C/li%3E%3C/ul%3E%3C/div%3E%0A%20%20%20%20%20%20%20%20%20%20%20%20%20%20%20%20%20%3C/div%3E%60%2C%0A%20%20%20%20%20%20%20%20%20%20%20%20%20%20%20%20%7B%22sticky%22%3A%20true%7D%0A%20%20%20%20%20%20%20%20%20%20%20%20%29%3B%0A%20%20%20%20%20%20%20%20%0A%20%20%20%20%0A%20%20%20%20%20%20%20%20%20%20%20%20var%20circle_86b56e6ae27b45919bd5dbe53b814ab1%20%3D%20L.circle%28%0A%20%20%20%20%20%20%20%20%20%20%20%20%20%20%20%20%5B0.0%2C%200.0%5D%2C%0A%20%20%20%20%20%20%20%20%20%20%20%20%20%20%20%20%7B%22bubblingMouseEvents%22%3A%20true%2C%20%22color%22%3A%20%22red%22%2C%20%22dashArray%22%3A%20null%2C%20%22dashOffset%22%3A%20null%2C%20%22fill%22%3A%20true%2C%20%22fillColor%22%3A%20%22indigo%22%2C%20%22fillOpacity%22%3A%200.2%2C%20%22fillRule%22%3A%20%22evenodd%22%2C%20%22lineCap%22%3A%20%22round%22%2C%20%22lineJoin%22%3A%20%22round%22%2C%20%22opacity%22%3A%201.0%2C%20%22radius%22%3A%2011000.0%2C%20%22stroke%22%3A%20true%2C%20%22weight%22%3A%203%7D%0A%20%20%20%20%20%20%20%20%20%20%20%20%29.addTo%28map_aebf8a811f48491ea9853ca070daf374%29%3B%0A%20%20%20%20%20%20%20%20%0A%20%20%20%20%0A%20%20%20%20%20%20%20%20%20%20%20%20circle_86b56e6ae27b45919bd5dbe53b814ab1.bindTooltip%28%0A%20%20%20%20%20%20%20%20%20%20%20%20%20%20%20%20%60%3Cdiv%3E%0A%20%20%20%20%20%20%20%20%20%20%20%20%20%20%20%20%20%20%20%20%20%3Cdiv%20style%3D%27margin%3A%200%3B%20background-color%3A%20black%3B%20color%3A%20white%3B%27%3E%3Ch4%20style%3D%27text-align%3Acenter%3Bfont-weight%3A%20bold%27%3ECanada%3C/h4%3E%3Chr%20style%3D%27margin%3A10px%3Bcolor%3A%20white%3B%27%3E%3Cul%20style%3D%27color%3A%20white%3B%3Blist-style-type%3Acircle%3Balign-item%3Aleft%3Bpadding-left%3A20px%3Bpadding-right%3A20px%27%3E%3Cli%3EConfirmed%3A%2013%3C/li%3E%3Cli%3EDeaths%3A%20%20%200%3C/li%3E%3Cli%3EDeath%20Rate%3A%200.0%3C/li%3E%3C/ul%3E%3C/div%3E%0A%20%20%20%20%20%20%20%20%20%20%20%20%20%20%20%20%20%3C/div%3E%60%2C%0A%20%20%20%20%20%20%20%20%20%20%20%20%20%20%20%20%7B%22sticky%22%3A%20true%7D%0A%20%20%20%20%20%20%20%20%20%20%20%20%29%3B%0A%20%20%20%20%20%20%20%20%0A%20%20%20%20%0A%20%20%20%20%20%20%20%20%20%20%20%20var%20circle_bfc565c2d8be4d8c81bfd9a7d3b41b15%20%3D%20L.circle%28%0A%20%20%20%20%20%20%20%20%20%20%20%20%20%20%20%20%5B53.7609%2C%20-98.8139%5D%2C%0A%20%20%20%20%20%20%20%20%20%20%20%20%20%20%20%20%7B%22bubblingMouseEvents%22%3A%20true%2C%20%22color%22%3A%20%22red%22%2C%20%22dashArray%22%3A%20null%2C%20%22dashOffset%22%3A%20null%2C%20%22fill%22%3A%20true%2C%20%22fillColor%22%3A%20%22indigo%22%2C%20%22fillOpacity%22%3A%200.2%2C%20%22fillRule%22%3A%20%22evenodd%22%2C%20%22lineCap%22%3A%20%22round%22%2C%20%22lineJoin%22%3A%20%22round%22%2C%20%22opacity%22%3A%201.0%2C%20%22radius%22%3A%2051000.0%2C%20%22stroke%22%3A%20true%2C%20%22weight%22%3A%203%7D%0A%20%20%20%20%20%20%20%20%20%20%20%20%29.addTo%28map_aebf8a811f48491ea9853ca070daf374%29%3B%0A%20%20%20%20%20%20%20%20%0A%20%20%20%20%0A%20%20%20%20%20%20%20%20%20%20%20%20circle_bfc565c2d8be4d8c81bfd9a7d3b41b15.bindTooltip%28%0A%20%20%20%20%20%20%20%20%20%20%20%20%20%20%20%20%60%3Cdiv%3E%0A%20%20%20%20%20%20%20%20%20%20%20%20%20%20%20%20%20%20%20%20%20%3Cdiv%20style%3D%27margin%3A%200%3B%20background-color%3A%20black%3B%20color%3A%20white%3B%27%3E%3Ch4%20style%3D%27text-align%3Acenter%3Bfont-weight%3A%20bold%27%3ECanada%3C/h4%3E%3Chr%20style%3D%27margin%3A10px%3Bcolor%3A%20white%3B%27%3E%3Cul%20style%3D%27color%3A%20white%3B%3Blist-style-type%3Acircle%3Balign-item%3Aleft%3Bpadding-left%3A20px%3Bpadding-right%3A20px%27%3E%3Cli%3EConfirmed%3A%2039814%3C/li%3E%3Cli%3EDeaths%3A%20%20%20980%3C/li%3E%3Cli%3EDeath%20Rate%3A%202.46%3C/li%3E%3C/ul%3E%3C/div%3E%0A%20%20%20%20%20%20%20%20%20%20%20%20%20%20%20%20%20%3C/div%3E%60%2C%0A%20%20%20%20%20%20%20%20%20%20%20%20%20%20%20%20%7B%22sticky%22%3A%20true%7D%0A%20%20%20%20%20%20%20%20%20%20%20%20%29%3B%0A%20%20%20%20%20%20%20%20%0A%20%20%20%20%0A%20%20%20%20%20%20%20%20%20%20%20%20var%20circle_308e6c60405a40d6b0631e6370050ca5%20%3D%20L.circle%28%0A%20%20%20%20%20%20%20%20%20%20%20%20%20%20%20%20%5B46.5653%2C%20-66.4619%5D%2C%0A%20%20%20%20%20%20%20%20%20%20%20%20%20%20%20%20%7B%22bubblingMouseEvents%22%3A%20true%2C%20%22color%22%3A%20%22red%22%2C%20%22dashArray%22%3A%20null%2C%20%22dashOffset%22%3A%20null%2C%20%22fill%22%3A%20true%2C%20%22fillColor%22%3A%20%22indigo%22%2C%20%22fillOpacity%22%3A%200.2%2C%20%22fillRule%22%3A%20%22evenodd%22%2C%20%22lineCap%22%3A%20%22round%22%2C%20%22lineJoin%22%3A%20%22round%22%2C%20%22opacity%22%3A%201.0%2C%20%22radius%22%3A%2036000.0%2C%20%22stroke%22%3A%20true%2C%20%22weight%22%3A%203%7D%0A%20%20%20%20%20%20%20%20%20%20%20%20%29.addTo%28map_aebf8a811f48491ea9853ca070daf374%29%3B%0A%20%20%20%20%20%20%20%20%0A%20%20%20%20%0A%20%20%20%20%20%20%20%20%20%20%20%20circle_308e6c60405a40d6b0631e6370050ca5.bindTooltip%28%0A%20%20%20%20%20%20%20%20%20%20%20%20%20%20%20%20%60%3Cdiv%3E%0A%20%20%20%20%20%20%20%20%20%20%20%20%20%20%20%20%20%20%20%20%20%3Cdiv%20style%3D%27margin%3A%200%3B%20background-color%3A%20black%3B%20color%3A%20white%3B%27%3E%3Ch4%20style%3D%27text-align%3Acenter%3Bfont-weight%3A%20bold%27%3ECanada%3C/h4%3E%3Chr%20style%3D%27margin%3A10px%3Bcolor%3A%20white%3B%27%3E%3Cul%20style%3D%27color%3A%20white%3B%3Blist-style-type%3Acircle%3Balign-item%3Aleft%3Bpadding-left%3A20px%3Bpadding-right%3A20px%27%3E%3Cli%3EConfirmed%3A%201958%3C/li%3E%3Cli%3EDeaths%3A%20%20%2038%3C/li%3E%3Cli%3EDeath%20Rate%3A%201.94%3C/li%3E%3C/ul%3E%3C/div%3E%0A%20%20%20%20%20%20%20%20%20%20%20%20%20%20%20%20%20%3C/div%3E%60%2C%0A%20%20%20%20%20%20%20%20%20%20%20%20%20%20%20%20%7B%22sticky%22%3A%20true%7D%0A%20%20%20%20%20%20%20%20%20%20%20%20%29%3B%0A%20%20%20%20%20%20%20%20%0A%20%20%20%20%0A%20%20%20%20%20%20%20%20%20%20%20%20var%20circle_22a575c32e78470fab5f609bb24bafb2%20%3D%20L.circle%28%0A%20%20%20%20%20%20%20%20%20%20%20%20%20%20%20%20%5B53.1355%2C%20-57.6604%5D%2C%0A%20%20%20%20%20%20%20%20%20%20%20%20%20%20%20%20%7B%22bubblingMouseEvents%22%3A%20true%2C%20%22color%22%3A%20%22red%22%2C%20%22dashArray%22%3A%20null%2C%20%22dashOffset%22%3A%20null%2C%20%22fill%22%3A%20true%2C%20%22fillColor%22%3A%20%22indigo%22%2C%20%22fillOpacity%22%3A%200.2%2C%20%22fillRule%22%3A%20%22evenodd%22%2C%20%22lineCap%22%3A%20%22round%22%2C%20%22lineJoin%22%3A%20%22round%22%2C%20%22opacity%22%3A%201.0%2C%20%22radius%22%3A%2036000.0%2C%20%22stroke%22%3A%20true%2C%20%22weight%22%3A%203%7D%0A%20%20%20%20%20%20%20%20%20%20%20%20%29.addTo%28map_aebf8a811f48491ea9853ca070daf374%29%3B%0A%20%20%20%20%20%20%20%20%0A%20%20%20%20%0A%20%20%20%20%20%20%20%20%20%20%20%20circle_22a575c32e78470fab5f609bb24bafb2.bindTooltip%28%0A%20%20%20%20%20%20%20%20%20%20%20%20%20%20%20%20%60%3Cdiv%3E%0A%20%20%20%20%20%20%20%20%20%20%20%20%20%20%20%20%20%20%20%20%20%3Cdiv%20style%3D%27margin%3A%200%3B%20background-color%3A%20black%3B%20color%3A%20white%3B%27%3E%3Ch4%20style%3D%27text-align%3Acenter%3Bfont-weight%3A%20bold%27%3ECanada%3C/h4%3E%3Chr%20style%3D%27margin%3A10px%3Bcolor%3A%20white%3B%27%3E%3Cul%20style%3D%27color%3A%20white%3B%3Blist-style-type%3Acircle%3Balign-item%3Aleft%3Bpadding-left%3A20px%3Bpadding-right%3A20px%27%3E%3Cli%3EConfirmed%3A%201108%3C/li%3E%3Cli%3EDeaths%3A%20%20%206%3C/li%3E%3Cli%3EDeath%20Rate%3A%200.54%3C/li%3E%3C/ul%3E%3C/div%3E%0A%20%20%20%20%20%20%20%20%20%20%20%20%20%20%20%20%20%3C/div%3E%60%2C%0A%20%20%20%20%20%20%20%20%20%20%20%20%20%20%20%20%7B%22sticky%22%3A%20true%7D%0A%20%20%20%20%20%20%20%20%20%20%20%20%29%3B%0A%20%20%20%20%20%20%20%20%0A%20%20%20%20%0A%20%20%20%20%20%20%20%20%20%20%20%20var%20circle_f91c0498dd254455b23a550e6b5d8973%20%3D%20L.circle%28%0A%20%20%20%20%20%20%20%20%20%20%20%20%20%20%20%20%5B64.8255%2C%20-124.8457%5D%2C%0A%20%20%20%20%20%20%20%20%20%20%20%20%20%20%20%20%7B%22bubblingMouseEvents%22%3A%20true%2C%20%22color%22%3A%20%22red%22%2C%20%22dashArray%22%3A%20null%2C%20%22dashOffset%22%3A%20null%2C%20%22fill%22%3A%20true%2C%20%22fillColor%22%3A%20%22indigo%22%2C%20%22fillOpacity%22%3A%200.2%2C%20%22fillRule%22%3A%20%22evenodd%22%2C%20%22lineCap%22%3A%20%22round%22%2C%20%22lineJoin%22%3A%20%22round%22%2C%20%22opacity%22%3A%201.0%2C%20%22radius%22%3A%2021000.0%2C%20%22stroke%22%3A%20true%2C%20%22weight%22%3A%203%7D%0A%20%20%20%20%20%20%20%20%20%20%20%20%29.addTo%28map_aebf8a811f48491ea9853ca070daf374%29%3B%0A%20%20%20%20%20%20%20%20%0A%20%20%20%20%0A%20%20%20%20%20%20%20%20%20%20%20%20circle_f91c0498dd254455b23a550e6b5d8973.bindTooltip%28%0A%20%20%20%20%20%20%20%20%20%20%20%20%20%20%20%20%60%3Cdiv%3E%0A%20%20%20%20%20%20%20%20%20%20%20%20%20%20%20%20%20%20%20%20%20%3Cdiv%20style%3D%27margin%3A%200%3B%20background-color%3A%20black%3B%20color%3A%20white%3B%27%3E%3Ch4%20style%3D%27text-align%3Acenter%3Bfont-weight%3A%20bold%27%3ECanada%3C/h4%3E%3Chr%20style%3D%27margin%3A10px%3Bcolor%3A%20white%3B%27%3E%3Cul%20style%3D%27color%3A%20white%3B%3Blist-style-type%3Acircle%3Balign-item%3Aleft%3Bpadding-left%3A20px%3Bpadding-right%3A20px%27%3E%3Cli%3EConfirmed%3A%2077%3C/li%3E%3Cli%3EDeaths%3A%20%20%200%3C/li%3E%3Cli%3EDeath%20Rate%3A%200.0%3C/li%3E%3C/ul%3E%3C/div%3E%0A%20%20%20%20%20%20%20%20%20%20%20%20%20%20%20%20%20%3C/div%3E%60%2C%0A%20%20%20%20%20%20%20%20%20%20%20%20%20%20%20%20%7B%22sticky%22%3A%20true%7D%0A%20%20%20%20%20%20%20%20%20%20%20%20%29%3B%0A%20%20%20%20%20%20%20%20%0A%20%20%20%20%0A%20%20%20%20%20%20%20%20%20%20%20%20var%20circle_afb7b262ee94490c894f542d010526fc%20%3D%20L.circle%28%0A%20%20%20%20%20%20%20%20%20%20%20%20%20%20%20%20%5B44.681999999999995%2C%20-63.7443%5D%2C%0A%20%20%20%20%20%20%20%20%20%20%20%20%20%20%20%20%7B%22bubblingMouseEvents%22%3A%20true%2C%20%22color%22%3A%20%22red%22%2C%20%22dashArray%22%3A%20null%2C%20%22dashOffset%22%3A%20null%2C%20%22fill%22%3A%20true%2C%20%22fillColor%22%3A%20%22indigo%22%2C%20%22fillOpacity%22%3A%200.2%2C%20%22fillRule%22%3A%20%22evenodd%22%2C%20%22lineCap%22%3A%20%22round%22%2C%20%22lineJoin%22%3A%20%22round%22%2C%20%22opacity%22%3A%201.0%2C%20%22radius%22%3A%2041000.0%2C%20%22stroke%22%3A%20true%2C%20%22weight%22%3A%203%7D%0A%20%20%20%20%20%20%20%20%20%20%20%20%29.addTo%28map_aebf8a811f48491ea9853ca070daf374%29%3B%0A%20%20%20%20%20%20%20%20%0A%20%20%20%20%0A%20%20%20%20%20%20%20%20%20%20%20%20circle_afb7b262ee94490c894f542d010526fc.bindTooltip%28%0A%20%20%20%20%20%20%20%20%20%20%20%20%20%20%20%20%60%3Cdiv%3E%0A%20%20%20%20%20%20%20%20%20%20%20%20%20%20%20%20%20%20%20%20%20%3Cdiv%20style%3D%27margin%3A%200%3B%20background-color%3A%20black%3B%20color%3A%20white%3B%27%3E%3Ch4%20style%3D%27text-align%3Acenter%3Bfont-weight%3A%20bold%27%3ECanada%3C/h4%3E%3Chr%20style%3D%27margin%3A10px%3Bcolor%3A%20white%3B%27%3E%3Cul%20style%3D%27color%3A%20white%3B%3Blist-style-type%3Acircle%3Balign-item%3Aleft%3Bpadding-left%3A20px%3Bpadding-right%3A20px%27%3E%3Cli%3EConfirmed%3A%203007%3C/li%3E%3Cli%3EDeaths%3A%20%20%2069%3C/li%3E%3Cli%3EDeath%20Rate%3A%202.29%3C/li%3E%3C/ul%3E%3C/div%3E%0A%20%20%20%20%20%20%20%20%20%20%20%20%20%20%20%20%20%3C/div%3E%60%2C%0A%20%20%20%20%20%20%20%20%20%20%20%20%20%20%20%20%7B%22sticky%22%3A%20true%7D%0A%20%20%20%20%20%20%20%20%20%20%20%20%29%3B%0A%20%20%20%20%20%20%20%20%0A%20%20%20%20%0A%20%20%20%20%20%20%20%20%20%20%20%20var%20circle_f99190a0c50a41f8a1b11f06866b3ebb%20%3D%20L.circle%28%0A%20%20%20%20%20%20%20%20%20%20%20%20%20%20%20%20%5B70.2998%2C%20-83.1076%5D%2C%0A%20%20%20%20%20%20%20%20%20%20%20%20%20%20%20%20%7B%22bubblingMouseEvents%22%3A%20true%2C%20%22color%22%3A%20%22red%22%2C%20%22dashArray%22%3A%20null%2C%20%22dashOffset%22%3A%20null%2C%20%22fill%22%3A%20true%2C%20%22fillColor%22%3A%20%22indigo%22%2C%20%22fillOpacity%22%3A%200.2%2C%20%22fillRule%22%3A%20%22evenodd%22%2C%20%22lineCap%22%3A%20%22round%22%2C%20%22lineJoin%22%3A%20%22round%22%2C%20%22opacity%22%3A%201.0%2C%20%22radius%22%3A%2031000.0%2C%20%22stroke%22%3A%20true%2C%20%22weight%22%3A%203%7D%0A%20%20%20%20%20%20%20%20%20%20%20%20%29.addTo%28map_aebf8a811f48491ea9853ca070daf374%29%3B%0A%20%20%20%20%20%20%20%20%0A%20%20%20%20%0A%20%20%20%20%20%20%20%20%20%20%20%20circle_f99190a0c50a41f8a1b11f06866b3ebb.bindTooltip%28%0A%20%20%20%20%20%20%20%20%20%20%20%20%20%20%20%20%60%3Cdiv%3E%0A%20%20%20%20%20%20%20%20%20%20%20%20%20%20%20%20%20%20%20%20%20%3Cdiv%20style%3D%27margin%3A%200%3B%20background-color%3A%20black%3B%20color%3A%20white%3B%27%3E%3Ch4%20style%3D%27text-align%3Acenter%3Bfont-weight%3A%20bold%27%3ECanada%3C/h4%3E%3Chr%20style%3D%27margin%3A10px%3Bcolor%3A%20white%3B%27%3E%3Cul%20style%3D%27color%3A%20white%3B%3Blist-style-type%3Acircle%3Balign-item%3Aleft%3Bpadding-left%3A20px%3Bpadding-right%3A20px%27%3E%3Cli%3EConfirmed%3A%20535%3C/li%3E%3Cli%3EDeaths%3A%20%20%204%3C/li%3E%3Cli%3EDeath%20Rate%3A%200.75%3C/li%3E%3C/ul%3E%3C/div%3E%0A%20%20%20%20%20%20%20%20%20%20%20%20%20%20%20%20%20%3C/div%3E%60%2C%0A%20%20%20%20%20%20%20%20%20%20%20%20%20%20%20%20%7B%22sticky%22%3A%20true%7D%0A%20%20%20%20%20%20%20%20%20%20%20%20%29%3B%0A%20%20%20%20%20%20%20%20%0A%20%20%20%20%0A%20%20%20%20%20%20%20%20%20%20%20%20var%20circle_ddb56e3623b54425a4b5c3eb9376e839%20%3D%20L.circle%28%0A%20%20%20%20%20%20%20%20%20%20%20%20%20%20%20%20%5B51.2538%2C%20-85.3232%5D%2C%0A%20%20%20%20%20%20%20%20%20%20%20%20%20%20%20%20%7B%22bubblingMouseEvents%22%3A%20true%2C%20%22color%22%3A%20%22red%22%2C%20%22dashArray%22%3A%20null%2C%20%22dashOffset%22%3A%20null%2C%20%22fill%22%3A%20true%2C%20%22fillColor%22%3A%20%22indigo%22%2C%20%22fillOpacity%22%3A%200.2%2C%20%22fillRule%22%3A%20%22evenodd%22%2C%20%22lineCap%22%3A%20%22round%22%2C%20%22lineJoin%22%3A%20%22round%22%2C%20%22opacity%22%3A%201.0%2C%20%22radius%22%3A%2066000.0%2C%20%22stroke%22%3A%20true%2C%20%22weight%22%3A%203%7D%0A%20%20%20%20%20%20%20%20%20%20%20%20%29.addTo%28map_aebf8a811f48491ea9853ca070daf374%29%3B%0A%20%20%20%20%20%20%20%20%0A%20%20%20%20%0A%20%20%20%20%20%20%20%20%20%20%20%20circle_ddb56e3623b54425a4b5c3eb9376e839.bindTooltip%28%0A%20%20%20%20%20%20%20%20%20%20%20%20%20%20%20%20%60%3Cdiv%3E%0A%20%20%20%20%20%20%20%20%20%20%20%20%20%20%20%20%20%20%20%20%20%3Cdiv%20style%3D%27margin%3A%200%3B%20background-color%3A%20black%3B%20color%3A%20white%3B%27%3E%3Ch4%20style%3D%27text-align%3Acenter%3Bfont-weight%3A%20bold%27%3ECanada%3C/h4%3E%3Chr%20style%3D%27margin%3A10px%3Bcolor%3A%20white%3B%27%3E%3Cul%20style%3D%27color%3A%20white%3B%3Blist-style-type%3Acircle%3Balign-item%3Aleft%3Bpadding-left%3A20px%3Bpadding-right%3A20px%27%3E%3Cli%3EConfirmed%3A%20485172%3C/li%3E%3Cli%3EDeaths%3A%20%20%208146%3C/li%3E%3Cli%3EDeath%20Rate%3A%201.68%3C/li%3E%3C/ul%3E%3C/div%3E%0A%20%20%20%20%20%20%20%20%20%20%20%20%20%20%20%20%20%3C/div%3E%60%2C%0A%20%20%20%20%20%20%20%20%20%20%20%20%20%20%20%20%7B%22sticky%22%3A%20true%7D%0A%20%20%20%20%20%20%20%20%20%20%20%20%29%3B%0A%20%20%20%20%20%20%20%20%0A%20%20%20%20%0A%20%20%20%20%20%20%20%20%20%20%20%20var%20circle_e581a630406b4267bbde84556f69e8fa%20%3D%20L.circle%28%0A%20%20%20%20%20%20%20%20%20%20%20%20%20%20%20%20%5B46.5107%2C%20-63.4168%5D%2C%0A%20%20%20%20%20%20%20%20%20%20%20%20%20%20%20%20%7B%22bubblingMouseEvents%22%3A%20true%2C%20%22color%22%3A%20%22red%22%2C%20%22dashArray%22%3A%20null%2C%20%22dashOffset%22%3A%20null%2C%20%22fill%22%3A%20true%2C%20%22fillColor%22%3A%20%22indigo%22%2C%20%22fillOpacity%22%3A%200.2%2C%20%22fillRule%22%3A%20%22evenodd%22%2C%20%22lineCap%22%3A%20%22round%22%2C%20%22lineJoin%22%3A%20%22round%22%2C%20%22opacity%22%3A%201.0%2C%20%22radius%22%3A%2026000.0%2C%20%22stroke%22%3A%20true%2C%20%22weight%22%3A%203%7D%0A%20%20%20%20%20%20%20%20%20%20%20%20%29.addTo%28map_aebf8a811f48491ea9853ca070daf374%29%3B%0A%20%20%20%20%20%20%20%20%0A%20%20%20%20%0A%20%20%20%20%20%20%20%20%20%20%20%20circle_e581a630406b4267bbde84556f69e8fa.bindTooltip%28%0A%20%20%20%20%20%20%20%20%20%20%20%20%20%20%20%20%60%3Cdiv%3E%0A%20%20%20%20%20%20%20%20%20%20%20%20%20%20%20%20%20%20%20%20%20%3Cdiv%20style%3D%27margin%3A%200%3B%20background-color%3A%20black%3B%20color%3A%20white%3B%27%3E%3Ch4%20style%3D%27text-align%3Acenter%3Bfont-weight%3A%20bold%27%3ECanada%3C/h4%3E%3Chr%20style%3D%27margin%3A10px%3Bcolor%3A%20white%3B%27%3E%3Cul%20style%3D%27color%3A%20white%3B%3Blist-style-type%3Acircle%3Balign-item%3Aleft%3Bpadding-left%3A20px%3Bpadding-right%3A20px%27%3E%3Cli%3EConfirmed%3A%20183%3C/li%3E%3Cli%3EDeaths%3A%20%20%200%3C/li%3E%3Cli%3EDeath%20Rate%3A%200.0%3C/li%3E%3C/ul%3E%3C/div%3E%0A%20%20%20%20%20%20%20%20%20%20%20%20%20%20%20%20%20%3C/div%3E%60%2C%0A%20%20%20%20%20%20%20%20%20%20%20%20%20%20%20%20%7B%22sticky%22%3A%20true%7D%0A%20%20%20%20%20%20%20%20%20%20%20%20%29%3B%0A%20%20%20%20%20%20%20%20%0A%20%20%20%20%0A%20%20%20%20%20%20%20%20%20%20%20%20var%20circle_899c0573380e451a8f40ef97e084f7c7%20%3D%20L.circle%28%0A%20%20%20%20%20%20%20%20%20%20%20%20%20%20%20%20%5B52.9399%2C%20-73.5491%5D%2C%0A%20%20%20%20%20%20%20%20%20%20%20%20%20%20%20%20%7B%22bubblingMouseEvents%22%3A%20true%2C%20%22color%22%3A%20%22red%22%2C%20%22dashArray%22%3A%20null%2C%20%22dashOffset%22%3A%20null%2C%20%22fill%22%3A%20true%2C%20%22fillColor%22%3A%20%22indigo%22%2C%20%22fillOpacity%22%3A%200.2%2C%20%22fillRule%22%3A%20%22evenodd%22%2C%20%22lineCap%22%3A%20%22round%22%2C%20%22lineJoin%22%3A%20%22round%22%2C%20%22opacity%22%3A%201.0%2C%20%22radius%22%3A%2061000.0%2C%20%22stroke%22%3A%20true%2C%20%22weight%22%3A%203%7D%0A%20%20%20%20%20%20%20%20%20%20%20%20%29.addTo%28map_aebf8a811f48491ea9853ca070daf374%29%3B%0A%20%20%20%20%20%20%20%20%0A%20%20%20%20%0A%20%20%20%20%20%20%20%20%20%20%20%20circle_899c0573380e451a8f40ef97e084f7c7.bindTooltip%28%0A%20%20%20%20%20%20%20%20%20%20%20%20%20%20%20%20%60%3Cdiv%3E%0A%20%20%20%20%20%20%20%20%20%20%20%20%20%20%20%20%20%20%20%20%20%3Cdiv%20style%3D%27margin%3A%200%3B%20background-color%3A%20black%3B%20color%3A%20white%3B%27%3E%3Ch4%20style%3D%27text-align%3Acenter%3Bfont-weight%3A%20bold%27%3ECanada%3C/h4%3E%3Chr%20style%3D%27margin%3A10px%3Bcolor%3A%20white%3B%27%3E%3Cul%20style%3D%27color%3A%20white%3B%3Blist-style-type%3Acircle%3Balign-item%3Aleft%3Bpadding-left%3A20px%3Bpadding-right%3A20px%27%3E%3Cli%3EConfirmed%3A%20353475%3C/li%3E%3Cli%3EDeaths%3A%20%20%2010959%3C/li%3E%3Cli%3EDeath%20Rate%3A%203.1%3C/li%3E%3C/ul%3E%3C/div%3E%0A%20%20%20%20%20%20%20%20%20%20%20%20%20%20%20%20%20%3C/div%3E%60%2C%0A%20%20%20%20%20%20%20%20%20%20%20%20%20%20%20%20%7B%22sticky%22%3A%20true%7D%0A%20%20%20%20%20%20%20%20%20%20%20%20%29%3B%0A%20%20%20%20%20%20%20%20%0A%20%20%20%20%0A%20%20%20%20%20%20%20%20%20%20%20%20var%20circle_5f12f56b6189468b93ac6a90e3915238%20%3D%20L.circle%28%0A%20%20%20%20%20%20%20%20%20%20%20%20%20%20%20%20%5B52.9399%2C%20-106.4509%5D%2C%0A%20%20%20%20%20%20%20%20%20%20%20%20%20%20%20%20%7B%22bubblingMouseEvents%22%3A%20true%2C%20%22color%22%3A%20%22red%22%2C%20%22dashArray%22%3A%20null%2C%20%22dashOffset%22%3A%20null%2C%20%22fill%22%3A%20true%2C%20%22fillColor%22%3A%20%22indigo%22%2C%20%22fillOpacity%22%3A%200.2%2C%20%22fillRule%22%3A%20%22evenodd%22%2C%20%22lineCap%22%3A%20%22round%22%2C%20%22lineJoin%22%3A%20%22round%22%2C%20%22opacity%22%3A%201.0%2C%20%22radius%22%3A%2051000.0%2C%20%22stroke%22%3A%20true%2C%20%22weight%22%3A%203%7D%0A%20%20%20%20%20%20%20%20%20%20%20%20%29.addTo%28map_aebf8a811f48491ea9853ca070daf374%29%3B%0A%20%20%20%20%20%20%20%20%0A%20%20%20%20%0A%20%20%20%20%20%20%20%20%20%20%20%20circle_5f12f56b6189468b93ac6a90e3915238.bindTooltip%28%0A%20%20%20%20%20%20%20%20%20%20%20%20%20%20%20%20%60%3Cdiv%3E%0A%20%20%20%20%20%20%20%20%20%20%20%20%20%20%20%20%20%20%20%20%20%3Cdiv%20style%3D%27margin%3A%200%3B%20background-color%3A%20black%3B%20color%3A%20white%3B%27%3E%3Ch4%20style%3D%27text-align%3Acenter%3Bfont-weight%3A%20bold%27%3ECanada%3C/h4%3E%3Chr%20style%3D%27margin%3A10px%3Bcolor%3A%20white%3B%27%3E%3Cul%20style%3D%27color%3A%20white%3B%3Blist-style-type%3Acircle%3Balign-item%3Aleft%3Bpadding-left%3A20px%3Bpadding-right%3A20px%27%3E%3Cli%3EConfirmed%3A%2042006%3C/li%3E%3Cli%3EDeaths%3A%20%20%200%3C/li%3E%3Cli%3EDeath%20Rate%3A%200.0%3C/li%3E%3C/ul%3E%3C/div%3E%0A%20%20%20%20%20%20%20%20%20%20%20%20%20%20%20%20%20%3C/div%3E%60%2C%0A%20%20%20%20%20%20%20%20%20%20%20%20%20%20%20%20%7B%22sticky%22%3A%20true%7D%0A%20%20%20%20%20%20%20%20%20%20%20%20%29%3B%0A%20%20%20%20%20%20%20%20%0A%20%20%20%20%0A%20%20%20%20%20%20%20%20%20%20%20%20var%20circle_2463fb5d430048228a00bc66ddb09da9%20%3D%20L.circle%28%0A%20%20%20%20%20%20%20%20%20%20%20%20%20%20%20%20%5B64.2823%2C%20-135.0%5D%2C%0A%20%20%20%20%20%20%20%20%20%20%20%20%20%20%20%20%7B%22bubblingMouseEvents%22%3A%20true%2C%20%22color%22%3A%20%22red%22%2C%20%22dashArray%22%3A%20null%2C%20%22dashOffset%22%3A%20null%2C%20%22fill%22%3A%20true%2C%20%22fillColor%22%3A%20%22indigo%22%2C%20%22fillOpacity%22%3A%200.2%2C%20%22fillRule%22%3A%20%22evenodd%22%2C%20%22lineCap%22%3A%20%22round%22%2C%20%22lineJoin%22%3A%20%22round%22%2C%20%22opacity%22%3A%201.0%2C%20%22radius%22%3A%2021000.0%2C%20%22stroke%22%3A%20true%2C%20%22weight%22%3A%203%7D%0A%20%20%20%20%20%20%20%20%20%20%20%20%29.addTo%28map_aebf8a811f48491ea9853ca070daf374%29%3B%0A%20%20%20%20%20%20%20%20%0A%20%20%20%20%0A%20%20%20%20%20%20%20%20%20%20%20%20circle_2463fb5d430048228a00bc66ddb09da9.bindTooltip%28%0A%20%20%20%20%20%20%20%20%20%20%20%20%20%20%20%20%60%3Cdiv%3E%0A%20%20%20%20%20%20%20%20%20%20%20%20%20%20%20%20%20%20%20%20%20%3Cdiv%20style%3D%27margin%3A%200%3B%20background-color%3A%20black%3B%20color%3A%20white%3B%27%3E%3Ch4%20style%3D%27text-align%3Acenter%3Bfont-weight%3A%20bold%27%3ECanada%3C/h4%3E%3Chr%20style%3D%27margin%3A10px%3Bcolor%3A%20white%3B%27%3E%3Cul%20style%3D%27color%3A%20white%3B%3Blist-style-type%3Acircle%3Balign-item%3Aleft%3Bpadding-left%3A20px%3Bpadding-right%3A20px%27%3E%3Cli%3EConfirmed%3A%2082%3C/li%3E%3Cli%3EDeaths%3A%20%20%20499%3C/li%3E%3Cli%3EDeath%20Rate%3A%20601.2%3C/li%3E%3C/ul%3E%3C/div%3E%0A%20%20%20%20%20%20%20%20%20%20%20%20%20%20%20%20%20%3C/div%3E%60%2C%0A%20%20%20%20%20%20%20%20%20%20%20%20%20%20%20%20%7B%22sticky%22%3A%20true%7D%0A%20%20%20%20%20%20%20%20%20%20%20%20%29%3B%0A%20%20%20%20%20%20%20%20%0A%20%20%20%20%0A%20%20%20%20%20%20%20%20%20%20%20%20var%20circle_9cee293029234175b5c0647d7e549eef%20%3D%20L.circle%28%0A%20%20%20%20%20%20%20%20%20%20%20%20%20%20%20%20%5B6.6111%2C%2020.9394%5D%2C%0A%20%20%20%20%20%20%20%20%20%20%20%20%20%20%20%20%7B%22bubblingMouseEvents%22%3A%20true%2C%20%22color%22%3A%20%22red%22%2C%20%22dashArray%22%3A%20null%2C%20%22dashOffset%22%3A%20null%2C%20%22fill%22%3A%20true%2C%20%22fillColor%22%3A%20%22indigo%22%2C%20%22fillOpacity%22%3A%200.2%2C%20%22fillRule%22%3A%20%22evenodd%22%2C%20%22lineCap%22%3A%20%22round%22%2C%20%22lineJoin%22%3A%20%22round%22%2C%20%22opacity%22%3A%201.0%2C%20%22radius%22%3A%2041000.0%2C%20%22stroke%22%3A%20true%2C%20%22weight%22%3A%203%7D%0A%20%20%20%20%20%20%20%20%20%20%20%20%29.addTo%28map_aebf8a811f48491ea9853ca070daf374%29%3B%0A%20%20%20%20%20%20%20%20%0A%20%20%20%20%0A%20%20%20%20%20%20%20%20%20%20%20%20circle_9cee293029234175b5c0647d7e549eef.bindTooltip%28%0A%20%20%20%20%20%20%20%20%20%20%20%20%20%20%20%20%60%3Cdiv%3E%0A%20%20%20%20%20%20%20%20%20%20%20%20%20%20%20%20%20%20%20%20%20%3Cdiv%20style%3D%27margin%3A%200%3B%20background-color%3A%20black%3B%20color%3A%20white%3B%27%3E%3Ch4%20style%3D%27text-align%3Acenter%3Bfont-weight%3A%20bold%27%3ECentral%20African%20Republic%3C/h4%3E%3Chr%20style%3D%27margin%3A10px%3Bcolor%3A%20white%3B%27%3E%3Cul%20style%3D%27color%3A%20white%3B%3Blist-style-type%3Acircle%3Balign-item%3Aleft%3Bpadding-left%3A20px%3Bpadding-right%3A20px%27%3E%3Cli%3EConfirmed%3A%206521%3C/li%3E%3Cli%3EDeaths%3A%20%20%202%3C/li%3E%3Cli%3EDeath%20Rate%3A%200.03%3C/li%3E%3C/ul%3E%3C/div%3E%0A%20%20%20%20%20%20%20%20%20%20%20%20%20%20%20%20%20%3C/div%3E%60%2C%0A%20%20%20%20%20%20%20%20%20%20%20%20%20%20%20%20%7B%22sticky%22%3A%20true%7D%0A%20%20%20%20%20%20%20%20%20%20%20%20%29%3B%0A%20%20%20%20%20%20%20%20%0A%20%20%20%20%0A%20%20%20%20%20%20%20%20%20%20%20%20var%20circle_073aeb4494e44f2e971e84cef0843ed6%20%3D%20L.circle%28%0A%20%20%20%20%20%20%20%20%20%20%20%20%20%20%20%20%5B15.4542%2C%2018.7322%5D%2C%0A%20%20%20%20%20%20%20%20%20%20%20%20%20%20%20%20%7B%22bubblingMouseEvents%22%3A%20true%2C%20%22color%22%3A%20%22red%22%2C%20%22dashArray%22%3A%20null%2C%20%22dashOffset%22%3A%20null%2C%20%22fill%22%3A%20true%2C%20%22fillColor%22%3A%20%22indigo%22%2C%20%22fillOpacity%22%3A%200.2%2C%20%22fillRule%22%3A%20%22evenodd%22%2C%20%22lineCap%22%3A%20%22round%22%2C%20%22lineJoin%22%3A%20%22round%22%2C%20%22opacity%22%3A%201.0%2C%20%22radius%22%3A%2041000.0%2C%20%22stroke%22%3A%20true%2C%20%22weight%22%3A%203%7D%0A%20%20%20%20%20%20%20%20%20%20%20%20%29.addTo%28map_aebf8a811f48491ea9853ca070daf374%29%3B%0A%20%20%20%20%20%20%20%20%0A%20%20%20%20%0A%20%20%20%20%20%20%20%20%20%20%20%20circle_073aeb4494e44f2e971e84cef0843ed6.bindTooltip%28%0A%20%20%20%20%20%20%20%20%20%20%20%20%20%20%20%20%60%3Cdiv%3E%0A%20%20%20%20%20%20%20%20%20%20%20%20%20%20%20%20%20%20%20%20%20%3Cdiv%20style%3D%27margin%3A%200%3B%20background-color%3A%20black%3B%20color%3A%20white%3B%27%3E%3Ch4%20style%3D%27text-align%3Acenter%3Bfont-weight%3A%20bold%27%3EChad%3C/h4%3E%3Chr%20style%3D%27margin%3A10px%3Bcolor%3A%20white%3B%27%3E%3Cul%20style%3D%27color%3A%20white%3B%3Blist-style-type%3Acircle%3Balign-item%3Aleft%3Bpadding-left%3A20px%3Bpadding-right%3A20px%27%3E%3Cli%3EConfirmed%3A%204835%3C/li%3E%3Cli%3EDeaths%3A%20%20%2091%3C/li%3E%3Cli%3EDeath%20Rate%3A%201.88%3C/li%3E%3C/ul%3E%3C/div%3E%0A%20%20%20%20%20%20%20%20%20%20%20%20%20%20%20%20%20%3C/div%3E%60%2C%0A%20%20%20%20%20%20%20%20%20%20%20%20%20%20%20%20%7B%22sticky%22%3A%20true%7D%0A%20%20%20%20%20%20%20%20%20%20%20%20%29%3B%0A%20%20%20%20%20%20%20%20%0A%20%20%20%20%0A%20%20%20%20%20%20%20%20%20%20%20%20var%20circle_4cbceddd141c4fc6a6807d816b77a9c7%20%3D%20L.circle%28%0A%20%20%20%20%20%20%20%20%20%20%20%20%20%20%20%20%5B-35.6751%2C%20-71.543%5D%2C%0A%20%20%20%20%20%20%20%20%20%20%20%20%20%20%20%20%7B%22bubblingMouseEvents%22%3A%20true%2C%20%22color%22%3A%20%22red%22%2C%20%22dashArray%22%3A%20null%2C%20%22dashOffset%22%3A%20null%2C%20%22fill%22%3A%20true%2C%20%22fillColor%22%3A%20%22indigo%22%2C%20%22fillOpacity%22%3A%200.2%2C%20%22fillRule%22%3A%20%22evenodd%22%2C%20%22lineCap%22%3A%20%22round%22%2C%20%22lineJoin%22%3A%20%22round%22%2C%20%22opacity%22%3A%201.0%2C%20%22radius%22%3A%2071000.0%2C%20%22stroke%22%3A%20true%2C%20%22weight%22%3A%203%7D%0A%20%20%20%20%20%20%20%20%20%20%20%20%29.addTo%28map_aebf8a811f48491ea9853ca070daf374%29%3B%0A%20%20%20%20%20%20%20%20%0A%20%20%20%20%0A%20%20%20%20%20%20%20%20%20%20%20%20circle_4cbceddd141c4fc6a6807d816b77a9c7.bindTooltip%28%0A%20%20%20%20%20%20%20%20%20%20%20%20%20%20%20%20%60%3Cdiv%3E%0A%20%20%20%20%20%20%20%20%20%20%20%20%20%20%20%20%20%20%20%20%20%3Cdiv%20style%3D%27margin%3A%200%3B%20background-color%3A%20black%3B%20color%3A%20white%3B%27%3E%3Ch4%20style%3D%27text-align%3Acenter%3Bfont-weight%3A%20bold%27%3EChile%3C/h4%3E%3Chr%20style%3D%27margin%3A10px%3Bcolor%3A%20white%3B%27%3E%3Cul%20style%3D%27color%3A%20white%3B%3Blist-style-type%3Acircle%3Balign-item%3Aleft%3Bpadding-left%3A20px%3Bpadding-right%3A20px%27%3E%3Cli%3EConfirmed%3A%201219064%3C/li%3E%3Cli%3EDeaths%3A%20%20%20170%3C/li%3E%3Cli%3EDeath%20Rate%3A%200.01%3C/li%3E%3C/ul%3E%3C/div%3E%0A%20%20%20%20%20%20%20%20%20%20%20%20%20%20%20%20%20%3C/div%3E%60%2C%0A%20%20%20%20%20%20%20%20%20%20%20%20%20%20%20%20%7B%22sticky%22%3A%20true%7D%0A%20%20%20%20%20%20%20%20%20%20%20%20%29%3B%0A%20%20%20%20%20%20%20%20%0A%20%20%20%20%0A%20%20%20%20%20%20%20%20%20%20%20%20var%20circle_b7074abb76a74147b413839fd63c759f%20%3D%20L.circle%28%0A%20%20%20%20%20%20%20%20%20%20%20%20%20%20%20%20%5B31.8257%2C%20117.2264%5D%2C%0A%20%20%20%20%20%20%20%20%20%20%20%20%20%20%20%20%7B%22bubblingMouseEvents%22%3A%20true%2C%20%22color%22%3A%20%22red%22%2C%20%22dashArray%22%3A%20null%2C%20%22dashOffset%22%3A%20null%2C%20%22fill%22%3A%20true%2C%20%22fillColor%22%3A%20%22indigo%22%2C%20%22fillOpacity%22%3A%200.2%2C%20%22fillRule%22%3A%20%22evenodd%22%2C%20%22lineCap%22%3A%20%22round%22%2C%20%22lineJoin%22%3A%20%22round%22%2C%20%22opacity%22%3A%201.0%2C%20%22radius%22%3A%2031000.0%2C%20%22stroke%22%3A%20true%2C%20%22weight%22%3A%203%7D%0A%20%20%20%20%20%20%20%20%20%20%20%20%29.addTo%28map_aebf8a811f48491ea9853ca070daf374%29%3B%0A%20%20%20%20%20%20%20%20%0A%20%20%20%20%0A%20%20%20%20%20%20%20%20%20%20%20%20circle_b7074abb76a74147b413839fd63c759f.bindTooltip%28%0A%20%20%20%20%20%20%20%20%20%20%20%20%20%20%20%20%60%3Cdiv%3E%0A%20%20%20%20%20%20%20%20%20%20%20%20%20%20%20%20%20%20%20%20%20%3Cdiv%20style%3D%27margin%3A%200%3B%20background-color%3A%20black%3B%20color%3A%20white%3B%27%3E%3Ch4%20style%3D%27text-align%3Acenter%3Bfont-weight%3A%20bold%27%3EChina%3C/h4%3E%3Chr%20style%3D%27margin%3A10px%3Bcolor%3A%20white%3B%27%3E%3Cul%20style%3D%27color%3A%20white%3B%3Blist-style-type%3Acircle%3Balign-item%3Aleft%3Bpadding-left%3A20px%3Bpadding-right%3A20px%27%3E%3Cli%3EConfirmed%3A%20994%3C/li%3E%3Cli%3EDeaths%3A%20%20%2026696%3C/li%3E%3Cli%3EDeath%20Rate%3A%202683.02%3C/li%3E%3C/ul%3E%3C/div%3E%0A%20%20%20%20%20%20%20%20%20%20%20%20%20%20%20%20%20%3C/div%3E%60%2C%0A%20%20%20%20%20%20%20%20%20%20%20%20%20%20%20%20%7B%22sticky%22%3A%20true%7D%0A%20%20%20%20%20%20%20%20%20%20%20%20%29%3B%0A%20%20%20%20%20%20%20%20%0A%20%20%20%20%0A%20%20%20%20%20%20%20%20%20%20%20%20var%20circle_f81af57f684b4d51acfac2b0d8139760%20%3D%20L.circle%28%0A%20%20%20%20%20%20%20%20%20%20%20%20%20%20%20%20%5B40.1824%2C%20116.4142%5D%2C%0A%20%20%20%20%20%20%20%20%20%20%20%20%20%20%20%20%7B%22bubblingMouseEvents%22%3A%20true%2C%20%22color%22%3A%20%22red%22%2C%20%22dashArray%22%3A%20null%2C%20%22dashOffset%22%3A%20null%2C%20%22fill%22%3A%20true%2C%20%22fillColor%22%3A%20%22indigo%22%2C%20%22fillOpacity%22%3A%200.2%2C%20%22fillRule%22%3A%20%22evenodd%22%2C%20%22lineCap%22%3A%20%22round%22%2C%20%22lineJoin%22%3A%20%22round%22%2C%20%22opacity%22%3A%201.0%2C%20%22radius%22%3A%2031000.0%2C%20%22stroke%22%3A%20true%2C%20%22weight%22%3A%203%7D%0A%20%20%20%20%20%20%20%20%20%20%20%20%29.addTo%28map_aebf8a811f48491ea9853ca070daf374%29%3B%0A%20%20%20%20%20%20%20%20%0A%20%20%20%20%0A%20%20%20%20%20%20%20%20%20%20%20%20circle_f81af57f684b4d51acfac2b0d8139760.bindTooltip%28%0A%20%20%20%20%20%20%20%20%20%20%20%20%20%20%20%20%60%3Cdiv%3E%0A%20%20%20%20%20%20%20%20%20%20%20%20%20%20%20%20%20%20%20%20%20%3Cdiv%20style%3D%27margin%3A%200%3B%20background-color%3A%20black%3B%20color%3A%20white%3B%27%3E%3Ch4%20style%3D%27text-align%3Acenter%3Bfont-weight%3A%20bold%27%3EChina%3C/h4%3E%3Chr%20style%3D%27margin%3A10px%3Bcolor%3A%20white%3B%27%3E%3Cul%20style%3D%27color%3A%20white%3B%3Blist-style-type%3Acircle%3Balign-item%3Aleft%3Bpadding-left%3A20px%3Bpadding-right%3A20px%27%3E%3Cli%3EConfirmed%3A%201057%3C/li%3E%3Cli%3EDeaths%3A%20%20%206%3C/li%3E%3Cli%3EDeath%20Rate%3A%200.57%3C/li%3E%3C/ul%3E%3C/div%3E%0A%20%20%20%20%20%20%20%20%20%20%20%20%20%20%20%20%20%3C/div%3E%60%2C%0A%20%20%20%20%20%20%20%20%20%20%20%20%20%20%20%20%7B%22sticky%22%3A%20true%7D%0A%20%20%20%20%20%20%20%20%20%20%20%20%29%3B%0A%20%20%20%20%20%20%20%20%0A%20%20%20%20%0A%20%20%20%20%20%20%20%20%20%20%20%20var%20circle_6719998ddfd34daa8636645090dc8daa%20%3D%20L.circle%28%0A%20%20%20%20%20%20%20%20%20%20%20%20%20%20%20%20%5B30.0572%2C%20107.874%5D%2C%0A%20%20%20%20%20%20%20%20%20%20%20%20%20%20%20%20%7B%22bubblingMouseEvents%22%3A%20true%2C%20%22color%22%3A%20%22red%22%2C%20%22dashArray%22%3A%20null%2C%20%22dashOffset%22%3A%20null%2C%20%22fill%22%3A%20true%2C%20%22fillColor%22%3A%20%22indigo%22%2C%20%22fillOpacity%22%3A%200.2%2C%20%22fillRule%22%3A%20%22evenodd%22%2C%20%22lineCap%22%3A%20%22round%22%2C%20%22lineJoin%22%3A%20%22round%22%2C%20%22opacity%22%3A%201.0%2C%20%22radius%22%3A%2031000.0%2C%20%22stroke%22%3A%20true%2C%20%22weight%22%3A%203%7D%0A%20%20%20%20%20%20%20%20%20%20%20%20%29.addTo%28map_aebf8a811f48491ea9853ca070daf374%29%3B%0A%20%20%20%20%20%20%20%20%0A%20%20%20%20%0A%20%20%20%20%20%20%20%20%20%20%20%20circle_6719998ddfd34daa8636645090dc8daa.bindTooltip%28%0A%20%20%20%20%20%20%20%20%20%20%20%20%20%20%20%20%60%3Cdiv%3E%0A%20%20%20%20%20%20%20%20%20%20%20%20%20%20%20%20%20%20%20%20%20%3Cdiv%20style%3D%27margin%3A%200%3B%20background-color%3A%20black%3B%20color%3A%20white%3B%27%3E%3Ch4%20style%3D%27text-align%3Acenter%3Bfont-weight%3A%20bold%27%3EChina%3C/h4%3E%3Chr%20style%3D%27margin%3A10px%3Bcolor%3A%20white%3B%27%3E%3Cul%20style%3D%27color%3A%20white%3B%3Blist-style-type%3Acircle%3Balign-item%3Aleft%3Bpadding-left%3A20px%3Bpadding-right%3A20px%27%3E%3Cli%3EConfirmed%3A%20596%3C/li%3E%3Cli%3EDeaths%3A%20%20%209%3C/li%3E%3Cli%3EDeath%20Rate%3A%201.51%3C/li%3E%3C/ul%3E%3C/div%3E%0A%20%20%20%20%20%20%20%20%20%20%20%20%20%20%20%20%20%3C/div%3E%60%2C%0A%20%20%20%20%20%20%20%20%20%20%20%20%20%20%20%20%7B%22sticky%22%3A%20true%7D%0A%20%20%20%20%20%20%20%20%20%20%20%20%29%3B%0A%20%20%20%20%20%20%20%20%0A%20%20%20%20%0A%20%20%20%20%20%20%20%20%20%20%20%20var%20circle_a97f7e9f186842869926c6ddcda0c1ff%20%3D%20L.circle%28%0A%20%20%20%20%20%20%20%20%20%20%20%20%20%20%20%20%5B26.0789%2C%20117.9874%5D%2C%0A%20%20%20%20%20%20%20%20%20%20%20%20%20%20%20%20%7B%22bubblingMouseEvents%22%3A%20true%2C%20%22color%22%3A%20%22red%22%2C%20%22dashArray%22%3A%20null%2C%20%22dashOffset%22%3A%20null%2C%20%22fill%22%3A%20true%2C%20%22fillColor%22%3A%20%22indigo%22%2C%20%22fillOpacity%22%3A%200.2%2C%20%22fillRule%22%3A%20%22evenodd%22%2C%20%22lineCap%22%3A%20%22round%22%2C%20%22lineJoin%22%3A%20%22round%22%2C%20%22opacity%22%3A%201.0%2C%20%22radius%22%3A%2031000.0%2C%20%22stroke%22%3A%20true%2C%20%22weight%22%3A%203%7D%0A%20%20%20%20%20%20%20%20%20%20%20%20%29.addTo%28map_aebf8a811f48491ea9853ca070daf374%29%3B%0A%20%20%20%20%20%20%20%20%0A%20%20%20%20%0A%20%20%20%20%20%20%20%20%20%20%20%20circle_a97f7e9f186842869926c6ddcda0c1ff.bindTooltip%28%0A%20%20%20%20%20%20%20%20%20%20%20%20%20%20%20%20%60%3Cdiv%3E%0A%20%20%20%20%20%20%20%20%20%20%20%20%20%20%20%20%20%20%20%20%20%3Cdiv%20style%3D%27margin%3A%200%3B%20background-color%3A%20black%3B%20color%3A%20white%3B%27%3E%3Ch4%20style%3D%27text-align%3Acenter%3Bfont-weight%3A%20bold%27%3EChina%3C/h4%3E%3Chr%20style%3D%27margin%3A10px%3Bcolor%3A%20white%3B%27%3E%3Cul%20style%3D%27color%3A%20white%3B%3Blist-style-type%3Acircle%3Balign-item%3Aleft%3Bpadding-left%3A20px%3Bpadding-right%3A20px%27%3E%3Cli%3EConfirmed%3A%20593%3C/li%3E%3Cli%3EDeaths%3A%20%20%206%3C/li%3E%3Cli%3EDeath%20Rate%3A%201.01%3C/li%3E%3C/ul%3E%3C/div%3E%0A%20%20%20%20%20%20%20%20%20%20%20%20%20%20%20%20%20%3C/div%3E%60%2C%0A%20%20%20%20%20%20%20%20%20%20%20%20%20%20%20%20%7B%22sticky%22%3A%20true%7D%0A%20%20%20%20%20%20%20%20%20%20%20%20%29%3B%0A%20%20%20%20%20%20%20%20%0A%20%20%20%20%0A%20%20%20%20%20%20%20%20%20%20%20%20var%20circle_3b2d5d76f7c2424c86d82eaa9b09bc98%20%3D%20L.circle%28%0A%20%20%20%20%20%20%20%20%20%20%20%20%20%20%20%20%5B35.7518%2C%20104.2861%5D%2C%0A%20%20%20%20%20%20%20%20%20%20%20%20%20%20%20%20%7B%22bubblingMouseEvents%22%3A%20true%2C%20%22color%22%3A%20%22red%22%2C%20%22dashArray%22%3A%20null%2C%20%22dashOffset%22%3A%20null%2C%20%22fill%22%3A%20true%2C%20%22fillColor%22%3A%20%22indigo%22%2C%20%22fillOpacity%22%3A%200.2%2C%20%22fillRule%22%3A%20%22evenodd%22%2C%20%22lineCap%22%3A%20%22round%22%2C%20%22lineJoin%22%3A%20%22round%22%2C%20%22opacity%22%3A%201.0%2C%20%22radius%22%3A%2026000.0%2C%20%22stroke%22%3A%20true%2C%20%22weight%22%3A%203%7D%0A%20%20%20%20%20%20%20%20%20%20%20%20%29.addTo%28map_aebf8a811f48491ea9853ca070daf374%29%3B%0A%20%20%20%20%20%20%20%20%0A%20%20%20%20%0A%20%20%20%20%20%20%20%20%20%20%20%20circle_3b2d5d76f7c2424c86d82eaa9b09bc98.bindTooltip%28%0A%20%20%20%20%20%20%20%20%20%20%20%20%20%20%20%20%60%3Cdiv%3E%0A%20%20%20%20%20%20%20%20%20%20%20%20%20%20%20%20%20%20%20%20%20%3Cdiv%20style%3D%27margin%3A%200%3B%20background-color%3A%20black%3B%20color%3A%20white%3B%27%3E%3Ch4%20style%3D%27text-align%3Acenter%3Bfont-weight%3A%20bold%27%3EChina%3C/h4%3E%3Chr%20style%3D%27margin%3A10px%3Bcolor%3A%20white%3B%27%3E%3Cul%20style%3D%27color%3A%20white%3B%3Blist-style-type%3Acircle%3Balign-item%3Aleft%3Bpadding-left%3A20px%3Bpadding-right%3A20px%27%3E%3Cli%3EConfirmed%3A%20193%3C/li%3E%3Cli%3EDeaths%3A%20%20%201%3C/li%3E%3Cli%3EDeath%20Rate%3A%200.52%3C/li%3E%3C/ul%3E%3C/div%3E%0A%20%20%20%20%20%20%20%20%20%20%20%20%20%20%20%20%20%3C/div%3E%60%2C%0A%20%20%20%20%20%20%20%20%20%20%20%20%20%20%20%20%7B%22sticky%22%3A%20true%7D%0A%20%20%20%20%20%20%20%20%20%20%20%20%29%3B%0A%20%20%20%20%20%20%20%20%0A%20%20%20%20%0A%20%20%20%20%20%20%20%20%20%20%20%20var%20circle_97b65538b2dc49d59efc9aae836b03e9%20%3D%20L.circle%28%0A%20%20%20%20%20%20%20%20%20%20%20%20%20%20%20%20%5B23.3417%2C%20113.4244%5D%2C%0A%20%20%20%20%20%20%20%20%20%20%20%20%20%20%20%20%7B%22bubblingMouseEvents%22%3A%20true%2C%20%22color%22%3A%20%22red%22%2C%20%22dashArray%22%3A%20null%2C%20%22dashOffset%22%3A%20null%2C%20%22fill%22%3A%20true%2C%20%22fillColor%22%3A%20%22indigo%22%2C%20%22fillOpacity%22%3A%200.2%2C%20%22fillRule%22%3A%20%22evenodd%22%2C%20%22lineCap%22%3A%20%22round%22%2C%20%22lineJoin%22%3A%20%22round%22%2C%20%22opacity%22%3A%201.0%2C%20%22radius%22%3A%2036000.0%2C%20%22stroke%22%3A%20true%2C%20%22weight%22%3A%203%7D%0A%20%20%20%20%20%20%20%20%20%20%20%20%29.addTo%28map_aebf8a811f48491ea9853ca070daf374%29%3B%0A%20%20%20%20%20%20%20%20%0A%20%20%20%20%0A%20%20%20%20%20%20%20%20%20%20%20%20circle_97b65538b2dc49d59efc9aae836b03e9.bindTooltip%28%0A%20%20%20%20%20%20%20%20%20%20%20%20%20%20%20%20%60%3Cdiv%3E%0A%20%20%20%20%20%20%20%20%20%20%20%20%20%20%20%20%20%20%20%20%20%3Cdiv%20style%3D%27margin%3A%200%3B%20background-color%3A%20black%3B%20color%3A%20white%3B%27%3E%3Ch4%20style%3D%27text-align%3Acenter%3Bfont-weight%3A%20bold%27%3EChina%3C/h4%3E%3Chr%20style%3D%27margin%3A10px%3Bcolor%3A%20white%3B%27%3E%3Cul%20style%3D%27color%3A%20white%3B%3Blist-style-type%3Acircle%3Balign-item%3Aleft%3Bpadding-left%3A20px%3Bpadding-right%3A20px%27%3E%3Cli%3EConfirmed%3A%202359%3C/li%3E%3Cli%3EDeaths%3A%20%20%202%3C/li%3E%3Cli%3EDeath%20Rate%3A%200.08%3C/li%3E%3C/ul%3E%3C/div%3E%0A%20%20%20%20%20%20%20%20%20%20%20%20%20%20%20%20%20%3C/div%3E%60%2C%0A%20%20%20%20%20%20%20%20%20%20%20%20%20%20%20%20%7B%22sticky%22%3A%20true%7D%0A%20%20%20%20%20%20%20%20%20%20%20%20%29%3B%0A%20%20%20%20%20%20%20%20%0A%20%20%20%20%0A%20%20%20%20%20%20%20%20%20%20%20%20var%20circle_c8d26ce3bae54dbbbcddfa0bc447ff75%20%3D%20L.circle%28%0A%20%20%20%20%20%20%20%20%20%20%20%20%20%20%20%20%5B23.8298%2C%20108.7881%5D%2C%0A%20%20%20%20%20%20%20%20%20%20%20%20%20%20%20%20%7B%22bubblingMouseEvents%22%3A%20true%2C%20%22color%22%3A%20%22red%22%2C%20%22dashArray%22%3A%20null%2C%20%22dashOffset%22%3A%20null%2C%20%22fill%22%3A%20true%2C%20%22fillColor%22%3A%20%22indigo%22%2C%20%22fillOpacity%22%3A%200.2%2C%20%22fillRule%22%3A%20%22evenodd%22%2C%20%22lineCap%22%3A%20%22round%22%2C%20%22lineJoin%22%3A%20%22round%22%2C%20%22opacity%22%3A%201.0%2C%20%22radius%22%3A%2026000.0%2C%20%22stroke%22%3A%20true%2C%20%22weight%22%3A%203%7D%0A%20%20%20%20%20%20%20%20%20%20%20%20%29.addTo%28map_aebf8a811f48491ea9853ca070daf374%29%3B%0A%20%20%20%20%20%20%20%20%0A%20%20%20%20%0A%20%20%20%20%20%20%20%20%20%20%20%20circle_c8d26ce3bae54dbbbcddfa0bc447ff75.bindTooltip%28%0A%20%20%20%20%20%20%20%20%20%20%20%20%20%20%20%20%60%3Cdiv%3E%0A%20%20%20%20%20%20%20%20%20%20%20%20%20%20%20%20%20%20%20%20%20%3Cdiv%20style%3D%27margin%3A%200%3B%20background-color%3A%20black%3B%20color%3A%20white%3B%27%3E%3Ch4%20style%3D%27text-align%3Acenter%3Bfont-weight%3A%20bold%27%3EChina%3C/h4%3E%3Chr%20style%3D%27margin%3A10px%3Bcolor%3A%20white%3B%27%3E%3Cul%20style%3D%27color%3A%20white%3B%3Blist-style-type%3Acircle%3Balign-item%3Aleft%3Bpadding-left%3A20px%3Bpadding-right%3A20px%27%3E%3Cli%3EConfirmed%3A%20275%3C/li%3E%3Cli%3EDeaths%3A%20%20%208%3C/li%3E%3Cli%3EDeath%20Rate%3A%202.9%3C/li%3E%3C/ul%3E%3C/div%3E%0A%20%20%20%20%20%20%20%20%20%20%20%20%20%20%20%20%20%3C/div%3E%60%2C%0A%20%20%20%20%20%20%20%20%20%20%20%20%20%20%20%20%7B%22sticky%22%3A%20true%7D%0A%20%20%20%20%20%20%20%20%20%20%20%20%29%3B%0A%20%20%20%20%20%20%20%20%0A%20%20%20%20%0A%20%20%20%20%20%20%20%20%20%20%20%20var%20circle_7990c2b72bba4880a9ceb7b19a396f34%20%3D%20L.circle%28%0A%20%20%20%20%20%20%20%20%20%20%20%20%20%20%20%20%5B26.8154%2C%20106.8748%5D%2C%0A%20%20%20%20%20%20%20%20%20%20%20%20%20%20%20%20%7B%22bubblingMouseEvents%22%3A%20true%2C%20%22color%22%3A%20%22red%22%2C%20%22dashArray%22%3A%20null%2C%20%22dashOffset%22%3A%20null%2C%20%22fill%22%3A%20true%2C%20%22fillColor%22%3A%20%22indigo%22%2C%20%22fillOpacity%22%3A%200.2%2C%20%22fillRule%22%3A%20%22evenodd%22%2C%20%22lineCap%22%3A%20%22round%22%2C%20%22lineJoin%22%3A%20%22round%22%2C%20%22opacity%22%3A%201.0%2C%20%22radius%22%3A%2021000.0%2C%20%22stroke%22%3A%20true%2C%20%22weight%22%3A%203%7D%0A%20%20%20%20%20%20%20%20%20%20%20%20%29.addTo%28map_aebf8a811f48491ea9853ca070daf374%29%3B%0A%20%20%20%20%20%20%20%20%0A%20%20%20%20%0A%20%20%20%20%20%20%20%20%20%20%20%20circle_7990c2b72bba4880a9ceb7b19a396f34.bindTooltip%28%0A%20%20%20%20%20%20%20%20%20%20%20%20%20%20%20%20%60%3Cdiv%3E%0A%20%20%20%20%20%20%20%20%20%20%20%20%20%20%20%20%20%20%20%20%20%3Cdiv%20style%3D%27margin%3A%200%3B%20background-color%3A%20black%3B%20color%3A%20white%3B%27%3E%3Ch4%20style%3D%27text-align%3Acenter%3Bfont-weight%3A%20bold%27%3EChina%3C/h4%3E%3Chr%20style%3D%27margin%3A10px%3Bcolor%3A%20white%3B%27%3E%3Cul%20style%3D%27color%3A%20white%3B%3Blist-style-type%3Acircle%3Balign-item%3Aleft%3Bpadding-left%3A20px%3Bpadding-right%3A20px%27%3E%3Cli%3EConfirmed%3A%20147%3C/li%3E%3Cli%3EDeaths%3A%20%20%202%3C/li%3E%3Cli%3EDeath%20Rate%3A%201.35%3C/li%3E%3C/ul%3E%3C/div%3E%0A%20%20%20%20%20%20%20%20%20%20%20%20%20%20%20%20%20%3C/div%3E%60%2C%0A%20%20%20%20%20%20%20%20%20%20%20%20%20%20%20%20%7B%22sticky%22%3A%20true%7D%0A%20%20%20%20%20%20%20%20%20%20%20%20%29%3B%0A%20%20%20%20%20%20%20%20%0A%20%20%20%20%0A%20%20%20%20%20%20%20%20%20%20%20%20var%20circle_9c6175222d1f40fcbd307e1a5abb63b3%20%3D%20L.circle%28%0A%20%20%20%20%20%20%20%20%20%20%20%20%20%20%20%20%5B19.1959%2C%20109.7453%5D%2C%0A%20%20%20%20%20%20%20%20%20%20%20%20%20%20%20%20%7B%22bubblingMouseEvents%22%3A%20true%2C%20%22color%22%3A%20%22red%22%2C%20%22dashArray%22%3A%20null%2C%20%22dashOffset%22%3A%20null%2C%20%22fill%22%3A%20true%2C%20%22fillColor%22%3A%20%22indigo%22%2C%20%22fillOpacity%22%3A%200.2%2C%20%22fillRule%22%3A%20%22evenodd%22%2C%20%22lineCap%22%3A%20%22round%22%2C%20%22lineJoin%22%3A%20%22round%22%2C%20%22opacity%22%3A%201.0%2C%20%22radius%22%3A%2026000.0%2C%20%22stroke%22%3A%20true%2C%20%22weight%22%3A%203%7D%0A%20%20%20%20%20%20%20%20%20%20%20%20%29.addTo%28map_aebf8a811f48491ea9853ca070daf374%29%3B%0A%20%20%20%20%20%20%20%20%0A%20%20%20%20%0A%20%20%20%20%20%20%20%20%20%20%20%20circle_9c6175222d1f40fcbd307e1a5abb63b3.bindTooltip%28%0A%20%20%20%20%20%20%20%20%20%20%20%20%20%20%20%20%60%3Cdiv%3E%0A%20%20%20%20%20%20%20%20%20%20%20%20%20%20%20%20%20%20%20%20%20%3Cdiv%20style%3D%27margin%3A%200%3B%20background-color%3A%20black%3B%20color%3A%20white%3B%27%3E%3Ch4%20style%3D%27text-align%3Acenter%3Bfont-weight%3A%20bold%27%3EChina%3C/h4%3E%3Chr%20style%3D%27margin%3A10px%3Bcolor%3A%20white%3B%27%3E%3Cul%20style%3D%27color%3A%20white%3B%3Blist-style-type%3Acircle%3Balign-item%3Aleft%3Bpadding-left%3A20px%3Bpadding-right%3A20px%27%3E%3Cli%3EConfirmed%3A%20188%3C/li%3E%3Cli%3EDeaths%3A%20%20%202%3C/li%3E%3Cli%3EDeath%20Rate%3A%201.06%3C/li%3E%3C/ul%3E%3C/div%3E%0A%20%20%20%20%20%20%20%20%20%20%20%20%20%20%20%20%20%3C/div%3E%60%2C%0A%20%20%20%20%20%20%20%20%20%20%20%20%20%20%20%20%7B%22sticky%22%3A%20true%7D%0A%20%20%20%20%20%20%20%20%20%20%20%20%29%3B%0A%20%20%20%20%20%20%20%20%0A%20%20%20%20%0A%20%20%20%20%20%20%20%20%20%20%20%20var%20circle_73cf7ab029534b1ca7f8ebc9328c5baa%20%3D%20L.circle%28%0A%20%20%20%20%20%20%20%20%20%20%20%20%20%20%20%20%5B39.549%2C%20116.1306%5D%2C%0A%20%20%20%20%20%20%20%20%20%20%20%20%20%20%20%20%7B%22bubblingMouseEvents%22%3A%20true%2C%20%22color%22%3A%20%22red%22%2C%20%22dashArray%22%3A%20null%2C%20%22dashOffset%22%3A%20null%2C%20%22fill%22%3A%20true%2C%20%22fillColor%22%3A%20%22indigo%22%2C%20%22fillOpacity%22%3A%200.2%2C%20%22fillRule%22%3A%20%22evenodd%22%2C%20%22lineCap%22%3A%20%22round%22%2C%20%22lineJoin%22%3A%20%22round%22%2C%20%22opacity%22%3A%201.0%2C%20%22radius%22%3A%2036000.0%2C%20%22stroke%22%3A%20true%2C%20%22weight%22%3A%203%7D%0A%20%20%20%20%20%20%20%20%20%20%20%20%29.addTo%28map_aebf8a811f48491ea9853ca070daf374%29%3B%0A%20%20%20%20%20%20%20%20%0A%20%20%20%20%0A%20%20%20%20%20%20%20%20%20%20%20%20circle_73cf7ab029534b1ca7f8ebc9328c5baa.bindTooltip%28%0A%20%20%20%20%20%20%20%20%20%20%20%20%20%20%20%20%60%3Cdiv%3E%0A%20%20%20%20%20%20%20%20%20%20%20%20%20%20%20%20%20%20%20%20%20%3Cdiv%20style%3D%27margin%3A%200%3B%20background-color%3A%20black%3B%20color%3A%20white%3B%27%3E%3Ch4%20style%3D%27text-align%3Acenter%3Bfont-weight%3A%20bold%27%3EChina%3C/h4%3E%3Chr%20style%3D%27margin%3A10px%3Bcolor%3A%20white%3B%27%3E%3Cul%20style%3D%27color%3A%20white%3B%3Blist-style-type%3Acircle%3Balign-item%3Aleft%3Bpadding-left%3A20px%3Bpadding-right%3A20px%27%3E%3Cli%3EConfirmed%3A%201317%3C/li%3E%3Cli%3EDeaths%3A%20%20%206%3C/li%3E%3Cli%3EDeath%20Rate%3A%200.46%3C/li%3E%3C/ul%3E%3C/div%3E%0A%20%20%20%20%20%20%20%20%20%20%20%20%20%20%20%20%20%3C/div%3E%60%2C%0A%20%20%20%20%20%20%20%20%20%20%20%20%20%20%20%20%7B%22sticky%22%3A%20true%7D%0A%20%20%20%20%20%20%20%20%20%20%20%20%29%3B%0A%20%20%20%20%20%20%20%20%0A%20%20%20%20%0A%20%20%20%20%20%20%20%20%20%20%20%20var%20circle_ac35a37c8bc14fe09f868adf76aace9b%20%3D%20L.circle%28%0A%20%20%20%20%20%20%20%20%20%20%20%20%20%20%20%20%5B47.861999999999995%2C%20127.7615%5D%2C%0A%20%20%20%20%20%20%20%20%20%20%20%20%20%20%20%20%7B%22bubblingMouseEvents%22%3A%20true%2C%20%22color%22%3A%20%22red%22%2C%20%22dashArray%22%3A%20null%2C%20%22dashOffset%22%3A%20null%2C%20%22fill%22%3A%20true%2C%20%22fillColor%22%3A%20%22indigo%22%2C%20%22fillOpacity%22%3A%200.2%2C%20%22fillRule%22%3A%20%22evenodd%22%2C%20%22lineCap%22%3A%20%22round%22%2C%20%22lineJoin%22%3A%20%22round%22%2C%20%22opacity%22%3A%201.0%2C%20%22radius%22%3A%2036000.0%2C%20%22stroke%22%3A%20true%2C%20%22weight%22%3A%203%7D%0A%20%20%20%20%20%20%20%20%20%20%20%20%29.addTo%28map_aebf8a811f48491ea9853ca070daf374%29%3B%0A%20%20%20%20%20%20%20%20%0A%20%20%20%20%0A%20%20%20%20%20%20%20%20%20%20%20%20circle_ac35a37c8bc14fe09f868adf76aace9b.bindTooltip%28%0A%20%20%20%20%20%20%20%20%20%20%20%20%20%20%20%20%60%3Cdiv%3E%0A%20%20%20%20%20%20%20%20%20%20%20%20%20%20%20%20%20%20%20%20%20%3Cdiv%20style%3D%27margin%3A%200%3B%20background-color%3A%20black%3B%20color%3A%20white%3B%27%3E%3Ch4%20style%3D%27text-align%3Acenter%3Bfont-weight%3A%20bold%27%3EChina%3C/h4%3E%3Chr%20style%3D%27margin%3A10px%3Bcolor%3A%20white%3B%27%3E%3Cul%20style%3D%27color%3A%20white%3B%3Blist-style-type%3Acircle%3Balign-item%3Aleft%3Bpadding-left%3A20px%3Bpadding-right%3A20px%27%3E%3Cli%3EConfirmed%3A%201610%3C/li%3E%3Cli%3EDeaths%3A%20%20%207%3C/li%3E%3Cli%3EDeath%20Rate%3A%200.43%3C/li%3E%3C/ul%3E%3C/div%3E%0A%20%20%20%20%20%20%20%20%20%20%20%20%20%20%20%20%20%3C/div%3E%60%2C%0A%20%20%20%20%20%20%20%20%20%20%20%20%20%20%20%20%7B%22sticky%22%3A%20true%7D%0A%20%20%20%20%20%20%20%20%20%20%20%20%29%3B%0A%20%20%20%20%20%20%20%20%0A%20%20%20%20%0A%20%20%20%20%20%20%20%20%20%20%20%20var%20circle_7b75da3afd4844498f48abe6ec6834a0%20%3D%20L.circle%28%0A%20%20%20%20%20%20%20%20%20%20%20%20%20%20%20%20%5B37.8957%2C%20114.9042%5D%2C%0A%20%20%20%20%20%20%20%20%20%20%20%20%20%20%20%20%7B%22bubblingMouseEvents%22%3A%20true%2C%20%22color%22%3A%20%22red%22%2C%20%22dashArray%22%3A%20null%2C%20%22dashOffset%22%3A%20null%2C%20%22fill%22%3A%20true%2C%20%22fillColor%22%3A%20%22indigo%22%2C%20%22fillOpacity%22%3A%200.2%2C%20%22fillRule%22%3A%20%22evenodd%22%2C%20%22lineCap%22%3A%20%22round%22%2C%20%22lineJoin%22%3A%20%22round%22%2C%20%22opacity%22%3A%201.0%2C%20%22radius%22%3A%2036000.0%2C%20%22stroke%22%3A%20true%2C%20%22weight%22%3A%203%7D%0A%20%20%20%20%20%20%20%20%20%20%20%20%29.addTo%28map_aebf8a811f48491ea9853ca070daf374%29%3B%0A%20%20%20%20%20%20%20%20%0A%20%20%20%20%0A%20%20%20%20%20%20%20%20%20%20%20%20circle_7b75da3afd4844498f48abe6ec6834a0.bindTooltip%28%0A%20%20%20%20%20%20%20%20%20%20%20%20%20%20%20%20%60%3Cdiv%3E%0A%20%20%20%20%20%20%20%20%20%20%20%20%20%20%20%20%20%20%20%20%20%3Cdiv%20style%3D%27margin%3A%200%3B%20background-color%3A%20black%3B%20color%3A%20white%3B%27%3E%3Ch4%20style%3D%27text-align%3Acenter%3Bfont-weight%3A%20bold%27%3EChina%3C/h4%3E%3Chr%20style%3D%27margin%3A10px%3Bcolor%3A%20white%3B%27%3E%3Cul%20style%3D%27color%3A%20white%3B%3Blist-style-type%3Acircle%3Balign-item%3Aleft%3Bpadding-left%3A20px%3Bpadding-right%3A20px%27%3E%3Cli%3EConfirmed%3A%201312%3C/li%3E%3Cli%3EDeaths%3A%20%20%2013%3C/li%3E%3Cli%3EDeath%20Rate%3A%200.99%3C/li%3E%3C/ul%3E%3C/div%3E%0A%20%20%20%20%20%20%20%20%20%20%20%20%20%20%20%20%20%3C/div%3E%60%2C%0A%20%20%20%20%20%20%20%20%20%20%20%20%20%20%20%20%7B%22sticky%22%3A%20true%7D%0A%20%20%20%20%20%20%20%20%20%20%20%20%29%3B%0A%20%20%20%20%20%20%20%20%0A%20%20%20%20%0A%20%20%20%20%20%20%20%20%20%20%20%20var%20circle_9388bde5861c4bb180c89920c987fc49%20%3D%20L.circle%28%0A%20%20%20%20%20%20%20%20%20%20%20%20%20%20%20%20%5B22.3%2C%20114.2%5D%2C%0A%20%20%20%20%20%20%20%20%20%20%20%20%20%20%20%20%7B%22bubblingMouseEvents%22%3A%20true%2C%20%22color%22%3A%20%22red%22%2C%20%22dashArray%22%3A%20null%2C%20%22dashOffset%22%3A%20null%2C%20%22fill%22%3A%20true%2C%20%22fillColor%22%3A%20%22indigo%22%2C%20%22fillOpacity%22%3A%200.2%2C%20%22fillRule%22%3A%20%22evenodd%22%2C%20%22lineCap%22%3A%20%22round%22%2C%20%22lineJoin%22%3A%20%22round%22%2C%20%22opacity%22%3A%201.0%2C%20%22radius%22%3A%2046000.0%2C%20%22stroke%22%3A%20true%2C%20%22weight%22%3A%203%7D%0A%20%20%20%20%20%20%20%20%20%20%20%20%29.addTo%28map_aebf8a811f48491ea9853ca070daf374%29%3B%0A%20%20%20%20%20%20%20%20%0A%20%20%20%20%0A%20%20%20%20%20%20%20%20%20%20%20%20circle_9388bde5861c4bb180c89920c987fc49.bindTooltip%28%0A%20%20%20%20%20%20%20%20%20%20%20%20%20%20%20%20%60%3Cdiv%3E%0A%20%20%20%20%20%20%20%20%20%20%20%20%20%20%20%20%20%20%20%20%20%3Cdiv%20style%3D%27margin%3A%200%3B%20background-color%3A%20black%3B%20color%3A%20white%3B%27%3E%3Ch4%20style%3D%27text-align%3Acenter%3Bfont-weight%3A%20bold%27%3EChina%3C/h4%3E%3Chr%20style%3D%27margin%3A10px%3Bcolor%3A%20white%3B%27%3E%3Cul%20style%3D%27color%3A%20white%3B%3Blist-style-type%3Acircle%3Balign-item%3Aleft%3Bpadding-left%3A20px%3Bpadding-right%3A20px%27%3E%3Cli%3EConfirmed%3A%2011790%3C/li%3E%3Cli%3EDeaths%3A%20%20%2022%3C/li%3E%3Cli%3EDeath%20Rate%3A%200.19%3C/li%3E%3C/ul%3E%3C/div%3E%0A%20%20%20%20%20%20%20%20%20%20%20%20%20%20%20%20%20%3C/div%3E%60%2C%0A%20%20%20%20%20%20%20%20%20%20%20%20%20%20%20%20%7B%22sticky%22%3A%20true%7D%0A%20%20%20%20%20%20%20%20%20%20%20%20%29%3B%0A%20%20%20%20%20%20%20%20%0A%20%20%20%20%0A%20%20%20%20%20%20%20%20%20%20%20%20var%20circle_2240e395985c4937a8ce2bbf1fceb28d%20%3D%20L.circle%28%0A%20%20%20%20%20%20%20%20%20%20%20%20%20%20%20%20%5B30.9756%2C%20112.2707%5D%2C%0A%20%20%20%20%20%20%20%20%20%20%20%20%20%20%20%20%7B%22bubblingMouseEvents%22%3A%20true%2C%20%22color%22%3A%20%22red%22%2C%20%22dashArray%22%3A%20null%2C%20%22dashOffset%22%3A%20null%2C%20%22fill%22%3A%20true%2C%20%22fillColor%22%3A%20%22indigo%22%2C%20%22fillOpacity%22%3A%200.2%2C%20%22fillRule%22%3A%20%22evenodd%22%2C%20%22lineCap%22%3A%20%22round%22%2C%20%22lineJoin%22%3A%20%22round%22%2C%20%22opacity%22%3A%201.0%2C%20%22radius%22%3A%2056000.0%2C%20%22stroke%22%3A%20true%2C%20%22weight%22%3A%203%7D%0A%20%20%20%20%20%20%20%20%20%20%20%20%29.addTo%28map_aebf8a811f48491ea9853ca070daf374%29%3B%0A%20%20%20%20%20%20%20%20%0A%20%20%20%20%0A%20%20%20%20%20%20%20%20%20%20%20%20circle_2240e395985c4937a8ce2bbf1fceb28d.bindTooltip%28%0A%20%20%20%20%20%20%20%20%20%20%20%20%20%20%20%20%60%3Cdiv%3E%0A%20%20%20%20%20%20%20%20%20%20%20%20%20%20%20%20%20%20%20%20%20%3Cdiv%20style%3D%27margin%3A%200%3B%20background-color%3A%20black%3B%20color%3A%20white%3B%27%3E%3Ch4%20style%3D%27text-align%3Acenter%3Bfont-weight%3A%20bold%27%3EChina%3C/h4%3E%3Chr%20style%3D%27margin%3A10px%3Bcolor%3A%20white%3B%27%3E%3Cul%20style%3D%27color%3A%20white%3B%3Blist-style-type%3Acircle%3Balign-item%3Aleft%3Bpadding-left%3A20px%3Bpadding-right%3A20px%27%3E%3Cli%3EConfirmed%3A%2068158%3C/li%3E%3Cli%3EDeaths%3A%20%20%20210%3C/li%3E%3Cli%3EDeath%20Rate%3A%200.31%3C/li%3E%3C/ul%3E%3C/div%3E%0A%20%20%20%20%20%20%20%20%20%20%20%20%20%20%20%20%20%3C/div%3E%60%2C%0A%20%20%20%20%20%20%20%20%20%20%20%20%20%20%20%20%7B%22sticky%22%3A%20true%7D%0A%20%20%20%20%20%20%20%20%20%20%20%20%29%3B%0A%20%20%20%20%20%20%20%20%0A%20%20%20%20%0A%20%20%20%20%20%20%20%20%20%20%20%20var%20circle_5756a509d22e4eae861df37aef4fe918%20%3D%20L.circle%28%0A%20%20%20%20%20%20%20%20%20%20%20%20%20%20%20%20%5B27.6104%2C%20111.7088%5D%2C%0A%20%20%20%20%20%20%20%20%20%20%20%20%20%20%20%20%7B%22bubblingMouseEvents%22%3A%20true%2C%20%22color%22%3A%20%22red%22%2C%20%22dashArray%22%3A%20null%2C%20%22dashOffset%22%3A%20null%2C%20%22fill%22%3A%20true%2C%20%22fillColor%22%3A%20%22indigo%22%2C%20%22fillOpacity%22%3A%200.2%2C%20%22fillRule%22%3A%20%22evenodd%22%2C%20%22lineCap%22%3A%20%22round%22%2C%20%22lineJoin%22%3A%20%22round%22%2C%20%22opacity%22%3A%201.0%2C%20%22radius%22%3A%2031000.0%2C%20%22stroke%22%3A%20true%2C%20%22weight%22%3A%203%7D%0A%20%20%20%20%20%20%20%20%20%20%20%20%29.addTo%28map_aebf8a811f48491ea9853ca070daf374%29%3B%0A%20%20%20%20%20%20%20%20%0A%20%20%20%20%0A%20%20%20%20%20%20%20%20%20%20%20%20circle_5756a509d22e4eae861df37aef4fe918.bindTooltip%28%0A%20%20%20%20%20%20%20%20%20%20%20%20%20%20%20%20%60%3Cdiv%3E%0A%20%20%20%20%20%20%20%20%20%20%20%20%20%20%20%20%20%20%20%20%20%3Cdiv%20style%3D%27margin%3A%200%3B%20background-color%3A%20black%3B%20color%3A%20white%3B%27%3E%3Ch4%20style%3D%27text-align%3Acenter%3Bfont-weight%3A%20bold%27%3EChina%3C/h4%3E%3Chr%20style%3D%27margin%3A10px%3Bcolor%3A%20white%3B%27%3E%3Cul%20style%3D%27color%3A%20white%3B%3Blist-style-type%3Acircle%3Balign-item%3Aleft%3Bpadding-left%3A20px%3Bpadding-right%3A20px%27%3E%3Cli%3EConfirmed%3A%201044%3C/li%3E%3Cli%3EDeaths%3A%20%20%204512%3C/li%3E%3Cli%3EDeath%20Rate%3A%20431.77%3C/li%3E%3C/ul%3E%3C/div%3E%0A%20%20%20%20%20%20%20%20%20%20%20%20%20%20%20%20%20%3C/div%3E%60%2C%0A%20%20%20%20%20%20%20%20%20%20%20%20%20%20%20%20%7B%22sticky%22%3A%20true%7D%0A%20%20%20%20%20%20%20%20%20%20%20%20%29%3B%0A%20%20%20%20%20%20%20%20%0A%20%20%20%20%0A%20%20%20%20%20%20%20%20%20%20%20%20var%20circle_cfe222a52dac45f28bc29a3db6fca3a9%20%3D%20L.circle%28%0A%20%20%20%20%20%20%20%20%20%20%20%20%20%20%20%20%5B44.0935%2C%20113.9448%5D%2C%0A%20%20%20%20%20%20%20%20%20%20%20%20%20%20%20%20%7B%22bubblingMouseEvents%22%3A%20true%2C%20%22color%22%3A%20%22red%22%2C%20%22dashArray%22%3A%20null%2C%20%22dashOffset%22%3A%20null%2C%20%22fill%22%3A%20true%2C%20%22fillColor%22%3A%20%22indigo%22%2C%20%22fillOpacity%22%3A%200.2%2C%20%22fillRule%22%3A%20%22evenodd%22%2C%20%22lineCap%22%3A%20%22round%22%2C%20%22lineJoin%22%3A%20%22round%22%2C%20%22opacity%22%3A%201.0%2C%20%22radius%22%3A%2026000.0%2C%20%22stroke%22%3A%20true%2C%20%22weight%22%3A%203%7D%0A%20%20%20%20%20%20%20%20%20%20%20%20%29.addTo%28map_aebf8a811f48491ea9853ca070daf374%29%3B%0A%20%20%20%20%20%20%20%20%0A%20%20%20%20%0A%20%20%20%20%20%20%20%20%20%20%20%20circle_cfe222a52dac45f28bc29a3db6fca3a9.bindTooltip%28%0A%20%20%20%20%20%20%20%20%20%20%20%20%20%20%20%20%60%3Cdiv%3E%0A%20%20%20%20%20%20%20%20%20%20%20%20%20%20%20%20%20%20%20%20%20%3Cdiv%20style%3D%27margin%3A%200%3B%20background-color%3A%20black%3B%20color%3A%20white%3B%27%3E%3Ch4%20style%3D%27text-align%3Acenter%3Bfont-weight%3A%20bold%27%3EChina%3C/h4%3E%3Chr%20style%3D%27margin%3A10px%3Bcolor%3A%20white%3B%27%3E%3Cul%20style%3D%27color%3A%20white%3B%3Blist-style-type%3Acircle%3Balign-item%3Aleft%3Bpadding-left%3A20px%3Bpadding-right%3A20px%27%3E%3Cli%3EConfirmed%3A%20382%3C/li%3E%3Cli%3EDeaths%3A%20%20%204%3C/li%3E%3Cli%3EDeath%20Rate%3A%201.04%3C/li%3E%3C/ul%3E%3C/div%3E%0A%20%20%20%20%20%20%20%20%20%20%20%20%20%20%20%20%20%3C/div%3E%60%2C%0A%20%20%20%20%20%20%20%20%20%20%20%20%20%20%20%20%7B%22sticky%22%3A%20true%7D%0A%20%20%20%20%20%20%20%20%20%20%20%20%29%3B%0A%20%20%20%20%20%20%20%20%0A%20%20%20%20%0A%20%20%20%20%20%20%20%20%20%20%20%20var%20circle_3a86cd63f4944504bf0df8fff3465db6%20%3D%20L.circle%28%0A%20%20%20%20%20%20%20%20%20%20%20%20%20%20%20%20%5B32.9711%2C%20119.455%5D%2C%0A%20%20%20%20%20%20%20%20%20%20%20%20%20%20%20%20%7B%22bubblingMouseEvents%22%3A%20true%2C%20%22color%22%3A%20%22red%22%2C%20%22dashArray%22%3A%20null%2C%20%22dashOffset%22%3A%20null%2C%20%22fill%22%3A%20true%2C%20%22fillColor%22%3A%20%22indigo%22%2C%20%22fillOpacity%22%3A%200.2%2C%20%22fillRule%22%3A%20%22evenodd%22%2C%20%22lineCap%22%3A%20%22round%22%2C%20%22lineJoin%22%3A%20%22round%22%2C%20%22opacity%22%3A%201.0%2C%20%22radius%22%3A%2031000.0%2C%20%22stroke%22%3A%20true%2C%20%22weight%22%3A%203%7D%0A%20%20%20%20%20%20%20%20%20%20%20%20%29.addTo%28map_aebf8a811f48491ea9853ca070daf374%29%3B%0A%20%20%20%20%20%20%20%20%0A%20%20%20%20%0A%20%20%20%20%20%20%20%20%20%20%20%20circle_3a86cd63f4944504bf0df8fff3465db6.bindTooltip%28%0A%20%20%20%20%20%20%20%20%20%20%20%20%20%20%20%20%60%3Cdiv%3E%0A%20%20%20%20%20%20%20%20%20%20%20%20%20%20%20%20%20%20%20%20%20%3Cdiv%20style%3D%27margin%3A%200%3B%20background-color%3A%20black%3B%20color%3A%20white%3B%27%3E%3Ch4%20style%3D%27text-align%3Acenter%3Bfont-weight%3A%20bold%27%3EChina%3C/h4%3E%3Chr%20style%3D%27margin%3A10px%3Bcolor%3A%20white%3B%27%3E%3Cul%20style%3D%27color%3A%20white%3B%3Blist-style-type%3Acircle%3Balign-item%3Aleft%3Bpadding-left%3A20px%3Bpadding-right%3A20px%27%3E%3Cli%3EConfirmed%3A%20720%3C/li%3E%3Cli%3EDeaths%3A%20%20%201%3C/li%3E%3Cli%3EDeath%20Rate%3A%200.14%3C/li%3E%3C/ul%3E%3C/div%3E%0A%20%20%20%20%20%20%20%20%20%20%20%20%20%20%20%20%20%3C/div%3E%60%2C%0A%20%20%20%20%20%20%20%20%20%20%20%20%20%20%20%20%7B%22sticky%22%3A%20true%7D%0A%20%20%20%20%20%20%20%20%20%20%20%20%29%3B%0A%20%20%20%20%20%20%20%20%0A%20%20%20%20%0A%20%20%20%20%20%20%20%20%20%20%20%20var%20circle_1e61e22cf66a4c7babebc0e2142bd57e%20%3D%20L.circle%28%0A%20%20%20%20%20%20%20%20%20%20%20%20%20%20%20%20%5B27.614%2C%20115.7221%5D%2C%0A%20%20%20%20%20%20%20%20%20%20%20%20%20%20%20%20%7B%22bubblingMouseEvents%22%3A%20true%2C%20%22color%22%3A%20%22red%22%2C%20%22dashArray%22%3A%20null%2C%20%22dashOffset%22%3A%20null%2C%20%22fill%22%3A%20true%2C%20%22fillColor%22%3A%20%22indigo%22%2C%20%22fillOpacity%22%3A%200.2%2C%20%22fillRule%22%3A%20%22evenodd%22%2C%20%22lineCap%22%3A%20%22round%22%2C%20%22lineJoin%22%3A%20%22round%22%2C%20%22opacity%22%3A%201.0%2C%20%22radius%22%3A%2031000.0%2C%20%22stroke%22%3A%20true%2C%20%22weight%22%3A%203%7D%0A%20%20%20%20%20%20%20%20%20%20%20%20%29.addTo%28map_aebf8a811f48491ea9853ca070daf374%29%3B%0A%20%20%20%20%20%20%20%20%0A%20%20%20%20%0A%20%20%20%20%20%20%20%20%20%20%20%20circle_1e61e22cf66a4c7babebc0e2142bd57e.bindTooltip%28%0A%20%20%20%20%20%20%20%20%20%20%20%20%20%20%20%20%60%3Cdiv%3E%0A%20%20%20%20%20%20%20%20%20%20%20%20%20%20%20%20%20%20%20%20%20%3Cdiv%20style%3D%27margin%3A%200%3B%20background-color%3A%20black%3B%20color%3A%20white%3B%27%3E%3Ch4%20style%3D%27text-align%3Acenter%3Bfont-weight%3A%20bold%27%3EChina%3C/h4%3E%3Chr%20style%3D%27margin%3A10px%3Bcolor%3A%20white%3B%27%3E%3Cul%20style%3D%27color%3A%20white%3B%3Blist-style-type%3Acircle%3Balign-item%3Aleft%3Bpadding-left%3A20px%3Bpadding-right%3A20px%27%3E%3Cli%3EConfirmed%3A%20937%3C/li%3E%3Cli%3EDeaths%3A%20%20%200%3C/li%3E%3Cli%3EDeath%20Rate%3A%200.0%3C/li%3E%3C/ul%3E%3C/div%3E%0A%20%20%20%20%20%20%20%20%20%20%20%20%20%20%20%20%20%3C/div%3E%60%2C%0A%20%20%20%20%20%20%20%20%20%20%20%20%20%20%20%20%7B%22sticky%22%3A%20true%7D%0A%20%20%20%20%20%20%20%20%20%20%20%20%29%3B%0A%20%20%20%20%20%20%20%20%0A%20%20%20%20%0A%20%20%20%20%20%20%20%20%20%20%20%20var%20circle_72f3b016ee6c4d24a4b99f6c03bd7ea8%20%3D%20L.circle%28%0A%20%20%20%20%20%20%20%20%20%20%20%20%20%20%20%20%5B43.6661%2C%20126.1923%5D%2C%0A%20%20%20%20%20%20%20%20%20%20%20%20%20%20%20%20%7B%22bubblingMouseEvents%22%3A%20true%2C%20%22color%22%3A%20%22red%22%2C%20%22dashArray%22%3A%20null%2C%20%22dashOffset%22%3A%20null%2C%20%22fill%22%3A%20true%2C%20%22fillColor%22%3A%20%22indigo%22%2C%20%22fillOpacity%22%3A%200.2%2C%20%22fillRule%22%3A%20%22evenodd%22%2C%20%22lineCap%22%3A%20%22round%22%2C%20%22lineJoin%22%3A%20%22round%22%2C%20%22opacity%22%3A%201.0%2C%20%22radius%22%3A%2031000.0%2C%20%22stroke%22%3A%20true%2C%20%22weight%22%3A%203%7D%0A%20%20%20%20%20%20%20%20%20%20%20%20%29.addTo%28map_aebf8a811f48491ea9853ca070daf374%29%3B%0A%20%20%20%20%20%20%20%20%0A%20%20%20%20%0A%20%20%20%20%20%20%20%20%20%20%20%20circle_72f3b016ee6c4d24a4b99f6c03bd7ea8.bindTooltip%28%0A%20%20%20%20%20%20%20%20%20%20%20%20%20%20%20%20%60%3Cdiv%3E%0A%20%20%20%20%20%20%20%20%20%20%20%20%20%20%20%20%20%20%20%20%20%3Cdiv%20style%3D%27margin%3A%200%3B%20background-color%3A%20black%3B%20color%3A%20white%3B%27%3E%3Ch4%20style%3D%27text-align%3Acenter%3Bfont-weight%3A%20bold%27%3EChina%3C/h4%3E%3Chr%20style%3D%27margin%3A10px%3Bcolor%3A%20white%3B%27%3E%3Cul%20style%3D%27color%3A%20white%3B%3Blist-style-type%3Acircle%3Balign-item%3Aleft%3Bpadding-left%3A20px%3Bpadding-right%3A20px%27%3E%3Cli%3EConfirmed%3A%20573%3C/li%3E%3Cli%3EDeaths%3A%20%20%201%3C/li%3E%3Cli%3EDeath%20Rate%3A%200.17%3C/li%3E%3C/ul%3E%3C/div%3E%0A%20%20%20%20%20%20%20%20%20%20%20%20%20%20%20%20%20%3C/div%3E%60%2C%0A%20%20%20%20%20%20%20%20%20%20%20%20%20%20%20%20%7B%22sticky%22%3A%20true%7D%0A%20%20%20%20%20%20%20%20%20%20%20%20%29%3B%0A%20%20%20%20%20%20%20%20%0A%20%20%20%20%0A%20%20%20%20%20%20%20%20%20%20%20%20var%20circle_ff1753318dbd45fcba74a8187be57d90%20%3D%20L.circle%28%0A%20%20%20%20%20%20%20%20%20%20%20%20%20%20%20%20%5B41.2956%2C%20122.6085%5D%2C%0A%20%20%20%20%20%20%20%20%20%20%20%20%20%20%20%20%7B%22bubblingMouseEvents%22%3A%20true%2C%20%22color%22%3A%20%22red%22%2C%20%22dashArray%22%3A%20null%2C%20%22dashOffset%22%3A%20null%2C%20%22fill%22%3A%20true%2C%20%22fillColor%22%3A%20%22indigo%22%2C%20%22fillOpacity%22%3A%200.2%2C%20%22fillRule%22%3A%20%22evenodd%22%2C%20%22lineCap%22%3A%20%22round%22%2C%20%22lineJoin%22%3A%20%22round%22%2C%20%22opacity%22%3A%201.0%2C%20%22radius%22%3A%2031000.0%2C%20%22stroke%22%3A%20true%2C%20%22weight%22%3A%203%7D%0A%20%20%20%20%20%20%20%20%20%20%20%20%29.addTo%28map_aebf8a811f48491ea9853ca070daf374%29%3B%0A%20%20%20%20%20%20%20%20%0A%20%20%20%20%0A%20%20%20%20%20%20%20%20%20%20%20%20circle_ff1753318dbd45fcba74a8187be57d90.bindTooltip%28%0A%20%20%20%20%20%20%20%20%20%20%20%20%20%20%20%20%60%3Cdiv%3E%0A%20%20%20%20%20%20%20%20%20%20%20%20%20%20%20%20%20%20%20%20%20%3Cdiv%20style%3D%27margin%3A%200%3B%20background-color%3A%20black%3B%20color%3A%20white%3B%27%3E%3Ch4%20style%3D%27text-align%3Acenter%3Bfont-weight%3A%20bold%27%3EChina%3C/h4%3E%3Chr%20style%3D%27margin%3A10px%3Bcolor%3A%20white%3B%27%3E%3Cul%20style%3D%27color%3A%20white%3B%3Blist-style-type%3Acircle%3Balign-item%3Aleft%3Bpadding-left%3A20px%3Bpadding-right%3A20px%27%3E%3Cli%3EConfirmed%3A%20408%3C/li%3E%3Cli%3EDeaths%3A%20%20%203%3C/li%3E%3Cli%3EDeath%20Rate%3A%200.73%3C/li%3E%3C/ul%3E%3C/div%3E%0A%20%20%20%20%20%20%20%20%20%20%20%20%20%20%20%20%20%3C/div%3E%60%2C%0A%20%20%20%20%20%20%20%20%20%20%20%20%20%20%20%20%7B%22sticky%22%3A%20true%7D%0A%20%20%20%20%20%20%20%20%20%20%20%20%29%3B%0A%20%20%20%20%20%20%20%20%0A%20%20%20%20%0A%20%20%20%20%20%20%20%20%20%20%20%20var%20circle_ddaafd96b23a4e99932eb19e358448c0%20%3D%20L.circle%28%0A%20%20%20%20%20%20%20%20%20%20%20%20%20%20%20%20%5B22.1667%2C%20113.55%5D%2C%0A%20%20%20%20%20%20%20%20%20%20%20%20%20%20%20%20%7B%22bubblingMouseEvents%22%3A%20true%2C%20%22color%22%3A%20%22red%22%2C%20%22dashArray%22%3A%20null%2C%20%22dashOffset%22%3A%20null%2C%20%22fill%22%3A%20true%2C%20%22fillColor%22%3A%20%22indigo%22%2C%20%22fillOpacity%22%3A%200.2%2C%20%22fillRule%22%3A%20%22evenodd%22%2C%20%22lineCap%22%3A%20%22round%22%2C%20%22lineJoin%22%3A%20%22round%22%2C%20%22opacity%22%3A%201.0%2C%20%22radius%22%3A%2016000.0%2C%20%22stroke%22%3A%20true%2C%20%22weight%22%3A%203%7D%0A%20%20%20%20%20%20%20%20%20%20%20%20%29.addTo%28map_aebf8a811f48491ea9853ca070daf374%29%3B%0A%20%20%20%20%20%20%20%20%0A%20%20%20%20%0A%20%20%20%20%20%20%20%20%20%20%20%20circle_ddaafd96b23a4e99932eb19e358448c0.bindTooltip%28%0A%20%20%20%20%20%20%20%20%20%20%20%20%20%20%20%20%60%3Cdiv%3E%0A%20%20%20%20%20%20%20%20%20%20%20%20%20%20%20%20%20%20%20%20%20%3Cdiv%20style%3D%27margin%3A%200%3B%20background-color%3A%20black%3B%20color%3A%20white%3B%27%3E%3Ch4%20style%3D%27text-align%3Acenter%3Bfont-weight%3A%20bold%27%3EChina%3C/h4%3E%3Chr%20style%3D%27margin%3A10px%3Bcolor%3A%20white%3B%27%3E%3Cul%20style%3D%27color%3A%20white%3B%3Blist-style-type%3Acircle%3Balign-item%3Aleft%3Bpadding-left%3A20px%3Bpadding-right%3A20px%27%3E%3Cli%3EConfirmed%3A%2049%3C/li%3E%3Cli%3EDeaths%3A%20%20%202%3C/li%3E%3Cli%3EDeath%20Rate%3A%204.0%3C/li%3E%3C/ul%3E%3C/div%3E%0A%20%20%20%20%20%20%20%20%20%20%20%20%20%20%20%20%20%3C/div%3E%60%2C%0A%20%20%20%20%20%20%20%20%20%20%20%20%20%20%20%20%7B%22sticky%22%3A%20true%7D%0A%20%20%20%20%20%20%20%20%20%20%20%20%29%3B%0A%20%20%20%20%20%20%20%20%0A%20%20%20%20%0A%20%20%20%20%20%20%20%20%20%20%20%20var%20circle_8b4b36eb70dd4a7fb2de397cf3fdb46d%20%3D%20L.circle%28%0A%20%20%20%20%20%20%20%20%20%20%20%20%20%20%20%20%5B37.2692%2C%20106.1655%5D%2C%0A%20%20%20%20%20%20%20%20%20%20%20%20%20%20%20%20%7B%22bubblingMouseEvents%22%3A%20true%2C%20%22color%22%3A%20%22red%22%2C%20%22dashArray%22%3A%20null%2C%20%22dashOffset%22%3A%20null%2C%20%22fill%22%3A%20true%2C%20%22fillColor%22%3A%20%22indigo%22%2C%20%22fillOpacity%22%3A%200.2%2C%20%22fillRule%22%3A%20%22evenodd%22%2C%20%22lineCap%22%3A%20%22round%22%2C%20%22lineJoin%22%3A%20%22round%22%2C%20%22opacity%22%3A%201.0%2C%20%22radius%22%3A%2021000.0%2C%20%22stroke%22%3A%20true%2C%20%22weight%22%3A%203%7D%0A%20%20%20%20%20%20%20%20%20%20%20%20%29.addTo%28map_aebf8a811f48491ea9853ca070daf374%29%3B%0A%20%20%20%20%20%20%20%20%0A%20%20%20%20%0A%20%20%20%20%20%20%20%20%20%20%20%20circle_8b4b36eb70dd4a7fb2de397cf3fdb46d.bindTooltip%28%0A%20%20%20%20%20%20%20%20%20%20%20%20%20%20%20%20%60%3Cdiv%3E%0A%20%20%20%20%20%20%20%20%20%20%20%20%20%20%20%20%20%20%20%20%20%3Cdiv%20style%3D%27margin%3A%200%3B%20background-color%3A%20black%3B%20color%3A%20white%3B%27%3E%3Ch4%20style%3D%27text-align%3Acenter%3Bfont-weight%3A%20bold%27%3EChina%3C/h4%3E%3Chr%20style%3D%27margin%3A10px%3Bcolor%3A%20white%3B%27%3E%3Cul%20style%3D%27color%3A%20white%3B%3Blist-style-type%3Acircle%3Balign-item%3Aleft%3Bpadding-left%3A20px%3Bpadding-right%3A20px%27%3E%3Cli%3EConfirmed%3A%2075%3C/li%3E%3Cli%3EDeaths%3A%20%20%200%3C/li%3E%3Cli%3EDeath%20Rate%3A%200.0%3C/li%3E%3C/ul%3E%3C/div%3E%0A%20%20%20%20%20%20%20%20%20%20%20%20%20%20%20%20%20%3C/div%3E%60%2C%0A%20%20%20%20%20%20%20%20%20%20%20%20%20%20%20%20%7B%22sticky%22%3A%20true%7D%0A%20%20%20%20%20%20%20%20%20%20%20%20%29%3B%0A%20%20%20%20%20%20%20%20%0A%20%20%20%20%0A%20%20%20%20%20%20%20%20%20%20%20%20var%20circle_2ced40b787a7403f86e3d6065af6f327%20%3D%20L.circle%28%0A%20%20%20%20%20%20%20%20%20%20%20%20%20%20%20%20%5B35.7452%2C%2095.9956%5D%2C%0A%20%20%20%20%20%20%20%20%20%20%20%20%20%20%20%20%7B%22bubblingMouseEvents%22%3A%20true%2C%20%22color%22%3A%20%22red%22%2C%20%22dashArray%22%3A%20null%2C%20%22dashOffset%22%3A%20null%2C%20%22fill%22%3A%20true%2C%20%22fillColor%22%3A%20%22indigo%22%2C%20%22fillOpacity%22%3A%200.2%2C%20%22fillRule%22%3A%20%22evenodd%22%2C%20%22lineCap%22%3A%20%22round%22%2C%20%22lineJoin%22%3A%20%22round%22%2C%20%22opacity%22%3A%201.0%2C%20%22radius%22%3A%2011000.0%2C%20%22stroke%22%3A%20true%2C%20%22weight%22%3A%203%7D%0A%20%20%20%20%20%20%20%20%20%20%20%20%29.addTo%28map_aebf8a811f48491ea9853ca070daf374%29%3B%0A%20%20%20%20%20%20%20%20%0A%20%20%20%20%0A%20%20%20%20%20%20%20%20%20%20%20%20circle_2ced40b787a7403f86e3d6065af6f327.bindTooltip%28%0A%20%20%20%20%20%20%20%20%20%20%20%20%20%20%20%20%60%3Cdiv%3E%0A%20%20%20%20%20%20%20%20%20%20%20%20%20%20%20%20%20%20%20%20%20%3Cdiv%20style%3D%27margin%3A%200%3B%20background-color%3A%20black%3B%20color%3A%20white%3B%27%3E%3Ch4%20style%3D%27text-align%3Acenter%3Bfont-weight%3A%20bold%27%3EChina%3C/h4%3E%3Chr%20style%3D%27margin%3A10px%3Bcolor%3A%20white%3B%27%3E%3Cul%20style%3D%27color%3A%20white%3B%3Blist-style-type%3Acircle%3Balign-item%3Aleft%3Bpadding-left%3A20px%3Bpadding-right%3A20px%27%3E%3Cli%3EConfirmed%3A%2018%3C/li%3E%3Cli%3EDeaths%3A%20%20%200%3C/li%3E%3Cli%3EDeath%20Rate%3A%200.0%3C/li%3E%3C/ul%3E%3C/div%3E%0A%20%20%20%20%20%20%20%20%20%20%20%20%20%20%20%20%20%3C/div%3E%60%2C%0A%20%20%20%20%20%20%20%20%20%20%20%20%20%20%20%20%7B%22sticky%22%3A%20true%7D%0A%20%20%20%20%20%20%20%20%20%20%20%20%29%3B%0A%20%20%20%20%20%20%20%20%0A%20%20%20%20%0A%20%20%20%20%20%20%20%20%20%20%20%20var%20circle_cfb971122abb45e4bec27af676818140%20%3D%20L.circle%28%0A%20%20%20%20%20%20%20%20%20%20%20%20%20%20%20%20%5B35.1917%2C%20108.8701%5D%2C%0A%20%20%20%20%20%20%20%20%20%20%20%20%20%20%20%20%7B%22bubblingMouseEvents%22%3A%20true%2C%20%22color%22%3A%20%22red%22%2C%20%22dashArray%22%3A%20null%2C%20%22dashOffset%22%3A%20null%2C%20%22fill%22%3A%20true%2C%20%22fillColor%22%3A%20%22indigo%22%2C%20%22fillOpacity%22%3A%200.2%2C%20%22fillRule%22%3A%20%22evenodd%22%2C%20%22lineCap%22%3A%20%22round%22%2C%20%22lineJoin%22%3A%20%22round%22%2C%20%22opacity%22%3A%201.0%2C%20%22radius%22%3A%2031000.0%2C%20%22stroke%22%3A%20true%2C%20%22weight%22%3A%203%7D%0A%20%20%20%20%20%20%20%20%20%20%20%20%29.addTo%28map_aebf8a811f48491ea9853ca070daf374%29%3B%0A%20%20%20%20%20%20%20%20%0A%20%20%20%20%0A%20%20%20%20%20%20%20%20%20%20%20%20circle_cfb971122abb45e4bec27af676818140.bindTooltip%28%0A%20%20%20%20%20%20%20%20%20%20%20%20%20%20%20%20%60%3Cdiv%3E%0A%20%20%20%20%20%20%20%20%20%20%20%20%20%20%20%20%20%20%20%20%20%3Cdiv%20style%3D%27margin%3A%200%3B%20background-color%3A%20black%3B%20color%3A%20white%3B%27%3E%3Ch4%20style%3D%27text-align%3Acenter%3Bfont-weight%3A%20bold%27%3EChina%3C/h4%3E%3Chr%20style%3D%27margin%3A10px%3Bcolor%3A%20white%3B%27%3E%3Cul%20style%3D%27color%3A%20white%3B%3Blist-style-type%3Acircle%3Balign-item%3Aleft%3Bpadding-left%3A20px%3Bpadding-right%3A20px%27%3E%3Cli%3EConfirmed%3A%20590%3C/li%3E%3Cli%3EDeaths%3A%20%20%200%3C/li%3E%3Cli%3EDeath%20Rate%3A%200.0%3C/li%3E%3C/ul%3E%3C/div%3E%0A%20%20%20%20%20%20%20%20%20%20%20%20%20%20%20%20%20%3C/div%3E%60%2C%0A%20%20%20%20%20%20%20%20%20%20%20%20%20%20%20%20%7B%22sticky%22%3A%20true%7D%0A%20%20%20%20%20%20%20%20%20%20%20%20%29%3B%0A%20%20%20%20%20%20%20%20%0A%20%20%20%20%0A%20%20%20%20%20%20%20%20%20%20%20%20var%20circle_8c6f451251bc4b2f9d6b5c5def466613%20%3D%20L.circle%28%0A%20%20%20%20%20%20%20%20%20%20%20%20%20%20%20%20%5B36.3427%2C%20118.1498%5D%2C%0A%20%20%20%20%20%20%20%20%20%20%20%20%20%20%20%20%7B%22bubblingMouseEvents%22%3A%20true%2C%20%22color%22%3A%20%22red%22%2C%20%22dashArray%22%3A%20null%2C%20%22dashOffset%22%3A%20null%2C%20%22fill%22%3A%20true%2C%20%22fillColor%22%3A%20%22indigo%22%2C%20%22fillOpacity%22%3A%200.2%2C%20%22fillRule%22%3A%20%22evenodd%22%2C%20%22lineCap%22%3A%20%22round%22%2C%20%22lineJoin%22%3A%20%22round%22%2C%20%22opacity%22%3A%201.0%2C%20%22radius%22%3A%2031000.0%2C%20%22stroke%22%3A%20true%2C%20%22weight%22%3A%203%7D%0A%20%20%20%20%20%20%20%20%20%20%20%20%29.addTo%28map_aebf8a811f48491ea9853ca070daf374%29%3B%0A%20%20%20%20%20%20%20%20%0A%20%20%20%20%0A%20%20%20%20%20%20%20%20%20%20%20%20circle_8c6f451251bc4b2f9d6b5c5def466613.bindTooltip%28%0A%20%20%20%20%20%20%20%20%20%20%20%20%20%20%20%20%60%3Cdiv%3E%0A%20%20%20%20%20%20%20%20%20%20%20%20%20%20%20%20%20%20%20%20%20%3Cdiv%20style%3D%27margin%3A%200%3B%20background-color%3A%20black%3B%20color%3A%20white%3B%27%3E%3Ch4%20style%3D%27text-align%3Acenter%3Bfont-weight%3A%20bold%27%3EChina%3C/h4%3E%3Chr%20style%3D%27margin%3A10px%3Bcolor%3A%20white%3B%27%3E%3Cul%20style%3D%27color%3A%20white%3B%3Blist-style-type%3Acircle%3Balign-item%3Aleft%3Bpadding-left%3A20px%3Bpadding-right%3A20px%27%3E%3Cli%3EConfirmed%3A%20879%3C/li%3E%3Cli%3EDeaths%3A%20%20%203%3C/li%3E%3Cli%3EDeath%20Rate%3A%200.34%3C/li%3E%3C/ul%3E%3C/div%3E%0A%20%20%20%20%20%20%20%20%20%20%20%20%20%20%20%20%20%3C/div%3E%60%2C%0A%20%20%20%20%20%20%20%20%20%20%20%20%20%20%20%20%7B%22sticky%22%3A%20true%7D%0A%20%20%20%20%20%20%20%20%20%20%20%20%29%3B%0A%20%20%20%20%20%20%20%20%0A%20%20%20%20%0A%20%20%20%20%20%20%20%20%20%20%20%20var%20circle_db60069cf672485ca2c54416f73d33e6%20%3D%20L.circle%28%0A%20%20%20%20%20%20%20%20%20%20%20%20%20%20%20%20%5B31.201999999999998%2C%20121.4491%5D%2C%0A%20%20%20%20%20%20%20%20%20%20%20%20%20%20%20%20%7B%22bubblingMouseEvents%22%3A%20true%2C%20%22color%22%3A%20%22red%22%2C%20%22dashArray%22%3A%20null%2C%20%22dashOffset%22%3A%20null%2C%20%22fill%22%3A%20true%2C%20%22fillColor%22%3A%20%22indigo%22%2C%20%22fillOpacity%22%3A%200.2%2C%20%22fillRule%22%3A%20%22evenodd%22%2C%20%22lineCap%22%3A%20%22round%22%2C%20%22lineJoin%22%3A%20%22round%22%2C%20%22opacity%22%3A%201.0%2C%20%22radius%22%3A%2036000.0%2C%20%22stroke%22%3A%20true%2C%20%22weight%22%3A%203%7D%0A%20%20%20%20%20%20%20%20%20%20%20%20%29.addTo%28map_aebf8a811f48491ea9853ca070daf374%29%3B%0A%20%20%20%20%20%20%20%20%0A%20%20%20%20%0A%20%20%20%20%20%20%20%20%20%20%20%20circle_db60069cf672485ca2c54416f73d33e6.bindTooltip%28%0A%20%20%20%20%20%20%20%20%20%20%20%20%20%20%20%20%60%3Cdiv%3E%0A%20%20%20%20%20%20%20%20%20%20%20%20%20%20%20%20%20%20%20%20%20%3Cdiv%20style%3D%27margin%3A%200%3B%20background-color%3A%20black%3B%20color%3A%20white%3B%27%3E%3Ch4%20style%3D%27text-align%3Acenter%3Bfont-weight%3A%20bold%27%3EChina%3C/h4%3E%3Chr%20style%3D%27margin%3A10px%3Bcolor%3A%20white%3B%27%3E%3Cul%20style%3D%27color%3A%20white%3B%3Blist-style-type%3Acircle%3Balign-item%3Aleft%3Bpadding-left%3A20px%3Bpadding-right%3A20px%27%3E%3Cli%3EConfirmed%3A%201999%3C/li%3E%3Cli%3EDeaths%3A%20%20%207%3C/li%3E%3Cli%3EDeath%20Rate%3A%200.35%3C/li%3E%3C/ul%3E%3C/div%3E%0A%20%20%20%20%20%20%20%20%20%20%20%20%20%20%20%20%20%3C/div%3E%60%2C%0A%20%20%20%20%20%20%20%20%20%20%20%20%20%20%20%20%7B%22sticky%22%3A%20true%7D%0A%20%20%20%20%20%20%20%20%20%20%20%20%29%3B%0A%20%20%20%20%20%20%20%20%0A%20%20%20%20%0A%20%20%20%20%20%20%20%20%20%20%20%20var%20circle_bc3f881b58b146b5992f299ed3138db5%20%3D%20L.circle%28%0A%20%20%20%20%20%20%20%20%20%20%20%20%20%20%20%20%5B37.5777%2C%20112.2922%5D%2C%0A%20%20%20%20%20%20%20%20%20%20%20%20%20%20%20%20%7B%22bubblingMouseEvents%22%3A%20true%2C%20%22color%22%3A%20%22red%22%2C%20%22dashArray%22%3A%20null%2C%20%22dashOffset%22%3A%20null%2C%20%22fill%22%3A%20true%2C%20%22fillColor%22%3A%20%22indigo%22%2C%20%22fillOpacity%22%3A%200.2%2C%20%22fillRule%22%3A%20%22evenodd%22%2C%20%22lineCap%22%3A%20%22round%22%2C%20%22lineJoin%22%3A%20%22round%22%2C%20%22opacity%22%3A%201.0%2C%20%22radius%22%3A%2026000.0%2C%20%22stroke%22%3A%20true%2C%20%22weight%22%3A%203%7D%0A%20%20%20%20%20%20%20%20%20%20%20%20%29.addTo%28map_aebf8a811f48491ea9853ca070daf374%29%3B%0A%20%20%20%20%20%20%20%20%0A%20%20%20%20%0A%20%20%20%20%20%20%20%20%20%20%20%20circle_bc3f881b58b146b5992f299ed3138db5.bindTooltip%28%0A%20%20%20%20%20%20%20%20%20%20%20%20%20%20%20%20%60%3Cdiv%3E%0A%20%20%20%20%20%20%20%20%20%20%20%20%20%20%20%20%20%20%20%20%20%3Cdiv%20style%3D%27margin%3A%200%3B%20background-color%3A%20black%3B%20color%3A%20white%3B%27%3E%3Ch4%20style%3D%27text-align%3Acenter%3Bfont-weight%3A%20bold%27%3EChina%3C/h4%3E%3Chr%20style%3D%27margin%3A10px%3Bcolor%3A%20white%3B%27%3E%3Cul%20style%3D%27color%3A%20white%3B%3Blist-style-type%3Acircle%3Balign-item%3Aleft%3Bpadding-left%3A20px%3Bpadding-right%3A20px%27%3E%3Cli%3EConfirmed%3A%20251%3C/li%3E%3Cli%3EDeaths%3A%20%20%207%3C/li%3E%3Cli%3EDeath%20Rate%3A%202.78%3C/li%3E%3C/ul%3E%3C/div%3E%0A%20%20%20%20%20%20%20%20%20%20%20%20%20%20%20%20%20%3C/div%3E%60%2C%0A%20%20%20%20%20%20%20%20%20%20%20%20%20%20%20%20%7B%22sticky%22%3A%20true%7D%0A%20%20%20%20%20%20%20%20%20%20%20%20%29%3B%0A%20%20%20%20%20%20%20%20%0A%20%20%20%20%0A%20%20%20%20%20%20%20%20%20%20%20%20var%20circle_2c0034775b854296ade8992d92983c93%20%3D%20L.circle%28%0A%20%20%20%20%20%20%20%20%20%20%20%20%20%20%20%20%5B30.6171%2C%20102.7103%5D%2C%0A%20%20%20%20%20%20%20%20%20%20%20%20%20%20%20%20%7B%22bubblingMouseEvents%22%3A%20true%2C%20%22color%22%3A%20%22red%22%2C%20%22dashArray%22%3A%20null%2C%20%22dashOffset%22%3A%20null%2C%20%22fill%22%3A%20true%2C%20%22fillColor%22%3A%20%22indigo%22%2C%20%22fillOpacity%22%3A%200.2%2C%20%22fillRule%22%3A%20%22evenodd%22%2C%20%22lineCap%22%3A%20%22round%22%2C%20%22lineJoin%22%3A%20%22round%22%2C%20%22opacity%22%3A%201.0%2C%20%22radius%22%3A%2031000.0%2C%20%22stroke%22%3A%20true%2C%20%22weight%22%3A%203%7D%0A%20%20%20%20%20%20%20%20%20%20%20%20%29.addTo%28map_aebf8a811f48491ea9853ca070daf374%29%3B%0A%20%20%20%20%20%20%20%20%0A%20%20%20%20%0A%20%20%20%20%20%20%20%20%20%20%20%20circle_2c0034775b854296ade8992d92983c93.bindTooltip%28%0A%20%20%20%20%20%20%20%20%20%20%20%20%20%20%20%20%60%3Cdiv%3E%0A%20%20%20%20%20%20%20%20%20%20%20%20%20%20%20%20%20%20%20%20%20%3Cdiv%20style%3D%27margin%3A%200%3B%20background-color%3A%20black%3B%20color%3A%20white%3B%27%3E%3Ch4%20style%3D%27text-align%3Acenter%3Bfont-weight%3A%20bold%27%3EChina%3C/h4%3E%3Chr%20style%3D%27margin%3A10px%3Bcolor%3A%20white%3B%27%3E%3Cul%20style%3D%27color%3A%20white%3B%3Blist-style-type%3Acircle%3Balign-item%3Aleft%3Bpadding-left%3A20px%3Bpadding-right%3A20px%27%3E%3Cli%3EConfirmed%3A%20990%3C/li%3E%3Cli%3EDeaths%3A%20%20%200%3C/li%3E%3Cli%3EDeath%20Rate%3A%200.0%3C/li%3E%3C/ul%3E%3C/div%3E%0A%20%20%20%20%20%20%20%20%20%20%20%20%20%20%20%20%20%3C/div%3E%60%2C%0A%20%20%20%20%20%20%20%20%20%20%20%20%20%20%20%20%7B%22sticky%22%3A%20true%7D%0A%20%20%20%20%20%20%20%20%20%20%20%20%29%3B%0A%20%20%20%20%20%20%20%20%0A%20%20%20%20%0A%20%20%20%20%20%20%20%20%20%20%20%20var%20circle_b7119aaa2df24bb9b9f0770f9df0b97a%20%3D%20L.circle%28%0A%20%20%20%20%20%20%20%20%20%20%20%20%20%20%20%20%5B39.3054%2C%20117.323%5D%2C%0A%20%20%20%20%20%20%20%20%20%20%20%20%20%20%20%20%7B%22bubblingMouseEvents%22%3A%20true%2C%20%22color%22%3A%20%22red%22%2C%20%22dashArray%22%3A%20null%2C%20%22dashOffset%22%3A%20null%2C%20%22fill%22%3A%20true%2C%20%22fillColor%22%3A%20%22indigo%22%2C%20%22fillOpacity%22%3A%200.2%2C%20%22fillRule%22%3A%20%22evenodd%22%2C%20%22lineCap%22%3A%20%22round%22%2C%20%22lineJoin%22%3A%20%22round%22%2C%20%22opacity%22%3A%201.0%2C%20%22radius%22%3A%2026000.0%2C%20%22stroke%22%3A%20true%2C%20%22weight%22%3A%203%7D%0A%20%20%20%20%20%20%20%20%20%20%20%20%29.addTo%28map_aebf8a811f48491ea9853ca070daf374%29%3B%0A%20%20%20%20%20%20%20%20%0A%20%20%20%20%0A%20%20%20%20%20%20%20%20%20%20%20%20circle_b7119aaa2df24bb9b9f0770f9df0b97a.bindTooltip%28%0A%20%20%20%20%20%20%20%20%20%20%20%20%20%20%20%20%60%3Cdiv%3E%0A%20%20%20%20%20%20%20%20%20%20%20%20%20%20%20%20%20%20%20%20%20%3Cdiv%20style%3D%27margin%3A%200%3B%20background-color%3A%20black%3B%20color%3A%20white%3B%27%3E%3Ch4%20style%3D%27text-align%3Acenter%3Bfont-weight%3A%20bold%27%3EChina%3C/h4%3E%3Chr%20style%3D%27margin%3A10px%3Bcolor%3A%20white%3B%27%3E%3Cul%20style%3D%27color%3A%20white%3B%3Blist-style-type%3Acircle%3Balign-item%3Aleft%3Bpadding-left%3A20px%3Bpadding-right%3A20px%27%3E%3Cli%3EConfirmed%3A%20386%3C/li%3E%3Cli%3EDeaths%3A%20%20%203%3C/li%3E%3Cli%3EDeath%20Rate%3A%200.78%3C/li%3E%3C/ul%3E%3C/div%3E%0A%20%20%20%20%20%20%20%20%20%20%20%20%20%20%20%20%20%3C/div%3E%60%2C%0A%20%20%20%20%20%20%20%20%20%20%20%20%20%20%20%20%7B%22sticky%22%3A%20true%7D%0A%20%20%20%20%20%20%20%20%20%20%20%20%29%3B%0A%20%20%20%20%20%20%20%20%0A%20%20%20%20%0A%20%20%20%20%20%20%20%20%20%20%20%20var%20circle_889af6bc26de4913bf57c6e4e0b0ec3f%20%3D%20L.circle%28%0A%20%20%20%20%20%20%20%20%20%20%20%20%20%20%20%20%5B31.6927%2C%2088.0924%5D%2C%0A%20%20%20%20%20%20%20%20%20%20%20%20%20%20%20%20%7B%22bubblingMouseEvents%22%3A%20true%2C%20%22color%22%3A%20%22red%22%2C%20%22dashArray%22%3A%20null%2C%20%22dashOffset%22%3A%20null%2C%20%22fill%22%3A%20true%2C%20%22fillColor%22%3A%20%22indigo%22%2C%20%22fillOpacity%22%3A%200.2%2C%20%22fillRule%22%3A%20%22evenodd%22%2C%20%22lineCap%22%3A%20%22round%22%2C%20%22lineJoin%22%3A%20%22round%22%2C%20%22opacity%22%3A%201.0%2C%20%22radius%22%3A%201000.0%2C%20%22stroke%22%3A%20true%2C%20%22weight%22%3A%203%7D%0A%20%20%20%20%20%20%20%20%20%20%20%20%29.addTo%28map_aebf8a811f48491ea9853ca070daf374%29%3B%0A%20%20%20%20%20%20%20%20%0A%20%20%20%20%0A%20%20%20%20%20%20%20%20%20%20%20%20circle_889af6bc26de4913bf57c6e4e0b0ec3f.bindTooltip%28%0A%20%20%20%20%20%20%20%20%20%20%20%20%20%20%20%20%60%3Cdiv%3E%0A%20%20%20%20%20%20%20%20%20%20%20%20%20%20%20%20%20%20%20%20%20%3Cdiv%20style%3D%27margin%3A%200%3B%20background-color%3A%20black%3B%20color%3A%20white%3B%27%3E%3Ch4%20style%3D%27text-align%3Acenter%3Bfont-weight%3A%20bold%27%3EChina%3C/h4%3E%3Chr%20style%3D%27margin%3A10px%3Bcolor%3A%20white%3B%27%3E%3Cul%20style%3D%27color%3A%20white%3B%3Blist-style-type%3Acircle%3Balign-item%3Aleft%3Bpadding-left%3A20px%3Bpadding-right%3A20px%27%3E%3Cli%3EConfirmed%3A%201%3C/li%3E%3Cli%3EDeaths%3A%20%20%203%3C/li%3E%3Cli%3EDeath%20Rate%3A%20150.0%3C/li%3E%3C/ul%3E%3C/div%3E%0A%20%20%20%20%20%20%20%20%20%20%20%20%20%20%20%20%20%3C/div%3E%60%2C%0A%20%20%20%20%20%20%20%20%20%20%20%20%20%20%20%20%7B%22sticky%22%3A%20true%7D%0A%20%20%20%20%20%20%20%20%20%20%20%20%29%3B%0A%20%20%20%20%20%20%20%20%0A%20%20%20%20%0A%20%20%20%20%20%20%20%20%20%20%20%20var%20circle_83a61b8f35e34b0081431cdec20389ac%20%3D%20L.circle%28%0A%20%20%20%20%20%20%20%20%20%20%20%20%20%20%20%20%5B41.1129%2C%2085.2401%5D%2C%0A%20%20%20%20%20%20%20%20%20%20%20%20%20%20%20%20%7B%22bubblingMouseEvents%22%3A%20true%2C%20%22color%22%3A%20%22red%22%2C%20%22dashArray%22%3A%20null%2C%20%22dashOffset%22%3A%20null%2C%20%22fill%22%3A%20true%2C%20%22fillColor%22%3A%20%22indigo%22%2C%20%22fillOpacity%22%3A%200.2%2C%20%22fillRule%22%3A%20%22evenodd%22%2C%20%22lineCap%22%3A%20%22round%22%2C%20%22lineJoin%22%3A%20%22round%22%2C%20%22opacity%22%3A%201.0%2C%20%22radius%22%3A%2031000.0%2C%20%22stroke%22%3A%20true%2C%20%22weight%22%3A%203%7D%0A%20%20%20%20%20%20%20%20%20%20%20%20%29.addTo%28map_aebf8a811f48491ea9853ca070daf374%29%3B%0A%20%20%20%20%20%20%20%20%0A%20%20%20%20%0A%20%20%20%20%20%20%20%20%20%20%20%20circle_83a61b8f35e34b0081431cdec20389ac.bindTooltip%28%0A%20%20%20%20%20%20%20%20%20%20%20%20%20%20%20%20%60%3Cdiv%3E%0A%20%20%20%20%20%20%20%20%20%20%20%20%20%20%20%20%20%20%20%20%20%3Cdiv%20style%3D%27margin%3A%200%3B%20background-color%3A%20black%3B%20color%3A%20white%3B%27%3E%3Ch4%20style%3D%27text-align%3Acenter%3Bfont-weight%3A%20bold%27%3EChina%3C/h4%3E%3Chr%20style%3D%27margin%3A10px%3Bcolor%3A%20white%3B%27%3E%3Cul%20style%3D%27color%3A%20white%3B%3Blist-style-type%3Acircle%3Balign-item%3Aleft%3Bpadding-left%3A20px%3Bpadding-right%3A20px%27%3E%3Cli%3EConfirmed%3A%20980%3C/li%3E%3Cli%3EDeaths%3A%20%20%200%3C/li%3E%3Cli%3EDeath%20Rate%3A%200.0%3C/li%3E%3C/ul%3E%3C/div%3E%0A%20%20%20%20%20%20%20%20%20%20%20%20%20%20%20%20%20%3C/div%3E%60%2C%0A%20%20%20%20%20%20%20%20%20%20%20%20%20%20%20%20%7B%22sticky%22%3A%20true%7D%0A%20%20%20%20%20%20%20%20%20%20%20%20%29%3B%0A%20%20%20%20%20%20%20%20%0A%20%20%20%20%0A%20%20%20%20%20%20%20%20%20%20%20%20var%20circle_f974679b73e149598bdac44d6d2dc687%20%3D%20L.circle%28%0A%20%20%20%20%20%20%20%20%20%20%20%20%20%20%20%20%5B24.974%2C%20101.48700000000001%5D%2C%0A%20%20%20%20%20%20%20%20%20%20%20%20%20%20%20%20%7B%22bubblingMouseEvents%22%3A%20true%2C%20%22color%22%3A%20%22red%22%2C%20%22dashArray%22%3A%20null%2C%20%22dashOffset%22%3A%20null%2C%20%22fill%22%3A%20true%2C%20%22fillColor%22%3A%20%22indigo%22%2C%20%22fillOpacity%22%3A%200.2%2C%20%22fillRule%22%3A%20%22evenodd%22%2C%20%22lineCap%22%3A%20%22round%22%2C%20%22lineJoin%22%3A%20%22round%22%2C%20%22opacity%22%3A%201.0%2C%20%22radius%22%3A%2026000.0%2C%20%22stroke%22%3A%20true%2C%20%22weight%22%3A%203%7D%0A%20%20%20%20%20%20%20%20%20%20%20%20%29.addTo%28map_aebf8a811f48491ea9853ca070daf374%29%3B%0A%20%20%20%20%20%20%20%20%0A%20%20%20%20%0A%20%20%20%20%20%20%20%20%20%20%20%20circle_f974679b73e149598bdac44d6d2dc687.bindTooltip%28%0A%20%20%20%20%20%20%20%20%20%20%20%20%20%20%20%20%60%3Cdiv%3E%0A%20%20%20%20%20%20%20%20%20%20%20%20%20%20%20%20%20%20%20%20%20%3Cdiv%20style%3D%27margin%3A%200%3B%20background-color%3A%20black%3B%20color%3A%20white%3B%27%3E%3Ch4%20style%3D%27text-align%3Acenter%3Bfont-weight%3A%20bold%27%3EChina%3C/h4%3E%3Chr%20style%3D%27margin%3A10px%3Bcolor%3A%20white%3B%27%3E%3Cul%20style%3D%27color%3A%20white%3B%3Blist-style-type%3Acircle%3Balign-item%3Aleft%3Bpadding-left%3A20px%3Bpadding-right%3A20px%27%3E%3Cli%3EConfirmed%3A%20345%3C/li%3E%3Cli%3EDeaths%3A%20%20%200%3C/li%3E%3Cli%3EDeath%20Rate%3A%200.0%3C/li%3E%3C/ul%3E%3C/div%3E%0A%20%20%20%20%20%20%20%20%20%20%20%20%20%20%20%20%20%3C/div%3E%60%2C%0A%20%20%20%20%20%20%20%20%20%20%20%20%20%20%20%20%7B%22sticky%22%3A%20true%7D%0A%20%20%20%20%20%20%20%20%20%20%20%20%29%3B%0A%20%20%20%20%20%20%20%20%0A%20%20%20%20%0A%20%20%20%20%20%20%20%20%20%20%20%20var%20circle_6bd038b72e76437c9606bff1dedc576c%20%3D%20L.circle%28%0A%20%20%20%20%20%20%20%20%20%20%20%20%20%20%20%20%5B29.1832%2C%20120.0934%5D%2C%0A%20%20%20%20%20%20%20%20%20%20%20%20%20%20%20%20%7B%22bubblingMouseEvents%22%3A%20true%2C%20%22color%22%3A%20%22red%22%2C%20%22dashArray%22%3A%20null%2C%20%22dashOffset%22%3A%20null%2C%20%22fill%22%3A%20true%2C%20%22fillColor%22%3A%20%22indigo%22%2C%20%22fillOpacity%22%3A%200.2%2C%20%22fillRule%22%3A%20%22evenodd%22%2C%20%22lineCap%22%3A%20%22round%22%2C%20%22lineJoin%22%3A%20%22round%22%2C%20%22opacity%22%3A%201.0%2C%20%22radius%22%3A%2036000.0%2C%20%22stroke%22%3A%20true%2C%20%22weight%22%3A%203%7D%0A%20%20%20%20%20%20%20%20%20%20%20%20%29.addTo%28map_aebf8a811f48491ea9853ca070daf374%29%3B%0A%20%20%20%20%20%20%20%20%0A%20%20%20%20%0A%20%20%20%20%20%20%20%20%20%20%20%20circle_6bd038b72e76437c9606bff1dedc576c.bindTooltip%28%0A%20%20%20%20%20%20%20%20%20%20%20%20%20%20%20%20%60%3Cdiv%3E%0A%20%20%20%20%20%20%20%20%20%20%20%20%20%20%20%20%20%20%20%20%20%3Cdiv%20style%3D%27margin%3A%200%3B%20background-color%3A%20black%3B%20color%3A%20white%3B%27%3E%3Ch4%20style%3D%27text-align%3Acenter%3Bfont-weight%3A%20bold%27%3EChina%3C/h4%3E%3Chr%20style%3D%27margin%3A10px%3Bcolor%3A%20white%3B%27%3E%3Cul%20style%3D%27color%3A%20white%3B%3Blist-style-type%3Acircle%3Balign-item%3Aleft%3Bpadding-left%3A20px%3Bpadding-right%3A20px%27%3E%3Cli%3EConfirmed%3A%201344%3C/li%3E%3Cli%3EDeaths%3A%20%20%203%3C/li%3E%3Cli%3EDeath%20Rate%3A%200.22%3C/li%3E%3C/ul%3E%3C/div%3E%0A%20%20%20%20%20%20%20%20%20%20%20%20%20%20%20%20%20%3C/div%3E%60%2C%0A%20%20%20%20%20%20%20%20%20%20%20%20%20%20%20%20%7B%22sticky%22%3A%20true%7D%0A%20%20%20%20%20%20%20%20%20%20%20%20%29%3B%0A%20%20%20%20%20%20%20%20%0A%20%20%20%20%0A%20%20%20%20%20%20%20%20%20%20%20%20var%20circle_dbb87456c87d4df2ad5737252870a27e%20%3D%20L.circle%28%0A%20%20%20%20%20%20%20%20%20%20%20%20%20%20%20%20%5B4.5709%2C%20-74.2973%5D%2C%0A%20%20%20%20%20%20%20%20%20%20%20%20%20%20%20%20%7B%22bubblingMouseEvents%22%3A%20true%2C%20%22color%22%3A%20%22red%22%2C%20%22dashArray%22%3A%20null%2C%20%22dashOffset%22%3A%20null%2C%20%22fill%22%3A%20true%2C%20%22fillColor%22%3A%20%22indigo%22%2C%20%22fillOpacity%22%3A%200.2%2C%20%22fillRule%22%3A%20%22evenodd%22%2C%20%22lineCap%22%3A%20%22round%22%2C%20%22lineJoin%22%3A%20%22round%22%2C%20%22opacity%22%3A%201.0%2C%20%22radius%22%3A%2071000.0%2C%20%22stroke%22%3A%20true%2C%20%22weight%22%3A%203%7D%0A%20%20%20%20%20%20%20%20%20%20%20%20%29.addTo%28map_aebf8a811f48491ea9853ca070daf374%29%3B%0A%20%20%20%20%20%20%20%20%0A%20%20%20%20%0A%20%20%20%20%20%20%20%20%20%20%20%20circle_dbb87456c87d4df2ad5737252870a27e.bindTooltip%28%0A%20%20%20%20%20%20%20%20%20%20%20%20%20%20%20%20%60%3Cdiv%3E%0A%20%20%20%20%20%20%20%20%20%20%20%20%20%20%20%20%20%20%20%20%20%3Cdiv%20style%3D%27margin%3A%200%3B%20background-color%3A%20black%3B%20color%3A%20white%3B%27%3E%3Ch4%20style%3D%27text-align%3Acenter%3Bfont-weight%3A%20bold%27%3EColombia%3C/h4%3E%3Chr%20style%3D%27margin%3A10px%3Bcolor%3A%20white%3B%27%3E%3Cul%20style%3D%27color%3A%20white%3B%3Blist-style-type%3Acircle%3Balign-item%3Aleft%3Bpadding-left%3A20px%3Bpadding-right%3A20px%27%3E%3Cli%3EConfirmed%3A%202919805%3C/li%3E%3Cli%3EDeaths%3A%20%20%202%3C/li%3E%3Cli%3EDeath%20Rate%3A%200.0%3C/li%3E%3C/ul%3E%3C/div%3E%0A%20%20%20%20%20%20%20%20%20%20%20%20%20%20%20%20%20%3C/div%3E%60%2C%0A%20%20%20%20%20%20%20%20%20%20%20%20%20%20%20%20%7B%22sticky%22%3A%20true%7D%0A%20%20%20%20%20%20%20%20%20%20%20%20%29%3B%0A%20%20%20%20%20%20%20%20%0A%20%20%20%20%0A%20%20%20%20%20%20%20%20%20%20%20%20var%20circle_4fe5dd15f4c04e0f92913ba0142d0f48%20%3D%20L.circle%28%0A%20%20%20%20%20%20%20%20%20%20%20%20%20%20%20%20%5B-11.6455%2C%2043.3333%5D%2C%0A%20%20%20%20%20%20%20%20%20%20%20%20%20%20%20%20%7B%22bubblingMouseEvents%22%3A%20true%2C%20%22color%22%3A%20%22red%22%2C%20%22dashArray%22%3A%20null%2C%20%22dashOffset%22%3A%20null%2C%20%22fill%22%3A%20true%2C%20%22fillColor%22%3A%20%22indigo%22%2C%20%22fillOpacity%22%3A%200.2%2C%20%22fillRule%22%3A%20%22evenodd%22%2C%20%22lineCap%22%3A%20%22round%22%2C%20%22lineJoin%22%3A%20%22round%22%2C%20%22opacity%22%3A%201.0%2C%20%22radius%22%3A%2041000.0%2C%20%22stroke%22%3A%20true%2C%20%22weight%22%3A%203%7D%0A%20%20%20%20%20%20%20%20%20%20%20%20%29.addTo%28map_aebf8a811f48491ea9853ca070daf374%29%3B%0A%20%20%20%20%20%20%20%20%0A%20%20%20%20%0A%20%20%20%20%20%20%20%20%20%20%20%20circle_4fe5dd15f4c04e0f92913ba0142d0f48.bindTooltip%28%0A%20%20%20%20%20%20%20%20%20%20%20%20%20%20%20%20%60%3Cdiv%3E%0A%20%20%20%20%20%20%20%20%20%20%20%20%20%20%20%20%20%20%20%20%20%3Cdiv%20style%3D%27margin%3A%200%3B%20background-color%3A%20black%3B%20color%3A%20white%3B%27%3E%3Ch4%20style%3D%27text-align%3Acenter%3Bfont-weight%3A%20bold%27%3EComoros%3C/h4%3E%3Chr%20style%3D%27margin%3A10px%3Bcolor%3A%20white%3B%27%3E%3Cul%20style%3D%27color%3A%20white%3B%3Blist-style-type%3Acircle%3Balign-item%3Aleft%3Bpadding-left%3A20px%3Bpadding-right%3A20px%27%3E%3Cli%3EConfirmed%3A%203846%3C/li%3E%3Cli%3EDeaths%3A%20%20%201%3C/li%3E%3Cli%3EDeath%20Rate%3A%200.03%3C/li%3E%3C/ul%3E%3C/div%3E%0A%20%20%20%20%20%20%20%20%20%20%20%20%20%20%20%20%20%3C/div%3E%60%2C%0A%20%20%20%20%20%20%20%20%20%20%20%20%20%20%20%20%7B%22sticky%22%3A%20true%7D%0A%20%20%20%20%20%20%20%20%20%20%20%20%29%3B%0A%20%20%20%20%20%20%20%20%0A%20%20%20%20%0A%20%20%20%20%20%20%20%20%20%20%20%20var%20circle_506e0b7835b147839abd859eef8e692a%20%3D%20L.circle%28%0A%20%20%20%20%20%20%20%20%20%20%20%20%20%20%20%20%5B-0.228%2C%2015.8277%5D%2C%0A%20%20%20%20%20%20%20%20%20%20%20%20%20%20%20%20%7B%22bubblingMouseEvents%22%3A%20true%2C%20%22color%22%3A%20%22red%22%2C%20%22dashArray%22%3A%20null%2C%20%22dashOffset%22%3A%20null%2C%20%22fill%22%3A%20true%2C%20%22fillColor%22%3A%20%22indigo%22%2C%20%22fillOpacity%22%3A%200.2%2C%20%22fillRule%22%3A%20%22evenodd%22%2C%20%22lineCap%22%3A%20%22round%22%2C%20%22lineJoin%22%3A%20%22round%22%2C%20%22opacity%22%3A%201.0%2C%20%22radius%22%3A%2046000.0%2C%20%22stroke%22%3A%20true%2C%20%22weight%22%3A%203%7D%0A%20%20%20%20%20%20%20%20%20%20%20%20%29.addTo%28map_aebf8a811f48491ea9853ca070daf374%29%3B%0A%20%20%20%20%20%20%20%20%0A%20%20%20%20%0A%20%20%20%20%20%20%20%20%20%20%20%20circle_506e0b7835b147839abd859eef8e692a.bindTooltip%28%0A%20%20%20%20%20%20%20%20%20%20%20%20%20%20%20%20%60%3Cdiv%3E%0A%20%20%20%20%20%20%20%20%20%20%20%20%20%20%20%20%20%20%20%20%20%3Cdiv%20style%3D%27margin%3A%200%3B%20background-color%3A%20black%3B%20color%3A%20white%3B%27%3E%3Ch4%20style%3D%27text-align%3Acenter%3Bfont-weight%3A%20bold%27%3ECongo%20%28Brazzaville%29%3C/h4%3E%3Chr%20style%3D%27margin%3A10px%3Bcolor%3A%20white%3B%27%3E%3Cul%20style%3D%27color%3A%20white%3B%3Blist-style-type%3Acircle%3Balign-item%3Aleft%3Bpadding-left%3A20px%3Bpadding-right%3A20px%27%3E%3Cli%3EConfirmed%3A%2011016%3C/li%3E%3Cli%3EDeaths%3A%20%20%2075627%3C/li%3E%3Cli%3EDeath%20Rate%3A%20686.46%3C/li%3E%3C/ul%3E%3C/div%3E%0A%20%20%20%20%20%20%20%20%20%20%20%20%20%20%20%20%20%3C/div%3E%60%2C%0A%20%20%20%20%20%20%20%20%20%20%20%20%20%20%20%20%7B%22sticky%22%3A%20true%7D%0A%20%20%20%20%20%20%20%20%20%20%20%20%29%3B%0A%20%20%20%20%20%20%20%20%0A%20%20%20%20%0A%20%20%20%20%20%20%20%20%20%20%20%20var%20circle_9ff91c32f46a4676b4c9b23add0e9915%20%3D%20L.circle%28%0A%20%20%20%20%20%20%20%20%20%20%20%20%20%20%20%20%5B-4.0383%2C%2021.7587%5D%2C%0A%20%20%20%20%20%20%20%20%20%20%20%20%20%20%20%20%7B%22bubblingMouseEvents%22%3A%20true%2C%20%22color%22%3A%20%22red%22%2C%20%22dashArray%22%3A%20null%2C%20%22dashOffset%22%3A%20null%2C%20%22fill%22%3A%20true%2C%20%22fillColor%22%3A%20%22indigo%22%2C%20%22fillOpacity%22%3A%200.2%2C%20%22fillRule%22%3A%20%22evenodd%22%2C%20%22lineCap%22%3A%20%22round%22%2C%20%22lineJoin%22%3A%20%22round%22%2C%20%22opacity%22%3A%201.0%2C%20%22radius%22%3A%2051000.0%2C%20%22stroke%22%3A%20true%2C%20%22weight%22%3A%203%7D%0A%20%20%20%20%20%20%20%20%20%20%20%20%29.addTo%28map_aebf8a811f48491ea9853ca070daf374%29%3B%0A%20%20%20%20%20%20%20%20%0A%20%20%20%20%0A%20%20%20%20%20%20%20%20%20%20%20%20circle_9ff91c32f46a4676b4c9b23add0e9915.bindTooltip%28%0A%20%20%20%20%20%20%20%20%20%20%20%20%20%20%20%20%60%3Cdiv%3E%0A%20%20%20%20%20%20%20%20%20%20%20%20%20%20%20%20%20%20%20%20%20%3Cdiv%20style%3D%27margin%3A%200%3B%20background-color%3A%20black%3B%20color%3A%20white%3B%27%3E%3Ch4%20style%3D%27text-align%3Acenter%3Bfont-weight%3A%20bold%27%3ECongo%20%28Kinshasa%29%3C/h4%3E%3Chr%20style%3D%27margin%3A10px%3Bcolor%3A%20white%3B%27%3E%3Cul%20style%3D%27color%3A%20white%3B%3Blist-style-type%3Acircle%3Balign-item%3Aleft%3Bpadding-left%3A20px%3Bpadding-right%3A20px%27%3E%3Cli%3EConfirmed%3A%2030071%3C/li%3E%3Cli%3EDeaths%3A%20%20%20146%3C/li%3E%3Cli%3EDeath%20Rate%3A%200.49%3C/li%3E%3C/ul%3E%3C/div%3E%0A%20%20%20%20%20%20%20%20%20%20%20%20%20%20%20%20%20%3C/div%3E%60%2C%0A%20%20%20%20%20%20%20%20%20%20%20%20%20%20%20%20%7B%22sticky%22%3A%20true%7D%0A%20%20%20%20%20%20%20%20%20%20%20%20%29%3B%0A%20%20%20%20%20%20%20%20%0A%20%20%20%20%0A%20%20%20%20%20%20%20%20%20%20%20%20var%20circle_2a799e2b4dba430897978e72242784f3%20%3D%20L.circle%28%0A%20%20%20%20%20%20%20%20%20%20%20%20%20%20%20%20%5B9.7489%2C%20-83.7534%5D%2C%0A%20%20%20%20%20%20%20%20%20%20%20%20%20%20%20%20%7B%22bubblingMouseEvents%22%3A%20true%2C%20%22color%22%3A%20%22red%22%2C%20%22dashArray%22%3A%20null%2C%20%22dashOffset%22%3A%20null%2C%20%22fill%22%3A%20true%2C%20%22fillColor%22%3A%20%22indigo%22%2C%20%22fillOpacity%22%3A%200.2%2C%20%22fillRule%22%3A%20%22evenodd%22%2C%20%22lineCap%22%3A%20%22round%22%2C%20%22lineJoin%22%3A%20%22round%22%2C%20%22opacity%22%3A%201.0%2C%20%22radius%22%3A%2061000.0%2C%20%22stroke%22%3A%20true%2C%20%22weight%22%3A%203%7D%0A%20%20%20%20%20%20%20%20%20%20%20%20%29.addTo%28map_aebf8a811f48491ea9853ca070daf374%29%3B%0A%20%20%20%20%20%20%20%20%0A%20%20%20%20%0A%20%20%20%20%20%20%20%20%20%20%20%20circle_2a799e2b4dba430897978e72242784f3.bindTooltip%28%0A%20%20%20%20%20%20%20%20%20%20%20%20%20%20%20%20%60%3Cdiv%3E%0A%20%20%20%20%20%20%20%20%20%20%20%20%20%20%20%20%20%20%20%20%20%3Cdiv%20style%3D%27margin%3A%200%3B%20background-color%3A%20black%3B%20color%3A%20white%3B%27%3E%3Ch4%20style%3D%27text-align%3Acenter%3Bfont-weight%3A%20bold%27%3ECosta%20Rica%3C/h4%3E%3Chr%20style%3D%27margin%3A10px%3Bcolor%3A%20white%3B%27%3E%3Cul%20style%3D%27color%3A%20white%3B%3Blist-style-type%3Acircle%3Balign-item%3Aleft%3Bpadding-left%3A20px%3Bpadding-right%3A20px%27%3E%3Cli%3EConfirmed%3A%20257980%3C/li%3E%3Cli%3EDeaths%3A%20%20%20147%3C/li%3E%3Cli%3EDeath%20Rate%3A%200.06%3C/li%3E%3C/ul%3E%3C/div%3E%0A%20%20%20%20%20%20%20%20%20%20%20%20%20%20%20%20%20%3C/div%3E%60%2C%0A%20%20%20%20%20%20%20%20%20%20%20%20%20%20%20%20%7B%22sticky%22%3A%20true%7D%0A%20%20%20%20%20%20%20%20%20%20%20%20%29%3B%0A%20%20%20%20%20%20%20%20%0A%20%20%20%20%0A%20%20%20%20%20%20%20%20%20%20%20%20var%20circle_bda1a7dce1cd413aa0299661a7d43c88%20%3D%20L.circle%28%0A%20%20%20%20%20%20%20%20%20%20%20%20%20%20%20%20%5B7.54%2C%20-5.5471%5D%2C%0A%20%20%20%20%20%20%20%20%20%20%20%20%20%20%20%20%7B%22bubblingMouseEvents%22%3A%20true%2C%20%22color%22%3A%20%22red%22%2C%20%22dashArray%22%3A%20null%2C%20%22dashOffset%22%3A%20null%2C%20%22fill%22%3A%20true%2C%20%22fillColor%22%3A%20%22indigo%22%2C%20%22fillOpacity%22%3A%200.2%2C%20%22fillRule%22%3A%20%22evenodd%22%2C%20%22lineCap%22%3A%20%22round%22%2C%20%22lineJoin%22%3A%20%22round%22%2C%20%22opacity%22%3A%201.0%2C%20%22radius%22%3A%2051000.0%2C%20%22stroke%22%3A%20true%2C%20%22weight%22%3A%203%7D%0A%20%20%20%20%20%20%20%20%20%20%20%20%29.addTo%28map_aebf8a811f48491ea9853ca070daf374%29%3B%0A%20%20%20%20%20%20%20%20%0A%20%20%20%20%0A%20%20%20%20%20%20%20%20%20%20%20%20circle_bda1a7dce1cd413aa0299661a7d43c88.bindTooltip%28%0A%20%20%20%20%20%20%20%20%20%20%20%20%20%20%20%20%60%3Cdiv%3E%0A%20%20%20%20%20%20%20%20%20%20%20%20%20%20%20%20%20%20%20%20%20%3Cdiv%20style%3D%27margin%3A%200%3B%20background-color%3A%20black%3B%20color%3A%20white%3B%27%3E%3Ch4%20style%3D%27text-align%3Acenter%3Bfont-weight%3A%20bold%27%3ECote%20d%27Ivoire%3C/h4%3E%3Chr%20style%3D%27margin%3A10px%3Bcolor%3A%20white%3B%27%3E%3Cul%20style%3D%27color%3A%20white%3B%3Blist-style-type%3Acircle%3Balign-item%3Aleft%3Bpadding-left%3A20px%3Bpadding-right%3A20px%27%3E%3Cli%3EConfirmed%3A%2046173%3C/li%3E%3Cli%3EDeaths%3A%20%20%20770%3C/li%3E%3Cli%3EDeath%20Rate%3A%201.67%3C/li%3E%3C/ul%3E%3C/div%3E%0A%20%20%20%20%20%20%20%20%20%20%20%20%20%20%20%20%20%3C/div%3E%60%2C%0A%20%20%20%20%20%20%20%20%20%20%20%20%20%20%20%20%7B%22sticky%22%3A%20true%7D%0A%20%20%20%20%20%20%20%20%20%20%20%20%29%3B%0A%20%20%20%20%20%20%20%20%0A%20%20%20%20%0A%20%20%20%20%20%20%20%20%20%20%20%20var%20circle_515bcb5de92140e999fb266bed6c63b8%20%3D%20L.circle%28%0A%20%20%20%20%20%20%20%20%20%20%20%20%20%20%20%20%5B45.1%2C%2015.2%5D%2C%0A%20%20%20%20%20%20%20%20%20%20%20%20%20%20%20%20%7B%22bubblingMouseEvents%22%3A%20true%2C%20%22color%22%3A%20%22red%22%2C%20%22dashArray%22%3A%20null%2C%20%22dashOffset%22%3A%20null%2C%20%22fill%22%3A%20true%2C%20%22fillColor%22%3A%20%22indigo%22%2C%20%22fillOpacity%22%3A%200.2%2C%20%22fillRule%22%3A%20%22evenodd%22%2C%20%22lineCap%22%3A%20%22round%22%2C%20%22lineJoin%22%3A%20%22round%22%2C%20%22opacity%22%3A%201.0%2C%20%22radius%22%3A%2061000.0%2C%20%22stroke%22%3A%20true%2C%20%22weight%22%3A%203%7D%0A%20%20%20%20%20%20%20%20%20%20%20%20%29.addTo%28map_aebf8a811f48491ea9853ca070daf374%29%3B%0A%20%20%20%20%20%20%20%20%0A%20%20%20%20%0A%20%20%20%20%20%20%20%20%20%20%20%20circle_515bcb5de92140e999fb266bed6c63b8.bindTooltip%28%0A%20%20%20%20%20%20%20%20%20%20%20%20%20%20%20%20%60%3Cdiv%3E%0A%20%20%20%20%20%20%20%20%20%20%20%20%20%20%20%20%20%20%20%20%20%3Cdiv%20style%3D%27margin%3A%200%3B%20background-color%3A%20black%3B%20color%3A%20white%3B%27%3E%3Ch4%20style%3D%27text-align%3Acenter%3Bfont-weight%3A%20bold%27%3ECroatia%3C/h4%3E%3Chr%20style%3D%27margin%3A10px%3Bcolor%3A%20white%3B%27%3E%3Cul%20style%3D%27color%3A%20white%3B%3Blist-style-type%3Acircle%3Balign-item%3Aleft%3Bpadding-left%3A20px%3Bpadding-right%3A20px%27%3E%3Cli%3EConfirmed%3A%20336918%3C/li%3E%3Cli%3EDeaths%3A%20%20%203310%3C/li%3E%3Cli%3EDeath%20Rate%3A%200.98%3C/li%3E%3C/ul%3E%3C/div%3E%0A%20%20%20%20%20%20%20%20%20%20%20%20%20%20%20%20%20%3C/div%3E%60%2C%0A%20%20%20%20%20%20%20%20%20%20%20%20%20%20%20%20%7B%22sticky%22%3A%20true%7D%0A%20%20%20%20%20%20%20%20%20%20%20%20%29%3B%0A%20%20%20%20%20%20%20%20%0A%20%20%20%20%0A%20%20%20%20%20%20%20%20%20%20%20%20var%20circle_0da026b6878f4f848fbdb8102ccd67bd%20%3D%20L.circle%28%0A%20%20%20%20%20%20%20%20%20%20%20%20%20%20%20%20%5B21.521757%2C%20-77.78116700000001%5D%2C%0A%20%20%20%20%20%20%20%20%20%20%20%20%20%20%20%20%7B%22bubblingMouseEvents%22%3A%20true%2C%20%22color%22%3A%20%22red%22%2C%20%22dashArray%22%3A%20null%2C%20%22dashOffset%22%3A%20null%2C%20%22fill%22%3A%20true%2C%20%22fillColor%22%3A%20%22indigo%22%2C%20%22fillOpacity%22%3A%200.2%2C%20%22fillRule%22%3A%20%22evenodd%22%2C%20%22lineCap%22%3A%20%22round%22%2C%20%22lineJoin%22%3A%20%22round%22%2C%20%22opacity%22%3A%201.0%2C%20%22radius%22%3A%2056000.0%2C%20%22stroke%22%3A%20true%2C%20%22weight%22%3A%203%7D%0A%20%20%20%20%20%20%20%20%20%20%20%20%29.addTo%28map_aebf8a811f48491ea9853ca070daf374%29%3B%0A%20%20%20%20%20%20%20%20%0A%20%20%20%20%0A%20%20%20%20%20%20%20%20%20%20%20%20circle_0da026b6878f4f848fbdb8102ccd67bd.bindTooltip%28%0A%20%20%20%20%20%20%20%20%20%20%20%20%20%20%20%20%60%3Cdiv%3E%0A%20%20%20%20%20%20%20%20%20%20%20%20%20%20%20%20%20%20%20%20%20%3Cdiv%20style%3D%27margin%3A%200%3B%20background-color%3A%20black%3B%20color%3A%20white%3B%27%3E%3Ch4%20style%3D%27text-align%3Acenter%3Bfont-weight%3A%20bold%27%3ECuba%3C/h4%3E%3Chr%20style%3D%27margin%3A10px%3Bcolor%3A%20white%3B%27%3E%3Cul%20style%3D%27color%3A%20white%3B%3Blist-style-type%3Acircle%3Balign-item%3Aleft%3Bpadding-left%3A20px%3Bpadding-right%3A20px%27%3E%3Cli%3EConfirmed%3A%20110644%3C/li%3E%3Cli%3EDeaths%3A%20%20%20291%3C/li%3E%3Cli%3EDeath%20Rate%3A%200.26%3C/li%3E%3C/ul%3E%3C/div%3E%0A%20%20%20%20%20%20%20%20%20%20%20%20%20%20%20%20%20%3C/div%3E%60%2C%0A%20%20%20%20%20%20%20%20%20%20%20%20%20%20%20%20%7B%22sticky%22%3A%20true%7D%0A%20%20%20%20%20%20%20%20%20%20%20%20%29%3B%0A%20%20%20%20%20%20%20%20%0A%20%20%20%20%0A%20%20%20%20%20%20%20%20%20%20%20%20var%20circle_451bdc05604c46eb8f22e80b11751398%20%3D%20L.circle%28%0A%20%20%20%20%20%20%20%20%20%20%20%20%20%20%20%20%5B35.1264%2C%2033.4299%5D%2C%0A%20%20%20%20%20%20%20%20%20%20%20%20%20%20%20%20%7B%22bubblingMouseEvents%22%3A%20true%2C%20%22color%22%3A%20%22red%22%2C%20%22dashArray%22%3A%20null%2C%20%22dashOffset%22%3A%20null%2C%20%22fill%22%3A%20true%2C%20%22fillColor%22%3A%20%22indigo%22%2C%20%22fillOpacity%22%3A%200.2%2C%20%22fillRule%22%3A%20%22evenodd%22%2C%20%22lineCap%22%3A%20%22round%22%2C%20%22lineJoin%22%3A%20%22round%22%2C%20%22opacity%22%3A%201.0%2C%20%22radius%22%3A%2056000.0%2C%20%22stroke%22%3A%20true%2C%20%22weight%22%3A%203%7D%0A%20%20%20%20%20%20%20%20%20%20%20%20%29.addTo%28map_aebf8a811f48491ea9853ca070daf374%29%3B%0A%20%20%20%20%20%20%20%20%0A%20%20%20%20%0A%20%20%20%20%20%20%20%20%20%20%20%20circle_451bdc05604c46eb8f22e80b11751398.bindTooltip%28%0A%20%20%20%20%20%20%20%20%20%20%20%20%20%20%20%20%60%3Cdiv%3E%0A%20%20%20%20%20%20%20%20%20%20%20%20%20%20%20%20%20%20%20%20%20%3Cdiv%20style%3D%27margin%3A%200%3B%20background-color%3A%20black%3B%20color%3A%20white%3B%27%3E%3Ch4%20style%3D%27text-align%3Acenter%3Bfont-weight%3A%20bold%27%3ECyprus%3C/h4%3E%3Chr%20style%3D%27margin%3A10px%3Bcolor%3A%20white%3B%27%3E%3Cul%20style%3D%27color%3A%20white%3B%3Blist-style-type%3Acircle%3Balign-item%3Aleft%3Bpadding-left%3A20px%3Bpadding-right%3A20px%27%3E%3Cli%3EConfirmed%3A%2067420%3C/li%3E%3Cli%3EDeaths%3A%20%20%207264%3C/li%3E%3Cli%3EDeath%20Rate%3A%2010.77%3C/li%3E%3C/ul%3E%3C/div%3E%0A%20%20%20%20%20%20%20%20%20%20%20%20%20%20%20%20%20%3C/div%3E%60%2C%0A%20%20%20%20%20%20%20%20%20%20%20%20%20%20%20%20%7B%22sticky%22%3A%20true%7D%0A%20%20%20%20%20%20%20%20%20%20%20%20%29%3B%0A%20%20%20%20%20%20%20%20%0A%20%20%20%20%0A%20%20%20%20%20%20%20%20%20%20%20%20var%20circle_6d62afa3284740138eaece4e5b29dd94%20%3D%20L.circle%28%0A%20%20%20%20%20%20%20%20%20%20%20%20%20%20%20%20%5B49.8175%2C%2015.472999999999999%5D%2C%0A%20%20%20%20%20%20%20%20%20%20%20%20%20%20%20%20%7B%22bubblingMouseEvents%22%3A%20true%2C%20%22color%22%3A%20%22red%22%2C%20%22dashArray%22%3A%20null%2C%20%22dashOffset%22%3A%20null%2C%20%22fill%22%3A%20true%2C%20%22fillColor%22%3A%20%22indigo%22%2C%20%22fillOpacity%22%3A%200.2%2C%20%22fillRule%22%3A%20%22evenodd%22%2C%20%22lineCap%22%3A%20%22round%22%2C%20%22lineJoin%22%3A%20%22round%22%2C%20%22opacity%22%3A%201.0%2C%20%22radius%22%3A%2071000.0%2C%20%22stroke%22%3A%20true%2C%20%22weight%22%3A%203%7D%0A%20%20%20%20%20%20%20%20%20%20%20%20%29.addTo%28map_aebf8a811f48491ea9853ca070daf374%29%3B%0A%20%20%20%20%20%20%20%20%0A%20%20%20%20%0A%20%20%20%20%20%20%20%20%20%20%20%20circle_6d62afa3284740138eaece4e5b29dd94.bindTooltip%28%0A%20%20%20%20%20%20%20%20%20%20%20%20%20%20%20%20%60%3Cdiv%3E%0A%20%20%20%20%20%20%20%20%20%20%20%20%20%20%20%20%20%20%20%20%20%3Cdiv%20style%3D%27margin%3A%200%3B%20background-color%3A%20black%3B%20color%3A%20white%3B%27%3E%3Ch4%20style%3D%27text-align%3Acenter%3Bfont-weight%3A%20bold%27%3ECzechia%3C/h4%3E%3Chr%20style%3D%27margin%3A10px%3Bcolor%3A%20white%3B%27%3E%3Cul%20style%3D%27color%3A%20white%3B%3Blist-style-type%3Acircle%3Balign-item%3Aleft%3Bpadding-left%3A20px%3Bpadding-right%3A20px%27%3E%3Cli%3EConfirmed%3A%201636836%3C/li%3E%3Cli%3EDeaths%3A%20%20%20686%3C/li%3E%3Cli%3EDeath%20Rate%3A%200.04%3C/li%3E%3C/ul%3E%3C/div%3E%0A%20%20%20%20%20%20%20%20%20%20%20%20%20%20%20%20%20%3C/div%3E%60%2C%0A%20%20%20%20%20%20%20%20%20%20%20%20%20%20%20%20%7B%22sticky%22%3A%20true%7D%0A%20%20%20%20%20%20%20%20%20%20%20%20%29%3B%0A%20%20%20%20%20%20%20%20%0A%20%20%20%20%0A%20%20%20%20%20%20%20%20%20%20%20%20var%20circle_7e05685f576243c3b6d2ec139cee36f7%20%3D%20L.circle%28%0A%20%20%20%20%20%20%20%20%20%20%20%20%20%20%20%20%5B61.8926%2C%20-6.9118%5D%2C%0A%20%20%20%20%20%20%20%20%20%20%20%20%20%20%20%20%7B%22bubblingMouseEvents%22%3A%20true%2C%20%22color%22%3A%20%22red%22%2C%20%22dashArray%22%3A%20null%2C%20%22dashOffset%22%3A%20null%2C%20%22fill%22%3A%20true%2C%20%22fillColor%22%3A%20%22indigo%22%2C%20%22fillOpacity%22%3A%200.2%2C%20%22fillRule%22%3A%20%22evenodd%22%2C%20%22lineCap%22%3A%20%22round%22%2C%20%22lineJoin%22%3A%20%22round%22%2C%20%22opacity%22%3A%201.0%2C%20%22radius%22%3A%2031000.0%2C%20%22stroke%22%3A%20true%2C%20%22weight%22%3A%203%7D%0A%20%20%20%20%20%20%20%20%20%20%20%20%29.addTo%28map_aebf8a811f48491ea9853ca070daf374%29%3B%0A%20%20%20%20%20%20%20%20%0A%20%20%20%20%0A%20%20%20%20%20%20%20%20%20%20%20%20circle_7e05685f576243c3b6d2ec139cee36f7.bindTooltip%28%0A%20%20%20%20%20%20%20%20%20%20%20%20%20%20%20%20%60%3Cdiv%3E%0A%20%20%20%20%20%20%20%20%20%20%20%20%20%20%20%20%20%20%20%20%20%3Cdiv%20style%3D%27margin%3A%200%3B%20background-color%3A%20black%3B%20color%3A%20white%3B%27%3E%3Ch4%20style%3D%27text-align%3Acenter%3Bfont-weight%3A%20bold%27%3EDenmark%3C/h4%3E%3Chr%20style%3D%27margin%3A10px%3Bcolor%3A%20white%3B%27%3E%3Cul%20style%3D%27color%3A%20white%3B%3Blist-style-type%3Acircle%3Balign-item%3Aleft%3Bpadding-left%3A20px%3Bpadding-right%3A20px%27%3E%3Cli%3EConfirmed%3A%20665%3C/li%3E%3Cli%3EDeaths%3A%20%20%20326%3C/li%3E%3Cli%3EDeath%20Rate%3A%2048.95%3C/li%3E%3C/ul%3E%3C/div%3E%0A%20%20%20%20%20%20%20%20%20%20%20%20%20%20%20%20%20%3C/div%3E%60%2C%0A%20%20%20%20%20%20%20%20%20%20%20%20%20%20%20%20%7B%22sticky%22%3A%20true%7D%0A%20%20%20%20%20%20%20%20%20%20%20%20%29%3B%0A%20%20%20%20%20%20%20%20%0A%20%20%20%20%0A%20%20%20%20%20%20%20%20%20%20%20%20var%20circle_60c2bece3d4a419e81f7aeb4b0b7affe%20%3D%20L.circle%28%0A%20%20%20%20%20%20%20%20%20%20%20%20%20%20%20%20%5B71.7069%2C%20-42.6043%5D%2C%0A%20%20%20%20%20%20%20%20%20%20%20%20%20%20%20%20%7B%22bubblingMouseEvents%22%3A%20true%2C%20%22color%22%3A%20%22red%22%2C%20%22dashArray%22%3A%20null%2C%20%22dashOffset%22%3A%20null%2C%20%22fill%22%3A%20true%2C%20%22fillColor%22%3A%20%22indigo%22%2C%20%22fillOpacity%22%3A%200.2%2C%20%22fillRule%22%3A%20%22evenodd%22%2C%20%22lineCap%22%3A%20%22round%22%2C%20%22lineJoin%22%3A%20%22round%22%2C%20%22opacity%22%3A%201.0%2C%20%22radius%22%3A%2016000.0%2C%20%22stroke%22%3A%20true%2C%20%22weight%22%3A%203%7D%0A%20%20%20%20%20%20%20%20%20%20%20%20%29.addTo%28map_aebf8a811f48491ea9853ca070daf374%29%3B%0A%20%20%20%20%20%20%20%20%0A%20%20%20%20%0A%20%20%20%20%20%20%20%20%20%20%20%20circle_60c2bece3d4a419e81f7aeb4b0b7affe.bindTooltip%28%0A%20%20%20%20%20%20%20%20%20%20%20%20%20%20%20%20%60%3Cdiv%3E%0A%20%20%20%20%20%20%20%20%20%20%20%20%20%20%20%20%20%20%20%20%20%3Cdiv%20style%3D%27margin%3A%200%3B%20background-color%3A%20black%3B%20color%3A%20white%3B%27%3E%3Ch4%20style%3D%27text-align%3Acenter%3Bfont-weight%3A%20bold%27%3EDenmark%3C/h4%3E%3Chr%20style%3D%27margin%3A10px%3Bcolor%3A%20white%3B%27%3E%3Cul%20style%3D%27color%3A%20white%3B%3Blist-style-type%3Acircle%3Balign-item%3Aleft%3Bpadding-left%3A20px%3Bpadding-right%3A20px%27%3E%3Cli%3EConfirmed%3A%2031%3C/li%3E%3Cli%3EDeaths%3A%20%20%2029421%3C/li%3E%3Cli%3EDeath%20Rate%3A%2091940.6%3C/li%3E%3C/ul%3E%3C/div%3E%0A%20%20%20%20%20%20%20%20%20%20%20%20%20%20%20%20%20%3C/div%3E%60%2C%0A%20%20%20%20%20%20%20%20%20%20%20%20%20%20%20%20%7B%22sticky%22%3A%20true%7D%0A%20%20%20%20%20%20%20%20%20%20%20%20%29%3B%0A%20%20%20%20%20%20%20%20%0A%20%20%20%20%0A%20%20%20%20%20%20%20%20%20%20%20%20var%20circle_829fcc5d4d804480966b4f416f89a97e%20%3D%20L.circle%28%0A%20%20%20%20%20%20%20%20%20%20%20%20%20%20%20%20%5B56.2639%2C%209.5018%5D%2C%0A%20%20%20%20%20%20%20%20%20%20%20%20%20%20%20%20%7B%22bubblingMouseEvents%22%3A%20true%2C%20%22color%22%3A%20%22red%22%2C%20%22dashArray%22%3A%20null%2C%20%22dashOffset%22%3A%20null%2C%20%22fill%22%3A%20true%2C%20%22fillColor%22%3A%20%22indigo%22%2C%20%22fillOpacity%22%3A%200.2%2C%20%22fillRule%22%3A%20%22evenodd%22%2C%20%22lineCap%22%3A%20%22round%22%2C%20%22lineJoin%22%3A%20%22round%22%2C%20%22opacity%22%3A%201.0%2C%20%22radius%22%3A%2061000.0%2C%20%22stroke%22%3A%20true%2C%20%22weight%22%3A%203%7D%0A%20%20%20%20%20%20%20%20%20%20%20%20%29.addTo%28map_aebf8a811f48491ea9853ca070daf374%29%3B%0A%20%20%20%20%20%20%20%20%0A%20%20%20%20%0A%20%20%20%20%20%20%20%20%20%20%20%20circle_829fcc5d4d804480966b4f416f89a97e.bindTooltip%28%0A%20%20%20%20%20%20%20%20%20%20%20%20%20%20%20%20%60%3Cdiv%3E%0A%20%20%20%20%20%20%20%20%20%20%20%20%20%20%20%20%20%20%20%20%20%3Cdiv%20style%3D%27margin%3A%200%3B%20background-color%3A%20black%3B%20color%3A%20white%3B%27%3E%3Ch4%20style%3D%27text-align%3Acenter%3Bfont-weight%3A%20bold%27%3EDenmark%3C/h4%3E%3Chr%20style%3D%27margin%3A10px%3Bcolor%3A%20white%3B%27%3E%3Cul%20style%3D%27color%3A%20white%3B%3Blist-style-type%3Acircle%3Balign-item%3Aleft%3Bpadding-left%3A20px%3Bpadding-right%3A20px%27%3E%3Cli%3EConfirmed%3A%20254482%3C/li%3E%3Cli%3EDeaths%3A%20%20%201%3C/li%3E%3Cli%3EDeath%20Rate%3A%200.0%3C/li%3E%3C/ul%3E%3C/div%3E%0A%20%20%20%20%20%20%20%20%20%20%20%20%20%20%20%20%20%3C/div%3E%60%2C%0A%20%20%20%20%20%20%20%20%20%20%20%20%20%20%20%20%7B%22sticky%22%3A%20true%7D%0A%20%20%20%20%20%20%20%20%20%20%20%20%29%3B%0A%20%20%20%20%20%20%20%20%0A%20%20%20%20%0A%20%20%20%20%20%20%20%20%20%20%20%20var%20circle_39592de0be0744a2b370c8ddc6443bde%20%3D%20L.circle%28%0A%20%20%20%20%20%20%20%20%20%20%20%20%20%20%20%20%5B0.0%2C%200.0%5D%2C%0A%20%20%20%20%20%20%20%20%20%20%20%20%20%20%20%20%7B%22bubblingMouseEvents%22%3A%20true%2C%20%22color%22%3A%20%22red%22%2C%20%22dashArray%22%3A%20null%2C%20%22dashOffset%22%3A%20null%2C%20%22fill%22%3A%20true%2C%20%22fillColor%22%3A%20%22indigo%22%2C%20%22fillOpacity%22%3A%200.2%2C%20%22fillRule%22%3A%20%22evenodd%22%2C%20%22lineCap%22%3A%20%22round%22%2C%20%22lineJoin%22%3A%20%22round%22%2C%20%22opacity%22%3A%201.0%2C%20%22radius%22%3A%2031000.0%2C%20%22stroke%22%3A%20true%2C%20%22weight%22%3A%203%7D%0A%20%20%20%20%20%20%20%20%20%20%20%20%29.addTo%28map_aebf8a811f48491ea9853ca070daf374%29%3B%0A%20%20%20%20%20%20%20%20%0A%20%20%20%20%0A%20%20%20%20%20%20%20%20%20%20%20%20circle_39592de0be0744a2b370c8ddc6443bde.bindTooltip%28%0A%20%20%20%20%20%20%20%20%20%20%20%20%20%20%20%20%60%3Cdiv%3E%0A%20%20%20%20%20%20%20%20%20%20%20%20%20%20%20%20%20%20%20%20%20%3Cdiv%20style%3D%27margin%3A%200%3B%20background-color%3A%20black%3B%20color%3A%20white%3B%27%3E%3Ch4%20style%3D%27text-align%3Acenter%3Bfont-weight%3A%20bold%27%3EDiamond%20Princess%3C/h4%3E%3Chr%20style%3D%27margin%3A10px%3Bcolor%3A%20white%3B%27%3E%3Cul%20style%3D%27color%3A%20white%3B%3Blist-style-type%3Acircle%3Balign-item%3Aleft%3Bpadding-left%3A20px%3Bpadding-right%3A20px%27%3E%3Cli%3EConfirmed%3A%20712%3C/li%3E%3Cli%3EDeaths%3A%20%20%200%3C/li%3E%3Cli%3EDeath%20Rate%3A%200.0%3C/li%3E%3C/ul%3E%3C/div%3E%0A%20%20%20%20%20%20%20%20%20%20%20%20%20%20%20%20%20%3C/div%3E%60%2C%0A%20%20%20%20%20%20%20%20%20%20%20%20%20%20%20%20%7B%22sticky%22%3A%20true%7D%0A%20%20%20%20%20%20%20%20%20%20%20%20%29%3B%0A%20%20%20%20%20%20%20%20%0A%20%20%20%20%0A%20%20%20%20%20%20%20%20%20%20%20%20var%20circle_c4976022fba94333aad0d1d468282046%20%3D%20L.circle%28%0A%20%20%20%20%20%20%20%20%20%20%20%20%20%20%20%20%5B11.8251%2C%2042.5903%5D%2C%0A%20%20%20%20%20%20%20%20%20%20%20%20%20%20%20%20%7B%22bubblingMouseEvents%22%3A%20true%2C%20%22color%22%3A%20%22red%22%2C%20%22dashArray%22%3A%20null%2C%20%22dashOffset%22%3A%20null%2C%20%22fill%22%3A%20true%2C%20%22fillColor%22%3A%20%22indigo%22%2C%20%22fillOpacity%22%3A%200.2%2C%20%22fillRule%22%3A%20%22evenodd%22%2C%20%22lineCap%22%3A%20%22round%22%2C%20%22lineJoin%22%3A%20%22round%22%2C%20%22opacity%22%3A%201.0%2C%20%22radius%22%3A%2046000.0%2C%20%22stroke%22%3A%20true%2C%20%22weight%22%3A%203%7D%0A%20%20%20%20%20%20%20%20%20%20%20%20%29.addTo%28map_aebf8a811f48491ea9853ca070daf374%29%3B%0A%20%20%20%20%20%20%20%20%0A%20%20%20%20%0A%20%20%20%20%20%20%20%20%20%20%20%20circle_c4976022fba94333aad0d1d468282046.bindTooltip%28%0A%20%20%20%20%20%20%20%20%20%20%20%20%20%20%20%20%60%3Cdiv%3E%0A%20%20%20%20%20%20%20%20%20%20%20%20%20%20%20%20%20%20%20%20%20%3Cdiv%20style%3D%27margin%3A%200%3B%20background-color%3A%20black%3B%20color%3A%20white%3B%27%3E%3Ch4%20style%3D%27text-align%3Acenter%3Bfont-weight%3A%20bold%27%3EDjibouti%3C/h4%3E%3Chr%20style%3D%27margin%3A10px%3Bcolor%3A%20white%3B%27%3E%3Cul%20style%3D%27color%3A%20white%3B%3Blist-style-type%3Acircle%3Balign-item%3Aleft%3Bpadding-left%3A20px%3Bpadding-right%3A20px%27%3E%3Cli%3EConfirmed%3A%2011247%3C/li%3E%3Cli%3EDeaths%3A%20%20%202491%3C/li%3E%3Cli%3EDeath%20Rate%3A%2022.15%3C/li%3E%3C/ul%3E%3C/div%3E%0A%20%20%20%20%20%20%20%20%20%20%20%20%20%20%20%20%20%3C/div%3E%60%2C%0A%20%20%20%20%20%20%20%20%20%20%20%20%20%20%20%20%7B%22sticky%22%3A%20true%7D%0A%20%20%20%20%20%20%20%20%20%20%20%20%29%3B%0A%20%20%20%20%20%20%20%20%0A%20%20%20%20%0A%20%20%20%20%20%20%20%20%20%20%20%20var%20circle_b1585b9962564095ab86ad1b66e402e3%20%3D%20L.circle%28%0A%20%20%20%20%20%20%20%20%20%20%20%20%20%20%20%20%5B15.415%2C%20-61.371%5D%2C%0A%20%20%20%20%20%20%20%20%20%20%20%20%20%20%20%20%7B%22bubblingMouseEvents%22%3A%20true%2C%20%22color%22%3A%20%22red%22%2C%20%22dashArray%22%3A%20null%2C%20%22dashOffset%22%3A%20null%2C%20%22fill%22%3A%20true%2C%20%22fillColor%22%3A%20%22indigo%22%2C%20%22fillOpacity%22%3A%200.2%2C%20%22fillRule%22%3A%20%22evenodd%22%2C%20%22lineCap%22%3A%20%22round%22%2C%20%22lineJoin%22%3A%20%22round%22%2C%20%22opacity%22%3A%201.0%2C%20%22radius%22%3A%2026000.0%2C%20%22stroke%22%3A%20true%2C%20%22weight%22%3A%203%7D%0A%20%20%20%20%20%20%20%20%20%20%20%20%29.addTo%28map_aebf8a811f48491ea9853ca070daf374%29%3B%0A%20%20%20%20%20%20%20%20%0A%20%20%20%20%0A%20%20%20%20%20%20%20%20%20%20%20%20circle_b1585b9962564095ab86ad1b66e402e3.bindTooltip%28%0A%20%20%20%20%20%20%20%20%20%20%20%20%20%20%20%20%60%3Cdiv%3E%0A%20%20%20%20%20%20%20%20%20%20%20%20%20%20%20%20%20%20%20%20%20%3Cdiv%20style%3D%27margin%3A%200%3B%20background-color%3A%20black%3B%20color%3A%20white%3B%27%3E%3Ch4%20style%3D%27text-align%3Acenter%3Bfont-weight%3A%20bold%27%3EDominica%3C/h4%3E%3Chr%20style%3D%27margin%3A10px%3Bcolor%3A%20white%3B%27%3E%3Cul%20style%3D%27color%3A%20white%3B%3Blist-style-type%3Acircle%3Balign-item%3Aleft%3Bpadding-left%3A20px%3Bpadding-right%3A20px%27%3E%3Cli%3EConfirmed%3A%20174%3C/li%3E%3Cli%3EDeaths%3A%20%20%2013%3C/li%3E%3Cli%3EDeath%20Rate%3A%207.43%3C/li%3E%3C/ul%3E%3C/div%3E%0A%20%20%20%20%20%20%20%20%20%20%20%20%20%20%20%20%20%3C/div%3E%60%2C%0A%20%20%20%20%20%20%20%20%20%20%20%20%20%20%20%20%7B%22sticky%22%3A%20true%7D%0A%20%20%20%20%20%20%20%20%20%20%20%20%29%3B%0A%20%20%20%20%20%20%20%20%0A%20%20%20%20%0A%20%20%20%20%20%20%20%20%20%20%20%20var%20circle_bb6ac07ab82c46b0b7e27a657f4febb7%20%3D%20L.circle%28%0A%20%20%20%20%20%20%20%20%20%20%20%20%20%20%20%20%5B18.7357%2C%20-70.1627%5D%2C%0A%20%20%20%20%20%20%20%20%20%20%20%20%20%20%20%20%7B%22bubblingMouseEvents%22%3A%20true%2C%20%22color%22%3A%20%22red%22%2C%20%22dashArray%22%3A%20null%2C%20%22dashOffset%22%3A%20null%2C%20%22fill%22%3A%20true%2C%20%22fillColor%22%3A%20%22indigo%22%2C%20%22fillOpacity%22%3A%200.2%2C%20%22fillRule%22%3A%20%22evenodd%22%2C%20%22lineCap%22%3A%20%22round%22%2C%20%22lineJoin%22%3A%20%22round%22%2C%20%22opacity%22%3A%201.0%2C%20%22radius%22%3A%2061000.0%2C%20%22stroke%22%3A%20true%2C%20%22weight%22%3A%203%7D%0A%20%20%20%20%20%20%20%20%20%20%20%20%29.addTo%28map_aebf8a811f48491ea9853ca070daf374%29%3B%0A%20%20%20%20%20%20%20%20%0A%20%20%20%20%0A%20%20%20%20%20%20%20%20%20%20%20%20circle_bb6ac07ab82c46b0b7e27a657f4febb7.bindTooltip%28%0A%20%20%20%20%20%20%20%20%20%20%20%20%20%20%20%20%60%3Cdiv%3E%0A%20%20%20%20%20%20%20%20%20%20%20%20%20%20%20%20%20%20%20%20%20%3Cdiv%20style%3D%27margin%3A%200%3B%20background-color%3A%20black%3B%20color%3A%20white%3B%27%3E%3Ch4%20style%3D%27text-align%3Acenter%3Bfont-weight%3A%20bold%27%3EDominican%20Republic%3C/h4%3E%3Chr%20style%3D%27margin%3A10px%3Bcolor%3A%20white%3B%27%3E%3Cul%20style%3D%27color%3A%20white%3B%3Blist-style-type%3Acircle%3Balign-item%3Aleft%3Bpadding-left%3A20px%3Bpadding-right%3A20px%27%3E%3Cli%3EConfirmed%3A%20268070%3C/li%3E%3Cli%3EDeaths%3A%20%20%20147%3C/li%3E%3Cli%3EDeath%20Rate%3A%200.05%3C/li%3E%3C/ul%3E%3C/div%3E%0A%20%20%20%20%20%20%20%20%20%20%20%20%20%20%20%20%20%3C/div%3E%60%2C%0A%20%20%20%20%20%20%20%20%20%20%20%20%20%20%20%20%7B%22sticky%22%3A%20true%7D%0A%20%20%20%20%20%20%20%20%20%20%20%20%29%3B%0A%20%20%20%20%20%20%20%20%0A%20%20%20%20%0A%20%20%20%20%20%20%20%20%20%20%20%20var%20circle_26b8e1dfeb7b4652a232e7417152cdf8%20%3D%20L.circle%28%0A%20%20%20%20%20%20%20%20%20%20%20%20%20%20%20%20%5B-1.8312%2C%20-78.1834%5D%2C%0A%20%20%20%20%20%20%20%20%20%20%20%20%20%20%20%20%7B%22bubblingMouseEvents%22%3A%20true%2C%20%22color%22%3A%20%22red%22%2C%20%22dashArray%22%3A%20null%2C%20%22dashOffset%22%3A%20null%2C%20%22fill%22%3A%20true%2C%20%22fillColor%22%3A%20%22indigo%22%2C%20%22fillOpacity%22%3A%200.2%2C%20%22fillRule%22%3A%20%22evenodd%22%2C%20%22lineCap%22%3A%20%22round%22%2C%20%22lineJoin%22%3A%20%22round%22%2C%20%22opacity%22%3A%201.0%2C%20%22radius%22%3A%2061000.0%2C%20%22stroke%22%3A%20true%2C%20%22weight%22%3A%203%7D%0A%20%20%20%20%20%20%20%20%20%20%20%20%29.addTo%28map_aebf8a811f48491ea9853ca070daf374%29%3B%0A%20%20%20%20%20%20%20%20%0A%20%20%20%20%0A%20%20%20%20%20%20%20%20%20%20%20%20circle_26b8e1dfeb7b4652a232e7417152cdf8.bindTooltip%28%0A%20%20%20%20%20%20%20%20%20%20%20%20%20%20%20%20%60%3Cdiv%3E%0A%20%20%20%20%20%20%20%20%20%20%20%20%20%20%20%20%20%20%20%20%20%3Cdiv%20style%3D%27margin%3A%200%3B%20background-color%3A%20black%3B%20color%3A%20white%3B%27%3E%3Ch4%20style%3D%27text-align%3Acenter%3Bfont-weight%3A%20bold%27%3EEcuador%3C/h4%3E%3Chr%20style%3D%27margin%3A10px%3Bcolor%3A%20white%3B%27%3E%3Cul%20style%3D%27color%3A%20white%3B%3Blist-style-type%3Acircle%3Balign-item%3Aleft%3Bpadding-left%3A20px%3Bpadding-right%3A20px%27%3E%3Cli%3EConfirmed%3A%20391242%3C/li%3E%3Cli%3EDeaths%3A%20%20%200%3C/li%3E%3Cli%3EDeath%20Rate%3A%200.0%3C/li%3E%3C/ul%3E%3C/div%3E%0A%20%20%20%20%20%20%20%20%20%20%20%20%20%20%20%20%20%3C/div%3E%60%2C%0A%20%20%20%20%20%20%20%20%20%20%20%20%20%20%20%20%7B%22sticky%22%3A%20true%7D%0A%20%20%20%20%20%20%20%20%20%20%20%20%29%3B%0A%20%20%20%20%20%20%20%20%0A%20%20%20%20%0A%20%20%20%20%20%20%20%20%20%20%20%20var%20circle_6ca9c7c42d6e4860b44a5036b79cf3e1%20%3D%20L.circle%28%0A%20%20%20%20%20%20%20%20%20%20%20%20%20%20%20%20%5B26.820553000000004%2C%2030.802497999999996%5D%2C%0A%20%20%20%20%20%20%20%20%20%20%20%20%20%20%20%20%7B%22bubblingMouseEvents%22%3A%20true%2C%20%22color%22%3A%20%22red%22%2C%20%22dashArray%22%3A%20null%2C%20%22dashOffset%22%3A%20null%2C%20%22fill%22%3A%20true%2C%20%22fillColor%22%3A%20%22indigo%22%2C%20%22fillOpacity%22%3A%200.2%2C%20%22fillRule%22%3A%20%22evenodd%22%2C%20%22lineCap%22%3A%20%22round%22%2C%20%22lineJoin%22%3A%20%22round%22%2C%20%22opacity%22%3A%201.0%2C%20%22radius%22%3A%2061000.0%2C%20%22stroke%22%3A%20true%2C%20%22weight%22%3A%203%7D%0A%20%20%20%20%20%20%20%20%20%20%20%20%29.addTo%28map_aebf8a811f48491ea9853ca070daf374%29%3B%0A%20%20%20%20%20%20%20%20%0A%20%20%20%20%0A%20%20%20%20%20%20%20%20%20%20%20%20circle_6ca9c7c42d6e4860b44a5036b79cf3e1.bindTooltip%28%0A%20%20%20%20%20%20%20%20%20%20%20%20%20%20%20%20%60%3Cdiv%3E%0A%20%20%20%20%20%20%20%20%20%20%20%20%20%20%20%20%20%20%20%20%20%3Cdiv%20style%3D%27margin%3A%200%3B%20background-color%3A%20black%3B%20color%3A%20white%3B%27%3E%3Ch4%20style%3D%27text-align%3Acenter%3Bfont-weight%3A%20bold%27%3EEgypt%3C/h4%3E%3Chr%20style%3D%27margin%3A10px%3Bcolor%3A%20white%3B%27%3E%3Cul%20style%3D%27color%3A%20white%3B%3Blist-style-type%3Acircle%3Balign-item%3Aleft%3Bpadding-left%3A20px%3Bpadding-right%3A20px%27%3E%3Cli%3EConfirmed%3A%20231803%3C/li%3E%3Cli%3EDeaths%3A%20%20%203504%3C/li%3E%3Cli%3EDeath%20Rate%3A%201.51%3C/li%3E%3C/ul%3E%3C/div%3E%0A%20%20%20%20%20%20%20%20%20%20%20%20%20%20%20%20%20%3C/div%3E%60%2C%0A%20%20%20%20%20%20%20%20%20%20%20%20%20%20%20%20%7B%22sticky%22%3A%20true%7D%0A%20%20%20%20%20%20%20%20%20%20%20%20%29%3B%0A%20%20%20%20%20%20%20%20%0A%20%20%20%20%0A%20%20%20%20%20%20%20%20%20%20%20%20var%20circle_177b0a750e804827bc350ebd4968d7af%20%3D%20L.circle%28%0A%20%20%20%20%20%20%20%20%20%20%20%20%20%20%20%20%5B13.7942%2C%20-88.8965%5D%2C%0A%20%20%20%20%20%20%20%20%20%20%20%20%20%20%20%20%7B%22bubblingMouseEvents%22%3A%20true%2C%20%22color%22%3A%20%22red%22%2C%20%22dashArray%22%3A%20null%2C%20%22dashOffset%22%3A%20null%2C%20%22fill%22%3A%20true%2C%20%22fillColor%22%3A%20%22indigo%22%2C%20%22fillOpacity%22%3A%200.2%2C%20%22fillRule%22%3A%20%22evenodd%22%2C%20%22lineCap%22%3A%20%22round%22%2C%20%22lineJoin%22%3A%20%22round%22%2C%20%22opacity%22%3A%201.0%2C%20%22radius%22%3A%2056000.0%2C%20%22stroke%22%3A%20true%2C%20%22weight%22%3A%203%7D%0A%20%20%20%20%20%20%20%20%20%20%20%20%29.addTo%28map_aebf8a811f48491ea9853ca070daf374%29%3B%0A%20%20%20%20%20%20%20%20%0A%20%20%20%20%0A%20%20%20%20%20%20%20%20%20%20%20%20circle_177b0a750e804827bc350ebd4968d7af.bindTooltip%28%0A%20%20%20%20%20%20%20%20%20%20%20%20%20%20%20%20%60%3Cdiv%3E%0A%20%20%20%20%20%20%20%20%20%20%20%20%20%20%20%20%20%20%20%20%20%3Cdiv%20style%3D%27margin%3A%200%3B%20background-color%3A%20black%3B%20color%3A%20white%3B%27%3E%3Ch4%20style%3D%27text-align%3Acenter%3Bfont-weight%3A%20bold%27%3EEl%20Salvador%3C/h4%3E%3Chr%20style%3D%27margin%3A10px%3Bcolor%3A%20white%3B%27%3E%3Cul%20style%3D%27color%3A%20white%3B%3Blist-style-type%3Acircle%3Balign-item%3Aleft%3Bpadding-left%3A20px%3Bpadding-right%3A20px%27%3E%3Cli%3EConfirmed%3A%2069727%3C/li%3E%3Cli%3EDeaths%3A%20%20%2018863%3C/li%3E%3Cli%3EDeath%20Rate%3A%2027.05%3C/li%3E%3C/ul%3E%3C/div%3E%0A%20%20%20%20%20%20%20%20%20%20%20%20%20%20%20%20%20%3C/div%3E%60%2C%0A%20%20%20%20%20%20%20%20%20%20%20%20%20%20%20%20%7B%22sticky%22%3A%20true%7D%0A%20%20%20%20%20%20%20%20%20%20%20%20%29%3B%0A%20%20%20%20%20%20%20%20%0A%20%20%20%20%0A%20%20%20%20%20%20%20%20%20%20%20%20var%20circle_aa3cdeb336fd42a5999037561f5b953a%20%3D%20L.circle%28%0A%20%20%20%20%20%20%20%20%20%20%20%20%20%20%20%20%5B1.6508%2C%2010.2679%5D%2C%0A%20%20%20%20%20%20%20%20%20%20%20%20%20%20%20%20%7B%22bubblingMouseEvents%22%3A%20true%2C%20%22color%22%3A%20%22red%22%2C%20%22dashArray%22%3A%20null%2C%20%22dashOffset%22%3A%20null%2C%20%22fill%22%3A%20true%2C%20%22fillColor%22%3A%20%22indigo%22%2C%20%22fillOpacity%22%3A%200.2%2C%20%22fillRule%22%3A%20%22evenodd%22%2C%20%22lineCap%22%3A%20%22round%22%2C%20%22lineJoin%22%3A%20%22round%22%2C%20%22opacity%22%3A%201.0%2C%20%22radius%22%3A%2041000.0%2C%20%22stroke%22%3A%20true%2C%20%22weight%22%3A%203%7D%0A%20%20%20%20%20%20%20%20%20%20%20%20%29.addTo%28map_aebf8a811f48491ea9853ca070daf374%29%3B%0A%20%20%20%20%20%20%20%20%0A%20%20%20%20%0A%20%20%20%20%20%20%20%20%20%20%20%20circle_aa3cdeb336fd42a5999037561f5b953a.bindTooltip%28%0A%20%20%20%20%20%20%20%20%20%20%20%20%20%20%20%20%60%3Cdiv%3E%0A%20%20%20%20%20%20%20%20%20%20%20%20%20%20%20%20%20%20%20%20%20%3Cdiv%20style%3D%27margin%3A%200%3B%20background-color%3A%20black%3B%20color%3A%20white%3B%27%3E%3Ch4%20style%3D%27text-align%3Acenter%3Bfont-weight%3A%20bold%27%3EEquatorial%20Guinea%3C/h4%3E%3Chr%20style%3D%27margin%3A10px%3Bcolor%3A%20white%3B%27%3E%3Cul%20style%3D%27color%3A%20white%3B%3Blist-style-type%3Acircle%3Balign-item%3Aleft%3Bpadding-left%3A20px%3Bpadding-right%3A20px%27%3E%3Cli%3EConfirmed%3A%207694%3C/li%3E%3Cli%3EDeaths%3A%20%20%2013591%3C/li%3E%3Cli%3EDeath%20Rate%3A%20176.62%3C/li%3E%3C/ul%3E%3C/div%3E%0A%20%20%20%20%20%20%20%20%20%20%20%20%20%20%20%20%20%3C/div%3E%60%2C%0A%20%20%20%20%20%20%20%20%20%20%20%20%20%20%20%20%7B%22sticky%22%3A%20true%7D%0A%20%20%20%20%20%20%20%20%20%20%20%20%29%3B%0A%20%20%20%20%20%20%20%20%0A%20%20%20%20%0A%20%20%20%20%20%20%20%20%20%20%20%20var%20circle_81bc659dcfe7462fbe3b99945b211f69%20%3D%20L.circle%28%0A%20%20%20%20%20%20%20%20%20%20%20%20%20%20%20%20%5B15.1794%2C%2039.7823%5D%2C%0A%20%20%20%20%20%20%20%20%20%20%20%20%20%20%20%20%7B%22bubblingMouseEvents%22%3A%20true%2C%20%22color%22%3A%20%22red%22%2C%20%22dashArray%22%3A%20null%2C%20%22dashOffset%22%3A%20null%2C%20%22fill%22%3A%20true%2C%20%22fillColor%22%3A%20%22indigo%22%2C%20%22fillOpacity%22%3A%200.2%2C%20%22fillRule%22%3A%20%22evenodd%22%2C%20%22lineCap%22%3A%20%22round%22%2C%20%22lineJoin%22%3A%20%22round%22%2C%20%22opacity%22%3A%201.0%2C%20%22radius%22%3A%2041000.0%2C%20%22stroke%22%3A%20true%2C%20%22weight%22%3A%203%7D%0A%20%20%20%20%20%20%20%20%20%20%20%20%29.addTo%28map_aebf8a811f48491ea9853ca070daf374%29%3B%0A%20%20%20%20%20%20%20%20%0A%20%20%20%20%0A%20%20%20%20%20%20%20%20%20%20%20%20circle_81bc659dcfe7462fbe3b99945b211f69.bindTooltip%28%0A%20%20%20%20%20%20%20%20%20%20%20%20%20%20%20%20%60%3Cdiv%3E%0A%20%20%20%20%20%20%20%20%20%20%20%20%20%20%20%20%20%20%20%20%20%3Cdiv%20style%3D%27margin%3A%200%3B%20background-color%3A%20black%3B%20color%3A%20white%3B%27%3E%3Ch4%20style%3D%27text-align%3Acenter%3Bfont-weight%3A%20bold%27%3EEritrea%3C/h4%3E%3Chr%20style%3D%27margin%3A10px%3Bcolor%3A%20white%3B%27%3E%3Cul%20style%3D%27color%3A%20white%3B%3Blist-style-type%3Acircle%3Balign-item%3Aleft%3Bpadding-left%3A20px%3Bpadding-right%3A20px%27%3E%3Cli%3EConfirmed%3A%203681%3C/li%3E%3Cli%3EDeaths%3A%20%20%202137%3C/li%3E%3Cli%3EDeath%20Rate%3A%2058.04%3C/li%3E%3C/ul%3E%3C/div%3E%0A%20%20%20%20%20%20%20%20%20%20%20%20%20%20%20%20%20%3C/div%3E%60%2C%0A%20%20%20%20%20%20%20%20%20%20%20%20%20%20%20%20%7B%22sticky%22%3A%20true%7D%0A%20%20%20%20%20%20%20%20%20%20%20%20%29%3B%0A%20%20%20%20%20%20%20%20%0A%20%20%20%20%0A%20%20%20%20%20%20%20%20%20%20%20%20var%20circle_73872e7b9a584a8bbb6398ca6b10d420%20%3D%20L.circle%28%0A%20%20%20%20%20%20%20%20%20%20%20%20%20%20%20%20%5B58.5953%2C%2025.0136%5D%2C%0A%20%20%20%20%20%20%20%20%20%20%20%20%20%20%20%20%7B%22bubblingMouseEvents%22%3A%20true%2C%20%22color%22%3A%20%22red%22%2C%20%22dashArray%22%3A%20null%2C%20%22dashOffset%22%3A%20null%2C%20%22fill%22%3A%20true%2C%20%22fillColor%22%3A%20%22indigo%22%2C%20%22fillOpacity%22%3A%200.2%2C%20%22fillRule%22%3A%20%22evenodd%22%2C%20%22lineCap%22%3A%20%22round%22%2C%20%22lineJoin%22%3A%20%22round%22%2C%20%22opacity%22%3A%201.0%2C%20%22radius%22%3A%2056000.0%2C%20%22stroke%22%3A%20true%2C%20%22weight%22%3A%203%7D%0A%20%20%20%20%20%20%20%20%20%20%20%20%29.addTo%28map_aebf8a811f48491ea9853ca070daf374%29%3B%0A%20%20%20%20%20%20%20%20%0A%20%20%20%20%0A%20%20%20%20%20%20%20%20%20%20%20%20circle_73872e7b9a584a8bbb6398ca6b10d420.bindTooltip%28%0A%20%20%20%20%20%20%20%20%20%20%20%20%20%20%20%20%60%3Cdiv%3E%0A%20%20%20%20%20%20%20%20%20%20%20%20%20%20%20%20%20%20%20%20%20%3Cdiv%20style%3D%27margin%3A%200%3B%20background-color%3A%20black%3B%20color%3A%20white%3B%27%3E%3Ch4%20style%3D%27text-align%3Acenter%3Bfont-weight%3A%20bold%27%3EEstonia%3C/h4%3E%3Chr%20style%3D%27margin%3A10px%3Bcolor%3A%20white%3B%27%3E%3Cul%20style%3D%27color%3A%20white%3B%3Blist-style-type%3Acircle%3Balign-item%3Aleft%3Bpadding-left%3A20px%3Bpadding-right%3A20px%27%3E%3Cli%3EConfirmed%3A%20123344%3C/li%3E%3Cli%3EDeaths%3A%20%20%20112%3C/li%3E%3Cli%3EDeath%20Rate%3A%200.09%3C/li%3E%3C/ul%3E%3C/div%3E%0A%20%20%20%20%20%20%20%20%20%20%20%20%20%20%20%20%20%3C/div%3E%60%2C%0A%20%20%20%20%20%20%20%20%20%20%20%20%20%20%20%20%7B%22sticky%22%3A%20true%7D%0A%20%20%20%20%20%20%20%20%20%20%20%20%29%3B%0A%20%20%20%20%20%20%20%20%0A%20%20%20%20%0A%20%20%20%20%20%20%20%20%20%20%20%20var%20circle_c3e456bfbec4468d9c002176e0a7494a%20%3D%20L.circle%28%0A%20%20%20%20%20%20%20%20%20%20%20%20%20%20%20%20%5B-26.5225%2C%2031.4659%5D%2C%0A%20%20%20%20%20%20%20%20%20%20%20%20%20%20%20%20%7B%22bubblingMouseEvents%22%3A%20true%2C%20%22color%22%3A%20%22red%22%2C%20%22dashArray%22%3A%20null%2C%20%22dashOffset%22%3A%20null%2C%20%22fill%22%3A%20true%2C%20%22fillColor%22%3A%20%22indigo%22%2C%20%22fillOpacity%22%3A%200.2%2C%20%22fillRule%22%3A%20%22evenodd%22%2C%20%22lineCap%22%3A%20%22round%22%2C%20%22lineJoin%22%3A%20%22round%22%2C%20%22opacity%22%3A%201.0%2C%20%22radius%22%3A%2046000.0%2C%20%22stroke%22%3A%20true%2C%20%22weight%22%3A%203%7D%0A%20%20%20%20%20%20%20%20%20%20%20%20%29.addTo%28map_aebf8a811f48491ea9853ca070daf374%29%3B%0A%20%20%20%20%20%20%20%20%0A%20%20%20%20%0A%20%20%20%20%20%20%20%20%20%20%20%20circle_c3e456bfbec4468d9c002176e0a7494a.bindTooltip%28%0A%20%20%20%20%20%20%20%20%20%20%20%20%20%20%20%20%60%3Cdiv%3E%0A%20%20%20%20%20%20%20%20%20%20%20%20%20%20%20%20%20%20%20%20%20%3Cdiv%20style%3D%27margin%3A%200%3B%20background-color%3A%20black%3B%20color%3A%20white%3B%27%3E%3Ch4%20style%3D%27text-align%3Acenter%3Bfont-weight%3A%20bold%27%3EEswatini%3C/h4%3E%3Chr%20style%3D%27margin%3A10px%3Bcolor%3A%20white%3B%27%3E%3Cul%20style%3D%27color%3A%20white%3B%3Blist-style-type%3Acircle%3Balign-item%3Aleft%3Bpadding-left%3A20px%3Bpadding-right%3A20px%27%3E%3Cli%3EConfirmed%3A%2018461%3C/li%3E%3Cli%3EDeaths%3A%20%20%2012%3C/li%3E%3Cli%3EDeath%20Rate%3A%200.06%3C/li%3E%3C/ul%3E%3C/div%3E%0A%20%20%20%20%20%20%20%20%20%20%20%20%20%20%20%20%20%3C/div%3E%60%2C%0A%20%20%20%20%20%20%20%20%20%20%20%20%20%20%20%20%7B%22sticky%22%3A%20true%7D%0A%20%20%20%20%20%20%20%20%20%20%20%20%29%3B%0A%20%20%20%20%20%20%20%20%0A%20%20%20%20%0A%20%20%20%20%20%20%20%20%20%20%20%20var%20circle_f5c1845ecf9241e7bfacaa2e666625a6%20%3D%20L.circle%28%0A%20%20%20%20%20%20%20%20%20%20%20%20%20%20%20%20%5B9.145%2C%2040.4897%5D%2C%0A%20%20%20%20%20%20%20%20%20%20%20%20%20%20%20%20%7B%22bubblingMouseEvents%22%3A%20true%2C%20%22color%22%3A%20%22red%22%2C%20%22dashArray%22%3A%20null%2C%20%22dashOffset%22%3A%20null%2C%20%22fill%22%3A%20true%2C%20%22fillColor%22%3A%20%22indigo%22%2C%20%22fillOpacity%22%3A%200.2%2C%20%22fillRule%22%3A%20%22evenodd%22%2C%20%22lineCap%22%3A%20%22round%22%2C%20%22lineJoin%22%3A%20%22round%22%2C%20%22opacity%22%3A%201.0%2C%20%22radius%22%3A%2061000.0%2C%20%22stroke%22%3A%20true%2C%20%22weight%22%3A%203%7D%0A%20%20%20%20%20%20%20%20%20%20%20%20%29.addTo%28map_aebf8a811f48491ea9853ca070daf374%29%3B%0A%20%20%20%20%20%20%20%20%0A%20%20%20%20%0A%20%20%20%20%20%20%20%20%20%20%20%20circle_f5c1845ecf9241e7bfacaa2e666625a6.bindTooltip%28%0A%20%20%20%20%20%20%20%20%20%20%20%20%20%20%20%20%60%3Cdiv%3E%0A%20%20%20%20%20%20%20%20%20%20%20%20%20%20%20%20%20%20%20%20%20%3Cdiv%20style%3D%27margin%3A%200%3B%20background-color%3A%20black%3B%20color%3A%20white%3B%27%3E%3Ch4%20style%3D%27text-align%3Acenter%3Bfont-weight%3A%20bold%27%3EEthiopia%3C/h4%3E%3Chr%20style%3D%27margin%3A10px%3Bcolor%3A%20white%3B%27%3E%3Cul%20style%3D%27color%3A%20white%3B%3Blist-style-type%3Acircle%3Balign-item%3Aleft%3Bpadding-left%3A20px%3Bpadding-right%3A20px%27%3E%3Cli%3EConfirmed%3A%20259354%3C/li%3E%3Cli%3EDeaths%3A%20%20%201177%3C/li%3E%3Cli%3EDeath%20Rate%3A%200.45%3C/li%3E%3C/ul%3E%3C/div%3E%0A%20%20%20%20%20%20%20%20%20%20%20%20%20%20%20%20%20%3C/div%3E%60%2C%0A%20%20%20%20%20%20%20%20%20%20%20%20%20%20%20%20%7B%22sticky%22%3A%20true%7D%0A%20%20%20%20%20%20%20%20%20%20%20%20%29%3B%0A%20%20%20%20%20%20%20%20%0A%20%20%20%20%0A%20%20%20%20%20%20%20%20%20%20%20%20var%20circle_2e7838e8299147f0b9b6e49c6ce25565%20%3D%20L.circle%28%0A%20%20%20%20%20%20%20%20%20%20%20%20%20%20%20%20%5B-17.7134%2C%20178.065%5D%2C%0A%20%20%20%20%20%20%20%20%20%20%20%20%20%20%20%20%7B%22bubblingMouseEvents%22%3A%20true%2C%20%22color%22%3A%20%22red%22%2C%20%22dashArray%22%3A%20null%2C%20%22dashOffset%22%3A%20null%2C%20%22fill%22%3A%20true%2C%20%22fillColor%22%3A%20%22indigo%22%2C%20%22fillOpacity%22%3A%200.2%2C%20%22fillRule%22%3A%20%22evenodd%22%2C%20%22lineCap%22%3A%20%22round%22%2C%20%22lineJoin%22%3A%20%22round%22%2C%20%22opacity%22%3A%201.0%2C%20%22radius%22%3A%2021000.0%2C%20%22stroke%22%3A%20true%2C%20%22weight%22%3A%203%7D%0A%20%20%20%20%20%20%20%20%20%20%20%20%29.addTo%28map_aebf8a811f48491ea9853ca070daf374%29%3B%0A%20%20%20%20%20%20%20%20%0A%20%20%20%20%0A%20%20%20%20%20%20%20%20%20%20%20%20circle_2e7838e8299147f0b9b6e49c6ce25565.bindTooltip%28%0A%20%20%20%20%20%20%20%20%20%20%20%20%20%20%20%20%60%3Cdiv%3E%0A%20%20%20%20%20%20%20%20%20%20%20%20%20%20%20%20%20%20%20%20%20%3Cdiv%20style%3D%27margin%3A%200%3B%20background-color%3A%20black%3B%20color%3A%20white%3B%27%3E%3Ch4%20style%3D%27text-align%3Acenter%3Bfont-weight%3A%20bold%27%3EFiji%3C/h4%3E%3Chr%20style%3D%27margin%3A10px%3Bcolor%3A%20white%3B%27%3E%3Cul%20style%3D%27color%3A%20white%3B%3Blist-style-type%3Acircle%3Balign-item%3Aleft%3Bpadding-left%3A20px%3Bpadding-right%3A20px%27%3E%3Cli%3EConfirmed%3A%20121%3C/li%3E%3Cli%3EDeaths%3A%20%20%20671%3C/li%3E%3Cli%3EDeath%20Rate%3A%20550.0%3C/li%3E%3C/ul%3E%3C/div%3E%0A%20%20%20%20%20%20%20%20%20%20%20%20%20%20%20%20%20%3C/div%3E%60%2C%0A%20%20%20%20%20%20%20%20%20%20%20%20%20%20%20%20%7B%22sticky%22%3A%20true%7D%0A%20%20%20%20%20%20%20%20%20%20%20%20%29%3B%0A%20%20%20%20%20%20%20%20%0A%20%20%20%20%0A%20%20%20%20%20%20%20%20%20%20%20%20var%20circle_1fb591023e2540a281f2b2db250563b1%20%3D%20L.circle%28%0A%20%20%20%20%20%20%20%20%20%20%20%20%20%20%20%20%5B61.92411%2C%2025.748151%5D%2C%0A%20%20%20%20%20%20%20%20%20%20%20%20%20%20%20%20%7B%22bubblingMouseEvents%22%3A%20true%2C%20%22color%22%3A%20%22red%22%2C%20%22dashArray%22%3A%20null%2C%20%22dashOffset%22%3A%20null%2C%20%22fill%22%3A%20true%2C%20%22fillColor%22%3A%20%22indigo%22%2C%20%22fillOpacity%22%3A%200.2%2C%20%22fillRule%22%3A%20%22evenodd%22%2C%20%22lineCap%22%3A%20%22round%22%2C%20%22lineJoin%22%3A%20%22round%22%2C%20%22opacity%22%3A%201.0%2C%20%22radius%22%3A%2056000.0%2C%20%22stroke%22%3A%20true%2C%20%22weight%22%3A%203%7D%0A%20%20%20%20%20%20%20%20%20%20%20%20%29.addTo%28map_aebf8a811f48491ea9853ca070daf374%29%3B%0A%20%20%20%20%20%20%20%20%0A%20%20%20%20%0A%20%20%20%20%20%20%20%20%20%20%20%20circle_1fb591023e2540a281f2b2db250563b1.bindTooltip%28%0A%20%20%20%20%20%20%20%20%20%20%20%20%20%20%20%20%60%3Cdiv%3E%0A%20%20%20%20%20%20%20%20%20%20%20%20%20%20%20%20%20%20%20%20%20%3Cdiv%20style%3D%27margin%3A%200%3B%20background-color%3A%20black%3B%20color%3A%20white%3B%27%3E%3Ch4%20style%3D%27text-align%3Acenter%3Bfont-weight%3A%20bold%27%3EFinland%3C/h4%3E%3Chr%20style%3D%27margin%3A10px%3Bcolor%3A%20white%3B%27%3E%3Cul%20style%3D%27color%3A%20white%3B%3Blist-style-type%3Acircle%3Balign-item%3Aleft%3Bpadding-left%3A20px%3Bpadding-right%3A20px%27%3E%3Cli%3EConfirmed%3A%2087529%3C/li%3E%3Cli%3EDeaths%3A%20%20%203772%3C/li%3E%3Cli%3EDeath%20Rate%3A%204.31%3C/li%3E%3C/ul%3E%3C/div%3E%0A%20%20%20%20%20%20%20%20%20%20%20%20%20%20%20%20%20%3C/div%3E%60%2C%0A%20%20%20%20%20%20%20%20%20%20%20%20%20%20%20%20%7B%22sticky%22%3A%20true%7D%0A%20%20%20%20%20%20%20%20%20%20%20%20%29%3B%0A%20%20%20%20%20%20%20%20%0A%20%20%20%20%0A%20%20%20%20%20%20%20%20%20%20%20%20var%20circle_c23cdf484eeb4b6d8a1b21fecdc97d61%20%3D%20L.circle%28%0A%20%20%20%20%20%20%20%20%20%20%20%20%20%20%20%20%5B3.9339%2C%20-53.1258%5D%2C%0A%20%20%20%20%20%20%20%20%20%20%20%20%20%20%20%20%7B%22bubblingMouseEvents%22%3A%20true%2C%20%22color%22%3A%20%22red%22%2C%20%22dashArray%22%3A%20null%2C%20%22dashOffset%22%3A%20null%2C%20%22fill%22%3A%20true%2C%20%22fillColor%22%3A%20%22indigo%22%2C%20%22fillOpacity%22%3A%200.2%2C%20%22fillRule%22%3A%20%22evenodd%22%2C%20%22lineCap%22%3A%20%22round%22%2C%20%22lineJoin%22%3A%20%22round%22%2C%20%22opacity%22%3A%201.0%2C%20%22radius%22%3A%2046000.0%2C%20%22stroke%22%3A%20true%2C%20%22weight%22%3A%203%7D%0A%20%20%20%20%20%20%20%20%20%20%20%20%29.addTo%28map_aebf8a811f48491ea9853ca070daf374%29%3B%0A%20%20%20%20%20%20%20%20%0A%20%20%20%20%0A%20%20%20%20%20%20%20%20%20%20%20%20circle_c23cdf484eeb4b6d8a1b21fecdc97d61.bindTooltip%28%0A%20%20%20%20%20%20%20%20%20%20%20%20%20%20%20%20%60%3Cdiv%3E%0A%20%20%20%20%20%20%20%20%20%20%20%20%20%20%20%20%20%20%20%20%20%3Cdiv%20style%3D%27margin%3A%200%3B%20background-color%3A%20black%3B%20color%3A%20white%3B%27%3E%3Ch4%20style%3D%27text-align%3Acenter%3Bfont-weight%3A%20bold%27%3EFrance%3C/h4%3E%3Chr%20style%3D%27margin%3A10px%3Bcolor%3A%20white%3B%27%3E%3Cul%20style%3D%27color%3A%20white%3B%3Blist-style-type%3Acircle%3Balign-item%3Aleft%3Bpadding-left%3A20px%3Bpadding-right%3A20px%27%3E%3Cli%3EConfirmed%3A%2019697%3C/li%3E%3Cli%3EDeaths%3A%20%20%202%3C/li%3E%3Cli%3EDeath%20Rate%3A%200.01%3C/li%3E%3C/ul%3E%3C/div%3E%0A%20%20%20%20%20%20%20%20%20%20%20%20%20%20%20%20%20%3C/div%3E%60%2C%0A%20%20%20%20%20%20%20%20%20%20%20%20%20%20%20%20%7B%22sticky%22%3A%20true%7D%0A%20%20%20%20%20%20%20%20%20%20%20%20%29%3B%0A%20%20%20%20%20%20%20%20%0A%20%20%20%20%0A%20%20%20%20%20%20%20%20%20%20%20%20var%20circle_9e87a783420d4fb3be7fa8305c58a43c%20%3D%20L.circle%28%0A%20%20%20%20%20%20%20%20%20%20%20%20%20%20%20%20%5B-17.6797%2C%20149.4068%5D%2C%0A%20%20%20%20%20%20%20%20%20%20%20%20%20%20%20%20%7B%22bubblingMouseEvents%22%3A%20true%2C%20%22color%22%3A%20%22red%22%2C%20%22dashArray%22%3A%20null%2C%20%22dashOffset%22%3A%20null%2C%20%22fill%22%3A%20true%2C%20%22fillColor%22%3A%20%22indigo%22%2C%20%22fillOpacity%22%3A%200.2%2C%20%22fillRule%22%3A%20%22evenodd%22%2C%20%22lineCap%22%3A%20%22round%22%2C%20%22lineJoin%22%3A%20%22round%22%2C%20%22opacity%22%3A%201.0%2C%20%22radius%22%3A%2046000.0%2C%20%22stroke%22%3A%20true%2C%20%22weight%22%3A%203%7D%0A%20%20%20%20%20%20%20%20%20%20%20%20%29.addTo%28map_aebf8a811f48491ea9853ca070daf374%29%3B%0A%20%20%20%20%20%20%20%20%0A%20%20%20%20%0A%20%20%20%20%20%20%20%20%20%20%20%20circle_9e87a783420d4fb3be7fa8305c58a43c.bindTooltip%28%0A%20%20%20%20%20%20%20%20%20%20%20%20%20%20%20%20%60%3Cdiv%3E%0A%20%20%20%20%20%20%20%20%20%20%20%20%20%20%20%20%20%20%20%20%20%3Cdiv%20style%3D%27margin%3A%200%3B%20background-color%3A%20black%3B%20color%3A%20white%3B%27%3E%3Ch4%20style%3D%27text-align%3Acenter%3Bfont-weight%3A%20bold%27%3EFrance%3C/h4%3E%3Chr%20style%3D%27margin%3A10px%3Bcolor%3A%20white%3B%27%3E%3Cul%20style%3D%27color%3A%20white%3B%3Blist-style-type%3Acircle%3Balign-item%3Aleft%3Bpadding-left%3A20px%3Bpadding-right%3A20px%27%3E%3Cli%3EConfirmed%3A%2018771%3C/li%3E%3Cli%3EDeaths%3A%20%20%20916%3C/li%3E%3Cli%3EDeath%20Rate%3A%204.88%3C/li%3E%3C/ul%3E%3C/div%3E%0A%20%20%20%20%20%20%20%20%20%20%20%20%20%20%20%20%20%3C/div%3E%60%2C%0A%20%20%20%20%20%20%20%20%20%20%20%20%20%20%20%20%7B%22sticky%22%3A%20true%7D%0A%20%20%20%20%20%20%20%20%20%20%20%20%29%3B%0A%20%20%20%20%20%20%20%20%0A%20%20%20%20%0A%20%20%20%20%20%20%20%20%20%20%20%20var%20circle_ee83a9148942443ab77996a9ec4756fc%20%3D%20L.circle%28%0A%20%20%20%20%20%20%20%20%20%20%20%20%20%20%20%20%5B16.265%2C%20-61.551%5D%2C%0A%20%20%20%20%20%20%20%20%20%20%20%20%20%20%20%20%7B%22bubblingMouseEvents%22%3A%20true%2C%20%22color%22%3A%20%22red%22%2C%20%22dashArray%22%3A%20null%2C%20%22dashOffset%22%3A%20null%2C%20%22fill%22%3A%20true%2C%20%22fillColor%22%3A%20%22indigo%22%2C%20%22fillOpacity%22%3A%200.2%2C%20%22fillRule%22%3A%20%22evenodd%22%2C%20%22lineCap%22%3A%20%22round%22%2C%20%22lineJoin%22%3A%20%22round%22%2C%20%22opacity%22%3A%201.0%2C%20%22radius%22%3A%2046000.0%2C%20%22stroke%22%3A%20true%2C%20%22weight%22%3A%203%7D%0A%20%20%20%20%20%20%20%20%20%20%20%20%29.addTo%28map_aebf8a811f48491ea9853ca070daf374%29%3B%0A%20%20%20%20%20%20%20%20%0A%20%20%20%20%0A%20%20%20%20%20%20%20%20%20%20%20%20circle_ee83a9148942443ab77996a9ec4756fc.bindTooltip%28%0A%20%20%20%20%20%20%20%20%20%20%20%20%20%20%20%20%60%3Cdiv%3E%0A%20%20%20%20%20%20%20%20%20%20%20%20%20%20%20%20%20%20%20%20%20%3Cdiv%20style%3D%27margin%3A%200%3B%20background-color%3A%20black%3B%20color%3A%20white%3B%27%3E%3Ch4%20style%3D%27text-align%3Acenter%3Bfont-weight%3A%20bold%27%3EFrance%3C/h4%3E%3Chr%20style%3D%27margin%3A10px%3Bcolor%3A%20white%3B%27%3E%3Cul%20style%3D%27color%3A%20white%3B%3Blist-style-type%3Acircle%3Balign-item%3Aleft%3Bpadding-left%3A20px%3Bpadding-right%3A20px%27%3E%3Cli%3EConfirmed%3A%2014634%3C/li%3E%3Cli%3EDeaths%3A%20%20%20104%3C/li%3E%3Cli%3EDeath%20Rate%3A%200.71%3C/li%3E%3C/ul%3E%3C/div%3E%0A%20%20%20%20%20%20%20%20%20%20%20%20%20%20%20%20%20%3C/div%3E%60%2C%0A%20%20%20%20%20%20%20%20%20%20%20%20%20%20%20%20%7B%22sticky%22%3A%20true%7D%0A%20%20%20%20%20%20%20%20%20%20%20%20%29%3B%0A%20%20%20%20%20%20%20%20%0A%20%20%20%20%0A%20%20%20%20%20%20%20%20%20%20%20%20var%20circle_80638435d1a94e8c8425bec37896e44a%20%3D%20L.circle%28%0A%20%20%20%20%20%20%20%20%20%20%20%20%20%20%20%20%5B14.6415%2C%20-61.0242%5D%2C%0A%20%20%20%20%20%20%20%20%20%20%20%20%20%20%20%20%7B%22bubblingMouseEvents%22%3A%20true%2C%20%22color%22%3A%20%22red%22%2C%20%22dashArray%22%3A%20null%2C%20%22dashOffset%22%3A%20null%2C%20%22fill%22%3A%20true%2C%20%22fillColor%22%3A%20%22indigo%22%2C%20%22fillOpacity%22%3A%200.2%2C%20%22fillRule%22%3A%20%22evenodd%22%2C%20%22lineCap%22%3A%20%22round%22%2C%20%22lineJoin%22%3A%20%22round%22%2C%20%22opacity%22%3A%201.0%2C%20%22radius%22%3A%2046000.0%2C%20%22stroke%22%3A%20true%2C%20%22weight%22%3A%203%7D%0A%20%20%20%20%20%20%20%20%20%20%20%20%29.addTo%28map_aebf8a811f48491ea9853ca070daf374%29%3B%0A%20%20%20%20%20%20%20%20%0A%20%20%20%20%0A%20%20%20%20%20%20%20%20%20%20%20%20circle_80638435d1a94e8c8425bec37896e44a.bindTooltip%28%0A%20%20%20%20%20%20%20%20%20%20%20%20%20%20%20%20%60%3Cdiv%3E%0A%20%20%20%20%20%20%20%20%20%20%20%20%20%20%20%20%20%20%20%20%20%3Cdiv%20style%3D%27margin%3A%200%3B%20background-color%3A%20black%3B%20color%3A%20white%3B%27%3E%3Ch4%20style%3D%27text-align%3Acenter%3Bfont-weight%3A%20bold%27%3EFrance%3C/h4%3E%3Chr%20style%3D%27margin%3A10px%3Bcolor%3A%20white%3B%27%3E%3Cul%20style%3D%27color%3A%20white%3B%3Blist-style-type%3Acircle%3Balign-item%3Aleft%3Bpadding-left%3A20px%3Bpadding-right%3A20px%27%3E%3Cli%3EConfirmed%3A%2011139%3C/li%3E%3Cli%3EDeaths%3A%20%20%20141%3C/li%3E%3Cli%3EDeath%20Rate%3A%201.27%3C/li%3E%3C/ul%3E%3C/div%3E%0A%20%20%20%20%20%20%20%20%20%20%20%20%20%20%20%20%20%3C/div%3E%60%2C%0A%20%20%20%20%20%20%20%20%20%20%20%20%20%20%20%20%7B%22sticky%22%3A%20true%7D%0A%20%20%20%20%20%20%20%20%20%20%20%20%29%3B%0A%20%20%20%20%20%20%20%20%0A%20%20%20%20%0A%20%20%20%20%20%20%20%20%20%20%20%20var%20circle_6e5f12b8f8e24238861856261d08795e%20%3D%20L.circle%28%0A%20%20%20%20%20%20%20%20%20%20%20%20%20%20%20%20%5B-12.8275%2C%2045.166244%5D%2C%0A%20%20%20%20%20%20%20%20%20%20%20%20%20%20%20%20%7B%22bubblingMouseEvents%22%3A%20true%2C%20%22color%22%3A%20%22red%22%2C%20%22dashArray%22%3A%20null%2C%20%22dashOffset%22%3A%20null%2C%20%22fill%22%3A%20true%2C%20%22fillColor%22%3A%20%22indigo%22%2C%20%22fillOpacity%22%3A%200.2%2C%20%22fillRule%22%3A%20%22evenodd%22%2C%20%22lineCap%22%3A%20%22round%22%2C%20%22lineJoin%22%3A%20%22round%22%2C%20%22opacity%22%3A%201.0%2C%20%22radius%22%3A%2046000.0%2C%20%22stroke%22%3A%20true%2C%20%22weight%22%3A%203%7D%0A%20%20%20%20%20%20%20%20%20%20%20%20%29.addTo%28map_aebf8a811f48491ea9853ca070daf374%29%3B%0A%20%20%20%20%20%20%20%20%0A%20%20%20%20%0A%20%20%20%20%20%20%20%20%20%20%20%20circle_6e5f12b8f8e24238861856261d08795e.bindTooltip%28%0A%20%20%20%20%20%20%20%20%20%20%20%20%20%20%20%20%60%3Cdiv%3E%0A%20%20%20%20%20%20%20%20%20%20%20%20%20%20%20%20%20%20%20%20%20%3Cdiv%20style%3D%27margin%3A%200%3B%20background-color%3A%20black%3B%20color%3A%20white%3B%27%3E%3Ch4%20style%3D%27text-align%3Acenter%3Bfont-weight%3A%20bold%27%3EFrance%3C/h4%3E%3Chr%20style%3D%27margin%3A10px%3Bcolor%3A%20white%3B%27%3E%3Cul%20style%3D%27color%3A%20white%3B%3Blist-style-type%3Acircle%3Balign-item%3Aleft%3Bpadding-left%3A20px%3Bpadding-right%3A20px%27%3E%3Cli%3EConfirmed%3A%2020094%3C/li%3E%3Cli%3EDeaths%3A%20%20%20228%3C/li%3E%3Cli%3EDeath%20Rate%3A%201.13%3C/li%3E%3C/ul%3E%3C/div%3E%0A%20%20%20%20%20%20%20%20%20%20%20%20%20%20%20%20%20%3C/div%3E%60%2C%0A%20%20%20%20%20%20%20%20%20%20%20%20%20%20%20%20%7B%22sticky%22%3A%20true%7D%0A%20%20%20%20%20%20%20%20%20%20%20%20%29%3B%0A%20%20%20%20%20%20%20%20%0A%20%20%20%20%0A%20%20%20%20%20%20%20%20%20%20%20%20var%20circle_d0d6b97517e8441681defd2c7fd782ce%20%3D%20L.circle%28%0A%20%20%20%20%20%20%20%20%20%20%20%20%20%20%20%20%5B-20.904304999999997%2C%20165.618042%5D%2C%0A%20%20%20%20%20%20%20%20%20%20%20%20%20%20%20%20%7B%22bubblingMouseEvents%22%3A%20true%2C%20%22color%22%3A%20%22red%22%2C%20%22dashArray%22%3A%20null%2C%20%22dashOffset%22%3A%20null%2C%20%22fill%22%3A%20true%2C%20%22fillColor%22%3A%20%22indigo%22%2C%20%22fillOpacity%22%3A%200.2%2C%20%22fillRule%22%3A%20%22evenodd%22%2C%20%22lineCap%22%3A%20%22round%22%2C%20%22lineJoin%22%3A%20%22round%22%2C%20%22opacity%22%3A%201.0%2C%20%22radius%22%3A%2021000.0%2C%20%22stroke%22%3A%20true%2C%20%22weight%22%3A%203%7D%0A%20%20%20%20%20%20%20%20%20%20%20%20%29.addTo%28map_aebf8a811f48491ea9853ca070daf374%29%3B%0A%20%20%20%20%20%20%20%20%0A%20%20%20%20%0A%20%20%20%20%20%20%20%20%20%20%20%20circle_d0d6b97517e8441681defd2c7fd782ce.bindTooltip%28%0A%20%20%20%20%20%20%20%20%20%20%20%20%20%20%20%20%60%3Cdiv%3E%0A%20%20%20%20%20%20%20%20%20%20%20%20%20%20%20%20%20%20%20%20%20%3Cdiv%20style%3D%27margin%3A%200%3B%20background-color%3A%20black%3B%20color%3A%20white%3B%27%3E%3Ch4%20style%3D%27text-align%3Acenter%3Bfont-weight%3A%20bold%27%3EFrance%3C/h4%3E%3Chr%20style%3D%27margin%3A10px%3Bcolor%3A%20white%3B%27%3E%3Cul%20style%3D%27color%3A%20white%3B%3Blist-style-type%3Acircle%3Balign-item%3Aleft%3Bpadding-left%3A20px%3Bpadding-right%3A20px%27%3E%3Cli%3EConfirmed%3A%20124%3C/li%3E%3Cli%3EDeaths%3A%20%20%2079%3C/li%3E%3Cli%3EDeath%20Rate%3A%2063.2%3C/li%3E%3C/ul%3E%3C/div%3E%0A%20%20%20%20%20%20%20%20%20%20%20%20%20%20%20%20%20%3C/div%3E%60%2C%0A%20%20%20%20%20%20%20%20%20%20%20%20%20%20%20%20%7B%22sticky%22%3A%20true%7D%0A%20%20%20%20%20%20%20%20%20%20%20%20%29%3B%0A%20%20%20%20%20%20%20%20%0A%20%20%20%20%0A%20%20%20%20%20%20%20%20%20%20%20%20var%20circle_ea18b8480b1a46e2a2f16878d96e84ae%20%3D%20L.circle%28%0A%20%20%20%20%20%20%20%20%20%20%20%20%20%20%20%20%5B-21.1151%2C%2055.5364%5D%2C%0A%20%20%20%20%20%20%20%20%20%20%20%20%20%20%20%20%7B%22bubblingMouseEvents%22%3A%20true%2C%20%22color%22%3A%20%22red%22%2C%20%22dashArray%22%3A%20null%2C%20%22dashOffset%22%3A%20null%2C%20%22fill%22%3A%20true%2C%20%22fillColor%22%3A%20%22indigo%22%2C%20%22fillOpacity%22%3A%200.2%2C%20%22fillRule%22%3A%20%22evenodd%22%2C%20%22lineCap%22%3A%20%22round%22%2C%20%22lineJoin%22%3A%20%22round%22%2C%20%22opacity%22%3A%201.0%2C%20%22radius%22%3A%2046000.0%2C%20%22stroke%22%3A%20true%2C%20%22weight%22%3A%203%7D%0A%20%20%20%20%20%20%20%20%20%20%20%20%29.addTo%28map_aebf8a811f48491ea9853ca070daf374%29%3B%0A%20%20%20%20%20%20%20%20%0A%20%20%20%20%0A%20%20%20%20%20%20%20%20%20%20%20%20circle_ea18b8480b1a46e2a2f16878d96e84ae.bindTooltip%28%0A%20%20%20%20%20%20%20%20%20%20%20%20%20%20%20%20%60%3Cdiv%3E%0A%20%20%20%20%20%20%20%20%20%20%20%20%20%20%20%20%20%20%20%20%20%3Cdiv%20style%3D%27margin%3A%200%3B%20background-color%3A%20black%3B%20color%3A%20white%3B%27%3E%3Ch4%20style%3D%27text-align%3Acenter%3Bfont-weight%3A%20bold%27%3EFrance%3C/h4%3E%3Chr%20style%3D%27margin%3A10px%3Bcolor%3A%20white%3B%27%3E%3Cul%20style%3D%27color%3A%20white%3B%3Blist-style-type%3Acircle%3Balign-item%3Aleft%3Bpadding-left%3A20px%3Bpadding-right%3A20px%27%3E%3Cli%3EConfirmed%3A%2020381%3C/li%3E%3Cli%3EDeaths%3A%20%20%20170%3C/li%3E%3Cli%3EDeath%20Rate%3A%200.83%3C/li%3E%3C/ul%3E%3C/div%3E%0A%20%20%20%20%20%20%20%20%20%20%20%20%20%20%20%20%20%3C/div%3E%60%2C%0A%20%20%20%20%20%20%20%20%20%20%20%20%20%20%20%20%7B%22sticky%22%3A%20true%7D%0A%20%20%20%20%20%20%20%20%20%20%20%20%29%3B%0A%20%20%20%20%20%20%20%20%0A%20%20%20%20%0A%20%20%20%20%20%20%20%20%20%20%20%20var%20circle_41ee69d6f01c47fbae139f41d399b34d%20%3D%20L.circle%28%0A%20%20%20%20%20%20%20%20%20%20%20%20%20%20%20%20%5B17.9%2C%20-62.8333%5D%2C%0A%20%20%20%20%20%20%20%20%20%20%20%20%20%20%20%20%7B%22bubblingMouseEvents%22%3A%20true%2C%20%22color%22%3A%20%22red%22%2C%20%22dashArray%22%3A%20null%2C%20%22dashOffset%22%3A%20null%2C%20%22fill%22%3A%20true%2C%20%22fillColor%22%3A%20%22indigo%22%2C%20%22fillOpacity%22%3A%200.2%2C%20%22fillRule%22%3A%20%22evenodd%22%2C%20%22lineCap%22%3A%20%22round%22%2C%20%22lineJoin%22%3A%20%22round%22%2C%20%22opacity%22%3A%201.0%2C%20%22radius%22%3A%2031000.0%2C%20%22stroke%22%3A%20true%2C%20%22weight%22%3A%203%7D%0A%20%20%20%20%20%20%20%20%20%20%20%20%29.addTo%28map_aebf8a811f48491ea9853ca070daf374%29%3B%0A%20%20%20%20%20%20%20%20%0A%20%20%20%20%0A%20%20%20%20%20%20%20%20%20%20%20%20circle_41ee69d6f01c47fbae139f41d399b34d.bindTooltip%28%0A%20%20%20%20%20%20%20%20%20%20%20%20%20%20%20%20%60%3Cdiv%3E%0A%20%20%20%20%20%20%20%20%20%20%20%20%20%20%20%20%20%20%20%20%20%3Cdiv%20style%3D%27margin%3A%200%3B%20background-color%3A%20black%3B%20color%3A%20white%3B%27%3E%3Ch4%20style%3D%27text-align%3Acenter%3Bfont-weight%3A%20bold%27%3EFrance%3C/h4%3E%3Chr%20style%3D%27margin%3A10px%3Bcolor%3A%20white%3B%27%3E%3Cul%20style%3D%27color%3A%20white%3B%3Blist-style-type%3Acircle%3Balign-item%3Aleft%3Bpadding-left%3A20px%3Bpadding-right%3A20px%27%3E%3Cli%3EConfirmed%3A%20974%3C/li%3E%3Cli%3EDeaths%3A%20%20%200%3C/li%3E%3Cli%3EDeath%20Rate%3A%200.0%3C/li%3E%3C/ul%3E%3C/div%3E%0A%20%20%20%20%20%20%20%20%20%20%20%20%20%20%20%20%20%3C/div%3E%60%2C%0A%20%20%20%20%20%20%20%20%20%20%20%20%20%20%20%20%7B%22sticky%22%3A%20true%7D%0A%20%20%20%20%20%20%20%20%20%20%20%20%29%3B%0A%20%20%20%20%20%20%20%20%0A%20%20%20%20%0A%20%20%20%20%20%20%20%20%20%20%20%20var%20circle_d9656c6ac9354fefbba4071c2748ae5c%20%3D%20L.circle%28%0A%20%20%20%20%20%20%20%20%20%20%20%20%20%20%20%20%5B46.8852%2C%20-56.3159%5D%2C%0A%20%20%20%20%20%20%20%20%20%20%20%20%20%20%20%20%7B%22bubblingMouseEvents%22%3A%20true%2C%20%22color%22%3A%20%22red%22%2C%20%22dashArray%22%3A%20null%2C%20%22dashOffset%22%3A%20null%2C%20%22fill%22%3A%20true%2C%20%22fillColor%22%3A%20%22indigo%22%2C%20%22fillOpacity%22%3A%200.2%2C%20%22fillRule%22%3A%20%22evenodd%22%2C%20%22lineCap%22%3A%20%22round%22%2C%20%22lineJoin%22%3A%20%22round%22%2C%20%22opacity%22%3A%201.0%2C%20%22radius%22%3A%2016000.0%2C%20%22stroke%22%3A%20true%2C%20%22weight%22%3A%203%7D%0A%20%20%20%20%20%20%20%20%20%20%20%20%29.addTo%28map_aebf8a811f48491ea9853ca070daf374%29%3B%0A%20%20%20%20%20%20%20%20%0A%20%20%20%20%0A%20%20%20%20%20%20%20%20%20%20%20%20circle_d9656c6ac9354fefbba4071c2748ae5c.bindTooltip%28%0A%20%20%20%20%20%20%20%20%20%20%20%20%20%20%20%20%60%3Cdiv%3E%0A%20%20%20%20%20%20%20%20%20%20%20%20%20%20%20%20%20%20%20%20%20%3Cdiv%20style%3D%27margin%3A%200%3B%20background-color%3A%20black%3B%20color%3A%20white%3B%27%3E%3Ch4%20style%3D%27text-align%3Acenter%3Bfont-weight%3A%20bold%27%3EFrance%3C/h4%3E%3Chr%20style%3D%27margin%3A10px%3Bcolor%3A%20white%3B%27%3E%3Cul%20style%3D%27color%3A%20white%3B%3Blist-style-type%3Acircle%3Balign-item%3Aleft%3Bpadding-left%3A20px%3Bpadding-right%3A20px%27%3E%3Cli%3EConfirmed%3A%2025%3C/li%3E%3Cli%3EDeaths%3A%20%20%20148%3C/li%3E%3Cli%3EDeath%20Rate%3A%20569.23%3C/li%3E%3C/ul%3E%3C/div%3E%0A%20%20%20%20%20%20%20%20%20%20%20%20%20%20%20%20%20%3C/div%3E%60%2C%0A%20%20%20%20%20%20%20%20%20%20%20%20%20%20%20%20%7B%22sticky%22%3A%20true%7D%0A%20%20%20%20%20%20%20%20%20%20%20%20%29%3B%0A%20%20%20%20%20%20%20%20%0A%20%20%20%20%0A%20%20%20%20%20%20%20%20%20%20%20%20var%20circle_0ea3dafa9e6c4a0e86716007bc43f2e9%20%3D%20L.circle%28%0A%20%20%20%20%20%20%20%20%20%20%20%20%20%20%20%20%5B18.0708%2C%20-63.0501%5D%2C%0A%20%20%20%20%20%20%20%20%20%20%20%20%20%20%20%20%7B%22bubblingMouseEvents%22%3A%20true%2C%20%22color%22%3A%20%22red%22%2C%20%22dashArray%22%3A%20null%2C%20%22dashOffset%22%3A%20null%2C%20%22fill%22%3A%20true%2C%20%22fillColor%22%3A%20%22indigo%22%2C%20%22fillOpacity%22%3A%200.2%2C%20%22fillRule%22%3A%20%22evenodd%22%2C%20%22lineCap%22%3A%20%22round%22%2C%20%22lineJoin%22%3A%20%22round%22%2C%20%22opacity%22%3A%201.0%2C%20%22radius%22%3A%2036000.0%2C%20%22stroke%22%3A%20true%2C%20%22weight%22%3A%203%7D%0A%20%20%20%20%20%20%20%20%20%20%20%20%29.addTo%28map_aebf8a811f48491ea9853ca070daf374%29%3B%0A%20%20%20%20%20%20%20%20%0A%20%20%20%20%0A%20%20%20%20%20%20%20%20%20%20%20%20circle_0ea3dafa9e6c4a0e86716007bc43f2e9.bindTooltip%28%0A%20%20%20%20%20%20%20%20%20%20%20%20%20%20%20%20%60%3Cdiv%3E%0A%20%20%20%20%20%20%20%20%20%20%20%20%20%20%20%20%20%20%20%20%20%3Cdiv%20style%3D%27margin%3A%200%3B%20background-color%3A%20black%3B%20color%3A%20white%3B%27%3E%3Ch4%20style%3D%27text-align%3Acenter%3Bfont-weight%3A%20bold%27%3EFrance%3C/h4%3E%3Chr%20style%3D%27margin%3A10px%3Bcolor%3A%20white%3B%27%3E%3Cul%20style%3D%27color%3A%20white%3B%3Blist-style-type%3Acircle%3Balign-item%3Aleft%3Bpadding-left%3A20px%3Bpadding-right%3A20px%27%3E%3Cli%3EConfirmed%3A%201745%3C/li%3E%3Cli%3EDeaths%3A%20%20%201%3C/li%3E%3Cli%3EDeath%20Rate%3A%200.06%3C/li%3E%3C/ul%3E%3C/div%3E%0A%20%20%20%20%20%20%20%20%20%20%20%20%20%20%20%20%20%3C/div%3E%60%2C%0A%20%20%20%20%20%20%20%20%20%20%20%20%20%20%20%20%7B%22sticky%22%3A%20true%7D%0A%20%20%20%20%20%20%20%20%20%20%20%20%29%3B%0A%20%20%20%20%20%20%20%20%0A%20%20%20%20%0A%20%20%20%20%20%20%20%20%20%20%20%20var%20circle_79cf99776b404d3582d5923837818dbf%20%3D%20L.circle%28%0A%20%20%20%20%20%20%20%20%20%20%20%20%20%20%20%20%5B-14.2938%2C%20-178.1165%5D%2C%0A%20%20%20%20%20%20%20%20%20%20%20%20%20%20%20%20%7B%22bubblingMouseEvents%22%3A%20true%2C%20%22color%22%3A%20%22red%22%2C%20%22dashArray%22%3A%20null%2C%20%22dashOffset%22%3A%20null%2C%20%22fill%22%3A%20true%2C%20%22fillColor%22%3A%20%22indigo%22%2C%20%22fillOpacity%22%3A%200.2%2C%20%22fillRule%22%3A%20%22evenodd%22%2C%20%22lineCap%22%3A%20%22round%22%2C%20%22lineJoin%22%3A%20%22round%22%2C%20%22opacity%22%3A%201.0%2C%20%22radius%22%3A%2031000.0%2C%20%22stroke%22%3A%20true%2C%20%22weight%22%3A%203%7D%0A%20%20%20%20%20%20%20%20%20%20%20%20%29.addTo%28map_aebf8a811f48491ea9853ca070daf374%29%3B%0A%20%20%20%20%20%20%20%20%0A%20%20%20%20%0A%20%20%20%20%20%20%20%20%20%20%20%20circle_79cf99776b404d3582d5923837818dbf.bindTooltip%28%0A%20%20%20%20%20%20%20%20%20%20%20%20%20%20%20%20%60%3Cdiv%3E%0A%20%20%20%20%20%20%20%20%20%20%20%20%20%20%20%20%20%20%20%20%20%3Cdiv%20style%3D%27margin%3A%200%3B%20background-color%3A%20black%3B%20color%3A%20white%3B%27%3E%3Ch4%20style%3D%27text-align%3Acenter%3Bfont-weight%3A%20bold%27%3EFrance%3C/h4%3E%3Chr%20style%3D%27margin%3A10px%3Bcolor%3A%20white%3B%27%3E%3Cul%20style%3D%27color%3A%20white%3B%3Blist-style-type%3Acircle%3Balign-item%3Aleft%3Bpadding-left%3A20px%3Bpadding-right%3A20px%27%3E%3Cli%3EConfirmed%3A%20444%3C/li%3E%3Cli%3EDeaths%3A%20%20%200%3C/li%3E%3Cli%3EDeath%20Rate%3A%200.0%3C/li%3E%3C/ul%3E%3C/div%3E%0A%20%20%20%20%20%20%20%20%20%20%20%20%20%20%20%20%20%3C/div%3E%60%2C%0A%20%20%20%20%20%20%20%20%20%20%20%20%20%20%20%20%7B%22sticky%22%3A%20true%7D%0A%20%20%20%20%20%20%20%20%20%20%20%20%29%3B%0A%20%20%20%20%20%20%20%20%0A%20%20%20%20%0A%20%20%20%20%20%20%20%20%20%20%20%20var%20circle_cd999586c65b4a40ad519ec0bc3c6fb7%20%3D%20L.circle%28%0A%20%20%20%20%20%20%20%20%20%20%20%20%20%20%20%20%5B46.2276%2C%202.2137%5D%2C%0A%20%20%20%20%20%20%20%20%20%20%20%20%20%20%20%20%7B%22bubblingMouseEvents%22%3A%20true%2C%20%22color%22%3A%20%22red%22%2C%20%22dashArray%22%3A%20null%2C%20%22dashOffset%22%3A%20null%2C%20%22fill%22%3A%20true%2C%20%22fillColor%22%3A%20%22indigo%22%2C%20%22fillOpacity%22%3A%200.2%2C%20%22fillRule%22%3A%20%22evenodd%22%2C%20%22lineCap%22%3A%20%22round%22%2C%20%22lineJoin%22%3A%20%22round%22%2C%20%22opacity%22%3A%201.0%2C%20%22radius%22%3A%2076000.0%2C%20%22stroke%22%3A%20true%2C%20%22weight%22%3A%203%7D%0A%20%20%20%20%20%20%20%20%20%20%20%20%29.addTo%28map_aebf8a811f48491ea9853ca070daf374%29%3B%0A%20%20%20%20%20%20%20%20%0A%20%20%20%20%0A%20%20%20%20%20%20%20%20%20%20%20%20circle_cd999586c65b4a40ad519ec0bc3c6fb7.bindTooltip%28%0A%20%20%20%20%20%20%20%20%20%20%20%20%20%20%20%20%60%3Cdiv%3E%0A%20%20%20%20%20%20%20%20%20%20%20%20%20%20%20%20%20%20%20%20%20%3Cdiv%20style%3D%27margin%3A%200%3B%20background-color%3A%20black%3B%20color%3A%20white%3B%27%3E%3Ch4%20style%3D%27text-align%3Acenter%3Bfont-weight%3A%20bold%27%3EFrance%3C/h4%3E%3Chr%20style%3D%27margin%3A10px%3Bcolor%3A%20white%3B%27%3E%3Cul%20style%3D%27color%3A%20white%3B%3Blist-style-type%3Acircle%3Balign-item%3Aleft%3Bpadding-left%3A20px%3Bpadding-right%3A20px%27%3E%3Cli%3EConfirmed%3A%205633509%3C/li%3E%3Cli%3EDeaths%3A%20%20%2012%3C/li%3E%3Cli%3EDeath%20Rate%3A%200.0%3C/li%3E%3C/ul%3E%3C/div%3E%0A%20%20%20%20%20%20%20%20%20%20%20%20%20%20%20%20%20%3C/div%3E%60%2C%0A%20%20%20%20%20%20%20%20%20%20%20%20%20%20%20%20%7B%22sticky%22%3A%20true%7D%0A%20%20%20%20%20%20%20%20%20%20%20%20%29%3B%0A%20%20%20%20%20%20%20%20%0A%20%20%20%20%0A%20%20%20%20%20%20%20%20%20%20%20%20var%20circle_2f4bfa7019e747b0a04549024ff3736d%20%3D%20L.circle%28%0A%20%20%20%20%20%20%20%20%20%20%20%20%20%20%20%20%5B-0.8037%2C%2011.6094%5D%2C%0A%20%20%20%20%20%20%20%20%20%20%20%20%20%20%20%20%7B%22bubblingMouseEvents%22%3A%20true%2C%20%22color%22%3A%20%22red%22%2C%20%22dashArray%22%3A%20null%2C%20%22dashOffset%22%3A%20null%2C%20%22fill%22%3A%20true%2C%20%22fillColor%22%3A%20%22indigo%22%2C%20%22fillOpacity%22%3A%200.2%2C%20%22fillRule%22%3A%20%22evenodd%22%2C%20%22lineCap%22%3A%20%22round%22%2C%20%22lineJoin%22%3A%20%22round%22%2C%20%22opacity%22%3A%201.0%2C%20%22radius%22%3A%2051000.0%2C%20%22stroke%22%3A%20true%2C%20%22weight%22%3A%203%7D%0A%20%20%20%20%20%20%20%20%20%20%20%20%29.addTo%28map_aebf8a811f48491ea9853ca070daf374%29%3B%0A%20%20%20%20%20%20%20%20%0A%20%20%20%20%0A%20%20%20%20%20%20%20%20%20%20%20%20circle_2f4bfa7019e747b0a04549024ff3736d.bindTooltip%28%0A%20%20%20%20%20%20%20%20%20%20%20%20%20%20%20%20%60%3Cdiv%3E%0A%20%20%20%20%20%20%20%20%20%20%20%20%20%20%20%20%20%20%20%20%20%3Cdiv%20style%3D%27margin%3A%200%3B%20background-color%3A%20black%3B%20color%3A%20white%3B%27%3E%3Ch4%20style%3D%27text-align%3Acenter%3Bfont-weight%3A%20bold%27%3EGabon%3C/h4%3E%3Chr%20style%3D%27margin%3A10px%3Bcolor%3A%20white%3B%27%3E%3Cul%20style%3D%27color%3A%20white%3B%3Blist-style-type%3Acircle%3Balign-item%3Aleft%3Bpadding-left%3A20px%3Bpadding-right%3A20px%27%3E%3Cli%3EConfirmed%3A%2023201%3C/li%3E%3Cli%3EDeaths%3A%20%20%207%3C/li%3E%3Cli%3EDeath%20Rate%3A%200.03%3C/li%3E%3C/ul%3E%3C/div%3E%0A%20%20%20%20%20%20%20%20%20%20%20%20%20%20%20%20%20%3C/div%3E%60%2C%0A%20%20%20%20%20%20%20%20%20%20%20%20%20%20%20%20%7B%22sticky%22%3A%20true%7D%0A%20%20%20%20%20%20%20%20%20%20%20%20%29%3B%0A%20%20%20%20%20%20%20%20%0A%20%20%20%20%0A%20%20%20%20%20%20%20%20%20%20%20%20var%20circle_06b401f0198d41d999a4f7c52a69c602%20%3D%20L.circle%28%0A%20%20%20%20%20%20%20%20%20%20%20%20%20%20%20%20%5B13.4432%2C%20-15.3101%5D%2C%0A%20%20%20%20%20%20%20%20%20%20%20%20%20%20%20%20%7B%22bubblingMouseEvents%22%3A%20true%2C%20%22color%22%3A%20%22red%22%2C%20%22dashArray%22%3A%20null%2C%20%22dashOffset%22%3A%20null%2C%20%22fill%22%3A%20true%2C%20%22fillColor%22%3A%20%22indigo%22%2C%20%22fillOpacity%22%3A%200.2%2C%20%22fillRule%22%3A%20%22evenodd%22%2C%20%22lineCap%22%3A%20%22round%22%2C%20%22lineJoin%22%3A%20%22round%22%2C%20%22opacity%22%3A%201.0%2C%20%22radius%22%3A%2041000.0%2C%20%22stroke%22%3A%20true%2C%20%22weight%22%3A%203%7D%0A%20%20%20%20%20%20%20%20%20%20%20%20%29.addTo%28map_aebf8a811f48491ea9853ca070daf374%29%3B%0A%20%20%20%20%20%20%20%20%0A%20%20%20%20%0A%20%20%20%20%20%20%20%20%20%20%20%20circle_06b401f0198d41d999a4f7c52a69c602.bindTooltip%28%0A%20%20%20%20%20%20%20%20%20%20%20%20%20%20%20%20%60%3Cdiv%3E%0A%20%20%20%20%20%20%20%20%20%20%20%20%20%20%20%20%20%20%20%20%20%3Cdiv%20style%3D%27margin%3A%200%3B%20background-color%3A%20black%3B%20color%3A%20white%3B%27%3E%3Ch4%20style%3D%27text-align%3Acenter%3Bfont-weight%3A%20bold%27%3EGambia%3C/h4%3E%3Chr%20style%3D%27margin%3A10px%3Bcolor%3A%20white%3B%27%3E%3Cul%20style%3D%27color%3A%20white%3B%3Blist-style-type%3Acircle%3Balign-item%3Aleft%3Bpadding-left%3A20px%3Bpadding-right%3A20px%27%3E%3Cli%3EConfirmed%3A%205914%3C/li%3E%3Cli%3EDeaths%3A%20%20%20104658%3C/li%3E%3Cli%3EDeath%20Rate%3A%201769.37%3C/li%3E%3C/ul%3E%3C/div%3E%0A%20%20%20%20%20%20%20%20%20%20%20%20%20%20%20%20%20%3C/div%3E%60%2C%0A%20%20%20%20%20%20%20%20%20%20%20%20%20%20%20%20%7B%22sticky%22%3A%20true%7D%0A%20%20%20%20%20%20%20%20%20%20%20%20%29%3B%0A%20%20%20%20%20%20%20%20%0A%20%20%20%20%0A%20%20%20%20%20%20%20%20%20%20%20%20var%20circle_be56c1472cb842428d72b7ea0e98ca97%20%3D%20L.circle%28%0A%20%20%20%20%20%20%20%20%20%20%20%20%20%20%20%20%5B42.3154%2C%2043.3569%5D%2C%0A%20%20%20%20%20%20%20%20%20%20%20%20%20%20%20%20%7B%22bubblingMouseEvents%22%3A%20true%2C%20%22color%22%3A%20%22red%22%2C%20%22dashArray%22%3A%20null%2C%20%22dashOffset%22%3A%20null%2C%20%22fill%22%3A%20true%2C%20%22fillColor%22%3A%20%22indigo%22%2C%20%22fillOpacity%22%3A%200.2%2C%20%22fillRule%22%3A%20%22evenodd%22%2C%20%22lineCap%22%3A%20%22round%22%2C%20%22lineJoin%22%3A%20%22round%22%2C%20%22opacity%22%3A%201.0%2C%20%22radius%22%3A%2061000.0%2C%20%22stroke%22%3A%20true%2C%20%22weight%22%3A%203%7D%0A%20%20%20%20%20%20%20%20%20%20%20%20%29.addTo%28map_aebf8a811f48491ea9853ca070daf374%29%3B%0A%20%20%20%20%20%20%20%20%0A%20%20%20%20%0A%20%20%20%20%20%20%20%20%20%20%20%20circle_be56c1472cb842428d72b7ea0e98ca97.bindTooltip%28%0A%20%20%20%20%20%20%20%20%20%20%20%20%20%20%20%20%60%3Cdiv%3E%0A%20%20%20%20%20%20%20%20%20%20%20%20%20%20%20%20%20%20%20%20%20%3Cdiv%20style%3D%27margin%3A%200%3B%20background-color%3A%20black%3B%20color%3A%20white%3B%27%3E%3Ch4%20style%3D%27text-align%3Acenter%3Bfont-weight%3A%20bold%27%3EGeorgia%3C/h4%3E%3Chr%20style%3D%27margin%3A10px%3Bcolor%3A%20white%3B%27%3E%3Cul%20style%3D%27color%3A%20white%3B%3Blist-style-type%3Acircle%3Balign-item%3Aleft%3Bpadding-left%3A20px%3Bpadding-right%3A20px%27%3E%3Cli%3EConfirmed%3A%20313742%3C/li%3E%3Cli%3EDeaths%3A%20%20%20140%3C/li%3E%3Cli%3EDeath%20Rate%3A%200.04%3C/li%3E%3C/ul%3E%3C/div%3E%0A%20%20%20%20%20%20%20%20%20%20%20%20%20%20%20%20%20%3C/div%3E%60%2C%0A%20%20%20%20%20%20%20%20%20%20%20%20%20%20%20%20%7B%22sticky%22%3A%20true%7D%0A%20%20%20%20%20%20%20%20%20%20%20%20%29%3B%0A%20%20%20%20%20%20%20%20%0A%20%20%20%20%0A%20%20%20%20%20%20%20%20%20%20%20%20var%20circle_7b347d57a8af4360b55655ff349e2763%20%3D%20L.circle%28%0A%20%20%20%20%20%20%20%20%20%20%20%20%20%20%20%20%5B51.165690999999995%2C%2010.451526%5D%2C%0A%20%20%20%20%20%20%20%20%20%20%20%20%20%20%20%20%7B%22bubblingMouseEvents%22%3A%20true%2C%20%22color%22%3A%20%22red%22%2C%20%22dashArray%22%3A%20null%2C%20%22dashOffset%22%3A%20null%2C%20%22fill%22%3A%20true%2C%20%22fillColor%22%3A%20%22indigo%22%2C%20%22fillOpacity%22%3A%200.2%2C%20%22fillRule%22%3A%20%22evenodd%22%2C%20%22lineCap%22%3A%20%22round%22%2C%20%22lineJoin%22%3A%20%22round%22%2C%20%22opacity%22%3A%201.0%2C%20%22radius%22%3A%2076000.0%2C%20%22stroke%22%3A%20true%2C%20%22weight%22%3A%203%7D%0A%20%20%20%20%20%20%20%20%20%20%20%20%29.addTo%28map_aebf8a811f48491ea9853ca070daf374%29%3B%0A%20%20%20%20%20%20%20%20%0A%20%20%20%20%0A%20%20%20%20%20%20%20%20%20%20%20%20circle_7b347d57a8af4360b55655ff349e2763.bindTooltip%28%0A%20%20%20%20%20%20%20%20%20%20%20%20%20%20%20%20%60%3Cdiv%3E%0A%20%20%20%20%20%20%20%20%20%20%20%20%20%20%20%20%20%20%20%20%20%3Cdiv%20style%3D%27margin%3A%200%3B%20background-color%3A%20black%3B%20color%3A%20white%3B%27%3E%3Ch4%20style%3D%27text-align%3Acenter%3Bfont-weight%3A%20bold%27%3EGermany%3C/h4%3E%3Chr%20style%3D%27margin%3A10px%3Bcolor%3A%20white%3B%27%3E%3Cul%20style%3D%27color%3A%20white%3B%3Blist-style-type%3Acircle%3Balign-item%3Aleft%3Bpadding-left%3A20px%3Bpadding-right%3A20px%27%3E%3Cli%3EConfirmed%3A%203462297%3C/li%3E%3Cli%3EDeaths%3A%20%20%20175%3C/li%3E%3Cli%3EDeath%20Rate%3A%200.01%3C/li%3E%3C/ul%3E%3C/div%3E%0A%20%20%20%20%20%20%20%20%20%20%20%20%20%20%20%20%20%3C/div%3E%60%2C%0A%20%20%20%20%20%20%20%20%20%20%20%20%20%20%20%20%7B%22sticky%22%3A%20true%7D%0A%20%20%20%20%20%20%20%20%20%20%20%20%29%3B%0A%20%20%20%20%20%20%20%20%0A%20%20%20%20%0A%20%20%20%20%20%20%20%20%20%20%20%20var%20circle_6c26b6d6be014ec7b4ce41662313b049%20%3D%20L.circle%28%0A%20%20%20%20%20%20%20%20%20%20%20%20%20%20%20%20%5B7.9465%2C%20-1.0232%5D%2C%0A%20%20%20%20%20%20%20%20%20%20%20%20%20%20%20%20%7B%22bubblingMouseEvents%22%3A%20true%2C%20%22color%22%3A%20%22red%22%2C%20%22dashArray%22%3A%20null%2C%20%22dashOffset%22%3A%20null%2C%20%22fill%22%3A%20true%2C%20%22fillColor%22%3A%20%22indigo%22%2C%20%22fillOpacity%22%3A%200.2%2C%20%22fillRule%22%3A%20%22evenodd%22%2C%20%22lineCap%22%3A%20%22round%22%2C%20%22lineJoin%22%3A%20%22round%22%2C%20%22opacity%22%3A%201.0%2C%20%22radius%22%3A%2056000.0%2C%20%22stroke%22%3A%20true%2C%20%22weight%22%3A%203%7D%0A%20%20%20%20%20%20%20%20%20%20%20%20%29.addTo%28map_aebf8a811f48491ea9853ca070daf374%29%3B%0A%20%20%20%20%20%20%20%20%0A%20%20%20%20%0A%20%20%20%20%20%20%20%20%20%20%20%20circle_6c26b6d6be014ec7b4ce41662313b049.bindTooltip%28%0A%20%20%20%20%20%20%20%20%20%20%20%20%20%20%20%20%60%3Cdiv%3E%0A%20%20%20%20%20%20%20%20%20%20%20%20%20%20%20%20%20%20%20%20%20%3Cdiv%20style%3D%27margin%3A%200%3B%20background-color%3A%20black%3B%20color%3A%20white%3B%27%3E%3Ch4%20style%3D%27text-align%3Acenter%3Bfont-weight%3A%20bold%27%3EGhana%3C/h4%3E%3Chr%20style%3D%27margin%3A10px%3Bcolor%3A%20white%3B%27%3E%3Cul%20style%3D%27color%3A%20white%3B%3Blist-style-type%3Acircle%3Balign-item%3Aleft%3Bpadding-left%3A20px%3Bpadding-right%3A20px%27%3E%3Cli%3EConfirmed%3A%2092740%3C/li%3E%3Cli%3EDeaths%3A%20%20%204183%3C/li%3E%3Cli%3EDeath%20Rate%3A%204.51%3C/li%3E%3C/ul%3E%3C/div%3E%0A%20%20%20%20%20%20%20%20%20%20%20%20%20%20%20%20%20%3C/div%3E%60%2C%0A%20%20%20%20%20%20%20%20%20%20%20%20%20%20%20%20%7B%22sticky%22%3A%20true%7D%0A%20%20%20%20%20%20%20%20%20%20%20%20%29%3B%0A%20%20%20%20%20%20%20%20%0A%20%20%20%20%0A%20%20%20%20%20%20%20%20%20%20%20%20var%20circle_0096c60c074c40679446625cbf258d55%20%3D%20L.circle%28%0A%20%20%20%20%20%20%20%20%20%20%20%20%20%20%20%20%5B39.0742%2C%2021.8243%5D%2C%0A%20%20%20%20%20%20%20%20%20%20%20%20%20%20%20%20%7B%22bubblingMouseEvents%22%3A%20true%2C%20%22color%22%3A%20%22red%22%2C%20%22dashArray%22%3A%20null%2C%20%22dashOffset%22%3A%20null%2C%20%22fill%22%3A%20true%2C%20%22fillColor%22%3A%20%22indigo%22%2C%20%22fillOpacity%22%3A%200.2%2C%20%22fillRule%22%3A%20%22evenodd%22%2C%20%22lineCap%22%3A%20%22round%22%2C%20%22lineJoin%22%3A%20%22round%22%2C%20%22opacity%22%3A%201.0%2C%20%22radius%22%3A%2061000.0%2C%20%22stroke%22%3A%20true%2C%20%22weight%22%3A%203%7D%0A%20%20%20%20%20%20%20%20%20%20%20%20%29.addTo%28map_aebf8a811f48491ea9853ca070daf374%29%3B%0A%20%20%20%20%20%20%20%20%0A%20%20%20%20%0A%20%20%20%20%20%20%20%20%20%20%20%20circle_0096c60c074c40679446625cbf258d55.bindTooltip%28%0A%20%20%20%20%20%20%20%20%20%20%20%20%20%20%20%20%60%3Cdiv%3E%0A%20%20%20%20%20%20%20%20%20%20%20%20%20%20%20%20%20%20%20%20%20%3Cdiv%20style%3D%27margin%3A%200%3B%20background-color%3A%20black%3B%20color%3A%20white%3B%27%3E%3Ch4%20style%3D%27text-align%3Acenter%3Bfont-weight%3A%20bold%27%3EGreece%3C/h4%3E%3Chr%20style%3D%27margin%3A10px%3Bcolor%3A%20white%3B%27%3E%3Cul%20style%3D%27color%3A%20white%3B%3Blist-style-type%3Acircle%3Balign-item%3Aleft%3Bpadding-left%3A20px%3Bpadding-right%3A20px%27%3E%3Cli%3EConfirmed%3A%20349936%3C/li%3E%3Cli%3EDeaths%3A%20%20%2083890%3C/li%3E%3Cli%3EDeath%20Rate%3A%2023.97%3C/li%3E%3C/ul%3E%3C/div%3E%0A%20%20%20%20%20%20%20%20%20%20%20%20%20%20%20%20%20%3C/div%3E%60%2C%0A%20%20%20%20%20%20%20%20%20%20%20%20%20%20%20%20%7B%22sticky%22%3A%20true%7D%0A%20%20%20%20%20%20%20%20%20%20%20%20%29%3B%0A%20%20%20%20%20%20%20%20%0A%20%20%20%20%0A%20%20%20%20%20%20%20%20%20%20%20%20var%20circle_3fa6e62bf99e4de5b58b4babc71a1c35%20%3D%20L.circle%28%0A%20%20%20%20%20%20%20%20%20%20%20%20%20%20%20%20%5B12.1165%2C%20-61.678999999999995%5D%2C%0A%20%20%20%20%20%20%20%20%20%20%20%20%20%20%20%20%7B%22bubblingMouseEvents%22%3A%20true%2C%20%22color%22%3A%20%22red%22%2C%20%22dashArray%22%3A%20null%2C%20%22dashOffset%22%3A%20null%2C%20%22fill%22%3A%20true%2C%20%22fillColor%22%3A%20%22indigo%22%2C%20%22fillOpacity%22%3A%200.2%2C%20%22fillRule%22%3A%20%22evenodd%22%2C%20%22lineCap%22%3A%20%22round%22%2C%20%22lineJoin%22%3A%20%22round%22%2C%20%22opacity%22%3A%201.0%2C%20%22radius%22%3A%2026000.0%2C%20%22stroke%22%3A%20true%2C%20%22weight%22%3A%203%7D%0A%20%20%20%20%20%20%20%20%20%20%20%20%29.addTo%28map_aebf8a811f48491ea9853ca070daf374%29%3B%0A%20%20%20%20%20%20%20%20%0A%20%20%20%20%0A%20%20%20%20%20%20%20%20%20%20%20%20circle_3fa6e62bf99e4de5b58b4babc71a1c35.bindTooltip%28%0A%20%20%20%20%20%20%20%20%20%20%20%20%20%20%20%20%60%3Cdiv%3E%0A%20%20%20%20%20%20%20%20%20%20%20%20%20%20%20%20%20%20%20%20%20%3Cdiv%20style%3D%27margin%3A%200%3B%20background-color%3A%20black%3B%20color%3A%20white%3B%27%3E%3Ch4%20style%3D%27text-align%3Acenter%3Bfont-weight%3A%20bold%27%3EGrenada%3C/h4%3E%3Chr%20style%3D%27margin%3A10px%3Bcolor%3A%20white%3B%27%3E%3Cul%20style%3D%27color%3A%20white%3B%3Blist-style-type%3Acircle%3Balign-item%3Aleft%3Bpadding-left%3A20px%3Bpadding-right%3A20px%27%3E%3Cli%3EConfirmed%3A%20160%3C/li%3E%3Cli%3EDeaths%3A%20%20%20780%3C/li%3E%3Cli%3EDeath%20Rate%3A%20484.47%3C/li%3E%3C/ul%3E%3C/div%3E%0A%20%20%20%20%20%20%20%20%20%20%20%20%20%20%20%20%20%3C/div%3E%60%2C%0A%20%20%20%20%20%20%20%20%20%20%20%20%20%20%20%20%7B%22sticky%22%3A%20true%7D%0A%20%20%20%20%20%20%20%20%20%20%20%20%29%3B%0A%20%20%20%20%20%20%20%20%0A%20%20%20%20%0A%20%20%20%20%20%20%20%20%20%20%20%20var%20circle_8ddee76411e04539884c8de033b40314%20%3D%20L.circle%28%0A%20%20%20%20%20%20%20%20%20%20%20%20%20%20%20%20%5B15.7835%2C%20-90.2308%5D%2C%0A%20%20%20%20%20%20%20%20%20%20%20%20%20%20%20%20%7B%22bubblingMouseEvents%22%3A%20true%2C%20%22color%22%3A%20%22red%22%2C%20%22dashArray%22%3A%20null%2C%20%22dashOffset%22%3A%20null%2C%20%22fill%22%3A%20true%2C%20%22fillColor%22%3A%20%22indigo%22%2C%20%22fillOpacity%22%3A%200.2%2C%20%22fillRule%22%3A%20%22evenodd%22%2C%20%22lineCap%22%3A%20%22round%22%2C%20%22lineJoin%22%3A%20%22round%22%2C%20%22opacity%22%3A%201.0%2C%20%22radius%22%3A%2061000.0%2C%20%22stroke%22%3A%20true%2C%20%22weight%22%3A%203%7D%0A%20%20%20%20%20%20%20%20%20%20%20%20%29.addTo%28map_aebf8a811f48491ea9853ca070daf374%29%3B%0A%20%20%20%20%20%20%20%20%0A%20%20%20%20%0A%20%20%20%20%20%20%20%20%20%20%20%20circle_8ddee76411e04539884c8de033b40314.bindTooltip%28%0A%20%20%20%20%20%20%20%20%20%20%20%20%20%20%20%20%60%3Cdiv%3E%0A%20%20%20%20%20%20%20%20%20%20%20%20%20%20%20%20%20%20%20%20%20%3Cdiv%20style%3D%27margin%3A%200%3B%20background-color%3A%20black%3B%20color%3A%20white%3B%27%3E%3Ch4%20style%3D%27text-align%3Acenter%3Bfont-weight%3A%20bold%27%3EGuatemala%3C/h4%3E%3Chr%20style%3D%27margin%3A10px%3Bcolor%3A%20white%3B%27%3E%3Cul%20style%3D%27color%3A%20white%3B%3Blist-style-type%3Acircle%3Balign-item%3Aleft%3Bpadding-left%3A20px%3Bpadding-right%3A20px%27%3E%3Cli%3EConfirmed%3A%20230095%3C/li%3E%3Cli%3EDeaths%3A%20%20%2010668%3C/li%3E%3Cli%3EDeath%20Rate%3A%204.64%3C/li%3E%3C/ul%3E%3C/div%3E%0A%20%20%20%20%20%20%20%20%20%20%20%20%20%20%20%20%20%3C/div%3E%60%2C%0A%20%20%20%20%20%20%20%20%20%20%20%20%20%20%20%20%7B%22sticky%22%3A%20true%7D%0A%20%20%20%20%20%20%20%20%20%20%20%20%29%3B%0A%20%20%20%20%20%20%20%20%0A%20%20%20%20%0A%20%20%20%20%20%20%20%20%20%20%20%20var%20circle_6e6d12f5604c43f48b086fbb2e5a252c%20%3D%20L.circle%28%0A%20%20%20%20%20%20%20%20%20%20%20%20%20%20%20%20%5B9.9456%2C%20-9.6966%5D%2C%0A%20%20%20%20%20%20%20%20%20%20%20%20%20%20%20%20%7B%22bubblingMouseEvents%22%3A%20true%2C%20%22color%22%3A%20%22red%22%2C%20%22dashArray%22%3A%20null%2C%20%22dashOffset%22%3A%20null%2C%20%22fill%22%3A%20true%2C%20%22fillColor%22%3A%20%22indigo%22%2C%20%22fillOpacity%22%3A%200.2%2C%20%22fillRule%22%3A%20%22evenodd%22%2C%20%22lineCap%22%3A%20%22round%22%2C%20%22lineJoin%22%3A%20%22round%22%2C%20%22opacity%22%3A%201.0%2C%20%22radius%22%3A%2051000.0%2C%20%22stroke%22%3A%20true%2C%20%22weight%22%3A%203%7D%0A%20%20%20%20%20%20%20%20%20%20%20%20%29.addTo%28map_aebf8a811f48491ea9853ca070daf374%29%3B%0A%20%20%20%20%20%20%20%20%0A%20%20%20%20%0A%20%20%20%20%20%20%20%20%20%20%20%20circle_6e6d12f5604c43f48b086fbb2e5a252c.bindTooltip%28%0A%20%20%20%20%20%20%20%20%20%20%20%20%20%20%20%20%60%3Cdiv%3E%0A%20%20%20%20%20%20%20%20%20%20%20%20%20%20%20%20%20%20%20%20%20%3Cdiv%20style%3D%27margin%3A%200%3B%20background-color%3A%20black%3B%20color%3A%20white%3B%27%3E%3Ch4%20style%3D%27text-align%3Acenter%3Bfont-weight%3A%20bold%27%3EGuinea%3C/h4%3E%3Chr%20style%3D%27margin%3A10px%3Bcolor%3A%20white%3B%27%3E%3Cul%20style%3D%27color%3A%20white%3B%3Blist-style-type%3Acircle%3Balign-item%3Aleft%3Bpadding-left%3A20px%3Bpadding-right%3A20px%27%3E%3Cli%3EConfirmed%3A%2022368%3C/li%3E%3Cli%3EDeaths%3A%20%20%201%3C/li%3E%3Cli%3EDeath%20Rate%3A%200.0%3C/li%3E%3C/ul%3E%3C/div%3E%0A%20%20%20%20%20%20%20%20%20%20%20%20%20%20%20%20%20%3C/div%3E%60%2C%0A%20%20%20%20%20%20%20%20%20%20%20%20%20%20%20%20%7B%22sticky%22%3A%20true%7D%0A%20%20%20%20%20%20%20%20%20%20%20%20%29%3B%0A%20%20%20%20%20%20%20%20%0A%20%20%20%20%0A%20%20%20%20%20%20%20%20%20%20%20%20var%20circle_ae8f75974e414d2f8daae8c9006fa85e%20%3D%20L.circle%28%0A%20%20%20%20%20%20%20%20%20%20%20%20%20%20%20%20%5B11.8037%2C%20-15.1804%5D%2C%0A%20%20%20%20%20%20%20%20%20%20%20%20%20%20%20%20%7B%22bubblingMouseEvents%22%3A%20true%2C%20%22color%22%3A%20%22red%22%2C%20%22dashArray%22%3A%20null%2C%20%22dashOffset%22%3A%20null%2C%20%22fill%22%3A%20true%2C%20%22fillColor%22%3A%20%22indigo%22%2C%20%22fillOpacity%22%3A%200.2%2C%20%22fillRule%22%3A%20%22evenodd%22%2C%20%22lineCap%22%3A%20%22round%22%2C%20%22lineJoin%22%3A%20%22round%22%2C%20%22opacity%22%3A%201.0%2C%20%22radius%22%3A%2041000.0%2C%20%22stroke%22%3A%20true%2C%20%22weight%22%3A%203%7D%0A%20%20%20%20%20%20%20%20%20%20%20%20%29.addTo%28map_aebf8a811f48491ea9853ca070daf374%29%3B%0A%20%20%20%20%20%20%20%20%0A%20%20%20%20%0A%20%20%20%20%20%20%20%20%20%20%20%20circle_ae8f75974e414d2f8daae8c9006fa85e.bindTooltip%28%0A%20%20%20%20%20%20%20%20%20%20%20%20%20%20%20%20%60%3Cdiv%3E%0A%20%20%20%20%20%20%20%20%20%20%20%20%20%20%20%20%20%20%20%20%20%3Cdiv%20style%3D%27margin%3A%200%3B%20background-color%3A%20black%3B%20color%3A%20white%3B%27%3E%3Ch4%20style%3D%27text-align%3Acenter%3Bfont-weight%3A%20bold%27%3EGuinea-Bissau%3C/h4%3E%3Chr%20style%3D%27margin%3A10px%3Bcolor%3A%20white%3B%27%3E%3Cul%20style%3D%27color%3A%20white%3B%3Blist-style-type%3Acircle%3Balign-item%3Aleft%3Bpadding-left%3A20px%3Bpadding-right%3A20px%27%3E%3Cli%3EConfirmed%3A%203737%3C/li%3E%3Cli%3EDeaths%3A%20%20%207606%3C/li%3E%3Cli%3EDeath%20Rate%3A%20203.48%3C/li%3E%3C/ul%3E%3C/div%3E%0A%20%20%20%20%20%20%20%20%20%20%20%20%20%20%20%20%20%3C/div%3E%60%2C%0A%20%20%20%20%20%20%20%20%20%20%20%20%20%20%20%20%7B%22sticky%22%3A%20true%7D%0A%20%20%20%20%20%20%20%20%20%20%20%20%29%3B%0A%20%20%20%20%20%20%20%20%0A%20%20%20%20%0A%20%20%20%20%20%20%20%20%20%20%20%20var%20circle_9d36758645a34c7aa1f8d04bde6ad7ed%20%3D%20L.circle%28%0A%20%20%20%20%20%20%20%20%20%20%20%20%20%20%20%20%5B4.860416000000001%2C%20-58.93018000000001%5D%2C%0A%20%20%20%20%20%20%20%20%20%20%20%20%20%20%20%20%7B%22bubblingMouseEvents%22%3A%20true%2C%20%22color%22%3A%20%22red%22%2C%20%22dashArray%22%3A%20null%2C%20%22dashOffset%22%3A%20null%2C%20%22fill%22%3A%20true%2C%20%22fillColor%22%3A%20%22indigo%22%2C%20%22fillOpacity%22%3A%200.2%2C%20%22fillRule%22%3A%20%22evenodd%22%2C%20%22lineCap%22%3A%20%22round%22%2C%20%22lineJoin%22%3A%20%22round%22%2C%20%22opacity%22%3A%201.0%2C%20%22radius%22%3A%2046000.0%2C%20%22stroke%22%3A%20true%2C%20%22weight%22%3A%203%7D%0A%20%20%20%20%20%20%20%20%20%20%20%20%29.addTo%28map_aebf8a811f48491ea9853ca070daf374%29%3B%0A%20%20%20%20%20%20%20%20%0A%20%20%20%20%0A%20%20%20%20%20%20%20%20%20%20%20%20circle_9d36758645a34c7aa1f8d04bde6ad7ed.bindTooltip%28%0A%20%20%20%20%20%20%20%20%20%20%20%20%20%20%20%20%60%3Cdiv%3E%0A%20%20%20%20%20%20%20%20%20%20%20%20%20%20%20%20%20%20%20%20%20%3Cdiv%20style%3D%27margin%3A%200%3B%20background-color%3A%20black%3B%20color%3A%20white%3B%27%3E%3Ch4%20style%3D%27text-align%3Acenter%3Bfont-weight%3A%20bold%27%3EGuyana%3C/h4%3E%3Chr%20style%3D%27margin%3A10px%3Bcolor%3A%20white%3B%27%3E%3Cul%20style%3D%27color%3A%20white%3B%3Blist-style-type%3Acircle%3Balign-item%3Aleft%3Bpadding-left%3A20px%3Bpadding-right%3A20px%27%3E%3Cli%3EConfirmed%3A%2013656%3C/li%3E%3Cli%3EDeaths%3A%20%20%20146%3C/li%3E%3Cli%3EDeath%20Rate%3A%201.07%3C/li%3E%3C/ul%3E%3C/div%3E%0A%20%20%20%20%20%20%20%20%20%20%20%20%20%20%20%20%20%3C/div%3E%60%2C%0A%20%20%20%20%20%20%20%20%20%20%20%20%20%20%20%20%7B%22sticky%22%3A%20true%7D%0A%20%20%20%20%20%20%20%20%20%20%20%20%29%3B%0A%20%20%20%20%20%20%20%20%0A%20%20%20%20%0A%20%20%20%20%20%20%20%20%20%20%20%20var%20circle_b3555527bfb442deb5c8542fc284c3ac%20%3D%20L.circle%28%0A%20%20%20%20%20%20%20%20%20%20%20%20%20%20%20%20%5B18.9712%2C%20-72.2852%5D%2C%0A%20%20%20%20%20%20%20%20%20%20%20%20%20%20%20%20%7B%22bubblingMouseEvents%22%3A%20true%2C%20%22color%22%3A%20%22red%22%2C%20%22dashArray%22%3A%20null%2C%20%22dashOffset%22%3A%20null%2C%20%22fill%22%3A%20true%2C%20%22fillColor%22%3A%20%22indigo%22%2C%20%22fillOpacity%22%3A%200.2%2C%20%22fillRule%22%3A%20%22evenodd%22%2C%20%22lineCap%22%3A%20%22round%22%2C%20%22lineJoin%22%3A%20%22round%22%2C%20%22opacity%22%3A%201.0%2C%20%22radius%22%3A%2046000.0%2C%20%22stroke%22%3A%20true%2C%20%22weight%22%3A%203%7D%0A%20%20%20%20%20%20%20%20%20%20%20%20%29.addTo%28map_aebf8a811f48491ea9853ca070daf374%29%3B%0A%20%20%20%20%20%20%20%20%0A%20%20%20%20%0A%20%20%20%20%20%20%20%20%20%20%20%20circle_b3555527bfb442deb5c8542fc284c3ac.bindTooltip%28%0A%20%20%20%20%20%20%20%20%20%20%20%20%20%20%20%20%60%3Cdiv%3E%0A%20%20%20%20%20%20%20%20%20%20%20%20%20%20%20%20%20%20%20%20%20%3Cdiv%20style%3D%27margin%3A%200%3B%20background-color%3A%20black%3B%20color%3A%20white%3B%27%3E%3Ch4%20style%3D%27text-align%3Acenter%3Bfont-weight%3A%20bold%27%3EHaiti%3C/h4%3E%3Chr%20style%3D%27margin%3A10px%3Bcolor%3A%20white%3B%27%3E%3Cul%20style%3D%27color%3A%20white%3B%3Blist-style-type%3Acircle%3Balign-item%3Aleft%3Bpadding-left%3A20px%3Bpadding-right%3A20px%27%3E%3Cli%3EConfirmed%3A%2013135%3C/li%3E%3Cli%3EDeaths%3A%20%20%2067%3C/li%3E%3Cli%3EDeath%20Rate%3A%200.51%3C/li%3E%3C/ul%3E%3C/div%3E%0A%20%20%20%20%20%20%20%20%20%20%20%20%20%20%20%20%20%3C/div%3E%60%2C%0A%20%20%20%20%20%20%20%20%20%20%20%20%20%20%20%20%7B%22sticky%22%3A%20true%7D%0A%20%20%20%20%20%20%20%20%20%20%20%20%29%3B%0A%20%20%20%20%20%20%20%20%0A%20%20%20%20%0A%20%20%20%20%20%20%20%20%20%20%20%20var%20circle_2e943ed978f2429c8ed03eab8aa5a1a6%20%3D%20L.circle%28%0A%20%20%20%20%20%20%20%20%20%20%20%20%20%20%20%20%5B41.9029%2C%2012.4534%5D%2C%0A%20%20%20%20%20%20%20%20%20%20%20%20%20%20%20%20%7B%22bubblingMouseEvents%22%3A%20true%2C%20%22color%22%3A%20%22red%22%2C%20%22dashArray%22%3A%20null%2C%20%22dashOffset%22%3A%20null%2C%20%22fill%22%3A%20true%2C%20%22fillColor%22%3A%20%22indigo%22%2C%20%22fillOpacity%22%3A%200.2%2C%20%22fillRule%22%3A%20%22evenodd%22%2C%20%22lineCap%22%3A%20%22round%22%2C%20%22lineJoin%22%3A%20%22round%22%2C%20%22opacity%22%3A%201.0%2C%20%22radius%22%3A%2016000.0%2C%20%22stroke%22%3A%20true%2C%20%22weight%22%3A%203%7D%0A%20%20%20%20%20%20%20%20%20%20%20%20%29.addTo%28map_aebf8a811f48491ea9853ca070daf374%29%3B%0A%20%20%20%20%20%20%20%20%0A%20%20%20%20%0A%20%20%20%20%20%20%20%20%20%20%20%20circle_2e943ed978f2429c8ed03eab8aa5a1a6.bindTooltip%28%0A%20%20%20%20%20%20%20%20%20%20%20%20%20%20%20%20%60%3Cdiv%3E%0A%20%20%20%20%20%20%20%20%20%20%20%20%20%20%20%20%20%20%20%20%20%3Cdiv%20style%3D%27margin%3A%200%3B%20background-color%3A%20black%3B%20color%3A%20white%3B%27%3E%3Ch4%20style%3D%27text-align%3Acenter%3Bfont-weight%3A%20bold%27%3EHoly%20See%3C/h4%3E%3Chr%20style%3D%27margin%3A10px%3Bcolor%3A%20white%3B%27%3E%3Cul%20style%3D%27color%3A%20white%3B%3Blist-style-type%3Acircle%3Balign-item%3Aleft%3Bpadding-left%3A20px%3Bpadding-right%3A20px%27%3E%3Cli%3EConfirmed%3A%2027%3C/li%3E%3Cli%3EDeaths%3A%20%20%20306%3C/li%3E%3Cli%3EDeath%20Rate%3A%201092.86%3C/li%3E%3C/ul%3E%3C/div%3E%0A%20%20%20%20%20%20%20%20%20%20%20%20%20%20%20%20%20%3C/div%3E%60%2C%0A%20%20%20%20%20%20%20%20%20%20%20%20%20%20%20%20%7B%22sticky%22%3A%20true%7D%0A%20%20%20%20%20%20%20%20%20%20%20%20%29%3B%0A%20%20%20%20%20%20%20%20%0A%20%20%20%20%0A%20%20%20%20%20%20%20%20%20%20%20%20var%20circle_a1383e11a6c2410ca52fef0d2024f6ca%20%3D%20L.circle%28%0A%20%20%20%20%20%20%20%20%20%20%20%20%20%20%20%20%5B15.2%2C%20-86.2419%5D%2C%0A%20%20%20%20%20%20%20%20%20%20%20%20%20%20%20%20%7B%22bubblingMouseEvents%22%3A%20true%2C%20%22color%22%3A%20%22red%22%2C%20%22dashArray%22%3A%20null%2C%20%22dashOffset%22%3A%20null%2C%20%22fill%22%3A%20true%2C%20%22fillColor%22%3A%20%22indigo%22%2C%20%22fillOpacity%22%3A%200.2%2C%20%22fillRule%22%3A%20%22evenodd%22%2C%20%22lineCap%22%3A%20%22round%22%2C%20%22lineJoin%22%3A%20%22round%22%2C%20%22opacity%22%3A%201.0%2C%20%22radius%22%3A%2061000.0%2C%20%22stroke%22%3A%20true%2C%20%22weight%22%3A%203%7D%0A%20%20%20%20%20%20%20%20%20%20%20%20%29.addTo%28map_aebf8a811f48491ea9853ca070daf374%29%3B%0A%20%20%20%20%20%20%20%20%0A%20%20%20%20%0A%20%20%20%20%20%20%20%20%20%20%20%20circle_a1383e11a6c2410ca52fef0d2024f6ca.bindTooltip%28%0A%20%20%20%20%20%20%20%20%20%20%20%20%20%20%20%20%60%3Cdiv%3E%0A%20%20%20%20%20%20%20%20%20%20%20%20%20%20%20%20%20%20%20%20%20%3Cdiv%20style%3D%27margin%3A%200%3B%20background-color%3A%20black%3B%20color%3A%20white%3B%27%3E%3Ch4%20style%3D%27text-align%3Acenter%3Bfont-weight%3A%20bold%27%3EHonduras%3C/h4%3E%3Chr%20style%3D%27margin%3A10px%3Bcolor%3A%20white%3B%27%3E%3Cul%20style%3D%27color%3A%20white%3B%3Blist-style-type%3Acircle%3Balign-item%3Aleft%3Bpadding-left%3A20px%3Bpadding-right%3A20px%27%3E%3Cli%3EConfirmed%3A%20215833%3C/li%3E%3Cli%3EDeaths%3A%20%20%20257%3C/li%3E%3Cli%3EDeath%20Rate%3A%200.12%3C/li%3E%3C/ul%3E%3C/div%3E%0A%20%20%20%20%20%20%20%20%20%20%20%20%20%20%20%20%20%3C/div%3E%60%2C%0A%20%20%20%20%20%20%20%20%20%20%20%20%20%20%20%20%7B%22sticky%22%3A%20true%7D%0A%20%20%20%20%20%20%20%20%20%20%20%20%29%3B%0A%20%20%20%20%20%20%20%20%0A%20%20%20%20%0A%20%20%20%20%20%20%20%20%20%20%20%20var%20circle_d2125f1156e84542b748362a3d763311%20%3D%20L.circle%28%0A%20%20%20%20%20%20%20%20%20%20%20%20%20%20%20%20%5B47.1625%2C%2019.5033%5D%2C%0A%20%20%20%20%20%20%20%20%20%20%20%20%20%20%20%20%7B%22bubblingMouseEvents%22%3A%20true%2C%20%22color%22%3A%20%22red%22%2C%20%22dashArray%22%3A%20null%2C%20%22dashOffset%22%3A%20null%2C%20%22fill%22%3A%20true%2C%20%22fillColor%22%3A%20%22indigo%22%2C%20%22fillOpacity%22%3A%200.2%2C%20%22fillRule%22%3A%20%22evenodd%22%2C%20%22lineCap%22%3A%20%22round%22%2C%20%22lineJoin%22%3A%20%22round%22%2C%20%22opacity%22%3A%201.0%2C%20%22radius%22%3A%2066000.0%2C%20%22stroke%22%3A%20true%2C%20%22weight%22%3A%203%7D%0A%20%20%20%20%20%20%20%20%20%20%20%20%29.addTo%28map_aebf8a811f48491ea9853ca070daf374%29%3B%0A%20%20%20%20%20%20%20%20%0A%20%20%20%20%0A%20%20%20%20%20%20%20%20%20%20%20%20circle_d2125f1156e84542b748362a3d763311.bindTooltip%28%0A%20%20%20%20%20%20%20%20%20%20%20%20%20%20%20%20%60%3Cdiv%3E%0A%20%20%20%20%20%20%20%20%20%20%20%20%20%20%20%20%20%20%20%20%20%3Cdiv%20style%3D%27margin%3A%200%3B%20background-color%3A%20black%3B%20color%3A%20white%3B%27%3E%3Ch4%20style%3D%27text-align%3Acenter%3Bfont-weight%3A%20bold%27%3EHungary%3C/h4%3E%3Chr%20style%3D%27margin%3A10px%3Bcolor%3A%20white%3B%27%3E%3Cul%20style%3D%27color%3A%20white%3B%3Blist-style-type%3Acircle%3Balign-item%3Aleft%3Bpadding-left%3A20px%3Bpadding-right%3A20px%27%3E%3Cli%3EConfirmed%3A%20784837%3C/li%3E%3Cli%3EDeaths%3A%20%20%200%3C/li%3E%3Cli%3EDeath%20Rate%3A%200.0%3C/li%3E%3C/ul%3E%3C/div%3E%0A%20%20%20%20%20%20%20%20%20%20%20%20%20%20%20%20%20%3C/div%3E%60%2C%0A%20%20%20%20%20%20%20%20%20%20%20%20%20%20%20%20%7B%22sticky%22%3A%20true%7D%0A%20%20%20%20%20%20%20%20%20%20%20%20%29%3B%0A%20%20%20%20%20%20%20%20%0A%20%20%20%20%0A%20%20%20%20%20%20%20%20%20%20%20%20var%20circle_630c655b9b924982bcfa8227aa2e4ebf%20%3D%20L.circle%28%0A%20%20%20%20%20%20%20%20%20%20%20%20%20%20%20%20%5B64.9631%2C%20-19.0208%5D%2C%0A%20%20%20%20%20%20%20%20%20%20%20%20%20%20%20%20%7B%22bubblingMouseEvents%22%3A%20true%2C%20%22color%22%3A%20%22red%22%2C%20%22dashArray%22%3A%20null%2C%20%22dashOffset%22%3A%20null%2C%20%22fill%22%3A%20true%2C%20%22fillColor%22%3A%20%22indigo%22%2C%20%22fillOpacity%22%3A%200.2%2C%20%22fillRule%22%3A%20%22evenodd%22%2C%20%22lineCap%22%3A%20%22round%22%2C%20%22lineJoin%22%3A%20%22round%22%2C%20%22opacity%22%3A%201.0%2C%20%22radius%22%3A%2041000.0%2C%20%22stroke%22%3A%20true%2C%20%22weight%22%3A%203%7D%0A%20%20%20%20%20%20%20%20%20%20%20%20%29.addTo%28map_aebf8a811f48491ea9853ca070daf374%29%3B%0A%20%20%20%20%20%20%20%20%0A%20%20%20%20%0A%20%20%20%20%20%20%20%20%20%20%20%20circle_630c655b9b924982bcfa8227aa2e4ebf.bindTooltip%28%0A%20%20%20%20%20%20%20%20%20%20%20%20%20%20%20%20%60%3Cdiv%3E%0A%20%20%20%20%20%20%20%20%20%20%20%20%20%20%20%20%20%20%20%20%20%3Cdiv%20style%3D%27margin%3A%200%3B%20background-color%3A%20black%3B%20color%3A%20white%3B%27%3E%3Ch4%20style%3D%27text-align%3Acenter%3Bfont-weight%3A%20bold%27%3EIceland%3C/h4%3E%3Chr%20style%3D%27margin%3A10px%3Bcolor%3A%20white%3B%27%3E%3Cul%20style%3D%27color%3A%20white%3B%3Blist-style-type%3Acircle%3Balign-item%3Aleft%3Bpadding-left%3A20px%3Bpadding-right%3A20px%27%3E%3Cli%3EConfirmed%3A%206491%3C/li%3E%3Cli%3EDeaths%3A%20%20%205386%3C/li%3E%3Cli%3EDeath%20Rate%3A%2082.96%3C/li%3E%3C/ul%3E%3C/div%3E%0A%20%20%20%20%20%20%20%20%20%20%20%20%20%20%20%20%20%3C/div%3E%60%2C%0A%20%20%20%20%20%20%20%20%20%20%20%20%20%20%20%20%7B%22sticky%22%3A%20true%7D%0A%20%20%20%20%20%20%20%20%20%20%20%20%29%3B%0A%20%20%20%20%20%20%20%20%0A%20%20%20%20%0A%20%20%20%20%20%20%20%20%20%20%20%20var%20circle_03f077a5719f49029321d2ef2f902982%20%3D%20L.circle%28%0A%20%20%20%20%20%20%20%20%20%20%20%20%20%20%20%20%5B20.593684%2C%2078.96288%5D%2C%0A%20%20%20%20%20%20%20%20%20%20%20%20%20%20%20%20%7B%22bubblingMouseEvents%22%3A%20true%2C%20%22color%22%3A%20%22red%22%2C%20%22dashArray%22%3A%20null%2C%20%22dashOffset%22%3A%20null%2C%20%22fill%22%3A%20true%2C%20%22fillColor%22%3A%20%22indigo%22%2C%20%22fillOpacity%22%3A%200.2%2C%20%22fillRule%22%3A%20%22evenodd%22%2C%20%22lineCap%22%3A%20%22round%22%2C%20%22lineJoin%22%3A%20%22round%22%2C%20%22opacity%22%3A%201.0%2C%20%22radius%22%3A%2081000.0%2C%20%22stroke%22%3A%20true%2C%20%22weight%22%3A%203%7D%0A%20%20%20%20%20%20%20%20%20%20%20%20%29.addTo%28map_aebf8a811f48491ea9853ca070daf374%29%3B%0A%20%20%20%20%20%20%20%20%0A%20%20%20%20%0A%20%20%20%20%20%20%20%20%20%20%20%20circle_03f077a5719f49029321d2ef2f902982.bindTooltip%28%0A%20%20%20%20%20%20%20%20%20%20%20%20%20%20%20%20%60%3Cdiv%3E%0A%20%20%20%20%20%20%20%20%20%20%20%20%20%20%20%20%20%20%20%20%20%3Cdiv%20style%3D%27margin%3A%200%3B%20background-color%3A%20black%3B%20color%3A%20white%3B%27%3E%3Ch4%20style%3D%27text-align%3Acenter%3Bfont-weight%3A%20bold%27%3EIndia%3C/h4%3E%3Chr%20style%3D%27margin%3A10px%3Bcolor%3A%20white%3B%27%3E%3Cul%20style%3D%27color%3A%20white%3B%3Blist-style-type%3Acircle%3Balign-item%3Aleft%3Bpadding-left%3A20px%3Bpadding-right%3A20px%27%3E%3Cli%3EConfirmed%3A%2020282833%3C/li%3E%3Cli%3EDeaths%3A%20%20%2028045%3C/li%3E%3Cli%3EDeath%20Rate%3A%200.14%3C/li%3E%3C/ul%3E%3C/div%3E%0A%20%20%20%20%20%20%20%20%20%20%20%20%20%20%20%20%20%3C/div%3E%60%2C%0A%20%20%20%20%20%20%20%20%20%20%20%20%20%20%20%20%7B%22sticky%22%3A%20true%7D%0A%20%20%20%20%20%20%20%20%20%20%20%20%29%3B%0A%20%20%20%20%20%20%20%20%0A%20%20%20%20%0A%20%20%20%20%20%20%20%20%20%20%20%20var%20circle_c670e28f695c417196a830c21c794ca7%20%3D%20L.circle%28%0A%20%20%20%20%20%20%20%20%20%20%20%20%20%20%20%20%5B-0.7893%2C%20113.9213%5D%2C%0A%20%20%20%20%20%20%20%20%20%20%20%20%20%20%20%20%7B%22bubblingMouseEvents%22%3A%20true%2C%20%22color%22%3A%20%22red%22%2C%20%22dashArray%22%3A%20null%2C%20%22dashOffset%22%3A%20null%2C%20%22fill%22%3A%20true%2C%20%22fillColor%22%3A%20%22indigo%22%2C%20%22fillOpacity%22%3A%200.2%2C%20%22fillRule%22%3A%20%22evenodd%22%2C%20%22lineCap%22%3A%20%22round%22%2C%20%22lineJoin%22%3A%20%22round%22%2C%20%22opacity%22%3A%201.0%2C%20%22radius%22%3A%2071000.0%2C%20%22stroke%22%3A%20true%2C%20%22weight%22%3A%203%7D%0A%20%20%20%20%20%20%20%20%20%20%20%20%29.addTo%28map_aebf8a811f48491ea9853ca070daf374%29%3B%0A%20%20%20%20%20%20%20%20%0A%20%20%20%20%0A%20%20%20%20%20%20%20%20%20%20%20%20circle_c670e28f695c417196a830c21c794ca7.bindTooltip%28%0A%20%20%20%20%20%20%20%20%20%20%20%20%20%20%20%20%60%3Cdiv%3E%0A%20%20%20%20%20%20%20%20%20%20%20%20%20%20%20%20%20%20%20%20%20%3Cdiv%20style%3D%27margin%3A%200%3B%20background-color%3A%20black%3B%20color%3A%20white%3B%27%3E%3Ch4%20style%3D%27text-align%3Acenter%3Bfont-weight%3A%20bold%27%3EIndonesia%3C/h4%3E%3Chr%20style%3D%27margin%3A10px%3Bcolor%3A%20white%3B%27%3E%3Cul%20style%3D%27color%3A%20white%3B%3Blist-style-type%3Acircle%3Balign-item%3Aleft%3Bpadding-left%3A20px%3Bpadding-right%3A20px%27%3E%3Cli%3EConfirmed%3A%201686373%3C/li%3E%3Cli%3EDeaths%3A%20%20%2029%3C/li%3E%3Cli%3EDeath%20Rate%3A%200.0%3C/li%3E%3C/ul%3E%3C/div%3E%0A%20%20%20%20%20%20%20%20%20%20%20%20%20%20%20%20%20%3C/div%3E%60%2C%0A%20%20%20%20%20%20%20%20%20%20%20%20%20%20%20%20%7B%22sticky%22%3A%20true%7D%0A%20%20%20%20%20%20%20%20%20%20%20%20%29%3B%0A%20%20%20%20%20%20%20%20%0A%20%20%20%20%0A%20%20%20%20%20%20%20%20%20%20%20%20var%20circle_37199b81bf1c4ee4982f24957b813768%20%3D%20L.circle%28%0A%20%20%20%20%20%20%20%20%20%20%20%20%20%20%20%20%5B32.427908%2C%2053.68804599999999%5D%2C%0A%20%20%20%20%20%20%20%20%20%20%20%20%20%20%20%20%7B%22bubblingMouseEvents%22%3A%20true%2C%20%22color%22%3A%20%22red%22%2C%20%22dashArray%22%3A%20null%2C%20%22dashOffset%22%3A%20null%2C%20%22fill%22%3A%20true%2C%20%22fillColor%22%3A%20%22indigo%22%2C%20%22fillOpacity%22%3A%200.2%2C%20%22fillRule%22%3A%20%22evenodd%22%2C%20%22lineCap%22%3A%20%22round%22%2C%20%22lineJoin%22%3A%20%22round%22%2C%20%22opacity%22%3A%201.0%2C%20%22radius%22%3A%2071000.0%2C%20%22stroke%22%3A%20true%2C%20%22weight%22%3A%203%7D%0A%20%20%20%20%20%20%20%20%20%20%20%20%29.addTo%28map_aebf8a811f48491ea9853ca070daf374%29%3B%0A%20%20%20%20%20%20%20%20%0A%20%20%20%20%0A%20%20%20%20%20%20%20%20%20%20%20%20circle_37199b81bf1c4ee4982f24957b813768.bindTooltip%28%0A%20%20%20%20%20%20%20%20%20%20%20%20%20%20%20%20%60%3Cdiv%3E%0A%20%20%20%20%20%20%20%20%20%20%20%20%20%20%20%20%20%20%20%20%20%3Cdiv%20style%3D%27margin%3A%200%3B%20background-color%3A%20black%3B%20color%3A%20white%3B%27%3E%3Ch4%20style%3D%27text-align%3Acenter%3Bfont-weight%3A%20bold%27%3EIran%3C/h4%3E%3Chr%20style%3D%27margin%3A10px%3Bcolor%3A%20white%3B%27%3E%3Cul%20style%3D%27color%3A%20white%3B%3Blist-style-type%3Acircle%3Balign-item%3Aleft%3Bpadding-left%3A20px%3Bpadding-right%3A20px%27%3E%3Cli%3EConfirmed%3A%202575737%3C/li%3E%3Cli%3EDeaths%3A%20%20%20222408%3C/li%3E%3Cli%3EDeath%20Rate%3A%208.63%3C/li%3E%3C/ul%3E%3C/div%3E%0A%20%20%20%20%20%20%20%20%20%20%20%20%20%20%20%20%20%3C/div%3E%60%2C%0A%20%20%20%20%20%20%20%20%20%20%20%20%20%20%20%20%7B%22sticky%22%3A%20true%7D%0A%20%20%20%20%20%20%20%20%20%20%20%20%29%3B%0A%20%20%20%20%20%20%20%20%0A%20%20%20%20%0A%20%20%20%20%20%20%20%20%20%20%20%20var%20circle_a8ff04ba0d9649d7b3051f47ae0e6d2f%20%3D%20L.circle%28%0A%20%20%20%20%20%20%20%20%20%20%20%20%20%20%20%20%5B33.223191%2C%2043.679291%5D%2C%0A%20%20%20%20%20%20%20%20%20%20%20%20%20%20%20%20%7B%22bubblingMouseEvents%22%3A%20true%2C%20%22color%22%3A%20%22red%22%2C%20%22dashArray%22%3A%20null%2C%20%22dashOffset%22%3A%20null%2C%20%22fill%22%3A%20true%2C%20%22fillColor%22%3A%20%22indigo%22%2C%20%22fillOpacity%22%3A%200.2%2C%20%22fillRule%22%3A%20%22evenodd%22%2C%20%22lineCap%22%3A%20%22round%22%2C%20%22lineJoin%22%3A%20%22round%22%2C%20%22opacity%22%3A%201.0%2C%20%22radius%22%3A%2066000.0%2C%20%22stroke%22%3A%20true%2C%20%22weight%22%3A%203%7D%0A%20%20%20%20%20%20%20%20%20%20%20%20%29.addTo%28map_aebf8a811f48491ea9853ca070daf374%29%3B%0A%20%20%20%20%20%20%20%20%0A%20%20%20%20%0A%20%20%20%20%20%20%20%20%20%20%20%20circle_a8ff04ba0d9649d7b3051f47ae0e6d2f.bindTooltip%28%0A%20%20%20%20%20%20%20%20%20%20%20%20%20%20%20%20%60%3Cdiv%3E%0A%20%20%20%20%20%20%20%20%20%20%20%20%20%20%20%20%20%20%20%20%20%3Cdiv%20style%3D%27margin%3A%200%3B%20background-color%3A%20black%3B%20color%3A%20white%3B%27%3E%3Ch4%20style%3D%27text-align%3Acenter%3Bfont-weight%3A%20bold%27%3EIraq%3C/h4%3E%3Chr%20style%3D%27margin%3A10px%3Bcolor%3A%20white%3B%27%3E%3Cul%20style%3D%27color%3A%20white%3B%3Blist-style-type%3Acircle%3Balign-item%3Aleft%3Bpadding-left%3A20px%3Bpadding-right%3A20px%27%3E%3Cli%3EConfirmed%3A%201086141%3C/li%3E%3Cli%3EDeaths%3A%20%20%2046137%3C/li%3E%3Cli%3EDeath%20Rate%3A%204.25%3C/li%3E%3C/ul%3E%3C/div%3E%0A%20%20%20%20%20%20%20%20%20%20%20%20%20%20%20%20%20%3C/div%3E%60%2C%0A%20%20%20%20%20%20%20%20%20%20%20%20%20%20%20%20%7B%22sticky%22%3A%20true%7D%0A%20%20%20%20%20%20%20%20%20%20%20%20%29%3B%0A%20%20%20%20%20%20%20%20%0A%20%20%20%20%0A%20%20%20%20%20%20%20%20%20%20%20%20var%20circle_2823f7f2d5d9408cadc51c1224713b09%20%3D%20L.circle%28%0A%20%20%20%20%20%20%20%20%20%20%20%20%20%20%20%20%5B53.1424%2C%20-7.6921%5D%2C%0A%20%20%20%20%20%20%20%20%20%20%20%20%20%20%20%20%7B%22bubblingMouseEvents%22%3A%20true%2C%20%22color%22%3A%20%22red%22%2C%20%22dashArray%22%3A%20null%2C%20%22dashOffset%22%3A%20null%2C%20%22fill%22%3A%20true%2C%20%22fillColor%22%3A%20%22indigo%22%2C%20%22fillOpacity%22%3A%200.2%2C%20%22fillRule%22%3A%20%22evenodd%22%2C%20%22lineCap%22%3A%20%22round%22%2C%20%22lineJoin%22%3A%20%22round%22%2C%20%22opacity%22%3A%201.0%2C%20%22radius%22%3A%2061000.0%2C%20%22stroke%22%3A%20true%2C%20%22weight%22%3A%203%7D%0A%20%20%20%20%20%20%20%20%20%20%20%20%29.addTo%28map_aebf8a811f48491ea9853ca070daf374%29%3B%0A%20%20%20%20%20%20%20%20%0A%20%20%20%20%0A%20%20%20%20%20%20%20%20%20%20%20%20circle_2823f7f2d5d9408cadc51c1224713b09.bindTooltip%28%0A%20%20%20%20%20%20%20%20%20%20%20%20%20%20%20%20%60%3Cdiv%3E%0A%20%20%20%20%20%20%20%20%20%20%20%20%20%20%20%20%20%20%20%20%20%3Cdiv%20style%3D%27margin%3A%200%3B%20background-color%3A%20black%3B%20color%3A%20white%3B%27%3E%3Ch4%20style%3D%27text-align%3Acenter%3Bfont-weight%3A%20bold%27%3EIreland%3C/h4%3E%3Chr%20style%3D%27margin%3A10px%3Bcolor%3A%20white%3B%27%3E%3Cul%20style%3D%27color%3A%20white%3B%3Blist-style-type%3Acircle%3Balign-item%3Aleft%3Bpadding-left%3A20px%3Bpadding-right%3A20px%27%3E%3Cli%3EConfirmed%3A%20250672%3C/li%3E%3Cli%3EDeaths%3A%20%20%2073219%3C/li%3E%3Cli%3EDeath%20Rate%3A%2029.21%3C/li%3E%3C/ul%3E%3C/div%3E%0A%20%20%20%20%20%20%20%20%20%20%20%20%20%20%20%20%20%3C/div%3E%60%2C%0A%20%20%20%20%20%20%20%20%20%20%20%20%20%20%20%20%7B%22sticky%22%3A%20true%7D%0A%20%20%20%20%20%20%20%20%20%20%20%20%29%3B%0A%20%20%20%20%20%20%20%20%0A%20%20%20%20%0A%20%20%20%20%20%20%20%20%20%20%20%20var%20circle_3e370c51f6a945dfaa1ea5d2d14f904f%20%3D%20L.circle%28%0A%20%20%20%20%20%20%20%20%20%20%20%20%20%20%20%20%5B31.046051000000002%2C%2034.851612%5D%2C%0A%20%20%20%20%20%20%20%20%20%20%20%20%20%20%20%20%7B%22bubblingMouseEvents%22%3A%20true%2C%20%22color%22%3A%20%22red%22%2C%20%22dashArray%22%3A%20null%2C%20%22dashOffset%22%3A%20null%2C%20%22fill%22%3A%20true%2C%20%22fillColor%22%3A%20%22indigo%22%2C%20%22fillOpacity%22%3A%200.2%2C%20%22fillRule%22%3A%20%22evenodd%22%2C%20%22lineCap%22%3A%20%22round%22%2C%20%22lineJoin%22%3A%20%22round%22%2C%20%22opacity%22%3A%201.0%2C%20%22radius%22%3A%2066000.0%2C%20%22stroke%22%3A%20true%2C%20%22weight%22%3A%203%7D%0A%20%20%20%20%20%20%20%20%20%20%20%20%29.addTo%28map_aebf8a811f48491ea9853ca070daf374%29%3B%0A%20%20%20%20%20%20%20%20%0A%20%20%20%20%0A%20%20%20%20%20%20%20%20%20%20%20%20circle_3e370c51f6a945dfaa1ea5d2d14f904f.bindTooltip%28%0A%20%20%20%20%20%20%20%20%20%20%20%20%20%20%20%20%60%3Cdiv%3E%0A%20%20%20%20%20%20%20%20%20%20%20%20%20%20%20%20%20%20%20%20%20%3Cdiv%20style%3D%27margin%3A%200%3B%20background-color%3A%20black%3B%20color%3A%20white%3B%27%3E%3Ch4%20style%3D%27text-align%3Acenter%3Bfont-weight%3A%20bold%27%3EIsrael%3C/h4%3E%3Chr%20style%3D%27margin%3A10px%3Bcolor%3A%20white%3B%27%3E%3Cul%20style%3D%27color%3A%20white%3B%3Blist-style-type%3Acircle%3Balign-item%3Aleft%3Bpadding-left%3A20px%3Bpadding-right%3A20px%27%3E%3Cli%3EConfirmed%3A%20838697%3C/li%3E%3Cli%3EDeaths%3A%20%20%2015608%3C/li%3E%3Cli%3EDeath%20Rate%3A%201.86%3C/li%3E%3C/ul%3E%3C/div%3E%0A%20%20%20%20%20%20%20%20%20%20%20%20%20%20%20%20%20%3C/div%3E%60%2C%0A%20%20%20%20%20%20%20%20%20%20%20%20%20%20%20%20%7B%22sticky%22%3A%20true%7D%0A%20%20%20%20%20%20%20%20%20%20%20%20%29%3B%0A%20%20%20%20%20%20%20%20%0A%20%20%20%20%0A%20%20%20%20%20%20%20%20%20%20%20%20var%20circle_3eb654dea3384fe9ae8a6389e9c1413d%20%3D%20L.circle%28%0A%20%20%20%20%20%20%20%20%20%20%20%20%20%20%20%20%5B41.87194%2C%2012.56738%5D%2C%0A%20%20%20%20%20%20%20%20%20%20%20%20%20%20%20%20%7B%22bubblingMouseEvents%22%3A%20true%2C%20%22color%22%3A%20%22red%22%2C%20%22dashArray%22%3A%20null%2C%20%22dashOffset%22%3A%20null%2C%20%22fill%22%3A%20true%2C%20%22fillColor%22%3A%20%22indigo%22%2C%20%22fillOpacity%22%3A%200.2%2C%20%22fillRule%22%3A%20%22evenodd%22%2C%20%22lineCap%22%3A%20%22round%22%2C%20%22lineJoin%22%3A%20%22round%22%2C%20%22opacity%22%3A%201.0%2C%20%22radius%22%3A%2076000.0%2C%20%22stroke%22%3A%20true%2C%20%22weight%22%3A%203%7D%0A%20%20%20%20%20%20%20%20%20%20%20%20%29.addTo%28map_aebf8a811f48491ea9853ca070daf374%29%3B%0A%20%20%20%20%20%20%20%20%0A%20%20%20%20%0A%20%20%20%20%20%20%20%20%20%20%20%20circle_3eb654dea3384fe9ae8a6389e9c1413d.bindTooltip%28%0A%20%20%20%20%20%20%20%20%20%20%20%20%20%20%20%20%60%3Cdiv%3E%0A%20%20%20%20%20%20%20%20%20%20%20%20%20%20%20%20%20%20%20%20%20%3Cdiv%20style%3D%27margin%3A%200%3B%20background-color%3A%20black%3B%20color%3A%20white%3B%27%3E%3Ch4%20style%3D%27text-align%3Acenter%3Bfont-weight%3A%20bold%27%3EItaly%3C/h4%3E%3Chr%20style%3D%27margin%3A10px%3Bcolor%3A%20white%3B%27%3E%3Cul%20style%3D%27color%3A%20white%3B%3Blist-style-type%3Acircle%3Balign-item%3Aleft%3Bpadding-left%3A20px%3Bpadding-right%3A20px%27%3E%3Cli%3EConfirmed%3A%204059821%3C/li%3E%3Cli%3EDeaths%3A%20%20%204908%3C/li%3E%3Cli%3EDeath%20Rate%3A%200.12%3C/li%3E%3C/ul%3E%3C/div%3E%0A%20%20%20%20%20%20%20%20%20%20%20%20%20%20%20%20%20%3C/div%3E%60%2C%0A%20%20%20%20%20%20%20%20%20%20%20%20%20%20%20%20%7B%22sticky%22%3A%20true%7D%0A%20%20%20%20%20%20%20%20%20%20%20%20%29%3B%0A%20%20%20%20%20%20%20%20%0A%20%20%20%20%0A%20%20%20%20%20%20%20%20%20%20%20%20var%20circle_493ab2abee904fdd9e08176e09bbee5a%20%3D%20L.circle%28%0A%20%20%20%20%20%20%20%20%20%20%20%20%20%20%20%20%5B18.1096%2C%20-77.2975%5D%2C%0A%20%20%20%20%20%20%20%20%20%20%20%20%20%20%20%20%7B%22bubblingMouseEvents%22%3A%20true%2C%20%22color%22%3A%20%22red%22%2C%20%22dashArray%22%3A%20null%2C%20%22dashOffset%22%3A%20null%2C%20%22fill%22%3A%20true%2C%20%22fillColor%22%3A%20%22indigo%22%2C%20%22fillOpacity%22%3A%200.2%2C%20%22fillRule%22%3A%20%22evenodd%22%2C%20%22lineCap%22%3A%20%22round%22%2C%20%22lineJoin%22%3A%20%22round%22%2C%20%22opacity%22%3A%201.0%2C%20%22radius%22%3A%2051000.0%2C%20%22stroke%22%3A%20true%2C%20%22weight%22%3A%203%7D%0A%20%20%20%20%20%20%20%20%20%20%20%20%29.addTo%28map_aebf8a811f48491ea9853ca070daf374%29%3B%0A%20%20%20%20%20%20%20%20%0A%20%20%20%20%0A%20%20%20%20%20%20%20%20%20%20%20%20circle_493ab2abee904fdd9e08176e09bbee5a.bindTooltip%28%0A%20%20%20%20%20%20%20%20%20%20%20%20%20%20%20%20%60%3Cdiv%3E%0A%20%20%20%20%20%20%20%20%20%20%20%20%20%20%20%20%20%20%20%20%20%3Cdiv%20style%3D%27margin%3A%200%3B%20background-color%3A%20black%3B%20color%3A%20white%3B%27%3E%3Ch4%20style%3D%27text-align%3Acenter%3Bfont-weight%3A%20bold%27%3EJamaica%3C/h4%3E%3Chr%20style%3D%27margin%3A10px%3Bcolor%3A%20white%3B%27%3E%3Cul%20style%3D%27color%3A%20white%3B%3Blist-style-type%3Acircle%3Balign-item%3Aleft%3Bpadding-left%3A20px%3Bpadding-right%3A20px%27%3E%3Cli%3EConfirmed%3A%2046087%3C/li%3E%3Cli%3EDeaths%3A%20%20%206369%3C/li%3E%3Cli%3EDeath%20Rate%3A%2013.82%3C/li%3E%3C/ul%3E%3C/div%3E%0A%20%20%20%20%20%20%20%20%20%20%20%20%20%20%20%20%20%3C/div%3E%60%2C%0A%20%20%20%20%20%20%20%20%20%20%20%20%20%20%20%20%7B%22sticky%22%3A%20true%7D%0A%20%20%20%20%20%20%20%20%20%20%20%20%29%3B%0A%20%20%20%20%20%20%20%20%0A%20%20%20%20%0A%20%20%20%20%20%20%20%20%20%20%20%20var%20circle_5e876c1bb40b4bd48ef9c56c0f8533f0%20%3D%20L.circle%28%0A%20%20%20%20%20%20%20%20%20%20%20%20%20%20%20%20%5B36.204824%2C%20138.252924%5D%2C%0A%20%20%20%20%20%20%20%20%20%20%20%20%20%20%20%20%7B%22bubblingMouseEvents%22%3A%20true%2C%20%22color%22%3A%20%22red%22%2C%20%22dashArray%22%3A%20null%2C%20%22dashOffset%22%3A%20null%2C%20%22fill%22%3A%20true%2C%20%22fillColor%22%3A%20%22indigo%22%2C%20%22fillOpacity%22%3A%200.2%2C%20%22fillRule%22%3A%20%22evenodd%22%2C%20%22lineCap%22%3A%20%22round%22%2C%20%22lineJoin%22%3A%20%22round%22%2C%20%22opacity%22%3A%201.0%2C%20%22radius%22%3A%2066000.0%2C%20%22stroke%22%3A%20true%2C%20%22weight%22%3A%203%7D%0A%20%20%20%20%20%20%20%20%20%20%20%20%29.addTo%28map_aebf8a811f48491ea9853ca070daf374%29%3B%0A%20%20%20%20%20%20%20%20%0A%20%20%20%20%0A%20%20%20%20%20%20%20%20%20%20%20%20circle_5e876c1bb40b4bd48ef9c56c0f8533f0.bindTooltip%28%0A%20%20%20%20%20%20%20%20%20%20%20%20%20%20%20%20%60%3Cdiv%3E%0A%20%20%20%20%20%20%20%20%20%20%20%20%20%20%20%20%20%20%20%20%20%3Cdiv%20style%3D%27margin%3A%200%3B%20background-color%3A%20black%3B%20color%3A%20white%3B%27%3E%3Ch4%20style%3D%27text-align%3Acenter%3Bfont-weight%3A%20bold%27%3EJapan%3C/h4%3E%3Chr%20style%3D%27margin%3A10px%3Bcolor%3A%20white%3B%27%3E%3Cul%20style%3D%27color%3A%20white%3B%3Blist-style-type%3Acircle%3Balign-item%3Aleft%3Bpadding-left%3A20px%3Bpadding-right%3A20px%27%3E%3Cli%3EConfirmed%3A%20613822%3C/li%3E%3Cli%3EDeaths%3A%20%20%20121738%3C/li%3E%3Cli%3EDeath%20Rate%3A%2019.83%3C/li%3E%3C/ul%3E%3C/div%3E%0A%20%20%20%20%20%20%20%20%20%20%20%20%20%20%20%20%20%3C/div%3E%60%2C%0A%20%20%20%20%20%20%20%20%20%20%20%20%20%20%20%20%7B%22sticky%22%3A%20true%7D%0A%20%20%20%20%20%20%20%20%20%20%20%20%29%3B%0A%20%20%20%20%20%20%20%20%0A%20%20%20%20%0A%20%20%20%20%20%20%20%20%20%20%20%20var%20circle_370eb1a04d4544f88aa8122c39d4cedc%20%3D%20L.circle%28%0A%20%20%20%20%20%20%20%20%20%20%20%20%20%20%20%20%5B31.24%2C%2036.51%5D%2C%0A%20%20%20%20%20%20%20%20%20%20%20%20%20%20%20%20%7B%22bubblingMouseEvents%22%3A%20true%2C%20%22color%22%3A%20%22red%22%2C%20%22dashArray%22%3A%20null%2C%20%22dashOffset%22%3A%20null%2C%20%22fill%22%3A%20true%2C%20%22fillColor%22%3A%20%22indigo%22%2C%20%22fillOpacity%22%3A%200.2%2C%20%22fillRule%22%3A%20%22evenodd%22%2C%20%22lineCap%22%3A%20%22round%22%2C%20%22lineJoin%22%3A%20%22round%22%2C%20%22opacity%22%3A%201.0%2C%20%22radius%22%3A%2066000.0%2C%20%22stroke%22%3A%20true%2C%20%22weight%22%3A%203%7D%0A%20%20%20%20%20%20%20%20%20%20%20%20%29.addTo%28map_aebf8a811f48491ea9853ca070daf374%29%3B%0A%20%20%20%20%20%20%20%20%0A%20%20%20%20%0A%20%20%20%20%20%20%20%20%20%20%20%20circle_370eb1a04d4544f88aa8122c39d4cedc.bindTooltip%28%0A%20%20%20%20%20%20%20%20%20%20%20%20%20%20%20%20%60%3Cdiv%3E%0A%20%20%20%20%20%20%20%20%20%20%20%20%20%20%20%20%20%20%20%20%20%3Cdiv%20style%3D%27margin%3A%200%3B%20background-color%3A%20black%3B%20color%3A%20white%3B%27%3E%3Ch4%20style%3D%27text-align%3Acenter%3Bfont-weight%3A%20bold%27%3EJordan%3C/h4%3E%3Chr%20style%3D%27margin%3A10px%3Bcolor%3A%20white%3B%27%3E%3Cul%20style%3D%27color%3A%20white%3B%3Blist-style-type%3Acircle%3Balign-item%3Aleft%3Bpadding-left%3A20px%3Bpadding-right%3A20px%27%3E%3Cli%3EConfirmed%3A%20715703%3C/li%3E%3Cli%3EDeaths%3A%20%20%20793%3C/li%3E%3Cli%3EDeath%20Rate%3A%200.11%3C/li%3E%3C/ul%3E%3C/div%3E%0A%20%20%20%20%20%20%20%20%20%20%20%20%20%20%20%20%20%3C/div%3E%60%2C%0A%20%20%20%20%20%20%20%20%20%20%20%20%20%20%20%20%7B%22sticky%22%3A%20true%7D%0A%20%20%20%20%20%20%20%20%20%20%20%20%29%3B%0A%20%20%20%20%20%20%20%20%0A%20%20%20%20%0A%20%20%20%20%20%20%20%20%20%20%20%20var%20circle_452d5ff9d5fb49c4ad5771c08c625ac2%20%3D%20L.circle%28%0A%20%20%20%20%20%20%20%20%20%20%20%20%20%20%20%20%5B48.0196%2C%2066.9237%5D%2C%0A%20%20%20%20%20%20%20%20%20%20%20%20%20%20%20%20%7B%22bubblingMouseEvents%22%3A%20true%2C%20%22color%22%3A%20%22red%22%2C%20%22dashArray%22%3A%20null%2C%20%22dashOffset%22%3A%20null%2C%20%22fill%22%3A%20true%2C%20%22fillColor%22%3A%20%22indigo%22%2C%20%22fillOpacity%22%3A%200.2%2C%20%22fillRule%22%3A%20%22evenodd%22%2C%20%22lineCap%22%3A%20%22round%22%2C%20%22lineJoin%22%3A%20%22round%22%2C%20%22opacity%22%3A%201.0%2C%20%22radius%22%3A%2061000.0%2C%20%22stroke%22%3A%20true%2C%20%22weight%22%3A%203%7D%0A%20%20%20%20%20%20%20%20%20%20%20%20%29.addTo%28map_aebf8a811f48491ea9853ca070daf374%29%3B%0A%20%20%20%20%20%20%20%20%0A%20%20%20%20%0A%20%20%20%20%20%20%20%20%20%20%20%20circle_452d5ff9d5fb49c4ad5771c08c625ac2.bindTooltip%28%0A%20%20%20%20%20%20%20%20%20%20%20%20%20%20%20%20%60%3Cdiv%3E%0A%20%20%20%20%20%20%20%20%20%20%20%20%20%20%20%20%20%20%20%20%20%3Cdiv%20style%3D%27margin%3A%200%3B%20background-color%3A%20black%3B%20color%3A%20white%3B%27%3E%3Ch4%20style%3D%27text-align%3Acenter%3Bfont-weight%3A%20bold%27%3EKazakhstan%3C/h4%3E%3Chr%20style%3D%27margin%3A10px%3Bcolor%3A%20white%3B%27%3E%3Cul%20style%3D%27color%3A%20white%3B%3Blist-style-type%3Acircle%3Balign-item%3Aleft%3Bpadding-left%3A20px%3Bpadding-right%3A20px%27%3E%3Cli%3EConfirmed%3A%20385491%3C/li%3E%3Cli%3EDeaths%3A%20%20%2010441%3C/li%3E%3Cli%3EDeath%20Rate%3A%202.71%3C/li%3E%3C/ul%3E%3C/div%3E%0A%20%20%20%20%20%20%20%20%20%20%20%20%20%20%20%20%20%3C/div%3E%60%2C%0A%20%20%20%20%20%20%20%20%20%20%20%20%20%20%20%20%7B%22sticky%22%3A%20true%7D%0A%20%20%20%20%20%20%20%20%20%20%20%20%29%3B%0A%20%20%20%20%20%20%20%20%0A%20%20%20%20%0A%20%20%20%20%20%20%20%20%20%20%20%20var%20circle_ae259d815a544bb7855bb0bbba8ddc3a%20%3D%20L.circle%28%0A%20%20%20%20%20%20%20%20%20%20%20%20%20%20%20%20%5B-0.0236%2C%2037.9062%5D%2C%0A%20%20%20%20%20%20%20%20%20%20%20%20%20%20%20%20%7B%22bubblingMouseEvents%22%3A%20true%2C%20%22color%22%3A%20%22red%22%2C%20%22dashArray%22%3A%20null%2C%20%22dashOffset%22%3A%20null%2C%20%22fill%22%3A%20true%2C%20%22fillColor%22%3A%20%22indigo%22%2C%20%22fillOpacity%22%3A%200.2%2C%20%22fillRule%22%3A%20%22evenodd%22%2C%20%22lineCap%22%3A%20%22round%22%2C%20%22lineJoin%22%3A%20%22round%22%2C%20%22opacity%22%3A%201.0%2C%20%22radius%22%3A%2056000.0%2C%20%22stroke%22%3A%20true%2C%20%22weight%22%3A%203%7D%0A%20%20%20%20%20%20%20%20%20%20%20%20%29.addTo%28map_aebf8a811f48491ea9853ca070daf374%29%3B%0A%20%20%20%20%20%20%20%20%0A%20%20%20%20%0A%20%20%20%20%20%20%20%20%20%20%20%20circle_ae259d815a544bb7855bb0bbba8ddc3a.bindTooltip%28%0A%20%20%20%20%20%20%20%20%20%20%20%20%20%20%20%20%60%3Cdiv%3E%0A%20%20%20%20%20%20%20%20%20%20%20%20%20%20%20%20%20%20%20%20%20%3Cdiv%20style%3D%27margin%3A%200%3B%20background-color%3A%20black%3B%20color%3A%20white%3B%27%3E%3Ch4%20style%3D%27text-align%3Acenter%3Bfont-weight%3A%20bold%27%3EKenya%3C/h4%3E%3Chr%20style%3D%27margin%3A10px%3Bcolor%3A%20white%3B%27%3E%3Cul%20style%3D%27color%3A%20white%3B%3Blist-style-type%3Acircle%3Balign-item%3Aleft%3Bpadding-left%3A20px%3Bpadding-right%3A20px%27%3E%3Cli%3EConfirmed%3A%20160904%3C/li%3E%3Cli%3EDeaths%3A%20%20%208955%3C/li%3E%3Cli%3EDeath%20Rate%3A%205.57%3C/li%3E%3C/ul%3E%3C/div%3E%0A%20%20%20%20%20%20%20%20%20%20%20%20%20%20%20%20%20%3C/div%3E%60%2C%0A%20%20%20%20%20%20%20%20%20%20%20%20%20%20%20%20%7B%22sticky%22%3A%20true%7D%0A%20%20%20%20%20%20%20%20%20%20%20%20%29%3B%0A%20%20%20%20%20%20%20%20%0A%20%20%20%20%0A%20%20%20%20%20%20%20%20%20%20%20%20var%20circle_d8959e8e59774c4f831e01d8a8f3b054%20%3D%20L.circle%28%0A%20%20%20%20%20%20%20%20%20%20%20%20%20%20%20%20%5B35.907757000000004%2C%20127.766922%5D%2C%0A%20%20%20%20%20%20%20%20%20%20%20%20%20%20%20%20%7B%22bubblingMouseEvents%22%3A%20true%2C%20%22color%22%3A%20%22red%22%2C%20%22dashArray%22%3A%20null%2C%20%22dashOffset%22%3A%20null%2C%20%22fill%22%3A%20true%2C%20%22fillColor%22%3A%20%22indigo%22%2C%20%22fillOpacity%22%3A%200.2%2C%20%22fillRule%22%3A%20%22evenodd%22%2C%20%22lineCap%22%3A%20%22round%22%2C%20%22lineJoin%22%3A%20%22round%22%2C%20%22opacity%22%3A%201.0%2C%20%22radius%22%3A%2056000.0%2C%20%22stroke%22%3A%20true%2C%20%22weight%22%3A%203%7D%0A%20%20%20%20%20%20%20%20%20%20%20%20%29.addTo%28map_aebf8a811f48491ea9853ca070daf374%29%3B%0A%20%20%20%20%20%20%20%20%0A%20%20%20%20%0A%20%20%20%20%20%20%20%20%20%20%20%20circle_d8959e8e59774c4f831e01d8a8f3b054.bindTooltip%28%0A%20%20%20%20%20%20%20%20%20%20%20%20%20%20%20%20%60%3Cdiv%3E%0A%20%20%20%20%20%20%20%20%20%20%20%20%20%20%20%20%20%20%20%20%20%3Cdiv%20style%3D%27margin%3A%200%3B%20background-color%3A%20black%3B%20color%3A%20white%3B%27%3E%3Ch4%20style%3D%27text-align%3Acenter%3Bfont-weight%3A%20bold%27%3EKorea%2C%20South%3C/h4%3E%3Chr%20style%3D%27margin%3A10px%3Bcolor%3A%20white%3B%27%3E%3Cul%20style%3D%27color%3A%20white%3B%3Blist-style-type%3Acircle%3Balign-item%3Aleft%3Bpadding-left%3A20px%3Bpadding-right%3A20px%27%3E%3Cli%3EConfirmed%3A%20124945%3C/li%3E%3Cli%3EDeaths%3A%20%20%203357%3C/li%3E%3Cli%3EDeath%20Rate%3A%202.69%3C/li%3E%3C/ul%3E%3C/div%3E%0A%20%20%20%20%20%20%20%20%20%20%20%20%20%20%20%20%20%3C/div%3E%60%2C%0A%20%20%20%20%20%20%20%20%20%20%20%20%20%20%20%20%7B%22sticky%22%3A%20true%7D%0A%20%20%20%20%20%20%20%20%20%20%20%20%29%3B%0A%20%20%20%20%20%20%20%20%0A%20%20%20%20%0A%20%20%20%20%20%20%20%20%20%20%20%20var%20circle_fc79d099a3c34c1bb84505dc83442d2e%20%3D%20L.circle%28%0A%20%20%20%20%20%20%20%20%20%20%20%20%20%20%20%20%5B42.602636%2C%2020.902977%5D%2C%0A%20%20%20%20%20%20%20%20%20%20%20%20%20%20%20%20%7B%22bubblingMouseEvents%22%3A%20true%2C%20%22color%22%3A%20%22red%22%2C%20%22dashArray%22%3A%20null%2C%20%22dashOffset%22%3A%20null%2C%20%22fill%22%3A%20true%2C%20%22fillColor%22%3A%20%22indigo%22%2C%20%22fillOpacity%22%3A%200.2%2C%20%22fillRule%22%3A%20%22evenodd%22%2C%20%22lineCap%22%3A%20%22round%22%2C%20%22lineJoin%22%3A%20%22round%22%2C%20%22opacity%22%3A%201.0%2C%20%22radius%22%3A%2056000.0%2C%20%22stroke%22%3A%20true%2C%20%22weight%22%3A%203%7D%0A%20%20%20%20%20%20%20%20%20%20%20%20%29.addTo%28map_aebf8a811f48491ea9853ca070daf374%29%3B%0A%20%20%20%20%20%20%20%20%0A%20%20%20%20%0A%20%20%20%20%20%20%20%20%20%20%20%20circle_fc79d099a3c34c1bb84505dc83442d2e.bindTooltip%28%0A%20%20%20%20%20%20%20%20%20%20%20%20%20%20%20%20%60%3Cdiv%3E%0A%20%20%20%20%20%20%20%20%20%20%20%20%20%20%20%20%20%20%20%20%20%3Cdiv%20style%3D%27margin%3A%200%3B%20background-color%3A%20black%3B%20color%3A%20white%3B%27%3E%3Ch4%20style%3D%27text-align%3Acenter%3Bfont-weight%3A%20bold%27%3EKosovo%3C/h4%3E%3Chr%20style%3D%27margin%3A10px%3Bcolor%3A%20white%3B%27%3E%3Cul%20style%3D%27color%3A%20white%3B%3Blist-style-type%3Acircle%3Balign-item%3Aleft%3Bpadding-left%3A20px%3Bpadding-right%3A20px%27%3E%3Cli%3EConfirmed%3A%20103638%3C/li%3E%3Cli%3EDeaths%3A%20%20%202805%3C/li%3E%3Cli%3EDeath%20Rate%3A%202.71%3C/li%3E%3C/ul%3E%3C/div%3E%0A%20%20%20%20%20%20%20%20%20%20%20%20%20%20%20%20%20%3C/div%3E%60%2C%0A%20%20%20%20%20%20%20%20%20%20%20%20%20%20%20%20%7B%22sticky%22%3A%20true%7D%0A%20%20%20%20%20%20%20%20%20%20%20%20%29%3B%0A%20%20%20%20%20%20%20%20%0A%20%20%20%20%0A%20%20%20%20%20%20%20%20%20%20%20%20var%20circle_92913bb7cffa4fd88aa2e0714114dadf%20%3D%20L.circle%28%0A%20%20%20%20%20%20%20%20%20%20%20%20%20%20%20%20%5B29.311659999999996%2C%2047.481766%5D%2C%0A%20%20%20%20%20%20%20%20%20%20%20%20%20%20%20%20%7B%22bubblingMouseEvents%22%3A%20true%2C%20%22color%22%3A%20%22red%22%2C%20%22dashArray%22%3A%20null%2C%20%22dashOffset%22%3A%20null%2C%20%22fill%22%3A%20true%2C%20%22fillColor%22%3A%20%22indigo%22%2C%20%22fillOpacity%22%3A%200.2%2C%20%22fillRule%22%3A%20%22evenodd%22%2C%20%22lineCap%22%3A%20%22round%22%2C%20%22lineJoin%22%3A%20%22round%22%2C%20%22opacity%22%3A%201.0%2C%20%22radius%22%3A%2061000.0%2C%20%22stroke%22%3A%20true%2C%20%22weight%22%3A%203%7D%0A%20%20%20%20%20%20%20%20%20%20%20%20%29.addTo%28map_aebf8a811f48491ea9853ca070daf374%29%3B%0A%20%20%20%20%20%20%20%20%0A%20%20%20%20%0A%20%20%20%20%20%20%20%20%20%20%20%20circle_92913bb7cffa4fd88aa2e0714114dadf.bindTooltip%28%0A%20%20%20%20%20%20%20%20%20%20%20%20%20%20%20%20%60%3Cdiv%3E%0A%20%20%20%20%20%20%20%20%20%20%20%20%20%20%20%20%20%20%20%20%20%3Cdiv%20style%3D%27margin%3A%200%3B%20background-color%3A%20black%3B%20color%3A%20white%3B%27%3E%3Ch4%20style%3D%27text-align%3Acenter%3Bfont-weight%3A%20bold%27%3EKuwait%3C/h4%3E%3Chr%20style%3D%27margin%3A10px%3Bcolor%3A%20white%3B%27%3E%3Cul%20style%3D%27color%3A%20white%3B%3Blist-style-type%3Acircle%3Balign-item%3Aleft%3Bpadding-left%3A20px%3Bpadding-right%3A20px%27%3E%3Cli%3EConfirmed%3A%20279085%3C/li%3E%3Cli%3EDeaths%3A%20%20%201847%3C/li%3E%3Cli%3EDeath%20Rate%3A%200.66%3C/li%3E%3C/ul%3E%3C/div%3E%0A%20%20%20%20%20%20%20%20%20%20%20%20%20%20%20%20%20%3C/div%3E%60%2C%0A%20%20%20%20%20%20%20%20%20%20%20%20%20%20%20%20%7B%22sticky%22%3A%20true%7D%0A%20%20%20%20%20%20%20%20%20%20%20%20%29%3B%0A%20%20%20%20%20%20%20%20%0A%20%20%20%20%0A%20%20%20%20%20%20%20%20%20%20%20%20var%20circle_3f9b32921a074ac1ae4ee5640cf15814%20%3D%20L.circle%28%0A%20%20%20%20%20%20%20%20%20%20%20%20%20%20%20%20%5B41.20438%2C%2074.766098%5D%2C%0A%20%20%20%20%20%20%20%20%20%20%20%20%20%20%20%20%7B%22bubblingMouseEvents%22%3A%20true%2C%20%22color%22%3A%20%22red%22%2C%20%22dashArray%22%3A%20null%2C%20%22dashOffset%22%3A%20null%2C%20%22fill%22%3A%20true%2C%20%22fillColor%22%3A%20%22indigo%22%2C%20%22fillOpacity%22%3A%200.2%2C%20%22fillRule%22%3A%20%22evenodd%22%2C%20%22lineCap%22%3A%20%22round%22%2C%20%22lineJoin%22%3A%20%22round%22%2C%20%22opacity%22%3A%201.0%2C%20%22radius%22%3A%2056000.0%2C%20%22stroke%22%3A%20true%2C%20%22weight%22%3A%203%7D%0A%20%20%20%20%20%20%20%20%20%20%20%20%29.addTo%28map_aebf8a811f48491ea9853ca070daf374%29%3B%0A%20%20%20%20%20%20%20%20%0A%20%20%20%20%0A%20%20%20%20%20%20%20%20%20%20%20%20circle_3f9b32921a074ac1ae4ee5640cf15814.bindTooltip%28%0A%20%20%20%20%20%20%20%20%20%20%20%20%20%20%20%20%60%3Cdiv%3E%0A%20%20%20%20%20%20%20%20%20%20%20%20%20%20%20%20%20%20%20%20%20%3Cdiv%20style%3D%27margin%3A%200%3B%20background-color%3A%20black%3B%20color%3A%20white%3B%27%3E%3Ch4%20style%3D%27text-align%3Acenter%3Bfont-weight%3A%20bold%27%3EKyrgyzstan%3C/h4%3E%3Chr%20style%3D%27margin%3A10px%3Bcolor%3A%20white%3B%27%3E%3Cul%20style%3D%27color%3A%20white%3B%3Blist-style-type%3Acircle%3Balign-item%3Aleft%3Bpadding-left%3A20px%3Bpadding-right%3A20px%27%3E%3Cli%3EConfirmed%3A%2096561%3C/li%3E%3Cli%3EDeaths%3A%20%20%202134%3C/li%3E%3Cli%3EDeath%20Rate%3A%202.21%3C/li%3E%3C/ul%3E%3C/div%3E%0A%20%20%20%20%20%20%20%20%20%20%20%20%20%20%20%20%20%3C/div%3E%60%2C%0A%20%20%20%20%20%20%20%20%20%20%20%20%20%20%20%20%7B%22sticky%22%3A%20true%7D%0A%20%20%20%20%20%20%20%20%20%20%20%20%29%3B%0A%20%20%20%20%20%20%20%20%0A%20%20%20%20%0A%20%20%20%20%20%20%20%20%20%20%20%20var%20circle_f46a44529a6b403aa97c5fd4fc5ffadd%20%3D%20L.circle%28%0A%20%20%20%20%20%20%20%20%20%20%20%20%20%20%20%20%5B19.856270000000002%2C%20102.495496%5D%2C%0A%20%20%20%20%20%20%20%20%20%20%20%20%20%20%20%20%7B%22bubblingMouseEvents%22%3A%20true%2C%20%22color%22%3A%20%22red%22%2C%20%22dashArray%22%3A%20null%2C%20%22dashOffset%22%3A%20null%2C%20%22fill%22%3A%20true%2C%20%22fillColor%22%3A%20%22indigo%22%2C%20%22fillOpacity%22%3A%200.2%2C%20%22fillRule%22%3A%20%22evenodd%22%2C%20%22lineCap%22%3A%20%22round%22%2C%20%22lineJoin%22%3A%20%22round%22%2C%20%22opacity%22%3A%201.0%2C%20%22radius%22%3A%2031000.0%2C%20%22stroke%22%3A%20true%2C%20%22weight%22%3A%203%7D%0A%20%20%20%20%20%20%20%20%20%20%20%20%29.addTo%28map_aebf8a811f48491ea9853ca070daf374%29%3B%0A%20%20%20%20%20%20%20%20%0A%20%20%20%20%0A%20%20%20%20%20%20%20%20%20%20%20%20circle_f46a44529a6b403aa97c5fd4fc5ffadd.bindTooltip%28%0A%20%20%20%20%20%20%20%20%20%20%20%20%20%20%20%20%60%3Cdiv%3E%0A%20%20%20%20%20%20%20%20%20%20%20%20%20%20%20%20%20%20%20%20%20%3Cdiv%20style%3D%27margin%3A%200%3B%20background-color%3A%20black%3B%20color%3A%20white%3B%27%3E%3Ch4%20style%3D%27text-align%3Acenter%3Bfont-weight%3A%20bold%27%3ELaos%3C/h4%3E%3Chr%20style%3D%27margin%3A10px%3Bcolor%3A%20white%3B%27%3E%3Cul%20style%3D%27color%3A%20white%3B%3Blist-style-type%3Acircle%3Balign-item%3Aleft%3Bpadding-left%3A20px%3Bpadding-right%3A20px%27%3E%3Cli%3EConfirmed%3A%201026%3C/li%3E%3Cli%3EDeaths%3A%20%20%201601%3C/li%3E%3Cli%3EDeath%20Rate%3A%20155.89%3C/li%3E%3C/ul%3E%3C/div%3E%0A%20%20%20%20%20%20%20%20%20%20%20%20%20%20%20%20%20%3C/div%3E%60%2C%0A%20%20%20%20%20%20%20%20%20%20%20%20%20%20%20%20%7B%22sticky%22%3A%20true%7D%0A%20%20%20%20%20%20%20%20%20%20%20%20%29%3B%0A%20%20%20%20%20%20%20%20%0A%20%20%20%20%0A%20%20%20%20%20%20%20%20%20%20%20%20var%20circle_eddc8c37d7234e5ca1d19e4d2014d813%20%3D%20L.circle%28%0A%20%20%20%20%20%20%20%20%20%20%20%20%20%20%20%20%5B56.8796%2C%2024.6032%5D%2C%0A%20%20%20%20%20%20%20%20%20%20%20%20%20%20%20%20%7B%22bubblingMouseEvents%22%3A%20true%2C%20%22color%22%3A%20%22red%22%2C%20%22dashArray%22%3A%20null%2C%20%22dashOffset%22%3A%20null%2C%20%22fill%22%3A%20true%2C%20%22fillColor%22%3A%20%22indigo%22%2C%20%22fillOpacity%22%3A%200.2%2C%20%22fillRule%22%3A%20%22evenodd%22%2C%20%22lineCap%22%3A%20%22round%22%2C%20%22lineJoin%22%3A%20%22round%22%2C%20%22opacity%22%3A%201.0%2C%20%22radius%22%3A%2056000.0%2C%20%22stroke%22%3A%20true%2C%20%22weight%22%3A%203%7D%0A%20%20%20%20%20%20%20%20%20%20%20%20%29.addTo%28map_aebf8a811f48491ea9853ca070daf374%29%3B%0A%20%20%20%20%20%20%20%20%0A%20%20%20%20%0A%20%20%20%20%20%20%20%20%20%20%20%20circle_eddc8c37d7234e5ca1d19e4d2014d813.bindTooltip%28%0A%20%20%20%20%20%20%20%20%20%20%20%20%20%20%20%20%60%3Cdiv%3E%0A%20%20%20%20%20%20%20%20%20%20%20%20%20%20%20%20%20%20%20%20%20%3Cdiv%20style%3D%27margin%3A%200%3B%20background-color%3A%20black%3B%20color%3A%20white%3B%27%3E%3Ch4%20style%3D%27text-align%3Acenter%3Bfont-weight%3A%20bold%27%3ELatvia%3C/h4%3E%3Chr%20style%3D%27margin%3A10px%3Bcolor%3A%20white%3B%27%3E%3Cul%20style%3D%27color%3A%20white%3B%3Blist-style-type%3Acircle%3Balign-item%3Aleft%3Bpadding-left%3A20px%3Bpadding-right%3A20px%27%3E%3Cli%3EConfirmed%3A%20120378%3C/li%3E%3Cli%3EDeaths%3A%20%20%201630%3C/li%3E%3Cli%3EDeath%20Rate%3A%201.35%3C/li%3E%3C/ul%3E%3C/div%3E%0A%20%20%20%20%20%20%20%20%20%20%20%20%20%20%20%20%20%3C/div%3E%60%2C%0A%20%20%20%20%20%20%20%20%20%20%20%20%20%20%20%20%7B%22sticky%22%3A%20true%7D%0A%20%20%20%20%20%20%20%20%20%20%20%20%29%3B%0A%20%20%20%20%20%20%20%20%0A%20%20%20%20%0A%20%20%20%20%20%20%20%20%20%20%20%20var%20circle_2cba9d3a097740e094665102d61e69a8%20%3D%20L.circle%28%0A%20%20%20%20%20%20%20%20%20%20%20%20%20%20%20%20%5B33.8547%2C%2035.8623%5D%2C%0A%20%20%20%20%20%20%20%20%20%20%20%20%20%20%20%20%7B%22bubblingMouseEvents%22%3A%20true%2C%20%22color%22%3A%20%22red%22%2C%20%22dashArray%22%3A%20null%2C%20%22dashOffset%22%3A%20null%2C%20%22fill%22%3A%20true%2C%20%22fillColor%22%3A%20%22indigo%22%2C%20%22fillOpacity%22%3A%200.2%2C%20%22fillRule%22%3A%20%22evenodd%22%2C%20%22lineCap%22%3A%20%22round%22%2C%20%22lineJoin%22%3A%20%22round%22%2C%20%22opacity%22%3A%201.0%2C%20%22radius%22%3A%2066000.0%2C%20%22stroke%22%3A%20true%2C%20%22weight%22%3A%203%7D%0A%20%20%20%20%20%20%20%20%20%20%20%20%29.addTo%28map_aebf8a811f48491ea9853ca070daf374%29%3B%0A%20%20%20%20%20%20%20%20%0A%20%20%20%20%0A%20%20%20%20%20%20%20%20%20%20%20%20circle_2cba9d3a097740e094665102d61e69a8.bindTooltip%28%0A%20%20%20%20%20%20%20%20%20%20%20%20%20%20%20%20%60%3Cdiv%3E%0A%20%20%20%20%20%20%20%20%20%20%20%20%20%20%20%20%20%20%20%20%20%3Cdiv%20style%3D%27margin%3A%200%3B%20background-color%3A%20black%3B%20color%3A%20white%3B%27%3E%3Ch4%20style%3D%27text-align%3Acenter%3Bfont-weight%3A%20bold%27%3ELebanon%3C/h4%3E%3Chr%20style%3D%27margin%3A10px%3Bcolor%3A%20white%3B%27%3E%3Cul%20style%3D%27color%3A%20white%3B%3Blist-style-type%3Acircle%3Balign-item%3Aleft%3Bpadding-left%3A20px%3Bpadding-right%3A20px%27%3E%3Cli%3EConfirmed%3A%20529205%3C/li%3E%3Cli%3EDeaths%3A%20%20%200%3C/li%3E%3Cli%3EDeath%20Rate%3A%200.0%3C/li%3E%3C/ul%3E%3C/div%3E%0A%20%20%20%20%20%20%20%20%20%20%20%20%20%20%20%20%20%3C/div%3E%60%2C%0A%20%20%20%20%20%20%20%20%20%20%20%20%20%20%20%20%7B%22sticky%22%3A%20true%7D%0A%20%20%20%20%20%20%20%20%20%20%20%20%29%3B%0A%20%20%20%20%20%20%20%20%0A%20%20%20%20%0A%20%20%20%20%20%20%20%20%20%20%20%20var%20circle_a99af9c84a534ba1beb828e4b77b5f1c%20%3D%20L.circle%28%0A%20%20%20%20%20%20%20%20%20%20%20%20%20%20%20%20%5B-29.61%2C%2028.2336%5D%2C%0A%20%20%20%20%20%20%20%20%20%20%20%20%20%20%20%20%7B%22bubblingMouseEvents%22%3A%20true%2C%20%22color%22%3A%20%22red%22%2C%20%22dashArray%22%3A%20null%2C%20%22dashOffset%22%3A%20null%2C%20%22fill%22%3A%20true%2C%20%22fillColor%22%3A%20%22indigo%22%2C%20%22fillOpacity%22%3A%200.2%2C%20%22fillRule%22%3A%20%22evenodd%22%2C%20%22lineCap%22%3A%20%22round%22%2C%20%22lineJoin%22%3A%20%22round%22%2C%20%22opacity%22%3A%201.0%2C%20%22radius%22%3A%2046000.0%2C%20%22stroke%22%3A%20true%2C%20%22weight%22%3A%203%7D%0A%20%20%20%20%20%20%20%20%20%20%20%20%29.addTo%28map_aebf8a811f48491ea9853ca070daf374%29%3B%0A%20%20%20%20%20%20%20%20%0A%20%20%20%20%0A%20%20%20%20%20%20%20%20%20%20%20%20circle_a99af9c84a534ba1beb828e4b77b5f1c.bindTooltip%28%0A%20%20%20%20%20%20%20%20%20%20%20%20%20%20%20%20%60%3Cdiv%3E%0A%20%20%20%20%20%20%20%20%20%20%20%20%20%20%20%20%20%20%20%20%20%3Cdiv%20style%3D%27margin%3A%200%3B%20background-color%3A%20black%3B%20color%3A%20white%3B%27%3E%3Ch4%20style%3D%27text-align%3Acenter%3Bfont-weight%3A%20bold%27%3ELesotho%3C/h4%3E%3Chr%20style%3D%27margin%3A10px%3Bcolor%3A%20white%3B%27%3E%3Cul%20style%3D%27color%3A%20white%3B%3Blist-style-type%3Acircle%3Balign-item%3Aleft%3Bpadding-left%3A20px%3Bpadding-right%3A20px%27%3E%3Cli%3EConfirmed%3A%2010733%3C/li%3E%3Cli%3EDeaths%3A%20%20%202159%3C/li%3E%3Cli%3EDeath%20Rate%3A%2020.11%3C/li%3E%3C/ul%3E%3C/div%3E%0A%20%20%20%20%20%20%20%20%20%20%20%20%20%20%20%20%20%3C/div%3E%60%2C%0A%20%20%20%20%20%20%20%20%20%20%20%20%20%20%20%20%7B%22sticky%22%3A%20true%7D%0A%20%20%20%20%20%20%20%20%20%20%20%20%29%3B%0A%20%20%20%20%20%20%20%20%0A%20%20%20%20%0A%20%20%20%20%20%20%20%20%20%20%20%20var%20circle_7f69b1ef142e42328ba62778107b90c9%20%3D%20L.circle%28%0A%20%20%20%20%20%20%20%20%20%20%20%20%20%20%20%20%5B6.4280550000000005%2C%20-9.429499%5D%2C%0A%20%20%20%20%20%20%20%20%20%20%20%20%20%20%20%20%7B%22bubblingMouseEvents%22%3A%20true%2C%20%22color%22%3A%20%22red%22%2C%20%22dashArray%22%3A%20null%2C%20%22dashOffset%22%3A%20null%2C%20%22fill%22%3A%20true%2C%20%22fillColor%22%3A%20%22indigo%22%2C%20%22fillOpacity%22%3A%200.2%2C%20%22fillRule%22%3A%20%22evenodd%22%2C%20%22lineCap%22%3A%20%22round%22%2C%20%22lineJoin%22%3A%20%22round%22%2C%20%22opacity%22%3A%201.0%2C%20%22radius%22%3A%2036000.0%2C%20%22stroke%22%3A%20true%2C%20%22weight%22%3A%203%7D%0A%20%20%20%20%20%20%20%20%20%20%20%20%29.addTo%28map_aebf8a811f48491ea9853ca070daf374%29%3B%0A%20%20%20%20%20%20%20%20%0A%20%20%20%20%0A%20%20%20%20%20%20%20%20%20%20%20%20circle_7f69b1ef142e42328ba62778107b90c9.bindTooltip%28%0A%20%20%20%20%20%20%20%20%20%20%20%20%20%20%20%20%60%3Cdiv%3E%0A%20%20%20%20%20%20%20%20%20%20%20%20%20%20%20%20%20%20%20%20%20%3Cdiv%20style%3D%27margin%3A%200%3B%20background-color%3A%20black%3B%20color%3A%20white%3B%27%3E%3Ch4%20style%3D%27text-align%3Acenter%3Bfont-weight%3A%20bold%27%3ELiberia%3C/h4%3E%3Chr%20style%3D%27margin%3A10px%3Bcolor%3A%20white%3B%27%3E%3Cul%20style%3D%27color%3A%20white%3B%3Blist-style-type%3Acircle%3Balign-item%3Aleft%3Bpadding-left%3A20px%3Bpadding-right%3A20px%27%3E%3Cli%3EConfirmed%3A%202110%3C/li%3E%3Cli%3EDeaths%3A%20%20%207368%3C/li%3E%3Cli%3EDeath%20Rate%3A%20349.03%3C/li%3E%3C/ul%3E%3C/div%3E%0A%20%20%20%20%20%20%20%20%20%20%20%20%20%20%20%20%20%3C/div%3E%60%2C%0A%20%20%20%20%20%20%20%20%20%20%20%20%20%20%20%20%7B%22sticky%22%3A%20true%7D%0A%20%20%20%20%20%20%20%20%20%20%20%20%29%3B%0A%20%20%20%20%20%20%20%20%0A%20%20%20%20%0A%20%20%20%20%20%20%20%20%20%20%20%20var%20circle_104b4009ab02451b8523be51294c8266%20%3D%20L.circle%28%0A%20%20%20%20%20%20%20%20%20%20%20%20%20%20%20%20%5B26.3351%2C%2017.228331%5D%2C%0A%20%20%20%20%20%20%20%20%20%20%20%20%20%20%20%20%7B%22bubblingMouseEvents%22%3A%20true%2C%20%22color%22%3A%20%22red%22%2C%20%22dashArray%22%3A%20null%2C%20%22dashOffset%22%3A%20null%2C%20%22fill%22%3A%20true%2C%20%22fillColor%22%3A%20%22indigo%22%2C%20%22fillOpacity%22%3A%200.2%2C%20%22fillRule%22%3A%20%22evenodd%22%2C%20%22lineCap%22%3A%20%22round%22%2C%20%22lineJoin%22%3A%20%22round%22%2C%20%22opacity%22%3A%201.0%2C%20%22radius%22%3A%2061000.0%2C%20%22stroke%22%3A%20true%2C%20%22weight%22%3A%203%7D%0A%20%20%20%20%20%20%20%20%20%20%20%20%29.addTo%28map_aebf8a811f48491ea9853ca070daf374%29%3B%0A%20%20%20%20%20%20%20%20%0A%20%20%20%20%0A%20%20%20%20%20%20%20%20%20%20%20%20circle_104b4009ab02451b8523be51294c8266.bindTooltip%28%0A%20%20%20%20%20%20%20%20%20%20%20%20%20%20%20%20%60%3Cdiv%3E%0A%20%20%20%20%20%20%20%20%20%20%20%20%20%20%20%20%20%20%20%20%20%3Cdiv%20style%3D%27margin%3A%200%3B%20background-color%3A%20black%3B%20color%3A%20white%3B%27%3E%3Ch4%20style%3D%27text-align%3Acenter%3Bfont-weight%3A%20bold%27%3ELibya%3C/h4%3E%3Chr%20style%3D%27margin%3A10px%3Bcolor%3A%20white%3B%27%3E%3Cul%20style%3D%27color%3A%20white%3B%3Blist-style-type%3Acircle%3Balign-item%3Aleft%3Bpadding-left%3A20px%3Bpadding-right%3A20px%27%3E%3Cli%3EConfirmed%3A%20178672%3C/li%3E%3Cli%3EDeaths%3A%20%20%20318%3C/li%3E%3Cli%3EDeath%20Rate%3A%200.18%3C/li%3E%3C/ul%3E%3C/div%3E%0A%20%20%20%20%20%20%20%20%20%20%20%20%20%20%20%20%20%3C/div%3E%60%2C%0A%20%20%20%20%20%20%20%20%20%20%20%20%20%20%20%20%7B%22sticky%22%3A%20true%7D%0A%20%20%20%20%20%20%20%20%20%20%20%20%29%3B%0A%20%20%20%20%20%20%20%20%0A%20%20%20%20%0A%20%20%20%20%20%20%20%20%20%20%20%20var%20circle_df7300a40d164526b98652dfb6ba63d7%20%3D%20L.circle%28%0A%20%20%20%20%20%20%20%20%20%20%20%20%20%20%20%20%5B47.14%2C%209.55%5D%2C%0A%20%20%20%20%20%20%20%20%20%20%20%20%20%20%20%20%7B%22bubblingMouseEvents%22%3A%20true%2C%20%22color%22%3A%20%22red%22%2C%20%22dashArray%22%3A%20null%2C%20%22dashOffset%22%3A%20null%2C%20%22fill%22%3A%20true%2C%20%22fillColor%22%3A%20%22indigo%22%2C%20%22fillOpacity%22%3A%200.2%2C%20%22fillRule%22%3A%20%22evenodd%22%2C%20%22lineCap%22%3A%20%22round%22%2C%20%22lineJoin%22%3A%20%22round%22%2C%20%22opacity%22%3A%201.0%2C%20%22radius%22%3A%2036000.0%2C%20%22stroke%22%3A%20true%2C%20%22weight%22%3A%203%7D%0A%20%20%20%20%20%20%20%20%20%20%20%20%29.addTo%28map_aebf8a811f48491ea9853ca070daf374%29%3B%0A%20%20%20%20%20%20%20%20%0A%20%20%20%20%0A%20%20%20%20%20%20%20%20%20%20%20%20circle_df7300a40d164526b98652dfb6ba63d7.bindTooltip%28%0A%20%20%20%20%20%20%20%20%20%20%20%20%20%20%20%20%60%3Cdiv%3E%0A%20%20%20%20%20%20%20%20%20%20%20%20%20%20%20%20%20%20%20%20%20%3Cdiv%20style%3D%27margin%3A%200%3B%20background-color%3A%20black%3B%20color%3A%20white%3B%27%3E%3Ch4%20style%3D%27text-align%3Acenter%3Bfont-weight%3A%20bold%27%3ELiechtenstein%3C/h4%3E%3Chr%20style%3D%27margin%3A10px%3Bcolor%3A%20white%3B%27%3E%3Cul%20style%3D%27color%3A%20white%3B%3Blist-style-type%3Acircle%3Balign-item%3Aleft%3Bpadding-left%3A20px%3Bpadding-right%3A20px%27%3E%3Cli%3EConfirmed%3A%202948%3C/li%3E%3Cli%3EDeaths%3A%20%20%2085%3C/li%3E%3Cli%3EDeath%20Rate%3A%202.88%3C/li%3E%3C/ul%3E%3C/div%3E%0A%20%20%20%20%20%20%20%20%20%20%20%20%20%20%20%20%20%3C/div%3E%60%2C%0A%20%20%20%20%20%20%20%20%20%20%20%20%20%20%20%20%7B%22sticky%22%3A%20true%7D%0A%20%20%20%20%20%20%20%20%20%20%20%20%29%3B%0A%20%20%20%20%20%20%20%20%0A%20%20%20%20%0A%20%20%20%20%20%20%20%20%20%20%20%20var%20circle_d38740de745c4634a43ce3b5cedc99d8%20%3D%20L.circle%28%0A%20%20%20%20%20%20%20%20%20%20%20%20%20%20%20%20%5B55.1694%2C%2023.8813%5D%2C%0A%20%20%20%20%20%20%20%20%20%20%20%20%20%20%20%20%7B%22bubblingMouseEvents%22%3A%20true%2C%20%22color%22%3A%20%22red%22%2C%20%22dashArray%22%3A%20null%2C%20%22dashOffset%22%3A%20null%2C%20%22fill%22%3A%20true%2C%20%22fillColor%22%3A%20%22indigo%22%2C%20%22fillOpacity%22%3A%200.2%2C%20%22fillRule%22%3A%20%22evenodd%22%2C%20%22lineCap%22%3A%20%22round%22%2C%20%22lineJoin%22%3A%20%22round%22%2C%20%22opacity%22%3A%201.0%2C%20%22radius%22%3A%2061000.0%2C%20%22stroke%22%3A%20true%2C%20%22weight%22%3A%203%7D%0A%20%20%20%20%20%20%20%20%20%20%20%20%29.addTo%28map_aebf8a811f48491ea9853ca070daf374%29%3B%0A%20%20%20%20%20%20%20%20%0A%20%20%20%20%0A%20%20%20%20%20%20%20%20%20%20%20%20circle_d38740de745c4634a43ce3b5cedc99d8.bindTooltip%28%0A%20%20%20%20%20%20%20%20%20%20%20%20%20%20%20%20%60%3Cdiv%3E%0A%20%20%20%20%20%20%20%20%20%20%20%20%20%20%20%20%20%20%20%20%20%3Cdiv%20style%3D%27margin%3A%200%3B%20background-color%3A%20black%3B%20color%3A%20white%3B%27%3E%3Ch4%20style%3D%27text-align%3Acenter%3Bfont-weight%3A%20bold%27%3ELithuania%3C/h4%3E%3Chr%20style%3D%27margin%3A10px%3Bcolor%3A%20white%3B%27%3E%3Cul%20style%3D%27color%3A%20white%3B%3Blist-style-type%3Acircle%3Balign-item%3Aleft%3Bpadding-left%3A20px%3Bpadding-right%3A20px%27%3E%3Cli%3EConfirmed%3A%20251450%3C/li%3E%3Cli%3EDeaths%3A%20%20%203049%3C/li%3E%3Cli%3EDeath%20Rate%3A%201.21%3C/li%3E%3C/ul%3E%3C/div%3E%0A%20%20%20%20%20%20%20%20%20%20%20%20%20%20%20%20%20%3C/div%3E%60%2C%0A%20%20%20%20%20%20%20%20%20%20%20%20%20%20%20%20%7B%22sticky%22%3A%20true%7D%0A%20%20%20%20%20%20%20%20%20%20%20%20%29%3B%0A%20%20%20%20%20%20%20%20%0A%20%20%20%20%0A%20%20%20%20%20%20%20%20%20%20%20%20var%20circle_7674a57be8fa40f8847104c5d60beb17%20%3D%20L.circle%28%0A%20%20%20%20%20%20%20%20%20%20%20%20%20%20%20%20%5B49.8153%2C%206.1296%5D%2C%0A%20%20%20%20%20%20%20%20%20%20%20%20%20%20%20%20%7B%22bubblingMouseEvents%22%3A%20true%2C%20%22color%22%3A%20%22red%22%2C%20%22dashArray%22%3A%20null%2C%20%22dashOffset%22%3A%20null%2C%20%22fill%22%3A%20true%2C%20%22fillColor%22%3A%20%22indigo%22%2C%20%22fillOpacity%22%3A%200.2%2C%20%22fillRule%22%3A%20%22evenodd%22%2C%20%22lineCap%22%3A%20%22round%22%2C%20%22lineJoin%22%3A%20%22round%22%2C%20%22opacity%22%3A%201.0%2C%20%22radius%22%3A%2056000.0%2C%20%22stroke%22%3A%20true%2C%20%22weight%22%3A%203%7D%0A%20%20%20%20%20%20%20%20%20%20%20%20%29.addTo%28map_aebf8a811f48491ea9853ca070daf374%29%3B%0A%20%20%20%20%20%20%20%20%0A%20%20%20%20%0A%20%20%20%20%20%20%20%20%20%20%20%20circle_7674a57be8fa40f8847104c5d60beb17.bindTooltip%28%0A%20%20%20%20%20%20%20%20%20%20%20%20%20%20%20%20%60%3Cdiv%3E%0A%20%20%20%20%20%20%20%20%20%20%20%20%20%20%20%20%20%20%20%20%20%3Cdiv%20style%3D%27margin%3A%200%3B%20background-color%3A%20black%3B%20color%3A%20white%3B%27%3E%3Ch4%20style%3D%27text-align%3Acenter%3Bfont-weight%3A%20bold%27%3ELuxembourg%3C/h4%3E%3Chr%20style%3D%27margin%3A10px%3Bcolor%3A%20white%3B%27%3E%3Cul%20style%3D%27color%3A%20white%3B%3Blist-style-type%3Acircle%3Balign-item%3Aleft%3Bpadding-left%3A20px%3Bpadding-right%3A20px%27%3E%3Cli%3EConfirmed%3A%2067642%3C/li%3E%3Cli%3EDeaths%3A%20%20%2057%3C/li%3E%3Cli%3EDeath%20Rate%3A%200.08%3C/li%3E%3C/ul%3E%3C/div%3E%0A%20%20%20%20%20%20%20%20%20%20%20%20%20%20%20%20%20%3C/div%3E%60%2C%0A%20%20%20%20%20%20%20%20%20%20%20%20%20%20%20%20%7B%22sticky%22%3A%20true%7D%0A%20%20%20%20%20%20%20%20%20%20%20%20%29%3B%0A%20%20%20%20%20%20%20%20%0A%20%20%20%20%0A%20%20%20%20%20%20%20%20%20%20%20%20var%20circle_b253acb3e0ab43c798ebcb762aa35ebf%20%3D%20L.circle%28%0A%20%20%20%20%20%20%20%20%20%20%20%20%20%20%20%20%5B0.0%2C%200.0%5D%2C%0A%20%20%20%20%20%20%20%20%20%20%20%20%20%20%20%20%7B%22bubblingMouseEvents%22%3A%20true%2C%20%22color%22%3A%20%22red%22%2C%20%22dashArray%22%3A%20null%2C%20%22dashOffset%22%3A%20null%2C%20%22fill%22%3A%20true%2C%20%22fillColor%22%3A%20%22indigo%22%2C%20%22fillOpacity%22%3A%200.2%2C%20%22fillRule%22%3A%20%22evenodd%22%2C%20%22lineCap%22%3A%20%22round%22%2C%20%22lineJoin%22%3A%20%22round%22%2C%20%22opacity%22%3A%201.0%2C%20%22radius%22%3A%2011000.0%2C%20%22stroke%22%3A%20true%2C%20%22weight%22%3A%203%7D%0A%20%20%20%20%20%20%20%20%20%20%20%20%29.addTo%28map_aebf8a811f48491ea9853ca070daf374%29%3B%0A%20%20%20%20%20%20%20%20%0A%20%20%20%20%0A%20%20%20%20%20%20%20%20%20%20%20%20circle_b253acb3e0ab43c798ebcb762aa35ebf.bindTooltip%28%0A%20%20%20%20%20%20%20%20%20%20%20%20%20%20%20%20%60%3Cdiv%3E%0A%20%20%20%20%20%20%20%20%20%20%20%20%20%20%20%20%20%20%20%20%20%3Cdiv%20style%3D%27margin%3A%200%3B%20background-color%3A%20black%3B%20color%3A%20white%3B%27%3E%3Ch4%20style%3D%27text-align%3Acenter%3Bfont-weight%3A%20bold%27%3EMS%20Zaandam%3C/h4%3E%3Chr%20style%3D%27margin%3A10px%3Bcolor%3A%20white%3B%27%3E%3Cul%20style%3D%27color%3A%20white%3B%3Blist-style-type%3Acircle%3Balign-item%3Aleft%3Bpadding-left%3A20px%3Bpadding-right%3A20px%27%3E%3Cli%3EConfirmed%3A%209%3C/li%3E%3Cli%3EDeaths%3A%20%20%203976%3C/li%3E%3Cli%3EDeath%20Rate%3A%2039759.96%3C/li%3E%3C/ul%3E%3C/div%3E%0A%20%20%20%20%20%20%20%20%20%20%20%20%20%20%20%20%20%3C/div%3E%60%2C%0A%20%20%20%20%20%20%20%20%20%20%20%20%20%20%20%20%7B%22sticky%22%3A%20true%7D%0A%20%20%20%20%20%20%20%20%20%20%20%20%29%3B%0A%20%20%20%20%20%20%20%20%0A%20%20%20%20%0A%20%20%20%20%20%20%20%20%20%20%20%20var%20circle_feb88fc6124d465d8035b24de4f76708%20%3D%20L.circle%28%0A%20%20%20%20%20%20%20%20%20%20%20%20%20%20%20%20%5B-18.766947000000002%2C%2046.869107%5D%2C%0A%20%20%20%20%20%20%20%20%20%20%20%20%20%20%20%20%7B%22bubblingMouseEvents%22%3A%20true%2C%20%22color%22%3A%20%22red%22%2C%20%22dashArray%22%3A%20null%2C%20%22dashOffset%22%3A%20null%2C%20%22fill%22%3A%20true%2C%20%22fillColor%22%3A%20%22indigo%22%2C%20%22fillOpacity%22%3A%200.2%2C%20%22fillRule%22%3A%20%22evenodd%22%2C%20%22lineCap%22%3A%20%22round%22%2C%20%22lineJoin%22%3A%20%22round%22%2C%20%22opacity%22%3A%201.0%2C%20%22radius%22%3A%2051000.0%2C%20%22stroke%22%3A%20true%2C%20%22weight%22%3A%203%7D%0A%20%20%20%20%20%20%20%20%20%20%20%20%29.addTo%28map_aebf8a811f48491ea9853ca070daf374%29%3B%0A%20%20%20%20%20%20%20%20%0A%20%20%20%20%0A%20%20%20%20%20%20%20%20%20%20%20%20circle_feb88fc6124d465d8035b24de4f76708.bindTooltip%28%0A%20%20%20%20%20%20%20%20%20%20%20%20%20%20%20%20%60%3Cdiv%3E%0A%20%20%20%20%20%20%20%20%20%20%20%20%20%20%20%20%20%20%20%20%20%3Cdiv%20style%3D%27margin%3A%200%3B%20background-color%3A%20black%3B%20color%3A%20white%3B%27%3E%3Ch4%20style%3D%27text-align%3Acenter%3Bfont-weight%3A%20bold%27%3EMadagascar%3C/h4%3E%3Chr%20style%3D%27margin%3A10px%3Bcolor%3A%20white%3B%27%3E%3Cul%20style%3D%27color%3A%20white%3B%3Blist-style-type%3Acircle%3Balign-item%3Aleft%3Bpadding-left%3A20px%3Bpadding-right%3A20px%27%3E%3Cli%3EConfirmed%3A%2037989%3C/li%3E%3Cli%3EDeaths%3A%20%20%20800%3C/li%3E%3Cli%3EDeath%20Rate%3A%202.11%3C/li%3E%3C/ul%3E%3C/div%3E%0A%20%20%20%20%20%20%20%20%20%20%20%20%20%20%20%20%20%3C/div%3E%60%2C%0A%20%20%20%20%20%20%20%20%20%20%20%20%20%20%20%20%7B%22sticky%22%3A%20true%7D%0A%20%20%20%20%20%20%20%20%20%20%20%20%29%3B%0A%20%20%20%20%20%20%20%20%0A%20%20%20%20%0A%20%20%20%20%20%20%20%20%20%20%20%20var%20circle_52fa3572fb7647a69867de859b53f626%20%3D%20L.circle%28%0A%20%20%20%20%20%20%20%20%20%20%20%20%20%20%20%20%5B-13.2543%2C%2034.3015%5D%2C%0A%20%20%20%20%20%20%20%20%20%20%20%20%20%20%20%20%7B%22bubblingMouseEvents%22%3A%20true%2C%20%22color%22%3A%20%22red%22%2C%20%22dashArray%22%3A%20null%2C%20%22dashOffset%22%3A%20null%2C%20%22fill%22%3A%20true%2C%20%22fillColor%22%3A%20%22indigo%22%2C%20%22fillOpacity%22%3A%200.2%2C%20%22fillRule%22%3A%20%22evenodd%22%2C%20%22lineCap%22%3A%20%22round%22%2C%20%22lineJoin%22%3A%20%22round%22%2C%20%22opacity%22%3A%201.0%2C%20%22radius%22%3A%2051000.0%2C%20%22stroke%22%3A%20true%2C%20%22weight%22%3A%203%7D%0A%20%20%20%20%20%20%20%20%20%20%20%20%29.addTo%28map_aebf8a811f48491ea9853ca070daf374%29%3B%0A%20%20%20%20%20%20%20%20%0A%20%20%20%20%0A%20%20%20%20%20%20%20%20%20%20%20%20circle_52fa3572fb7647a69867de859b53f626.bindTooltip%28%0A%20%20%20%20%20%20%20%20%20%20%20%20%20%20%20%20%60%3Cdiv%3E%0A%20%20%20%20%20%20%20%20%20%20%20%20%20%20%20%20%20%20%20%20%20%3Cdiv%20style%3D%27margin%3A%200%3B%20background-color%3A%20black%3B%20color%3A%20white%3B%27%3E%3Ch4%20style%3D%27text-align%3Acenter%3Bfont-weight%3A%20bold%27%3EMalawi%3C/h4%3E%3Chr%20style%3D%27margin%3A10px%3Bcolor%3A%20white%3B%27%3E%3Cul%20style%3D%27color%3A%20white%3B%3Blist-style-type%3Acircle%3Balign-item%3Aleft%3Bpadding-left%3A20px%3Bpadding-right%3A20px%27%3E%3Cli%3EConfirmed%3A%2034123%3C/li%3E%3Cli%3EDeaths%3A%20%20%202%3C/li%3E%3Cli%3EDeath%20Rate%3A%200.01%3C/li%3E%3C/ul%3E%3C/div%3E%0A%20%20%20%20%20%20%20%20%20%20%20%20%20%20%20%20%20%3C/div%3E%60%2C%0A%20%20%20%20%20%20%20%20%20%20%20%20%20%20%20%20%7B%22sticky%22%3A%20true%7D%0A%20%20%20%20%20%20%20%20%20%20%20%20%29%3B%0A%20%20%20%20%20%20%20%20%0A%20%20%20%20%0A%20%20%20%20%20%20%20%20%20%20%20%20var%20circle_198506b9470d459fba389461c7cc0df9%20%3D%20L.circle%28%0A%20%20%20%20%20%20%20%20%20%20%20%20%20%20%20%20%5B4.210483999999999%2C%20101.97576600000001%5D%2C%0A%20%20%20%20%20%20%20%20%20%20%20%20%20%20%20%20%7B%22bubblingMouseEvents%22%3A%20true%2C%20%22color%22%3A%20%22red%22%2C%20%22dashArray%22%3A%20null%2C%20%22dashOffset%22%3A%20null%2C%20%22fill%22%3A%20true%2C%20%22fillColor%22%3A%20%22indigo%22%2C%20%22fillOpacity%22%3A%200.2%2C%20%22fillRule%22%3A%20%22evenodd%22%2C%20%22lineCap%22%3A%20%22round%22%2C%20%22lineJoin%22%3A%20%22round%22%2C%20%22opacity%22%3A%201.0%2C%20%22radius%22%3A%2061000.0%2C%20%22stroke%22%3A%20true%2C%20%22weight%22%3A%203%7D%0A%20%20%20%20%20%20%20%20%20%20%20%20%29.addTo%28map_aebf8a811f48491ea9853ca070daf374%29%3B%0A%20%20%20%20%20%20%20%20%0A%20%20%20%20%0A%20%20%20%20%20%20%20%20%20%20%20%20circle_198506b9470d459fba389461c7cc0df9.bindTooltip%28%0A%20%20%20%20%20%20%20%20%20%20%20%20%20%20%20%20%60%3Cdiv%3E%0A%20%20%20%20%20%20%20%20%20%20%20%20%20%20%20%20%20%20%20%20%20%3Cdiv%20style%3D%27margin%3A%200%3B%20background-color%3A%20black%3B%20color%3A%20white%3B%27%3E%3Ch4%20style%3D%27text-align%3Acenter%3Bfont-weight%3A%20bold%27%3EMalaysia%3C/h4%3E%3Chr%20style%3D%27margin%3A10px%3Bcolor%3A%20white%3B%27%3E%3Cul%20style%3D%27color%3A%20white%3B%3Blist-style-type%3Acircle%3Balign-item%3Aleft%3Bpadding-left%3A20px%3Bpadding-right%3A20px%27%3E%3Cli%3EConfirmed%3A%20420632%3C/li%3E%3Cli%3EDeaths%3A%20%20%20682%3C/li%3E%3Cli%3EDeath%20Rate%3A%200.16%3C/li%3E%3C/ul%3E%3C/div%3E%0A%20%20%20%20%20%20%20%20%20%20%20%20%20%20%20%20%20%3C/div%3E%60%2C%0A%20%20%20%20%20%20%20%20%20%20%20%20%20%20%20%20%7B%22sticky%22%3A%20true%7D%0A%20%20%20%20%20%20%20%20%20%20%20%20%29%3B%0A%20%20%20%20%20%20%20%20%0A%20%20%20%20%0A%20%20%20%20%20%20%20%20%20%20%20%20var%20circle_921f59ccd381407996978140e51f288b%20%3D%20L.circle%28%0A%20%20%20%20%20%20%20%20%20%20%20%20%20%20%20%20%5B3.2028%2C%2073.2207%5D%2C%0A%20%20%20%20%20%20%20%20%20%20%20%20%20%20%20%20%7B%22bubblingMouseEvents%22%3A%20true%2C%20%22color%22%3A%20%22red%22%2C%20%22dashArray%22%3A%20null%2C%20%22dashOffset%22%3A%20null%2C%20%22fill%22%3A%20true%2C%20%22fillColor%22%3A%20%22indigo%22%2C%20%22fillOpacity%22%3A%200.2%2C%20%22fillRule%22%3A%20%22evenodd%22%2C%20%22lineCap%22%3A%20%22round%22%2C%20%22lineJoin%22%3A%20%22round%22%2C%20%22opacity%22%3A%201.0%2C%20%22radius%22%3A%2051000.0%2C%20%22stroke%22%3A%20true%2C%20%22weight%22%3A%203%7D%0A%20%20%20%20%20%20%20%20%20%20%20%20%29.addTo%28map_aebf8a811f48491ea9853ca070daf374%29%3B%0A%20%20%20%20%20%20%20%20%0A%20%20%20%20%0A%20%20%20%20%20%20%20%20%20%20%20%20circle_921f59ccd381407996978140e51f288b.bindTooltip%28%0A%20%20%20%20%20%20%20%20%20%20%20%20%20%20%20%20%60%3Cdiv%3E%0A%20%20%20%20%20%20%20%20%20%20%20%20%20%20%20%20%20%20%20%20%20%3Cdiv%20style%3D%27margin%3A%200%3B%20background-color%3A%20black%3B%20color%3A%20white%3B%27%3E%3Ch4%20style%3D%27text-align%3Acenter%3Bfont-weight%3A%20bold%27%3EMaldives%3C/h4%3E%3Chr%20style%3D%27margin%3A10px%3Bcolor%3A%20white%3B%27%3E%3Cul%20style%3D%27color%3A%20white%3B%3Blist-style-type%3Acircle%3Balign-item%3Aleft%3Bpadding-left%3A20px%3Bpadding-right%3A20px%27%3E%3Cli%3EConfirmed%3A%2031931%3C/li%3E%3Cli%3EDeaths%3A%20%20%201149%3C/li%3E%3Cli%3EDeath%20Rate%3A%203.6%3C/li%3E%3C/ul%3E%3C/div%3E%0A%20%20%20%20%20%20%20%20%20%20%20%20%20%20%20%20%20%3C/div%3E%60%2C%0A%20%20%20%20%20%20%20%20%20%20%20%20%20%20%20%20%7B%22sticky%22%3A%20true%7D%0A%20%20%20%20%20%20%20%20%20%20%20%20%29%3B%0A%20%20%20%20%20%20%20%20%0A%20%20%20%20%0A%20%20%20%20%20%20%20%20%20%20%20%20var%20circle_cc1580d9bf3d42e590ab6289493a24fc%20%3D%20L.circle%28%0A%20%20%20%20%20%20%20%20%20%20%20%20%20%20%20%20%5B17.570692%2C%20-3.9961660000000006%5D%2C%0A%20%20%20%20%20%20%20%20%20%20%20%20%20%20%20%20%7B%22bubblingMouseEvents%22%3A%20true%2C%20%22color%22%3A%20%22red%22%2C%20%22dashArray%22%3A%20null%2C%20%22dashOffset%22%3A%20null%2C%20%22fill%22%3A%20true%2C%20%22fillColor%22%3A%20%22indigo%22%2C%20%22fillOpacity%22%3A%200.2%2C%20%22fillRule%22%3A%20%22evenodd%22%2C%20%22lineCap%22%3A%20%22round%22%2C%20%22lineJoin%22%3A%20%22round%22%2C%20%22opacity%22%3A%201.0%2C%20%22radius%22%3A%2046000.0%2C%20%22stroke%22%3A%20true%2C%20%22weight%22%3A%203%7D%0A%20%20%20%20%20%20%20%20%20%20%20%20%29.addTo%28map_aebf8a811f48491ea9853ca070daf374%29%3B%0A%20%20%20%20%20%20%20%20%0A%20%20%20%20%0A%20%20%20%20%20%20%20%20%20%20%20%20circle_cc1580d9bf3d42e590ab6289493a24fc.bindTooltip%28%0A%20%20%20%20%20%20%20%20%20%20%20%20%20%20%20%20%60%3Cdiv%3E%0A%20%20%20%20%20%20%20%20%20%20%20%20%20%20%20%20%20%20%20%20%20%3Cdiv%20style%3D%27margin%3A%200%3B%20background-color%3A%20black%3B%20color%3A%20white%3B%27%3E%3Ch4%20style%3D%27text-align%3Acenter%3Bfont-weight%3A%20bold%27%3EMali%3C/h4%3E%3Chr%20style%3D%27margin%3A10px%3Bcolor%3A%20white%3B%27%3E%3Cul%20style%3D%27color%3A%20white%3B%3Blist-style-type%3Acircle%3Balign-item%3Aleft%3Bpadding-left%3A20px%3Bpadding-right%3A20px%27%3E%3Cli%3EConfirmed%3A%2013969%3C/li%3E%3Cli%3EDeaths%3A%20%20%201574%3C/li%3E%3Cli%3EDeath%20Rate%3A%2011.27%3C/li%3E%3C/ul%3E%3C/div%3E%0A%20%20%20%20%20%20%20%20%20%20%20%20%20%20%20%20%20%3C/div%3E%60%2C%0A%20%20%20%20%20%20%20%20%20%20%20%20%20%20%20%20%7B%22sticky%22%3A%20true%7D%0A%20%20%20%20%20%20%20%20%20%20%20%20%29%3B%0A%20%20%20%20%20%20%20%20%0A%20%20%20%20%0A%20%20%20%20%20%20%20%20%20%20%20%20var%20circle_4074826ec07e4fd7aa63361c0e949ba1%20%3D%20L.circle%28%0A%20%20%20%20%20%20%20%20%20%20%20%20%20%20%20%20%5B35.9375%2C%2014.3754%5D%2C%0A%20%20%20%20%20%20%20%20%20%20%20%20%20%20%20%20%7B%22bubblingMouseEvents%22%3A%20true%2C%20%22color%22%3A%20%22red%22%2C%20%22dashArray%22%3A%20null%2C%20%22dashOffset%22%3A%20null%2C%20%22fill%22%3A%20true%2C%20%22fillColor%22%3A%20%22indigo%22%2C%20%22fillOpacity%22%3A%200.2%2C%20%22fillRule%22%3A%20%22evenodd%22%2C%20%22lineCap%22%3A%20%22round%22%2C%20%22lineJoin%22%3A%20%22round%22%2C%20%22opacity%22%3A%201.0%2C%20%22radius%22%3A%2051000.0%2C%20%22stroke%22%3A%20true%2C%20%22weight%22%3A%203%7D%0A%20%20%20%20%20%20%20%20%20%20%20%20%29.addTo%28map_aebf8a811f48491ea9853ca070daf374%29%3B%0A%20%20%20%20%20%20%20%20%0A%20%20%20%20%0A%20%20%20%20%20%20%20%20%20%20%20%20circle_4074826ec07e4fd7aa63361c0e949ba1.bindTooltip%28%0A%20%20%20%20%20%20%20%20%20%20%20%20%20%20%20%20%60%3Cdiv%3E%0A%20%20%20%20%20%20%20%20%20%20%20%20%20%20%20%20%20%20%20%20%20%3Cdiv%20style%3D%27margin%3A%200%3B%20background-color%3A%20black%3B%20color%3A%20white%3B%27%3E%3Ch4%20style%3D%27text-align%3Acenter%3Bfont-weight%3A%20bold%27%3EMalta%3C/h4%3E%3Chr%20style%3D%27margin%3A10px%3Bcolor%3A%20white%3B%27%3E%3Cul%20style%3D%27color%3A%20white%3B%3Blist-style-type%3Acircle%3Balign-item%3Aleft%3Bpadding-left%3A20px%3Bpadding-right%3A20px%27%3E%3Cli%3EConfirmed%3A%2030381%3C/li%3E%3Cli%3EDeaths%3A%20%20%2074%3C/li%3E%3Cli%3EDeath%20Rate%3A%200.24%3C/li%3E%3C/ul%3E%3C/div%3E%0A%20%20%20%20%20%20%20%20%20%20%20%20%20%20%20%20%20%3C/div%3E%60%2C%0A%20%20%20%20%20%20%20%20%20%20%20%20%20%20%20%20%7B%22sticky%22%3A%20true%7D%0A%20%20%20%20%20%20%20%20%20%20%20%20%29%3B%0A%20%20%20%20%20%20%20%20%0A%20%20%20%20%0A%20%20%20%20%20%20%20%20%20%20%20%20var%20circle_6f307cc0f7f1483a9edf1b15ec79f891%20%3D%20L.circle%28%0A%20%20%20%20%20%20%20%20%20%20%20%20%20%20%20%20%5B7.1315%2C%20171.1845%5D%2C%0A%20%20%20%20%20%20%20%20%20%20%20%20%20%20%20%20%7B%22bubblingMouseEvents%22%3A%20true%2C%20%22color%22%3A%20%22red%22%2C%20%22dashArray%22%3A%20null%2C%20%22dashOffset%22%3A%20null%2C%20%22fill%22%3A%20true%2C%20%22fillColor%22%3A%20%22indigo%22%2C%20%22fillOpacity%22%3A%200.2%2C%20%22fillRule%22%3A%20%22evenodd%22%2C%20%22lineCap%22%3A%20%22round%22%2C%20%22lineJoin%22%3A%20%22round%22%2C%20%22opacity%22%3A%201.0%2C%20%22radius%22%3A%206000.0%2C%20%22stroke%22%3A%20true%2C%20%22weight%22%3A%203%7D%0A%20%20%20%20%20%20%20%20%20%20%20%20%29.addTo%28map_aebf8a811f48491ea9853ca070daf374%29%3B%0A%20%20%20%20%20%20%20%20%0A%20%20%20%20%0A%20%20%20%20%20%20%20%20%20%20%20%20circle_6f307cc0f7f1483a9edf1b15ec79f891.bindTooltip%28%0A%20%20%20%20%20%20%20%20%20%20%20%20%20%20%20%20%60%3Cdiv%3E%0A%20%20%20%20%20%20%20%20%20%20%20%20%20%20%20%20%20%20%20%20%20%3Cdiv%20style%3D%27margin%3A%200%3B%20background-color%3A%20black%3B%20color%3A%20white%3B%27%3E%3Ch4%20style%3D%27text-align%3Acenter%3Bfont-weight%3A%20bold%27%3EMarshall%20Islands%3C/h4%3E%3Chr%20style%3D%27margin%3A10px%3Bcolor%3A%20white%3B%27%3E%3Cul%20style%3D%27color%3A%20white%3B%3Blist-style-type%3Acircle%3Balign-item%3Aleft%3Bpadding-left%3A20px%3Bpadding-right%3A20px%27%3E%3Cli%3EConfirmed%3A%204%3C/li%3E%3Cli%3EDeaths%3A%20%20%20492%3C/li%3E%3Cli%3EDeath%20Rate%3A%209839.98%3C/li%3E%3C/ul%3E%3C/div%3E%0A%20%20%20%20%20%20%20%20%20%20%20%20%20%20%20%20%20%3C/div%3E%60%2C%0A%20%20%20%20%20%20%20%20%20%20%20%20%20%20%20%20%7B%22sticky%22%3A%20true%7D%0A%20%20%20%20%20%20%20%20%20%20%20%20%29%3B%0A%20%20%20%20%20%20%20%20%0A%20%20%20%20%0A%20%20%20%20%20%20%20%20%20%20%20%20var%20circle_43a80746c4df44f39f636b33e57821cb%20%3D%20L.circle%28%0A%20%20%20%20%20%20%20%20%20%20%20%20%20%20%20%20%5B21.0079%2C%20-10.9408%5D%2C%0A%20%20%20%20%20%20%20%20%20%20%20%20%20%20%20%20%7B%22bubblingMouseEvents%22%3A%20true%2C%20%22color%22%3A%20%22red%22%2C%20%22dashArray%22%3A%20null%2C%20%22dashOffset%22%3A%20null%2C%20%22fill%22%3A%20true%2C%20%22fillColor%22%3A%20%22indigo%22%2C%20%22fillOpacity%22%3A%200.2%2C%20%22fillRule%22%3A%20%22evenodd%22%2C%20%22lineCap%22%3A%20%22round%22%2C%20%22lineJoin%22%3A%20%22round%22%2C%20%22opacity%22%3A%201.0%2C%20%22radius%22%3A%2046000.0%2C%20%22stroke%22%3A%20true%2C%20%22weight%22%3A%203%7D%0A%20%20%20%20%20%20%20%20%20%20%20%20%29.addTo%28map_aebf8a811f48491ea9853ca070daf374%29%3B%0A%20%20%20%20%20%20%20%20%0A%20%20%20%20%0A%20%20%20%20%20%20%20%20%20%20%20%20circle_43a80746c4df44f39f636b33e57821cb.bindTooltip%28%0A%20%20%20%20%20%20%20%20%20%20%20%20%20%20%20%20%60%3Cdiv%3E%0A%20%20%20%20%20%20%20%20%20%20%20%20%20%20%20%20%20%20%20%20%20%3Cdiv%20style%3D%27margin%3A%200%3B%20background-color%3A%20black%3B%20color%3A%20white%3B%27%3E%3Ch4%20style%3D%27text-align%3Acenter%3Bfont-weight%3A%20bold%27%3EMauritania%3C/h4%3E%3Chr%20style%3D%27margin%3A10px%3Bcolor%3A%20white%3B%27%3E%3Cul%20style%3D%27color%3A%20white%3B%3Blist-style-type%3Acircle%3Balign-item%3Aleft%3Bpadding-left%3A20px%3Bpadding-right%3A20px%27%3E%3Cli%3EConfirmed%3A%2018503%3C/li%3E%3Cli%3EDeaths%3A%20%20%20416%3C/li%3E%3Cli%3EDeath%20Rate%3A%202.25%3C/li%3E%3C/ul%3E%3C/div%3E%0A%20%20%20%20%20%20%20%20%20%20%20%20%20%20%20%20%20%3C/div%3E%60%2C%0A%20%20%20%20%20%20%20%20%20%20%20%20%20%20%20%20%7B%22sticky%22%3A%20true%7D%0A%20%20%20%20%20%20%20%20%20%20%20%20%29%3B%0A%20%20%20%20%20%20%20%20%0A%20%20%20%20%0A%20%20%20%20%20%20%20%20%20%20%20%20var%20circle_bd00c4ea34954a17923c3fd3188c67f0%20%3D%20L.circle%28%0A%20%20%20%20%20%20%20%20%20%20%20%20%20%20%20%20%5B-20.348404000000002%2C%2057.552152%5D%2C%0A%20%20%20%20%20%20%20%20%20%20%20%20%20%20%20%20%7B%22bubblingMouseEvents%22%3A%20true%2C%20%22color%22%3A%20%22red%22%2C%20%22dashArray%22%3A%20null%2C%20%22dashOffset%22%3A%20null%2C%20%22fill%22%3A%20true%2C%20%22fillColor%22%3A%20%22indigo%22%2C%20%22fillOpacity%22%3A%200.2%2C%20%22fillRule%22%3A%20%22evenodd%22%2C%20%22lineCap%22%3A%20%22round%22%2C%20%22lineJoin%22%3A%20%22round%22%2C%20%22opacity%22%3A%201.0%2C%20%22radius%22%3A%2036000.0%2C%20%22stroke%22%3A%20true%2C%20%22weight%22%3A%203%7D%0A%20%20%20%20%20%20%20%20%20%20%20%20%29.addTo%28map_aebf8a811f48491ea9853ca070daf374%29%3B%0A%20%20%20%20%20%20%20%20%0A%20%20%20%20%0A%20%20%20%20%20%20%20%20%20%20%20%20circle_bd00c4ea34954a17923c3fd3188c67f0.bindTooltip%28%0A%20%20%20%20%20%20%20%20%20%20%20%20%20%20%20%20%60%3Cdiv%3E%0A%20%20%20%20%20%20%20%20%20%20%20%20%20%20%20%20%20%20%20%20%20%3Cdiv%20style%3D%27margin%3A%200%3B%20background-color%3A%20black%3B%20color%3A%20white%3B%27%3E%3Ch4%20style%3D%27text-align%3Acenter%3Bfont-weight%3A%20bold%27%3EMauritius%3C/h4%3E%3Chr%20style%3D%27margin%3A10px%3Bcolor%3A%20white%3B%27%3E%3Cul%20style%3D%27color%3A%20white%3B%3Blist-style-type%3Acircle%3Balign-item%3Aleft%3Bpadding-left%3A20px%3Bpadding-right%3A20px%27%3E%3Cli%3EConfirmed%3A%201214%3C/li%3E%3Cli%3EDeaths%3A%20%20%200%3C/li%3E%3Cli%3EDeath%20Rate%3A%200.0%3C/li%3E%3C/ul%3E%3C/div%3E%0A%20%20%20%20%20%20%20%20%20%20%20%20%20%20%20%20%20%3C/div%3E%60%2C%0A%20%20%20%20%20%20%20%20%20%20%20%20%20%20%20%20%7B%22sticky%22%3A%20true%7D%0A%20%20%20%20%20%20%20%20%20%20%20%20%29%3B%0A%20%20%20%20%20%20%20%20%0A%20%20%20%20%0A%20%20%20%20%20%20%20%20%20%20%20%20var%20circle_ca2cc506338d4d61bee13b8ddef02336%20%3D%20L.circle%28%0A%20%20%20%20%20%20%20%20%20%20%20%20%20%20%20%20%5B23.6345%2C%20-102.5528%5D%2C%0A%20%20%20%20%20%20%20%20%20%20%20%20%20%20%20%20%7B%22bubblingMouseEvents%22%3A%20true%2C%20%22color%22%3A%20%22red%22%2C%20%22dashArray%22%3A%20null%2C%20%22dashOffset%22%3A%20null%2C%20%22fill%22%3A%20true%2C%20%22fillColor%22%3A%20%22indigo%22%2C%20%22fillOpacity%22%3A%200.2%2C%20%22fillRule%22%3A%20%22evenodd%22%2C%20%22lineCap%22%3A%20%22round%22%2C%20%22lineJoin%22%3A%20%22round%22%2C%20%22opacity%22%3A%201.0%2C%20%22radius%22%3A%2071000.0%2C%20%22stroke%22%3A%20true%2C%20%22weight%22%3A%203%7D%0A%20%20%20%20%20%20%20%20%20%20%20%20%29.addTo%28map_aebf8a811f48491ea9853ca070daf374%29%3B%0A%20%20%20%20%20%20%20%20%0A%20%20%20%20%0A%20%20%20%20%20%20%20%20%20%20%20%20circle_ca2cc506338d4d61bee13b8ddef02336.bindTooltip%28%0A%20%20%20%20%20%20%20%20%20%20%20%20%20%20%20%20%60%3Cdiv%3E%0A%20%20%20%20%20%20%20%20%20%20%20%20%20%20%20%20%20%20%20%20%20%3Cdiv%20style%3D%27margin%3A%200%3B%20background-color%3A%20black%3B%20color%3A%20white%3B%27%3E%3Ch4%20style%3D%27text-align%3Acenter%3Bfont-weight%3A%20bold%27%3EMexico%3C/h4%3E%3Chr%20style%3D%27margin%3A10px%3Bcolor%3A%20white%3B%27%3E%3Cul%20style%3D%27color%3A%20white%3B%3Blist-style-type%3Acircle%3Balign-item%3Aleft%3Bpadding-left%3A20px%3Bpadding-right%3A20px%27%3E%3Cli%3EConfirmed%3A%202352964%3C/li%3E%3Cli%3EDeaths%3A%20%20%20455%3C/li%3E%3Cli%3EDeath%20Rate%3A%200.02%3C/li%3E%3C/ul%3E%3C/div%3E%0A%20%20%20%20%20%20%20%20%20%20%20%20%20%20%20%20%20%3C/div%3E%60%2C%0A%20%20%20%20%20%20%20%20%20%20%20%20%20%20%20%20%7B%22sticky%22%3A%20true%7D%0A%20%20%20%20%20%20%20%20%20%20%20%20%29%3B%0A%20%20%20%20%20%20%20%20%0A%20%20%20%20%0A%20%20%20%20%20%20%20%20%20%20%20%20var%20circle_e9e6f36eaa93421f981ef4bcae9110da%20%3D%20L.circle%28%0A%20%20%20%20%20%20%20%20%20%20%20%20%20%20%20%20%5B7.4256%2C%20150.5508%5D%2C%0A%20%20%20%20%20%20%20%20%20%20%20%20%20%20%20%20%7B%22bubblingMouseEvents%22%3A%20true%2C%20%22color%22%3A%20%22red%22%2C%20%22dashArray%22%3A%20null%2C%20%22dashOffset%22%3A%20null%2C%20%22fill%22%3A%20true%2C%20%22fillColor%22%3A%20%22indigo%22%2C%20%22fillOpacity%22%3A%200.2%2C%20%22fillRule%22%3A%20%22evenodd%22%2C%20%22lineCap%22%3A%20%22round%22%2C%20%22lineJoin%22%3A%20%22round%22%2C%20%22opacity%22%3A%201.0%2C%20%22radius%22%3A%201000.0%2C%20%22stroke%22%3A%20true%2C%20%22weight%22%3A%203%7D%0A%20%20%20%20%20%20%20%20%20%20%20%20%29.addTo%28map_aebf8a811f48491ea9853ca070daf374%29%3B%0A%20%20%20%20%20%20%20%20%0A%20%20%20%20%0A%20%20%20%20%20%20%20%20%20%20%20%20circle_e9e6f36eaa93421f981ef4bcae9110da.bindTooltip%28%0A%20%20%20%20%20%20%20%20%20%20%20%20%20%20%20%20%60%3Cdiv%3E%0A%20%20%20%20%20%20%20%20%20%20%20%20%20%20%20%20%20%20%20%20%20%3Cdiv%20style%3D%27margin%3A%200%3B%20background-color%3A%20black%3B%20color%3A%20white%3B%27%3E%3Ch4%20style%3D%27text-align%3Acenter%3Bfont-weight%3A%20bold%27%3EMicronesia%3C/h4%3E%3Chr%20style%3D%27margin%3A10px%3Bcolor%3A%20white%3B%27%3E%3Cul%20style%3D%27color%3A%20white%3B%3Blist-style-type%3Acircle%3Balign-item%3Aleft%3Bpadding-left%3A20px%3Bpadding-right%3A20px%27%3E%3Cli%3EConfirmed%3A%201%3C/li%3E%3Cli%3EDeaths%3A%20%20%2017%3C/li%3E%3Cli%3EDeath%20Rate%3A%20850.0%3C/li%3E%3C/ul%3E%3C/div%3E%0A%20%20%20%20%20%20%20%20%20%20%20%20%20%20%20%20%20%3C/div%3E%60%2C%0A%20%20%20%20%20%20%20%20%20%20%20%20%20%20%20%20%7B%22sticky%22%3A%20true%7D%0A%20%20%20%20%20%20%20%20%20%20%20%20%29%3B%0A%20%20%20%20%20%20%20%20%0A%20%20%20%20%0A%20%20%20%20%20%20%20%20%20%20%20%20var%20circle_f4927cbfd83843ae9edd3ac807db55e8%20%3D%20L.circle%28%0A%20%20%20%20%20%20%20%20%20%20%20%20%20%20%20%20%5B47.4116%2C%2028.3699%5D%2C%0A%20%20%20%20%20%20%20%20%20%20%20%20%20%20%20%20%7B%22bubblingMouseEvents%22%3A%20true%2C%20%22color%22%3A%20%22red%22%2C%20%22dashArray%22%3A%20null%2C%20%22dashOffset%22%3A%20null%2C%20%22fill%22%3A%20true%2C%20%22fillColor%22%3A%20%22indigo%22%2C%20%22fillOpacity%22%3A%200.2%2C%20%22fillRule%22%3A%20%22evenodd%22%2C%20%22lineCap%22%3A%20%22round%22%2C%20%22lineJoin%22%3A%20%22round%22%2C%20%22opacity%22%3A%201.0%2C%20%22radius%22%3A%2061000.0%2C%20%22stroke%22%3A%20true%2C%20%22weight%22%3A%203%7D%0A%20%20%20%20%20%20%20%20%20%20%20%20%29.addTo%28map_aebf8a811f48491ea9853ca070daf374%29%3B%0A%20%20%20%20%20%20%20%20%0A%20%20%20%20%0A%20%20%20%20%20%20%20%20%20%20%20%20circle_f4927cbfd83843ae9edd3ac807db55e8.bindTooltip%28%0A%20%20%20%20%20%20%20%20%20%20%20%20%20%20%20%20%60%3Cdiv%3E%0A%20%20%20%20%20%20%20%20%20%20%20%20%20%20%20%20%20%20%20%20%20%3Cdiv%20style%3D%27margin%3A%200%3B%20background-color%3A%20black%3B%20color%3A%20white%3B%27%3E%3Ch4%20style%3D%27text-align%3Acenter%3Bfont-weight%3A%20bold%27%3EMoldova%3C/h4%3E%3Chr%20style%3D%27margin%3A10px%3Bcolor%3A%20white%3B%27%3E%3Cul%20style%3D%27color%3A%20white%3B%3Blist-style-type%3Acircle%3Balign-item%3Aleft%3Bpadding-left%3A20px%3Bpadding-right%3A20px%27%3E%3Cli%3EConfirmed%3A%20251504%3C/li%3E%3Cli%3EDeaths%3A%20%20%20217740%3C/li%3E%3Cli%3EDeath%20Rate%3A%2086.57%3C/li%3E%3C/ul%3E%3C/div%3E%0A%20%20%20%20%20%20%20%20%20%20%20%20%20%20%20%20%20%3C/div%3E%60%2C%0A%20%20%20%20%20%20%20%20%20%20%20%20%20%20%20%20%7B%22sticky%22%3A%20true%7D%0A%20%20%20%20%20%20%20%20%20%20%20%20%29%3B%0A%20%20%20%20%20%20%20%20%0A%20%20%20%20%0A%20%20%20%20%20%20%20%20%20%20%20%20var%20circle_aed8edbc8ac5401dbe688b45be6fa52e%20%3D%20L.circle%28%0A%20%20%20%20%20%20%20%20%20%20%20%20%20%20%20%20%5B43.7333%2C%207.4167%5D%2C%0A%20%20%20%20%20%20%20%20%20%20%20%20%20%20%20%20%7B%22bubblingMouseEvents%22%3A%20true%2C%20%22color%22%3A%20%22red%22%2C%20%22dashArray%22%3A%20null%2C%20%22dashOffset%22%3A%20null%2C%20%22fill%22%3A%20true%2C%20%22fillColor%22%3A%20%22indigo%22%2C%20%22fillOpacity%22%3A%200.2%2C%20%22fillRule%22%3A%20%22evenodd%22%2C%20%22lineCap%22%3A%20%22round%22%2C%20%22lineJoin%22%3A%20%22round%22%2C%20%22opacity%22%3A%201.0%2C%20%22radius%22%3A%2036000.0%2C%20%22stroke%22%3A%20true%2C%20%22weight%22%3A%203%7D%0A%20%20%20%20%20%20%20%20%20%20%20%20%29.addTo%28map_aebf8a811f48491ea9853ca070daf374%29%3B%0A%20%20%20%20%20%20%20%20%0A%20%20%20%20%0A%20%20%20%20%20%20%20%20%20%20%20%20circle_aed8edbc8ac5401dbe688b45be6fa52e.bindTooltip%28%0A%20%20%20%20%20%20%20%20%20%20%20%20%20%20%20%20%60%3Cdiv%3E%0A%20%20%20%20%20%20%20%20%20%20%20%20%20%20%20%20%20%20%20%20%20%3Cdiv%20style%3D%27margin%3A%200%3B%20background-color%3A%20black%3B%20color%3A%20white%3B%27%3E%3Ch4%20style%3D%27text-align%3Acenter%3Bfont-weight%3A%20bold%27%3EMonaco%3C/h4%3E%3Chr%20style%3D%27margin%3A10px%3Bcolor%3A%20white%3B%27%3E%3Cul%20style%3D%27color%3A%20white%3B%3Blist-style-type%3Acircle%3Balign-item%3Aleft%3Bpadding-left%3A20px%3Bpadding-right%3A20px%27%3E%3Cli%3EConfirmed%3A%202468%3C/li%3E%3Cli%3EDeaths%3A%20%20%200%3C/li%3E%3Cli%3EDeath%20Rate%3A%200.0%3C/li%3E%3C/ul%3E%3C/div%3E%0A%20%20%20%20%20%20%20%20%20%20%20%20%20%20%20%20%20%3C/div%3E%60%2C%0A%20%20%20%20%20%20%20%20%20%20%20%20%20%20%20%20%7B%22sticky%22%3A%20true%7D%0A%20%20%20%20%20%20%20%20%20%20%20%20%29%3B%0A%20%20%20%20%20%20%20%20%0A%20%20%20%20%0A%20%20%20%20%20%20%20%20%20%20%20%20var%20circle_cf5674a8f35243278ea0dc5ca2707a4d%20%3D%20L.circle%28%0A%20%20%20%20%20%20%20%20%20%20%20%20%20%20%20%20%5B46.8625%2C%20103.8467%5D%2C%0A%20%20%20%20%20%20%20%20%20%20%20%20%20%20%20%20%7B%22bubblingMouseEvents%22%3A%20true%2C%20%22color%22%3A%20%22red%22%2C%20%22dashArray%22%3A%20null%2C%20%22dashOffset%22%3A%20null%2C%20%22fill%22%3A%20true%2C%20%22fillColor%22%3A%20%22indigo%22%2C%20%22fillOpacity%22%3A%200.2%2C%20%22fillRule%22%3A%20%22evenodd%22%2C%20%22lineCap%22%3A%20%22round%22%2C%20%22lineJoin%22%3A%20%22round%22%2C%20%22opacity%22%3A%201.0%2C%20%22radius%22%3A%2051000.0%2C%20%22stroke%22%3A%20true%2C%20%22weight%22%3A%203%7D%0A%20%20%20%20%20%20%20%20%20%20%20%20%29.addTo%28map_aebf8a811f48491ea9853ca070daf374%29%3B%0A%20%20%20%20%20%20%20%20%0A%20%20%20%20%0A%20%20%20%20%20%20%20%20%20%20%20%20circle_cf5674a8f35243278ea0dc5ca2707a4d.bindTooltip%28%0A%20%20%20%20%20%20%20%20%20%20%20%20%20%20%20%20%60%3Cdiv%3E%0A%20%20%20%20%20%20%20%20%20%20%20%20%20%20%20%20%20%20%20%20%20%3Cdiv%20style%3D%27margin%3A%200%3B%20background-color%3A%20black%3B%20color%3A%20white%3B%27%3E%3Ch4%20style%3D%27text-align%3Acenter%3Bfont-weight%3A%20bold%27%3EMongolia%3C/h4%3E%3Chr%20style%3D%27margin%3A10px%3Bcolor%3A%20white%3B%27%3E%3Cul%20style%3D%27color%3A%20white%3B%3Blist-style-type%3Acircle%3Balign-item%3Aleft%3Bpadding-left%3A20px%3Bpadding-right%3A20px%27%3E%3Cli%3EConfirmed%3A%2041524%3C/li%3E%3Cli%3EDeaths%3A%20%20%205869%3C/li%3E%3Cli%3EDeath%20Rate%3A%2014.13%3C/li%3E%3C/ul%3E%3C/div%3E%0A%20%20%20%20%20%20%20%20%20%20%20%20%20%20%20%20%20%3C/div%3E%60%2C%0A%20%20%20%20%20%20%20%20%20%20%20%20%20%20%20%20%7B%22sticky%22%3A%20true%7D%0A%20%20%20%20%20%20%20%20%20%20%20%20%29%3B%0A%20%20%20%20%20%20%20%20%0A%20%20%20%20%0A%20%20%20%20%20%20%20%20%20%20%20%20var%20circle_ecdebaa16df84b1d897800c9adc4759d%20%3D%20L.circle%28%0A%20%20%20%20%20%20%20%20%20%20%20%20%20%20%20%20%5B42.708678000000006%2C%2019.37439%5D%2C%0A%20%20%20%20%20%20%20%20%20%20%20%20%20%20%20%20%7B%22bubblingMouseEvents%22%3A%20true%2C%20%22color%22%3A%20%22red%22%2C%20%22dashArray%22%3A%20null%2C%20%22dashOffset%22%3A%20null%2C%20%22fill%22%3A%20true%2C%20%22fillColor%22%3A%20%22indigo%22%2C%20%22fillOpacity%22%3A%200.2%2C%20%22fillRule%22%3A%20%22evenodd%22%2C%20%22lineCap%22%3A%20%22round%22%2C%20%22lineJoin%22%3A%20%22round%22%2C%20%22opacity%22%3A%201.0%2C%20%22radius%22%3A%2056000.0%2C%20%22stroke%22%3A%20true%2C%20%22weight%22%3A%203%7D%0A%20%20%20%20%20%20%20%20%20%20%20%20%29.addTo%28map_aebf8a811f48491ea9853ca070daf374%29%3B%0A%20%20%20%20%20%20%20%20%0A%20%20%20%20%0A%20%20%20%20%20%20%20%20%20%20%20%20circle_ecdebaa16df84b1d897800c9adc4759d.bindTooltip%28%0A%20%20%20%20%20%20%20%20%20%20%20%20%20%20%20%20%60%3Cdiv%3E%0A%20%20%20%20%20%20%20%20%20%20%20%20%20%20%20%20%20%20%20%20%20%3Cdiv%20style%3D%27margin%3A%200%3B%20background-color%3A%20black%3B%20color%3A%20white%3B%27%3E%3Ch4%20style%3D%27text-align%3Acenter%3Bfont-weight%3A%20bold%27%3EMontenegro%3C/h4%3E%3Chr%20style%3D%27margin%3A10px%3Bcolor%3A%20white%3B%27%3E%3Cul%20style%3D%27color%3A%20white%3B%3Blist-style-type%3Acircle%3Balign-item%3Aleft%3Bpadding-left%3A20px%3Bpadding-right%3A20px%27%3E%3Cli%3EConfirmed%3A%2097813%3C/li%3E%3Cli%3EDeaths%3A%20%20%2032%3C/li%3E%3Cli%3EDeath%20Rate%3A%200.03%3C/li%3E%3C/ul%3E%3C/div%3E%0A%20%20%20%20%20%20%20%20%20%20%20%20%20%20%20%20%20%3C/div%3E%60%2C%0A%20%20%20%20%20%20%20%20%20%20%20%20%20%20%20%20%7B%22sticky%22%3A%20true%7D%0A%20%20%20%20%20%20%20%20%20%20%20%20%29%3B%0A%20%20%20%20%20%20%20%20%0A%20%20%20%20%0A%20%20%20%20%20%20%20%20%20%20%20%20var%20circle_4ddd5a2118b5414bb2dbf91b182600b1%20%3D%20L.circle%28%0A%20%20%20%20%20%20%20%20%20%20%20%20%20%20%20%20%5B31.7917%2C%20-7.0926%5D%2C%0A%20%20%20%20%20%20%20%20%20%20%20%20%20%20%20%20%7B%22bubblingMouseEvents%22%3A%20true%2C%20%22color%22%3A%20%22red%22%2C%20%22dashArray%22%3A%20null%2C%20%22dashOffset%22%3A%20null%2C%20%22fill%22%3A%20true%2C%20%22fillColor%22%3A%20%22indigo%22%2C%20%22fillOpacity%22%3A%200.2%2C%20%22fillRule%22%3A%20%22evenodd%22%2C%20%22lineCap%22%3A%20%22round%22%2C%20%22lineJoin%22%3A%20%22round%22%2C%20%22opacity%22%3A%201.0%2C%20%22radius%22%3A%2066000.0%2C%20%22stroke%22%3A%20true%2C%20%22weight%22%3A%203%7D%0A%20%20%20%20%20%20%20%20%20%20%20%20%29.addTo%28map_aebf8a811f48491ea9853ca070daf374%29%3B%0A%20%20%20%20%20%20%20%20%0A%20%20%20%20%0A%20%20%20%20%20%20%20%20%20%20%20%20circle_4ddd5a2118b5414bb2dbf91b182600b1.bindTooltip%28%0A%20%20%20%20%20%20%20%20%20%20%20%20%20%20%20%20%60%3Cdiv%3E%0A%20%20%20%20%20%20%20%20%20%20%20%20%20%20%20%20%20%20%20%20%20%3Cdiv%20style%3D%27margin%3A%200%3B%20background-color%3A%20black%3B%20color%3A%20white%3B%27%3E%3Ch4%20style%3D%27text-align%3Acenter%3Bfont-weight%3A%20bold%27%3EMorocco%3C/h4%3E%3Chr%20style%3D%27margin%3A10px%3Bcolor%3A%20white%3B%27%3E%3Cul%20style%3D%27color%3A%20white%3B%3Blist-style-type%3Acircle%3Balign-item%3Aleft%3Bpadding-left%3A20px%3Bpadding-right%3A20px%27%3E%3Cli%3EConfirmed%3A%20512285%3C/li%3E%3Cli%3EDeaths%3A%20%20%20130%3C/li%3E%3Cli%3EDeath%20Rate%3A%200.03%3C/li%3E%3C/ul%3E%3C/div%3E%0A%20%20%20%20%20%20%20%20%20%20%20%20%20%20%20%20%20%3C/div%3E%60%2C%0A%20%20%20%20%20%20%20%20%20%20%20%20%20%20%20%20%7B%22sticky%22%3A%20true%7D%0A%20%20%20%20%20%20%20%20%20%20%20%20%29%3B%0A%20%20%20%20%20%20%20%20%0A%20%20%20%20%0A%20%20%20%20%20%20%20%20%20%20%20%20var%20circle_e226124fc0e8499eb9186b9e36c8e9db%20%3D%20L.circle%28%0A%20%20%20%20%20%20%20%20%20%20%20%20%20%20%20%20%5B-18.665695%2C%2035.529562%5D%2C%0A%20%20%20%20%20%20%20%20%20%20%20%20%20%20%20%20%7B%22bubblingMouseEvents%22%3A%20true%2C%20%22color%22%3A%20%22red%22%2C%20%22dashArray%22%3A%20null%2C%20%22dashOffset%22%3A%20null%2C%20%22fill%22%3A%20true%2C%20%22fillColor%22%3A%20%22indigo%22%2C%20%22fillOpacity%22%3A%200.2%2C%20%22fillRule%22%3A%20%22evenodd%22%2C%20%22lineCap%22%3A%20%22round%22%2C%20%22lineJoin%22%3A%20%22round%22%2C%20%22opacity%22%3A%201.0%2C%20%22radius%22%3A%2056000.0%2C%20%22stroke%22%3A%20true%2C%20%22weight%22%3A%203%7D%0A%20%20%20%20%20%20%20%20%20%20%20%20%29.addTo%28map_aebf8a811f48491ea9853ca070daf374%29%3B%0A%20%20%20%20%20%20%20%20%0A%20%20%20%20%0A%20%20%20%20%20%20%20%20%20%20%20%20circle_e226124fc0e8499eb9186b9e36c8e9db.bindTooltip%28%0A%20%20%20%20%20%20%20%20%20%20%20%20%20%20%20%20%60%3Cdiv%3E%0A%20%20%20%20%20%20%20%20%20%20%20%20%20%20%20%20%20%20%20%20%20%3Cdiv%20style%3D%27margin%3A%200%3B%20background-color%3A%20black%3B%20color%3A%20white%3B%27%3E%3Ch4%20style%3D%27text-align%3Acenter%3Bfont-weight%3A%20bold%27%3EMozambique%3C/h4%3E%3Chr%20style%3D%27margin%3A10px%3Bcolor%3A%20white%3B%27%3E%3Cul%20style%3D%27color%3A%20white%3B%3Blist-style-type%3Acircle%3Balign-item%3Aleft%3Bpadding-left%3A20px%3Bpadding-right%3A20px%27%3E%3Cli%3EConfirmed%3A%2070031%3C/li%3E%3Cli%3EDeaths%3A%20%20%201516%3C/li%3E%3Cli%3EDeath%20Rate%3A%202.16%3C/li%3E%3C/ul%3E%3C/div%3E%0A%20%20%20%20%20%20%20%20%20%20%20%20%20%20%20%20%20%3C/div%3E%60%2C%0A%20%20%20%20%20%20%20%20%20%20%20%20%20%20%20%20%7B%22sticky%22%3A%20true%7D%0A%20%20%20%20%20%20%20%20%20%20%20%20%29%3B%0A%20%20%20%20%20%20%20%20%0A%20%20%20%20%0A%20%20%20%20%20%20%20%20%20%20%20%20var%20circle_038fa4d0313848f29fa2089bd0265935%20%3D%20L.circle%28%0A%20%20%20%20%20%20%20%20%20%20%20%20%20%20%20%20%5B-22.9576%2C%2018.4904%5D%2C%0A%20%20%20%20%20%20%20%20%20%20%20%20%20%20%20%20%7B%22bubblingMouseEvents%22%3A%20true%2C%20%22color%22%3A%20%22red%22%2C%20%22dashArray%22%3A%20null%2C%20%22dashOffset%22%3A%20null%2C%20%22fill%22%3A%20true%2C%20%22fillColor%22%3A%20%22indigo%22%2C%20%22fillOpacity%22%3A%200.2%2C%20%22fillRule%22%3A%20%22evenodd%22%2C%20%22lineCap%22%3A%20%22round%22%2C%20%22lineJoin%22%3A%20%22round%22%2C%20%22opacity%22%3A%201.0%2C%20%22radius%22%3A%2051000.0%2C%20%22stroke%22%3A%20true%2C%20%22weight%22%3A%203%7D%0A%20%20%20%20%20%20%20%20%20%20%20%20%29.addTo%28map_aebf8a811f48491ea9853ca070daf374%29%3B%0A%20%20%20%20%20%20%20%20%0A%20%20%20%20%0A%20%20%20%20%20%20%20%20%20%20%20%20circle_038fa4d0313848f29fa2089bd0265935.bindTooltip%28%0A%20%20%20%20%20%20%20%20%20%20%20%20%20%20%20%20%60%3Cdiv%3E%0A%20%20%20%20%20%20%20%20%20%20%20%20%20%20%20%20%20%20%20%20%20%3Cdiv%20style%3D%27margin%3A%200%3B%20background-color%3A%20black%3B%20color%3A%20white%3B%27%3E%3Ch4%20style%3D%27text-align%3Acenter%3Bfont-weight%3A%20bold%27%3ENamibia%3C/h4%3E%3Chr%20style%3D%27margin%3A10px%3Bcolor%3A%20white%3B%27%3E%3Cul%20style%3D%27color%3A%20white%3B%3Blist-style-type%3Acircle%3Balign-item%3Aleft%3Bpadding-left%3A20px%3Bpadding-right%3A20px%27%3E%3Cli%3EConfirmed%3A%2048654%3C/li%3E%3Cli%3EDeaths%3A%20%20%209038%3C/li%3E%3Cli%3EDeath%20Rate%3A%2018.58%3C/li%3E%3C/ul%3E%3C/div%3E%0A%20%20%20%20%20%20%20%20%20%20%20%20%20%20%20%20%20%3C/div%3E%60%2C%0A%20%20%20%20%20%20%20%20%20%20%20%20%20%20%20%20%7B%22sticky%22%3A%20true%7D%0A%20%20%20%20%20%20%20%20%20%20%20%20%29%3B%0A%20%20%20%20%20%20%20%20%0A%20%20%20%20%0A%20%20%20%20%20%20%20%20%20%20%20%20var%20circle_0bd2118101f5451eaf080ae64f6fc128%20%3D%20L.circle%28%0A%20%20%20%20%20%20%20%20%20%20%20%20%20%20%20%20%5B28.1667%2C%2084.25%5D%2C%0A%20%20%20%20%20%20%20%20%20%20%20%20%20%20%20%20%7B%22bubblingMouseEvents%22%3A%20true%2C%20%22color%22%3A%20%22red%22%2C%20%22dashArray%22%3A%20null%2C%20%22dashOffset%22%3A%20null%2C%20%22fill%22%3A%20true%2C%20%22fillColor%22%3A%20%22indigo%22%2C%20%22fillOpacity%22%3A%200.2%2C%20%22fillRule%22%3A%20%22evenodd%22%2C%20%22lineCap%22%3A%20%22round%22%2C%20%22lineJoin%22%3A%20%22round%22%2C%20%22opacity%22%3A%201.0%2C%20%22radius%22%3A%2061000.0%2C%20%22stroke%22%3A%20true%2C%20%22weight%22%3A%203%7D%0A%20%20%20%20%20%20%20%20%20%20%20%20%29.addTo%28map_aebf8a811f48491ea9853ca070daf374%29%3B%0A%20%20%20%20%20%20%20%20%0A%20%20%20%20%0A%20%20%20%20%20%20%20%20%20%20%20%20circle_0bd2118101f5451eaf080ae64f6fc128.bindTooltip%28%0A%20%20%20%20%20%20%20%20%20%20%20%20%20%20%20%20%60%3Cdiv%3E%0A%20%20%20%20%20%20%20%20%20%20%20%20%20%20%20%20%20%20%20%20%20%3Cdiv%20style%3D%27margin%3A%200%3B%20background-color%3A%20black%3B%20color%3A%20white%3B%27%3E%3Ch4%20style%3D%27text-align%3Acenter%3Bfont-weight%3A%20bold%27%3ENepal%3C/h4%3E%3Chr%20style%3D%27margin%3A10px%3Bcolor%3A%20white%3B%27%3E%3Cul%20style%3D%27color%3A%20white%3B%3Blist-style-type%3Acircle%3Balign-item%3Aleft%3Bpadding-left%3A20px%3Bpadding-right%3A20px%27%3E%3Cli%3EConfirmed%3A%20351005%3C/li%3E%3Cli%3EDeaths%3A%20%20%20817%3C/li%3E%3Cli%3EDeath%20Rate%3A%200.23%3C/li%3E%3C/ul%3E%3C/div%3E%0A%20%20%20%20%20%20%20%20%20%20%20%20%20%20%20%20%20%3C/div%3E%60%2C%0A%20%20%20%20%20%20%20%20%20%20%20%20%20%20%20%20%7B%22sticky%22%3A%20true%7D%0A%20%20%20%20%20%20%20%20%20%20%20%20%29%3B%0A%20%20%20%20%20%20%20%20%0A%20%20%20%20%0A%20%20%20%20%20%20%20%20%20%20%20%20var%20circle_2c3ccf514440413ebd6475275a66d1ca%20%3D%20L.circle%28%0A%20%20%20%20%20%20%20%20%20%20%20%20%20%20%20%20%5B12.5211%2C%20-69.9683%5D%2C%0A%20%20%20%20%20%20%20%20%20%20%20%20%20%20%20%20%7B%22bubblingMouseEvents%22%3A%20true%2C%20%22color%22%3A%20%22red%22%2C%20%22dashArray%22%3A%20null%2C%20%22dashOffset%22%3A%20null%2C%20%22fill%22%3A%20true%2C%20%22fillColor%22%3A%20%22indigo%22%2C%20%22fillOpacity%22%3A%200.2%2C%20%22fillRule%22%3A%20%22evenodd%22%2C%20%22lineCap%22%3A%20%22round%22%2C%20%22lineJoin%22%3A%20%22round%22%2C%20%22opacity%22%3A%201.0%2C%20%22radius%22%3A%2046000.0%2C%20%22stroke%22%3A%20true%2C%20%22weight%22%3A%203%7D%0A%20%20%20%20%20%20%20%20%20%20%20%20%29.addTo%28map_aebf8a811f48491ea9853ca070daf374%29%3B%0A%20%20%20%20%20%20%20%20%0A%20%20%20%20%0A%20%20%20%20%20%20%20%20%20%20%20%20circle_2c3ccf514440413ebd6475275a66d1ca.bindTooltip%28%0A%20%20%20%20%20%20%20%20%20%20%20%20%20%20%20%20%60%3Cdiv%3E%0A%20%20%20%20%20%20%20%20%20%20%20%20%20%20%20%20%20%20%20%20%20%3Cdiv%20style%3D%27margin%3A%200%3B%20background-color%3A%20black%3B%20color%3A%20white%3B%27%3E%3Ch4%20style%3D%27text-align%3Acenter%3Bfont-weight%3A%20bold%27%3ENetherlands%3C/h4%3E%3Chr%20style%3D%27margin%3A10px%3Bcolor%3A%20white%3B%27%3E%3Cul%20style%3D%27color%3A%20white%3B%3Blist-style-type%3Acircle%3Balign-item%3Aleft%3Bpadding-left%3A20px%3Bpadding-right%3A20px%27%3E%3Cli%3EConfirmed%3A%2010704%3C/li%3E%3Cli%3EDeaths%3A%20%20%20643%3C/li%3E%3Cli%3EDeath%20Rate%3A%206.01%3C/li%3E%3C/ul%3E%3C/div%3E%0A%20%20%20%20%20%20%20%20%20%20%20%20%20%20%20%20%20%3C/div%3E%60%2C%0A%20%20%20%20%20%20%20%20%20%20%20%20%20%20%20%20%7B%22sticky%22%3A%20true%7D%0A%20%20%20%20%20%20%20%20%20%20%20%20%29%3B%0A%20%20%20%20%20%20%20%20%0A%20%20%20%20%0A%20%20%20%20%20%20%20%20%20%20%20%20var%20circle_e1e40037e38e4c8face017ffd2adc03d%20%3D%20L.circle%28%0A%20%20%20%20%20%20%20%20%20%20%20%20%20%20%20%20%5B12.1784%2C%20-68.2385%5D%2C%0A%20%20%20%20%20%20%20%20%20%20%20%20%20%20%20%20%7B%22bubblingMouseEvents%22%3A%20true%2C%20%22color%22%3A%20%22red%22%2C%20%22dashArray%22%3A%20null%2C%20%22dashOffset%22%3A%20null%2C%20%22fill%22%3A%20true%2C%20%22fillColor%22%3A%20%22indigo%22%2C%20%22fillOpacity%22%3A%200.2%2C%20%22fillRule%22%3A%20%22evenodd%22%2C%20%22lineCap%22%3A%20%22round%22%2C%20%22lineJoin%22%3A%20%22round%22%2C%20%22opacity%22%3A%201.0%2C%20%22radius%22%3A%2036000.0%2C%20%22stroke%22%3A%20true%2C%20%22weight%22%3A%203%7D%0A%20%20%20%20%20%20%20%20%20%20%20%20%29.addTo%28map_aebf8a811f48491ea9853ca070daf374%29%3B%0A%20%20%20%20%20%20%20%20%0A%20%20%20%20%0A%20%20%20%20%20%20%20%20%20%20%20%20circle_e1e40037e38e4c8face017ffd2adc03d.bindTooltip%28%0A%20%20%20%20%20%20%20%20%20%20%20%20%20%20%20%20%60%3Cdiv%3E%0A%20%20%20%20%20%20%20%20%20%20%20%20%20%20%20%20%20%20%20%20%20%3Cdiv%20style%3D%27margin%3A%200%3B%20background-color%3A%20black%3B%20color%3A%20white%3B%27%3E%3Ch4%20style%3D%27text-align%3Acenter%3Bfont-weight%3A%20bold%27%3ENetherlands%3C/h4%3E%3Chr%20style%3D%27margin%3A10px%3Bcolor%3A%20white%3B%27%3E%3Cul%20style%3D%27color%3A%20white%3B%3Blist-style-type%3Acircle%3Balign-item%3Aleft%3Bpadding-left%3A20px%3Bpadding-right%3A20px%27%3E%3Cli%3EConfirmed%3A%201560%3C/li%3E%3Cli%3EDeaths%3A%20%20%203417%3C/li%3E%3Cli%3EDeath%20Rate%3A%20218.9%3C/li%3E%3C/ul%3E%3C/div%3E%0A%20%20%20%20%20%20%20%20%20%20%20%20%20%20%20%20%20%3C/div%3E%60%2C%0A%20%20%20%20%20%20%20%20%20%20%20%20%20%20%20%20%7B%22sticky%22%3A%20true%7D%0A%20%20%20%20%20%20%20%20%20%20%20%20%29%3B%0A%20%20%20%20%20%20%20%20%0A%20%20%20%20%0A%20%20%20%20%20%20%20%20%20%20%20%20var%20circle_3eb9f75a43944d168e026178bdf606d6%20%3D%20L.circle%28%0A%20%20%20%20%20%20%20%20%20%20%20%20%20%20%20%20%5B12.1696%2C%20-68.99%5D%2C%0A%20%20%20%20%20%20%20%20%20%20%20%20%20%20%20%20%7B%22bubblingMouseEvents%22%3A%20true%2C%20%22color%22%3A%20%22red%22%2C%20%22dashArray%22%3A%20null%2C%20%22dashOffset%22%3A%20null%2C%20%22fill%22%3A%20true%2C%20%22fillColor%22%3A%20%22indigo%22%2C%20%22fillOpacity%22%3A%200.2%2C%20%22fillRule%22%3A%20%22evenodd%22%2C%20%22lineCap%22%3A%20%22round%22%2C%20%22lineJoin%22%3A%20%22round%22%2C%20%22opacity%22%3A%201.0%2C%20%22radius%22%3A%2046000.0%2C%20%22stroke%22%3A%20true%2C%20%22weight%22%3A%203%7D%0A%20%20%20%20%20%20%20%20%20%20%20%20%29.addTo%28map_aebf8a811f48491ea9853ca070daf374%29%3B%0A%20%20%20%20%20%20%20%20%0A%20%20%20%20%0A%20%20%20%20%20%20%20%20%20%20%20%20circle_3eb9f75a43944d168e026178bdf606d6.bindTooltip%28%0A%20%20%20%20%20%20%20%20%20%20%20%20%20%20%20%20%60%3Cdiv%3E%0A%20%20%20%20%20%20%20%20%20%20%20%20%20%20%20%20%20%20%20%20%20%3Cdiv%20style%3D%27margin%3A%200%3B%20background-color%3A%20black%3B%20color%3A%20white%3B%27%3E%3Ch4%20style%3D%27text-align%3Acenter%3Bfont-weight%3A%20bold%27%3ENetherlands%3C/h4%3E%3Chr%20style%3D%27margin%3A10px%3Bcolor%3A%20white%3B%27%3E%3Cul%20style%3D%27color%3A%20white%3B%3Blist-style-type%3Acircle%3Balign-item%3Aleft%3Bpadding-left%3A20px%3Bpadding-right%3A20px%27%3E%3Cli%3EConfirmed%3A%2012217%3C/li%3E%3Cli%3EDeaths%3A%20%20%20100%3C/li%3E%3Cli%3EDeath%20Rate%3A%200.82%3C/li%3E%3C/ul%3E%3C/div%3E%0A%20%20%20%20%20%20%20%20%20%20%20%20%20%20%20%20%20%3C/div%3E%60%2C%0A%20%20%20%20%20%20%20%20%20%20%20%20%20%20%20%20%7B%22sticky%22%3A%20true%7D%0A%20%20%20%20%20%20%20%20%20%20%20%20%29%3B%0A%20%20%20%20%20%20%20%20%0A%20%20%20%20%0A%20%20%20%20%20%20%20%20%20%20%20%20var%20circle_e84632a9a1e840f6a1966b3f69f6a810%20%3D%20L.circle%28%0A%20%20%20%20%20%20%20%20%20%20%20%20%20%20%20%20%5B18.0425%2C%20-63.0548%5D%2C%0A%20%20%20%20%20%20%20%20%20%20%20%20%20%20%20%20%7B%22bubblingMouseEvents%22%3A%20true%2C%20%22color%22%3A%20%22red%22%2C%20%22dashArray%22%3A%20null%2C%20%22dashOffset%22%3A%20null%2C%20%22fill%22%3A%20true%2C%20%22fillColor%22%3A%20%22indigo%22%2C%20%22fillOpacity%22%3A%200.2%2C%20%22fillRule%22%3A%20%22evenodd%22%2C%20%22lineCap%22%3A%20%22round%22%2C%20%22lineJoin%22%3A%20%22round%22%2C%20%22opacity%22%3A%201.0%2C%20%22radius%22%3A%2036000.0%2C%20%22stroke%22%3A%20true%2C%20%22weight%22%3A%203%7D%0A%20%20%20%20%20%20%20%20%20%20%20%20%29.addTo%28map_aebf8a811f48491ea9853ca070daf374%29%3B%0A%20%20%20%20%20%20%20%20%0A%20%20%20%20%0A%20%20%20%20%20%20%20%20%20%20%20%20circle_e84632a9a1e840f6a1966b3f69f6a810.bindTooltip%28%0A%20%20%20%20%20%20%20%20%20%20%20%20%20%20%20%20%60%3Cdiv%3E%0A%20%20%20%20%20%20%20%20%20%20%20%20%20%20%20%20%20%20%20%20%20%3Cdiv%20style%3D%27margin%3A%200%3B%20background-color%3A%20black%3B%20color%3A%20white%3B%27%3E%3Ch4%20style%3D%27text-align%3Acenter%3Bfont-weight%3A%20bold%27%3ENetherlands%3C/h4%3E%3Chr%20style%3D%27margin%3A10px%3Bcolor%3A%20white%3B%27%3E%3Cul%20style%3D%27color%3A%20white%3B%3Blist-style-type%3Acircle%3Balign-item%3Aleft%3Bpadding-left%3A20px%3Bpadding-right%3A20px%27%3E%3Cli%3EConfirmed%3A%202240%3C/li%3E%3Cli%3EDeaths%3A%20%20%2016%3C/li%3E%3Cli%3EDeath%20Rate%3A%200.71%3C/li%3E%3C/ul%3E%3C/div%3E%0A%20%20%20%20%20%20%20%20%20%20%20%20%20%20%20%20%20%3C/div%3E%60%2C%0A%20%20%20%20%20%20%20%20%20%20%20%20%20%20%20%20%7B%22sticky%22%3A%20true%7D%0A%20%20%20%20%20%20%20%20%20%20%20%20%29%3B%0A%20%20%20%20%20%20%20%20%0A%20%20%20%20%0A%20%20%20%20%20%20%20%20%20%20%20%20var%20circle_d72e07a0812b4ab4a7d9ea075b733da1%20%3D%20L.circle%28%0A%20%20%20%20%20%20%20%20%20%20%20%20%20%20%20%20%5B52.1326%2C%205.2913%5D%2C%0A%20%20%20%20%20%20%20%20%20%20%20%20%20%20%20%20%7B%22bubblingMouseEvents%22%3A%20true%2C%20%22color%22%3A%20%22red%22%2C%20%22dashArray%22%3A%20null%2C%20%22dashOffset%22%3A%20null%2C%20%22fill%22%3A%20true%2C%20%22fillColor%22%3A%20%22indigo%22%2C%20%22fillOpacity%22%3A%200.2%2C%20%22fillRule%22%3A%20%22evenodd%22%2C%20%22lineCap%22%3A%20%22round%22%2C%20%22lineJoin%22%3A%20%22round%22%2C%20%22opacity%22%3A%201.0%2C%20%22radius%22%3A%2071000.0%2C%20%22stroke%22%3A%20true%2C%20%22weight%22%3A%203%7D%0A%20%20%20%20%20%20%20%20%20%20%20%20%29.addTo%28map_aebf8a811f48491ea9853ca070daf374%29%3B%0A%20%20%20%20%20%20%20%20%0A%20%20%20%20%0A%20%20%20%20%20%20%20%20%20%20%20%20circle_d72e07a0812b4ab4a7d9ea075b733da1.bindTooltip%28%0A%20%20%20%20%20%20%20%20%20%20%20%20%20%20%20%20%60%3Cdiv%3E%0A%20%20%20%20%20%20%20%20%20%20%20%20%20%20%20%20%20%20%20%20%20%3Cdiv%20style%3D%27margin%3A%200%3B%20background-color%3A%20black%3B%20color%3A%20white%3B%27%3E%3Ch4%20style%3D%27text-align%3Acenter%3Bfont-weight%3A%20bold%27%3ENetherlands%3C/h4%3E%3Chr%20style%3D%27margin%3A10px%3Bcolor%3A%20white%3B%27%3E%3Cul%20style%3D%27color%3A%20white%3B%3Blist-style-type%3Acircle%3Balign-item%3Aleft%3Bpadding-left%3A20px%3Bpadding-right%3A20px%27%3E%3Cli%3EConfirmed%3A%201524527%3C/li%3E%3Cli%3EDeaths%3A%20%20%20111%3C/li%3E%3Cli%3EDeath%20Rate%3A%200.01%3C/li%3E%3C/ul%3E%3C/div%3E%0A%20%20%20%20%20%20%20%20%20%20%20%20%20%20%20%20%20%3C/div%3E%60%2C%0A%20%20%20%20%20%20%20%20%20%20%20%20%20%20%20%20%7B%22sticky%22%3A%20true%7D%0A%20%20%20%20%20%20%20%20%20%20%20%20%29%3B%0A%20%20%20%20%20%20%20%20%0A%20%20%20%20%0A%20%20%20%20%20%20%20%20%20%20%20%20var%20circle_569f362976ab400192af4b5da9331fdc%20%3D%20L.circle%28%0A%20%20%20%20%20%20%20%20%20%20%20%20%20%20%20%20%5B-40.9006%2C%20174.886%5D%2C%0A%20%20%20%20%20%20%20%20%20%20%20%20%20%20%20%20%7B%22bubblingMouseEvents%22%3A%20true%2C%20%22color%22%3A%20%22red%22%2C%20%22dashArray%22%3A%20null%2C%20%22dashOffset%22%3A%20null%2C%20%22fill%22%3A%20true%2C%20%22fillColor%22%3A%20%22indigo%22%2C%20%22fillOpacity%22%3A%200.2%2C%20%22fillRule%22%3A%20%22evenodd%22%2C%20%22lineCap%22%3A%20%22round%22%2C%20%22lineJoin%22%3A%20%22round%22%2C%20%22opacity%22%3A%201.0%2C%20%22radius%22%3A%2036000.0%2C%20%22stroke%22%3A%20true%2C%20%22weight%22%3A%203%7D%0A%20%20%20%20%20%20%20%20%20%20%20%20%29.addTo%28map_aebf8a811f48491ea9853ca070daf374%29%3B%0A%20%20%20%20%20%20%20%20%0A%20%20%20%20%0A%20%20%20%20%20%20%20%20%20%20%20%20circle_569f362976ab400192af4b5da9331fdc.bindTooltip%28%0A%20%20%20%20%20%20%20%20%20%20%20%20%20%20%20%20%60%3Cdiv%3E%0A%20%20%20%20%20%20%20%20%20%20%20%20%20%20%20%20%20%20%20%20%20%3Cdiv%20style%3D%27margin%3A%200%3B%20background-color%3A%20black%3B%20color%3A%20white%3B%27%3E%3Ch4%20style%3D%27text-align%3Acenter%3Bfont-weight%3A%20bold%27%3ENew%20Zealand%3C/h4%3E%3Chr%20style%3D%27margin%3A10px%3Bcolor%3A%20white%3B%27%3E%3Cul%20style%3D%27color%3A%20white%3B%3Blist-style-type%3Acircle%3Balign-item%3Aleft%3Bpadding-left%3A20px%3Bpadding-right%3A20px%27%3E%3Cli%3EConfirmed%3A%202629%3C/li%3E%3Cli%3EDeaths%3A%20%20%2027%3C/li%3E%3Cli%3EDeath%20Rate%3A%201.03%3C/li%3E%3C/ul%3E%3C/div%3E%0A%20%20%20%20%20%20%20%20%20%20%20%20%20%20%20%20%20%3C/div%3E%60%2C%0A%20%20%20%20%20%20%20%20%20%20%20%20%20%20%20%20%7B%22sticky%22%3A%20true%7D%0A%20%20%20%20%20%20%20%20%20%20%20%20%29%3B%0A%20%20%20%20%20%20%20%20%0A%20%20%20%20%0A%20%20%20%20%20%20%20%20%20%20%20%20var%20circle_413318a8ece34efa8149accc02052051%20%3D%20L.circle%28%0A%20%20%20%20%20%20%20%20%20%20%20%20%20%20%20%20%5B12.865416%2C%20-85.207229%5D%2C%0A%20%20%20%20%20%20%20%20%20%20%20%20%20%20%20%20%7B%22bubblingMouseEvents%22%3A%20true%2C%20%22color%22%3A%20%22red%22%2C%20%22dashArray%22%3A%20null%2C%20%22dashOffset%22%3A%20null%2C%20%22fill%22%3A%20true%2C%20%22fillColor%22%3A%20%22indigo%22%2C%20%22fillOpacity%22%3A%200.2%2C%20%22fillRule%22%3A%20%22evenodd%22%2C%20%22lineCap%22%3A%20%22round%22%2C%20%22lineJoin%22%3A%20%22round%22%2C%20%22opacity%22%3A%201.0%2C%20%22radius%22%3A%2041000.0%2C%20%22stroke%22%3A%20true%2C%20%22weight%22%3A%203%7D%0A%20%20%20%20%20%20%20%20%20%20%20%20%29.addTo%28map_aebf8a811f48491ea9853ca070daf374%29%3B%0A%20%20%20%20%20%20%20%20%0A%20%20%20%20%0A%20%20%20%20%20%20%20%20%20%20%20%20circle_413318a8ece34efa8149accc02052051.bindTooltip%28%0A%20%20%20%20%20%20%20%20%20%20%20%20%20%20%20%20%60%3Cdiv%3E%0A%20%20%20%20%20%20%20%20%20%20%20%20%20%20%20%20%20%20%20%20%20%3Cdiv%20style%3D%27margin%3A%200%3B%20background-color%3A%20black%3B%20color%3A%20white%3B%27%3E%3Ch4%20style%3D%27text-align%3Acenter%3Bfont-weight%3A%20bold%27%3ENicaragua%3C/h4%3E%3Chr%20style%3D%27margin%3A10px%3Bcolor%3A%20white%3B%27%3E%3Cul%20style%3D%27color%3A%20white%3B%3Blist-style-type%3Acircle%3Balign-item%3Aleft%3Bpadding-left%3A20px%3Bpadding-right%3A20px%27%3E%3Cli%3EConfirmed%3A%206989%3C/li%3E%3Cli%3EDeaths%3A%20%20%2017221%3C/li%3E%3Cli%3EDeath%20Rate%3A%20246.37%3C/li%3E%3C/ul%3E%3C/div%3E%0A%20%20%20%20%20%20%20%20%20%20%20%20%20%20%20%20%20%3C/div%3E%60%2C%0A%20%20%20%20%20%20%20%20%20%20%20%20%20%20%20%20%7B%22sticky%22%3A%20true%7D%0A%20%20%20%20%20%20%20%20%20%20%20%20%29%3B%0A%20%20%20%20%20%20%20%20%0A%20%20%20%20%0A%20%20%20%20%20%20%20%20%20%20%20%20var%20circle_a2c46c3a2e4e4c9ab77a1c886cf7d31a%20%3D%20L.circle%28%0A%20%20%20%20%20%20%20%20%20%20%20%20%20%20%20%20%5B17.607789%2C%208.081666%5D%2C%0A%20%20%20%20%20%20%20%20%20%20%20%20%20%20%20%20%7B%22bubblingMouseEvents%22%3A%20true%2C%20%22color%22%3A%20%22red%22%2C%20%22dashArray%22%3A%20null%2C%20%22dashOffset%22%3A%20null%2C%20%22fill%22%3A%20true%2C%20%22fillColor%22%3A%20%22indigo%22%2C%20%22fillOpacity%22%3A%200.2%2C%20%22fillRule%22%3A%20%22evenodd%22%2C%20%22lineCap%22%3A%20%22round%22%2C%20%22lineJoin%22%3A%20%22round%22%2C%20%22opacity%22%3A%201.0%2C%20%22radius%22%3A%2041000.0%2C%20%22stroke%22%3A%20true%2C%20%22weight%22%3A%203%7D%0A%20%20%20%20%20%20%20%20%20%20%20%20%29.addTo%28map_aebf8a811f48491ea9853ca070daf374%29%3B%0A%20%20%20%20%20%20%20%20%0A%20%20%20%20%0A%20%20%20%20%20%20%20%20%20%20%20%20circle_a2c46c3a2e4e4c9ab77a1c886cf7d31a.bindTooltip%28%0A%20%20%20%20%20%20%20%20%20%20%20%20%20%20%20%20%60%3Cdiv%3E%0A%20%20%20%20%20%20%20%20%20%20%20%20%20%20%20%20%20%20%20%20%20%3Cdiv%20style%3D%27margin%3A%200%3B%20background-color%3A%20black%3B%20color%3A%20white%3B%27%3E%3Ch4%20style%3D%27text-align%3Acenter%3Bfont-weight%3A%20bold%27%3ENiger%3C/h4%3E%3Chr%20style%3D%27margin%3A10px%3Bcolor%3A%20white%3B%27%3E%3Cul%20style%3D%27color%3A%20white%3B%3Blist-style-type%3Acircle%3Balign-item%3Aleft%3Bpadding-left%3A20px%3Bpadding-right%3A20px%27%3E%3Cli%3EConfirmed%3A%205286%3C/li%3E%3Cli%3EDeaths%3A%20%20%2026%3C/li%3E%3Cli%3EDeath%20Rate%3A%200.49%3C/li%3E%3C/ul%3E%3C/div%3E%0A%20%20%20%20%20%20%20%20%20%20%20%20%20%20%20%20%20%3C/div%3E%60%2C%0A%20%20%20%20%20%20%20%20%20%20%20%20%20%20%20%20%7B%22sticky%22%3A%20true%7D%0A%20%20%20%20%20%20%20%20%20%20%20%20%29%3B%0A%20%20%20%20%20%20%20%20%0A%20%20%20%20%0A%20%20%20%20%20%20%20%20%20%20%20%20var%20circle_946759b342bb49679abaacb8631f6e12%20%3D%20L.circle%28%0A%20%20%20%20%20%20%20%20%20%20%20%20%20%20%20%20%5B9.082%2C%208.6753%5D%2C%0A%20%20%20%20%20%20%20%20%20%20%20%20%20%20%20%20%7B%22bubblingMouseEvents%22%3A%20true%2C%20%22color%22%3A%20%22red%22%2C%20%22dashArray%22%3A%20null%2C%20%22dashOffset%22%3A%20null%2C%20%22fill%22%3A%20true%2C%20%22fillColor%22%3A%20%22indigo%22%2C%20%22fillOpacity%22%3A%200.2%2C%20%22fillRule%22%3A%20%22evenodd%22%2C%20%22lineCap%22%3A%20%22round%22%2C%20%22lineJoin%22%3A%20%22round%22%2C%20%22opacity%22%3A%201.0%2C%20%22radius%22%3A%2061000.0%2C%20%22stroke%22%3A%20true%2C%20%22weight%22%3A%203%7D%0A%20%20%20%20%20%20%20%20%20%20%20%20%29.addTo%28map_aebf8a811f48491ea9853ca070daf374%29%3B%0A%20%20%20%20%20%20%20%20%0A%20%20%20%20%0A%20%20%20%20%20%20%20%20%20%20%20%20circle_946759b342bb49679abaacb8631f6e12.bindTooltip%28%0A%20%20%20%20%20%20%20%20%20%20%20%20%20%20%20%20%60%3Cdiv%3E%0A%20%20%20%20%20%20%20%20%20%20%20%20%20%20%20%20%20%20%20%20%20%3Cdiv%20style%3D%27margin%3A%200%3B%20background-color%3A%20black%3B%20color%3A%20white%3B%27%3E%3Ch4%20style%3D%27text-align%3Acenter%3Bfont-weight%3A%20bold%27%3ENigeria%3C/h4%3E%3Chr%20style%3D%27margin%3A10px%3Bcolor%3A%20white%3B%27%3E%3Cul%20style%3D%27color%3A%20white%3B%3Blist-style-type%3Acircle%3Balign-item%3Aleft%3Bpadding-left%3A20px%3Bpadding-right%3A20px%27%3E%3Cli%3EConfirmed%3A%20165215%3C/li%3E%3Cli%3EDeaths%3A%20%20%20183%3C/li%3E%3Cli%3EDeath%20Rate%3A%200.11%3C/li%3E%3C/ul%3E%3C/div%3E%0A%20%20%20%20%20%20%20%20%20%20%20%20%20%20%20%20%20%3C/div%3E%60%2C%0A%20%20%20%20%20%20%20%20%20%20%20%20%20%20%20%20%7B%22sticky%22%3A%20true%7D%0A%20%20%20%20%20%20%20%20%20%20%20%20%29%3B%0A%20%20%20%20%20%20%20%20%0A%20%20%20%20%0A%20%20%20%20%20%20%20%20%20%20%20%20var%20circle_ed72f212e92b416ea949c87ef698330f%20%3D%20L.circle%28%0A%20%20%20%20%20%20%20%20%20%20%20%20%20%20%20%20%5B41.6086%2C%2021.7453%5D%2C%0A%20%20%20%20%20%20%20%20%20%20%20%20%20%20%20%20%7B%22bubblingMouseEvents%22%3A%20true%2C%20%22color%22%3A%20%22red%22%2C%20%22dashArray%22%3A%20null%2C%20%22dashOffset%22%3A%20null%2C%20%22fill%22%3A%20true%2C%20%22fillColor%22%3A%20%22indigo%22%2C%20%22fillOpacity%22%3A%200.2%2C%20%22fillRule%22%3A%20%22evenodd%22%2C%20%22lineCap%22%3A%20%22round%22%2C%20%22lineJoin%22%3A%20%22round%22%2C%20%22opacity%22%3A%201.0%2C%20%22radius%22%3A%2056000.0%2C%20%22stroke%22%3A%20true%2C%20%22weight%22%3A%203%7D%0A%20%20%20%20%20%20%20%20%20%20%20%20%29.addTo%28map_aebf8a811f48491ea9853ca070daf374%29%3B%0A%20%20%20%20%20%20%20%20%0A%20%20%20%20%0A%20%20%20%20%20%20%20%20%20%20%20%20circle_ed72f212e92b416ea949c87ef698330f.bindTooltip%28%0A%20%20%20%20%20%20%20%20%20%20%20%20%20%20%20%20%60%3Cdiv%3E%0A%20%20%20%20%20%20%20%20%20%20%20%20%20%20%20%20%20%20%20%20%20%3Cdiv%20style%3D%27margin%3A%200%3B%20background-color%3A%20black%3B%20color%3A%20white%3B%27%3E%3Ch4%20style%3D%27text-align%3Acenter%3Bfont-weight%3A%20bold%27%3ENorth%20Macedonia%3C/h4%3E%3Chr%20style%3D%27margin%3A10px%3Bcolor%3A%20white%3B%27%3E%3Cul%20style%3D%27color%3A%20white%3B%3Blist-style-type%3Acircle%3Balign-item%3Aleft%3Bpadding-left%3A20px%3Bpadding-right%3A20px%27%3E%3Cli%3EConfirmed%3A%20152814%3C/li%3E%3Cli%3EDeaths%3A%20%20%20192%3C/li%3E%3Cli%3EDeath%20Rate%3A%200.13%3C/li%3E%3C/ul%3E%3C/div%3E%0A%20%20%20%20%20%20%20%20%20%20%20%20%20%20%20%20%20%3C/div%3E%60%2C%0A%20%20%20%20%20%20%20%20%20%20%20%20%20%20%20%20%7B%22sticky%22%3A%20true%7D%0A%20%20%20%20%20%20%20%20%20%20%20%20%29%3B%0A%20%20%20%20%20%20%20%20%0A%20%20%20%20%0A%20%20%20%20%20%20%20%20%20%20%20%20var%20circle_58bd477df09a48ae8b5d7773e6f9c5e9%20%3D%20L.circle%28%0A%20%20%20%20%20%20%20%20%20%20%20%20%20%20%20%20%5B60.472%2C%208.4689%5D%2C%0A%20%20%20%20%20%20%20%20%20%20%20%20%20%20%20%20%7B%22bubblingMouseEvents%22%3A%20true%2C%20%22color%22%3A%20%22red%22%2C%20%22dashArray%22%3A%20null%2C%20%22dashOffset%22%3A%20null%2C%20%22fill%22%3A%20true%2C%20%22fillColor%22%3A%20%22indigo%22%2C%20%22fillOpacity%22%3A%200.2%2C%20%22fillRule%22%3A%20%22evenodd%22%2C%20%22lineCap%22%3A%20%22round%22%2C%20%22lineJoin%22%3A%20%22round%22%2C%20%22opacity%22%3A%201.0%2C%20%22radius%22%3A%2056000.0%2C%20%22stroke%22%3A%20true%2C%20%22weight%22%3A%203%7D%0A%20%20%20%20%20%20%20%20%20%20%20%20%29.addTo%28map_aebf8a811f48491ea9853ca070daf374%29%3B%0A%20%20%20%20%20%20%20%20%0A%20%20%20%20%0A%20%20%20%20%20%20%20%20%20%20%20%20circle_58bd477df09a48ae8b5d7773e6f9c5e9.bindTooltip%28%0A%20%20%20%20%20%20%20%20%20%20%20%20%20%20%20%20%60%3Cdiv%3E%0A%20%20%20%20%20%20%20%20%20%20%20%20%20%20%20%20%20%20%20%20%20%3Cdiv%20style%3D%27margin%3A%200%3B%20background-color%3A%20black%3B%20color%3A%20white%3B%27%3E%3Ch4%20style%3D%27text-align%3Acenter%3Bfont-weight%3A%20bold%27%3ENorway%3C/h4%3E%3Chr%20style%3D%27margin%3A10px%3Bcolor%3A%20white%3B%27%3E%3Cul%20style%3D%27color%3A%20white%3B%3Blist-style-type%3Acircle%3Balign-item%3Aleft%3Bpadding-left%3A20px%3Bpadding-right%3A20px%27%3E%3Cli%3EConfirmed%3A%20114436%3C/li%3E%3Cli%3EDeaths%3A%20%20%202063%3C/li%3E%3Cli%3EDeath%20Rate%3A%201.8%3C/li%3E%3C/ul%3E%3C/div%3E%0A%20%20%20%20%20%20%20%20%20%20%20%20%20%20%20%20%20%3C/div%3E%60%2C%0A%20%20%20%20%20%20%20%20%20%20%20%20%20%20%20%20%7B%22sticky%22%3A%20true%7D%0A%20%20%20%20%20%20%20%20%20%20%20%20%29%3B%0A%20%20%20%20%20%20%20%20%0A%20%20%20%20%0A%20%20%20%20%20%20%20%20%20%20%20%20var%20circle_8937e6538aca4107933832ffa66f5e0b%20%3D%20L.circle%28%0A%20%20%20%20%20%20%20%20%20%20%20%20%20%20%20%20%5B21.512583%2C%2055.923255000000005%5D%2C%0A%20%20%20%20%20%20%20%20%20%20%20%20%20%20%20%20%7B%22bubblingMouseEvents%22%3A%20true%2C%20%22color%22%3A%20%22red%22%2C%20%22dashArray%22%3A%20null%2C%20%22dashOffset%22%3A%20null%2C%20%22fill%22%3A%20true%2C%20%22fillColor%22%3A%20%22indigo%22%2C%20%22fillOpacity%22%3A%200.2%2C%20%22fillRule%22%3A%20%22evenodd%22%2C%20%22lineCap%22%3A%20%22round%22%2C%20%22lineJoin%22%3A%20%22round%22%2C%20%22opacity%22%3A%201.0%2C%20%22radius%22%3A%2061000.0%2C%20%22stroke%22%3A%20true%2C%20%22weight%22%3A%203%7D%0A%20%20%20%20%20%20%20%20%20%20%20%20%29.addTo%28map_aebf8a811f48491ea9853ca070daf374%29%3B%0A%20%20%20%20%20%20%20%20%0A%20%20%20%20%0A%20%20%20%20%20%20%20%20%20%20%20%20circle_8937e6538aca4107933832ffa66f5e0b.bindTooltip%28%0A%20%20%20%20%20%20%20%20%20%20%20%20%20%20%20%20%60%3Cdiv%3E%0A%20%20%20%20%20%20%20%20%20%20%20%20%20%20%20%20%20%20%20%20%20%3Cdiv%20style%3D%27margin%3A%200%3B%20background-color%3A%20black%3B%20color%3A%20white%3B%27%3E%3Ch4%20style%3D%27text-align%3Acenter%3Bfont-weight%3A%20bold%27%3EOman%3C/h4%3E%3Chr%20style%3D%27margin%3A10px%3Bcolor%3A%20white%3B%27%3E%3Cul%20style%3D%27color%3A%20white%3B%3Blist-style-type%3Acircle%3Balign-item%3Aleft%3Bpadding-left%3A20px%3Bpadding-right%3A20px%27%3E%3Cli%3EConfirmed%3A%20197802%3C/li%3E%3Cli%3EDeaths%3A%20%20%204992%3C/li%3E%3Cli%3EDeath%20Rate%3A%202.52%3C/li%3E%3C/ul%3E%3C/div%3E%0A%20%20%20%20%20%20%20%20%20%20%20%20%20%20%20%20%20%3C/div%3E%60%2C%0A%20%20%20%20%20%20%20%20%20%20%20%20%20%20%20%20%7B%22sticky%22%3A%20true%7D%0A%20%20%20%20%20%20%20%20%20%20%20%20%29%3B%0A%20%20%20%20%20%20%20%20%0A%20%20%20%20%0A%20%20%20%20%20%20%20%20%20%20%20%20var%20circle_6a1ba9186826409dbb783321d37123b6%20%3D%20L.circle%28%0A%20%20%20%20%20%20%20%20%20%20%20%20%20%20%20%20%5B30.3753%2C%2069.3451%5D%2C%0A%20%20%20%20%20%20%20%20%20%20%20%20%20%20%20%20%7B%22bubblingMouseEvents%22%3A%20true%2C%20%22color%22%3A%20%22red%22%2C%20%22dashArray%22%3A%20null%2C%20%22dashOffset%22%3A%20null%2C%20%22fill%22%3A%20true%2C%20%22fillColor%22%3A%20%22indigo%22%2C%20%22fillOpacity%22%3A%200.2%2C%20%22fillRule%22%3A%20%22evenodd%22%2C%20%22lineCap%22%3A%20%22round%22%2C%20%22lineJoin%22%3A%20%22round%22%2C%20%22opacity%22%3A%201.0%2C%20%22radius%22%3A%2066000.0%2C%20%22stroke%22%3A%20true%2C%20%22weight%22%3A%203%7D%0A%20%20%20%20%20%20%20%20%20%20%20%20%29.addTo%28map_aebf8a811f48491ea9853ca070daf374%29%3B%0A%20%20%20%20%20%20%20%20%0A%20%20%20%20%0A%20%20%20%20%20%20%20%20%20%20%20%20circle_6a1ba9186826409dbb783321d37123b6.bindTooltip%28%0A%20%20%20%20%20%20%20%20%20%20%20%20%20%20%20%20%60%3Cdiv%3E%0A%20%20%20%20%20%20%20%20%20%20%20%20%20%20%20%20%20%20%20%20%20%3Cdiv%20style%3D%27margin%3A%200%3B%20background-color%3A%20black%3B%20color%3A%20white%3B%27%3E%3Ch4%20style%3D%27text-align%3Acenter%3Bfont-weight%3A%20bold%27%3EPakistan%3C/h4%3E%3Chr%20style%3D%27margin%3A10px%3Bcolor%3A%20white%3B%27%3E%3Cul%20style%3D%27color%3A%20white%3B%3Blist-style-type%3Acircle%3Balign-item%3Aleft%3Bpadding-left%3A20px%3Bpadding-right%3A20px%27%3E%3Cli%3EConfirmed%3A%20837523%3C/li%3E%3Cli%3EDeaths%3A%20%20%20757%3C/li%3E%3Cli%3EDeath%20Rate%3A%200.09%3C/li%3E%3C/ul%3E%3C/div%3E%0A%20%20%20%20%20%20%20%20%20%20%20%20%20%20%20%20%20%3C/div%3E%60%2C%0A%20%20%20%20%20%20%20%20%20%20%20%20%20%20%20%20%7B%22sticky%22%3A%20true%7D%0A%20%20%20%20%20%20%20%20%20%20%20%20%29%3B%0A%20%20%20%20%20%20%20%20%0A%20%20%20%20%0A%20%20%20%20%20%20%20%20%20%20%20%20var%20circle_665393fd92254d7682f03a7b0b1ee92c%20%3D%20L.circle%28%0A%20%20%20%20%20%20%20%20%20%20%20%20%20%20%20%20%5B8.538%2C%20-80.7821%5D%2C%0A%20%20%20%20%20%20%20%20%20%20%20%20%20%20%20%20%7B%22bubblingMouseEvents%22%3A%20true%2C%20%22color%22%3A%20%22red%22%2C%20%22dashArray%22%3A%20null%2C%20%22dashOffset%22%3A%20null%2C%20%22fill%22%3A%20true%2C%20%22fillColor%22%3A%20%22indigo%22%2C%20%22fillOpacity%22%3A%200.2%2C%20%22fillRule%22%3A%20%22evenodd%22%2C%20%22lineCap%22%3A%20%22round%22%2C%20%22lineJoin%22%3A%20%22round%22%2C%20%22opacity%22%3A%201.0%2C%20%22radius%22%3A%2061000.0%2C%20%22stroke%22%3A%20true%2C%20%22weight%22%3A%203%7D%0A%20%20%20%20%20%20%20%20%20%20%20%20%29.addTo%28map_aebf8a811f48491ea9853ca070daf374%29%3B%0A%20%20%20%20%20%20%20%20%0A%20%20%20%20%0A%20%20%20%20%20%20%20%20%20%20%20%20circle_665393fd92254d7682f03a7b0b1ee92c.bindTooltip%28%0A%20%20%20%20%20%20%20%20%20%20%20%20%20%20%20%20%60%3Cdiv%3E%0A%20%20%20%20%20%20%20%20%20%20%20%20%20%20%20%20%20%20%20%20%20%3Cdiv%20style%3D%27margin%3A%200%3B%20background-color%3A%20black%3B%20color%3A%20white%3B%27%3E%3Ch4%20style%3D%27text-align%3Acenter%3Bfont-weight%3A%20bold%27%3EPanama%3C/h4%3E%3Chr%20style%3D%27margin%3A10px%3Bcolor%3A%20white%3B%27%3E%3Cul%20style%3D%27color%3A%20white%3B%3Blist-style-type%3Acircle%3Balign-item%3Aleft%3Bpadding-left%3A20px%3Bpadding-right%3A20px%27%3E%3Cli%3EConfirmed%3A%20365619%3C/li%3E%3Cli%3EDeaths%3A%20%20%202062%3C/li%3E%3Cli%3EDeath%20Rate%3A%200.56%3C/li%3E%3C/ul%3E%3C/div%3E%0A%20%20%20%20%20%20%20%20%20%20%20%20%20%20%20%20%20%3C/div%3E%60%2C%0A%20%20%20%20%20%20%20%20%20%20%20%20%20%20%20%20%7B%22sticky%22%3A%20true%7D%0A%20%20%20%20%20%20%20%20%20%20%20%20%29%3B%0A%20%20%20%20%20%20%20%20%0A%20%20%20%20%0A%20%20%20%20%20%20%20%20%20%20%20%20var%20circle_147de17b0c2c4b3ba39d4904a62f0cc9%20%3D%20L.circle%28%0A%20%20%20%20%20%20%20%20%20%20%20%20%20%20%20%20%5B-6.314993%2C%20143.95555%5D%2C%0A%20%20%20%20%20%20%20%20%20%20%20%20%20%20%20%20%7B%22bubblingMouseEvents%22%3A%20true%2C%20%22color%22%3A%20%22red%22%2C%20%22dashArray%22%3A%20null%2C%20%22dashOffset%22%3A%20null%2C%20%22fill%22%3A%20true%2C%20%22fillColor%22%3A%20%22indigo%22%2C%20%22fillOpacity%22%3A%200.2%2C%20%22fillRule%22%3A%20%22evenodd%22%2C%20%22lineCap%22%3A%20%22round%22%2C%20%22lineJoin%22%3A%20%22round%22%2C%20%22opacity%22%3A%201.0%2C%20%22radius%22%3A%2046000.0%2C%20%22stroke%22%3A%20true%2C%20%22weight%22%3A%203%7D%0A%20%20%20%20%20%20%20%20%20%20%20%20%29.addTo%28map_aebf8a811f48491ea9853ca070daf374%29%3B%0A%20%20%20%20%20%20%20%20%0A%20%20%20%20%0A%20%20%20%20%20%20%20%20%20%20%20%20circle_147de17b0c2c4b3ba39d4904a62f0cc9.bindTooltip%28%0A%20%20%20%20%20%20%20%20%20%20%20%20%20%20%20%20%60%3Cdiv%3E%0A%20%20%20%20%20%20%20%20%20%20%20%20%20%20%20%20%20%20%20%20%20%3Cdiv%20style%3D%27margin%3A%200%3B%20background-color%3A%20black%3B%20color%3A%20white%3B%27%3E%3Ch4%20style%3D%27text-align%3Acenter%3Bfont-weight%3A%20bold%27%3EPapua%20New%20Guinea%3C/h4%3E%3Chr%20style%3D%27margin%3A10px%3Bcolor%3A%20white%3B%27%3E%3Cul%20style%3D%27color%3A%20white%3B%3Blist-style-type%3Acircle%3Balign-item%3Aleft%3Bpadding-left%3A20px%3Bpadding-right%3A20px%27%3E%3Cli%3EConfirmed%3A%2011273%3C/li%3E%3Cli%3EDeaths%3A%20%20%2018310%3C/li%3E%3Cli%3EDeath%20Rate%3A%20162.41%3C/li%3E%3C/ul%3E%3C/div%3E%0A%20%20%20%20%20%20%20%20%20%20%20%20%20%20%20%20%20%3C/div%3E%60%2C%0A%20%20%20%20%20%20%20%20%20%20%20%20%20%20%20%20%7B%22sticky%22%3A%20true%7D%0A%20%20%20%20%20%20%20%20%20%20%20%20%29%3B%0A%20%20%20%20%20%20%20%20%0A%20%20%20%20%0A%20%20%20%20%20%20%20%20%20%20%20%20var%20circle_34a974a63a104bcb9a9cbb94ade24f13%20%3D%20L.circle%28%0A%20%20%20%20%20%20%20%20%20%20%20%20%20%20%20%20%5B-23.4425%2C%20-58.4438%5D%2C%0A%20%20%20%20%20%20%20%20%20%20%20%20%20%20%20%20%7B%22bubblingMouseEvents%22%3A%20true%2C%20%22color%22%3A%20%22red%22%2C%20%22dashArray%22%3A%20null%2C%20%22dashOffset%22%3A%20null%2C%20%22fill%22%3A%20true%2C%20%22fillColor%22%3A%20%22indigo%22%2C%20%22fillOpacity%22%3A%200.2%2C%20%22fillRule%22%3A%20%22evenodd%22%2C%20%22lineCap%22%3A%20%22round%22%2C%20%22lineJoin%22%3A%20%22round%22%2C%20%22opacity%22%3A%201.0%2C%20%22radius%22%3A%2061000.0%2C%20%22stroke%22%3A%20true%2C%20%22weight%22%3A%203%7D%0A%20%20%20%20%20%20%20%20%20%20%20%20%29.addTo%28map_aebf8a811f48491ea9853ca070daf374%29%3B%0A%20%20%20%20%20%20%20%20%0A%20%20%20%20%0A%20%20%20%20%20%20%20%20%20%20%20%20circle_34a974a63a104bcb9a9cbb94ade24f13.bindTooltip%28%0A%20%20%20%20%20%20%20%20%20%20%20%20%20%20%20%20%60%3Cdiv%3E%0A%20%20%20%20%20%20%20%20%20%20%20%20%20%20%20%20%20%20%20%20%20%3Cdiv%20style%3D%27margin%3A%200%3B%20background-color%3A%20black%3B%20color%3A%20white%3B%27%3E%3Ch4%20style%3D%27text-align%3Acenter%3Bfont-weight%3A%20bold%27%3EParaguay%3C/h4%3E%3Chr%20style%3D%27margin%3A10px%3Bcolor%3A%20white%3B%27%3E%3Cul%20style%3D%27color%3A%20white%3B%3Blist-style-type%3Acircle%3Balign-item%3Aleft%3Bpadding-left%3A20px%3Bpadding-right%3A20px%27%3E%3Cli%3EConfirmed%3A%20286667%3C/li%3E%3Cli%3EDeaths%3A%20%20%206248%3C/li%3E%3Cli%3EDeath%20Rate%3A%202.18%3C/li%3E%3C/ul%3E%3C/div%3E%0A%20%20%20%20%20%20%20%20%20%20%20%20%20%20%20%20%20%3C/div%3E%60%2C%0A%20%20%20%20%20%20%20%20%20%20%20%20%20%20%20%20%7B%22sticky%22%3A%20true%7D%0A%20%20%20%20%20%20%20%20%20%20%20%20%29%3B%0A%20%20%20%20%20%20%20%20%0A%20%20%20%20%0A%20%20%20%20%20%20%20%20%20%20%20%20var%20circle_fa0b4dc28f52489ead3ad5a6d949b774%20%3D%20L.circle%28%0A%20%20%20%20%20%20%20%20%20%20%20%20%20%20%20%20%5B-9.19%2C%20-75.0152%5D%2C%0A%20%20%20%20%20%20%20%20%20%20%20%20%20%20%20%20%7B%22bubblingMouseEvents%22%3A%20true%2C%20%22color%22%3A%20%22red%22%2C%20%22dashArray%22%3A%20null%2C%20%22dashOffset%22%3A%20null%2C%20%22fill%22%3A%20true%2C%20%22fillColor%22%3A%20%22indigo%22%2C%20%22fillOpacity%22%3A%200.2%2C%20%22fillRule%22%3A%20%22evenodd%22%2C%20%22lineCap%22%3A%20%22round%22%2C%20%22lineJoin%22%3A%20%22round%22%2C%20%22opacity%22%3A%201.0%2C%20%22radius%22%3A%2071000.0%2C%20%22stroke%22%3A%20true%2C%20%22weight%22%3A%203%7D%0A%20%20%20%20%20%20%20%20%20%20%20%20%29.addTo%28map_aebf8a811f48491ea9853ca070daf374%29%3B%0A%20%20%20%20%20%20%20%20%0A%20%20%20%20%0A%20%20%20%20%20%20%20%20%20%20%20%20circle_fa0b4dc28f52489ead3ad5a6d949b774.bindTooltip%28%0A%20%20%20%20%20%20%20%20%20%20%20%20%20%20%20%20%60%3Cdiv%3E%0A%20%20%20%20%20%20%20%20%20%20%20%20%20%20%20%20%20%20%20%20%20%3Cdiv%20style%3D%27margin%3A%200%3B%20background-color%3A%20black%3B%20color%3A%20white%3B%27%3E%3Ch4%20style%3D%27text-align%3Acenter%3Bfont-weight%3A%20bold%27%3EPeru%3C/h4%3E%3Chr%20style%3D%27margin%3A10px%3Bcolor%3A%20white%3B%27%3E%3Cul%20style%3D%27color%3A%20white%3B%3Blist-style-type%3Acircle%3Balign-item%3Aleft%3Bpadding-left%3A20px%3Bpadding-right%3A20px%27%3E%3Cli%3EConfirmed%3A%201818689%3C/li%3E%3Cli%3EDeaths%3A%20%20%20121%3C/li%3E%3Cli%3EDeath%20Rate%3A%200.01%3C/li%3E%3C/ul%3E%3C/div%3E%0A%20%20%20%20%20%20%20%20%20%20%20%20%20%20%20%20%20%3C/div%3E%60%2C%0A%20%20%20%20%20%20%20%20%20%20%20%20%20%20%20%20%7B%22sticky%22%3A%20true%7D%0A%20%20%20%20%20%20%20%20%20%20%20%20%29%3B%0A%20%20%20%20%20%20%20%20%0A%20%20%20%20%0A%20%20%20%20%20%20%20%20%20%20%20%20var%20circle_847dc0e69995461a902070dfbbebc718%20%3D%20L.circle%28%0A%20%20%20%20%20%20%20%20%20%20%20%20%20%20%20%20%5B12.879721%2C%20121.77401699999999%5D%2C%0A%20%20%20%20%20%20%20%20%20%20%20%20%20%20%20%20%7B%22bubblingMouseEvents%22%3A%20true%2C%20%22color%22%3A%20%22red%22%2C%20%22dashArray%22%3A%20null%2C%20%22dashOffset%22%3A%20null%2C%20%22fill%22%3A%20true%2C%20%22fillColor%22%3A%20%22indigo%22%2C%20%22fillOpacity%22%3A%200.2%2C%20%22fillRule%22%3A%20%22evenodd%22%2C%20%22lineCap%22%3A%20%22round%22%2C%20%22lineJoin%22%3A%20%22round%22%2C%20%22opacity%22%3A%201.0%2C%20%22radius%22%3A%2066000.0%2C%20%22stroke%22%3A%20true%2C%20%22weight%22%3A%203%7D%0A%20%20%20%20%20%20%20%20%20%20%20%20%29.addTo%28map_aebf8a811f48491ea9853ca070daf374%29%3B%0A%20%20%20%20%20%20%20%20%0A%20%20%20%20%0A%20%20%20%20%20%20%20%20%20%20%20%20circle_847dc0e69995461a902070dfbbebc718.bindTooltip%28%0A%20%20%20%20%20%20%20%20%20%20%20%20%20%20%20%20%60%3Cdiv%3E%0A%20%20%20%20%20%20%20%20%20%20%20%20%20%20%20%20%20%20%20%20%20%3Cdiv%20style%3D%27margin%3A%200%3B%20background-color%3A%20black%3B%20color%3A%20white%3B%27%3E%3Ch4%20style%3D%27text-align%3Acenter%3Bfont-weight%3A%20bold%27%3EPhilippines%3C/h4%3E%3Chr%20style%3D%27margin%3A10px%3Bcolor%3A%20white%3B%27%3E%3Cul%20style%3D%27color%3A%20white%3B%3Blist-style-type%3Acircle%3Balign-item%3Aleft%3Bpadding-left%3A20px%3Bpadding-right%3A20px%27%3E%3Cli%3EConfirmed%3A%201067892%3C/li%3E%3Cli%3EDeaths%3A%20%20%206722%3C/li%3E%3Cli%3EDeath%20Rate%3A%200.63%3C/li%3E%3C/ul%3E%3C/div%3E%0A%20%20%20%20%20%20%20%20%20%20%20%20%20%20%20%20%20%3C/div%3E%60%2C%0A%20%20%20%20%20%20%20%20%20%20%20%20%20%20%20%20%7B%22sticky%22%3A%20true%7D%0A%20%20%20%20%20%20%20%20%20%20%20%20%29%3B%0A%20%20%20%20%20%20%20%20%0A%20%20%20%20%0A%20%20%20%20%20%20%20%20%20%20%20%20var%20circle_01cfc00ed5fa4a91b335fbe836dea5f4%20%3D%20L.circle%28%0A%20%20%20%20%20%20%20%20%20%20%20%20%20%20%20%20%5B51.9194%2C%2019.1451%5D%2C%0A%20%20%20%20%20%20%20%20%20%20%20%20%20%20%20%20%7B%22bubblingMouseEvents%22%3A%20true%2C%20%22color%22%3A%20%22red%22%2C%20%22dashArray%22%3A%20null%2C%20%22dashOffset%22%3A%20null%2C%20%22fill%22%3A%20true%2C%20%22fillColor%22%3A%20%22indigo%22%2C%20%22fillOpacity%22%3A%200.2%2C%20%22fillRule%22%3A%20%22evenodd%22%2C%20%22lineCap%22%3A%20%22round%22%2C%20%22lineJoin%22%3A%20%22round%22%2C%20%22opacity%22%3A%201.0%2C%20%22radius%22%3A%2071000.0%2C%20%22stroke%22%3A%20true%2C%20%22weight%22%3A%203%7D%0A%20%20%20%20%20%20%20%20%20%20%20%20%29.addTo%28map_aebf8a811f48491ea9853ca070daf374%29%3B%0A%20%20%20%20%20%20%20%20%0A%20%20%20%20%0A%20%20%20%20%20%20%20%20%20%20%20%20circle_01cfc00ed5fa4a91b335fbe836dea5f4.bindTooltip%28%0A%20%20%20%20%20%20%20%20%20%20%20%20%20%20%20%20%60%3Cdiv%3E%0A%20%20%20%20%20%20%20%20%20%20%20%20%20%20%20%20%20%20%20%20%20%3Cdiv%20style%3D%27margin%3A%200%3B%20background-color%3A%20black%3B%20color%3A%20white%3B%27%3E%3Ch4%20style%3D%27text-align%3Acenter%3Bfont-weight%3A%20bold%27%3EPoland%3C/h4%3E%3Chr%20style%3D%27margin%3A10px%3Bcolor%3A%20white%3B%27%3E%3Cul%20style%3D%27color%3A%20white%3B%3Blist-style-type%3Acircle%3Balign-item%3Aleft%3Bpadding-left%3A20px%3Bpadding-right%3A20px%27%3E%3Cli%3EConfirmed%3A%202808052%3C/li%3E%3Cli%3EDeaths%3A%20%20%2062674%3C/li%3E%3Cli%3EDeath%20Rate%3A%202.23%3C/li%3E%3C/ul%3E%3C/div%3E%0A%20%20%20%20%20%20%20%20%20%20%20%20%20%20%20%20%20%3C/div%3E%60%2C%0A%20%20%20%20%20%20%20%20%20%20%20%20%20%20%20%20%7B%22sticky%22%3A%20true%7D%0A%20%20%20%20%20%20%20%20%20%20%20%20%29%3B%0A%20%20%20%20%20%20%20%20%0A%20%20%20%20%0A%20%20%20%20%20%20%20%20%20%20%20%20var%20circle_6138bbad3157421d9e35685339a73aa1%20%3D%20L.circle%28%0A%20%20%20%20%20%20%20%20%20%20%20%20%20%20%20%20%5B39.3999%2C%20-8.2245%5D%2C%0A%20%20%20%20%20%20%20%20%20%20%20%20%20%20%20%20%7B%22bubblingMouseEvents%22%3A%20true%2C%20%22color%22%3A%20%22red%22%2C%20%22dashArray%22%3A%20null%2C%20%22dashOffset%22%3A%20null%2C%20%22fill%22%3A%20true%2C%20%22fillColor%22%3A%20%22indigo%22%2C%20%22fillOpacity%22%3A%200.2%2C%20%22fillRule%22%3A%20%22evenodd%22%2C%20%22lineCap%22%3A%20%22round%22%2C%20%22lineJoin%22%3A%20%22round%22%2C%20%22opacity%22%3A%201.0%2C%20%22radius%22%3A%2066000.0%2C%20%22stroke%22%3A%20true%2C%20%22weight%22%3A%203%7D%0A%20%20%20%20%20%20%20%20%20%20%20%20%29.addTo%28map_aebf8a811f48491ea9853ca070daf374%29%3B%0A%20%20%20%20%20%20%20%20%0A%20%20%20%20%0A%20%20%20%20%20%20%20%20%20%20%20%20circle_6138bbad3157421d9e35685339a73aa1.bindTooltip%28%0A%20%20%20%20%20%20%20%20%20%20%20%20%20%20%20%20%60%3Cdiv%3E%0A%20%20%20%20%20%20%20%20%20%20%20%20%20%20%20%20%20%20%20%20%20%3Cdiv%20style%3D%27margin%3A%200%3B%20background-color%3A%20black%3B%20color%3A%20white%3B%27%3E%3Ch4%20style%3D%27text-align%3Acenter%3Bfont-weight%3A%20bold%27%3EPortugal%3C/h4%3E%3Chr%20style%3D%27margin%3A10px%3Bcolor%3A%20white%3B%27%3E%3Cul%20style%3D%27color%3A%20white%3B%3Blist-style-type%3Acircle%3Balign-item%3Aleft%3Bpadding-left%3A20px%3Bpadding-right%3A20px%27%3E%3Cli%3EConfirmed%3A%20837715%3C/li%3E%3Cli%3EDeaths%3A%20%20%2017622%3C/li%3E%3Cli%3EDeath%20Rate%3A%202.1%3C/li%3E%3C/ul%3E%3C/div%3E%0A%20%20%20%20%20%20%20%20%20%20%20%20%20%20%20%20%20%3C/div%3E%60%2C%0A%20%20%20%20%20%20%20%20%20%20%20%20%20%20%20%20%7B%22sticky%22%3A%20true%7D%0A%20%20%20%20%20%20%20%20%20%20%20%20%29%3B%0A%20%20%20%20%20%20%20%20%0A%20%20%20%20%0A%20%20%20%20%20%20%20%20%20%20%20%20var%20circle_6c87d8b20d1a4a00824fc79224c1bd71%20%3D%20L.circle%28%0A%20%20%20%20%20%20%20%20%20%20%20%20%20%20%20%20%5B25.3548%2C%2051.1839%5D%2C%0A%20%20%20%20%20%20%20%20%20%20%20%20%20%20%20%20%7B%22bubblingMouseEvents%22%3A%20true%2C%20%22color%22%3A%20%22red%22%2C%20%22dashArray%22%3A%20null%2C%20%22dashOffset%22%3A%20null%2C%20%22fill%22%3A%20true%2C%20%22fillColor%22%3A%20%22indigo%22%2C%20%22fillOpacity%22%3A%200.2%2C%20%22fillRule%22%3A%20%22evenodd%22%2C%20%22lineCap%22%3A%20%22round%22%2C%20%22lineJoin%22%3A%20%22round%22%2C%20%22opacity%22%3A%201.0%2C%20%22radius%22%3A%2061000.0%2C%20%22stroke%22%3A%20true%2C%20%22weight%22%3A%203%7D%0A%20%20%20%20%20%20%20%20%20%20%20%20%29.addTo%28map_aebf8a811f48491ea9853ca070daf374%29%3B%0A%20%20%20%20%20%20%20%20%0A%20%20%20%20%0A%20%20%20%20%20%20%20%20%20%20%20%20circle_6c87d8b20d1a4a00824fc79224c1bd71.bindTooltip%28%0A%20%20%20%20%20%20%20%20%20%20%20%20%20%20%20%20%60%3Cdiv%3E%0A%20%20%20%20%20%20%20%20%20%20%20%20%20%20%20%20%20%20%20%20%20%3Cdiv%20style%3D%27margin%3A%200%3B%20background-color%3A%20black%3B%20color%3A%20white%3B%27%3E%3Ch4%20style%3D%27text-align%3Acenter%3Bfont-weight%3A%20bold%27%3EQatar%3C/h4%3E%3Chr%20style%3D%27margin%3A10px%3Bcolor%3A%20white%3B%27%3E%3Cul%20style%3D%27color%3A%20white%3B%3Blist-style-type%3Acircle%3Balign-item%3Aleft%3Bpadding-left%3A20px%3Bpadding-right%3A20px%27%3E%3Cli%3EConfirmed%3A%20208232%3C/li%3E%3Cli%3EDeaths%3A%20%20%2068133%3C/li%3E%3Cli%3EDeath%20Rate%3A%2032.72%3C/li%3E%3C/ul%3E%3C/div%3E%0A%20%20%20%20%20%20%20%20%20%20%20%20%20%20%20%20%20%3C/div%3E%60%2C%0A%20%20%20%20%20%20%20%20%20%20%20%20%20%20%20%20%7B%22sticky%22%3A%20true%7D%0A%20%20%20%20%20%20%20%20%20%20%20%20%29%3B%0A%20%20%20%20%20%20%20%20%0A%20%20%20%20%0A%20%20%20%20%20%20%20%20%20%20%20%20var%20circle_23b1c024afeb421ca8ba414a74bf73a0%20%3D%20L.circle%28%0A%20%20%20%20%20%20%20%20%20%20%20%20%20%20%20%20%5B45.9432%2C%2024.9668%5D%2C%0A%20%20%20%20%20%20%20%20%20%20%20%20%20%20%20%20%7B%22bubblingMouseEvents%22%3A%20true%2C%20%22color%22%3A%20%22red%22%2C%20%22dashArray%22%3A%20null%2C%20%22dashOffset%22%3A%20null%2C%20%22fill%22%3A%20true%2C%20%22fillColor%22%3A%20%22indigo%22%2C%20%22fillOpacity%22%3A%200.2%2C%20%22fillRule%22%3A%20%22evenodd%22%2C%20%22lineCap%22%3A%20%22round%22%2C%20%22lineJoin%22%3A%20%22round%22%2C%20%22opacity%22%3A%201.0%2C%20%22radius%22%3A%2066000.0%2C%20%22stroke%22%3A%20true%2C%20%22weight%22%3A%203%7D%0A%20%20%20%20%20%20%20%20%20%20%20%20%29.addTo%28map_aebf8a811f48491ea9853ca070daf374%29%3B%0A%20%20%20%20%20%20%20%20%0A%20%20%20%20%0A%20%20%20%20%20%20%20%20%20%20%20%20circle_23b1c024afeb421ca8ba414a74bf73a0.bindTooltip%28%0A%20%20%20%20%20%20%20%20%20%20%20%20%20%20%20%20%60%3Cdiv%3E%0A%20%20%20%20%20%20%20%20%20%20%20%20%20%20%20%20%20%20%20%20%20%3Cdiv%20style%3D%27margin%3A%200%3B%20background-color%3A%20black%3B%20color%3A%20white%3B%27%3E%3Ch4%20style%3D%27text-align%3Acenter%3Bfont-weight%3A%20bold%27%3ERomania%3C/h4%3E%3Chr%20style%3D%27margin%3A10px%3Bcolor%3A%20white%3B%27%3E%3Cul%20style%3D%27color%3A%20white%3B%3Blist-style-type%3Acircle%3Balign-item%3Aleft%3Bpadding-left%3A20px%3Bpadding-right%3A20px%27%3E%3Cli%3EConfirmed%3A%201059331%3C/li%3E%3Cli%3EDeaths%3A%20%20%2016981%3C/li%3E%3Cli%3EDeath%20Rate%3A%201.6%3C/li%3E%3C/ul%3E%3C/div%3E%0A%20%20%20%20%20%20%20%20%20%20%20%20%20%20%20%20%20%3C/div%3E%60%2C%0A%20%20%20%20%20%20%20%20%20%20%20%20%20%20%20%20%7B%22sticky%22%3A%20true%7D%0A%20%20%20%20%20%20%20%20%20%20%20%20%29%3B%0A%20%20%20%20%20%20%20%20%0A%20%20%20%20%0A%20%20%20%20%20%20%20%20%20%20%20%20var%20circle_3407f0d6ef7f4945bb48a36803993bc8%20%3D%20L.circle%28%0A%20%20%20%20%20%20%20%20%20%20%20%20%20%20%20%20%5B61.52401%2C%20105.31875600000001%5D%2C%0A%20%20%20%20%20%20%20%20%20%20%20%20%20%20%20%20%7B%22bubblingMouseEvents%22%3A%20true%2C%20%22color%22%3A%20%22red%22%2C%20%22dashArray%22%3A%20null%2C%20%22dashOffset%22%3A%20null%2C%20%22fill%22%3A%20true%2C%20%22fillColor%22%3A%20%22indigo%22%2C%20%22fillOpacity%22%3A%200.2%2C%20%22fillRule%22%3A%20%22evenodd%22%2C%20%22lineCap%22%3A%20%22round%22%2C%20%22lineJoin%22%3A%20%22round%22%2C%20%22opacity%22%3A%201.0%2C%20%22radius%22%3A%2076000.0%2C%20%22stroke%22%3A%20true%2C%20%22weight%22%3A%203%7D%0A%20%20%20%20%20%20%20%20%20%20%20%20%29.addTo%28map_aebf8a811f48491ea9853ca070daf374%29%3B%0A%20%20%20%20%20%20%20%20%0A%20%20%20%20%0A%20%20%20%20%20%20%20%20%20%20%20%20circle_3407f0d6ef7f4945bb48a36803993bc8.bindTooltip%28%0A%20%20%20%20%20%20%20%20%20%20%20%20%20%20%20%20%60%3Cdiv%3E%0A%20%20%20%20%20%20%20%20%20%20%20%20%20%20%20%20%20%20%20%20%20%3Cdiv%20style%3D%27margin%3A%200%3B%20background-color%3A%20black%3B%20color%3A%20white%3B%27%3E%3Ch4%20style%3D%27text-align%3Acenter%3Bfont-weight%3A%20bold%27%3ERussia%3C/h4%3E%3Chr%20style%3D%27margin%3A10px%3Bcolor%3A%20white%3B%27%3E%3Cul%20style%3D%27color%3A%20white%3B%3Blist-style-type%3Acircle%3Balign-item%3Aleft%3Bpadding-left%3A20px%3Bpadding-right%3A20px%27%3E%3Cli%3EConfirmed%3A%204784497%3C/li%3E%3Cli%3EDeaths%3A%20%20%20483%3C/li%3E%3Cli%3EDeath%20Rate%3A%200.01%3C/li%3E%3C/ul%3E%3C/div%3E%0A%20%20%20%20%20%20%20%20%20%20%20%20%20%20%20%20%20%3C/div%3E%60%2C%0A%20%20%20%20%20%20%20%20%20%20%20%20%20%20%20%20%7B%22sticky%22%3A%20true%7D%0A%20%20%20%20%20%20%20%20%20%20%20%20%29%3B%0A%20%20%20%20%20%20%20%20%0A%20%20%20%20%0A%20%20%20%20%20%20%20%20%20%20%20%20var%20circle_a3f86d6d41284d0d8b4b93af462bdb10%20%3D%20L.circle%28%0A%20%20%20%20%20%20%20%20%20%20%20%20%20%20%20%20%5B-1.9403%2C%2029.8739%5D%2C%0A%20%20%20%20%20%20%20%20%20%20%20%20%20%20%20%20%7B%22bubblingMouseEvents%22%3A%20true%2C%20%22color%22%3A%20%22red%22%2C%20%22dashArray%22%3A%20null%2C%20%22dashOffset%22%3A%20null%2C%20%22fill%22%3A%20true%2C%20%22fillColor%22%3A%20%22indigo%22%2C%20%22fillOpacity%22%3A%200.2%2C%20%22fillRule%22%3A%20%22evenodd%22%2C%20%22lineCap%22%3A%20%22round%22%2C%20%22lineJoin%22%3A%20%22round%22%2C%20%22opacity%22%3A%201.0%2C%20%22radius%22%3A%2051000.0%2C%20%22stroke%22%3A%20true%2C%20%22weight%22%3A%203%7D%0A%20%20%20%20%20%20%20%20%20%20%20%20%29.addTo%28map_aebf8a811f48491ea9853ca070daf374%29%3B%0A%20%20%20%20%20%20%20%20%0A%20%20%20%20%0A%20%20%20%20%20%20%20%20%20%20%20%20circle_a3f86d6d41284d0d8b4b93af462bdb10.bindTooltip%28%0A%20%20%20%20%20%20%20%20%20%20%20%20%20%20%20%20%60%3Cdiv%3E%0A%20%20%20%20%20%20%20%20%20%20%20%20%20%20%20%20%20%20%20%20%20%3Cdiv%20style%3D%27margin%3A%200%3B%20background-color%3A%20black%3B%20color%3A%20white%3B%27%3E%3Ch4%20style%3D%27text-align%3Acenter%3Bfont-weight%3A%20bold%27%3ERwanda%3C/h4%3E%3Chr%20style%3D%27margin%3A10px%3Bcolor%3A%20white%3B%27%3E%3Cul%20style%3D%27color%3A%20white%3B%3Blist-style-type%3Acircle%3Balign-item%3Aleft%3Bpadding-left%3A20px%3Bpadding-right%3A20px%27%3E%3Cli%3EConfirmed%3A%2025351%3C/li%3E%3Cli%3EDeaths%3A%20%20%2028474%3C/li%3E%3Cli%3EDeath%20Rate%3A%20112.31%3C/li%3E%3C/ul%3E%3C/div%3E%0A%20%20%20%20%20%20%20%20%20%20%20%20%20%20%20%20%20%3C/div%3E%60%2C%0A%20%20%20%20%20%20%20%20%20%20%20%20%20%20%20%20%7B%22sticky%22%3A%20true%7D%0A%20%20%20%20%20%20%20%20%20%20%20%20%29%3B%0A%20%20%20%20%20%20%20%20%0A%20%20%20%20%0A%20%20%20%20%20%20%20%20%20%20%20%20var%20circle_d4378b8b67bc47efa39c57818de5991c%20%3D%20L.circle%28%0A%20%20%20%20%20%20%20%20%20%20%20%20%20%20%20%20%5B17.357822%2C%20-62.782998%5D%2C%0A%20%20%20%20%20%20%20%20%20%20%20%20%20%20%20%20%7B%22bubblingMouseEvents%22%3A%20true%2C%20%22color%22%3A%20%22red%22%2C%20%22dashArray%22%3A%20null%2C%20%22dashOffset%22%3A%20null%2C%20%22fill%22%3A%20true%2C%20%22fillColor%22%3A%20%22indigo%22%2C%20%22fillOpacity%22%3A%200.2%2C%20%22fillRule%22%3A%20%22evenodd%22%2C%20%22lineCap%22%3A%20%22round%22%2C%20%22lineJoin%22%3A%20%22round%22%2C%20%22opacity%22%3A%201.0%2C%20%22radius%22%3A%2016000.0%2C%20%22stroke%22%3A%20true%2C%20%22weight%22%3A%203%7D%0A%20%20%20%20%20%20%20%20%20%20%20%20%29.addTo%28map_aebf8a811f48491ea9853ca070daf374%29%3B%0A%20%20%20%20%20%20%20%20%0A%20%20%20%20%0A%20%20%20%20%20%20%20%20%20%20%20%20circle_d4378b8b67bc47efa39c57818de5991c.bindTooltip%28%0A%20%20%20%20%20%20%20%20%20%20%20%20%20%20%20%20%60%3Cdiv%3E%0A%20%20%20%20%20%20%20%20%20%20%20%20%20%20%20%20%20%20%20%20%20%3Cdiv%20style%3D%27margin%3A%200%3B%20background-color%3A%20black%3B%20color%3A%20white%3B%27%3E%3Ch4%20style%3D%27text-align%3Acenter%3Bfont-weight%3A%20bold%27%3ESaint%20Kitts%20and%20Nevis%3C/h4%3E%3Chr%20style%3D%27margin%3A10px%3Bcolor%3A%20white%3B%27%3E%3Cul%20style%3D%27color%3A%20white%3B%3Blist-style-type%3Acircle%3Balign-item%3Aleft%3Bpadding-left%3A20px%3Bpadding-right%3A20px%27%3E%3Cli%3EConfirmed%3A%2045%3C/li%3E%3Cli%3EDeaths%3A%20%20%20109670%3C/li%3E%3Cli%3EDeath%20Rate%3A%20238412.99%3C/li%3E%3C/ul%3E%3C/div%3E%0A%20%20%20%20%20%20%20%20%20%20%20%20%20%20%20%20%20%3C/div%3E%60%2C%0A%20%20%20%20%20%20%20%20%20%20%20%20%20%20%20%20%7B%22sticky%22%3A%20true%7D%0A%20%20%20%20%20%20%20%20%20%20%20%20%29%3B%0A%20%20%20%20%20%20%20%20%0A%20%20%20%20%0A%20%20%20%20%20%20%20%20%20%20%20%20var%20circle_430642415dbb42219c034057609fd47c%20%3D%20L.circle%28%0A%20%20%20%20%20%20%20%20%20%20%20%20%20%20%20%20%5B13.9094%2C%20-60.9789%5D%2C%0A%20%20%20%20%20%20%20%20%20%20%20%20%20%20%20%20%7B%22bubblingMouseEvents%22%3A%20true%2C%20%22color%22%3A%20%22red%22%2C%20%22dashArray%22%3A%20null%2C%20%22dashOffset%22%3A%20null%2C%20%22fill%22%3A%20true%2C%20%22fillColor%22%3A%20%22indigo%22%2C%20%22fillOpacity%22%3A%200.2%2C%20%22fillRule%22%3A%20%22evenodd%22%2C%20%22lineCap%22%3A%20%22round%22%2C%20%22lineJoin%22%3A%20%22round%22%2C%20%22opacity%22%3A%201.0%2C%20%22radius%22%3A%2041000.0%2C%20%22stroke%22%3A%20true%2C%20%22weight%22%3A%203%7D%0A%20%20%20%20%20%20%20%20%20%20%20%20%29.addTo%28map_aebf8a811f48491ea9853ca070daf374%29%3B%0A%20%20%20%20%20%20%20%20%0A%20%20%20%20%0A%20%20%20%20%20%20%20%20%20%20%20%20circle_430642415dbb42219c034057609fd47c.bindTooltip%28%0A%20%20%20%20%20%20%20%20%20%20%20%20%20%20%20%20%60%3Cdiv%3E%0A%20%20%20%20%20%20%20%20%20%20%20%20%20%20%20%20%20%20%20%20%20%3Cdiv%20style%3D%27margin%3A%200%3B%20background-color%3A%20black%3B%20color%3A%20white%3B%27%3E%3Ch4%20style%3D%27text-align%3Acenter%3Bfont-weight%3A%20bold%27%3ESaint%20Lucia%3C/h4%3E%3Chr%20style%3D%27margin%3A10px%3Bcolor%3A%20white%3B%27%3E%3Cul%20style%3D%27color%3A%20white%3B%3Blist-style-type%3Acircle%3Balign-item%3Aleft%3Bpadding-left%3A20px%3Bpadding-right%3A20px%27%3E%3Cli%3EConfirmed%3A%204573%3C/li%3E%3Cli%3EDeaths%3A%20%20%20337%3C/li%3E%3Cli%3EDeath%20Rate%3A%207.37%3C/li%3E%3C/ul%3E%3C/div%3E%0A%20%20%20%20%20%20%20%20%20%20%20%20%20%20%20%20%20%3C/div%3E%60%2C%0A%20%20%20%20%20%20%20%20%20%20%20%20%20%20%20%20%7B%22sticky%22%3A%20true%7D%0A%20%20%20%20%20%20%20%20%20%20%20%20%29%3B%0A%20%20%20%20%20%20%20%20%0A%20%20%20%20%0A%20%20%20%20%20%20%20%20%20%20%20%20var%20circle_da7378fe96e049af8cd7c198c764ced5%20%3D%20L.circle%28%0A%20%20%20%20%20%20%20%20%20%20%20%20%20%20%20%20%5B12.9843%2C%20-61.2872%5D%2C%0A%20%20%20%20%20%20%20%20%20%20%20%20%20%20%20%20%7B%22bubblingMouseEvents%22%3A%20true%2C%20%22color%22%3A%20%22red%22%2C%20%22dashArray%22%3A%20null%2C%20%22dashOffset%22%3A%20null%2C%20%22fill%22%3A%20true%2C%20%22fillColor%22%3A%20%22indigo%22%2C%20%22fillOpacity%22%3A%200.2%2C%20%22fillRule%22%3A%20%22evenodd%22%2C%20%22lineCap%22%3A%20%22round%22%2C%20%22lineJoin%22%3A%20%22round%22%2C%20%22opacity%22%3A%201.0%2C%20%22radius%22%3A%2036000.0%2C%20%22stroke%22%3A%20true%2C%20%22weight%22%3A%203%7D%0A%20%20%20%20%20%20%20%20%20%20%20%20%29.addTo%28map_aebf8a811f48491ea9853ca070daf374%29%3B%0A%20%20%20%20%20%20%20%20%0A%20%20%20%20%0A%20%20%20%20%20%20%20%20%20%20%20%20circle_da7378fe96e049af8cd7c198c764ced5.bindTooltip%28%0A%20%20%20%20%20%20%20%20%20%20%20%20%20%20%20%20%60%3Cdiv%3E%0A%20%20%20%20%20%20%20%20%20%20%20%20%20%20%20%20%20%20%20%20%20%3Cdiv%20style%3D%27margin%3A%200%3B%20background-color%3A%20black%3B%20color%3A%20white%3B%27%3E%3Ch4%20style%3D%27text-align%3Acenter%3Bfont-weight%3A%20bold%27%3ESaint%20Vincent%20and%20the%20Grenadines%3C/h4%3E%3Chr%20style%3D%27margin%3A10px%3Bcolor%3A%20white%3B%27%3E%3Cul%20style%3D%27color%3A%20white%3B%3Blist-style-type%3Acircle%3Balign-item%3Aleft%3Bpadding-left%3A20px%3Bpadding-right%3A20px%27%3E%3Cli%3EConfirmed%3A%201882%3C/li%3E%3Cli%3EDeaths%3A%20%20%200%3C/li%3E%3Cli%3EDeath%20Rate%3A%200.0%3C/li%3E%3C/ul%3E%3C/div%3E%0A%20%20%20%20%20%20%20%20%20%20%20%20%20%20%20%20%20%3C/div%3E%60%2C%0A%20%20%20%20%20%20%20%20%20%20%20%20%20%20%20%20%7B%22sticky%22%3A%20true%7D%0A%20%20%20%20%20%20%20%20%20%20%20%20%29%3B%0A%20%20%20%20%20%20%20%20%0A%20%20%20%20%0A%20%20%20%20%20%20%20%20%20%20%20%20var%20circle_5684371b47b643aa85c5875dd520ff74%20%3D%20L.circle%28%0A%20%20%20%20%20%20%20%20%20%20%20%20%20%20%20%20%5B-13.759%2C%20-172.1046%5D%2C%0A%20%20%20%20%20%20%20%20%20%20%20%20%20%20%20%20%7B%22bubblingMouseEvents%22%3A%20true%2C%20%22color%22%3A%20%22red%22%2C%20%22dashArray%22%3A%20null%2C%20%22dashOffset%22%3A%20null%2C%20%22fill%22%3A%20true%2C%20%22fillColor%22%3A%20%22indigo%22%2C%20%22fillOpacity%22%3A%200.2%2C%20%22fillRule%22%3A%20%22evenodd%22%2C%20%22lineCap%22%3A%20%22round%22%2C%20%22lineJoin%22%3A%20%22round%22%2C%20%22opacity%22%3A%201.0%2C%20%22radius%22%3A%206000.0%2C%20%22stroke%22%3A%20true%2C%20%22weight%22%3A%203%7D%0A%20%20%20%20%20%20%20%20%20%20%20%20%29.addTo%28map_aebf8a811f48491ea9853ca070daf374%29%3B%0A%20%20%20%20%20%20%20%20%0A%20%20%20%20%0A%20%20%20%20%20%20%20%20%20%20%20%20circle_5684371b47b643aa85c5875dd520ff74.bindTooltip%28%0A%20%20%20%20%20%20%20%20%20%20%20%20%20%20%20%20%60%3Cdiv%3E%0A%20%20%20%20%20%20%20%20%20%20%20%20%20%20%20%20%20%20%20%20%20%3Cdiv%20style%3D%27margin%3A%200%3B%20background-color%3A%20black%3B%20color%3A%20white%3B%27%3E%3Ch4%20style%3D%27text-align%3Acenter%3Bfont-weight%3A%20bold%27%3ESamoa%3C/h4%3E%3Chr%20style%3D%27margin%3A10px%3Bcolor%3A%20white%3B%27%3E%3Cul%20style%3D%27color%3A%20white%3B%3Blist-style-type%3Acircle%3Balign-item%3Aleft%3Bpadding-left%3A20px%3Bpadding-right%3A20px%27%3E%3Cli%3EConfirmed%3A%203%3C/li%3E%3Cli%3EDeaths%3A%20%20%2074%3C/li%3E%3Cli%3EDeath%20Rate%3A%201850.0%3C/li%3E%3C/ul%3E%3C/div%3E%0A%20%20%20%20%20%20%20%20%20%20%20%20%20%20%20%20%20%3C/div%3E%60%2C%0A%20%20%20%20%20%20%20%20%20%20%20%20%20%20%20%20%7B%22sticky%22%3A%20true%7D%0A%20%20%20%20%20%20%20%20%20%20%20%20%29%3B%0A%20%20%20%20%20%20%20%20%0A%20%20%20%20%0A%20%20%20%20%20%20%20%20%20%20%20%20var%20circle_309f34defdbf474188a2cca6cedf8a81%20%3D%20L.circle%28%0A%20%20%20%20%20%20%20%20%20%20%20%20%20%20%20%20%5B43.9424%2C%2012.4578%5D%2C%0A%20%20%20%20%20%20%20%20%20%20%20%20%20%20%20%20%7B%22bubblingMouseEvents%22%3A%20true%2C%20%22color%22%3A%20%22red%22%2C%20%22dashArray%22%3A%20null%2C%20%22dashOffset%22%3A%20null%2C%20%22fill%22%3A%20true%2C%20%22fillColor%22%3A%20%22indigo%22%2C%20%22fillOpacity%22%3A%200.2%2C%20%22fillRule%22%3A%20%22evenodd%22%2C%20%22lineCap%22%3A%20%22round%22%2C%20%22lineJoin%22%3A%20%22round%22%2C%20%22opacity%22%3A%201.0%2C%20%22radius%22%3A%2041000.0%2C%20%22stroke%22%3A%20true%2C%20%22weight%22%3A%203%7D%0A%20%20%20%20%20%20%20%20%20%20%20%20%29.addTo%28map_aebf8a811f48491ea9853ca070daf374%29%3B%0A%20%20%20%20%20%20%20%20%0A%20%20%20%20%0A%20%20%20%20%20%20%20%20%20%20%20%20circle_309f34defdbf474188a2cca6cedf8a81.bindTooltip%28%0A%20%20%20%20%20%20%20%20%20%20%20%20%20%20%20%20%60%3Cdiv%3E%0A%20%20%20%20%20%20%20%20%20%20%20%20%20%20%20%20%20%20%20%20%20%3Cdiv%20style%3D%27margin%3A%200%3B%20background-color%3A%20black%3B%20color%3A%20white%3B%27%3E%3Ch4%20style%3D%27text-align%3Acenter%3Bfont-weight%3A%20bold%27%3ESan%20Marino%3C/h4%3E%3Chr%20style%3D%27margin%3A10px%3Bcolor%3A%20white%3B%27%3E%3Cul%20style%3D%27color%3A%20white%3B%3Blist-style-type%3Acircle%3Balign-item%3Aleft%3Bpadding-left%3A20px%3Bpadding-right%3A20px%27%3E%3Cli%3EConfirmed%3A%205067%3C/li%3E%3Cli%3EDeaths%3A%20%20%2011%3C/li%3E%3Cli%3EDeath%20Rate%3A%200.22%3C/li%3E%3C/ul%3E%3C/div%3E%0A%20%20%20%20%20%20%20%20%20%20%20%20%20%20%20%20%20%3C/div%3E%60%2C%0A%20%20%20%20%20%20%20%20%20%20%20%20%20%20%20%20%7B%22sticky%22%3A%20true%7D%0A%20%20%20%20%20%20%20%20%20%20%20%20%29%3B%0A%20%20%20%20%20%20%20%20%0A%20%20%20%20%0A%20%20%20%20%20%20%20%20%20%20%20%20var%20circle_caf594c73ab948c1947c041356cedb5d%20%3D%20L.circle%28%0A%20%20%20%20%20%20%20%20%20%20%20%20%20%20%20%20%5B0.1864%2C%206.6131%5D%2C%0A%20%20%20%20%20%20%20%20%20%20%20%20%20%20%20%20%7B%22bubblingMouseEvents%22%3A%20true%2C%20%22color%22%3A%20%22red%22%2C%20%22dashArray%22%3A%20null%2C%20%22dashOffset%22%3A%20null%2C%20%22fill%22%3A%20true%2C%20%22fillColor%22%3A%20%22indigo%22%2C%20%22fillOpacity%22%3A%200.2%2C%20%22fillRule%22%3A%20%22evenodd%22%2C%20%22lineCap%22%3A%20%22round%22%2C%20%22lineJoin%22%3A%20%22round%22%2C%20%22opacity%22%3A%201.0%2C%20%22radius%22%3A%2036000.0%2C%20%22stroke%22%3A%20true%2C%20%22weight%22%3A%203%7D%0A%20%20%20%20%20%20%20%20%20%20%20%20%29.addTo%28map_aebf8a811f48491ea9853ca070daf374%29%3B%0A%20%20%20%20%20%20%20%20%0A%20%20%20%20%0A%20%20%20%20%20%20%20%20%20%20%20%20circle_caf594c73ab948c1947c041356cedb5d.bindTooltip%28%0A%20%20%20%20%20%20%20%20%20%20%20%20%20%20%20%20%60%3Cdiv%3E%0A%20%20%20%20%20%20%20%20%20%20%20%20%20%20%20%20%20%20%20%20%20%3Cdiv%20style%3D%27margin%3A%200%3B%20background-color%3A%20black%3B%20color%3A%20white%3B%27%3E%3Ch4%20style%3D%27text-align%3Acenter%3Bfont-weight%3A%20bold%27%3ESao%20Tome%20and%20Principe%3C/h4%3E%3Chr%20style%3D%27margin%3A10px%3Bcolor%3A%20white%3B%27%3E%3Cul%20style%3D%27color%3A%20white%3B%3Blist-style-type%3Acircle%3Balign-item%3Aleft%3Bpadding-left%3A20px%3Bpadding-right%3A20px%27%3E%3Cli%3EConfirmed%3A%202311%3C/li%3E%3Cli%3EDeaths%3A%20%20%200%3C/li%3E%3Cli%3EDeath%20Rate%3A%200.0%3C/li%3E%3C/ul%3E%3C/div%3E%0A%20%20%20%20%20%20%20%20%20%20%20%20%20%20%20%20%20%3C/div%3E%60%2C%0A%20%20%20%20%20%20%20%20%20%20%20%20%20%20%20%20%7B%22sticky%22%3A%20true%7D%0A%20%20%20%20%20%20%20%20%20%20%20%20%29%3B%0A%20%20%20%20%20%20%20%20%0A%20%20%20%20%0A%20%20%20%20%20%20%20%20%20%20%20%20var%20circle_281cf34c5c5d4f57ad79caa5529ae6b7%20%3D%20L.circle%28%0A%20%20%20%20%20%20%20%20%20%20%20%20%20%20%20%20%5B23.885942%2C%2045.079162%5D%2C%0A%20%20%20%20%20%20%20%20%20%20%20%20%20%20%20%20%7B%22bubblingMouseEvents%22%3A%20true%2C%20%22color%22%3A%20%22red%22%2C%20%22dashArray%22%3A%20null%2C%20%22dashOffset%22%3A%20null%2C%20%22fill%22%3A%20true%2C%20%22fillColor%22%3A%20%22indigo%22%2C%20%22fillOpacity%22%3A%200.2%2C%20%22fillRule%22%3A%20%22evenodd%22%2C%20%22lineCap%22%3A%20%22round%22%2C%20%22lineJoin%22%3A%20%22round%22%2C%20%22opacity%22%3A%201.0%2C%20%22radius%22%3A%2061000.0%2C%20%22stroke%22%3A%20true%2C%20%22weight%22%3A%203%7D%0A%20%20%20%20%20%20%20%20%20%20%20%20%29.addTo%28map_aebf8a811f48491ea9853ca070daf374%29%3B%0A%20%20%20%20%20%20%20%20%0A%20%20%20%20%0A%20%20%20%20%20%20%20%20%20%20%20%20circle_281cf34c5c5d4f57ad79caa5529ae6b7.bindTooltip%28%0A%20%20%20%20%20%20%20%20%20%20%20%20%20%20%20%20%60%3Cdiv%3E%0A%20%20%20%20%20%20%20%20%20%20%20%20%20%20%20%20%20%20%20%20%20%3Cdiv%20style%3D%27margin%3A%200%3B%20background-color%3A%20black%3B%20color%3A%20white%3B%27%3E%3Ch4%20style%3D%27text-align%3Acenter%3Bfont-weight%3A%20bold%27%3ESaudi%20Arabia%3C/h4%3E%3Chr%20style%3D%27margin%3A10px%3Bcolor%3A%20white%3B%27%3E%3Cul%20style%3D%27color%3A%20white%3B%3Blist-style-type%3Acircle%3Balign-item%3Aleft%3Bpadding-left%3A20px%3Bpadding-right%3A20px%27%3E%3Cli%3EConfirmed%3A%20421300%3C/li%3E%3Cli%3EDeaths%3A%20%20%2090%3C/li%3E%3Cli%3EDeath%20Rate%3A%200.02%3C/li%3E%3C/ul%3E%3C/div%3E%0A%20%20%20%20%20%20%20%20%20%20%20%20%20%20%20%20%20%3C/div%3E%60%2C%0A%20%20%20%20%20%20%20%20%20%20%20%20%20%20%20%20%7B%22sticky%22%3A%20true%7D%0A%20%20%20%20%20%20%20%20%20%20%20%20%29%3B%0A%20%20%20%20%20%20%20%20%0A%20%20%20%20%0A%20%20%20%20%20%20%20%20%20%20%20%20var%20circle_07a06e465c3847d2b40b802a97741357%20%3D%20L.circle%28%0A%20%20%20%20%20%20%20%20%20%20%20%20%20%20%20%20%5B14.4974%2C%20-14.4524%5D%2C%0A%20%20%20%20%20%20%20%20%20%20%20%20%20%20%20%20%7B%22bubblingMouseEvents%22%3A%20true%2C%20%22color%22%3A%20%22red%22%2C%20%22dashArray%22%3A%20null%2C%20%22dashOffset%22%3A%20null%2C%20%22fill%22%3A%20true%2C%20%22fillColor%22%3A%20%22indigo%22%2C%20%22fillOpacity%22%3A%200.2%2C%20%22fillRule%22%3A%20%22evenodd%22%2C%20%22lineCap%22%3A%20%22round%22%2C%20%22lineJoin%22%3A%20%22round%22%2C%20%22opacity%22%3A%201.0%2C%20%22radius%22%3A%2051000.0%2C%20%22stroke%22%3A%20true%2C%20%22weight%22%3A%203%7D%0A%20%20%20%20%20%20%20%20%20%20%20%20%29.addTo%28map_aebf8a811f48491ea9853ca070daf374%29%3B%0A%20%20%20%20%20%20%20%20%0A%20%20%20%20%0A%20%20%20%20%20%20%20%20%20%20%20%20circle_07a06e465c3847d2b40b802a97741357.bindTooltip%28%0A%20%20%20%20%20%20%20%20%20%20%20%20%20%20%20%20%60%3Cdiv%3E%0A%20%20%20%20%20%20%20%20%20%20%20%20%20%20%20%20%20%20%20%20%20%3Cdiv%20style%3D%27margin%3A%200%3B%20background-color%3A%20black%3B%20color%3A%20white%3B%27%3E%3Ch4%20style%3D%27text-align%3Acenter%3Bfont-weight%3A%20bold%27%3ESenegal%3C/h4%3E%3Chr%20style%3D%27margin%3A10px%3Bcolor%3A%20white%3B%27%3E%3Cul%20style%3D%27color%3A%20white%3B%3Blist-style-type%3Acircle%3Balign-item%3Aleft%3Bpadding-left%3A20px%3Bpadding-right%3A20px%27%3E%3Cli%3EConfirmed%3A%2040492%3C/li%3E%3Cli%3EDeaths%3A%20%20%2035%3C/li%3E%3Cli%3EDeath%20Rate%3A%200.09%3C/li%3E%3C/ul%3E%3C/div%3E%0A%20%20%20%20%20%20%20%20%20%20%20%20%20%20%20%20%20%3C/div%3E%60%2C%0A%20%20%20%20%20%20%20%20%20%20%20%20%20%20%20%20%7B%22sticky%22%3A%20true%7D%0A%20%20%20%20%20%20%20%20%20%20%20%20%29%3B%0A%20%20%20%20%20%20%20%20%0A%20%20%20%20%0A%20%20%20%20%20%20%20%20%20%20%20%20var%20circle_a11b6aa2c642458288d26f9a63bdce14%20%3D%20L.circle%28%0A%20%20%20%20%20%20%20%20%20%20%20%20%20%20%20%20%5B44.0165%2C%2021.0059%5D%2C%0A%20%20%20%20%20%20%20%20%20%20%20%20%20%20%20%20%7B%22bubblingMouseEvents%22%3A%20true%2C%20%22color%22%3A%20%22red%22%2C%20%22dashArray%22%3A%20null%2C%20%22dashOffset%22%3A%20null%2C%20%22fill%22%3A%20true%2C%20%22fillColor%22%3A%20%22indigo%22%2C%20%22fillOpacity%22%3A%200.2%2C%20%22fillRule%22%3A%20%22evenodd%22%2C%20%22lineCap%22%3A%20%22round%22%2C%20%22lineJoin%22%3A%20%22round%22%2C%20%22opacity%22%3A%201.0%2C%20%22radius%22%3A%2066000.0%2C%20%22stroke%22%3A%20true%2C%20%22weight%22%3A%203%7D%0A%20%20%20%20%20%20%20%20%20%20%20%20%29.addTo%28map_aebf8a811f48491ea9853ca070daf374%29%3B%0A%20%20%20%20%20%20%20%20%0A%20%20%20%20%0A%20%20%20%20%20%20%20%20%20%20%20%20circle_a11b6aa2c642458288d26f9a63bdce14.bindTooltip%28%0A%20%20%20%20%20%20%20%20%20%20%20%20%20%20%20%20%60%3Cdiv%3E%0A%20%20%20%20%20%20%20%20%20%20%20%20%20%20%20%20%20%20%20%20%20%3Cdiv%20style%3D%27margin%3A%200%3B%20background-color%3A%20black%3B%20color%3A%20white%3B%27%3E%3Ch4%20style%3D%27text-align%3Acenter%3Bfont-weight%3A%20bold%27%3ESerbia%3C/h4%3E%3Chr%20style%3D%27margin%3A10px%3Bcolor%3A%20white%3B%27%3E%3Cul%20style%3D%27color%3A%20white%3B%3Blist-style-type%3Acircle%3Balign-item%3Aleft%3Bpadding-left%3A20px%3Bpadding-right%3A20px%27%3E%3Cli%3EConfirmed%3A%20694473%3C/li%3E%3Cli%3EDeaths%3A%20%20%207006%3C/li%3E%3Cli%3EDeath%20Rate%3A%201.01%3C/li%3E%3C/ul%3E%3C/div%3E%0A%20%20%20%20%20%20%20%20%20%20%20%20%20%20%20%20%20%3C/div%3E%60%2C%0A%20%20%20%20%20%20%20%20%20%20%20%20%20%20%20%20%7B%22sticky%22%3A%20true%7D%0A%20%20%20%20%20%20%20%20%20%20%20%20%29%3B%0A%20%20%20%20%20%20%20%20%0A%20%20%20%20%0A%20%20%20%20%20%20%20%20%20%20%20%20var%20circle_97da770be0294dbb9708edcb6afebf3b%20%3D%20L.circle%28%0A%20%20%20%20%20%20%20%20%20%20%20%20%20%20%20%20%5B-4.6796%2C%2055.492%5D%2C%0A%20%20%20%20%20%20%20%20%20%20%20%20%20%20%20%20%7B%22bubblingMouseEvents%22%3A%20true%2C%20%22color%22%3A%20%22red%22%2C%20%22dashArray%22%3A%20null%2C%20%22dashOffset%22%3A%20null%2C%20%22fill%22%3A%20true%2C%20%22fillColor%22%3A%20%22indigo%22%2C%20%22fillOpacity%22%3A%200.2%2C%20%22fillRule%22%3A%20%22evenodd%22%2C%20%22lineCap%22%3A%20%22round%22%2C%20%22lineJoin%22%3A%20%22round%22%2C%20%22opacity%22%3A%201.0%2C%20%22radius%22%3A%2041000.0%2C%20%22stroke%22%3A%20true%2C%20%22weight%22%3A%203%7D%0A%20%20%20%20%20%20%20%20%20%20%20%20%29.addTo%28map_aebf8a811f48491ea9853ca070daf374%29%3B%0A%20%20%20%20%20%20%20%20%0A%20%20%20%20%0A%20%20%20%20%20%20%20%20%20%20%20%20circle_97da770be0294dbb9708edcb6afebf3b.bindTooltip%28%0A%20%20%20%20%20%20%20%20%20%20%20%20%20%20%20%20%60%3Cdiv%3E%0A%20%20%20%20%20%20%20%20%20%20%20%20%20%20%20%20%20%20%20%20%20%3Cdiv%20style%3D%27margin%3A%200%3B%20background-color%3A%20black%3B%20color%3A%20white%3B%27%3E%3Ch4%20style%3D%27text-align%3Acenter%3Bfont-weight%3A%20bold%27%3ESeychelles%3C/h4%3E%3Chr%20style%3D%27margin%3A10px%3Bcolor%3A%20white%3B%27%3E%3Cul%20style%3D%27color%3A%20white%3B%3Blist-style-type%3Acircle%3Balign-item%3Aleft%3Bpadding-left%3A20px%3Bpadding-right%3A20px%27%3E%3Cli%3EConfirmed%3A%206373%3C/li%3E%3Cli%3EDeaths%3A%20%20%201111%3C/li%3E%3Cli%3EDeath%20Rate%3A%2017.43%3C/li%3E%3C/ul%3E%3C/div%3E%0A%20%20%20%20%20%20%20%20%20%20%20%20%20%20%20%20%20%3C/div%3E%60%2C%0A%20%20%20%20%20%20%20%20%20%20%20%20%20%20%20%20%7B%22sticky%22%3A%20true%7D%0A%20%20%20%20%20%20%20%20%20%20%20%20%29%3B%0A%20%20%20%20%20%20%20%20%0A%20%20%20%20%0A%20%20%20%20%20%20%20%20%20%20%20%20var%20circle_85b8a1ef209f4cafabbfabfb1ab34e16%20%3D%20L.circle%28%0A%20%20%20%20%20%20%20%20%20%20%20%20%20%20%20%20%5B8.460555000000001%2C%20-11.779889%5D%2C%0A%20%20%20%20%20%20%20%20%20%20%20%20%20%20%20%20%7B%22bubblingMouseEvents%22%3A%20true%2C%20%22color%22%3A%20%22red%22%2C%20%22dashArray%22%3A%20null%2C%20%22dashOffset%22%3A%20null%2C%20%22fill%22%3A%20true%2C%20%22fillColor%22%3A%20%22indigo%22%2C%20%22fillOpacity%22%3A%200.2%2C%20%22fillRule%22%3A%20%22evenodd%22%2C%20%22lineCap%22%3A%20%22round%22%2C%20%22lineJoin%22%3A%20%22round%22%2C%20%22opacity%22%3A%201.0%2C%20%22radius%22%3A%2041000.0%2C%20%22stroke%22%3A%20true%2C%20%22weight%22%3A%203%7D%0A%20%20%20%20%20%20%20%20%20%20%20%20%29.addTo%28map_aebf8a811f48491ea9853ca070daf374%29%3B%0A%20%20%20%20%20%20%20%20%0A%20%20%20%20%0A%20%20%20%20%20%20%20%20%20%20%20%20circle_85b8a1ef209f4cafabbfabfb1ab34e16.bindTooltip%28%0A%20%20%20%20%20%20%20%20%20%20%20%20%20%20%20%20%60%3Cdiv%3E%0A%20%20%20%20%20%20%20%20%20%20%20%20%20%20%20%20%20%20%20%20%20%3Cdiv%20style%3D%27margin%3A%200%3B%20background-color%3A%20black%3B%20color%3A%20white%3B%27%3E%3Ch4%20style%3D%27text-align%3Acenter%3Bfont-weight%3A%20bold%27%3ESierra%20Leone%3C/h4%3E%3Chr%20style%3D%27margin%3A10px%3Bcolor%3A%20white%3B%27%3E%3Cul%20style%3D%27color%3A%20white%3B%3Blist-style-type%3Acircle%3Balign-item%3Aleft%3Bpadding-left%3A20px%3Bpadding-right%3A20px%27%3E%3Cli%3EConfirmed%3A%204068%3C/li%3E%3Cli%3EDeaths%3A%20%20%206456%3C/li%3E%3Cli%3EDeath%20Rate%3A%20158.66%3C/li%3E%3C/ul%3E%3C/div%3E%0A%20%20%20%20%20%20%20%20%20%20%20%20%20%20%20%20%20%3C/div%3E%60%2C%0A%20%20%20%20%20%20%20%20%20%20%20%20%20%20%20%20%7B%22sticky%22%3A%20true%7D%0A%20%20%20%20%20%20%20%20%20%20%20%20%29%3B%0A%20%20%20%20%20%20%20%20%0A%20%20%20%20%0A%20%20%20%20%20%20%20%20%20%20%20%20var%20circle_2eb58bcbe61a40e9bc7bc431b7bbac07%20%3D%20L.circle%28%0A%20%20%20%20%20%20%20%20%20%20%20%20%20%20%20%20%5B1.2833%2C%20103.8333%5D%2C%0A%20%20%20%20%20%20%20%20%20%20%20%20%20%20%20%20%7B%22bubblingMouseEvents%22%3A%20true%2C%20%22color%22%3A%20%22red%22%2C%20%22dashArray%22%3A%20null%2C%20%22dashOffset%22%3A%20null%2C%20%22fill%22%3A%20true%2C%20%22fillColor%22%3A%20%22indigo%22%2C%20%22fillOpacity%22%3A%200.2%2C%20%22fillRule%22%3A%20%22evenodd%22%2C%20%22lineCap%22%3A%20%22round%22%2C%20%22lineJoin%22%3A%20%22round%22%2C%20%22opacity%22%3A%201.0%2C%20%22radius%22%3A%2056000.0%2C%20%22stroke%22%3A%20true%2C%20%22weight%22%3A%203%7D%0A%20%20%20%20%20%20%20%20%20%20%20%20%29.addTo%28map_aebf8a811f48491ea9853ca070daf374%29%3B%0A%20%20%20%20%20%20%20%20%0A%20%20%20%20%0A%20%20%20%20%20%20%20%20%20%20%20%20circle_2eb58bcbe61a40e9bc7bc431b7bbac07.bindTooltip%28%0A%20%20%20%20%20%20%20%20%20%20%20%20%20%20%20%20%60%3Cdiv%3E%0A%20%20%20%20%20%20%20%20%20%20%20%20%20%20%20%20%20%20%20%20%20%3Cdiv%20style%3D%27margin%3A%200%3B%20background-color%3A%20black%3B%20color%3A%20white%3B%27%3E%3Ch4%20style%3D%27text-align%3Acenter%3Bfont-weight%3A%20bold%27%3ESingapore%3C/h4%3E%3Chr%20style%3D%27margin%3A10px%3Bcolor%3A%20white%3B%27%3E%3Cul%20style%3D%27color%3A%20white%3B%3Blist-style-type%3Acircle%3Balign-item%3Aleft%3Bpadding-left%3A20px%3Bpadding-right%3A20px%27%3E%3Cli%3EConfirmed%3A%2061252%3C/li%3E%3Cli%3EDeaths%3A%20%20%2028%3C/li%3E%3Cli%3EDeath%20Rate%3A%200.05%3C/li%3E%3C/ul%3E%3C/div%3E%0A%20%20%20%20%20%20%20%20%20%20%20%20%20%20%20%20%20%3C/div%3E%60%2C%0A%20%20%20%20%20%20%20%20%20%20%20%20%20%20%20%20%7B%22sticky%22%3A%20true%7D%0A%20%20%20%20%20%20%20%20%20%20%20%20%29%3B%0A%20%20%20%20%20%20%20%20%0A%20%20%20%20%0A%20%20%20%20%20%20%20%20%20%20%20%20var%20circle_1e7b49e4f97243b6a8025143256fa5a3%20%3D%20L.circle%28%0A%20%20%20%20%20%20%20%20%20%20%20%20%20%20%20%20%5B48.669%2C%2019.699%5D%2C%0A%20%20%20%20%20%20%20%20%20%20%20%20%20%20%20%20%7B%22bubblingMouseEvents%22%3A%20true%2C%20%22color%22%3A%20%22red%22%2C%20%22dashArray%22%3A%20null%2C%20%22dashOffset%22%3A%20null%2C%20%22fill%22%3A%20true%2C%20%22fillColor%22%3A%20%22indigo%22%2C%20%22fillOpacity%22%3A%200.2%2C%20%22fillRule%22%3A%20%22evenodd%22%2C%20%22lineCap%22%3A%20%22round%22%2C%20%22lineJoin%22%3A%20%22round%22%2C%20%22opacity%22%3A%201.0%2C%20%22radius%22%3A%2061000.0%2C%20%22stroke%22%3A%20true%2C%20%22weight%22%3A%203%7D%0A%20%20%20%20%20%20%20%20%20%20%20%20%29.addTo%28map_aebf8a811f48491ea9853ca070daf374%29%3B%0A%20%20%20%20%20%20%20%20%0A%20%20%20%20%0A%20%20%20%20%20%20%20%20%20%20%20%20circle_1e7b49e4f97243b6a8025143256fa5a3.bindTooltip%28%0A%20%20%20%20%20%20%20%20%20%20%20%20%20%20%20%20%60%3Cdiv%3E%0A%20%20%20%20%20%20%20%20%20%20%20%20%20%20%20%20%20%20%20%20%20%3Cdiv%20style%3D%27margin%3A%200%3B%20background-color%3A%20black%3B%20color%3A%20white%3B%27%3E%3Ch4%20style%3D%27text-align%3Acenter%3Bfont-weight%3A%20bold%27%3ESlovakia%3C/h4%3E%3Chr%20style%3D%27margin%3A10px%3Bcolor%3A%20white%3B%27%3E%3Cul%20style%3D%27color%3A%20white%3B%3Blist-style-type%3Acircle%3Balign-item%3Aleft%3Bpadding-left%3A20px%3Bpadding-right%3A20px%27%3E%3Cli%3EConfirmed%3A%20383609%3C/li%3E%3Cli%3EDeaths%3A%20%20%2079%3C/li%3E%3Cli%3EDeath%20Rate%3A%200.02%3C/li%3E%3C/ul%3E%3C/div%3E%0A%20%20%20%20%20%20%20%20%20%20%20%20%20%20%20%20%20%3C/div%3E%60%2C%0A%20%20%20%20%20%20%20%20%20%20%20%20%20%20%20%20%7B%22sticky%22%3A%20true%7D%0A%20%20%20%20%20%20%20%20%20%20%20%20%29%3B%0A%20%20%20%20%20%20%20%20%0A%20%20%20%20%0A%20%20%20%20%20%20%20%20%20%20%20%20var%20circle_03d091eb297449fd8d88e94bbb88b2e4%20%3D%20L.circle%28%0A%20%20%20%20%20%20%20%20%20%20%20%20%20%20%20%20%5B46.1512%2C%2014.9955%5D%2C%0A%20%20%20%20%20%20%20%20%20%20%20%20%20%20%20%20%7B%22bubblingMouseEvents%22%3A%20true%2C%20%22color%22%3A%20%22red%22%2C%20%22dashArray%22%3A%20null%2C%20%22dashOffset%22%3A%20null%2C%20%22fill%22%3A%20true%2C%20%22fillColor%22%3A%20%22indigo%22%2C%20%22fillOpacity%22%3A%200.2%2C%20%22fillRule%22%3A%20%22evenodd%22%2C%20%22lineCap%22%3A%20%22round%22%2C%20%22lineJoin%22%3A%20%22round%22%2C%20%22opacity%22%3A%201.0%2C%20%22radius%22%3A%2061000.0%2C%20%22stroke%22%3A%20true%2C%20%22weight%22%3A%203%7D%0A%20%20%20%20%20%20%20%20%20%20%20%20%29.addTo%28map_aebf8a811f48491ea9853ca070daf374%29%3B%0A%20%20%20%20%20%20%20%20%0A%20%20%20%20%0A%20%20%20%20%20%20%20%20%20%20%20%20circle_03d091eb297449fd8d88e94bbb88b2e4.bindTooltip%28%0A%20%20%20%20%20%20%20%20%20%20%20%20%20%20%20%20%60%3Cdiv%3E%0A%20%20%20%20%20%20%20%20%20%20%20%20%20%20%20%20%20%20%20%20%20%3Cdiv%20style%3D%27margin%3A%200%3B%20background-color%3A%20black%3B%20color%3A%20white%3B%27%3E%3Ch4%20style%3D%27text-align%3Acenter%3Bfont-weight%3A%20bold%27%3ESlovenia%3C/h4%3E%3Chr%20style%3D%27margin%3A10px%3Bcolor%3A%20white%3B%27%3E%3Cul%20style%3D%27color%3A%20white%3B%3Blist-style-type%3Acircle%3Balign-item%3Aleft%3Bpadding-left%3A20px%3Bpadding-right%3A20px%27%3E%3Cli%3EConfirmed%3A%20242777%3C/li%3E%3Cli%3EDeaths%3A%20%20%2031%3C/li%3E%3Cli%3EDeath%20Rate%3A%200.01%3C/li%3E%3C/ul%3E%3C/div%3E%0A%20%20%20%20%20%20%20%20%20%20%20%20%20%20%20%20%20%3C/div%3E%60%2C%0A%20%20%20%20%20%20%20%20%20%20%20%20%20%20%20%20%7B%22sticky%22%3A%20true%7D%0A%20%20%20%20%20%20%20%20%20%20%20%20%29%3B%0A%20%20%20%20%20%20%20%20%0A%20%20%20%20%0A%20%20%20%20%20%20%20%20%20%20%20%20var%20circle_3421ee4297284ccab88ace6394fae4eb%20%3D%20L.circle%28%0A%20%20%20%20%20%20%20%20%20%20%20%20%20%20%20%20%5B-9.6457%2C%20160.1562%5D%2C%0A%20%20%20%20%20%20%20%20%20%20%20%20%20%20%20%20%7B%22bubblingMouseEvents%22%3A%20true%2C%20%22color%22%3A%20%22red%22%2C%20%22dashArray%22%3A%20null%2C%20%22dashOffset%22%3A%20null%2C%20%22fill%22%3A%20true%2C%20%22fillColor%22%3A%20%22indigo%22%2C%20%22fillOpacity%22%3A%200.2%2C%20%22fillRule%22%3A%20%22evenodd%22%2C%20%22lineCap%22%3A%20%22round%22%2C%20%22lineJoin%22%3A%20%22round%22%2C%20%22opacity%22%3A%201.0%2C%20%22radius%22%3A%2016000.0%2C%20%22stroke%22%3A%20true%2C%20%22weight%22%3A%203%7D%0A%20%20%20%20%20%20%20%20%20%20%20%20%29.addTo%28map_aebf8a811f48491ea9853ca070daf374%29%3B%0A%20%20%20%20%20%20%20%20%0A%20%20%20%20%0A%20%20%20%20%20%20%20%20%20%20%20%20circle_3421ee4297284ccab88ace6394fae4eb.bindTooltip%28%0A%20%20%20%20%20%20%20%20%20%20%20%20%20%20%20%20%60%3Cdiv%3E%0A%20%20%20%20%20%20%20%20%20%20%20%20%20%20%20%20%20%20%20%20%20%3Cdiv%20style%3D%27margin%3A%200%3B%20background-color%3A%20black%3B%20color%3A%20white%3B%27%3E%3Ch4%20style%3D%27text-align%3Acenter%3Bfont-weight%3A%20bold%27%3ESolomon%20Islands%3C/h4%3E%3Chr%20style%3D%27margin%3A10px%3Bcolor%3A%20white%3B%27%3E%3Cul%20style%3D%27color%3A%20white%3B%3Blist-style-type%3Acircle%3Balign-item%3Aleft%3Bpadding-left%3A20px%3Bpadding-right%3A20px%27%3E%3Cli%3EConfirmed%3A%2020%3C/li%3E%3Cli%3EDeaths%3A%20%20%2011855%3C/li%3E%3Cli%3EDeath%20Rate%3A%2056452.35%3C/li%3E%3C/ul%3E%3C/div%3E%0A%20%20%20%20%20%20%20%20%20%20%20%20%20%20%20%20%20%3C/div%3E%60%2C%0A%20%20%20%20%20%20%20%20%20%20%20%20%20%20%20%20%7B%22sticky%22%3A%20true%7D%0A%20%20%20%20%20%20%20%20%20%20%20%20%29%3B%0A%20%20%20%20%20%20%20%20%0A%20%20%20%20%0A%20%20%20%20%20%20%20%20%20%20%20%20var%20circle_6234affe29ef42fcaf821964d2257729%20%3D%20L.circle%28%0A%20%20%20%20%20%20%20%20%20%20%20%20%20%20%20%20%5B5.152149%2C%2046.199616%5D%2C%0A%20%20%20%20%20%20%20%20%20%20%20%20%20%20%20%20%7B%22bubblingMouseEvents%22%3A%20true%2C%20%22color%22%3A%20%22red%22%2C%20%22dashArray%22%3A%20null%2C%20%22dashOffset%22%3A%20null%2C%20%22fill%22%3A%20true%2C%20%22fillColor%22%3A%20%22indigo%22%2C%20%22fillOpacity%22%3A%200.2%2C%20%22fillRule%22%3A%20%22evenodd%22%2C%20%22lineCap%22%3A%20%22round%22%2C%20%22lineJoin%22%3A%20%22round%22%2C%20%22opacity%22%3A%201.0%2C%20%22radius%22%3A%2046000.0%2C%20%22stroke%22%3A%20true%2C%20%22weight%22%3A%203%7D%0A%20%20%20%20%20%20%20%20%20%20%20%20%29.addTo%28map_aebf8a811f48491ea9853ca070daf374%29%3B%0A%20%20%20%20%20%20%20%20%0A%20%20%20%20%0A%20%20%20%20%20%20%20%20%20%20%20%20circle_6234affe29ef42fcaf821964d2257729.bindTooltip%28%0A%20%20%20%20%20%20%20%20%20%20%20%20%20%20%20%20%60%3Cdiv%3E%0A%20%20%20%20%20%20%20%20%20%20%20%20%20%20%20%20%20%20%20%20%20%3Cdiv%20style%3D%27margin%3A%200%3B%20background-color%3A%20black%3B%20color%3A%20white%3B%27%3E%3Ch4%20style%3D%27text-align%3Acenter%3Bfont-weight%3A%20bold%27%3ESomalia%3C/h4%3E%3Chr%20style%3D%27margin%3A10px%3Bcolor%3A%20white%3B%27%3E%3Cul%20style%3D%27color%3A%20white%3B%3Blist-style-type%3Acircle%3Balign-item%3Aleft%3Bpadding-left%3A20px%3Bpadding-right%3A20px%27%3E%3Cli%3EConfirmed%3A%2014121%3C/li%3E%3Cli%3EDeaths%3A%20%20%204273%3C/li%3E%3Cli%3EDeath%20Rate%3A%2030.26%3C/li%3E%3C/ul%3E%3C/div%3E%0A%20%20%20%20%20%20%20%20%20%20%20%20%20%20%20%20%20%3C/div%3E%60%2C%0A%20%20%20%20%20%20%20%20%20%20%20%20%20%20%20%20%7B%22sticky%22%3A%20true%7D%0A%20%20%20%20%20%20%20%20%20%20%20%20%29%3B%0A%20%20%20%20%20%20%20%20%0A%20%20%20%20%0A%20%20%20%20%20%20%20%20%20%20%20%20var%20circle_35b5dd7282774825b77163ecb28a9717%20%3D%20L.circle%28%0A%20%20%20%20%20%20%20%20%20%20%20%20%20%20%20%20%5B-30.5595%2C%2022.9375%5D%2C%0A%20%20%20%20%20%20%20%20%20%20%20%20%20%20%20%20%7B%22bubblingMouseEvents%22%3A%20true%2C%20%22color%22%3A%20%22red%22%2C%20%22dashArray%22%3A%20null%2C%20%22dashOffset%22%3A%20null%2C%20%22fill%22%3A%20true%2C%20%22fillColor%22%3A%20%22indigo%22%2C%20%22fillOpacity%22%3A%200.2%2C%20%22fillRule%22%3A%20%22evenodd%22%2C%20%22lineCap%22%3A%20%22round%22%2C%20%22lineJoin%22%3A%20%22round%22%2C%20%22opacity%22%3A%201.0%2C%20%22radius%22%3A%2071000.0%2C%20%22stroke%22%3A%20true%2C%20%22weight%22%3A%203%7D%0A%20%20%20%20%20%20%20%20%20%20%20%20%29.addTo%28map_aebf8a811f48491ea9853ca070daf374%29%3B%0A%20%20%20%20%20%20%20%20%0A%20%20%20%20%0A%20%20%20%20%20%20%20%20%20%20%20%20circle_35b5dd7282774825b77163ecb28a9717.bindTooltip%28%0A%20%20%20%20%20%20%20%20%20%20%20%20%20%20%20%20%60%3Cdiv%3E%0A%20%20%20%20%20%20%20%20%20%20%20%20%20%20%20%20%20%20%20%20%20%3Cdiv%20style%3D%27margin%3A%200%3B%20background-color%3A%20black%3B%20color%3A%20white%3B%27%3E%3Ch4%20style%3D%27text-align%3Acenter%3Bfont-weight%3A%20bold%27%3ESouth%20Africa%3C/h4%3E%3Chr%20style%3D%27margin%3A10px%3Bcolor%3A%20white%3B%27%3E%3Cul%20style%3D%27color%3A%20white%3B%3Blist-style-type%3Acircle%3Balign-item%3Aleft%3Bpadding-left%3A20px%3Bpadding-right%3A20px%27%3E%3Cli%3EConfirmed%3A%201586148%3C/li%3E%3Cli%3EDeaths%3A%20%20%200%3C/li%3E%3Cli%3EDeath%20Rate%3A%200.0%3C/li%3E%3C/ul%3E%3C/div%3E%0A%20%20%20%20%20%20%20%20%20%20%20%20%20%20%20%20%20%3C/div%3E%60%2C%0A%20%20%20%20%20%20%20%20%20%20%20%20%20%20%20%20%7B%22sticky%22%3A%20true%7D%0A%20%20%20%20%20%20%20%20%20%20%20%20%29%3B%0A%20%20%20%20%20%20%20%20%0A%20%20%20%20%0A%20%20%20%20%20%20%20%20%20%20%20%20var%20circle_d6dda044fc814f63bf14b4ec8ff068f4%20%3D%20L.circle%28%0A%20%20%20%20%20%20%20%20%20%20%20%20%20%20%20%20%5B6.877000000000001%2C%2031.307%5D%2C%0A%20%20%20%20%20%20%20%20%20%20%20%20%20%20%20%20%7B%22bubblingMouseEvents%22%3A%20true%2C%20%22color%22%3A%20%22red%22%2C%20%22dashArray%22%3A%20null%2C%20%22dashOffset%22%3A%20null%2C%20%22fill%22%3A%20true%2C%20%22fillColor%22%3A%20%22indigo%22%2C%20%22fillOpacity%22%3A%200.2%2C%20%22fillRule%22%3A%20%22evenodd%22%2C%20%22lineCap%22%3A%20%22round%22%2C%20%22lineJoin%22%3A%20%22round%22%2C%20%22opacity%22%3A%201.0%2C%20%22radius%22%3A%2046000.0%2C%20%22stroke%22%3A%20true%2C%20%22weight%22%3A%203%7D%0A%20%20%20%20%20%20%20%20%20%20%20%20%29.addTo%28map_aebf8a811f48491ea9853ca070daf374%29%3B%0A%20%20%20%20%20%20%20%20%0A%20%20%20%20%0A%20%20%20%20%20%20%20%20%20%20%20%20circle_d6dda044fc814f63bf14b4ec8ff068f4.bindTooltip%28%0A%20%20%20%20%20%20%20%20%20%20%20%20%20%20%20%20%60%3Cdiv%3E%0A%20%20%20%20%20%20%20%20%20%20%20%20%20%20%20%20%20%20%20%20%20%3Cdiv%20style%3D%27margin%3A%200%3B%20background-color%3A%20black%3B%20color%3A%20white%3B%27%3E%3Ch4%20style%3D%27text-align%3Acenter%3Bfont-weight%3A%20bold%27%3ESouth%20Sudan%3C/h4%3E%3Chr%20style%3D%27margin%3A10px%3Bcolor%3A%20white%3B%27%3E%3Cul%20style%3D%27color%3A%20white%3B%3Blist-style-type%3Acircle%3Balign-item%3Aleft%3Bpadding-left%3A20px%3Bpadding-right%3A20px%27%3E%3Cli%3EConfirmed%3A%2010613%3C/li%3E%3Cli%3EDeaths%3A%20%20%20721%3C/li%3E%3Cli%3EDeath%20Rate%3A%206.79%3C/li%3E%3C/ul%3E%3C/div%3E%0A%20%20%20%20%20%20%20%20%20%20%20%20%20%20%20%20%20%3C/div%3E%60%2C%0A%20%20%20%20%20%20%20%20%20%20%20%20%20%20%20%20%7B%22sticky%22%3A%20true%7D%0A%20%20%20%20%20%20%20%20%20%20%20%20%29%3B%0A%20%20%20%20%20%20%20%20%0A%20%20%20%20%0A%20%20%20%20%20%20%20%20%20%20%20%20var%20circle_9ac689dc156f461a81b0c12ee55ed67e%20%3D%20L.circle%28%0A%20%20%20%20%20%20%20%20%20%20%20%20%20%20%20%20%5B40.463667%2C%20-3.7492199999999998%5D%2C%0A%20%20%20%20%20%20%20%20%20%20%20%20%20%20%20%20%7B%22bubblingMouseEvents%22%3A%20true%2C%20%22color%22%3A%20%22red%22%2C%20%22dashArray%22%3A%20null%2C%20%22dashOffset%22%3A%20null%2C%20%22fill%22%3A%20true%2C%20%22fillColor%22%3A%20%22indigo%22%2C%20%22fillOpacity%22%3A%200.2%2C%20%22fillRule%22%3A%20%22evenodd%22%2C%20%22lineCap%22%3A%20%22round%22%2C%20%22lineJoin%22%3A%20%22round%22%2C%20%22opacity%22%3A%201.0%2C%20%22radius%22%3A%2076000.0%2C%20%22stroke%22%3A%20true%2C%20%22weight%22%3A%203%7D%0A%20%20%20%20%20%20%20%20%20%20%20%20%29.addTo%28map_aebf8a811f48491ea9853ca070daf374%29%3B%0A%20%20%20%20%20%20%20%20%0A%20%20%20%20%0A%20%20%20%20%20%20%20%20%20%20%20%20circle_9ac689dc156f461a81b0c12ee55ed67e.bindTooltip%28%0A%20%20%20%20%20%20%20%20%20%20%20%20%20%20%20%20%60%3Cdiv%3E%0A%20%20%20%20%20%20%20%20%20%20%20%20%20%20%20%20%20%20%20%20%20%3Cdiv%20style%3D%27margin%3A%200%3B%20background-color%3A%20black%3B%20color%3A%20white%3B%27%3E%3Ch4%20style%3D%27text-align%3Acenter%3Bfont-weight%3A%20bold%27%3ESpain%3C/h4%3E%3Chr%20style%3D%27margin%3A10px%3Bcolor%3A%20white%3B%27%3E%3Cul%20style%3D%27color%3A%20white%3B%3Blist-style-type%3Acircle%3Balign-item%3Aleft%3Bpadding-left%3A20px%3Bpadding-right%3A20px%27%3E%3Cli%3EConfirmed%3A%203544945%3C/li%3E%3Cli%3EDeaths%3A%20%20%2054511%3C/li%3E%3Cli%3EDeath%20Rate%3A%201.54%3C/li%3E%3C/ul%3E%3C/div%3E%0A%20%20%20%20%20%20%20%20%20%20%20%20%20%20%20%20%20%3C/div%3E%60%2C%0A%20%20%20%20%20%20%20%20%20%20%20%20%20%20%20%20%7B%22sticky%22%3A%20true%7D%0A%20%20%20%20%20%20%20%20%20%20%20%20%29%3B%0A%20%20%20%20%20%20%20%20%0A%20%20%20%20%0A%20%20%20%20%20%20%20%20%20%20%20%20var%20circle_55c62627b4de4bd9b0973d7acb0fa407%20%3D%20L.circle%28%0A%20%20%20%20%20%20%20%20%20%20%20%20%20%20%20%20%5B7.873054%2C%2080.77179699999999%5D%2C%0A%20%20%20%20%20%20%20%20%20%20%20%20%20%20%20%20%7B%22bubblingMouseEvents%22%3A%20true%2C%20%22color%22%3A%20%22red%22%2C%20%22dashArray%22%3A%20null%2C%20%22dashOffset%22%3A%20null%2C%20%22fill%22%3A%20true%2C%20%22fillColor%22%3A%20%22indigo%22%2C%20%22fillOpacity%22%3A%200.2%2C%20%22fillRule%22%3A%20%22evenodd%22%2C%20%22lineCap%22%3A%20%22round%22%2C%20%22lineJoin%22%3A%20%22round%22%2C%20%22opacity%22%3A%201.0%2C%20%22radius%22%3A%2056000.0%2C%20%22stroke%22%3A%20true%2C%20%22weight%22%3A%203%7D%0A%20%20%20%20%20%20%20%20%20%20%20%20%29.addTo%28map_aebf8a811f48491ea9853ca070daf374%29%3B%0A%20%20%20%20%20%20%20%20%0A%20%20%20%20%0A%20%20%20%20%20%20%20%20%20%20%20%20circle_55c62627b4de4bd9b0973d7acb0fa407.bindTooltip%28%0A%20%20%20%20%20%20%20%20%20%20%20%20%20%20%20%20%60%3Cdiv%3E%0A%20%20%20%20%20%20%20%20%20%20%20%20%20%20%20%20%20%20%20%20%20%3Cdiv%20style%3D%27margin%3A%200%3B%20background-color%3A%20black%3B%20color%3A%20white%3B%27%3E%3Ch4%20style%3D%27text-align%3Acenter%3Bfont-weight%3A%20bold%27%3ESri%20Lanka%3C/h4%3E%3Chr%20style%3D%27margin%3A10px%3Bcolor%3A%20white%3B%27%3E%3Cul%20style%3D%27color%3A%20white%3B%3Blist-style-type%3Acircle%3Balign-item%3Aleft%3Bpadding-left%3A20px%3Bpadding-right%3A20px%27%3E%3Cli%3EConfirmed%3A%20115590%3C/li%3E%3Cli%3EDeaths%3A%20%20%20115%3C/li%3E%3Cli%3EDeath%20Rate%3A%200.1%3C/li%3E%3C/ul%3E%3C/div%3E%0A%20%20%20%20%20%20%20%20%20%20%20%20%20%20%20%20%20%3C/div%3E%60%2C%0A%20%20%20%20%20%20%20%20%20%20%20%20%20%20%20%20%7B%22sticky%22%3A%20true%7D%0A%20%20%20%20%20%20%20%20%20%20%20%20%29%3B%0A%20%20%20%20%20%20%20%20%0A%20%20%20%20%0A%20%20%20%20%20%20%20%20%20%20%20%20var%20circle_d8e7585a49a94c56898b869a40195ff0%20%3D%20L.circle%28%0A%20%20%20%20%20%20%20%20%20%20%20%20%20%20%20%20%5B12.8628%2C%2030.2176%5D%2C%0A%20%20%20%20%20%20%20%20%20%20%20%20%20%20%20%20%7B%22bubblingMouseEvents%22%3A%20true%2C%20%22color%22%3A%20%22red%22%2C%20%22dashArray%22%3A%20null%2C%20%22dashOffset%22%3A%20null%2C%20%22fill%22%3A%20true%2C%20%22fillColor%22%3A%20%22indigo%22%2C%20%22fillOpacity%22%3A%200.2%2C%20%22fillRule%22%3A%20%22evenodd%22%2C%20%22lineCap%22%3A%20%22round%22%2C%20%22lineJoin%22%3A%20%22round%22%2C%20%22opacity%22%3A%201.0%2C%20%22radius%22%3A%2051000.0%2C%20%22stroke%22%3A%20true%2C%20%22weight%22%3A%203%7D%0A%20%20%20%20%20%20%20%20%20%20%20%20%29.addTo%28map_aebf8a811f48491ea9853ca070daf374%29%3B%0A%20%20%20%20%20%20%20%20%0A%20%20%20%20%0A%20%20%20%20%20%20%20%20%20%20%20%20circle_d8e7585a49a94c56898b869a40195ff0.bindTooltip%28%0A%20%20%20%20%20%20%20%20%20%20%20%20%20%20%20%20%60%3Cdiv%3E%0A%20%20%20%20%20%20%20%20%20%20%20%20%20%20%20%20%20%20%20%20%20%3Cdiv%20style%3D%27margin%3A%200%3B%20background-color%3A%20black%3B%20color%3A%20white%3B%27%3E%3Ch4%20style%3D%27text-align%3Acenter%3Bfont-weight%3A%20bold%27%3ESudan%3C/h4%3E%3Chr%20style%3D%27margin%3A10px%3Bcolor%3A%20white%3B%27%3E%3Cul%20style%3D%27color%3A%20white%3B%3Blist-style-type%3Acircle%3Balign-item%3Aleft%3Bpadding-left%3A20px%3Bpadding-right%3A20px%27%3E%3Cli%3EConfirmed%3A%2033944%3C/li%3E%3Cli%3EDeaths%3A%20%20%2078399%3C/li%3E%3Cli%3EDeath%20Rate%3A%20230.96%3C/li%3E%3C/ul%3E%3C/div%3E%0A%20%20%20%20%20%20%20%20%20%20%20%20%20%20%20%20%20%3C/div%3E%60%2C%0A%20%20%20%20%20%20%20%20%20%20%20%20%20%20%20%20%7B%22sticky%22%3A%20true%7D%0A%20%20%20%20%20%20%20%20%20%20%20%20%29%3B%0A%20%20%20%20%20%20%20%20%0A%20%20%20%20%0A%20%20%20%20%20%20%20%20%20%20%20%20var%20circle_59bcfddfb3254d58b6de73be035ab164%20%3D%20L.circle%28%0A%20%20%20%20%20%20%20%20%20%20%20%20%20%20%20%20%5B3.9193%2C%20-56.0278%5D%2C%0A%20%20%20%20%20%20%20%20%20%20%20%20%20%20%20%20%7B%22bubblingMouseEvents%22%3A%20true%2C%20%22color%22%3A%20%22red%22%2C%20%22dashArray%22%3A%20null%2C%20%22dashOffset%22%3A%20null%2C%20%22fill%22%3A%20true%2C%20%22fillColor%22%3A%20%22indigo%22%2C%20%22fillOpacity%22%3A%200.2%2C%20%22fillRule%22%3A%20%22evenodd%22%2C%20%22lineCap%22%3A%20%22round%22%2C%20%22lineJoin%22%3A%20%22round%22%2C%20%22opacity%22%3A%201.0%2C%20%22radius%22%3A%2046000.0%2C%20%22stroke%22%3A%20true%2C%20%22weight%22%3A%203%7D%0A%20%20%20%20%20%20%20%20%20%20%20%20%29.addTo%28map_aebf8a811f48491ea9853ca070daf374%29%3B%0A%20%20%20%20%20%20%20%20%0A%20%20%20%20%0A%20%20%20%20%20%20%20%20%20%20%20%20circle_59bcfddfb3254d58b6de73be035ab164.bindTooltip%28%0A%20%20%20%20%20%20%20%20%20%20%20%20%20%20%20%20%60%3Cdiv%3E%0A%20%20%20%20%20%20%20%20%20%20%20%20%20%20%20%20%20%20%20%20%20%3Cdiv%20style%3D%27margin%3A%200%3B%20background-color%3A%20black%3B%20color%3A%20white%3B%27%3E%3Ch4%20style%3D%27text-align%3Acenter%3Bfont-weight%3A%20bold%27%3ESuriname%3C/h4%3E%3Chr%20style%3D%27margin%3A10px%3Bcolor%3A%20white%3B%27%3E%3Cul%20style%3D%27color%3A%20white%3B%3Blist-style-type%3Acircle%3Balign-item%3Aleft%3Bpadding-left%3A20px%3Bpadding-right%3A20px%27%3E%3Cli%3EConfirmed%3A%2010623%3C/li%3E%3Cli%3EDeaths%3A%20%20%20709%3C/li%3E%3Cli%3EDeath%20Rate%3A%206.67%3C/li%3E%3C/ul%3E%3C/div%3E%0A%20%20%20%20%20%20%20%20%20%20%20%20%20%20%20%20%20%3C/div%3E%60%2C%0A%20%20%20%20%20%20%20%20%20%20%20%20%20%20%20%20%7B%22sticky%22%3A%20true%7D%0A%20%20%20%20%20%20%20%20%20%20%20%20%29%3B%0A%20%20%20%20%20%20%20%20%0A%20%20%20%20%0A%20%20%20%20%20%20%20%20%20%20%20%20var%20circle_f341936dbf3b49c3ba2cd3d9f7c8c8d1%20%3D%20L.circle%28%0A%20%20%20%20%20%20%20%20%20%20%20%20%20%20%20%20%5B60.128161%2C%2018.643501%5D%2C%0A%20%20%20%20%20%20%20%20%20%20%20%20%20%20%20%20%7B%22bubblingMouseEvents%22%3A%20true%2C%20%22color%22%3A%20%22red%22%2C%20%22dashArray%22%3A%20null%2C%20%22dashOffset%22%3A%20null%2C%20%22fill%22%3A%20true%2C%20%22fillColor%22%3A%20%22indigo%22%2C%20%22fillOpacity%22%3A%200.2%2C%20%22fillRule%22%3A%20%22evenodd%22%2C%20%22lineCap%22%3A%20%22round%22%2C%20%22lineJoin%22%3A%20%22round%22%2C%20%22opacity%22%3A%201.0%2C%20%22radius%22%3A%2066000.0%2C%20%22stroke%22%3A%20true%2C%20%22weight%22%3A%203%7D%0A%20%20%20%20%20%20%20%20%20%20%20%20%29.addTo%28map_aebf8a811f48491ea9853ca070daf374%29%3B%0A%20%20%20%20%20%20%20%20%0A%20%20%20%20%0A%20%20%20%20%20%20%20%20%20%20%20%20circle_f341936dbf3b49c3ba2cd3d9f7c8c8d1.bindTooltip%28%0A%20%20%20%20%20%20%20%20%20%20%20%20%20%20%20%20%60%3Cdiv%3E%0A%20%20%20%20%20%20%20%20%20%20%20%20%20%20%20%20%20%20%20%20%20%3Cdiv%20style%3D%27margin%3A%200%3B%20background-color%3A%20black%3B%20color%3A%20white%3B%27%3E%3Ch4%20style%3D%27text-align%3Acenter%3Bfont-weight%3A%20bold%27%3ESweden%3C/h4%3E%3Chr%20style%3D%27margin%3A10px%3Bcolor%3A%20white%3B%27%3E%3Cul%20style%3D%27color%3A%20white%3B%3Blist-style-type%3Acircle%3Balign-item%3Aleft%3Bpadding-left%3A20px%3Bpadding-right%3A20px%27%3E%3Cli%3EConfirmed%3A%20988554%3C/li%3E%3Cli%3EDeaths%3A%20%20%202365%3C/li%3E%3Cli%3EDeath%20Rate%3A%200.24%3C/li%3E%3C/ul%3E%3C/div%3E%0A%20%20%20%20%20%20%20%20%20%20%20%20%20%20%20%20%20%3C/div%3E%60%2C%0A%20%20%20%20%20%20%20%20%20%20%20%20%20%20%20%20%7B%22sticky%22%3A%20true%7D%0A%20%20%20%20%20%20%20%20%20%20%20%20%29%3B%0A%20%20%20%20%20%20%20%20%0A%20%20%20%20%0A%20%20%20%20%20%20%20%20%20%20%20%20var%20circle_e5cbef010b124ce9a552b590016d9d63%20%3D%20L.circle%28%0A%20%20%20%20%20%20%20%20%20%20%20%20%20%20%20%20%5B46.8182%2C%208.2275%5D%2C%0A%20%20%20%20%20%20%20%20%20%20%20%20%20%20%20%20%7B%22bubblingMouseEvents%22%3A%20true%2C%20%22color%22%3A%20%22red%22%2C%20%22dashArray%22%3A%20null%2C%20%22dashOffset%22%3A%20null%2C%20%22fill%22%3A%20true%2C%20%22fillColor%22%3A%20%22indigo%22%2C%20%22fillOpacity%22%3A%200.2%2C%20%22fillRule%22%3A%20%22evenodd%22%2C%20%22lineCap%22%3A%20%22round%22%2C%20%22lineJoin%22%3A%20%22round%22%2C%20%22opacity%22%3A%201.0%2C%20%22radius%22%3A%2066000.0%2C%20%22stroke%22%3A%20true%2C%20%22weight%22%3A%203%7D%0A%20%20%20%20%20%20%20%20%20%20%20%20%29.addTo%28map_aebf8a811f48491ea9853ca070daf374%29%3B%0A%20%20%20%20%20%20%20%20%0A%20%20%20%20%0A%20%20%20%20%20%20%20%20%20%20%20%20circle_e5cbef010b124ce9a552b590016d9d63.bindTooltip%28%0A%20%20%20%20%20%20%20%20%20%20%20%20%20%20%20%20%60%3Cdiv%3E%0A%20%20%20%20%20%20%20%20%20%20%20%20%20%20%20%20%20%20%20%20%20%3Cdiv%20style%3D%27margin%3A%200%3B%20background-color%3A%20black%3B%20color%3A%20white%3B%27%3E%3Ch4%20style%3D%27text-align%3Acenter%3Bfont-weight%3A%20bold%27%3ESwitzerland%3C/h4%3E%3Chr%20style%3D%27margin%3A10px%3Bcolor%3A%20white%3B%27%3E%3Cul%20style%3D%27color%3A%20white%3B%3Blist-style-type%3Acircle%3Balign-item%3Aleft%3Bpadding-left%3A20px%3Bpadding-right%3A20px%27%3E%3Cli%3EConfirmed%3A%20665585%3C/li%3E%3Cli%3EDeaths%3A%20%20%20212%3C/li%3E%3Cli%3EDeath%20Rate%3A%200.03%3C/li%3E%3C/ul%3E%3C/div%3E%0A%20%20%20%20%20%20%20%20%20%20%20%20%20%20%20%20%20%3C/div%3E%60%2C%0A%20%20%20%20%20%20%20%20%20%20%20%20%20%20%20%20%7B%22sticky%22%3A%20true%7D%0A%20%20%20%20%20%20%20%20%20%20%20%20%29%3B%0A%20%20%20%20%20%20%20%20%0A%20%20%20%20%0A%20%20%20%20%20%20%20%20%20%20%20%20var%20circle_3b7aea02db5545b8aaf85980765a85a5%20%3D%20L.circle%28%0A%20%20%20%20%20%20%20%20%20%20%20%20%20%20%20%20%5B34.802075%2C%2038.996815000000005%5D%2C%0A%20%20%20%20%20%20%20%20%20%20%20%20%20%20%20%20%7B%22bubblingMouseEvents%22%3A%20true%2C%20%22color%22%3A%20%22red%22%2C%20%22dashArray%22%3A%20null%2C%20%22dashOffset%22%3A%20null%2C%20%22fill%22%3A%20true%2C%20%22fillColor%22%3A%20%22indigo%22%2C%20%22fillOpacity%22%3A%200.2%2C%20%22fillRule%22%3A%20%22evenodd%22%2C%20%22lineCap%22%3A%20%22round%22%2C%20%22lineJoin%22%3A%20%22round%22%2C%20%22opacity%22%3A%201.0%2C%20%22radius%22%3A%2051000.0%2C%20%22stroke%22%3A%20true%2C%20%22weight%22%3A%203%7D%0A%20%20%20%20%20%20%20%20%20%20%20%20%29.addTo%28map_aebf8a811f48491ea9853ca070daf374%29%3B%0A%20%20%20%20%20%20%20%20%0A%20%20%20%20%0A%20%20%20%20%20%20%20%20%20%20%20%20circle_3b7aea02db5545b8aaf85980765a85a5.bindTooltip%28%0A%20%20%20%20%20%20%20%20%20%20%20%20%20%20%20%20%60%3Cdiv%3E%0A%20%20%20%20%20%20%20%20%20%20%20%20%20%20%20%20%20%20%20%20%20%3Cdiv%20style%3D%27margin%3A%200%3B%20background-color%3A%20black%3B%20color%3A%20white%3B%27%3E%3Ch4%20style%3D%27text-align%3Acenter%3Bfont-weight%3A%20bold%27%3ESyria%3C/h4%3E%3Chr%20style%3D%27margin%3A10px%3Bcolor%3A%20white%3B%27%3E%3Cul%20style%3D%27color%3A%20white%3B%3Blist-style-type%3Acircle%3Balign-item%3Aleft%3Bpadding-left%3A20px%3Bpadding-right%3A20px%27%3E%3Cli%3EConfirmed%3A%2023051%3C/li%3E%3Cli%3EDeaths%3A%20%20%2014091%3C/li%3E%3Cli%3EDeath%20Rate%3A%2061.13%3C/li%3E%3C/ul%3E%3C/div%3E%0A%20%20%20%20%20%20%20%20%20%20%20%20%20%20%20%20%20%3C/div%3E%60%2C%0A%20%20%20%20%20%20%20%20%20%20%20%20%20%20%20%20%7B%22sticky%22%3A%20true%7D%0A%20%20%20%20%20%20%20%20%20%20%20%20%29%3B%0A%20%20%20%20%20%20%20%20%0A%20%20%20%20%0A%20%20%20%20%20%20%20%20%20%20%20%20var%20circle_46e7199fa9d64c43b1122f5ab3f32edc%20%3D%20L.circle%28%0A%20%20%20%20%20%20%20%20%20%20%20%20%20%20%20%20%5B23.7%2C%20121.0%5D%2C%0A%20%20%20%20%20%20%20%20%20%20%20%20%20%20%20%20%7B%22bubblingMouseEvents%22%3A%20true%2C%20%22color%22%3A%20%22red%22%2C%20%22dashArray%22%3A%20null%2C%20%22dashOffset%22%3A%20null%2C%20%22fill%22%3A%20true%2C%20%22fillColor%22%3A%20%22indigo%22%2C%20%22fillOpacity%22%3A%200.2%2C%20%22fillRule%22%3A%20%22evenodd%22%2C%20%22lineCap%22%3A%20%22round%22%2C%20%22lineJoin%22%3A%20%22round%22%2C%20%22opacity%22%3A%201.0%2C%20%22radius%22%3A%2036000.0%2C%20%22stroke%22%3A%20true%2C%20%22weight%22%3A%203%7D%0A%20%20%20%20%20%20%20%20%20%20%20%20%29.addTo%28map_aebf8a811f48491ea9853ca070daf374%29%3B%0A%20%20%20%20%20%20%20%20%0A%20%20%20%20%0A%20%20%20%20%20%20%20%20%20%20%20%20circle_46e7199fa9d64c43b1122f5ab3f32edc.bindTooltip%28%0A%20%20%20%20%20%20%20%20%20%20%20%20%20%20%20%20%60%3Cdiv%3E%0A%20%20%20%20%20%20%20%20%20%20%20%20%20%20%20%20%20%20%20%20%20%3Cdiv%20style%3D%27margin%3A%200%3B%20background-color%3A%20black%3B%20color%3A%20white%3B%27%3E%3Ch4%20style%3D%27text-align%3Acenter%3Bfont-weight%3A%20bold%27%3ETaiwan%2A%3C/h4%3E%3Chr%20style%3D%27margin%3A10px%3Bcolor%3A%20white%3B%27%3E%3Cul%20style%3D%27color%3A%20white%3B%3Blist-style-type%3Acircle%3Balign-item%3Aleft%3Bpadding-left%3A20px%3Bpadding-right%3A20px%27%3E%3Cli%3EConfirmed%3A%201153%3C/li%3E%3Cli%3EDeaths%3A%20%20%2010667%3C/li%3E%3Cli%3EDeath%20Rate%3A%20924.35%3C/li%3E%3C/ul%3E%3C/div%3E%0A%20%20%20%20%20%20%20%20%20%20%20%20%20%20%20%20%20%3C/div%3E%60%2C%0A%20%20%20%20%20%20%20%20%20%20%20%20%20%20%20%20%7B%22sticky%22%3A%20true%7D%0A%20%20%20%20%20%20%20%20%20%20%20%20%29%3B%0A%20%20%20%20%20%20%20%20%0A%20%20%20%20%0A%20%20%20%20%20%20%20%20%20%20%20%20var%20circle_6d493f8da9064d1294f120e93d3e3789%20%3D%20L.circle%28%0A%20%20%20%20%20%20%20%20%20%20%20%20%20%20%20%20%5B38.861%2C%2071.2761%5D%2C%0A%20%20%20%20%20%20%20%20%20%20%20%20%20%20%20%20%7B%22bubblingMouseEvents%22%3A%20true%2C%20%22color%22%3A%20%22red%22%2C%20%22dashArray%22%3A%20null%2C%20%22dashOffset%22%3A%20null%2C%20%22fill%22%3A%20true%2C%20%22fillColor%22%3A%20%22indigo%22%2C%20%22fillOpacity%22%3A%200.2%2C%20%22fillRule%22%3A%20%22evenodd%22%2C%20%22lineCap%22%3A%20%22round%22%2C%20%22lineJoin%22%3A%20%22round%22%2C%20%22opacity%22%3A%201.0%2C%20%22radius%22%3A%2046000.0%2C%20%22stroke%22%3A%20true%2C%20%22weight%22%3A%203%7D%0A%20%20%20%20%20%20%20%20%20%20%20%20%29.addTo%28map_aebf8a811f48491ea9853ca070daf374%29%3B%0A%20%20%20%20%20%20%20%20%0A%20%20%20%20%0A%20%20%20%20%20%20%20%20%20%20%20%20circle_6d493f8da9064d1294f120e93d3e3789.bindTooltip%28%0A%20%20%20%20%20%20%20%20%20%20%20%20%20%20%20%20%60%3Cdiv%3E%0A%20%20%20%20%20%20%20%20%20%20%20%20%20%20%20%20%20%20%20%20%20%3Cdiv%20style%3D%27margin%3A%200%3B%20background-color%3A%20black%3B%20color%3A%20white%3B%27%3E%3Ch4%20style%3D%27text-align%3Acenter%3Bfont-weight%3A%20bold%27%3ETajikistan%3C/h4%3E%3Chr%20style%3D%27margin%3A10px%3Bcolor%3A%20white%3B%27%3E%3Cul%20style%3D%27color%3A%20white%3B%3Blist-style-type%3Acircle%3Balign-item%3Aleft%3Bpadding-left%3A20px%3Bpadding-right%3A20px%27%3E%3Cli%3EConfirmed%3A%2013308%3C/li%3E%3Cli%3EDeaths%3A%20%20%201617%3C/li%3E%3Cli%3EDeath%20Rate%3A%2012.15%3C/li%3E%3C/ul%3E%3C/div%3E%0A%20%20%20%20%20%20%20%20%20%20%20%20%20%20%20%20%20%3C/div%3E%60%2C%0A%20%20%20%20%20%20%20%20%20%20%20%20%20%20%20%20%7B%22sticky%22%3A%20true%7D%0A%20%20%20%20%20%20%20%20%20%20%20%20%29%3B%0A%20%20%20%20%20%20%20%20%0A%20%20%20%20%0A%20%20%20%20%20%20%20%20%20%20%20%20var%20circle_494b2e8e983447f887098093b1e67bc1%20%3D%20L.circle%28%0A%20%20%20%20%20%20%20%20%20%20%20%20%20%20%20%20%5B-6.369028%2C%2034.888822%5D%2C%0A%20%20%20%20%20%20%20%20%20%20%20%20%20%20%20%20%7B%22bubblingMouseEvents%22%3A%20true%2C%20%22color%22%3A%20%22red%22%2C%20%22dashArray%22%3A%20null%2C%20%22dashOffset%22%3A%20null%2C%20%22fill%22%3A%20true%2C%20%22fillColor%22%3A%20%22indigo%22%2C%20%22fillOpacity%22%3A%200.2%2C%20%22fillRule%22%3A%20%22evenodd%22%2C%20%22lineCap%22%3A%20%22round%22%2C%20%22lineJoin%22%3A%20%22round%22%2C%20%22opacity%22%3A%201.0%2C%20%22radius%22%3A%2031000.0%2C%20%22stroke%22%3A%20true%2C%20%22weight%22%3A%203%7D%0A%20%20%20%20%20%20%20%20%20%20%20%20%29.addTo%28map_aebf8a811f48491ea9853ca070daf374%29%3B%0A%20%20%20%20%20%20%20%20%0A%20%20%20%20%0A%20%20%20%20%20%20%20%20%20%20%20%20circle_494b2e8e983447f887098093b1e67bc1.bindTooltip%28%0A%20%20%20%20%20%20%20%20%20%20%20%20%20%20%20%20%60%3Cdiv%3E%0A%20%20%20%20%20%20%20%20%20%20%20%20%20%20%20%20%20%20%20%20%20%3Cdiv%20style%3D%27margin%3A%200%3B%20background-color%3A%20black%3B%20color%3A%20white%3B%27%3E%3Ch4%20style%3D%27text-align%3Acenter%3Bfont-weight%3A%20bold%27%3ETanzania%3C/h4%3E%3Chr%20style%3D%27margin%3A10px%3Bcolor%3A%20white%3B%27%3E%3Cul%20style%3D%27color%3A%20white%3B%3Blist-style-type%3Acircle%3Balign-item%3Aleft%3Bpadding-left%3A20px%3Bpadding-right%3A20px%27%3E%3Cli%3EConfirmed%3A%20509%3C/li%3E%3Cli%3EDeaths%3A%20%20%2012%3C/li%3E%3Cli%3EDeath%20Rate%3A%202.35%3C/li%3E%3C/ul%3E%3C/div%3E%0A%20%20%20%20%20%20%20%20%20%20%20%20%20%20%20%20%20%3C/div%3E%60%2C%0A%20%20%20%20%20%20%20%20%20%20%20%20%20%20%20%20%7B%22sticky%22%3A%20true%7D%0A%20%20%20%20%20%20%20%20%20%20%20%20%29%3B%0A%20%20%20%20%20%20%20%20%0A%20%20%20%20%0A%20%20%20%20%20%20%20%20%20%20%20%20var%20circle_5d0c0cfe04154734a12e6b69b0950706%20%3D%20L.circle%28%0A%20%20%20%20%20%20%20%20%20%20%20%20%20%20%20%20%5B15.870032%2C%20100.992541%5D%2C%0A%20%20%20%20%20%20%20%20%20%20%20%20%20%20%20%20%7B%22bubblingMouseEvents%22%3A%20true%2C%20%22color%22%3A%20%22red%22%2C%20%22dashArray%22%3A%20null%2C%20%22dashOffset%22%3A%20null%2C%20%22fill%22%3A%20true%2C%20%22fillColor%22%3A%20%22indigo%22%2C%20%22fillOpacity%22%3A%200.2%2C%20%22fillRule%22%3A%20%22evenodd%22%2C%20%22lineCap%22%3A%20%22round%22%2C%20%22lineJoin%22%3A%20%22round%22%2C%20%22opacity%22%3A%201.0%2C%20%22radius%22%3A%2056000.0%2C%20%22stroke%22%3A%20true%2C%20%22weight%22%3A%203%7D%0A%20%20%20%20%20%20%20%20%20%20%20%20%29.addTo%28map_aebf8a811f48491ea9853ca070daf374%29%3B%0A%20%20%20%20%20%20%20%20%0A%20%20%20%20%0A%20%20%20%20%20%20%20%20%20%20%20%20circle_5d0c0cfe04154734a12e6b69b0950706.bindTooltip%28%0A%20%20%20%20%20%20%20%20%20%20%20%20%20%20%20%20%60%3Cdiv%3E%0A%20%20%20%20%20%20%20%20%20%20%20%20%20%20%20%20%20%20%20%20%20%3Cdiv%20style%3D%27margin%3A%200%3B%20background-color%3A%20black%3B%20color%3A%20white%3B%27%3E%3Ch4%20style%3D%27text-align%3Acenter%3Bfont-weight%3A%20bold%27%3EThailand%3C/h4%3E%3Chr%20style%3D%27margin%3A10px%3Bcolor%3A%20white%3B%27%3E%3Cul%20style%3D%27color%3A%20white%3B%3Blist-style-type%3Acircle%3Balign-item%3Aleft%3Bpadding-left%3A20px%3Bpadding-right%3A20px%27%3E%3Cli%3EConfirmed%3A%2072788%3C/li%3E%3Cli%3EDeaths%3A%20%20%2090%3C/li%3E%3Cli%3EDeath%20Rate%3A%200.12%3C/li%3E%3C/ul%3E%3C/div%3E%0A%20%20%20%20%20%20%20%20%20%20%20%20%20%20%20%20%20%3C/div%3E%60%2C%0A%20%20%20%20%20%20%20%20%20%20%20%20%20%20%20%20%7B%22sticky%22%3A%20true%7D%0A%20%20%20%20%20%20%20%20%20%20%20%20%29%3B%0A%20%20%20%20%20%20%20%20%0A%20%20%20%20%0A%20%20%20%20%20%20%20%20%20%20%20%20var%20circle_bc16bd8b12be45459684ab642d70c4c7%20%3D%20L.circle%28%0A%20%20%20%20%20%20%20%20%20%20%20%20%20%20%20%20%5B-8.874217%2C%20125.727539%5D%2C%0A%20%20%20%20%20%20%20%20%20%20%20%20%20%20%20%20%7B%22bubblingMouseEvents%22%3A%20true%2C%20%22color%22%3A%20%22red%22%2C%20%22dashArray%22%3A%20null%2C%20%22dashOffset%22%3A%20null%2C%20%22fill%22%3A%20true%2C%20%22fillColor%22%3A%20%22indigo%22%2C%20%22fillOpacity%22%3A%200.2%2C%20%22fillRule%22%3A%20%22evenodd%22%2C%20%22lineCap%22%3A%20%22round%22%2C%20%22lineJoin%22%3A%20%22round%22%2C%20%22opacity%22%3A%201.0%2C%20%22radius%22%3A%2036000.0%2C%20%22stroke%22%3A%20true%2C%20%22weight%22%3A%203%7D%0A%20%20%20%20%20%20%20%20%20%20%20%20%29.addTo%28map_aebf8a811f48491ea9853ca070daf374%29%3B%0A%20%20%20%20%20%20%20%20%0A%20%20%20%20%0A%20%20%20%20%20%20%20%20%20%20%20%20circle_bc16bd8b12be45459684ab642d70c4c7.bindTooltip%28%0A%20%20%20%20%20%20%20%20%20%20%20%20%20%20%20%20%60%3Cdiv%3E%0A%20%20%20%20%20%20%20%20%20%20%20%20%20%20%20%20%20%20%20%20%20%3Cdiv%20style%3D%27margin%3A%200%3B%20background-color%3A%20black%3B%20color%3A%20white%3B%27%3E%3Ch4%20style%3D%27text-align%3Acenter%3Bfont-weight%3A%20bold%27%3ETimor-Leste%3C/h4%3E%3Chr%20style%3D%27margin%3A10px%3Bcolor%3A%20white%3B%27%3E%3Cul%20style%3D%27color%3A%20white%3B%3Blist-style-type%3Acircle%3Balign-item%3Aleft%3Bpadding-left%3A20px%3Bpadding-right%3A20px%27%3E%3Cli%3EConfirmed%3A%202653%3C/li%3E%3Cli%3EDeaths%3A%20%20%2021%3C/li%3E%3Cli%3EDeath%20Rate%3A%200.79%3C/li%3E%3C/ul%3E%3C/div%3E%0A%20%20%20%20%20%20%20%20%20%20%20%20%20%20%20%20%20%3C/div%3E%60%2C%0A%20%20%20%20%20%20%20%20%20%20%20%20%20%20%20%20%7B%22sticky%22%3A%20true%7D%0A%20%20%20%20%20%20%20%20%20%20%20%20%29%3B%0A%20%20%20%20%20%20%20%20%0A%20%20%20%20%0A%20%20%20%20%20%20%20%20%20%20%20%20var%20circle_030812fca2194effa9e95d7d7433011e%20%3D%20L.circle%28%0A%20%20%20%20%20%20%20%20%20%20%20%20%20%20%20%20%5B8.6195%2C%200.8248%5D%2C%0A%20%20%20%20%20%20%20%20%20%20%20%20%20%20%20%20%7B%22bubblingMouseEvents%22%3A%20true%2C%20%22color%22%3A%20%22red%22%2C%20%22dashArray%22%3A%20null%2C%20%22dashOffset%22%3A%20null%2C%20%22fill%22%3A%20true%2C%20%22fillColor%22%3A%20%22indigo%22%2C%20%22fillOpacity%22%3A%200.2%2C%20%22fillRule%22%3A%20%22evenodd%22%2C%20%22lineCap%22%3A%20%22round%22%2C%20%22lineJoin%22%3A%20%22round%22%2C%20%22opacity%22%3A%201.0%2C%20%22radius%22%3A%2046000.0%2C%20%22stroke%22%3A%20true%2C%20%22weight%22%3A%203%7D%0A%20%20%20%20%20%20%20%20%20%20%20%20%29.addTo%28map_aebf8a811f48491ea9853ca070daf374%29%3B%0A%20%20%20%20%20%20%20%20%0A%20%20%20%20%0A%20%20%20%20%20%20%20%20%20%20%20%20circle_030812fca2194effa9e95d7d7433011e.bindTooltip%28%0A%20%20%20%20%20%20%20%20%20%20%20%20%20%20%20%20%60%3Cdiv%3E%0A%20%20%20%20%20%20%20%20%20%20%20%20%20%20%20%20%20%20%20%20%20%3Cdiv%20style%3D%27margin%3A%200%3B%20background-color%3A%20black%3B%20color%3A%20white%3B%27%3E%3Ch4%20style%3D%27text-align%3Acenter%3Bfont-weight%3A%20bold%27%3ETogo%3C/h4%3E%3Chr%20style%3D%27margin%3A10px%3Bcolor%3A%20white%3B%27%3E%3Cul%20style%3D%27color%3A%20white%3B%3Blist-style-type%3Acircle%3Balign-item%3Aleft%3Bpadding-left%3A20px%3Bpadding-right%3A20px%27%3E%3Cli%3EConfirmed%3A%2013037%3C/li%3E%3Cli%3EDeaths%3A%20%20%20303%3C/li%3E%3Cli%3EDeath%20Rate%3A%202.32%3C/li%3E%3C/ul%3E%3C/div%3E%0A%20%20%20%20%20%20%20%20%20%20%20%20%20%20%20%20%20%3C/div%3E%60%2C%0A%20%20%20%20%20%20%20%20%20%20%20%20%20%20%20%20%7B%22sticky%22%3A%20true%7D%0A%20%20%20%20%20%20%20%20%20%20%20%20%29%3B%0A%20%20%20%20%20%20%20%20%0A%20%20%20%20%0A%20%20%20%20%20%20%20%20%20%20%20%20var%20circle_e7aa9a9cd9ca4e3dac85e5ab8a98c73f%20%3D%20L.circle%28%0A%20%20%20%20%20%20%20%20%20%20%20%20%20%20%20%20%5B10.6918%2C%20-61.2225%5D%2C%0A%20%20%20%20%20%20%20%20%20%20%20%20%20%20%20%20%7B%22bubblingMouseEvents%22%3A%20true%2C%20%22color%22%3A%20%22red%22%2C%20%22dashArray%22%3A%20null%2C%20%22dashOffset%22%3A%20null%2C%20%22fill%22%3A%20true%2C%20%22fillColor%22%3A%20%22indigo%22%2C%20%22fillOpacity%22%3A%200.2%2C%20%22fillRule%22%3A%20%22evenodd%22%2C%20%22lineCap%22%3A%20%22round%22%2C%20%22lineJoin%22%3A%20%22round%22%2C%20%22opacity%22%3A%201.0%2C%20%22radius%22%3A%2046000.0%2C%20%22stroke%22%3A%20true%2C%20%22weight%22%3A%203%7D%0A%20%20%20%20%20%20%20%20%20%20%20%20%29.addTo%28map_aebf8a811f48491ea9853ca070daf374%29%3B%0A%20%20%20%20%20%20%20%20%0A%20%20%20%20%0A%20%20%20%20%20%20%20%20%20%20%20%20circle_e7aa9a9cd9ca4e3dac85e5ab8a98c73f.bindTooltip%28%0A%20%20%20%20%20%20%20%20%20%20%20%20%20%20%20%20%60%3Cdiv%3E%0A%20%20%20%20%20%20%20%20%20%20%20%20%20%20%20%20%20%20%20%20%20%3Cdiv%20style%3D%27margin%3A%200%3B%20background-color%3A%20black%3B%20color%3A%20white%3B%27%3E%3Ch4%20style%3D%27text-align%3Acenter%3Bfont-weight%3A%20bold%27%3ETrinidad%20and%20Tobago%3C/h4%3E%3Chr%20style%3D%27margin%3A10px%3Bcolor%3A%20white%3B%27%3E%3Cul%20style%3D%27color%3A%20white%3B%3Blist-style-type%3Acircle%3Balign-item%3Aleft%3Bpadding-left%3A20px%3Bpadding-right%3A20px%27%3E%3Cli%3EConfirmed%3A%2011706%3C/li%3E%3Cli%3EDeaths%3A%20%20%204%3C/li%3E%3Cli%3EDeath%20Rate%3A%200.03%3C/li%3E%3C/ul%3E%3C/div%3E%0A%20%20%20%20%20%20%20%20%20%20%20%20%20%20%20%20%20%3C/div%3E%60%2C%0A%20%20%20%20%20%20%20%20%20%20%20%20%20%20%20%20%7B%22sticky%22%3A%20true%7D%0A%20%20%20%20%20%20%20%20%20%20%20%20%29%3B%0A%20%20%20%20%20%20%20%20%0A%20%20%20%20%0A%20%20%20%20%20%20%20%20%20%20%20%20var%20circle_982cd8c5eca24975a465f21d93203aa6%20%3D%20L.circle%28%0A%20%20%20%20%20%20%20%20%20%20%20%20%20%20%20%20%5B33.886917%2C%209.537499%5D%2C%0A%20%20%20%20%20%20%20%20%20%20%20%20%20%20%20%20%7B%22bubblingMouseEvents%22%3A%20true%2C%20%22color%22%3A%20%22red%22%2C%20%22dashArray%22%3A%20null%2C%20%22dashOffset%22%3A%20null%2C%20%22fill%22%3A%20true%2C%20%22fillColor%22%3A%20%22indigo%22%2C%20%22fillOpacity%22%3A%200.2%2C%20%22fillRule%22%3A%20%22evenodd%22%2C%20%22lineCap%22%3A%20%22round%22%2C%20%22lineJoin%22%3A%20%22round%22%2C%20%22opacity%22%3A%201.0%2C%20%22radius%22%3A%2061000.0%2C%20%22stroke%22%3A%20true%2C%20%22weight%22%3A%203%7D%0A%20%20%20%20%20%20%20%20%20%20%20%20%29.addTo%28map_aebf8a811f48491ea9853ca070daf374%29%3B%0A%20%20%20%20%20%20%20%20%0A%20%20%20%20%0A%20%20%20%20%20%20%20%20%20%20%20%20circle_982cd8c5eca24975a465f21d93203aa6.bindTooltip%28%0A%20%20%20%20%20%20%20%20%20%20%20%20%20%20%20%20%60%3Cdiv%3E%0A%20%20%20%20%20%20%20%20%20%20%20%20%20%20%20%20%20%20%20%20%20%3Cdiv%20style%3D%27margin%3A%200%3B%20background-color%3A%20black%3B%20color%3A%20white%3B%27%3E%3Ch4%20style%3D%27text-align%3Acenter%3Bfont-weight%3A%20bold%27%3ETunisia%3C/h4%3E%3Chr%20style%3D%27margin%3A10px%3Bcolor%3A%20white%3B%27%3E%3Cul%20style%3D%27color%3A%20white%3B%3Blist-style-type%3Acircle%3Balign-item%3Aleft%3Bpadding-left%3A20px%3Bpadding-right%3A20px%27%3E%3Cli%3EConfirmed%3A%20314152%3C/li%3E%3Cli%3EDeaths%3A%20%20%20123%3C/li%3E%3Cli%3EDeath%20Rate%3A%200.04%3C/li%3E%3C/ul%3E%3C/div%3E%0A%20%20%20%20%20%20%20%20%20%20%20%20%20%20%20%20%20%3C/div%3E%60%2C%0A%20%20%20%20%20%20%20%20%20%20%20%20%20%20%20%20%7B%22sticky%22%3A%20true%7D%0A%20%20%20%20%20%20%20%20%20%20%20%20%29%3B%0A%20%20%20%20%20%20%20%20%0A%20%20%20%20%0A%20%20%20%20%20%20%20%20%20%20%20%20var%20circle_8e64905841d24210be2e6c906d47f03a%20%3D%20L.circle%28%0A%20%20%20%20%20%20%20%20%20%20%20%20%20%20%20%20%5B38.9637%2C%2035.2433%5D%2C%0A%20%20%20%20%20%20%20%20%20%20%20%20%20%20%20%20%7B%22bubblingMouseEvents%22%3A%20true%2C%20%22color%22%3A%20%22red%22%2C%20%22dashArray%22%3A%20null%2C%20%22dashOffset%22%3A%20null%2C%20%22fill%22%3A%20true%2C%20%22fillColor%22%3A%20%22indigo%22%2C%20%22fillOpacity%22%3A%200.2%2C%20%22fillRule%22%3A%20%22evenodd%22%2C%20%22lineCap%22%3A%20%22round%22%2C%20%22lineJoin%22%3A%20%22round%22%2C%20%22opacity%22%3A%201.0%2C%20%22radius%22%3A%2076000.0%2C%20%22stroke%22%3A%20true%2C%20%22weight%22%3A%203%7D%0A%20%20%20%20%20%20%20%20%20%20%20%20%29.addTo%28map_aebf8a811f48491ea9853ca070daf374%29%3B%0A%20%20%20%20%20%20%20%20%0A%20%20%20%20%0A%20%20%20%20%20%20%20%20%20%20%20%20circle_8e64905841d24210be2e6c906d47f03a.bindTooltip%28%0A%20%20%20%20%20%20%20%20%20%20%20%20%20%20%20%20%60%3Cdiv%3E%0A%20%20%20%20%20%20%20%20%20%20%20%20%20%20%20%20%20%20%20%20%20%3Cdiv%20style%3D%27margin%3A%200%3B%20background-color%3A%20black%3B%20color%3A%20white%3B%27%3E%3Ch4%20style%3D%27text-align%3Acenter%3Bfont-weight%3A%20bold%27%3ETurkey%3C/h4%3E%3Chr%20style%3D%27margin%3A10px%3Bcolor%3A%20white%3B%27%3E%3Cul%20style%3D%27color%3A%20white%3B%3Blist-style-type%3Acircle%3Balign-item%3Aleft%3Bpadding-left%3A20px%3Bpadding-right%3A20px%27%3E%3Cli%3EConfirmed%3A%204929118%3C/li%3E%3Cli%3EDeaths%3A%20%20%20185%3C/li%3E%3Cli%3EDeath%20Rate%3A%200.0%3C/li%3E%3C/ul%3E%3C/div%3E%0A%20%20%20%20%20%20%20%20%20%20%20%20%20%20%20%20%20%3C/div%3E%60%2C%0A%20%20%20%20%20%20%20%20%20%20%20%20%20%20%20%20%7B%22sticky%22%3A%20true%7D%0A%20%20%20%20%20%20%20%20%20%20%20%20%29%3B%0A%20%20%20%20%20%20%20%20%0A%20%20%20%20%0A%20%20%20%20%20%20%20%20%20%20%20%20var%20circle_6ba3bff6b9da4a308f3bd98117ac5ad6%20%3D%20L.circle%28%0A%20%20%20%20%20%20%20%20%20%20%20%20%20%20%20%20%5B40.0%2C%20-100.0%5D%2C%0A%20%20%20%20%20%20%20%20%20%20%20%20%20%20%20%20%7B%22bubblingMouseEvents%22%3A%20true%2C%20%22color%22%3A%20%22red%22%2C%20%22dashArray%22%3A%20null%2C%20%22dashOffset%22%3A%20null%2C%20%22fill%22%3A%20true%2C%20%22fillColor%22%3A%20%22indigo%22%2C%20%22fillOpacity%22%3A%200.2%2C%20%22fillRule%22%3A%20%22evenodd%22%2C%20%22lineCap%22%3A%20%22round%22%2C%20%22lineJoin%22%3A%20%22round%22%2C%20%22opacity%22%3A%201.0%2C%20%22radius%22%3A%2086000.0%2C%20%22stroke%22%3A%20true%2C%20%22weight%22%3A%203%7D%0A%20%20%20%20%20%20%20%20%20%20%20%20%29.addTo%28map_aebf8a811f48491ea9853ca070daf374%29%3B%0A%20%20%20%20%20%20%20%20%0A%20%20%20%20%0A%20%20%20%20%20%20%20%20%20%20%20%20circle_6ba3bff6b9da4a308f3bd98117ac5ad6.bindTooltip%28%0A%20%20%20%20%20%20%20%20%20%20%20%20%20%20%20%20%60%3Cdiv%3E%0A%20%20%20%20%20%20%20%20%20%20%20%20%20%20%20%20%20%20%20%20%20%3Cdiv%20style%3D%27margin%3A%200%3B%20background-color%3A%20black%3B%20color%3A%20white%3B%27%3E%3Ch4%20style%3D%27text-align%3Acenter%3Bfont-weight%3A%20bold%27%3EUS%3C/h4%3E%3Chr%20style%3D%27margin%3A10px%3Bcolor%3A%20white%3B%27%3E%3Cul%20style%3D%27color%3A%20white%3B%3Blist-style-type%3Acircle%3Balign-item%3Aleft%3Bpadding-left%3A20px%3Bpadding-right%3A20px%27%3E%3Cli%3EConfirmed%3A%2032512575%3C/li%3E%3Cli%3EDeaths%3A%20%20%2011016%3C/li%3E%3Cli%3EDeath%20Rate%3A%200.03%3C/li%3E%3C/ul%3E%3C/div%3E%0A%20%20%20%20%20%20%20%20%20%20%20%20%20%20%20%20%20%3C/div%3E%60%2C%0A%20%20%20%20%20%20%20%20%20%20%20%20%20%20%20%20%7B%22sticky%22%3A%20true%7D%0A%20%20%20%20%20%20%20%20%20%20%20%20%29%3B%0A%20%20%20%20%20%20%20%20%0A%20%20%20%20%0A%20%20%20%20%20%20%20%20%20%20%20%20var%20circle_f5bf9a4d41464d94a222ebac57da1e4e%20%3D%20L.circle%28%0A%20%20%20%20%20%20%20%20%20%20%20%20%20%20%20%20%5B1.373333%2C%2032.290275%5D%2C%0A%20%20%20%20%20%20%20%20%20%20%20%20%20%20%20%20%7B%22bubblingMouseEvents%22%3A%20true%2C%20%22color%22%3A%20%22red%22%2C%20%22dashArray%22%3A%20null%2C%20%22dashOffset%22%3A%20null%2C%20%22fill%22%3A%20true%2C%20%22fillColor%22%3A%20%22indigo%22%2C%20%22fillOpacity%22%3A%200.2%2C%20%22fillRule%22%3A%20%22evenodd%22%2C%20%22lineCap%22%3A%20%22round%22%2C%20%22lineJoin%22%3A%20%22round%22%2C%20%22opacity%22%3A%201.0%2C%20%22radius%22%3A%2051000.0%2C%20%22stroke%22%3A%20true%2C%20%22weight%22%3A%203%7D%0A%20%20%20%20%20%20%20%20%20%20%20%20%29.addTo%28map_aebf8a811f48491ea9853ca070daf374%29%3B%0A%20%20%20%20%20%20%20%20%0A%20%20%20%20%0A%20%20%20%20%20%20%20%20%20%20%20%20circle_f5bf9a4d41464d94a222ebac57da1e4e.bindTooltip%28%0A%20%20%20%20%20%20%20%20%20%20%20%20%20%20%20%20%60%3Cdiv%3E%0A%20%20%20%20%20%20%20%20%20%20%20%20%20%20%20%20%20%20%20%20%20%3Cdiv%20style%3D%27margin%3A%200%3B%20background-color%3A%20black%3B%20color%3A%20white%3B%27%3E%3Ch4%20style%3D%27text-align%3Acenter%3Bfont-weight%3A%20bold%27%3EUganda%3C/h4%3E%3Chr%20style%3D%27margin%3A10px%3Bcolor%3A%20white%3B%27%3E%3Cul%20style%3D%27color%3A%20white%3B%3Blist-style-type%3Acircle%3Balign-item%3Aleft%3Bpadding-left%3A20px%3Bpadding-right%3A20px%27%3E%3Cli%3EConfirmed%3A%2042032%3C/li%3E%3Cli%3EDeaths%3A%20%20%2041527%3C/li%3E%3Cli%3EDeath%20Rate%3A%2098.8%3C/li%3E%3C/ul%3E%3C/div%3E%0A%20%20%20%20%20%20%20%20%20%20%20%20%20%20%20%20%20%3C/div%3E%60%2C%0A%20%20%20%20%20%20%20%20%20%20%20%20%20%20%20%20%7B%22sticky%22%3A%20true%7D%0A%20%20%20%20%20%20%20%20%20%20%20%20%29%3B%0A%20%20%20%20%20%20%20%20%0A%20%20%20%20%0A%20%20%20%20%20%20%20%20%20%20%20%20var%20circle_1217ece3bc474a1bacba56562680c449%20%3D%20L.circle%28%0A%20%20%20%20%20%20%20%20%20%20%20%20%20%20%20%20%5B48.3794%2C%2031.1656%5D%2C%0A%20%20%20%20%20%20%20%20%20%20%20%20%20%20%20%20%7B%22bubblingMouseEvents%22%3A%20true%2C%20%22color%22%3A%20%22red%22%2C%20%22dashArray%22%3A%20null%2C%20%22dashOffset%22%3A%20null%2C%20%22fill%22%3A%20true%2C%20%22fillColor%22%3A%20%22indigo%22%2C%20%22fillOpacity%22%3A%200.2%2C%20%22fillRule%22%3A%20%22evenodd%22%2C%20%22lineCap%22%3A%20%22round%22%2C%20%22lineJoin%22%3A%20%22round%22%2C%20%22opacity%22%3A%201.0%2C%20%22radius%22%3A%2071000.0%2C%20%22stroke%22%3A%20true%2C%20%22weight%22%3A%203%7D%0A%20%20%20%20%20%20%20%20%20%20%20%20%29.addTo%28map_aebf8a811f48491ea9853ca070daf374%29%3B%0A%20%20%20%20%20%20%20%20%0A%20%20%20%20%0A%20%20%20%20%20%20%20%20%20%20%20%20circle_1217ece3bc474a1bacba56562680c449.bindTooltip%28%0A%20%20%20%20%20%20%20%20%20%20%20%20%20%20%20%20%60%3Cdiv%3E%0A%20%20%20%20%20%20%20%20%20%20%20%20%20%20%20%20%20%20%20%20%20%3Cdiv%20style%3D%27margin%3A%200%3B%20background-color%3A%20black%3B%20color%3A%20white%3B%27%3E%3Ch4%20style%3D%27text-align%3Acenter%3Bfont-weight%3A%20bold%27%3EUkraine%3C/h4%3E%3Chr%20style%3D%27margin%3A10px%3Bcolor%3A%20white%3B%27%3E%3Cul%20style%3D%27color%3A%20white%3B%3Blist-style-type%3Acircle%3Balign-item%3Aleft%3Bpadding-left%3A20px%3Bpadding-right%3A20px%27%3E%3Cli%3EConfirmed%3A%202143427%3C/li%3E%3Cli%3EDeaths%3A%20%20%20578481%3C/li%3E%3Cli%3EDeath%20Rate%3A%2026.99%3C/li%3E%3C/ul%3E%3C/div%3E%0A%20%20%20%20%20%20%20%20%20%20%20%20%20%20%20%20%20%3C/div%3E%60%2C%0A%20%20%20%20%20%20%20%20%20%20%20%20%20%20%20%20%7B%22sticky%22%3A%20true%7D%0A%20%20%20%20%20%20%20%20%20%20%20%20%29%3B%0A%20%20%20%20%20%20%20%20%0A%20%20%20%20%0A%20%20%20%20%20%20%20%20%20%20%20%20var%20circle_53913fd448f14a0c8e4a8cae396baf52%20%3D%20L.circle%28%0A%20%20%20%20%20%20%20%20%20%20%20%20%20%20%20%20%5B23.424076%2C%2053.847818000000004%5D%2C%0A%20%20%20%20%20%20%20%20%20%20%20%20%20%20%20%20%7B%22bubblingMouseEvents%22%3A%20true%2C%20%22color%22%3A%20%22red%22%2C%20%22dashArray%22%3A%20null%2C%20%22dashOffset%22%3A%20null%2C%20%22fill%22%3A%20true%2C%20%22fillColor%22%3A%20%22indigo%22%2C%20%22fillOpacity%22%3A%200.2%2C%20%22fillRule%22%3A%20%22evenodd%22%2C%20%22lineCap%22%3A%20%22round%22%2C%20%22lineJoin%22%3A%20%22round%22%2C%20%22opacity%22%3A%201.0%2C%20%22radius%22%3A%2066000.0%2C%20%22stroke%22%3A%20true%2C%20%22weight%22%3A%203%7D%0A%20%20%20%20%20%20%20%20%20%20%20%20%29.addTo%28map_aebf8a811f48491ea9853ca070daf374%29%3B%0A%20%20%20%20%20%20%20%20%0A%20%20%20%20%0A%20%20%20%20%20%20%20%20%20%20%20%20circle_53913fd448f14a0c8e4a8cae396baf52.bindTooltip%28%0A%20%20%20%20%20%20%20%20%20%20%20%20%20%20%20%20%60%3Cdiv%3E%0A%20%20%20%20%20%20%20%20%20%20%20%20%20%20%20%20%20%20%20%20%20%3Cdiv%20style%3D%27margin%3A%200%3B%20background-color%3A%20black%3B%20color%3A%20white%3B%27%3E%3Ch4%20style%3D%27text-align%3Acenter%3Bfont-weight%3A%20bold%27%3EUnited%20Arab%20Emirates%3C/h4%3E%3Chr%20style%3D%27margin%3A10px%3Bcolor%3A%20white%3B%27%3E%3Cul%20style%3D%27color%3A%20white%3B%3Blist-style-type%3Acircle%3Balign-item%3Aleft%3Bpadding-left%3A20px%3Bpadding-right%3A20px%27%3E%3Cli%3EConfirmed%3A%20527266%3C/li%3E%3Cli%3EDeaths%3A%20%20%20342%3C/li%3E%3Cli%3EDeath%20Rate%3A%200.06%3C/li%3E%3C/ul%3E%3C/div%3E%0A%20%20%20%20%20%20%20%20%20%20%20%20%20%20%20%20%20%3C/div%3E%60%2C%0A%20%20%20%20%20%20%20%20%20%20%20%20%20%20%20%20%7B%22sticky%22%3A%20true%7D%0A%20%20%20%20%20%20%20%20%20%20%20%20%29%3B%0A%20%20%20%20%20%20%20%20%0A%20%20%20%20%0A%20%20%20%20%20%20%20%20%20%20%20%20var%20circle_ed38df5d47d84c10b4d391dada6e62a2%20%3D%20L.circle%28%0A%20%20%20%20%20%20%20%20%20%20%20%20%20%20%20%20%5B18.2206%2C%20-63.0686%5D%2C%0A%20%20%20%20%20%20%20%20%20%20%20%20%20%20%20%20%7B%22bubblingMouseEvents%22%3A%20true%2C%20%22color%22%3A%20%22red%22%2C%20%22dashArray%22%3A%20null%2C%20%22dashOffset%22%3A%20null%2C%20%22fill%22%3A%20true%2C%20%22fillColor%22%3A%20%22indigo%22%2C%20%22fillOpacity%22%3A%200.2%2C%20%22fillRule%22%3A%20%22evenodd%22%2C%20%22lineCap%22%3A%20%22round%22%2C%20%22lineJoin%22%3A%20%22round%22%2C%20%22opacity%22%3A%201.0%2C%20%22radius%22%3A%2021000.0%2C%20%22stroke%22%3A%20true%2C%20%22weight%22%3A%203%7D%0A%20%20%20%20%20%20%20%20%20%20%20%20%29.addTo%28map_aebf8a811f48491ea9853ca070daf374%29%3B%0A%20%20%20%20%20%20%20%20%0A%20%20%20%20%0A%20%20%20%20%20%20%20%20%20%20%20%20circle_ed38df5d47d84c10b4d391dada6e62a2.bindTooltip%28%0A%20%20%20%20%20%20%20%20%20%20%20%20%20%20%20%20%60%3Cdiv%3E%0A%20%20%20%20%20%20%20%20%20%20%20%20%20%20%20%20%20%20%20%20%20%3Cdiv%20style%3D%27margin%3A%200%3B%20background-color%3A%20black%3B%20color%3A%20white%3B%27%3E%3Ch4%20style%3D%27text-align%3Acenter%3Bfont-weight%3A%20bold%27%3EUnited%20Kingdom%3C/h4%3E%3Chr%20style%3D%27margin%3A10px%3Bcolor%3A%20white%3B%27%3E%3Cul%20style%3D%27color%3A%20white%3B%3Blist-style-type%3Acircle%3Balign-item%3Aleft%3Bpadding-left%3A20px%3Bpadding-right%3A20px%27%3E%3Cli%3EConfirmed%3A%2095%3C/li%3E%3Cli%3EDeaths%3A%20%20%2046781%3C/li%3E%3Cli%3EDeath%20Rate%3A%2048730.2%3C/li%3E%3C/ul%3E%3C/div%3E%0A%20%20%20%20%20%20%20%20%20%20%20%20%20%20%20%20%20%3C/div%3E%60%2C%0A%20%20%20%20%20%20%20%20%20%20%20%20%20%20%20%20%7B%22sticky%22%3A%20true%7D%0A%20%20%20%20%20%20%20%20%20%20%20%20%29%3B%0A%20%20%20%20%20%20%20%20%0A%20%20%20%20%0A%20%20%20%20%20%20%20%20%20%20%20%20var%20circle_7d2e1dc7f8ca403b85ad765b03ac61df%20%3D%20L.circle%28%0A%20%20%20%20%20%20%20%20%20%20%20%20%20%20%20%20%5B32.3078%2C%20-64.7505%5D%2C%0A%20%20%20%20%20%20%20%20%20%20%20%20%20%20%20%20%7B%22bubblingMouseEvents%22%3A%20true%2C%20%22color%22%3A%20%22red%22%2C%20%22dashArray%22%3A%20null%2C%20%22dashOffset%22%3A%20null%2C%20%22fill%22%3A%20true%2C%20%22fillColor%22%3A%20%22indigo%22%2C%20%22fillOpacity%22%3A%200.2%2C%20%22fillRule%22%3A%20%22evenodd%22%2C%20%22lineCap%22%3A%20%22round%22%2C%20%22lineJoin%22%3A%20%22round%22%2C%20%22opacity%22%3A%201.0%2C%20%22radius%22%3A%2036000.0%2C%20%22stroke%22%3A%20true%2C%20%22weight%22%3A%203%7D%0A%20%20%20%20%20%20%20%20%20%20%20%20%29.addTo%28map_aebf8a811f48491ea9853ca070daf374%29%3B%0A%20%20%20%20%20%20%20%20%0A%20%20%20%20%0A%20%20%20%20%20%20%20%20%20%20%20%20circle_7d2e1dc7f8ca403b85ad765b03ac61df.bindTooltip%28%0A%20%20%20%20%20%20%20%20%20%20%20%20%20%20%20%20%60%3Cdiv%3E%0A%20%20%20%20%20%20%20%20%20%20%20%20%20%20%20%20%20%20%20%20%20%3Cdiv%20style%3D%27margin%3A%200%3B%20background-color%3A%20black%3B%20color%3A%20white%3B%27%3E%3Ch4%20style%3D%27text-align%3Acenter%3Bfont-weight%3A%20bold%27%3EUnited%20Kingdom%3C/h4%3E%3Chr%20style%3D%27margin%3A10px%3Bcolor%3A%20white%3B%27%3E%3Cul%20style%3D%27color%3A%20white%3B%3Blist-style-type%3Acircle%3Balign-item%3Aleft%3Bpadding-left%3A20px%3Bpadding-right%3A20px%27%3E%3Cli%3EConfirmed%3A%202422%3C/li%3E%3Cli%3EDeaths%3A%20%20%201598%3C/li%3E%3Cli%3EDeath%20Rate%3A%2065.95%3C/li%3E%3C/ul%3E%3C/div%3E%0A%20%20%20%20%20%20%20%20%20%20%20%20%20%20%20%20%20%3C/div%3E%60%2C%0A%20%20%20%20%20%20%20%20%20%20%20%20%20%20%20%20%7B%22sticky%22%3A%20true%7D%0A%20%20%20%20%20%20%20%20%20%20%20%20%29%3B%0A%20%20%20%20%20%20%20%20%0A%20%20%20%20%0A%20%20%20%20%20%20%20%20%20%20%20%20var%20circle_6e592874c5e6466cb51f9777a85f5032%20%3D%20L.circle%28%0A%20%20%20%20%20%20%20%20%20%20%20%20%20%20%20%20%5B18.4207%2C%20-64.64%5D%2C%0A%20%20%20%20%20%20%20%20%20%20%20%20%20%20%20%20%7B%22bubblingMouseEvents%22%3A%20true%2C%20%22color%22%3A%20%22red%22%2C%20%22dashArray%22%3A%20null%2C%20%22dashOffset%22%3A%20null%2C%20%22fill%22%3A%20true%2C%20%22fillColor%22%3A%20%22indigo%22%2C%20%22fillOpacity%22%3A%200.2%2C%20%22fillRule%22%3A%20%22evenodd%22%2C%20%22lineCap%22%3A%20%22round%22%2C%20%22lineJoin%22%3A%20%22round%22%2C%20%22opacity%22%3A%201.0%2C%20%22radius%22%3A%2026000.0%2C%20%22stroke%22%3A%20true%2C%20%22weight%22%3A%203%7D%0A%20%20%20%20%20%20%20%20%20%20%20%20%29.addTo%28map_aebf8a811f48491ea9853ca070daf374%29%3B%0A%20%20%20%20%20%20%20%20%0A%20%20%20%20%0A%20%20%20%20%20%20%20%20%20%20%20%20circle_6e592874c5e6466cb51f9777a85f5032.bindTooltip%28%0A%20%20%20%20%20%20%20%20%20%20%20%20%20%20%20%20%60%3Cdiv%3E%0A%20%20%20%20%20%20%20%20%20%20%20%20%20%20%20%20%20%20%20%20%20%3Cdiv%20style%3D%27margin%3A%200%3B%20background-color%3A%20black%3B%20color%3A%20white%3B%27%3E%3Ch4%20style%3D%27text-align%3Acenter%3Bfont-weight%3A%20bold%27%3EUnited%20Kingdom%3C/h4%3E%3Chr%20style%3D%27margin%3A10px%3Bcolor%3A%20white%3B%27%3E%3Cul%20style%3D%27color%3A%20white%3B%3Blist-style-type%3Acircle%3Balign-item%3Aleft%3Bpadding-left%3A20px%3Bpadding-right%3A20px%27%3E%3Cli%3EConfirmed%3A%20216%3C/li%3E%3Cli%3EDeaths%3A%20%20%200%3C/li%3E%3Cli%3EDeath%20Rate%3A%200.0%3C/li%3E%3C/ul%3E%3C/div%3E%0A%20%20%20%20%20%20%20%20%20%20%20%20%20%20%20%20%20%3C/div%3E%60%2C%0A%20%20%20%20%20%20%20%20%20%20%20%20%20%20%20%20%7B%22sticky%22%3A%20true%7D%0A%20%20%20%20%20%20%20%20%20%20%20%20%29%3B%0A%20%20%20%20%20%20%20%20%0A%20%20%20%20%0A%20%20%20%20%20%20%20%20%20%20%20%20var%20circle_43ead8ebfdb84611853b30213c15c24f%20%3D%20L.circle%28%0A%20%20%20%20%20%20%20%20%20%20%20%20%20%20%20%20%5B19.3133%2C%20-81.2546%5D%2C%0A%20%20%20%20%20%20%20%20%20%20%20%20%20%20%20%20%7B%22bubblingMouseEvents%22%3A%20true%2C%20%22color%22%3A%20%22red%22%2C%20%22dashArray%22%3A%20null%2C%20%22dashOffset%22%3A%20null%2C%20%22fill%22%3A%20true%2C%20%22fillColor%22%3A%20%22indigo%22%2C%20%22fillOpacity%22%3A%200.2%2C%20%22fillRule%22%3A%20%22evenodd%22%2C%20%22lineCap%22%3A%20%22round%22%2C%20%22lineJoin%22%3A%20%22round%22%2C%20%22opacity%22%3A%201.0%2C%20%22radius%22%3A%2031000.0%2C%20%22stroke%22%3A%20true%2C%20%22weight%22%3A%203%7D%0A%20%20%20%20%20%20%20%20%20%20%20%20%29.addTo%28map_aebf8a811f48491ea9853ca070daf374%29%3B%0A%20%20%20%20%20%20%20%20%0A%20%20%20%20%0A%20%20%20%20%20%20%20%20%20%20%20%20circle_43ead8ebfdb84611853b30213c15c24f.bindTooltip%28%0A%20%20%20%20%20%20%20%20%20%20%20%20%20%20%20%20%60%3Cdiv%3E%0A%20%20%20%20%20%20%20%20%20%20%20%20%20%20%20%20%20%20%20%20%20%3Cdiv%20style%3D%27margin%3A%200%3B%20background-color%3A%20black%3B%20color%3A%20white%3B%27%3E%3Ch4%20style%3D%27text-align%3Acenter%3Bfont-weight%3A%20bold%27%3EUnited%20Kingdom%3C/h4%3E%3Chr%20style%3D%27margin%3A10px%3Bcolor%3A%20white%3B%27%3E%3Cul%20style%3D%27color%3A%20white%3B%3Blist-style-type%3Acircle%3Balign-item%3Aleft%3Bpadding-left%3A20px%3Bpadding-right%3A20px%27%3E%3Cli%3EConfirmed%3A%20545%3C/li%3E%3Cli%3EDeaths%3A%20%20%2030%3C/li%3E%3Cli%3EDeath%20Rate%3A%205.49%3C/li%3E%3C/ul%3E%3C/div%3E%0A%20%20%20%20%20%20%20%20%20%20%20%20%20%20%20%20%20%3C/div%3E%60%2C%0A%20%20%20%20%20%20%20%20%20%20%20%20%20%20%20%20%7B%22sticky%22%3A%20true%7D%0A%20%20%20%20%20%20%20%20%20%20%20%20%29%3B%0A%20%20%20%20%20%20%20%20%0A%20%20%20%20%0A%20%20%20%20%20%20%20%20%20%20%20%20var%20circle_7647f3d80ebf44bfa61777b4e7d076c3%20%3D%20L.circle%28%0A%20%20%20%20%20%20%20%20%20%20%20%20%20%20%20%20%5B49.3723%2C%20-2.3644%5D%2C%0A%20%20%20%20%20%20%20%20%20%20%20%20%20%20%20%20%7B%22bubblingMouseEvents%22%3A%20true%2C%20%22color%22%3A%20%22red%22%2C%20%22dashArray%22%3A%20null%2C%20%22dashOffset%22%3A%20null%2C%20%22fill%22%3A%20true%2C%20%22fillColor%22%3A%20%22indigo%22%2C%20%22fillOpacity%22%3A%200.2%2C%20%22fillRule%22%3A%20%22evenodd%22%2C%20%22lineCap%22%3A%20%22round%22%2C%20%22lineJoin%22%3A%20%22round%22%2C%20%22opacity%22%3A%201.0%2C%20%22radius%22%3A%2041000.0%2C%20%22stroke%22%3A%20true%2C%20%22weight%22%3A%203%7D%0A%20%20%20%20%20%20%20%20%20%20%20%20%29.addTo%28map_aebf8a811f48491ea9853ca070daf374%29%3B%0A%20%20%20%20%20%20%20%20%0A%20%20%20%20%0A%20%20%20%20%20%20%20%20%20%20%20%20circle_7647f3d80ebf44bfa61777b4e7d076c3.bindTooltip%28%0A%20%20%20%20%20%20%20%20%20%20%20%20%20%20%20%20%60%3Cdiv%3E%0A%20%20%20%20%20%20%20%20%20%20%20%20%20%20%20%20%20%20%20%20%20%3Cdiv%20style%3D%27margin%3A%200%3B%20background-color%3A%20black%3B%20color%3A%20white%3B%27%3E%3Ch4%20style%3D%27text-align%3Acenter%3Bfont-weight%3A%20bold%27%3EUnited%20Kingdom%3C/h4%3E%3Chr%20style%3D%27margin%3A10px%3Bcolor%3A%20white%3B%27%3E%3Cul%20style%3D%27color%3A%20white%3B%3Blist-style-type%3Acircle%3Balign-item%3Aleft%3Bpadding-left%3A20px%3Bpadding-right%3A20px%27%3E%3Cli%3EConfirmed%3A%204056%3C/li%3E%3Cli%3EDeaths%3A%20%20%201%3C/li%3E%3Cli%3EDeath%20Rate%3A%200.02%3C/li%3E%3C/ul%3E%3C/div%3E%0A%20%20%20%20%20%20%20%20%20%20%20%20%20%20%20%20%20%3C/div%3E%60%2C%0A%20%20%20%20%20%20%20%20%20%20%20%20%20%20%20%20%7B%22sticky%22%3A%20true%7D%0A%20%20%20%20%20%20%20%20%20%20%20%20%29%3B%0A%20%20%20%20%20%20%20%20%0A%20%20%20%20%0A%20%20%20%20%20%20%20%20%20%20%20%20var%20circle_f9a9597e6b4348d5a2bfa83828ca8aa8%20%3D%20L.circle%28%0A%20%20%20%20%20%20%20%20%20%20%20%20%20%20%20%20%5B-51.7963%2C%20-59.5236%5D%2C%0A%20%20%20%20%20%20%20%20%20%20%20%20%20%20%20%20%7B%22bubblingMouseEvents%22%3A%20true%2C%20%22color%22%3A%20%22red%22%2C%20%22dashArray%22%3A%20null%2C%20%22dashOffset%22%3A%20null%2C%20%22fill%22%3A%20true%2C%20%22fillColor%22%3A%20%22indigo%22%2C%20%22fillOpacity%22%3A%200.2%2C%20%22fillRule%22%3A%20%22evenodd%22%2C%20%22lineCap%22%3A%20%22round%22%2C%20%22lineJoin%22%3A%20%22round%22%2C%20%22opacity%22%3A%201.0%2C%20%22radius%22%3A%2021000.0%2C%20%22stroke%22%3A%20true%2C%20%22weight%22%3A%203%7D%0A%20%20%20%20%20%20%20%20%20%20%20%20%29.addTo%28map_aebf8a811f48491ea9853ca070daf374%29%3B%0A%20%20%20%20%20%20%20%20%0A%20%20%20%20%0A%20%20%20%20%20%20%20%20%20%20%20%20circle_f9a9597e6b4348d5a2bfa83828ca8aa8.bindTooltip%28%0A%20%20%20%20%20%20%20%20%20%20%20%20%20%20%20%20%60%3Cdiv%3E%0A%20%20%20%20%20%20%20%20%20%20%20%20%20%20%20%20%20%20%20%20%20%3Cdiv%20style%3D%27margin%3A%200%3B%20background-color%3A%20black%3B%20color%3A%20white%3B%27%3E%3Ch4%20style%3D%27text-align%3Acenter%3Bfont-weight%3A%20bold%27%3EUnited%20Kingdom%3C/h4%3E%3Chr%20style%3D%27margin%3A10px%3Bcolor%3A%20white%3B%27%3E%3Cul%20style%3D%27color%3A%20white%3B%3Blist-style-type%3Acircle%3Balign-item%3Aleft%3Bpadding-left%3A20px%3Bpadding-right%3A20px%27%3E%3Cli%3EConfirmed%3A%2063%3C/li%3E%3Cli%3EDeaths%3A%20%20%202%3C/li%3E%3Cli%3EDeath%20Rate%3A%203.12%3C/li%3E%3C/ul%3E%3C/div%3E%0A%20%20%20%20%20%20%20%20%20%20%20%20%20%20%20%20%20%3C/div%3E%60%2C%0A%20%20%20%20%20%20%20%20%20%20%20%20%20%20%20%20%7B%22sticky%22%3A%20true%7D%0A%20%20%20%20%20%20%20%20%20%20%20%20%29%3B%0A%20%20%20%20%20%20%20%20%0A%20%20%20%20%0A%20%20%20%20%20%20%20%20%20%20%20%20var%20circle_3c778f5da30147778cfdda4549ab23dc%20%3D%20L.circle%28%0A%20%20%20%20%20%20%20%20%20%20%20%20%20%20%20%20%5B36.1408%2C%20-5.3536%5D%2C%0A%20%20%20%20%20%20%20%20%20%20%20%20%20%20%20%20%7B%22bubblingMouseEvents%22%3A%20true%2C%20%22color%22%3A%20%22red%22%2C%20%22dashArray%22%3A%20null%2C%20%22dashOffset%22%3A%20null%2C%20%22fill%22%3A%20true%2C%20%22fillColor%22%3A%20%22indigo%22%2C%20%22fillOpacity%22%3A%200.2%2C%20%22fillRule%22%3A%20%22evenodd%22%2C%20%22lineCap%22%3A%20%22round%22%2C%20%22lineJoin%22%3A%20%22round%22%2C%20%22opacity%22%3A%201.0%2C%20%22radius%22%3A%2041000.0%2C%20%22stroke%22%3A%20true%2C%20%22weight%22%3A%203%7D%0A%20%20%20%20%20%20%20%20%20%20%20%20%29.addTo%28map_aebf8a811f48491ea9853ca070daf374%29%3B%0A%20%20%20%20%20%20%20%20%0A%20%20%20%20%0A%20%20%20%20%20%20%20%20%20%20%20%20circle_3c778f5da30147778cfdda4549ab23dc.bindTooltip%28%0A%20%20%20%20%20%20%20%20%20%20%20%20%20%20%20%20%60%3Cdiv%3E%0A%20%20%20%20%20%20%20%20%20%20%20%20%20%20%20%20%20%20%20%20%20%3Cdiv%20style%3D%27margin%3A%200%3B%20background-color%3A%20black%3B%20color%3A%20white%3B%27%3E%3Ch4%20style%3D%27text-align%3Acenter%3Bfont-weight%3A%20bold%27%3EUnited%20Kingdom%3C/h4%3E%3Chr%20style%3D%27margin%3A10px%3Bcolor%3A%20white%3B%27%3E%3Cul%20style%3D%27color%3A%20white%3B%3Blist-style-type%3Acircle%3Balign-item%3Aleft%3Bpadding-left%3A20px%3Bpadding-right%3A20px%27%3E%3Cli%3EConfirmed%3A%204286%3C/li%3E%3Cli%3EDeaths%3A%20%20%2086%3C/li%3E%3Cli%3EDeath%20Rate%3A%202.01%3C/li%3E%3C/ul%3E%3C/div%3E%0A%20%20%20%20%20%20%20%20%20%20%20%20%20%20%20%20%20%3C/div%3E%60%2C%0A%20%20%20%20%20%20%20%20%20%20%20%20%20%20%20%20%7B%22sticky%22%3A%20true%7D%0A%20%20%20%20%20%20%20%20%20%20%20%20%29%3B%0A%20%20%20%20%20%20%20%20%0A%20%20%20%20%0A%20%20%20%20%20%20%20%20%20%20%20%20var%20circle_671699b1f4c44beea060c1639b9a860f%20%3D%20L.circle%28%0A%20%20%20%20%20%20%20%20%20%20%20%20%20%20%20%20%5B54.2361%2C%20-4.5481%5D%2C%0A%20%20%20%20%20%20%20%20%20%20%20%20%20%20%20%20%7B%22bubblingMouseEvents%22%3A%20true%2C%20%22color%22%3A%20%22red%22%2C%20%22dashArray%22%3A%20null%2C%20%22dashOffset%22%3A%20null%2C%20%22fill%22%3A%20true%2C%20%22fillColor%22%3A%20%22indigo%22%2C%20%22fillOpacity%22%3A%200.2%2C%20%22fillRule%22%3A%20%22evenodd%22%2C%20%22lineCap%22%3A%20%22round%22%2C%20%22lineJoin%22%3A%20%22round%22%2C%20%22opacity%22%3A%201.0%2C%20%22radius%22%3A%2036000.0%2C%20%22stroke%22%3A%20true%2C%20%22weight%22%3A%203%7D%0A%20%20%20%20%20%20%20%20%20%20%20%20%29.addTo%28map_aebf8a811f48491ea9853ca070daf374%29%3B%0A%20%20%20%20%20%20%20%20%0A%20%20%20%20%0A%20%20%20%20%20%20%20%20%20%20%20%20circle_671699b1f4c44beea060c1639b9a860f.bindTooltip%28%0A%20%20%20%20%20%20%20%20%20%20%20%20%20%20%20%20%60%3Cdiv%3E%0A%20%20%20%20%20%20%20%20%20%20%20%20%20%20%20%20%20%20%20%20%20%3Cdiv%20style%3D%27margin%3A%200%3B%20background-color%3A%20black%3B%20color%3A%20white%3B%27%3E%3Ch4%20style%3D%27text-align%3Acenter%3Bfont-weight%3A%20bold%27%3EUnited%20Kingdom%3C/h4%3E%3Chr%20style%3D%27margin%3A10px%3Bcolor%3A%20white%3B%27%3E%3Cul%20style%3D%27color%3A%20white%3B%3Blist-style-type%3Acircle%3Balign-item%3Aleft%3Bpadding-left%3A20px%3Bpadding-right%3A20px%27%3E%3Cli%3EConfirmed%3A%201590%3C/li%3E%3Cli%3EDeaths%3A%20%20%200%3C/li%3E%3Cli%3EDeath%20Rate%3A%200.0%3C/li%3E%3C/ul%3E%3C/div%3E%0A%20%20%20%20%20%20%20%20%20%20%20%20%20%20%20%20%20%3C/div%3E%60%2C%0A%20%20%20%20%20%20%20%20%20%20%20%20%20%20%20%20%7B%22sticky%22%3A%20true%7D%0A%20%20%20%20%20%20%20%20%20%20%20%20%29%3B%0A%20%20%20%20%20%20%20%20%0A%20%20%20%20%0A%20%20%20%20%20%20%20%20%20%20%20%20var%20circle_36caa9af9cf24b1ea0fe574bd41b3de8%20%3D%20L.circle%28%0A%20%20%20%20%20%20%20%20%20%20%20%20%20%20%20%20%5B16.742498%2C%20-62.187366000000004%5D%2C%0A%20%20%20%20%20%20%20%20%20%20%20%20%20%20%20%20%7B%22bubblingMouseEvents%22%3A%20true%2C%20%22color%22%3A%20%22red%22%2C%20%22dashArray%22%3A%20null%2C%20%22dashOffset%22%3A%20null%2C%20%22fill%22%3A%20true%2C%20%22fillColor%22%3A%20%22indigo%22%2C%20%22fillOpacity%22%3A%200.2%2C%20%22fillRule%22%3A%20%22evenodd%22%2C%20%22lineCap%22%3A%20%22round%22%2C%20%22lineJoin%22%3A%20%22round%22%2C%20%22opacity%22%3A%201.0%2C%20%22radius%22%3A%2016000.0%2C%20%22stroke%22%3A%20true%2C%20%22weight%22%3A%203%7D%0A%20%20%20%20%20%20%20%20%20%20%20%20%29.addTo%28map_aebf8a811f48491ea9853ca070daf374%29%3B%0A%20%20%20%20%20%20%20%20%0A%20%20%20%20%0A%20%20%20%20%20%20%20%20%20%20%20%20circle_36caa9af9cf24b1ea0fe574bd41b3de8.bindTooltip%28%0A%20%20%20%20%20%20%20%20%20%20%20%20%20%20%20%20%60%3Cdiv%3E%0A%20%20%20%20%20%20%20%20%20%20%20%20%20%20%20%20%20%20%20%20%20%3Cdiv%20style%3D%27margin%3A%200%3B%20background-color%3A%20black%3B%20color%3A%20white%3B%27%3E%3Ch4%20style%3D%27text-align%3Acenter%3Bfont-weight%3A%20bold%27%3EUnited%20Kingdom%3C/h4%3E%3Chr%20style%3D%27margin%3A10px%3Bcolor%3A%20white%3B%27%3E%3Cul%20style%3D%27color%3A%20white%3B%3Blist-style-type%3Acircle%3Balign-item%3Aleft%3Bpadding-left%3A20px%3Bpadding-right%3A20px%27%3E%3Cli%3EConfirmed%3A%2020%3C/li%3E%3Cli%3EDeaths%3A%20%20%2094%3C/li%3E%3Cli%3EDeath%20Rate%3A%20447.62%3C/li%3E%3C/ul%3E%3C/div%3E%0A%20%20%20%20%20%20%20%20%20%20%20%20%20%20%20%20%20%3C/div%3E%60%2C%0A%20%20%20%20%20%20%20%20%20%20%20%20%20%20%20%20%7B%22sticky%22%3A%20true%7D%0A%20%20%20%20%20%20%20%20%20%20%20%20%29%3B%0A%20%20%20%20%20%20%20%20%0A%20%20%20%20%0A%20%20%20%20%20%20%20%20%20%20%20%20var%20circle_8f169ce388114a6a94074fa2194d3f4e%20%3D%20L.circle%28%0A%20%20%20%20%20%20%20%20%20%20%20%20%20%20%20%20%5B-7.9467%2C%20-14.3559%5D%2C%0A%20%20%20%20%20%20%20%20%20%20%20%20%20%20%20%20%7B%22bubblingMouseEvents%22%3A%20true%2C%20%22color%22%3A%20%22red%22%2C%20%22dashArray%22%3A%20null%2C%20%22dashOffset%22%3A%20null%2C%20%22fill%22%3A%20true%2C%20%22fillColor%22%3A%20%22indigo%22%2C%20%22fillOpacity%22%3A%200.2%2C%20%22fillRule%22%3A%20%22evenodd%22%2C%20%22lineCap%22%3A%20%22round%22%2C%20%22lineJoin%22%3A%20%22round%22%2C%20%22opacity%22%3A%201.0%2C%20%22radius%22%3A%206000.0%2C%20%22stroke%22%3A%20true%2C%20%22weight%22%3A%203%7D%0A%20%20%20%20%20%20%20%20%20%20%20%20%29.addTo%28map_aebf8a811f48491ea9853ca070daf374%29%3B%0A%20%20%20%20%20%20%20%20%0A%20%20%20%20%0A%20%20%20%20%20%20%20%20%20%20%20%20circle_8f169ce388114a6a94074fa2194d3f4e.bindTooltip%28%0A%20%20%20%20%20%20%20%20%20%20%20%20%20%20%20%20%60%3Cdiv%3E%0A%20%20%20%20%20%20%20%20%20%20%20%20%20%20%20%20%20%20%20%20%20%3Cdiv%20style%3D%27margin%3A%200%3B%20background-color%3A%20black%3B%20color%3A%20white%3B%27%3E%3Ch4%20style%3D%27text-align%3Acenter%3Bfont-weight%3A%20bold%27%3EUnited%20Kingdom%3C/h4%3E%3Chr%20style%3D%27margin%3A10px%3Bcolor%3A%20white%3B%27%3E%3Cul%20style%3D%27color%3A%20white%3B%3Blist-style-type%3Acircle%3Balign-item%3Aleft%3Bpadding-left%3A20px%3Bpadding-right%3A20px%27%3E%3Cli%3EConfirmed%3A%204%3C/li%3E%3Cli%3EDeaths%3A%20%20%2029%3C/li%3E%3Cli%3EDeath%20Rate%3A%20580.0%3C/li%3E%3C/ul%3E%3C/div%3E%0A%20%20%20%20%20%20%20%20%20%20%20%20%20%20%20%20%20%3C/div%3E%60%2C%0A%20%20%20%20%20%20%20%20%20%20%20%20%20%20%20%20%7B%22sticky%22%3A%20true%7D%0A%20%20%20%20%20%20%20%20%20%20%20%20%29%3B%0A%20%20%20%20%20%20%20%20%0A%20%20%20%20%0A%20%20%20%20%20%20%20%20%20%20%20%20var%20circle_29f2453d92464ffdafe534940b18bfb8%20%3D%20L.circle%28%0A%20%20%20%20%20%20%20%20%20%20%20%20%20%20%20%20%5B21.694000000000003%2C%20-71.7979%5D%2C%0A%20%20%20%20%20%20%20%20%20%20%20%20%20%20%20%20%7B%22bubblingMouseEvents%22%3A%20true%2C%20%22color%22%3A%20%22red%22%2C%20%22dashArray%22%3A%20null%2C%20%22dashOffset%22%3A%20null%2C%20%22fill%22%3A%20true%2C%20%22fillColor%22%3A%20%22indigo%22%2C%20%22fillOpacity%22%3A%200.2%2C%20%22fillRule%22%3A%20%22evenodd%22%2C%20%22lineCap%22%3A%20%22round%22%2C%20%22lineJoin%22%3A%20%22round%22%2C%20%22opacity%22%3A%201.0%2C%20%22radius%22%3A%2036000.0%2C%20%22stroke%22%3A%20true%2C%20%22weight%22%3A%203%7D%0A%20%20%20%20%20%20%20%20%20%20%20%20%29.addTo%28map_aebf8a811f48491ea9853ca070daf374%29%3B%0A%20%20%20%20%20%20%20%20%0A%20%20%20%20%0A%20%20%20%20%20%20%20%20%20%20%20%20circle_29f2453d92464ffdafe534940b18bfb8.bindTooltip%28%0A%20%20%20%20%20%20%20%20%20%20%20%20%20%20%20%20%60%3Cdiv%3E%0A%20%20%20%20%20%20%20%20%20%20%20%20%20%20%20%20%20%20%20%20%20%3Cdiv%20style%3D%27margin%3A%200%3B%20background-color%3A%20black%3B%20color%3A%20white%3B%27%3E%3Ch4%20style%3D%27text-align%3Acenter%3Bfont-weight%3A%20bold%27%3EUnited%20Kingdom%3C/h4%3E%3Chr%20style%3D%27margin%3A10px%3Bcolor%3A%20white%3B%27%3E%3Cul%20style%3D%27color%3A%20white%3B%3Blist-style-type%3Acircle%3Balign-item%3Aleft%3Bpadding-left%3A20px%3Bpadding-right%3A20px%27%3E%3Cli%3EConfirmed%3A%202396%3C/li%3E%3Cli%3EDeaths%3A%20%20%201%3C/li%3E%3Cli%3EDeath%20Rate%3A%200.04%3C/li%3E%3C/ul%3E%3C/div%3E%0A%20%20%20%20%20%20%20%20%20%20%20%20%20%20%20%20%20%3C/div%3E%60%2C%0A%20%20%20%20%20%20%20%20%20%20%20%20%20%20%20%20%7B%22sticky%22%3A%20true%7D%0A%20%20%20%20%20%20%20%20%20%20%20%20%29%3B%0A%20%20%20%20%20%20%20%20%0A%20%20%20%20%0A%20%20%20%20%20%20%20%20%20%20%20%20var%20circle_d33658c88ab84fa7a826e5e7dcdbdb1a%20%3D%20L.circle%28%0A%20%20%20%20%20%20%20%20%20%20%20%20%20%20%20%20%5B55.3781%2C%20-3.4360000000000004%5D%2C%0A%20%20%20%20%20%20%20%20%20%20%20%20%20%20%20%20%7B%22bubblingMouseEvents%22%3A%20true%2C%20%22color%22%3A%20%22red%22%2C%20%22dashArray%22%3A%20null%2C%20%22dashOffset%22%3A%20null%2C%20%22fill%22%3A%20true%2C%20%22fillColor%22%3A%20%22indigo%22%2C%20%22fillOpacity%22%3A%200.2%2C%20%22fillRule%22%3A%20%22evenodd%22%2C%20%22lineCap%22%3A%20%22round%22%2C%20%22lineJoin%22%3A%20%22round%22%2C%20%22opacity%22%3A%201.0%2C%20%22radius%22%3A%2076000.0%2C%20%22stroke%22%3A%20true%2C%20%22weight%22%3A%203%7D%0A%20%20%20%20%20%20%20%20%20%20%20%20%29.addTo%28map_aebf8a811f48491ea9853ca070daf374%29%3B%0A%20%20%20%20%20%20%20%20%0A%20%20%20%20%0A%20%20%20%20%20%20%20%20%20%20%20%20circle_d33658c88ab84fa7a826e5e7dcdbdb1a.bindTooltip%28%0A%20%20%20%20%20%20%20%20%20%20%20%20%20%20%20%20%60%3Cdiv%3E%0A%20%20%20%20%20%20%20%20%20%20%20%20%20%20%20%20%20%20%20%20%20%3Cdiv%20style%3D%27margin%3A%200%3B%20background-color%3A%20black%3B%20color%3A%20white%3B%27%3E%3Ch4%20style%3D%27text-align%3Acenter%3Bfont-weight%3A%20bold%27%3EUnited%20Kingdom%3C/h4%3E%3Chr%20style%3D%27margin%3A10px%3Bcolor%3A%20white%3B%27%3E%3Cul%20style%3D%27color%3A%20white%3B%3Blist-style-type%3Acircle%3Balign-item%3Aleft%3Bpadding-left%3A20px%3Bpadding-right%3A20px%27%3E%3Cli%3EConfirmed%3A%204423796%3C/li%3E%3Cli%3EDeaths%3A%20%20%200%3C/li%3E%3Cli%3EDeath%20Rate%3A%200.0%3C/li%3E%3C/ul%3E%3C/div%3E%0A%20%20%20%20%20%20%20%20%20%20%20%20%20%20%20%20%20%3C/div%3E%60%2C%0A%20%20%20%20%20%20%20%20%20%20%20%20%20%20%20%20%7B%22sticky%22%3A%20true%7D%0A%20%20%20%20%20%20%20%20%20%20%20%20%29%3B%0A%20%20%20%20%20%20%20%20%0A%20%20%20%20%0A%20%20%20%20%20%20%20%20%20%20%20%20var%20circle_42f493135a11448f82cd09b855fd017b%20%3D%20L.circle%28%0A%20%20%20%20%20%20%20%20%20%20%20%20%20%20%20%20%5B-32.5228%2C%20-55.7658%5D%2C%0A%20%20%20%20%20%20%20%20%20%20%20%20%20%20%20%20%7B%22bubblingMouseEvents%22%3A%20true%2C%20%22color%22%3A%20%22red%22%2C%20%22dashArray%22%3A%20null%2C%20%22dashOffset%22%3A%20null%2C%20%22fill%22%3A%20true%2C%20%22fillColor%22%3A%20%22indigo%22%2C%20%22fillOpacity%22%3A%200.2%2C%20%22fillRule%22%3A%20%22evenodd%22%2C%20%22lineCap%22%3A%20%22round%22%2C%20%22lineJoin%22%3A%20%22round%22%2C%20%22opacity%22%3A%201.0%2C%20%22radius%22%3A%2061000.0%2C%20%22stroke%22%3A%20true%2C%20%22weight%22%3A%203%7D%0A%20%20%20%20%20%20%20%20%20%20%20%20%29.addTo%28map_aebf8a811f48491ea9853ca070daf374%29%3B%0A%20%20%20%20%20%20%20%20%0A%20%20%20%20%0A%20%20%20%20%20%20%20%20%20%20%20%20circle_42f493135a11448f82cd09b855fd017b.bindTooltip%28%0A%20%20%20%20%20%20%20%20%20%20%20%20%20%20%20%20%60%3Cdiv%3E%0A%20%20%20%20%20%20%20%20%20%20%20%20%20%20%20%20%20%20%20%20%20%3Cdiv%20style%3D%27margin%3A%200%3B%20background-color%3A%20black%3B%20color%3A%20white%3B%27%3E%3Ch4%20style%3D%27text-align%3Acenter%3Bfont-weight%3A%20bold%27%3EUruguay%3C/h4%3E%3Chr%20style%3D%27margin%3A10px%3Bcolor%3A%20white%3B%27%3E%3Cul%20style%3D%27color%3A%20white%3B%3Blist-style-type%3Acircle%3Balign-item%3Aleft%3Bpadding-left%3A20px%3Bpadding-right%3A20px%27%3E%3Cli%3EConfirmed%3A%20206946%3C/li%3E%3Cli%3EDeaths%3A%20%20%2017%3C/li%3E%3Cli%3EDeath%20Rate%3A%200.01%3C/li%3E%3C/ul%3E%3C/div%3E%0A%20%20%20%20%20%20%20%20%20%20%20%20%20%20%20%20%20%3C/div%3E%60%2C%0A%20%20%20%20%20%20%20%20%20%20%20%20%20%20%20%20%7B%22sticky%22%3A%20true%7D%0A%20%20%20%20%20%20%20%20%20%20%20%20%29%3B%0A%20%20%20%20%20%20%20%20%0A%20%20%20%20%0A%20%20%20%20%20%20%20%20%20%20%20%20var%20circle_74c815b6364d481ebaa04dff720f8e27%20%3D%20L.circle%28%0A%20%20%20%20%20%20%20%20%20%20%20%20%20%20%20%20%5B41.377491%2C%2064.585262%5D%2C%0A%20%20%20%20%20%20%20%20%20%20%20%20%20%20%20%20%7B%22bubblingMouseEvents%22%3A%20true%2C%20%22color%22%3A%20%22red%22%2C%20%22dashArray%22%3A%20null%2C%20%22dashOffset%22%3A%20null%2C%20%22fill%22%3A%20true%2C%20%22fillColor%22%3A%20%22indigo%22%2C%20%22fillOpacity%22%3A%200.2%2C%20%22fillRule%22%3A%20%22evenodd%22%2C%20%22lineCap%22%3A%20%22round%22%2C%20%22lineJoin%22%3A%20%22round%22%2C%20%22opacity%22%3A%201.0%2C%20%22radius%22%3A%2056000.0%2C%20%22stroke%22%3A%20true%2C%20%22weight%22%3A%203%7D%0A%20%20%20%20%20%20%20%20%20%20%20%20%29.addTo%28map_aebf8a811f48491ea9853ca070daf374%29%3B%0A%20%20%20%20%20%20%20%20%0A%20%20%20%20%0A%20%20%20%20%20%20%20%20%20%20%20%20circle_74c815b6364d481ebaa04dff720f8e27.bindTooltip%28%0A%20%20%20%20%20%20%20%20%20%20%20%20%20%20%20%20%60%3Cdiv%3E%0A%20%20%20%20%20%20%20%20%20%20%20%20%20%20%20%20%20%20%20%20%20%3Cdiv%20style%3D%27margin%3A%200%3B%20background-color%3A%20black%3B%20color%3A%20white%3B%27%3E%3Ch4%20style%3D%27text-align%3Acenter%3Bfont-weight%3A%20bold%27%3EUzbekistan%3C/h4%3E%3Chr%20style%3D%27margin%3A10px%3Bcolor%3A%20white%3B%27%3E%3Cul%20style%3D%27color%3A%20white%3B%3Blist-style-type%3Acircle%3Balign-item%3Aleft%3Bpadding-left%3A20px%3Bpadding-right%3A20px%27%3E%3Cli%3EConfirmed%3A%2092320%3C/li%3E%3Cli%3EDeaths%3A%20%20%20127543%3C/li%3E%3Cli%3EDeath%20Rate%3A%20138.15%3C/li%3E%3C/ul%3E%3C/div%3E%0A%20%20%20%20%20%20%20%20%20%20%20%20%20%20%20%20%20%3C/div%3E%60%2C%0A%20%20%20%20%20%20%20%20%20%20%20%20%20%20%20%20%7B%22sticky%22%3A%20true%7D%0A%20%20%20%20%20%20%20%20%20%20%20%20%29%3B%0A%20%20%20%20%20%20%20%20%0A%20%20%20%20%0A%20%20%20%20%20%20%20%20%20%20%20%20var%20circle_b32b830366d147fcb8b09a06314e62d4%20%3D%20L.circle%28%0A%20%20%20%20%20%20%20%20%20%20%20%20%20%20%20%20%5B-15.3767%2C%20166.9592%5D%2C%0A%20%20%20%20%20%20%20%20%20%20%20%20%20%20%20%20%7B%22bubblingMouseEvents%22%3A%20true%2C%20%22color%22%3A%20%22red%22%2C%20%22dashArray%22%3A%20null%2C%20%22dashOffset%22%3A%20null%2C%20%22fill%22%3A%20true%2C%20%22fillColor%22%3A%20%22indigo%22%2C%20%22fillOpacity%22%3A%200.2%2C%20%22fillRule%22%3A%20%22evenodd%22%2C%20%22lineCap%22%3A%20%22round%22%2C%20%22lineJoin%22%3A%20%22round%22%2C%20%22opacity%22%3A%201.0%2C%20%22radius%22%3A%206000.0%2C%20%22stroke%22%3A%20true%2C%20%22weight%22%3A%203%7D%0A%20%20%20%20%20%20%20%20%20%20%20%20%29.addTo%28map_aebf8a811f48491ea9853ca070daf374%29%3B%0A%20%20%20%20%20%20%20%20%0A%20%20%20%20%0A%20%20%20%20%20%20%20%20%20%20%20%20circle_b32b830366d147fcb8b09a06314e62d4.bindTooltip%28%0A%20%20%20%20%20%20%20%20%20%20%20%20%20%20%20%20%60%3Cdiv%3E%0A%20%20%20%20%20%20%20%20%20%20%20%20%20%20%20%20%20%20%20%20%20%3Cdiv%20style%3D%27margin%3A%200%3B%20background-color%3A%20black%3B%20color%3A%20white%3B%27%3E%3Ch4%20style%3D%27text-align%3Acenter%3Bfont-weight%3A%20bold%27%3EVanuatu%3C/h4%3E%3Chr%20style%3D%27margin%3A10px%3Bcolor%3A%20white%3B%27%3E%3Cul%20style%3D%27color%3A%20white%3B%3Blist-style-type%3Acircle%3Balign-item%3Aleft%3Bpadding-left%3A20px%3Bpadding-right%3A20px%27%3E%3Cli%3EConfirmed%3A%204%3C/li%3E%3Cli%3EDeaths%3A%20%20%202861%3C/li%3E%3Cli%3EDeath%20Rate%3A%2057219.89%3C/li%3E%3C/ul%3E%3C/div%3E%0A%20%20%20%20%20%20%20%20%20%20%20%20%20%20%20%20%20%3C/div%3E%60%2C%0A%20%20%20%20%20%20%20%20%20%20%20%20%20%20%20%20%7B%22sticky%22%3A%20true%7D%0A%20%20%20%20%20%20%20%20%20%20%20%20%29%3B%0A%20%20%20%20%20%20%20%20%0A%20%20%20%20%0A%20%20%20%20%20%20%20%20%20%20%20%20var%20circle_e6e54cd938564df9bf29b1b75af2cd4c%20%3D%20L.circle%28%0A%20%20%20%20%20%20%20%20%20%20%20%20%20%20%20%20%5B6.4238%2C%20-66.5897%5D%2C%0A%20%20%20%20%20%20%20%20%20%20%20%20%20%20%20%20%7B%22bubblingMouseEvents%22%3A%20true%2C%20%22color%22%3A%20%22red%22%2C%20%22dashArray%22%3A%20null%2C%20%22dashOffset%22%3A%20null%2C%20%22fill%22%3A%20true%2C%20%22fillColor%22%3A%20%22indigo%22%2C%20%22fillOpacity%22%3A%200.2%2C%20%22fillRule%22%3A%20%22evenodd%22%2C%20%22lineCap%22%3A%20%22round%22%2C%20%22lineJoin%22%3A%20%22round%22%2C%20%22opacity%22%3A%201.0%2C%20%22radius%22%3A%2061000.0%2C%20%22stroke%22%3A%20true%2C%20%22weight%22%3A%203%7D%0A%20%20%20%20%20%20%20%20%20%20%20%20%29.addTo%28map_aebf8a811f48491ea9853ca070daf374%29%3B%0A%20%20%20%20%20%20%20%20%0A%20%20%20%20%0A%20%20%20%20%20%20%20%20%20%20%20%20circle_e6e54cd938564df9bf29b1b75af2cd4c.bindTooltip%28%0A%20%20%20%20%20%20%20%20%20%20%20%20%20%20%20%20%60%3Cdiv%3E%0A%20%20%20%20%20%20%20%20%20%20%20%20%20%20%20%20%20%20%20%20%20%3Cdiv%20style%3D%27margin%3A%200%3B%20background-color%3A%20black%3B%20color%3A%20white%3B%27%3E%3Ch4%20style%3D%27text-align%3Acenter%3Bfont-weight%3A%20bold%27%3EVenezuela%3C/h4%3E%3Chr%20style%3D%27margin%3A10px%3Bcolor%3A%20white%3B%27%3E%3Cul%20style%3D%27color%3A%20white%3B%3Blist-style-type%3Acircle%3Balign-item%3Aleft%3Bpadding-left%3A20px%3Bpadding-right%3A20px%27%3E%3Cli%3EConfirmed%3A%20201807%3C/li%3E%3Cli%3EDeaths%3A%20%20%20655%3C/li%3E%3Cli%3EDeath%20Rate%3A%200.32%3C/li%3E%3C/ul%3E%3C/div%3E%0A%20%20%20%20%20%20%20%20%20%20%20%20%20%20%20%20%20%3C/div%3E%60%2C%0A%20%20%20%20%20%20%20%20%20%20%20%20%20%20%20%20%7B%22sticky%22%3A%20true%7D%0A%20%20%20%20%20%20%20%20%20%20%20%20%29%3B%0A%20%20%20%20%20%20%20%20%0A%20%20%20%20%0A%20%20%20%20%20%20%20%20%20%20%20%20var%20circle_ba26b78293ce4f9eb16a1d2906701856%20%3D%20L.circle%28%0A%20%20%20%20%20%20%20%20%20%20%20%20%20%20%20%20%5B14.058323999999999%2C%20108.277199%5D%2C%0A%20%20%20%20%20%20%20%20%20%20%20%20%20%20%20%20%7B%22bubblingMouseEvents%22%3A%20true%2C%20%22color%22%3A%20%22red%22%2C%20%22dashArray%22%3A%20null%2C%20%22dashOffset%22%3A%20null%2C%20%22fill%22%3A%20true%2C%20%22fillColor%22%3A%20%22indigo%22%2C%20%22fillOpacity%22%3A%200.2%2C%20%22fillRule%22%3A%20%22evenodd%22%2C%20%22lineCap%22%3A%20%22round%22%2C%20%22lineJoin%22%3A%20%22round%22%2C%20%22opacity%22%3A%201.0%2C%20%22radius%22%3A%2041000.0%2C%20%22stroke%22%3A%20true%2C%20%22weight%22%3A%203%7D%0A%20%20%20%20%20%20%20%20%20%20%20%20%29.addTo%28map_aebf8a811f48491ea9853ca070daf374%29%3B%0A%20%20%20%20%20%20%20%20%0A%20%20%20%20%0A%20%20%20%20%20%20%20%20%20%20%20%20circle_ba26b78293ce4f9eb16a1d2906701856.bindTooltip%28%0A%20%20%20%20%20%20%20%20%20%20%20%20%20%20%20%20%60%3Cdiv%3E%0A%20%20%20%20%20%20%20%20%20%20%20%20%20%20%20%20%20%20%20%20%20%3Cdiv%20style%3D%27margin%3A%200%3B%20background-color%3A%20black%3B%20color%3A%20white%3B%27%3E%3Ch4%20style%3D%27text-align%3Acenter%3Bfont-weight%3A%20bold%27%3EVietnam%3C/h4%3E%3Chr%20style%3D%27margin%3A10px%3Bcolor%3A%20white%3B%27%3E%3Cul%20style%3D%27color%3A%20white%3B%3Blist-style-type%3Acircle%3Balign-item%3Aleft%3Bpadding-left%3A20px%3Bpadding-right%3A20px%27%3E%3Cli%3EConfirmed%3A%202995%3C/li%3E%3Cli%3EDeaths%3A%20%20%201%3C/li%3E%3Cli%3EDeath%20Rate%3A%200.03%3C/li%3E%3C/ul%3E%3C/div%3E%0A%20%20%20%20%20%20%20%20%20%20%20%20%20%20%20%20%20%3C/div%3E%60%2C%0A%20%20%20%20%20%20%20%20%20%20%20%20%20%20%20%20%7B%22sticky%22%3A%20true%7D%0A%20%20%20%20%20%20%20%20%20%20%20%20%29%3B%0A%20%20%20%20%20%20%20%20%0A%20%20%20%20%0A%20%20%20%20%20%20%20%20%20%20%20%20var%20circle_0613fa306dff42b5b139cf1fcc9431d2%20%3D%20L.circle%28%0A%20%20%20%20%20%20%20%20%20%20%20%20%20%20%20%20%5B31.9522%2C%2035.2332%5D%2C%0A%20%20%20%20%20%20%20%20%20%20%20%20%20%20%20%20%7B%22bubblingMouseEvents%22%3A%20true%2C%20%22color%22%3A%20%22red%22%2C%20%22dashArray%22%3A%20null%2C%20%22dashOffset%22%3A%20null%2C%20%22fill%22%3A%20true%2C%20%22fillColor%22%3A%20%22indigo%22%2C%20%22fillOpacity%22%3A%200.2%2C%20%22fillRule%22%3A%20%22evenodd%22%2C%20%22lineCap%22%3A%20%22round%22%2C%20%22lineJoin%22%3A%20%22round%22%2C%20%22opacity%22%3A%201.0%2C%20%22radius%22%3A%2061000.0%2C%20%22stroke%22%3A%20true%2C%20%22weight%22%3A%203%7D%0A%20%20%20%20%20%20%20%20%20%20%20%20%29.addTo%28map_aebf8a811f48491ea9853ca070daf374%29%3B%0A%20%20%20%20%20%20%20%20%0A%20%20%20%20%0A%20%20%20%20%20%20%20%20%20%20%20%20circle_0613fa306dff42b5b139cf1fcc9431d2.bindTooltip%28%0A%20%20%20%20%20%20%20%20%20%20%20%20%20%20%20%20%60%3Cdiv%3E%0A%20%20%20%20%20%20%20%20%20%20%20%20%20%20%20%20%20%20%20%20%20%3Cdiv%20style%3D%27margin%3A%200%3B%20background-color%3A%20black%3B%20color%3A%20white%3B%27%3E%3Ch4%20style%3D%27text-align%3Acenter%3Bfont-weight%3A%20bold%27%3EWest%20Bank%20and%20Gaza%3C/h4%3E%3Chr%20style%3D%27margin%3A10px%3Bcolor%3A%20white%3B%27%3E%3Cul%20style%3D%27color%3A%20white%3B%3Blist-style-type%3Acircle%3Balign-item%3Aleft%3Bpadding-left%3A20px%3Bpadding-right%3A20px%27%3E%3Cli%3EConfirmed%3A%20298921%3C/li%3E%3Cli%3EDeaths%3A%20%20%202208%3C/li%3E%3Cli%3EDeath%20Rate%3A%200.74%3C/li%3E%3C/ul%3E%3C/div%3E%0A%20%20%20%20%20%20%20%20%20%20%20%20%20%20%20%20%20%3C/div%3E%60%2C%0A%20%20%20%20%20%20%20%20%20%20%20%20%20%20%20%20%7B%22sticky%22%3A%20true%7D%0A%20%20%20%20%20%20%20%20%20%20%20%20%29%3B%0A%20%20%20%20%20%20%20%20%0A%20%20%20%20%0A%20%20%20%20%20%20%20%20%20%20%20%20var%20circle_0783449b8bd745d1935d59c0cf25859d%20%3D%20L.circle%28%0A%20%20%20%20%20%20%20%20%20%20%20%20%20%20%20%20%5B15.552726999999999%2C%2048.516388%5D%2C%0A%20%20%20%20%20%20%20%20%20%20%20%20%20%20%20%20%7B%22bubblingMouseEvents%22%3A%20true%2C%20%22color%22%3A%20%22red%22%2C%20%22dashArray%22%3A%20null%2C%20%22dashOffset%22%3A%20null%2C%20%22fill%22%3A%20true%2C%20%22fillColor%22%3A%20%22indigo%22%2C%20%22fillOpacity%22%3A%200.2%2C%20%22fillRule%22%3A%20%22evenodd%22%2C%20%22lineCap%22%3A%20%22round%22%2C%20%22lineJoin%22%3A%20%22round%22%2C%20%22opacity%22%3A%201.0%2C%20%22radius%22%3A%2041000.0%2C%20%22stroke%22%3A%20true%2C%20%22weight%22%3A%203%7D%0A%20%20%20%20%20%20%20%20%20%20%20%20%29.addTo%28map_aebf8a811f48491ea9853ca070daf374%29%3B%0A%20%20%20%20%20%20%20%20%0A%20%20%20%20%0A%20%20%20%20%20%20%20%20%20%20%20%20circle_0783449b8bd745d1935d59c0cf25859d.bindTooltip%28%0A%20%20%20%20%20%20%20%20%20%20%20%20%20%20%20%20%60%3Cdiv%3E%0A%20%20%20%20%20%20%20%20%20%20%20%20%20%20%20%20%20%20%20%20%20%3Cdiv%20style%3D%27margin%3A%200%3B%20background-color%3A%20black%3B%20color%3A%20white%3B%27%3E%3Ch4%20style%3D%27text-align%3Acenter%3Bfont-weight%3A%20bold%27%3EYemen%3C/h4%3E%3Chr%20style%3D%27margin%3A10px%3Bcolor%3A%20white%3B%27%3E%3Cul%20style%3D%27color%3A%20white%3B%3Blist-style-type%3Acircle%3Balign-item%3Aleft%3Bpadding-left%3A20px%3Bpadding-right%3A20px%27%3E%3Cli%3EConfirmed%3A%206390%3C/li%3E%3Cli%3EDeaths%3A%20%20%2035%3C/li%3E%3Cli%3EDeath%20Rate%3A%200.55%3C/li%3E%3C/ul%3E%3C/div%3E%0A%20%20%20%20%20%20%20%20%20%20%20%20%20%20%20%20%20%3C/div%3E%60%2C%0A%20%20%20%20%20%20%20%20%20%20%20%20%20%20%20%20%7B%22sticky%22%3A%20true%7D%0A%20%20%20%20%20%20%20%20%20%20%20%20%29%3B%0A%20%20%20%20%20%20%20%20%0A%20%20%20%20%0A%20%20%20%20%20%20%20%20%20%20%20%20var%20circle_457c62087c3d4d8a9983afad18cf7c69%20%3D%20L.circle%28%0A%20%20%20%20%20%20%20%20%20%20%20%20%20%20%20%20%5B-13.133897%2C%2027.849332%5D%2C%0A%20%20%20%20%20%20%20%20%20%20%20%20%20%20%20%20%7B%22bubblingMouseEvents%22%3A%20true%2C%20%22color%22%3A%20%22red%22%2C%20%22dashArray%22%3A%20null%2C%20%22dashOffset%22%3A%20null%2C%20%22fill%22%3A%20true%2C%20%22fillColor%22%3A%20%22indigo%22%2C%20%22fillOpacity%22%3A%200.2%2C%20%22fillRule%22%3A%20%22evenodd%22%2C%20%22lineCap%22%3A%20%22round%22%2C%20%22lineJoin%22%3A%20%22round%22%2C%20%22opacity%22%3A%201.0%2C%20%22radius%22%3A%2056000.0%2C%20%22stroke%22%3A%20true%2C%20%22weight%22%3A%203%7D%0A%20%20%20%20%20%20%20%20%20%20%20%20%29.addTo%28map_aebf8a811f48491ea9853ca070daf374%29%3B%0A%20%20%20%20%20%20%20%20%0A%20%20%20%20%0A%20%20%20%20%20%20%20%20%20%20%20%20circle_457c62087c3d4d8a9983afad18cf7c69.bindTooltip%28%0A%20%20%20%20%20%20%20%20%20%20%20%20%20%20%20%20%60%3Cdiv%3E%0A%20%20%20%20%20%20%20%20%20%20%20%20%20%20%20%20%20%20%20%20%20%3Cdiv%20style%3D%27margin%3A%200%3B%20background-color%3A%20black%3B%20color%3A%20white%3B%27%3E%3Ch4%20style%3D%27text-align%3Acenter%3Bfont-weight%3A%20bold%27%3EZambia%3C/h4%3E%3Chr%20style%3D%27margin%3A10px%3Bcolor%3A%20white%3B%27%3E%3Cul%20style%3D%27color%3A%20white%3B%3Blist-style-type%3Acircle%3Balign-item%3Aleft%3Bpadding-left%3A20px%3Bpadding-right%3A20px%27%3E%3Cli%3EConfirmed%3A%2091804%3C/li%3E%3Cli%3EDeaths%3A%20%20%203296%3C/li%3E%3Cli%3EDeath%20Rate%3A%203.59%3C/li%3E%3C/ul%3E%3C/div%3E%0A%20%20%20%20%20%20%20%20%20%20%20%20%20%20%20%20%20%3C/div%3E%60%2C%0A%20%20%20%20%20%20%20%20%20%20%20%20%20%20%20%20%7B%22sticky%22%3A%20true%7D%0A%20%20%20%20%20%20%20%20%20%20%20%20%29%3B%0A%20%20%20%20%20%20%20%20%0A%20%20%20%20%0A%20%20%20%20%20%20%20%20%20%20%20%20var%20circle_8391502ebd0f4307b29364c4bcaf25c1%20%3D%20L.circle%28%0A%20%20%20%20%20%20%20%20%20%20%20%20%20%20%20%20%5B-19.015438%2C%2029.154857%5D%2C%0A%20%20%20%20%20%20%20%20%20%20%20%20%20%20%20%20%7B%22bubblingMouseEvents%22%3A%20true%2C%20%22color%22%3A%20%22red%22%2C%20%22dashArray%22%3A%20null%2C%20%22dashOffset%22%3A%20null%2C%20%22fill%22%3A%20true%2C%20%22fillColor%22%3A%20%22indigo%22%2C%20%22fillOpacity%22%3A%200.2%2C%20%22fillRule%22%3A%20%22evenodd%22%2C%20%22lineCap%22%3A%20%22round%22%2C%20%22lineJoin%22%3A%20%22round%22%2C%20%22opacity%22%3A%201.0%2C%20%22radius%22%3A%2051000.0%2C%20%22stroke%22%3A%20true%2C%20%22weight%22%3A%203%7D%0A%20%20%20%20%20%20%20%20%20%20%20%20%29.addTo%28map_aebf8a811f48491ea9853ca070daf374%29%3B%0A%20%20%20%20%20%20%20%20%0A%20%20%20%20%0A%20%20%20%20%20%20%20%20%20%20%20%20circle_8391502ebd0f4307b29364c4bcaf25c1.bindTooltip%28%0A%20%20%20%20%20%20%20%20%20%20%20%20%20%20%20%20%60%3Cdiv%3E%0A%20%20%20%20%20%20%20%20%20%20%20%20%20%20%20%20%20%20%20%20%20%3Cdiv%20style%3D%27margin%3A%200%3B%20background-color%3A%20black%3B%20color%3A%20white%3B%27%3E%3Ch4%20style%3D%27text-align%3Acenter%3Bfont-weight%3A%20bold%27%3EZimbabwe%3C/h4%3E%3Chr%20style%3D%27margin%3A10px%3Bcolor%3A%20white%3B%27%3E%3Cul%20style%3D%27color%3A%20white%3B%3Blist-style-type%3Acircle%3Balign-item%3Aleft%3Bpadding-left%3A20px%3Bpadding-right%3A20px%27%3E%3Cli%3EConfirmed%3A%2038327%3C/li%3E%3Cli%3EDeaths%3A%20%20%201240%3C/li%3E%3Cli%3EDeath%20Rate%3A%203.24%3C/li%3E%3C/ul%3E%3C/div%3E%0A%20%20%20%20%20%20%20%20%20%20%20%20%20%20%20%20%20%3C/div%3E%60%2C%0A%20%20%20%20%20%20%20%20%20%20%20%20%20%20%20%20%7B%22sticky%22%3A%20true%7D%0A%20%20%20%20%20%20%20%20%20%20%20%20%29%3B%0A%20%20%20%20%20%20%20%20%0A%3C/script%3E onload=\"this.contentDocument.open();this.contentDocument.write(    decodeURIComponent(this.getAttribute('data-html')));this.contentDocument.close();\" allowfullscreen webkitallowfullscreen mozallowfullscreen></iframe></div></div>"
      ],
      "text/plain": [
       "<folium.folium.Map at 0x2561efbdc10>"
      ]
     },
     "execution_count": 45,
     "metadata": {},
     "output_type": "execute_result"
    }
   ],
   "source": [
    "# Using Folium to spread of COVID19 cases over the world\n",
    "world_map = folium.Map(location=[11,0], tiles=\"cartodbpositron\", zoom_start=2, max_zoom = 6, min_zoom = 2)\n",
    "\n",
    "\n",
    "for i in range(0,len(confirmed_df)):\n",
    "    folium.Circle(\n",
    "        location=[confirmed_df.iloc[i]['lat'], confirmed_df.iloc[i]['long']],\n",
    "        fill=True,\n",
    "        radius=(int((np.log(confirmed_df.iloc[i,-1]+1.00001)))+0.2)*5000,\n",
    "        color='red',\n",
    "        fill_color='indigo',\n",
    "        tooltip = \"<div style='margin: 0; background-color: black; color: white;'>\"+\n",
    "                    \"<h4 style='text-align:center;font-weight: bold'>\"+confirmed_df.iloc[i]['country'] + \"</h4>\"\n",
    "                    \"<hr style='margin:10px;color: white;'>\"+\n",
    "                    \"<ul style='color: white;;list-style-type:circle;align-item:left;padding-left:20px;padding-right:20px'>\"+\n",
    "                        \"<li>Confirmed: \"+str(confirmed_df.iloc[i,-1])+\"</li>\"+\n",
    "                        \"<li>Deaths:   \"+str(death_df.iloc[i,-1])+\"</li>\"+\n",
    "                        \"<li>Death Rate: \"+ str(np.round(death_df.iloc[i,-1]/(confirmed_df.iloc[i,-1]+1.00001)*100,2))+ \"</li>\"+\n",
    "                    \"</ul></div>\",\n",
    "        ).add_to(world_map)\n",
    "\n",
    "world_map\n"
   ]
  },
  {
   "cell_type": "markdown",
   "metadata": {},
   "source": [
    " "
   ]
  },
  {
   "cell_type": "markdown",
   "metadata": {},
   "source": [
    "## Global spread of COVID-19 using Plotly"
   ]
  },
  {
   "cell_type": "code",
   "execution_count": 46,
   "metadata": {},
   "outputs": [
    {
     "data": {
      "application/vnd.plotly.v1+json": {
       "config": {
        "plotlyServerURL": "https://plot.ly"
       },
       "data": [
        {
         "hovertemplate": "country=Afghanistan<br>lat=%{lat}<br>long=%{lon}<extra></extra>",
         "lat": [
          33.93911
         ],
         "legendgroup": "Afghanistan",
         "lon": [
          67.709953
         ],
         "marker": {
          "color": "#636efa"
         },
         "mode": "markers",
         "name": "Afghanistan",
         "showlegend": true,
         "subplot": "mapbox",
         "type": "scattermapbox"
        },
        {
         "hovertemplate": "country=Albania<br>lat=%{lat}<br>long=%{lon}<extra></extra>",
         "lat": [
          41.1533
         ],
         "legendgroup": "Albania",
         "lon": [
          20.1683
         ],
         "marker": {
          "color": "#EF553B"
         },
         "mode": "markers",
         "name": "Albania",
         "showlegend": true,
         "subplot": "mapbox",
         "type": "scattermapbox"
        },
        {
         "hovertemplate": "country=Algeria<br>lat=%{lat}<br>long=%{lon}<extra></extra>",
         "lat": [
          28.0339
         ],
         "legendgroup": "Algeria",
         "lon": [
          1.6596
         ],
         "marker": {
          "color": "#00cc96"
         },
         "mode": "markers",
         "name": "Algeria",
         "showlegend": true,
         "subplot": "mapbox",
         "type": "scattermapbox"
        },
        {
         "hovertemplate": "country=Andorra<br>lat=%{lat}<br>long=%{lon}<extra></extra>",
         "lat": [
          42.5063
         ],
         "legendgroup": "Andorra",
         "lon": [
          1.5218
         ],
         "marker": {
          "color": "#ab63fa"
         },
         "mode": "markers",
         "name": "Andorra",
         "showlegend": true,
         "subplot": "mapbox",
         "type": "scattermapbox"
        },
        {
         "hovertemplate": "country=Angola<br>lat=%{lat}<br>long=%{lon}<extra></extra>",
         "lat": [
          -11.2027
         ],
         "legendgroup": "Angola",
         "lon": [
          17.8739
         ],
         "marker": {
          "color": "#FFA15A"
         },
         "mode": "markers",
         "name": "Angola",
         "showlegend": true,
         "subplot": "mapbox",
         "type": "scattermapbox"
        },
        {
         "hovertemplate": "country=Antigua and Barbuda<br>lat=%{lat}<br>long=%{lon}<extra></extra>",
         "lat": [
          17.0608
         ],
         "legendgroup": "Antigua and Barbuda",
         "lon": [
          -61.7964
         ],
         "marker": {
          "color": "#19d3f3"
         },
         "mode": "markers",
         "name": "Antigua and Barbuda",
         "showlegend": true,
         "subplot": "mapbox",
         "type": "scattermapbox"
        },
        {
         "hovertemplate": "country=Argentina<br>lat=%{lat}<br>long=%{lon}<extra></extra>",
         "lat": [
          -38.4161
         ],
         "legendgroup": "Argentina",
         "lon": [
          -63.6167
         ],
         "marker": {
          "color": "#FF6692"
         },
         "mode": "markers",
         "name": "Argentina",
         "showlegend": true,
         "subplot": "mapbox",
         "type": "scattermapbox"
        },
        {
         "hovertemplate": "country=Armenia<br>lat=%{lat}<br>long=%{lon}<extra></extra>",
         "lat": [
          40.0691
         ],
         "legendgroup": "Armenia",
         "lon": [
          45.0382
         ],
         "marker": {
          "color": "#B6E880"
         },
         "mode": "markers",
         "name": "Armenia",
         "showlegend": true,
         "subplot": "mapbox",
         "type": "scattermapbox"
        },
        {
         "hovertemplate": "country=Australia<br>lat=%{lat}<br>long=%{lon}<extra></extra>",
         "lat": [
          -35.4735,
          -33.8688,
          -12.4634,
          -27.4698,
          -34.9285,
          -42.8821,
          -37.8136,
          -31.9505
         ],
         "legendgroup": "Australia",
         "lon": [
          149.0124,
          151.2093,
          130.8456,
          153.0251,
          138.6007,
          147.3272,
          144.9631,
          115.8605
         ],
         "marker": {
          "color": "#FF97FF"
         },
         "mode": "markers",
         "name": "Australia",
         "showlegend": true,
         "subplot": "mapbox",
         "type": "scattermapbox"
        },
        {
         "hovertemplate": "country=Austria<br>lat=%{lat}<br>long=%{lon}<extra></extra>",
         "lat": [
          47.5162
         ],
         "legendgroup": "Austria",
         "lon": [
          14.5501
         ],
         "marker": {
          "color": "#FECB52"
         },
         "mode": "markers",
         "name": "Austria",
         "showlegend": true,
         "subplot": "mapbox",
         "type": "scattermapbox"
        },
        {
         "hovertemplate": "country=Azerbaijan<br>lat=%{lat}<br>long=%{lon}<extra></extra>",
         "lat": [
          40.1431
         ],
         "legendgroup": "Azerbaijan",
         "lon": [
          47.5769
         ],
         "marker": {
          "color": "#636efa"
         },
         "mode": "markers",
         "name": "Azerbaijan",
         "showlegend": true,
         "subplot": "mapbox",
         "type": "scattermapbox"
        },
        {
         "hovertemplate": "country=Bahamas<br>lat=%{lat}<br>long=%{lon}<extra></extra>",
         "lat": [
          25.025885
         ],
         "legendgroup": "Bahamas",
         "lon": [
          -78.035889
         ],
         "marker": {
          "color": "#EF553B"
         },
         "mode": "markers",
         "name": "Bahamas",
         "showlegend": true,
         "subplot": "mapbox",
         "type": "scattermapbox"
        },
        {
         "hovertemplate": "country=Bahrain<br>lat=%{lat}<br>long=%{lon}<extra></extra>",
         "lat": [
          26.0275
         ],
         "legendgroup": "Bahrain",
         "lon": [
          50.55
         ],
         "marker": {
          "color": "#00cc96"
         },
         "mode": "markers",
         "name": "Bahrain",
         "showlegend": true,
         "subplot": "mapbox",
         "type": "scattermapbox"
        },
        {
         "hovertemplate": "country=Bangladesh<br>lat=%{lat}<br>long=%{lon}<extra></extra>",
         "lat": [
          23.685
         ],
         "legendgroup": "Bangladesh",
         "lon": [
          90.3563
         ],
         "marker": {
          "color": "#ab63fa"
         },
         "mode": "markers",
         "name": "Bangladesh",
         "showlegend": true,
         "subplot": "mapbox",
         "type": "scattermapbox"
        },
        {
         "hovertemplate": "country=Barbados<br>lat=%{lat}<br>long=%{lon}<extra></extra>",
         "lat": [
          13.1939
         ],
         "legendgroup": "Barbados",
         "lon": [
          -59.5432
         ],
         "marker": {
          "color": "#FFA15A"
         },
         "mode": "markers",
         "name": "Barbados",
         "showlegend": true,
         "subplot": "mapbox",
         "type": "scattermapbox"
        },
        {
         "hovertemplate": "country=Belarus<br>lat=%{lat}<br>long=%{lon}<extra></extra>",
         "lat": [
          53.7098
         ],
         "legendgroup": "Belarus",
         "lon": [
          27.9534
         ],
         "marker": {
          "color": "#19d3f3"
         },
         "mode": "markers",
         "name": "Belarus",
         "showlegend": true,
         "subplot": "mapbox",
         "type": "scattermapbox"
        },
        {
         "hovertemplate": "country=Belgium<br>lat=%{lat}<br>long=%{lon}<extra></extra>",
         "lat": [
          50.8333
         ],
         "legendgroup": "Belgium",
         "lon": [
          4.469936
         ],
         "marker": {
          "color": "#FF6692"
         },
         "mode": "markers",
         "name": "Belgium",
         "showlegend": true,
         "subplot": "mapbox",
         "type": "scattermapbox"
        },
        {
         "hovertemplate": "country=Belize<br>lat=%{lat}<br>long=%{lon}<extra></extra>",
         "lat": [
          17.1899
         ],
         "legendgroup": "Belize",
         "lon": [
          -88.4976
         ],
         "marker": {
          "color": "#B6E880"
         },
         "mode": "markers",
         "name": "Belize",
         "showlegend": true,
         "subplot": "mapbox",
         "type": "scattermapbox"
        },
        {
         "hovertemplate": "country=Benin<br>lat=%{lat}<br>long=%{lon}<extra></extra>",
         "lat": [
          9.3077
         ],
         "legendgroup": "Benin",
         "lon": [
          2.3158
         ],
         "marker": {
          "color": "#FF97FF"
         },
         "mode": "markers",
         "name": "Benin",
         "showlegend": true,
         "subplot": "mapbox",
         "type": "scattermapbox"
        },
        {
         "hovertemplate": "country=Bhutan<br>lat=%{lat}<br>long=%{lon}<extra></extra>",
         "lat": [
          27.5142
         ],
         "legendgroup": "Bhutan",
         "lon": [
          90.4336
         ],
         "marker": {
          "color": "#FECB52"
         },
         "mode": "markers",
         "name": "Bhutan",
         "showlegend": true,
         "subplot": "mapbox",
         "type": "scattermapbox"
        },
        {
         "hovertemplate": "country=Bolivia<br>lat=%{lat}<br>long=%{lon}<extra></extra>",
         "lat": [
          -16.2902
         ],
         "legendgroup": "Bolivia",
         "lon": [
          -63.5887
         ],
         "marker": {
          "color": "#636efa"
         },
         "mode": "markers",
         "name": "Bolivia",
         "showlegend": true,
         "subplot": "mapbox",
         "type": "scattermapbox"
        },
        {
         "hovertemplate": "country=Bosnia and Herzegovina<br>lat=%{lat}<br>long=%{lon}<extra></extra>",
         "lat": [
          43.9159
         ],
         "legendgroup": "Bosnia and Herzegovina",
         "lon": [
          17.6791
         ],
         "marker": {
          "color": "#EF553B"
         },
         "mode": "markers",
         "name": "Bosnia and Herzegovina",
         "showlegend": true,
         "subplot": "mapbox",
         "type": "scattermapbox"
        },
        {
         "hovertemplate": "country=Botswana<br>lat=%{lat}<br>long=%{lon}<extra></extra>",
         "lat": [
          -22.3285
         ],
         "legendgroup": "Botswana",
         "lon": [
          24.6849
         ],
         "marker": {
          "color": "#00cc96"
         },
         "mode": "markers",
         "name": "Botswana",
         "showlegend": true,
         "subplot": "mapbox",
         "type": "scattermapbox"
        },
        {
         "hovertemplate": "country=Brazil<br>lat=%{lat}<br>long=%{lon}<extra></extra>",
         "lat": [
          -14.235
         ],
         "legendgroup": "Brazil",
         "lon": [
          -51.9253
         ],
         "marker": {
          "color": "#ab63fa"
         },
         "mode": "markers",
         "name": "Brazil",
         "showlegend": true,
         "subplot": "mapbox",
         "type": "scattermapbox"
        },
        {
         "hovertemplate": "country=Brunei<br>lat=%{lat}<br>long=%{lon}<extra></extra>",
         "lat": [
          4.5353
         ],
         "legendgroup": "Brunei",
         "lon": [
          114.7277
         ],
         "marker": {
          "color": "#FFA15A"
         },
         "mode": "markers",
         "name": "Brunei",
         "showlegend": true,
         "subplot": "mapbox",
         "type": "scattermapbox"
        },
        {
         "hovertemplate": "country=Bulgaria<br>lat=%{lat}<br>long=%{lon}<extra></extra>",
         "lat": [
          42.7339
         ],
         "legendgroup": "Bulgaria",
         "lon": [
          25.4858
         ],
         "marker": {
          "color": "#19d3f3"
         },
         "mode": "markers",
         "name": "Bulgaria",
         "showlegend": true,
         "subplot": "mapbox",
         "type": "scattermapbox"
        },
        {
         "hovertemplate": "country=Burkina Faso<br>lat=%{lat}<br>long=%{lon}<extra></extra>",
         "lat": [
          12.2383
         ],
         "legendgroup": "Burkina Faso",
         "lon": [
          -1.5616
         ],
         "marker": {
          "color": "#FF6692"
         },
         "mode": "markers",
         "name": "Burkina Faso",
         "showlegend": true,
         "subplot": "mapbox",
         "type": "scattermapbox"
        },
        {
         "hovertemplate": "country=Burma<br>lat=%{lat}<br>long=%{lon}<extra></extra>",
         "lat": [
          21.9162
         ],
         "legendgroup": "Burma",
         "lon": [
          95.956
         ],
         "marker": {
          "color": "#B6E880"
         },
         "mode": "markers",
         "name": "Burma",
         "showlegend": true,
         "subplot": "mapbox",
         "type": "scattermapbox"
        },
        {
         "hovertemplate": "country=Burundi<br>lat=%{lat}<br>long=%{lon}<extra></extra>",
         "lat": [
          -3.3731
         ],
         "legendgroup": "Burundi",
         "lon": [
          29.9189
         ],
         "marker": {
          "color": "#FF97FF"
         },
         "mode": "markers",
         "name": "Burundi",
         "showlegend": true,
         "subplot": "mapbox",
         "type": "scattermapbox"
        },
        {
         "hovertemplate": "country=Cabo Verde<br>lat=%{lat}<br>long=%{lon}<extra></extra>",
         "lat": [
          16.5388
         ],
         "legendgroup": "Cabo Verde",
         "lon": [
          -23.0418
         ],
         "marker": {
          "color": "#FECB52"
         },
         "mode": "markers",
         "name": "Cabo Verde",
         "showlegend": true,
         "subplot": "mapbox",
         "type": "scattermapbox"
        },
        {
         "hovertemplate": "country=Cambodia<br>lat=%{lat}<br>long=%{lon}<extra></extra>",
         "lat": [
          11.55
         ],
         "legendgroup": "Cambodia",
         "lon": [
          104.9167
         ],
         "marker": {
          "color": "#636efa"
         },
         "mode": "markers",
         "name": "Cambodia",
         "showlegend": true,
         "subplot": "mapbox",
         "type": "scattermapbox"
        },
        {
         "hovertemplate": "country=Cameroon<br>lat=%{lat}<br>long=%{lon}<extra></extra>",
         "lat": [
          3.8480000000000003
         ],
         "legendgroup": "Cameroon",
         "lon": [
          11.5021
         ],
         "marker": {
          "color": "#EF553B"
         },
         "mode": "markers",
         "name": "Cameroon",
         "showlegend": true,
         "subplot": "mapbox",
         "type": "scattermapbox"
        },
        {
         "hovertemplate": "country=Canada<br>lat=%{lat}<br>long=%{lon}<extra></extra>",
         "lat": [
          53.9333,
          53.7267,
          0,
          0,
          53.7609,
          46.5653,
          53.1355,
          64.8255,
          44.681999999999995,
          70.2998,
          51.2538,
          46.5107,
          52.9399,
          52.9399,
          64.2823
         ],
         "legendgroup": "Canada",
         "lon": [
          -116.5765,
          -127.6476,
          0,
          0,
          -98.8139,
          -66.4619,
          -57.6604,
          -124.8457,
          -63.7443,
          -83.1076,
          -85.3232,
          -63.4168,
          -73.5491,
          -106.4509,
          -135
         ],
         "marker": {
          "color": "#00cc96"
         },
         "mode": "markers",
         "name": "Canada",
         "showlegend": true,
         "subplot": "mapbox",
         "type": "scattermapbox"
        },
        {
         "hovertemplate": "country=Central African Republic<br>lat=%{lat}<br>long=%{lon}<extra></extra>",
         "lat": [
          6.6111
         ],
         "legendgroup": "Central African Republic",
         "lon": [
          20.9394
         ],
         "marker": {
          "color": "#ab63fa"
         },
         "mode": "markers",
         "name": "Central African Republic",
         "showlegend": true,
         "subplot": "mapbox",
         "type": "scattermapbox"
        },
        {
         "hovertemplate": "country=Chad<br>lat=%{lat}<br>long=%{lon}<extra></extra>",
         "lat": [
          15.4542
         ],
         "legendgroup": "Chad",
         "lon": [
          18.7322
         ],
         "marker": {
          "color": "#FFA15A"
         },
         "mode": "markers",
         "name": "Chad",
         "showlegend": true,
         "subplot": "mapbox",
         "type": "scattermapbox"
        },
        {
         "hovertemplate": "country=Chile<br>lat=%{lat}<br>long=%{lon}<extra></extra>",
         "lat": [
          -35.6751
         ],
         "legendgroup": "Chile",
         "lon": [
          -71.543
         ],
         "marker": {
          "color": "#19d3f3"
         },
         "mode": "markers",
         "name": "Chile",
         "showlegend": true,
         "subplot": "mapbox",
         "type": "scattermapbox"
        },
        {
         "hovertemplate": "country=China<br>lat=%{lat}<br>long=%{lon}<extra></extra>",
         "lat": [
          31.8257,
          40.1824,
          30.0572,
          26.0789,
          35.7518,
          23.3417,
          23.8298,
          26.8154,
          19.1959,
          39.549,
          47.861999999999995,
          37.8957,
          22.3,
          30.9756,
          27.6104,
          44.0935,
          32.9711,
          27.614,
          43.6661,
          41.2956,
          22.1667,
          37.2692,
          35.7452,
          35.1917,
          36.3427,
          31.201999999999998,
          37.5777,
          30.6171,
          39.3054,
          31.6927,
          41.1129,
          24.974,
          29.1832
         ],
         "legendgroup": "China",
         "lon": [
          117.2264,
          116.4142,
          107.874,
          117.9874,
          104.2861,
          113.4244,
          108.7881,
          106.8748,
          109.7453,
          116.1306,
          127.7615,
          114.9042,
          114.2,
          112.2707,
          111.7088,
          113.9448,
          119.455,
          115.7221,
          126.1923,
          122.6085,
          113.55,
          106.1655,
          95.9956,
          108.8701,
          118.1498,
          121.4491,
          112.2922,
          102.7103,
          117.323,
          88.0924,
          85.2401,
          101.48700000000001,
          120.0934
         ],
         "marker": {
          "color": "#FF6692"
         },
         "mode": "markers",
         "name": "China",
         "showlegend": true,
         "subplot": "mapbox",
         "type": "scattermapbox"
        },
        {
         "hovertemplate": "country=Colombia<br>lat=%{lat}<br>long=%{lon}<extra></extra>",
         "lat": [
          4.5709
         ],
         "legendgroup": "Colombia",
         "lon": [
          -74.2973
         ],
         "marker": {
          "color": "#B6E880"
         },
         "mode": "markers",
         "name": "Colombia",
         "showlegend": true,
         "subplot": "mapbox",
         "type": "scattermapbox"
        },
        {
         "hovertemplate": "country=Comoros<br>lat=%{lat}<br>long=%{lon}<extra></extra>",
         "lat": [
          -11.6455
         ],
         "legendgroup": "Comoros",
         "lon": [
          43.3333
         ],
         "marker": {
          "color": "#FF97FF"
         },
         "mode": "markers",
         "name": "Comoros",
         "showlegend": true,
         "subplot": "mapbox",
         "type": "scattermapbox"
        },
        {
         "hovertemplate": "country=Congo (Brazzaville)<br>lat=%{lat}<br>long=%{lon}<extra></extra>",
         "lat": [
          -0.228
         ],
         "legendgroup": "Congo (Brazzaville)",
         "lon": [
          15.8277
         ],
         "marker": {
          "color": "#FECB52"
         },
         "mode": "markers",
         "name": "Congo (Brazzaville)",
         "showlegend": true,
         "subplot": "mapbox",
         "type": "scattermapbox"
        },
        {
         "hovertemplate": "country=Congo (Kinshasa)<br>lat=%{lat}<br>long=%{lon}<extra></extra>",
         "lat": [
          -4.0383
         ],
         "legendgroup": "Congo (Kinshasa)",
         "lon": [
          21.7587
         ],
         "marker": {
          "color": "#636efa"
         },
         "mode": "markers",
         "name": "Congo (Kinshasa)",
         "showlegend": true,
         "subplot": "mapbox",
         "type": "scattermapbox"
        },
        {
         "hovertemplate": "country=Costa Rica<br>lat=%{lat}<br>long=%{lon}<extra></extra>",
         "lat": [
          9.7489
         ],
         "legendgroup": "Costa Rica",
         "lon": [
          -83.7534
         ],
         "marker": {
          "color": "#EF553B"
         },
         "mode": "markers",
         "name": "Costa Rica",
         "showlegend": true,
         "subplot": "mapbox",
         "type": "scattermapbox"
        },
        {
         "hovertemplate": "country=Cote d'Ivoire<br>lat=%{lat}<br>long=%{lon}<extra></extra>",
         "lat": [
          7.54
         ],
         "legendgroup": "Cote d'Ivoire",
         "lon": [
          -5.5471
         ],
         "marker": {
          "color": "#00cc96"
         },
         "mode": "markers",
         "name": "Cote d'Ivoire",
         "showlegend": true,
         "subplot": "mapbox",
         "type": "scattermapbox"
        },
        {
         "hovertemplate": "country=Croatia<br>lat=%{lat}<br>long=%{lon}<extra></extra>",
         "lat": [
          45.1
         ],
         "legendgroup": "Croatia",
         "lon": [
          15.2
         ],
         "marker": {
          "color": "#ab63fa"
         },
         "mode": "markers",
         "name": "Croatia",
         "showlegend": true,
         "subplot": "mapbox",
         "type": "scattermapbox"
        },
        {
         "hovertemplate": "country=Cuba<br>lat=%{lat}<br>long=%{lon}<extra></extra>",
         "lat": [
          21.521757
         ],
         "legendgroup": "Cuba",
         "lon": [
          -77.78116700000001
         ],
         "marker": {
          "color": "#FFA15A"
         },
         "mode": "markers",
         "name": "Cuba",
         "showlegend": true,
         "subplot": "mapbox",
         "type": "scattermapbox"
        },
        {
         "hovertemplate": "country=Cyprus<br>lat=%{lat}<br>long=%{lon}<extra></extra>",
         "lat": [
          35.1264
         ],
         "legendgroup": "Cyprus",
         "lon": [
          33.4299
         ],
         "marker": {
          "color": "#19d3f3"
         },
         "mode": "markers",
         "name": "Cyprus",
         "showlegend": true,
         "subplot": "mapbox",
         "type": "scattermapbox"
        },
        {
         "hovertemplate": "country=Czechia<br>lat=%{lat}<br>long=%{lon}<extra></extra>",
         "lat": [
          49.8175
         ],
         "legendgroup": "Czechia",
         "lon": [
          15.472999999999999
         ],
         "marker": {
          "color": "#FF6692"
         },
         "mode": "markers",
         "name": "Czechia",
         "showlegend": true,
         "subplot": "mapbox",
         "type": "scattermapbox"
        },
        {
         "hovertemplate": "country=Denmark<br>lat=%{lat}<br>long=%{lon}<extra></extra>",
         "lat": [
          61.8926,
          71.7069,
          56.2639
         ],
         "legendgroup": "Denmark",
         "lon": [
          -6.9118,
          -42.6043,
          9.5018
         ],
         "marker": {
          "color": "#B6E880"
         },
         "mode": "markers",
         "name": "Denmark",
         "showlegend": true,
         "subplot": "mapbox",
         "type": "scattermapbox"
        },
        {
         "hovertemplate": "country=Diamond Princess<br>lat=%{lat}<br>long=%{lon}<extra></extra>",
         "lat": [
          0
         ],
         "legendgroup": "Diamond Princess",
         "lon": [
          0
         ],
         "marker": {
          "color": "#FF97FF"
         },
         "mode": "markers",
         "name": "Diamond Princess",
         "showlegend": true,
         "subplot": "mapbox",
         "type": "scattermapbox"
        },
        {
         "hovertemplate": "country=Djibouti<br>lat=%{lat}<br>long=%{lon}<extra></extra>",
         "lat": [
          11.8251
         ],
         "legendgroup": "Djibouti",
         "lon": [
          42.5903
         ],
         "marker": {
          "color": "#FECB52"
         },
         "mode": "markers",
         "name": "Djibouti",
         "showlegend": true,
         "subplot": "mapbox",
         "type": "scattermapbox"
        },
        {
         "hovertemplate": "country=Dominica<br>lat=%{lat}<br>long=%{lon}<extra></extra>",
         "lat": [
          15.415
         ],
         "legendgroup": "Dominica",
         "lon": [
          -61.371
         ],
         "marker": {
          "color": "#636efa"
         },
         "mode": "markers",
         "name": "Dominica",
         "showlegend": true,
         "subplot": "mapbox",
         "type": "scattermapbox"
        },
        {
         "hovertemplate": "country=Dominican Republic<br>lat=%{lat}<br>long=%{lon}<extra></extra>",
         "lat": [
          18.7357
         ],
         "legendgroup": "Dominican Republic",
         "lon": [
          -70.1627
         ],
         "marker": {
          "color": "#EF553B"
         },
         "mode": "markers",
         "name": "Dominican Republic",
         "showlegend": true,
         "subplot": "mapbox",
         "type": "scattermapbox"
        },
        {
         "hovertemplate": "country=Ecuador<br>lat=%{lat}<br>long=%{lon}<extra></extra>",
         "lat": [
          -1.8312
         ],
         "legendgroup": "Ecuador",
         "lon": [
          -78.1834
         ],
         "marker": {
          "color": "#00cc96"
         },
         "mode": "markers",
         "name": "Ecuador",
         "showlegend": true,
         "subplot": "mapbox",
         "type": "scattermapbox"
        },
        {
         "hovertemplate": "country=Egypt<br>lat=%{lat}<br>long=%{lon}<extra></extra>",
         "lat": [
          26.820553000000004
         ],
         "legendgroup": "Egypt",
         "lon": [
          30.802497999999996
         ],
         "marker": {
          "color": "#ab63fa"
         },
         "mode": "markers",
         "name": "Egypt",
         "showlegend": true,
         "subplot": "mapbox",
         "type": "scattermapbox"
        },
        {
         "hovertemplate": "country=El Salvador<br>lat=%{lat}<br>long=%{lon}<extra></extra>",
         "lat": [
          13.7942
         ],
         "legendgroup": "El Salvador",
         "lon": [
          -88.8965
         ],
         "marker": {
          "color": "#FFA15A"
         },
         "mode": "markers",
         "name": "El Salvador",
         "showlegend": true,
         "subplot": "mapbox",
         "type": "scattermapbox"
        },
        {
         "hovertemplate": "country=Equatorial Guinea<br>lat=%{lat}<br>long=%{lon}<extra></extra>",
         "lat": [
          1.6508
         ],
         "legendgroup": "Equatorial Guinea",
         "lon": [
          10.2679
         ],
         "marker": {
          "color": "#19d3f3"
         },
         "mode": "markers",
         "name": "Equatorial Guinea",
         "showlegend": true,
         "subplot": "mapbox",
         "type": "scattermapbox"
        },
        {
         "hovertemplate": "country=Eritrea<br>lat=%{lat}<br>long=%{lon}<extra></extra>",
         "lat": [
          15.1794
         ],
         "legendgroup": "Eritrea",
         "lon": [
          39.7823
         ],
         "marker": {
          "color": "#FF6692"
         },
         "mode": "markers",
         "name": "Eritrea",
         "showlegend": true,
         "subplot": "mapbox",
         "type": "scattermapbox"
        },
        {
         "hovertemplate": "country=Estonia<br>lat=%{lat}<br>long=%{lon}<extra></extra>",
         "lat": [
          58.5953
         ],
         "legendgroup": "Estonia",
         "lon": [
          25.0136
         ],
         "marker": {
          "color": "#B6E880"
         },
         "mode": "markers",
         "name": "Estonia",
         "showlegend": true,
         "subplot": "mapbox",
         "type": "scattermapbox"
        },
        {
         "hovertemplate": "country=Eswatini<br>lat=%{lat}<br>long=%{lon}<extra></extra>",
         "lat": [
          -26.5225
         ],
         "legendgroup": "Eswatini",
         "lon": [
          31.4659
         ],
         "marker": {
          "color": "#FF97FF"
         },
         "mode": "markers",
         "name": "Eswatini",
         "showlegend": true,
         "subplot": "mapbox",
         "type": "scattermapbox"
        },
        {
         "hovertemplate": "country=Ethiopia<br>lat=%{lat}<br>long=%{lon}<extra></extra>",
         "lat": [
          9.145
         ],
         "legendgroup": "Ethiopia",
         "lon": [
          40.4897
         ],
         "marker": {
          "color": "#FECB52"
         },
         "mode": "markers",
         "name": "Ethiopia",
         "showlegend": true,
         "subplot": "mapbox",
         "type": "scattermapbox"
        },
        {
         "hovertemplate": "country=Fiji<br>lat=%{lat}<br>long=%{lon}<extra></extra>",
         "lat": [
          -17.7134
         ],
         "legendgroup": "Fiji",
         "lon": [
          178.065
         ],
         "marker": {
          "color": "#636efa"
         },
         "mode": "markers",
         "name": "Fiji",
         "showlegend": true,
         "subplot": "mapbox",
         "type": "scattermapbox"
        },
        {
         "hovertemplate": "country=Finland<br>lat=%{lat}<br>long=%{lon}<extra></extra>",
         "lat": [
          61.92411
         ],
         "legendgroup": "Finland",
         "lon": [
          25.748151
         ],
         "marker": {
          "color": "#EF553B"
         },
         "mode": "markers",
         "name": "Finland",
         "showlegend": true,
         "subplot": "mapbox",
         "type": "scattermapbox"
        },
        {
         "hovertemplate": "country=France<br>lat=%{lat}<br>long=%{lon}<extra></extra>",
         "lat": [
          3.9339,
          -17.6797,
          16.265,
          14.6415,
          -12.8275,
          -20.904304999999997,
          -21.1151,
          17.9,
          46.8852,
          18.0708,
          -14.2938,
          46.2276
         ],
         "legendgroup": "France",
         "lon": [
          -53.1258,
          149.4068,
          -61.551,
          -61.0242,
          45.166244,
          165.618042,
          55.5364,
          -62.8333,
          -56.3159,
          -63.0501,
          -178.1165,
          2.2137
         ],
         "marker": {
          "color": "#00cc96"
         },
         "mode": "markers",
         "name": "France",
         "showlegend": true,
         "subplot": "mapbox",
         "type": "scattermapbox"
        },
        {
         "hovertemplate": "country=Gabon<br>lat=%{lat}<br>long=%{lon}<extra></extra>",
         "lat": [
          -0.8037
         ],
         "legendgroup": "Gabon",
         "lon": [
          11.6094
         ],
         "marker": {
          "color": "#ab63fa"
         },
         "mode": "markers",
         "name": "Gabon",
         "showlegend": true,
         "subplot": "mapbox",
         "type": "scattermapbox"
        },
        {
         "hovertemplate": "country=Gambia<br>lat=%{lat}<br>long=%{lon}<extra></extra>",
         "lat": [
          13.4432
         ],
         "legendgroup": "Gambia",
         "lon": [
          -15.3101
         ],
         "marker": {
          "color": "#FFA15A"
         },
         "mode": "markers",
         "name": "Gambia",
         "showlegend": true,
         "subplot": "mapbox",
         "type": "scattermapbox"
        },
        {
         "hovertemplate": "country=Georgia<br>lat=%{lat}<br>long=%{lon}<extra></extra>",
         "lat": [
          42.3154
         ],
         "legendgroup": "Georgia",
         "lon": [
          43.3569
         ],
         "marker": {
          "color": "#19d3f3"
         },
         "mode": "markers",
         "name": "Georgia",
         "showlegend": true,
         "subplot": "mapbox",
         "type": "scattermapbox"
        },
        {
         "hovertemplate": "country=Germany<br>lat=%{lat}<br>long=%{lon}<extra></extra>",
         "lat": [
          51.165690999999995
         ],
         "legendgroup": "Germany",
         "lon": [
          10.451526
         ],
         "marker": {
          "color": "#FF6692"
         },
         "mode": "markers",
         "name": "Germany",
         "showlegend": true,
         "subplot": "mapbox",
         "type": "scattermapbox"
        },
        {
         "hovertemplate": "country=Ghana<br>lat=%{lat}<br>long=%{lon}<extra></extra>",
         "lat": [
          7.9465
         ],
         "legendgroup": "Ghana",
         "lon": [
          -1.0232
         ],
         "marker": {
          "color": "#B6E880"
         },
         "mode": "markers",
         "name": "Ghana",
         "showlegend": true,
         "subplot": "mapbox",
         "type": "scattermapbox"
        },
        {
         "hovertemplate": "country=Greece<br>lat=%{lat}<br>long=%{lon}<extra></extra>",
         "lat": [
          39.0742
         ],
         "legendgroup": "Greece",
         "lon": [
          21.8243
         ],
         "marker": {
          "color": "#FF97FF"
         },
         "mode": "markers",
         "name": "Greece",
         "showlegend": true,
         "subplot": "mapbox",
         "type": "scattermapbox"
        },
        {
         "hovertemplate": "country=Grenada<br>lat=%{lat}<br>long=%{lon}<extra></extra>",
         "lat": [
          12.1165
         ],
         "legendgroup": "Grenada",
         "lon": [
          -61.678999999999995
         ],
         "marker": {
          "color": "#FECB52"
         },
         "mode": "markers",
         "name": "Grenada",
         "showlegend": true,
         "subplot": "mapbox",
         "type": "scattermapbox"
        },
        {
         "hovertemplate": "country=Guatemala<br>lat=%{lat}<br>long=%{lon}<extra></extra>",
         "lat": [
          15.7835
         ],
         "legendgroup": "Guatemala",
         "lon": [
          -90.2308
         ],
         "marker": {
          "color": "#636efa"
         },
         "mode": "markers",
         "name": "Guatemala",
         "showlegend": true,
         "subplot": "mapbox",
         "type": "scattermapbox"
        },
        {
         "hovertemplate": "country=Guinea<br>lat=%{lat}<br>long=%{lon}<extra></extra>",
         "lat": [
          9.9456
         ],
         "legendgroup": "Guinea",
         "lon": [
          -9.6966
         ],
         "marker": {
          "color": "#EF553B"
         },
         "mode": "markers",
         "name": "Guinea",
         "showlegend": true,
         "subplot": "mapbox",
         "type": "scattermapbox"
        },
        {
         "hovertemplate": "country=Guinea-Bissau<br>lat=%{lat}<br>long=%{lon}<extra></extra>",
         "lat": [
          11.8037
         ],
         "legendgroup": "Guinea-Bissau",
         "lon": [
          -15.1804
         ],
         "marker": {
          "color": "#00cc96"
         },
         "mode": "markers",
         "name": "Guinea-Bissau",
         "showlegend": true,
         "subplot": "mapbox",
         "type": "scattermapbox"
        },
        {
         "hovertemplate": "country=Guyana<br>lat=%{lat}<br>long=%{lon}<extra></extra>",
         "lat": [
          4.860416000000001
         ],
         "legendgroup": "Guyana",
         "lon": [
          -58.93018000000001
         ],
         "marker": {
          "color": "#ab63fa"
         },
         "mode": "markers",
         "name": "Guyana",
         "showlegend": true,
         "subplot": "mapbox",
         "type": "scattermapbox"
        },
        {
         "hovertemplate": "country=Haiti<br>lat=%{lat}<br>long=%{lon}<extra></extra>",
         "lat": [
          18.9712
         ],
         "legendgroup": "Haiti",
         "lon": [
          -72.2852
         ],
         "marker": {
          "color": "#FFA15A"
         },
         "mode": "markers",
         "name": "Haiti",
         "showlegend": true,
         "subplot": "mapbox",
         "type": "scattermapbox"
        },
        {
         "hovertemplate": "country=Holy See<br>lat=%{lat}<br>long=%{lon}<extra></extra>",
         "lat": [
          41.9029
         ],
         "legendgroup": "Holy See",
         "lon": [
          12.4534
         ],
         "marker": {
          "color": "#19d3f3"
         },
         "mode": "markers",
         "name": "Holy See",
         "showlegend": true,
         "subplot": "mapbox",
         "type": "scattermapbox"
        },
        {
         "hovertemplate": "country=Honduras<br>lat=%{lat}<br>long=%{lon}<extra></extra>",
         "lat": [
          15.2
         ],
         "legendgroup": "Honduras",
         "lon": [
          -86.2419
         ],
         "marker": {
          "color": "#FF6692"
         },
         "mode": "markers",
         "name": "Honduras",
         "showlegend": true,
         "subplot": "mapbox",
         "type": "scattermapbox"
        },
        {
         "hovertemplate": "country=Hungary<br>lat=%{lat}<br>long=%{lon}<extra></extra>",
         "lat": [
          47.1625
         ],
         "legendgroup": "Hungary",
         "lon": [
          19.5033
         ],
         "marker": {
          "color": "#B6E880"
         },
         "mode": "markers",
         "name": "Hungary",
         "showlegend": true,
         "subplot": "mapbox",
         "type": "scattermapbox"
        },
        {
         "hovertemplate": "country=Iceland<br>lat=%{lat}<br>long=%{lon}<extra></extra>",
         "lat": [
          64.9631
         ],
         "legendgroup": "Iceland",
         "lon": [
          -19.0208
         ],
         "marker": {
          "color": "#FF97FF"
         },
         "mode": "markers",
         "name": "Iceland",
         "showlegend": true,
         "subplot": "mapbox",
         "type": "scattermapbox"
        },
        {
         "hovertemplate": "country=India<br>lat=%{lat}<br>long=%{lon}<extra></extra>",
         "lat": [
          20.593684
         ],
         "legendgroup": "India",
         "lon": [
          78.96288
         ],
         "marker": {
          "color": "#FECB52"
         },
         "mode": "markers",
         "name": "India",
         "showlegend": true,
         "subplot": "mapbox",
         "type": "scattermapbox"
        },
        {
         "hovertemplate": "country=Indonesia<br>lat=%{lat}<br>long=%{lon}<extra></extra>",
         "lat": [
          -0.7893
         ],
         "legendgroup": "Indonesia",
         "lon": [
          113.9213
         ],
         "marker": {
          "color": "#636efa"
         },
         "mode": "markers",
         "name": "Indonesia",
         "showlegend": true,
         "subplot": "mapbox",
         "type": "scattermapbox"
        },
        {
         "hovertemplate": "country=Iran<br>lat=%{lat}<br>long=%{lon}<extra></extra>",
         "lat": [
          32.427908
         ],
         "legendgroup": "Iran",
         "lon": [
          53.68804599999999
         ],
         "marker": {
          "color": "#EF553B"
         },
         "mode": "markers",
         "name": "Iran",
         "showlegend": true,
         "subplot": "mapbox",
         "type": "scattermapbox"
        },
        {
         "hovertemplate": "country=Iraq<br>lat=%{lat}<br>long=%{lon}<extra></extra>",
         "lat": [
          33.223191
         ],
         "legendgroup": "Iraq",
         "lon": [
          43.679291
         ],
         "marker": {
          "color": "#00cc96"
         },
         "mode": "markers",
         "name": "Iraq",
         "showlegend": true,
         "subplot": "mapbox",
         "type": "scattermapbox"
        },
        {
         "hovertemplate": "country=Ireland<br>lat=%{lat}<br>long=%{lon}<extra></extra>",
         "lat": [
          53.1424
         ],
         "legendgroup": "Ireland",
         "lon": [
          -7.6921
         ],
         "marker": {
          "color": "#ab63fa"
         },
         "mode": "markers",
         "name": "Ireland",
         "showlegend": true,
         "subplot": "mapbox",
         "type": "scattermapbox"
        },
        {
         "hovertemplate": "country=Israel<br>lat=%{lat}<br>long=%{lon}<extra></extra>",
         "lat": [
          31.046051000000002
         ],
         "legendgroup": "Israel",
         "lon": [
          34.851612
         ],
         "marker": {
          "color": "#FFA15A"
         },
         "mode": "markers",
         "name": "Israel",
         "showlegend": true,
         "subplot": "mapbox",
         "type": "scattermapbox"
        },
        {
         "hovertemplate": "country=Italy<br>lat=%{lat}<br>long=%{lon}<extra></extra>",
         "lat": [
          41.87194
         ],
         "legendgroup": "Italy",
         "lon": [
          12.56738
         ],
         "marker": {
          "color": "#19d3f3"
         },
         "mode": "markers",
         "name": "Italy",
         "showlegend": true,
         "subplot": "mapbox",
         "type": "scattermapbox"
        },
        {
         "hovertemplate": "country=Jamaica<br>lat=%{lat}<br>long=%{lon}<extra></extra>",
         "lat": [
          18.1096
         ],
         "legendgroup": "Jamaica",
         "lon": [
          -77.2975
         ],
         "marker": {
          "color": "#FF6692"
         },
         "mode": "markers",
         "name": "Jamaica",
         "showlegend": true,
         "subplot": "mapbox",
         "type": "scattermapbox"
        },
        {
         "hovertemplate": "country=Japan<br>lat=%{lat}<br>long=%{lon}<extra></extra>",
         "lat": [
          36.204824
         ],
         "legendgroup": "Japan",
         "lon": [
          138.252924
         ],
         "marker": {
          "color": "#B6E880"
         },
         "mode": "markers",
         "name": "Japan",
         "showlegend": true,
         "subplot": "mapbox",
         "type": "scattermapbox"
        },
        {
         "hovertemplate": "country=Jordan<br>lat=%{lat}<br>long=%{lon}<extra></extra>",
         "lat": [
          31.24
         ],
         "legendgroup": "Jordan",
         "lon": [
          36.51
         ],
         "marker": {
          "color": "#FF97FF"
         },
         "mode": "markers",
         "name": "Jordan",
         "showlegend": true,
         "subplot": "mapbox",
         "type": "scattermapbox"
        },
        {
         "hovertemplate": "country=Kazakhstan<br>lat=%{lat}<br>long=%{lon}<extra></extra>",
         "lat": [
          48.0196
         ],
         "legendgroup": "Kazakhstan",
         "lon": [
          66.9237
         ],
         "marker": {
          "color": "#FECB52"
         },
         "mode": "markers",
         "name": "Kazakhstan",
         "showlegend": true,
         "subplot": "mapbox",
         "type": "scattermapbox"
        },
        {
         "hovertemplate": "country=Kenya<br>lat=%{lat}<br>long=%{lon}<extra></extra>",
         "lat": [
          -0.0236
         ],
         "legendgroup": "Kenya",
         "lon": [
          37.9062
         ],
         "marker": {
          "color": "#636efa"
         },
         "mode": "markers",
         "name": "Kenya",
         "showlegend": true,
         "subplot": "mapbox",
         "type": "scattermapbox"
        },
        {
         "hovertemplate": "country=Korea, South<br>lat=%{lat}<br>long=%{lon}<extra></extra>",
         "lat": [
          35.907757000000004
         ],
         "legendgroup": "Korea, South",
         "lon": [
          127.766922
         ],
         "marker": {
          "color": "#EF553B"
         },
         "mode": "markers",
         "name": "Korea, South",
         "showlegend": true,
         "subplot": "mapbox",
         "type": "scattermapbox"
        },
        {
         "hovertemplate": "country=Kosovo<br>lat=%{lat}<br>long=%{lon}<extra></extra>",
         "lat": [
          42.602636
         ],
         "legendgroup": "Kosovo",
         "lon": [
          20.902977
         ],
         "marker": {
          "color": "#00cc96"
         },
         "mode": "markers",
         "name": "Kosovo",
         "showlegend": true,
         "subplot": "mapbox",
         "type": "scattermapbox"
        },
        {
         "hovertemplate": "country=Kuwait<br>lat=%{lat}<br>long=%{lon}<extra></extra>",
         "lat": [
          29.311659999999996
         ],
         "legendgroup": "Kuwait",
         "lon": [
          47.481766
         ],
         "marker": {
          "color": "#ab63fa"
         },
         "mode": "markers",
         "name": "Kuwait",
         "showlegend": true,
         "subplot": "mapbox",
         "type": "scattermapbox"
        },
        {
         "hovertemplate": "country=Kyrgyzstan<br>lat=%{lat}<br>long=%{lon}<extra></extra>",
         "lat": [
          41.20438
         ],
         "legendgroup": "Kyrgyzstan",
         "lon": [
          74.766098
         ],
         "marker": {
          "color": "#FFA15A"
         },
         "mode": "markers",
         "name": "Kyrgyzstan",
         "showlegend": true,
         "subplot": "mapbox",
         "type": "scattermapbox"
        },
        {
         "hovertemplate": "country=Laos<br>lat=%{lat}<br>long=%{lon}<extra></extra>",
         "lat": [
          19.856270000000002
         ],
         "legendgroup": "Laos",
         "lon": [
          102.495496
         ],
         "marker": {
          "color": "#19d3f3"
         },
         "mode": "markers",
         "name": "Laos",
         "showlegend": true,
         "subplot": "mapbox",
         "type": "scattermapbox"
        },
        {
         "hovertemplate": "country=Latvia<br>lat=%{lat}<br>long=%{lon}<extra></extra>",
         "lat": [
          56.8796
         ],
         "legendgroup": "Latvia",
         "lon": [
          24.6032
         ],
         "marker": {
          "color": "#FF6692"
         },
         "mode": "markers",
         "name": "Latvia",
         "showlegend": true,
         "subplot": "mapbox",
         "type": "scattermapbox"
        },
        {
         "hovertemplate": "country=Lebanon<br>lat=%{lat}<br>long=%{lon}<extra></extra>",
         "lat": [
          33.8547
         ],
         "legendgroup": "Lebanon",
         "lon": [
          35.8623
         ],
         "marker": {
          "color": "#B6E880"
         },
         "mode": "markers",
         "name": "Lebanon",
         "showlegend": true,
         "subplot": "mapbox",
         "type": "scattermapbox"
        },
        {
         "hovertemplate": "country=Lesotho<br>lat=%{lat}<br>long=%{lon}<extra></extra>",
         "lat": [
          -29.61
         ],
         "legendgroup": "Lesotho",
         "lon": [
          28.2336
         ],
         "marker": {
          "color": "#FF97FF"
         },
         "mode": "markers",
         "name": "Lesotho",
         "showlegend": true,
         "subplot": "mapbox",
         "type": "scattermapbox"
        },
        {
         "hovertemplate": "country=Liberia<br>lat=%{lat}<br>long=%{lon}<extra></extra>",
         "lat": [
          6.4280550000000005
         ],
         "legendgroup": "Liberia",
         "lon": [
          -9.429499
         ],
         "marker": {
          "color": "#FECB52"
         },
         "mode": "markers",
         "name": "Liberia",
         "showlegend": true,
         "subplot": "mapbox",
         "type": "scattermapbox"
        },
        {
         "hovertemplate": "country=Libya<br>lat=%{lat}<br>long=%{lon}<extra></extra>",
         "lat": [
          26.3351
         ],
         "legendgroup": "Libya",
         "lon": [
          17.228331
         ],
         "marker": {
          "color": "#636efa"
         },
         "mode": "markers",
         "name": "Libya",
         "showlegend": true,
         "subplot": "mapbox",
         "type": "scattermapbox"
        },
        {
         "hovertemplate": "country=Liechtenstein<br>lat=%{lat}<br>long=%{lon}<extra></extra>",
         "lat": [
          47.14
         ],
         "legendgroup": "Liechtenstein",
         "lon": [
          9.55
         ],
         "marker": {
          "color": "#EF553B"
         },
         "mode": "markers",
         "name": "Liechtenstein",
         "showlegend": true,
         "subplot": "mapbox",
         "type": "scattermapbox"
        },
        {
         "hovertemplate": "country=Lithuania<br>lat=%{lat}<br>long=%{lon}<extra></extra>",
         "lat": [
          55.1694
         ],
         "legendgroup": "Lithuania",
         "lon": [
          23.8813
         ],
         "marker": {
          "color": "#00cc96"
         },
         "mode": "markers",
         "name": "Lithuania",
         "showlegend": true,
         "subplot": "mapbox",
         "type": "scattermapbox"
        },
        {
         "hovertemplate": "country=Luxembourg<br>lat=%{lat}<br>long=%{lon}<extra></extra>",
         "lat": [
          49.8153
         ],
         "legendgroup": "Luxembourg",
         "lon": [
          6.1296
         ],
         "marker": {
          "color": "#ab63fa"
         },
         "mode": "markers",
         "name": "Luxembourg",
         "showlegend": true,
         "subplot": "mapbox",
         "type": "scattermapbox"
        },
        {
         "hovertemplate": "country=MS Zaandam<br>lat=%{lat}<br>long=%{lon}<extra></extra>",
         "lat": [
          0
         ],
         "legendgroup": "MS Zaandam",
         "lon": [
          0
         ],
         "marker": {
          "color": "#FFA15A"
         },
         "mode": "markers",
         "name": "MS Zaandam",
         "showlegend": true,
         "subplot": "mapbox",
         "type": "scattermapbox"
        },
        {
         "hovertemplate": "country=Madagascar<br>lat=%{lat}<br>long=%{lon}<extra></extra>",
         "lat": [
          -18.766947000000002
         ],
         "legendgroup": "Madagascar",
         "lon": [
          46.869107
         ],
         "marker": {
          "color": "#19d3f3"
         },
         "mode": "markers",
         "name": "Madagascar",
         "showlegend": true,
         "subplot": "mapbox",
         "type": "scattermapbox"
        },
        {
         "hovertemplate": "country=Malawi<br>lat=%{lat}<br>long=%{lon}<extra></extra>",
         "lat": [
          -13.2543
         ],
         "legendgroup": "Malawi",
         "lon": [
          34.3015
         ],
         "marker": {
          "color": "#FF6692"
         },
         "mode": "markers",
         "name": "Malawi",
         "showlegend": true,
         "subplot": "mapbox",
         "type": "scattermapbox"
        },
        {
         "hovertemplate": "country=Malaysia<br>lat=%{lat}<br>long=%{lon}<extra></extra>",
         "lat": [
          4.210483999999999
         ],
         "legendgroup": "Malaysia",
         "lon": [
          101.97576600000001
         ],
         "marker": {
          "color": "#B6E880"
         },
         "mode": "markers",
         "name": "Malaysia",
         "showlegend": true,
         "subplot": "mapbox",
         "type": "scattermapbox"
        },
        {
         "hovertemplate": "country=Maldives<br>lat=%{lat}<br>long=%{lon}<extra></extra>",
         "lat": [
          3.2028
         ],
         "legendgroup": "Maldives",
         "lon": [
          73.2207
         ],
         "marker": {
          "color": "#FF97FF"
         },
         "mode": "markers",
         "name": "Maldives",
         "showlegend": true,
         "subplot": "mapbox",
         "type": "scattermapbox"
        },
        {
         "hovertemplate": "country=Mali<br>lat=%{lat}<br>long=%{lon}<extra></extra>",
         "lat": [
          17.570692
         ],
         "legendgroup": "Mali",
         "lon": [
          -3.9961660000000006
         ],
         "marker": {
          "color": "#FECB52"
         },
         "mode": "markers",
         "name": "Mali",
         "showlegend": true,
         "subplot": "mapbox",
         "type": "scattermapbox"
        },
        {
         "hovertemplate": "country=Malta<br>lat=%{lat}<br>long=%{lon}<extra></extra>",
         "lat": [
          35.9375
         ],
         "legendgroup": "Malta",
         "lon": [
          14.3754
         ],
         "marker": {
          "color": "#636efa"
         },
         "mode": "markers",
         "name": "Malta",
         "showlegend": true,
         "subplot": "mapbox",
         "type": "scattermapbox"
        },
        {
         "hovertemplate": "country=Marshall Islands<br>lat=%{lat}<br>long=%{lon}<extra></extra>",
         "lat": [
          7.1315
         ],
         "legendgroup": "Marshall Islands",
         "lon": [
          171.1845
         ],
         "marker": {
          "color": "#EF553B"
         },
         "mode": "markers",
         "name": "Marshall Islands",
         "showlegend": true,
         "subplot": "mapbox",
         "type": "scattermapbox"
        },
        {
         "hovertemplate": "country=Mauritania<br>lat=%{lat}<br>long=%{lon}<extra></extra>",
         "lat": [
          21.0079
         ],
         "legendgroup": "Mauritania",
         "lon": [
          -10.9408
         ],
         "marker": {
          "color": "#00cc96"
         },
         "mode": "markers",
         "name": "Mauritania",
         "showlegend": true,
         "subplot": "mapbox",
         "type": "scattermapbox"
        },
        {
         "hovertemplate": "country=Mauritius<br>lat=%{lat}<br>long=%{lon}<extra></extra>",
         "lat": [
          -20.348404000000002
         ],
         "legendgroup": "Mauritius",
         "lon": [
          57.552152
         ],
         "marker": {
          "color": "#ab63fa"
         },
         "mode": "markers",
         "name": "Mauritius",
         "showlegend": true,
         "subplot": "mapbox",
         "type": "scattermapbox"
        },
        {
         "hovertemplate": "country=Mexico<br>lat=%{lat}<br>long=%{lon}<extra></extra>",
         "lat": [
          23.6345
         ],
         "legendgroup": "Mexico",
         "lon": [
          -102.5528
         ],
         "marker": {
          "color": "#FFA15A"
         },
         "mode": "markers",
         "name": "Mexico",
         "showlegend": true,
         "subplot": "mapbox",
         "type": "scattermapbox"
        },
        {
         "hovertemplate": "country=Micronesia<br>lat=%{lat}<br>long=%{lon}<extra></extra>",
         "lat": [
          7.4256
         ],
         "legendgroup": "Micronesia",
         "lon": [
          150.5508
         ],
         "marker": {
          "color": "#19d3f3"
         },
         "mode": "markers",
         "name": "Micronesia",
         "showlegend": true,
         "subplot": "mapbox",
         "type": "scattermapbox"
        },
        {
         "hovertemplate": "country=Moldova<br>lat=%{lat}<br>long=%{lon}<extra></extra>",
         "lat": [
          47.4116
         ],
         "legendgroup": "Moldova",
         "lon": [
          28.3699
         ],
         "marker": {
          "color": "#FF6692"
         },
         "mode": "markers",
         "name": "Moldova",
         "showlegend": true,
         "subplot": "mapbox",
         "type": "scattermapbox"
        },
        {
         "hovertemplate": "country=Monaco<br>lat=%{lat}<br>long=%{lon}<extra></extra>",
         "lat": [
          43.7333
         ],
         "legendgroup": "Monaco",
         "lon": [
          7.4167
         ],
         "marker": {
          "color": "#B6E880"
         },
         "mode": "markers",
         "name": "Monaco",
         "showlegend": true,
         "subplot": "mapbox",
         "type": "scattermapbox"
        },
        {
         "hovertemplate": "country=Mongolia<br>lat=%{lat}<br>long=%{lon}<extra></extra>",
         "lat": [
          46.8625
         ],
         "legendgroup": "Mongolia",
         "lon": [
          103.8467
         ],
         "marker": {
          "color": "#FF97FF"
         },
         "mode": "markers",
         "name": "Mongolia",
         "showlegend": true,
         "subplot": "mapbox",
         "type": "scattermapbox"
        },
        {
         "hovertemplate": "country=Montenegro<br>lat=%{lat}<br>long=%{lon}<extra></extra>",
         "lat": [
          42.708678000000006
         ],
         "legendgroup": "Montenegro",
         "lon": [
          19.37439
         ],
         "marker": {
          "color": "#FECB52"
         },
         "mode": "markers",
         "name": "Montenegro",
         "showlegend": true,
         "subplot": "mapbox",
         "type": "scattermapbox"
        },
        {
         "hovertemplate": "country=Morocco<br>lat=%{lat}<br>long=%{lon}<extra></extra>",
         "lat": [
          31.7917
         ],
         "legendgroup": "Morocco",
         "lon": [
          -7.0926
         ],
         "marker": {
          "color": "#636efa"
         },
         "mode": "markers",
         "name": "Morocco",
         "showlegend": true,
         "subplot": "mapbox",
         "type": "scattermapbox"
        },
        {
         "hovertemplate": "country=Mozambique<br>lat=%{lat}<br>long=%{lon}<extra></extra>",
         "lat": [
          -18.665695
         ],
         "legendgroup": "Mozambique",
         "lon": [
          35.529562
         ],
         "marker": {
          "color": "#EF553B"
         },
         "mode": "markers",
         "name": "Mozambique",
         "showlegend": true,
         "subplot": "mapbox",
         "type": "scattermapbox"
        },
        {
         "hovertemplate": "country=Namibia<br>lat=%{lat}<br>long=%{lon}<extra></extra>",
         "lat": [
          -22.9576
         ],
         "legendgroup": "Namibia",
         "lon": [
          18.4904
         ],
         "marker": {
          "color": "#00cc96"
         },
         "mode": "markers",
         "name": "Namibia",
         "showlegend": true,
         "subplot": "mapbox",
         "type": "scattermapbox"
        },
        {
         "hovertemplate": "country=Nepal<br>lat=%{lat}<br>long=%{lon}<extra></extra>",
         "lat": [
          28.1667
         ],
         "legendgroup": "Nepal",
         "lon": [
          84.25
         ],
         "marker": {
          "color": "#ab63fa"
         },
         "mode": "markers",
         "name": "Nepal",
         "showlegend": true,
         "subplot": "mapbox",
         "type": "scattermapbox"
        },
        {
         "hovertemplate": "country=Netherlands<br>lat=%{lat}<br>long=%{lon}<extra></extra>",
         "lat": [
          12.5211,
          12.1784,
          12.1696,
          18.0425,
          52.1326
         ],
         "legendgroup": "Netherlands",
         "lon": [
          -69.9683,
          -68.2385,
          -68.99,
          -63.0548,
          5.2913
         ],
         "marker": {
          "color": "#FFA15A"
         },
         "mode": "markers",
         "name": "Netherlands",
         "showlegend": true,
         "subplot": "mapbox",
         "type": "scattermapbox"
        },
        {
         "hovertemplate": "country=New Zealand<br>lat=%{lat}<br>long=%{lon}<extra></extra>",
         "lat": [
          -40.9006
         ],
         "legendgroup": "New Zealand",
         "lon": [
          174.886
         ],
         "marker": {
          "color": "#19d3f3"
         },
         "mode": "markers",
         "name": "New Zealand",
         "showlegend": true,
         "subplot": "mapbox",
         "type": "scattermapbox"
        },
        {
         "hovertemplate": "country=Nicaragua<br>lat=%{lat}<br>long=%{lon}<extra></extra>",
         "lat": [
          12.865416
         ],
         "legendgroup": "Nicaragua",
         "lon": [
          -85.207229
         ],
         "marker": {
          "color": "#FF6692"
         },
         "mode": "markers",
         "name": "Nicaragua",
         "showlegend": true,
         "subplot": "mapbox",
         "type": "scattermapbox"
        },
        {
         "hovertemplate": "country=Niger<br>lat=%{lat}<br>long=%{lon}<extra></extra>",
         "lat": [
          17.607789
         ],
         "legendgroup": "Niger",
         "lon": [
          8.081666
         ],
         "marker": {
          "color": "#B6E880"
         },
         "mode": "markers",
         "name": "Niger",
         "showlegend": true,
         "subplot": "mapbox",
         "type": "scattermapbox"
        },
        {
         "hovertemplate": "country=Nigeria<br>lat=%{lat}<br>long=%{lon}<extra></extra>",
         "lat": [
          9.082
         ],
         "legendgroup": "Nigeria",
         "lon": [
          8.6753
         ],
         "marker": {
          "color": "#FF97FF"
         },
         "mode": "markers",
         "name": "Nigeria",
         "showlegend": true,
         "subplot": "mapbox",
         "type": "scattermapbox"
        },
        {
         "hovertemplate": "country=North Macedonia<br>lat=%{lat}<br>long=%{lon}<extra></extra>",
         "lat": [
          41.6086
         ],
         "legendgroup": "North Macedonia",
         "lon": [
          21.7453
         ],
         "marker": {
          "color": "#FECB52"
         },
         "mode": "markers",
         "name": "North Macedonia",
         "showlegend": true,
         "subplot": "mapbox",
         "type": "scattermapbox"
        },
        {
         "hovertemplate": "country=Norway<br>lat=%{lat}<br>long=%{lon}<extra></extra>",
         "lat": [
          60.472
         ],
         "legendgroup": "Norway",
         "lon": [
          8.4689
         ],
         "marker": {
          "color": "#636efa"
         },
         "mode": "markers",
         "name": "Norway",
         "showlegend": true,
         "subplot": "mapbox",
         "type": "scattermapbox"
        },
        {
         "hovertemplate": "country=Oman<br>lat=%{lat}<br>long=%{lon}<extra></extra>",
         "lat": [
          21.512583
         ],
         "legendgroup": "Oman",
         "lon": [
          55.923255000000005
         ],
         "marker": {
          "color": "#EF553B"
         },
         "mode": "markers",
         "name": "Oman",
         "showlegend": true,
         "subplot": "mapbox",
         "type": "scattermapbox"
        },
        {
         "hovertemplate": "country=Pakistan<br>lat=%{lat}<br>long=%{lon}<extra></extra>",
         "lat": [
          30.3753
         ],
         "legendgroup": "Pakistan",
         "lon": [
          69.3451
         ],
         "marker": {
          "color": "#00cc96"
         },
         "mode": "markers",
         "name": "Pakistan",
         "showlegend": true,
         "subplot": "mapbox",
         "type": "scattermapbox"
        },
        {
         "hovertemplate": "country=Panama<br>lat=%{lat}<br>long=%{lon}<extra></extra>",
         "lat": [
          8.538
         ],
         "legendgroup": "Panama",
         "lon": [
          -80.7821
         ],
         "marker": {
          "color": "#ab63fa"
         },
         "mode": "markers",
         "name": "Panama",
         "showlegend": true,
         "subplot": "mapbox",
         "type": "scattermapbox"
        },
        {
         "hovertemplate": "country=Papua New Guinea<br>lat=%{lat}<br>long=%{lon}<extra></extra>",
         "lat": [
          -6.314993
         ],
         "legendgroup": "Papua New Guinea",
         "lon": [
          143.95555
         ],
         "marker": {
          "color": "#FFA15A"
         },
         "mode": "markers",
         "name": "Papua New Guinea",
         "showlegend": true,
         "subplot": "mapbox",
         "type": "scattermapbox"
        },
        {
         "hovertemplate": "country=Paraguay<br>lat=%{lat}<br>long=%{lon}<extra></extra>",
         "lat": [
          -23.4425
         ],
         "legendgroup": "Paraguay",
         "lon": [
          -58.4438
         ],
         "marker": {
          "color": "#19d3f3"
         },
         "mode": "markers",
         "name": "Paraguay",
         "showlegend": true,
         "subplot": "mapbox",
         "type": "scattermapbox"
        },
        {
         "hovertemplate": "country=Peru<br>lat=%{lat}<br>long=%{lon}<extra></extra>",
         "lat": [
          -9.19
         ],
         "legendgroup": "Peru",
         "lon": [
          -75.0152
         ],
         "marker": {
          "color": "#FF6692"
         },
         "mode": "markers",
         "name": "Peru",
         "showlegend": true,
         "subplot": "mapbox",
         "type": "scattermapbox"
        },
        {
         "hovertemplate": "country=Philippines<br>lat=%{lat}<br>long=%{lon}<extra></extra>",
         "lat": [
          12.879721
         ],
         "legendgroup": "Philippines",
         "lon": [
          121.77401699999999
         ],
         "marker": {
          "color": "#B6E880"
         },
         "mode": "markers",
         "name": "Philippines",
         "showlegend": true,
         "subplot": "mapbox",
         "type": "scattermapbox"
        },
        {
         "hovertemplate": "country=Poland<br>lat=%{lat}<br>long=%{lon}<extra></extra>",
         "lat": [
          51.9194
         ],
         "legendgroup": "Poland",
         "lon": [
          19.1451
         ],
         "marker": {
          "color": "#FF97FF"
         },
         "mode": "markers",
         "name": "Poland",
         "showlegend": true,
         "subplot": "mapbox",
         "type": "scattermapbox"
        },
        {
         "hovertemplate": "country=Portugal<br>lat=%{lat}<br>long=%{lon}<extra></extra>",
         "lat": [
          39.3999
         ],
         "legendgroup": "Portugal",
         "lon": [
          -8.2245
         ],
         "marker": {
          "color": "#FECB52"
         },
         "mode": "markers",
         "name": "Portugal",
         "showlegend": true,
         "subplot": "mapbox",
         "type": "scattermapbox"
        },
        {
         "hovertemplate": "country=Qatar<br>lat=%{lat}<br>long=%{lon}<extra></extra>",
         "lat": [
          25.3548
         ],
         "legendgroup": "Qatar",
         "lon": [
          51.1839
         ],
         "marker": {
          "color": "#636efa"
         },
         "mode": "markers",
         "name": "Qatar",
         "showlegend": true,
         "subplot": "mapbox",
         "type": "scattermapbox"
        },
        {
         "hovertemplate": "country=Romania<br>lat=%{lat}<br>long=%{lon}<extra></extra>",
         "lat": [
          45.9432
         ],
         "legendgroup": "Romania",
         "lon": [
          24.9668
         ],
         "marker": {
          "color": "#EF553B"
         },
         "mode": "markers",
         "name": "Romania",
         "showlegend": true,
         "subplot": "mapbox",
         "type": "scattermapbox"
        },
        {
         "hovertemplate": "country=Russia<br>lat=%{lat}<br>long=%{lon}<extra></extra>",
         "lat": [
          61.52401
         ],
         "legendgroup": "Russia",
         "lon": [
          105.31875600000001
         ],
         "marker": {
          "color": "#00cc96"
         },
         "mode": "markers",
         "name": "Russia",
         "showlegend": true,
         "subplot": "mapbox",
         "type": "scattermapbox"
        },
        {
         "hovertemplate": "country=Rwanda<br>lat=%{lat}<br>long=%{lon}<extra></extra>",
         "lat": [
          -1.9403
         ],
         "legendgroup": "Rwanda",
         "lon": [
          29.8739
         ],
         "marker": {
          "color": "#ab63fa"
         },
         "mode": "markers",
         "name": "Rwanda",
         "showlegend": true,
         "subplot": "mapbox",
         "type": "scattermapbox"
        },
        {
         "hovertemplate": "country=Saint Kitts and Nevis<br>lat=%{lat}<br>long=%{lon}<extra></extra>",
         "lat": [
          17.357822
         ],
         "legendgroup": "Saint Kitts and Nevis",
         "lon": [
          -62.782998
         ],
         "marker": {
          "color": "#FFA15A"
         },
         "mode": "markers",
         "name": "Saint Kitts and Nevis",
         "showlegend": true,
         "subplot": "mapbox",
         "type": "scattermapbox"
        },
        {
         "hovertemplate": "country=Saint Lucia<br>lat=%{lat}<br>long=%{lon}<extra></extra>",
         "lat": [
          13.9094
         ],
         "legendgroup": "Saint Lucia",
         "lon": [
          -60.9789
         ],
         "marker": {
          "color": "#19d3f3"
         },
         "mode": "markers",
         "name": "Saint Lucia",
         "showlegend": true,
         "subplot": "mapbox",
         "type": "scattermapbox"
        },
        {
         "hovertemplate": "country=Saint Vincent and the Grenadines<br>lat=%{lat}<br>long=%{lon}<extra></extra>",
         "lat": [
          12.9843
         ],
         "legendgroup": "Saint Vincent and the Grenadines",
         "lon": [
          -61.2872
         ],
         "marker": {
          "color": "#FF6692"
         },
         "mode": "markers",
         "name": "Saint Vincent and the Grenadines",
         "showlegend": true,
         "subplot": "mapbox",
         "type": "scattermapbox"
        },
        {
         "hovertemplate": "country=Samoa<br>lat=%{lat}<br>long=%{lon}<extra></extra>",
         "lat": [
          -13.759
         ],
         "legendgroup": "Samoa",
         "lon": [
          -172.1046
         ],
         "marker": {
          "color": "#B6E880"
         },
         "mode": "markers",
         "name": "Samoa",
         "showlegend": true,
         "subplot": "mapbox",
         "type": "scattermapbox"
        },
        {
         "hovertemplate": "country=San Marino<br>lat=%{lat}<br>long=%{lon}<extra></extra>",
         "lat": [
          43.9424
         ],
         "legendgroup": "San Marino",
         "lon": [
          12.4578
         ],
         "marker": {
          "color": "#FF97FF"
         },
         "mode": "markers",
         "name": "San Marino",
         "showlegend": true,
         "subplot": "mapbox",
         "type": "scattermapbox"
        },
        {
         "hovertemplate": "country=Sao Tome and Principe<br>lat=%{lat}<br>long=%{lon}<extra></extra>",
         "lat": [
          0.1864
         ],
         "legendgroup": "Sao Tome and Principe",
         "lon": [
          6.6131
         ],
         "marker": {
          "color": "#FECB52"
         },
         "mode": "markers",
         "name": "Sao Tome and Principe",
         "showlegend": true,
         "subplot": "mapbox",
         "type": "scattermapbox"
        },
        {
         "hovertemplate": "country=Saudi Arabia<br>lat=%{lat}<br>long=%{lon}<extra></extra>",
         "lat": [
          23.885942
         ],
         "legendgroup": "Saudi Arabia",
         "lon": [
          45.079162
         ],
         "marker": {
          "color": "#636efa"
         },
         "mode": "markers",
         "name": "Saudi Arabia",
         "showlegend": true,
         "subplot": "mapbox",
         "type": "scattermapbox"
        },
        {
         "hovertemplate": "country=Senegal<br>lat=%{lat}<br>long=%{lon}<extra></extra>",
         "lat": [
          14.4974
         ],
         "legendgroup": "Senegal",
         "lon": [
          -14.4524
         ],
         "marker": {
          "color": "#EF553B"
         },
         "mode": "markers",
         "name": "Senegal",
         "showlegend": true,
         "subplot": "mapbox",
         "type": "scattermapbox"
        },
        {
         "hovertemplate": "country=Serbia<br>lat=%{lat}<br>long=%{lon}<extra></extra>",
         "lat": [
          44.0165
         ],
         "legendgroup": "Serbia",
         "lon": [
          21.0059
         ],
         "marker": {
          "color": "#00cc96"
         },
         "mode": "markers",
         "name": "Serbia",
         "showlegend": true,
         "subplot": "mapbox",
         "type": "scattermapbox"
        },
        {
         "hovertemplate": "country=Seychelles<br>lat=%{lat}<br>long=%{lon}<extra></extra>",
         "lat": [
          -4.6796
         ],
         "legendgroup": "Seychelles",
         "lon": [
          55.492
         ],
         "marker": {
          "color": "#ab63fa"
         },
         "mode": "markers",
         "name": "Seychelles",
         "showlegend": true,
         "subplot": "mapbox",
         "type": "scattermapbox"
        },
        {
         "hovertemplate": "country=Sierra Leone<br>lat=%{lat}<br>long=%{lon}<extra></extra>",
         "lat": [
          8.460555000000001
         ],
         "legendgroup": "Sierra Leone",
         "lon": [
          -11.779889
         ],
         "marker": {
          "color": "#FFA15A"
         },
         "mode": "markers",
         "name": "Sierra Leone",
         "showlegend": true,
         "subplot": "mapbox",
         "type": "scattermapbox"
        },
        {
         "hovertemplate": "country=Singapore<br>lat=%{lat}<br>long=%{lon}<extra></extra>",
         "lat": [
          1.2833
         ],
         "legendgroup": "Singapore",
         "lon": [
          103.8333
         ],
         "marker": {
          "color": "#19d3f3"
         },
         "mode": "markers",
         "name": "Singapore",
         "showlegend": true,
         "subplot": "mapbox",
         "type": "scattermapbox"
        },
        {
         "hovertemplate": "country=Slovakia<br>lat=%{lat}<br>long=%{lon}<extra></extra>",
         "lat": [
          48.669
         ],
         "legendgroup": "Slovakia",
         "lon": [
          19.699
         ],
         "marker": {
          "color": "#FF6692"
         },
         "mode": "markers",
         "name": "Slovakia",
         "showlegend": true,
         "subplot": "mapbox",
         "type": "scattermapbox"
        },
        {
         "hovertemplate": "country=Slovenia<br>lat=%{lat}<br>long=%{lon}<extra></extra>",
         "lat": [
          46.1512
         ],
         "legendgroup": "Slovenia",
         "lon": [
          14.9955
         ],
         "marker": {
          "color": "#B6E880"
         },
         "mode": "markers",
         "name": "Slovenia",
         "showlegend": true,
         "subplot": "mapbox",
         "type": "scattermapbox"
        },
        {
         "hovertemplate": "country=Solomon Islands<br>lat=%{lat}<br>long=%{lon}<extra></extra>",
         "lat": [
          -9.6457
         ],
         "legendgroup": "Solomon Islands",
         "lon": [
          160.1562
         ],
         "marker": {
          "color": "#FF97FF"
         },
         "mode": "markers",
         "name": "Solomon Islands",
         "showlegend": true,
         "subplot": "mapbox",
         "type": "scattermapbox"
        },
        {
         "hovertemplate": "country=Somalia<br>lat=%{lat}<br>long=%{lon}<extra></extra>",
         "lat": [
          5.152149
         ],
         "legendgroup": "Somalia",
         "lon": [
          46.199616
         ],
         "marker": {
          "color": "#FECB52"
         },
         "mode": "markers",
         "name": "Somalia",
         "showlegend": true,
         "subplot": "mapbox",
         "type": "scattermapbox"
        },
        {
         "hovertemplate": "country=South Africa<br>lat=%{lat}<br>long=%{lon}<extra></extra>",
         "lat": [
          -30.5595
         ],
         "legendgroup": "South Africa",
         "lon": [
          22.9375
         ],
         "marker": {
          "color": "#636efa"
         },
         "mode": "markers",
         "name": "South Africa",
         "showlegend": true,
         "subplot": "mapbox",
         "type": "scattermapbox"
        },
        {
         "hovertemplate": "country=South Sudan<br>lat=%{lat}<br>long=%{lon}<extra></extra>",
         "lat": [
          6.877000000000001
         ],
         "legendgroup": "South Sudan",
         "lon": [
          31.307
         ],
         "marker": {
          "color": "#EF553B"
         },
         "mode": "markers",
         "name": "South Sudan",
         "showlegend": true,
         "subplot": "mapbox",
         "type": "scattermapbox"
        },
        {
         "hovertemplate": "country=Spain<br>lat=%{lat}<br>long=%{lon}<extra></extra>",
         "lat": [
          40.463667
         ],
         "legendgroup": "Spain",
         "lon": [
          -3.7492199999999998
         ],
         "marker": {
          "color": "#00cc96"
         },
         "mode": "markers",
         "name": "Spain",
         "showlegend": true,
         "subplot": "mapbox",
         "type": "scattermapbox"
        },
        {
         "hovertemplate": "country=Sri Lanka<br>lat=%{lat}<br>long=%{lon}<extra></extra>",
         "lat": [
          7.873054
         ],
         "legendgroup": "Sri Lanka",
         "lon": [
          80.77179699999999
         ],
         "marker": {
          "color": "#ab63fa"
         },
         "mode": "markers",
         "name": "Sri Lanka",
         "showlegend": true,
         "subplot": "mapbox",
         "type": "scattermapbox"
        },
        {
         "hovertemplate": "country=Sudan<br>lat=%{lat}<br>long=%{lon}<extra></extra>",
         "lat": [
          12.8628
         ],
         "legendgroup": "Sudan",
         "lon": [
          30.2176
         ],
         "marker": {
          "color": "#FFA15A"
         },
         "mode": "markers",
         "name": "Sudan",
         "showlegend": true,
         "subplot": "mapbox",
         "type": "scattermapbox"
        },
        {
         "hovertemplate": "country=Suriname<br>lat=%{lat}<br>long=%{lon}<extra></extra>",
         "lat": [
          3.9193
         ],
         "legendgroup": "Suriname",
         "lon": [
          -56.0278
         ],
         "marker": {
          "color": "#19d3f3"
         },
         "mode": "markers",
         "name": "Suriname",
         "showlegend": true,
         "subplot": "mapbox",
         "type": "scattermapbox"
        },
        {
         "hovertemplate": "country=Sweden<br>lat=%{lat}<br>long=%{lon}<extra></extra>",
         "lat": [
          60.128161
         ],
         "legendgroup": "Sweden",
         "lon": [
          18.643501
         ],
         "marker": {
          "color": "#FF6692"
         },
         "mode": "markers",
         "name": "Sweden",
         "showlegend": true,
         "subplot": "mapbox",
         "type": "scattermapbox"
        },
        {
         "hovertemplate": "country=Switzerland<br>lat=%{lat}<br>long=%{lon}<extra></extra>",
         "lat": [
          46.8182
         ],
         "legendgroup": "Switzerland",
         "lon": [
          8.2275
         ],
         "marker": {
          "color": "#B6E880"
         },
         "mode": "markers",
         "name": "Switzerland",
         "showlegend": true,
         "subplot": "mapbox",
         "type": "scattermapbox"
        },
        {
         "hovertemplate": "country=Syria<br>lat=%{lat}<br>long=%{lon}<extra></extra>",
         "lat": [
          34.802075
         ],
         "legendgroup": "Syria",
         "lon": [
          38.996815000000005
         ],
         "marker": {
          "color": "#FF97FF"
         },
         "mode": "markers",
         "name": "Syria",
         "showlegend": true,
         "subplot": "mapbox",
         "type": "scattermapbox"
        },
        {
         "hovertemplate": "country=Taiwan*<br>lat=%{lat}<br>long=%{lon}<extra></extra>",
         "lat": [
          23.7
         ],
         "legendgroup": "Taiwan*",
         "lon": [
          121
         ],
         "marker": {
          "color": "#FECB52"
         },
         "mode": "markers",
         "name": "Taiwan*",
         "showlegend": true,
         "subplot": "mapbox",
         "type": "scattermapbox"
        },
        {
         "hovertemplate": "country=Tajikistan<br>lat=%{lat}<br>long=%{lon}<extra></extra>",
         "lat": [
          38.861
         ],
         "legendgroup": "Tajikistan",
         "lon": [
          71.2761
         ],
         "marker": {
          "color": "#636efa"
         },
         "mode": "markers",
         "name": "Tajikistan",
         "showlegend": true,
         "subplot": "mapbox",
         "type": "scattermapbox"
        },
        {
         "hovertemplate": "country=Tanzania<br>lat=%{lat}<br>long=%{lon}<extra></extra>",
         "lat": [
          -6.369028
         ],
         "legendgroup": "Tanzania",
         "lon": [
          34.888822
         ],
         "marker": {
          "color": "#EF553B"
         },
         "mode": "markers",
         "name": "Tanzania",
         "showlegend": true,
         "subplot": "mapbox",
         "type": "scattermapbox"
        },
        {
         "hovertemplate": "country=Thailand<br>lat=%{lat}<br>long=%{lon}<extra></extra>",
         "lat": [
          15.870032
         ],
         "legendgroup": "Thailand",
         "lon": [
          100.992541
         ],
         "marker": {
          "color": "#00cc96"
         },
         "mode": "markers",
         "name": "Thailand",
         "showlegend": true,
         "subplot": "mapbox",
         "type": "scattermapbox"
        },
        {
         "hovertemplate": "country=Timor-Leste<br>lat=%{lat}<br>long=%{lon}<extra></extra>",
         "lat": [
          -8.874217
         ],
         "legendgroup": "Timor-Leste",
         "lon": [
          125.727539
         ],
         "marker": {
          "color": "#ab63fa"
         },
         "mode": "markers",
         "name": "Timor-Leste",
         "showlegend": true,
         "subplot": "mapbox",
         "type": "scattermapbox"
        },
        {
         "hovertemplate": "country=Togo<br>lat=%{lat}<br>long=%{lon}<extra></extra>",
         "lat": [
          8.6195
         ],
         "legendgroup": "Togo",
         "lon": [
          0.8248
         ],
         "marker": {
          "color": "#FFA15A"
         },
         "mode": "markers",
         "name": "Togo",
         "showlegend": true,
         "subplot": "mapbox",
         "type": "scattermapbox"
        },
        {
         "hovertemplate": "country=Trinidad and Tobago<br>lat=%{lat}<br>long=%{lon}<extra></extra>",
         "lat": [
          10.6918
         ],
         "legendgroup": "Trinidad and Tobago",
         "lon": [
          -61.2225
         ],
         "marker": {
          "color": "#19d3f3"
         },
         "mode": "markers",
         "name": "Trinidad and Tobago",
         "showlegend": true,
         "subplot": "mapbox",
         "type": "scattermapbox"
        },
        {
         "hovertemplate": "country=Tunisia<br>lat=%{lat}<br>long=%{lon}<extra></extra>",
         "lat": [
          33.886917
         ],
         "legendgroup": "Tunisia",
         "lon": [
          9.537499
         ],
         "marker": {
          "color": "#FF6692"
         },
         "mode": "markers",
         "name": "Tunisia",
         "showlegend": true,
         "subplot": "mapbox",
         "type": "scattermapbox"
        },
        {
         "hovertemplate": "country=Turkey<br>lat=%{lat}<br>long=%{lon}<extra></extra>",
         "lat": [
          38.9637
         ],
         "legendgroup": "Turkey",
         "lon": [
          35.2433
         ],
         "marker": {
          "color": "#B6E880"
         },
         "mode": "markers",
         "name": "Turkey",
         "showlegend": true,
         "subplot": "mapbox",
         "type": "scattermapbox"
        },
        {
         "hovertemplate": "country=US<br>lat=%{lat}<br>long=%{lon}<extra></extra>",
         "lat": [
          40
         ],
         "legendgroup": "US",
         "lon": [
          -100
         ],
         "marker": {
          "color": "#FF97FF"
         },
         "mode": "markers",
         "name": "US",
         "showlegend": true,
         "subplot": "mapbox",
         "type": "scattermapbox"
        },
        {
         "hovertemplate": "country=Uganda<br>lat=%{lat}<br>long=%{lon}<extra></extra>",
         "lat": [
          1.373333
         ],
         "legendgroup": "Uganda",
         "lon": [
          32.290275
         ],
         "marker": {
          "color": "#FECB52"
         },
         "mode": "markers",
         "name": "Uganda",
         "showlegend": true,
         "subplot": "mapbox",
         "type": "scattermapbox"
        },
        {
         "hovertemplate": "country=Ukraine<br>lat=%{lat}<br>long=%{lon}<extra></extra>",
         "lat": [
          48.3794
         ],
         "legendgroup": "Ukraine",
         "lon": [
          31.1656
         ],
         "marker": {
          "color": "#636efa"
         },
         "mode": "markers",
         "name": "Ukraine",
         "showlegend": true,
         "subplot": "mapbox",
         "type": "scattermapbox"
        },
        {
         "hovertemplate": "country=United Arab Emirates<br>lat=%{lat}<br>long=%{lon}<extra></extra>",
         "lat": [
          23.424076
         ],
         "legendgroup": "United Arab Emirates",
         "lon": [
          53.847818000000004
         ],
         "marker": {
          "color": "#EF553B"
         },
         "mode": "markers",
         "name": "United Arab Emirates",
         "showlegend": true,
         "subplot": "mapbox",
         "type": "scattermapbox"
        },
        {
         "hovertemplate": "country=United Kingdom<br>lat=%{lat}<br>long=%{lon}<extra></extra>",
         "lat": [
          18.2206,
          32.3078,
          18.4207,
          19.3133,
          49.3723,
          -51.7963,
          36.1408,
          54.2361,
          16.742498,
          -7.9467,
          21.694000000000003,
          55.3781
         ],
         "legendgroup": "United Kingdom",
         "lon": [
          -63.0686,
          -64.7505,
          -64.64,
          -81.2546,
          -2.3644,
          -59.5236,
          -5.3536,
          -4.5481,
          -62.187366000000004,
          -14.3559,
          -71.7979,
          -3.4360000000000004
         ],
         "marker": {
          "color": "#00cc96"
         },
         "mode": "markers",
         "name": "United Kingdom",
         "showlegend": true,
         "subplot": "mapbox",
         "type": "scattermapbox"
        },
        {
         "hovertemplate": "country=Uruguay<br>lat=%{lat}<br>long=%{lon}<extra></extra>",
         "lat": [
          -32.5228
         ],
         "legendgroup": "Uruguay",
         "lon": [
          -55.7658
         ],
         "marker": {
          "color": "#ab63fa"
         },
         "mode": "markers",
         "name": "Uruguay",
         "showlegend": true,
         "subplot": "mapbox",
         "type": "scattermapbox"
        },
        {
         "hovertemplate": "country=Uzbekistan<br>lat=%{lat}<br>long=%{lon}<extra></extra>",
         "lat": [
          41.377491
         ],
         "legendgroup": "Uzbekistan",
         "lon": [
          64.585262
         ],
         "marker": {
          "color": "#FFA15A"
         },
         "mode": "markers",
         "name": "Uzbekistan",
         "showlegend": true,
         "subplot": "mapbox",
         "type": "scattermapbox"
        },
        {
         "hovertemplate": "country=Vanuatu<br>lat=%{lat}<br>long=%{lon}<extra></extra>",
         "lat": [
          -15.3767
         ],
         "legendgroup": "Vanuatu",
         "lon": [
          166.9592
         ],
         "marker": {
          "color": "#19d3f3"
         },
         "mode": "markers",
         "name": "Vanuatu",
         "showlegend": true,
         "subplot": "mapbox",
         "type": "scattermapbox"
        },
        {
         "hovertemplate": "country=Venezuela<br>lat=%{lat}<br>long=%{lon}<extra></extra>",
         "lat": [
          6.4238
         ],
         "legendgroup": "Venezuela",
         "lon": [
          -66.5897
         ],
         "marker": {
          "color": "#FF6692"
         },
         "mode": "markers",
         "name": "Venezuela",
         "showlegend": true,
         "subplot": "mapbox",
         "type": "scattermapbox"
        },
        {
         "hovertemplate": "country=Vietnam<br>lat=%{lat}<br>long=%{lon}<extra></extra>",
         "lat": [
          14.058323999999999
         ],
         "legendgroup": "Vietnam",
         "lon": [
          108.277199
         ],
         "marker": {
          "color": "#B6E880"
         },
         "mode": "markers",
         "name": "Vietnam",
         "showlegend": true,
         "subplot": "mapbox",
         "type": "scattermapbox"
        },
        {
         "hovertemplate": "country=West Bank and Gaza<br>lat=%{lat}<br>long=%{lon}<extra></extra>",
         "lat": [
          31.9522
         ],
         "legendgroup": "West Bank and Gaza",
         "lon": [
          35.2332
         ],
         "marker": {
          "color": "#FF97FF"
         },
         "mode": "markers",
         "name": "West Bank and Gaza",
         "showlegend": true,
         "subplot": "mapbox",
         "type": "scattermapbox"
        },
        {
         "hovertemplate": "country=Yemen<br>lat=%{lat}<br>long=%{lon}<extra></extra>",
         "lat": [
          15.552726999999999
         ],
         "legendgroup": "Yemen",
         "lon": [
          48.516388
         ],
         "marker": {
          "color": "#FECB52"
         },
         "mode": "markers",
         "name": "Yemen",
         "showlegend": true,
         "subplot": "mapbox",
         "type": "scattermapbox"
        },
        {
         "hovertemplate": "country=Zambia<br>lat=%{lat}<br>long=%{lon}<extra></extra>",
         "lat": [
          -13.133897
         ],
         "legendgroup": "Zambia",
         "lon": [
          27.849332
         ],
         "marker": {
          "color": "#636efa"
         },
         "mode": "markers",
         "name": "Zambia",
         "showlegend": true,
         "subplot": "mapbox",
         "type": "scattermapbox"
        },
        {
         "hovertemplate": "country=Zimbabwe<br>lat=%{lat}<br>long=%{lon}<extra></extra>",
         "lat": [
          -19.015438
         ],
         "legendgroup": "Zimbabwe",
         "lon": [
          29.154857
         ],
         "marker": {
          "color": "#EF553B"
         },
         "mode": "markers",
         "name": "Zimbabwe",
         "showlegend": true,
         "subplot": "mapbox",
         "type": "scattermapbox"
        }
       ],
       "layout": {
        "legend": {
         "title": {
          "text": "country"
         },
         "tracegroupgap": 0
        },
        "mapbox": {
         "center": {
          "lat": 20.534804212454183,
          "lon": 23.02814327472526
         },
         "domain": {
          "x": [
           0,
           1
          ],
          "y": [
           0,
           1
          ]
         },
         "style": "carto-positron",
         "zoom": 0
        },
        "margin": {
         "t": 60
        },
        "template": {
         "data": {
          "bar": [
           {
            "error_x": {
             "color": "#2a3f5f"
            },
            "error_y": {
             "color": "#2a3f5f"
            },
            "marker": {
             "line": {
              "color": "#E5ECF6",
              "width": 0.5
             }
            },
            "type": "bar"
           }
          ],
          "barpolar": [
           {
            "marker": {
             "line": {
              "color": "#E5ECF6",
              "width": 0.5
             }
            },
            "type": "barpolar"
           }
          ],
          "carpet": [
           {
            "aaxis": {
             "endlinecolor": "#2a3f5f",
             "gridcolor": "white",
             "linecolor": "white",
             "minorgridcolor": "white",
             "startlinecolor": "#2a3f5f"
            },
            "baxis": {
             "endlinecolor": "#2a3f5f",
             "gridcolor": "white",
             "linecolor": "white",
             "minorgridcolor": "white",
             "startlinecolor": "#2a3f5f"
            },
            "type": "carpet"
           }
          ],
          "choropleth": [
           {
            "colorbar": {
             "outlinewidth": 0,
             "ticks": ""
            },
            "type": "choropleth"
           }
          ],
          "contour": [
           {
            "colorbar": {
             "outlinewidth": 0,
             "ticks": ""
            },
            "colorscale": [
             [
              0,
              "#0d0887"
             ],
             [
              0.1111111111111111,
              "#46039f"
             ],
             [
              0.2222222222222222,
              "#7201a8"
             ],
             [
              0.3333333333333333,
              "#9c179e"
             ],
             [
              0.4444444444444444,
              "#bd3786"
             ],
             [
              0.5555555555555556,
              "#d8576b"
             ],
             [
              0.6666666666666666,
              "#ed7953"
             ],
             [
              0.7777777777777778,
              "#fb9f3a"
             ],
             [
              0.8888888888888888,
              "#fdca26"
             ],
             [
              1,
              "#f0f921"
             ]
            ],
            "type": "contour"
           }
          ],
          "contourcarpet": [
           {
            "colorbar": {
             "outlinewidth": 0,
             "ticks": ""
            },
            "type": "contourcarpet"
           }
          ],
          "heatmap": [
           {
            "colorbar": {
             "outlinewidth": 0,
             "ticks": ""
            },
            "colorscale": [
             [
              0,
              "#0d0887"
             ],
             [
              0.1111111111111111,
              "#46039f"
             ],
             [
              0.2222222222222222,
              "#7201a8"
             ],
             [
              0.3333333333333333,
              "#9c179e"
             ],
             [
              0.4444444444444444,
              "#bd3786"
             ],
             [
              0.5555555555555556,
              "#d8576b"
             ],
             [
              0.6666666666666666,
              "#ed7953"
             ],
             [
              0.7777777777777778,
              "#fb9f3a"
             ],
             [
              0.8888888888888888,
              "#fdca26"
             ],
             [
              1,
              "#f0f921"
             ]
            ],
            "type": "heatmap"
           }
          ],
          "heatmapgl": [
           {
            "colorbar": {
             "outlinewidth": 0,
             "ticks": ""
            },
            "colorscale": [
             [
              0,
              "#0d0887"
             ],
             [
              0.1111111111111111,
              "#46039f"
             ],
             [
              0.2222222222222222,
              "#7201a8"
             ],
             [
              0.3333333333333333,
              "#9c179e"
             ],
             [
              0.4444444444444444,
              "#bd3786"
             ],
             [
              0.5555555555555556,
              "#d8576b"
             ],
             [
              0.6666666666666666,
              "#ed7953"
             ],
             [
              0.7777777777777778,
              "#fb9f3a"
             ],
             [
              0.8888888888888888,
              "#fdca26"
             ],
             [
              1,
              "#f0f921"
             ]
            ],
            "type": "heatmapgl"
           }
          ],
          "histogram": [
           {
            "marker": {
             "colorbar": {
              "outlinewidth": 0,
              "ticks": ""
             }
            },
            "type": "histogram"
           }
          ],
          "histogram2d": [
           {
            "colorbar": {
             "outlinewidth": 0,
             "ticks": ""
            },
            "colorscale": [
             [
              0,
              "#0d0887"
             ],
             [
              0.1111111111111111,
              "#46039f"
             ],
             [
              0.2222222222222222,
              "#7201a8"
             ],
             [
              0.3333333333333333,
              "#9c179e"
             ],
             [
              0.4444444444444444,
              "#bd3786"
             ],
             [
              0.5555555555555556,
              "#d8576b"
             ],
             [
              0.6666666666666666,
              "#ed7953"
             ],
             [
              0.7777777777777778,
              "#fb9f3a"
             ],
             [
              0.8888888888888888,
              "#fdca26"
             ],
             [
              1,
              "#f0f921"
             ]
            ],
            "type": "histogram2d"
           }
          ],
          "histogram2dcontour": [
           {
            "colorbar": {
             "outlinewidth": 0,
             "ticks": ""
            },
            "colorscale": [
             [
              0,
              "#0d0887"
             ],
             [
              0.1111111111111111,
              "#46039f"
             ],
             [
              0.2222222222222222,
              "#7201a8"
             ],
             [
              0.3333333333333333,
              "#9c179e"
             ],
             [
              0.4444444444444444,
              "#bd3786"
             ],
             [
              0.5555555555555556,
              "#d8576b"
             ],
             [
              0.6666666666666666,
              "#ed7953"
             ],
             [
              0.7777777777777778,
              "#fb9f3a"
             ],
             [
              0.8888888888888888,
              "#fdca26"
             ],
             [
              1,
              "#f0f921"
             ]
            ],
            "type": "histogram2dcontour"
           }
          ],
          "mesh3d": [
           {
            "colorbar": {
             "outlinewidth": 0,
             "ticks": ""
            },
            "type": "mesh3d"
           }
          ],
          "parcoords": [
           {
            "line": {
             "colorbar": {
              "outlinewidth": 0,
              "ticks": ""
             }
            },
            "type": "parcoords"
           }
          ],
          "pie": [
           {
            "automargin": true,
            "type": "pie"
           }
          ],
          "scatter": [
           {
            "marker": {
             "colorbar": {
              "outlinewidth": 0,
              "ticks": ""
             }
            },
            "type": "scatter"
           }
          ],
          "scatter3d": [
           {
            "line": {
             "colorbar": {
              "outlinewidth": 0,
              "ticks": ""
             }
            },
            "marker": {
             "colorbar": {
              "outlinewidth": 0,
              "ticks": ""
             }
            },
            "type": "scatter3d"
           }
          ],
          "scattercarpet": [
           {
            "marker": {
             "colorbar": {
              "outlinewidth": 0,
              "ticks": ""
             }
            },
            "type": "scattercarpet"
           }
          ],
          "scattergeo": [
           {
            "marker": {
             "colorbar": {
              "outlinewidth": 0,
              "ticks": ""
             }
            },
            "type": "scattergeo"
           }
          ],
          "scattergl": [
           {
            "marker": {
             "colorbar": {
              "outlinewidth": 0,
              "ticks": ""
             }
            },
            "type": "scattergl"
           }
          ],
          "scattermapbox": [
           {
            "marker": {
             "colorbar": {
              "outlinewidth": 0,
              "ticks": ""
             }
            },
            "type": "scattermapbox"
           }
          ],
          "scatterpolar": [
           {
            "marker": {
             "colorbar": {
              "outlinewidth": 0,
              "ticks": ""
             }
            },
            "type": "scatterpolar"
           }
          ],
          "scatterpolargl": [
           {
            "marker": {
             "colorbar": {
              "outlinewidth": 0,
              "ticks": ""
             }
            },
            "type": "scatterpolargl"
           }
          ],
          "scatterternary": [
           {
            "marker": {
             "colorbar": {
              "outlinewidth": 0,
              "ticks": ""
             }
            },
            "type": "scatterternary"
           }
          ],
          "surface": [
           {
            "colorbar": {
             "outlinewidth": 0,
             "ticks": ""
            },
            "colorscale": [
             [
              0,
              "#0d0887"
             ],
             [
              0.1111111111111111,
              "#46039f"
             ],
             [
              0.2222222222222222,
              "#7201a8"
             ],
             [
              0.3333333333333333,
              "#9c179e"
             ],
             [
              0.4444444444444444,
              "#bd3786"
             ],
             [
              0.5555555555555556,
              "#d8576b"
             ],
             [
              0.6666666666666666,
              "#ed7953"
             ],
             [
              0.7777777777777778,
              "#fb9f3a"
             ],
             [
              0.8888888888888888,
              "#fdca26"
             ],
             [
              1,
              "#f0f921"
             ]
            ],
            "type": "surface"
           }
          ],
          "table": [
           {
            "cells": {
             "fill": {
              "color": "#EBF0F8"
             },
             "line": {
              "color": "white"
             }
            },
            "header": {
             "fill": {
              "color": "#C8D4E3"
             },
             "line": {
              "color": "white"
             }
            },
            "type": "table"
           }
          ]
         },
         "layout": {
          "annotationdefaults": {
           "arrowcolor": "#2a3f5f",
           "arrowhead": 0,
           "arrowwidth": 1
          },
          "autotypenumbers": "strict",
          "coloraxis": {
           "colorbar": {
            "outlinewidth": 0,
            "ticks": ""
           }
          },
          "colorscale": {
           "diverging": [
            [
             0,
             "#8e0152"
            ],
            [
             0.1,
             "#c51b7d"
            ],
            [
             0.2,
             "#de77ae"
            ],
            [
             0.3,
             "#f1b6da"
            ],
            [
             0.4,
             "#fde0ef"
            ],
            [
             0.5,
             "#f7f7f7"
            ],
            [
             0.6,
             "#e6f5d0"
            ],
            [
             0.7,
             "#b8e186"
            ],
            [
             0.8,
             "#7fbc41"
            ],
            [
             0.9,
             "#4d9221"
            ],
            [
             1,
             "#276419"
            ]
           ],
           "sequential": [
            [
             0,
             "#0d0887"
            ],
            [
             0.1111111111111111,
             "#46039f"
            ],
            [
             0.2222222222222222,
             "#7201a8"
            ],
            [
             0.3333333333333333,
             "#9c179e"
            ],
            [
             0.4444444444444444,
             "#bd3786"
            ],
            [
             0.5555555555555556,
             "#d8576b"
            ],
            [
             0.6666666666666666,
             "#ed7953"
            ],
            [
             0.7777777777777778,
             "#fb9f3a"
            ],
            [
             0.8888888888888888,
             "#fdca26"
            ],
            [
             1,
             "#f0f921"
            ]
           ],
           "sequentialminus": [
            [
             0,
             "#0d0887"
            ],
            [
             0.1111111111111111,
             "#46039f"
            ],
            [
             0.2222222222222222,
             "#7201a8"
            ],
            [
             0.3333333333333333,
             "#9c179e"
            ],
            [
             0.4444444444444444,
             "#bd3786"
            ],
            [
             0.5555555555555556,
             "#d8576b"
            ],
            [
             0.6666666666666666,
             "#ed7953"
            ],
            [
             0.7777777777777778,
             "#fb9f3a"
            ],
            [
             0.8888888888888888,
             "#fdca26"
            ],
            [
             1,
             "#f0f921"
            ]
           ]
          },
          "colorway": [
           "#636efa",
           "#EF553B",
           "#00cc96",
           "#ab63fa",
           "#FFA15A",
           "#19d3f3",
           "#FF6692",
           "#B6E880",
           "#FF97FF",
           "#FECB52"
          ],
          "font": {
           "color": "#2a3f5f"
          },
          "geo": {
           "bgcolor": "white",
           "lakecolor": "white",
           "landcolor": "#E5ECF6",
           "showlakes": true,
           "showland": true,
           "subunitcolor": "white"
          },
          "hoverlabel": {
           "align": "left"
          },
          "hovermode": "closest",
          "mapbox": {
           "style": "light"
          },
          "paper_bgcolor": "white",
          "plot_bgcolor": "#E5ECF6",
          "polar": {
           "angularaxis": {
            "gridcolor": "white",
            "linecolor": "white",
            "ticks": ""
           },
           "bgcolor": "#E5ECF6",
           "radialaxis": {
            "gridcolor": "white",
            "linecolor": "white",
            "ticks": ""
           }
          },
          "scene": {
           "xaxis": {
            "backgroundcolor": "#E5ECF6",
            "gridcolor": "white",
            "gridwidth": 2,
            "linecolor": "white",
            "showbackground": true,
            "ticks": "",
            "zerolinecolor": "white"
           },
           "yaxis": {
            "backgroundcolor": "#E5ECF6",
            "gridcolor": "white",
            "gridwidth": 2,
            "linecolor": "white",
            "showbackground": true,
            "ticks": "",
            "zerolinecolor": "white"
           },
           "zaxis": {
            "backgroundcolor": "#E5ECF6",
            "gridcolor": "white",
            "gridwidth": 2,
            "linecolor": "white",
            "showbackground": true,
            "ticks": "",
            "zerolinecolor": "white"
           }
          },
          "shapedefaults": {
           "line": {
            "color": "#2a3f5f"
           }
          },
          "ternary": {
           "aaxis": {
            "gridcolor": "white",
            "linecolor": "white",
            "ticks": ""
           },
           "baxis": {
            "gridcolor": "white",
            "linecolor": "white",
            "ticks": ""
           },
           "bgcolor": "#E5ECF6",
           "caxis": {
            "gridcolor": "white",
            "linecolor": "white",
            "ticks": ""
           }
          },
          "title": {
           "x": 0.05
          },
          "xaxis": {
           "automargin": true,
           "gridcolor": "white",
           "linecolor": "white",
           "ticks": "",
           "title": {
            "standoff": 15
           },
           "zerolinecolor": "white",
           "zerolinewidth": 2
          },
          "yaxis": {
           "automargin": true,
           "gridcolor": "white",
           "linecolor": "white",
           "ticks": "",
           "title": {
            "standoff": 15
           },
           "zerolinecolor": "white",
           "zerolinewidth": 2
          }
         }
        },
        "title": {
         "text": "Global spread of COVID-19. (Last updated on 5/4/21)"
        }
       }
      },
      "text/html": [
       "<div>                            <div id=\"c1938c59-f40f-4041-b0b5-b2e2faafe2c8\" class=\"plotly-graph-div\" style=\"height:525px; width:100%;\"></div>            <script type=\"text/javascript\">                require([\"plotly\"], function(Plotly) {                    window.PLOTLYENV=window.PLOTLYENV || {};                                    if (document.getElementById(\"c1938c59-f40f-4041-b0b5-b2e2faafe2c8\")) {                    Plotly.newPlot(                        \"c1938c59-f40f-4041-b0b5-b2e2faafe2c8\",                        [{\"hovertemplate\": \"country=Afghanistan<br>lat=%{lat}<br>long=%{lon}<extra></extra>\", \"lat\": [33.93911], \"legendgroup\": \"Afghanistan\", \"lon\": [67.709953], \"marker\": {\"color\": \"#636efa\"}, \"mode\": \"markers\", \"name\": \"Afghanistan\", \"showlegend\": true, \"subplot\": \"mapbox\", \"type\": \"scattermapbox\"}, {\"hovertemplate\": \"country=Albania<br>lat=%{lat}<br>long=%{lon}<extra></extra>\", \"lat\": [41.1533], \"legendgroup\": \"Albania\", \"lon\": [20.1683], \"marker\": {\"color\": \"#EF553B\"}, \"mode\": \"markers\", \"name\": \"Albania\", \"showlegend\": true, \"subplot\": \"mapbox\", \"type\": \"scattermapbox\"}, {\"hovertemplate\": \"country=Algeria<br>lat=%{lat}<br>long=%{lon}<extra></extra>\", \"lat\": [28.0339], \"legendgroup\": \"Algeria\", \"lon\": [1.6596], \"marker\": {\"color\": \"#00cc96\"}, \"mode\": \"markers\", \"name\": \"Algeria\", \"showlegend\": true, \"subplot\": \"mapbox\", \"type\": \"scattermapbox\"}, {\"hovertemplate\": \"country=Andorra<br>lat=%{lat}<br>long=%{lon}<extra></extra>\", \"lat\": [42.5063], \"legendgroup\": \"Andorra\", \"lon\": [1.5218], \"marker\": {\"color\": \"#ab63fa\"}, \"mode\": \"markers\", \"name\": \"Andorra\", \"showlegend\": true, \"subplot\": \"mapbox\", \"type\": \"scattermapbox\"}, {\"hovertemplate\": \"country=Angola<br>lat=%{lat}<br>long=%{lon}<extra></extra>\", \"lat\": [-11.2027], \"legendgroup\": \"Angola\", \"lon\": [17.8739], \"marker\": {\"color\": \"#FFA15A\"}, \"mode\": \"markers\", \"name\": \"Angola\", \"showlegend\": true, \"subplot\": \"mapbox\", \"type\": \"scattermapbox\"}, {\"hovertemplate\": \"country=Antigua and Barbuda<br>lat=%{lat}<br>long=%{lon}<extra></extra>\", \"lat\": [17.0608], \"legendgroup\": \"Antigua and Barbuda\", \"lon\": [-61.7964], \"marker\": {\"color\": \"#19d3f3\"}, \"mode\": \"markers\", \"name\": \"Antigua and Barbuda\", \"showlegend\": true, \"subplot\": \"mapbox\", \"type\": \"scattermapbox\"}, {\"hovertemplate\": \"country=Argentina<br>lat=%{lat}<br>long=%{lon}<extra></extra>\", \"lat\": [-38.4161], \"legendgroup\": \"Argentina\", \"lon\": [-63.6167], \"marker\": {\"color\": \"#FF6692\"}, \"mode\": \"markers\", \"name\": \"Argentina\", \"showlegend\": true, \"subplot\": \"mapbox\", \"type\": \"scattermapbox\"}, {\"hovertemplate\": \"country=Armenia<br>lat=%{lat}<br>long=%{lon}<extra></extra>\", \"lat\": [40.0691], \"legendgroup\": \"Armenia\", \"lon\": [45.0382], \"marker\": {\"color\": \"#B6E880\"}, \"mode\": \"markers\", \"name\": \"Armenia\", \"showlegend\": true, \"subplot\": \"mapbox\", \"type\": \"scattermapbox\"}, {\"hovertemplate\": \"country=Australia<br>lat=%{lat}<br>long=%{lon}<extra></extra>\", \"lat\": [-35.4735, -33.8688, -12.4634, -27.4698, -34.9285, -42.8821, -37.8136, -31.9505], \"legendgroup\": \"Australia\", \"lon\": [149.0124, 151.2093, 130.8456, 153.0251, 138.6007, 147.3272, 144.9631, 115.8605], \"marker\": {\"color\": \"#FF97FF\"}, \"mode\": \"markers\", \"name\": \"Australia\", \"showlegend\": true, \"subplot\": \"mapbox\", \"type\": \"scattermapbox\"}, {\"hovertemplate\": \"country=Austria<br>lat=%{lat}<br>long=%{lon}<extra></extra>\", \"lat\": [47.5162], \"legendgroup\": \"Austria\", \"lon\": [14.5501], \"marker\": {\"color\": \"#FECB52\"}, \"mode\": \"markers\", \"name\": \"Austria\", \"showlegend\": true, \"subplot\": \"mapbox\", \"type\": \"scattermapbox\"}, {\"hovertemplate\": \"country=Azerbaijan<br>lat=%{lat}<br>long=%{lon}<extra></extra>\", \"lat\": [40.1431], \"legendgroup\": \"Azerbaijan\", \"lon\": [47.5769], \"marker\": {\"color\": \"#636efa\"}, \"mode\": \"markers\", \"name\": \"Azerbaijan\", \"showlegend\": true, \"subplot\": \"mapbox\", \"type\": \"scattermapbox\"}, {\"hovertemplate\": \"country=Bahamas<br>lat=%{lat}<br>long=%{lon}<extra></extra>\", \"lat\": [25.025885], \"legendgroup\": \"Bahamas\", \"lon\": [-78.035889], \"marker\": {\"color\": \"#EF553B\"}, \"mode\": \"markers\", \"name\": \"Bahamas\", \"showlegend\": true, \"subplot\": \"mapbox\", \"type\": \"scattermapbox\"}, {\"hovertemplate\": \"country=Bahrain<br>lat=%{lat}<br>long=%{lon}<extra></extra>\", \"lat\": [26.0275], \"legendgroup\": \"Bahrain\", \"lon\": [50.55], \"marker\": {\"color\": \"#00cc96\"}, \"mode\": \"markers\", \"name\": \"Bahrain\", \"showlegend\": true, \"subplot\": \"mapbox\", \"type\": \"scattermapbox\"}, {\"hovertemplate\": \"country=Bangladesh<br>lat=%{lat}<br>long=%{lon}<extra></extra>\", \"lat\": [23.685], \"legendgroup\": \"Bangladesh\", \"lon\": [90.3563], \"marker\": {\"color\": \"#ab63fa\"}, \"mode\": \"markers\", \"name\": \"Bangladesh\", \"showlegend\": true, \"subplot\": \"mapbox\", \"type\": \"scattermapbox\"}, {\"hovertemplate\": \"country=Barbados<br>lat=%{lat}<br>long=%{lon}<extra></extra>\", \"lat\": [13.1939], \"legendgroup\": \"Barbados\", \"lon\": [-59.5432], \"marker\": {\"color\": \"#FFA15A\"}, \"mode\": \"markers\", \"name\": \"Barbados\", \"showlegend\": true, \"subplot\": \"mapbox\", \"type\": \"scattermapbox\"}, {\"hovertemplate\": \"country=Belarus<br>lat=%{lat}<br>long=%{lon}<extra></extra>\", \"lat\": [53.7098], \"legendgroup\": \"Belarus\", \"lon\": [27.9534], \"marker\": {\"color\": \"#19d3f3\"}, \"mode\": \"markers\", \"name\": \"Belarus\", \"showlegend\": true, \"subplot\": \"mapbox\", \"type\": \"scattermapbox\"}, {\"hovertemplate\": \"country=Belgium<br>lat=%{lat}<br>long=%{lon}<extra></extra>\", \"lat\": [50.8333], \"legendgroup\": \"Belgium\", \"lon\": [4.469936], \"marker\": {\"color\": \"#FF6692\"}, \"mode\": \"markers\", \"name\": \"Belgium\", \"showlegend\": true, \"subplot\": \"mapbox\", \"type\": \"scattermapbox\"}, {\"hovertemplate\": \"country=Belize<br>lat=%{lat}<br>long=%{lon}<extra></extra>\", \"lat\": [17.1899], \"legendgroup\": \"Belize\", \"lon\": [-88.4976], \"marker\": {\"color\": \"#B6E880\"}, \"mode\": \"markers\", \"name\": \"Belize\", \"showlegend\": true, \"subplot\": \"mapbox\", \"type\": \"scattermapbox\"}, {\"hovertemplate\": \"country=Benin<br>lat=%{lat}<br>long=%{lon}<extra></extra>\", \"lat\": [9.3077], \"legendgroup\": \"Benin\", \"lon\": [2.3158], \"marker\": {\"color\": \"#FF97FF\"}, \"mode\": \"markers\", \"name\": \"Benin\", \"showlegend\": true, \"subplot\": \"mapbox\", \"type\": \"scattermapbox\"}, {\"hovertemplate\": \"country=Bhutan<br>lat=%{lat}<br>long=%{lon}<extra></extra>\", \"lat\": [27.5142], \"legendgroup\": \"Bhutan\", \"lon\": [90.4336], \"marker\": {\"color\": \"#FECB52\"}, \"mode\": \"markers\", \"name\": \"Bhutan\", \"showlegend\": true, \"subplot\": \"mapbox\", \"type\": \"scattermapbox\"}, {\"hovertemplate\": \"country=Bolivia<br>lat=%{lat}<br>long=%{lon}<extra></extra>\", \"lat\": [-16.2902], \"legendgroup\": \"Bolivia\", \"lon\": [-63.5887], \"marker\": {\"color\": \"#636efa\"}, \"mode\": \"markers\", \"name\": \"Bolivia\", \"showlegend\": true, \"subplot\": \"mapbox\", \"type\": \"scattermapbox\"}, {\"hovertemplate\": \"country=Bosnia and Herzegovina<br>lat=%{lat}<br>long=%{lon}<extra></extra>\", \"lat\": [43.9159], \"legendgroup\": \"Bosnia and Herzegovina\", \"lon\": [17.6791], \"marker\": {\"color\": \"#EF553B\"}, \"mode\": \"markers\", \"name\": \"Bosnia and Herzegovina\", \"showlegend\": true, \"subplot\": \"mapbox\", \"type\": \"scattermapbox\"}, {\"hovertemplate\": \"country=Botswana<br>lat=%{lat}<br>long=%{lon}<extra></extra>\", \"lat\": [-22.3285], \"legendgroup\": \"Botswana\", \"lon\": [24.6849], \"marker\": {\"color\": \"#00cc96\"}, \"mode\": \"markers\", \"name\": \"Botswana\", \"showlegend\": true, \"subplot\": \"mapbox\", \"type\": \"scattermapbox\"}, {\"hovertemplate\": \"country=Brazil<br>lat=%{lat}<br>long=%{lon}<extra></extra>\", \"lat\": [-14.235], \"legendgroup\": \"Brazil\", \"lon\": [-51.9253], \"marker\": {\"color\": \"#ab63fa\"}, \"mode\": \"markers\", \"name\": \"Brazil\", \"showlegend\": true, \"subplot\": \"mapbox\", \"type\": \"scattermapbox\"}, {\"hovertemplate\": \"country=Brunei<br>lat=%{lat}<br>long=%{lon}<extra></extra>\", \"lat\": [4.5353], \"legendgroup\": \"Brunei\", \"lon\": [114.7277], \"marker\": {\"color\": \"#FFA15A\"}, \"mode\": \"markers\", \"name\": \"Brunei\", \"showlegend\": true, \"subplot\": \"mapbox\", \"type\": \"scattermapbox\"}, {\"hovertemplate\": \"country=Bulgaria<br>lat=%{lat}<br>long=%{lon}<extra></extra>\", \"lat\": [42.7339], \"legendgroup\": \"Bulgaria\", \"lon\": [25.4858], \"marker\": {\"color\": \"#19d3f3\"}, \"mode\": \"markers\", \"name\": \"Bulgaria\", \"showlegend\": true, \"subplot\": \"mapbox\", \"type\": \"scattermapbox\"}, {\"hovertemplate\": \"country=Burkina Faso<br>lat=%{lat}<br>long=%{lon}<extra></extra>\", \"lat\": [12.2383], \"legendgroup\": \"Burkina Faso\", \"lon\": [-1.5616], \"marker\": {\"color\": \"#FF6692\"}, \"mode\": \"markers\", \"name\": \"Burkina Faso\", \"showlegend\": true, \"subplot\": \"mapbox\", \"type\": \"scattermapbox\"}, {\"hovertemplate\": \"country=Burma<br>lat=%{lat}<br>long=%{lon}<extra></extra>\", \"lat\": [21.9162], \"legendgroup\": \"Burma\", \"lon\": [95.956], \"marker\": {\"color\": \"#B6E880\"}, \"mode\": \"markers\", \"name\": \"Burma\", \"showlegend\": true, \"subplot\": \"mapbox\", \"type\": \"scattermapbox\"}, {\"hovertemplate\": \"country=Burundi<br>lat=%{lat}<br>long=%{lon}<extra></extra>\", \"lat\": [-3.3731], \"legendgroup\": \"Burundi\", \"lon\": [29.9189], \"marker\": {\"color\": \"#FF97FF\"}, \"mode\": \"markers\", \"name\": \"Burundi\", \"showlegend\": true, \"subplot\": \"mapbox\", \"type\": \"scattermapbox\"}, {\"hovertemplate\": \"country=Cabo Verde<br>lat=%{lat}<br>long=%{lon}<extra></extra>\", \"lat\": [16.5388], \"legendgroup\": \"Cabo Verde\", \"lon\": [-23.0418], \"marker\": {\"color\": \"#FECB52\"}, \"mode\": \"markers\", \"name\": \"Cabo Verde\", \"showlegend\": true, \"subplot\": \"mapbox\", \"type\": \"scattermapbox\"}, {\"hovertemplate\": \"country=Cambodia<br>lat=%{lat}<br>long=%{lon}<extra></extra>\", \"lat\": [11.55], \"legendgroup\": \"Cambodia\", \"lon\": [104.9167], \"marker\": {\"color\": \"#636efa\"}, \"mode\": \"markers\", \"name\": \"Cambodia\", \"showlegend\": true, \"subplot\": \"mapbox\", \"type\": \"scattermapbox\"}, {\"hovertemplate\": \"country=Cameroon<br>lat=%{lat}<br>long=%{lon}<extra></extra>\", \"lat\": [3.8480000000000003], \"legendgroup\": \"Cameroon\", \"lon\": [11.5021], \"marker\": {\"color\": \"#EF553B\"}, \"mode\": \"markers\", \"name\": \"Cameroon\", \"showlegend\": true, \"subplot\": \"mapbox\", \"type\": \"scattermapbox\"}, {\"hovertemplate\": \"country=Canada<br>lat=%{lat}<br>long=%{lon}<extra></extra>\", \"lat\": [53.9333, 53.7267, 0.0, 0.0, 53.7609, 46.5653, 53.1355, 64.8255, 44.681999999999995, 70.2998, 51.2538, 46.5107, 52.9399, 52.9399, 64.2823], \"legendgroup\": \"Canada\", \"lon\": [-116.5765, -127.6476, 0.0, 0.0, -98.8139, -66.4619, -57.6604, -124.8457, -63.7443, -83.1076, -85.3232, -63.4168, -73.5491, -106.4509, -135.0], \"marker\": {\"color\": \"#00cc96\"}, \"mode\": \"markers\", \"name\": \"Canada\", \"showlegend\": true, \"subplot\": \"mapbox\", \"type\": \"scattermapbox\"}, {\"hovertemplate\": \"country=Central African Republic<br>lat=%{lat}<br>long=%{lon}<extra></extra>\", \"lat\": [6.6111], \"legendgroup\": \"Central African Republic\", \"lon\": [20.9394], \"marker\": {\"color\": \"#ab63fa\"}, \"mode\": \"markers\", \"name\": \"Central African Republic\", \"showlegend\": true, \"subplot\": \"mapbox\", \"type\": \"scattermapbox\"}, {\"hovertemplate\": \"country=Chad<br>lat=%{lat}<br>long=%{lon}<extra></extra>\", \"lat\": [15.4542], \"legendgroup\": \"Chad\", \"lon\": [18.7322], \"marker\": {\"color\": \"#FFA15A\"}, \"mode\": \"markers\", \"name\": \"Chad\", \"showlegend\": true, \"subplot\": \"mapbox\", \"type\": \"scattermapbox\"}, {\"hovertemplate\": \"country=Chile<br>lat=%{lat}<br>long=%{lon}<extra></extra>\", \"lat\": [-35.6751], \"legendgroup\": \"Chile\", \"lon\": [-71.543], \"marker\": {\"color\": \"#19d3f3\"}, \"mode\": \"markers\", \"name\": \"Chile\", \"showlegend\": true, \"subplot\": \"mapbox\", \"type\": \"scattermapbox\"}, {\"hovertemplate\": \"country=China<br>lat=%{lat}<br>long=%{lon}<extra></extra>\", \"lat\": [31.8257, 40.1824, 30.0572, 26.0789, 35.7518, 23.3417, 23.8298, 26.8154, 19.1959, 39.549, 47.861999999999995, 37.8957, 22.3, 30.9756, 27.6104, 44.0935, 32.9711, 27.614, 43.6661, 41.2956, 22.1667, 37.2692, 35.7452, 35.1917, 36.3427, 31.201999999999998, 37.5777, 30.6171, 39.3054, 31.6927, 41.1129, 24.974, 29.1832], \"legendgroup\": \"China\", \"lon\": [117.2264, 116.4142, 107.874, 117.9874, 104.2861, 113.4244, 108.7881, 106.8748, 109.7453, 116.1306, 127.7615, 114.9042, 114.2, 112.2707, 111.7088, 113.9448, 119.455, 115.7221, 126.1923, 122.6085, 113.55, 106.1655, 95.9956, 108.8701, 118.1498, 121.4491, 112.2922, 102.7103, 117.323, 88.0924, 85.2401, 101.48700000000001, 120.0934], \"marker\": {\"color\": \"#FF6692\"}, \"mode\": \"markers\", \"name\": \"China\", \"showlegend\": true, \"subplot\": \"mapbox\", \"type\": \"scattermapbox\"}, {\"hovertemplate\": \"country=Colombia<br>lat=%{lat}<br>long=%{lon}<extra></extra>\", \"lat\": [4.5709], \"legendgroup\": \"Colombia\", \"lon\": [-74.2973], \"marker\": {\"color\": \"#B6E880\"}, \"mode\": \"markers\", \"name\": \"Colombia\", \"showlegend\": true, \"subplot\": \"mapbox\", \"type\": \"scattermapbox\"}, {\"hovertemplate\": \"country=Comoros<br>lat=%{lat}<br>long=%{lon}<extra></extra>\", \"lat\": [-11.6455], \"legendgroup\": \"Comoros\", \"lon\": [43.3333], \"marker\": {\"color\": \"#FF97FF\"}, \"mode\": \"markers\", \"name\": \"Comoros\", \"showlegend\": true, \"subplot\": \"mapbox\", \"type\": \"scattermapbox\"}, {\"hovertemplate\": \"country=Congo (Brazzaville)<br>lat=%{lat}<br>long=%{lon}<extra></extra>\", \"lat\": [-0.228], \"legendgroup\": \"Congo (Brazzaville)\", \"lon\": [15.8277], \"marker\": {\"color\": \"#FECB52\"}, \"mode\": \"markers\", \"name\": \"Congo (Brazzaville)\", \"showlegend\": true, \"subplot\": \"mapbox\", \"type\": \"scattermapbox\"}, {\"hovertemplate\": \"country=Congo (Kinshasa)<br>lat=%{lat}<br>long=%{lon}<extra></extra>\", \"lat\": [-4.0383], \"legendgroup\": \"Congo (Kinshasa)\", \"lon\": [21.7587], \"marker\": {\"color\": \"#636efa\"}, \"mode\": \"markers\", \"name\": \"Congo (Kinshasa)\", \"showlegend\": true, \"subplot\": \"mapbox\", \"type\": \"scattermapbox\"}, {\"hovertemplate\": \"country=Costa Rica<br>lat=%{lat}<br>long=%{lon}<extra></extra>\", \"lat\": [9.7489], \"legendgroup\": \"Costa Rica\", \"lon\": [-83.7534], \"marker\": {\"color\": \"#EF553B\"}, \"mode\": \"markers\", \"name\": \"Costa Rica\", \"showlegend\": true, \"subplot\": \"mapbox\", \"type\": \"scattermapbox\"}, {\"hovertemplate\": \"country=Cote d'Ivoire<br>lat=%{lat}<br>long=%{lon}<extra></extra>\", \"lat\": [7.54], \"legendgroup\": \"Cote d'Ivoire\", \"lon\": [-5.5471], \"marker\": {\"color\": \"#00cc96\"}, \"mode\": \"markers\", \"name\": \"Cote d'Ivoire\", \"showlegend\": true, \"subplot\": \"mapbox\", \"type\": \"scattermapbox\"}, {\"hovertemplate\": \"country=Croatia<br>lat=%{lat}<br>long=%{lon}<extra></extra>\", \"lat\": [45.1], \"legendgroup\": \"Croatia\", \"lon\": [15.2], \"marker\": {\"color\": \"#ab63fa\"}, \"mode\": \"markers\", \"name\": \"Croatia\", \"showlegend\": true, \"subplot\": \"mapbox\", \"type\": \"scattermapbox\"}, {\"hovertemplate\": \"country=Cuba<br>lat=%{lat}<br>long=%{lon}<extra></extra>\", \"lat\": [21.521757], \"legendgroup\": \"Cuba\", \"lon\": [-77.78116700000001], \"marker\": {\"color\": \"#FFA15A\"}, \"mode\": \"markers\", \"name\": \"Cuba\", \"showlegend\": true, \"subplot\": \"mapbox\", \"type\": \"scattermapbox\"}, {\"hovertemplate\": \"country=Cyprus<br>lat=%{lat}<br>long=%{lon}<extra></extra>\", \"lat\": [35.1264], \"legendgroup\": \"Cyprus\", \"lon\": [33.4299], \"marker\": {\"color\": \"#19d3f3\"}, \"mode\": \"markers\", \"name\": \"Cyprus\", \"showlegend\": true, \"subplot\": \"mapbox\", \"type\": \"scattermapbox\"}, {\"hovertemplate\": \"country=Czechia<br>lat=%{lat}<br>long=%{lon}<extra></extra>\", \"lat\": [49.8175], \"legendgroup\": \"Czechia\", \"lon\": [15.472999999999999], \"marker\": {\"color\": \"#FF6692\"}, \"mode\": \"markers\", \"name\": \"Czechia\", \"showlegend\": true, \"subplot\": \"mapbox\", \"type\": \"scattermapbox\"}, {\"hovertemplate\": \"country=Denmark<br>lat=%{lat}<br>long=%{lon}<extra></extra>\", \"lat\": [61.8926, 71.7069, 56.2639], \"legendgroup\": \"Denmark\", \"lon\": [-6.9118, -42.6043, 9.5018], \"marker\": {\"color\": \"#B6E880\"}, \"mode\": \"markers\", \"name\": \"Denmark\", \"showlegend\": true, \"subplot\": \"mapbox\", \"type\": \"scattermapbox\"}, {\"hovertemplate\": \"country=Diamond Princess<br>lat=%{lat}<br>long=%{lon}<extra></extra>\", \"lat\": [0.0], \"legendgroup\": \"Diamond Princess\", \"lon\": [0.0], \"marker\": {\"color\": \"#FF97FF\"}, \"mode\": \"markers\", \"name\": \"Diamond Princess\", \"showlegend\": true, \"subplot\": \"mapbox\", \"type\": \"scattermapbox\"}, {\"hovertemplate\": \"country=Djibouti<br>lat=%{lat}<br>long=%{lon}<extra></extra>\", \"lat\": [11.8251], \"legendgroup\": \"Djibouti\", \"lon\": [42.5903], \"marker\": {\"color\": \"#FECB52\"}, \"mode\": \"markers\", \"name\": \"Djibouti\", \"showlegend\": true, \"subplot\": \"mapbox\", \"type\": \"scattermapbox\"}, {\"hovertemplate\": \"country=Dominica<br>lat=%{lat}<br>long=%{lon}<extra></extra>\", \"lat\": [15.415], \"legendgroup\": \"Dominica\", \"lon\": [-61.371], \"marker\": {\"color\": \"#636efa\"}, \"mode\": \"markers\", \"name\": \"Dominica\", \"showlegend\": true, \"subplot\": \"mapbox\", \"type\": \"scattermapbox\"}, {\"hovertemplate\": \"country=Dominican Republic<br>lat=%{lat}<br>long=%{lon}<extra></extra>\", \"lat\": [18.7357], \"legendgroup\": \"Dominican Republic\", \"lon\": [-70.1627], \"marker\": {\"color\": \"#EF553B\"}, \"mode\": \"markers\", \"name\": \"Dominican Republic\", \"showlegend\": true, \"subplot\": \"mapbox\", \"type\": \"scattermapbox\"}, {\"hovertemplate\": \"country=Ecuador<br>lat=%{lat}<br>long=%{lon}<extra></extra>\", \"lat\": [-1.8312], \"legendgroup\": \"Ecuador\", \"lon\": [-78.1834], \"marker\": {\"color\": \"#00cc96\"}, \"mode\": \"markers\", \"name\": \"Ecuador\", \"showlegend\": true, \"subplot\": \"mapbox\", \"type\": \"scattermapbox\"}, {\"hovertemplate\": \"country=Egypt<br>lat=%{lat}<br>long=%{lon}<extra></extra>\", \"lat\": [26.820553000000004], \"legendgroup\": \"Egypt\", \"lon\": [30.802497999999996], \"marker\": {\"color\": \"#ab63fa\"}, \"mode\": \"markers\", \"name\": \"Egypt\", \"showlegend\": true, \"subplot\": \"mapbox\", \"type\": \"scattermapbox\"}, {\"hovertemplate\": \"country=El Salvador<br>lat=%{lat}<br>long=%{lon}<extra></extra>\", \"lat\": [13.7942], \"legendgroup\": \"El Salvador\", \"lon\": [-88.8965], \"marker\": {\"color\": \"#FFA15A\"}, \"mode\": \"markers\", \"name\": \"El Salvador\", \"showlegend\": true, \"subplot\": \"mapbox\", \"type\": \"scattermapbox\"}, {\"hovertemplate\": \"country=Equatorial Guinea<br>lat=%{lat}<br>long=%{lon}<extra></extra>\", \"lat\": [1.6508], \"legendgroup\": \"Equatorial Guinea\", \"lon\": [10.2679], \"marker\": {\"color\": \"#19d3f3\"}, \"mode\": \"markers\", \"name\": \"Equatorial Guinea\", \"showlegend\": true, \"subplot\": \"mapbox\", \"type\": \"scattermapbox\"}, {\"hovertemplate\": \"country=Eritrea<br>lat=%{lat}<br>long=%{lon}<extra></extra>\", \"lat\": [15.1794], \"legendgroup\": \"Eritrea\", \"lon\": [39.7823], \"marker\": {\"color\": \"#FF6692\"}, \"mode\": \"markers\", \"name\": \"Eritrea\", \"showlegend\": true, \"subplot\": \"mapbox\", \"type\": \"scattermapbox\"}, {\"hovertemplate\": \"country=Estonia<br>lat=%{lat}<br>long=%{lon}<extra></extra>\", \"lat\": [58.5953], \"legendgroup\": \"Estonia\", \"lon\": [25.0136], \"marker\": {\"color\": \"#B6E880\"}, \"mode\": \"markers\", \"name\": \"Estonia\", \"showlegend\": true, \"subplot\": \"mapbox\", \"type\": \"scattermapbox\"}, {\"hovertemplate\": \"country=Eswatini<br>lat=%{lat}<br>long=%{lon}<extra></extra>\", \"lat\": [-26.5225], \"legendgroup\": \"Eswatini\", \"lon\": [31.4659], \"marker\": {\"color\": \"#FF97FF\"}, \"mode\": \"markers\", \"name\": \"Eswatini\", \"showlegend\": true, \"subplot\": \"mapbox\", \"type\": \"scattermapbox\"}, {\"hovertemplate\": \"country=Ethiopia<br>lat=%{lat}<br>long=%{lon}<extra></extra>\", \"lat\": [9.145], \"legendgroup\": \"Ethiopia\", \"lon\": [40.4897], \"marker\": {\"color\": \"#FECB52\"}, \"mode\": \"markers\", \"name\": \"Ethiopia\", \"showlegend\": true, \"subplot\": \"mapbox\", \"type\": \"scattermapbox\"}, {\"hovertemplate\": \"country=Fiji<br>lat=%{lat}<br>long=%{lon}<extra></extra>\", \"lat\": [-17.7134], \"legendgroup\": \"Fiji\", \"lon\": [178.065], \"marker\": {\"color\": \"#636efa\"}, \"mode\": \"markers\", \"name\": \"Fiji\", \"showlegend\": true, \"subplot\": \"mapbox\", \"type\": \"scattermapbox\"}, {\"hovertemplate\": \"country=Finland<br>lat=%{lat}<br>long=%{lon}<extra></extra>\", \"lat\": [61.92411], \"legendgroup\": \"Finland\", \"lon\": [25.748151], \"marker\": {\"color\": \"#EF553B\"}, \"mode\": \"markers\", \"name\": \"Finland\", \"showlegend\": true, \"subplot\": \"mapbox\", \"type\": \"scattermapbox\"}, {\"hovertemplate\": \"country=France<br>lat=%{lat}<br>long=%{lon}<extra></extra>\", \"lat\": [3.9339, -17.6797, 16.265, 14.6415, -12.8275, -20.904304999999997, -21.1151, 17.9, 46.8852, 18.0708, -14.2938, 46.2276], \"legendgroup\": \"France\", \"lon\": [-53.1258, 149.4068, -61.551, -61.0242, 45.166244, 165.618042, 55.5364, -62.8333, -56.3159, -63.0501, -178.1165, 2.2137], \"marker\": {\"color\": \"#00cc96\"}, \"mode\": \"markers\", \"name\": \"France\", \"showlegend\": true, \"subplot\": \"mapbox\", \"type\": \"scattermapbox\"}, {\"hovertemplate\": \"country=Gabon<br>lat=%{lat}<br>long=%{lon}<extra></extra>\", \"lat\": [-0.8037], \"legendgroup\": \"Gabon\", \"lon\": [11.6094], \"marker\": {\"color\": \"#ab63fa\"}, \"mode\": \"markers\", \"name\": \"Gabon\", \"showlegend\": true, \"subplot\": \"mapbox\", \"type\": \"scattermapbox\"}, {\"hovertemplate\": \"country=Gambia<br>lat=%{lat}<br>long=%{lon}<extra></extra>\", \"lat\": [13.4432], \"legendgroup\": \"Gambia\", \"lon\": [-15.3101], \"marker\": {\"color\": \"#FFA15A\"}, \"mode\": \"markers\", \"name\": \"Gambia\", \"showlegend\": true, \"subplot\": \"mapbox\", \"type\": \"scattermapbox\"}, {\"hovertemplate\": \"country=Georgia<br>lat=%{lat}<br>long=%{lon}<extra></extra>\", \"lat\": [42.3154], \"legendgroup\": \"Georgia\", \"lon\": [43.3569], \"marker\": {\"color\": \"#19d3f3\"}, \"mode\": \"markers\", \"name\": \"Georgia\", \"showlegend\": true, \"subplot\": \"mapbox\", \"type\": \"scattermapbox\"}, {\"hovertemplate\": \"country=Germany<br>lat=%{lat}<br>long=%{lon}<extra></extra>\", \"lat\": [51.165690999999995], \"legendgroup\": \"Germany\", \"lon\": [10.451526], \"marker\": {\"color\": \"#FF6692\"}, \"mode\": \"markers\", \"name\": \"Germany\", \"showlegend\": true, \"subplot\": \"mapbox\", \"type\": \"scattermapbox\"}, {\"hovertemplate\": \"country=Ghana<br>lat=%{lat}<br>long=%{lon}<extra></extra>\", \"lat\": [7.9465], \"legendgroup\": \"Ghana\", \"lon\": [-1.0232], \"marker\": {\"color\": \"#B6E880\"}, \"mode\": \"markers\", \"name\": \"Ghana\", \"showlegend\": true, \"subplot\": \"mapbox\", \"type\": \"scattermapbox\"}, {\"hovertemplate\": \"country=Greece<br>lat=%{lat}<br>long=%{lon}<extra></extra>\", \"lat\": [39.0742], \"legendgroup\": \"Greece\", \"lon\": [21.8243], \"marker\": {\"color\": \"#FF97FF\"}, \"mode\": \"markers\", \"name\": \"Greece\", \"showlegend\": true, \"subplot\": \"mapbox\", \"type\": \"scattermapbox\"}, {\"hovertemplate\": \"country=Grenada<br>lat=%{lat}<br>long=%{lon}<extra></extra>\", \"lat\": [12.1165], \"legendgroup\": \"Grenada\", \"lon\": [-61.678999999999995], \"marker\": {\"color\": \"#FECB52\"}, \"mode\": \"markers\", \"name\": \"Grenada\", \"showlegend\": true, \"subplot\": \"mapbox\", \"type\": \"scattermapbox\"}, {\"hovertemplate\": \"country=Guatemala<br>lat=%{lat}<br>long=%{lon}<extra></extra>\", \"lat\": [15.7835], \"legendgroup\": \"Guatemala\", \"lon\": [-90.2308], \"marker\": {\"color\": \"#636efa\"}, \"mode\": \"markers\", \"name\": \"Guatemala\", \"showlegend\": true, \"subplot\": \"mapbox\", \"type\": \"scattermapbox\"}, {\"hovertemplate\": \"country=Guinea<br>lat=%{lat}<br>long=%{lon}<extra></extra>\", \"lat\": [9.9456], \"legendgroup\": \"Guinea\", \"lon\": [-9.6966], \"marker\": {\"color\": \"#EF553B\"}, \"mode\": \"markers\", \"name\": \"Guinea\", \"showlegend\": true, \"subplot\": \"mapbox\", \"type\": \"scattermapbox\"}, {\"hovertemplate\": \"country=Guinea-Bissau<br>lat=%{lat}<br>long=%{lon}<extra></extra>\", \"lat\": [11.8037], \"legendgroup\": \"Guinea-Bissau\", \"lon\": [-15.1804], \"marker\": {\"color\": \"#00cc96\"}, \"mode\": \"markers\", \"name\": \"Guinea-Bissau\", \"showlegend\": true, \"subplot\": \"mapbox\", \"type\": \"scattermapbox\"}, {\"hovertemplate\": \"country=Guyana<br>lat=%{lat}<br>long=%{lon}<extra></extra>\", \"lat\": [4.860416000000001], \"legendgroup\": \"Guyana\", \"lon\": [-58.93018000000001], \"marker\": {\"color\": \"#ab63fa\"}, \"mode\": \"markers\", \"name\": \"Guyana\", \"showlegend\": true, \"subplot\": \"mapbox\", \"type\": \"scattermapbox\"}, {\"hovertemplate\": \"country=Haiti<br>lat=%{lat}<br>long=%{lon}<extra></extra>\", \"lat\": [18.9712], \"legendgroup\": \"Haiti\", \"lon\": [-72.2852], \"marker\": {\"color\": \"#FFA15A\"}, \"mode\": \"markers\", \"name\": \"Haiti\", \"showlegend\": true, \"subplot\": \"mapbox\", \"type\": \"scattermapbox\"}, {\"hovertemplate\": \"country=Holy See<br>lat=%{lat}<br>long=%{lon}<extra></extra>\", \"lat\": [41.9029], \"legendgroup\": \"Holy See\", \"lon\": [12.4534], \"marker\": {\"color\": \"#19d3f3\"}, \"mode\": \"markers\", \"name\": \"Holy See\", \"showlegend\": true, \"subplot\": \"mapbox\", \"type\": \"scattermapbox\"}, {\"hovertemplate\": \"country=Honduras<br>lat=%{lat}<br>long=%{lon}<extra></extra>\", \"lat\": [15.2], \"legendgroup\": \"Honduras\", \"lon\": [-86.2419], \"marker\": {\"color\": \"#FF6692\"}, \"mode\": \"markers\", \"name\": \"Honduras\", \"showlegend\": true, \"subplot\": \"mapbox\", \"type\": \"scattermapbox\"}, {\"hovertemplate\": \"country=Hungary<br>lat=%{lat}<br>long=%{lon}<extra></extra>\", \"lat\": [47.1625], \"legendgroup\": \"Hungary\", \"lon\": [19.5033], \"marker\": {\"color\": \"#B6E880\"}, \"mode\": \"markers\", \"name\": \"Hungary\", \"showlegend\": true, \"subplot\": \"mapbox\", \"type\": \"scattermapbox\"}, {\"hovertemplate\": \"country=Iceland<br>lat=%{lat}<br>long=%{lon}<extra></extra>\", \"lat\": [64.9631], \"legendgroup\": \"Iceland\", \"lon\": [-19.0208], \"marker\": {\"color\": \"#FF97FF\"}, \"mode\": \"markers\", \"name\": \"Iceland\", \"showlegend\": true, \"subplot\": \"mapbox\", \"type\": \"scattermapbox\"}, {\"hovertemplate\": \"country=India<br>lat=%{lat}<br>long=%{lon}<extra></extra>\", \"lat\": [20.593684], \"legendgroup\": \"India\", \"lon\": [78.96288], \"marker\": {\"color\": \"#FECB52\"}, \"mode\": \"markers\", \"name\": \"India\", \"showlegend\": true, \"subplot\": \"mapbox\", \"type\": \"scattermapbox\"}, {\"hovertemplate\": \"country=Indonesia<br>lat=%{lat}<br>long=%{lon}<extra></extra>\", \"lat\": [-0.7893], \"legendgroup\": \"Indonesia\", \"lon\": [113.9213], \"marker\": {\"color\": \"#636efa\"}, \"mode\": \"markers\", \"name\": \"Indonesia\", \"showlegend\": true, \"subplot\": \"mapbox\", \"type\": \"scattermapbox\"}, {\"hovertemplate\": \"country=Iran<br>lat=%{lat}<br>long=%{lon}<extra></extra>\", \"lat\": [32.427908], \"legendgroup\": \"Iran\", \"lon\": [53.68804599999999], \"marker\": {\"color\": \"#EF553B\"}, \"mode\": \"markers\", \"name\": \"Iran\", \"showlegend\": true, \"subplot\": \"mapbox\", \"type\": \"scattermapbox\"}, {\"hovertemplate\": \"country=Iraq<br>lat=%{lat}<br>long=%{lon}<extra></extra>\", \"lat\": [33.223191], \"legendgroup\": \"Iraq\", \"lon\": [43.679291], \"marker\": {\"color\": \"#00cc96\"}, \"mode\": \"markers\", \"name\": \"Iraq\", \"showlegend\": true, \"subplot\": \"mapbox\", \"type\": \"scattermapbox\"}, {\"hovertemplate\": \"country=Ireland<br>lat=%{lat}<br>long=%{lon}<extra></extra>\", \"lat\": [53.1424], \"legendgroup\": \"Ireland\", \"lon\": [-7.6921], \"marker\": {\"color\": \"#ab63fa\"}, \"mode\": \"markers\", \"name\": \"Ireland\", \"showlegend\": true, \"subplot\": \"mapbox\", \"type\": \"scattermapbox\"}, {\"hovertemplate\": \"country=Israel<br>lat=%{lat}<br>long=%{lon}<extra></extra>\", \"lat\": [31.046051000000002], \"legendgroup\": \"Israel\", \"lon\": [34.851612], \"marker\": {\"color\": \"#FFA15A\"}, \"mode\": \"markers\", \"name\": \"Israel\", \"showlegend\": true, \"subplot\": \"mapbox\", \"type\": \"scattermapbox\"}, {\"hovertemplate\": \"country=Italy<br>lat=%{lat}<br>long=%{lon}<extra></extra>\", \"lat\": [41.87194], \"legendgroup\": \"Italy\", \"lon\": [12.56738], \"marker\": {\"color\": \"#19d3f3\"}, \"mode\": \"markers\", \"name\": \"Italy\", \"showlegend\": true, \"subplot\": \"mapbox\", \"type\": \"scattermapbox\"}, {\"hovertemplate\": \"country=Jamaica<br>lat=%{lat}<br>long=%{lon}<extra></extra>\", \"lat\": [18.1096], \"legendgroup\": \"Jamaica\", \"lon\": [-77.2975], \"marker\": {\"color\": \"#FF6692\"}, \"mode\": \"markers\", \"name\": \"Jamaica\", \"showlegend\": true, \"subplot\": \"mapbox\", \"type\": \"scattermapbox\"}, {\"hovertemplate\": \"country=Japan<br>lat=%{lat}<br>long=%{lon}<extra></extra>\", \"lat\": [36.204824], \"legendgroup\": \"Japan\", \"lon\": [138.252924], \"marker\": {\"color\": \"#B6E880\"}, \"mode\": \"markers\", \"name\": \"Japan\", \"showlegend\": true, \"subplot\": \"mapbox\", \"type\": \"scattermapbox\"}, {\"hovertemplate\": \"country=Jordan<br>lat=%{lat}<br>long=%{lon}<extra></extra>\", \"lat\": [31.24], \"legendgroup\": \"Jordan\", \"lon\": [36.51], \"marker\": {\"color\": \"#FF97FF\"}, \"mode\": \"markers\", \"name\": \"Jordan\", \"showlegend\": true, \"subplot\": \"mapbox\", \"type\": \"scattermapbox\"}, {\"hovertemplate\": \"country=Kazakhstan<br>lat=%{lat}<br>long=%{lon}<extra></extra>\", \"lat\": [48.0196], \"legendgroup\": \"Kazakhstan\", \"lon\": [66.9237], \"marker\": {\"color\": \"#FECB52\"}, \"mode\": \"markers\", \"name\": \"Kazakhstan\", \"showlegend\": true, \"subplot\": \"mapbox\", \"type\": \"scattermapbox\"}, {\"hovertemplate\": \"country=Kenya<br>lat=%{lat}<br>long=%{lon}<extra></extra>\", \"lat\": [-0.0236], \"legendgroup\": \"Kenya\", \"lon\": [37.9062], \"marker\": {\"color\": \"#636efa\"}, \"mode\": \"markers\", \"name\": \"Kenya\", \"showlegend\": true, \"subplot\": \"mapbox\", \"type\": \"scattermapbox\"}, {\"hovertemplate\": \"country=Korea, South<br>lat=%{lat}<br>long=%{lon}<extra></extra>\", \"lat\": [35.907757000000004], \"legendgroup\": \"Korea, South\", \"lon\": [127.766922], \"marker\": {\"color\": \"#EF553B\"}, \"mode\": \"markers\", \"name\": \"Korea, South\", \"showlegend\": true, \"subplot\": \"mapbox\", \"type\": \"scattermapbox\"}, {\"hovertemplate\": \"country=Kosovo<br>lat=%{lat}<br>long=%{lon}<extra></extra>\", \"lat\": [42.602636], \"legendgroup\": \"Kosovo\", \"lon\": [20.902977], \"marker\": {\"color\": \"#00cc96\"}, \"mode\": \"markers\", \"name\": \"Kosovo\", \"showlegend\": true, \"subplot\": \"mapbox\", \"type\": \"scattermapbox\"}, {\"hovertemplate\": \"country=Kuwait<br>lat=%{lat}<br>long=%{lon}<extra></extra>\", \"lat\": [29.311659999999996], \"legendgroup\": \"Kuwait\", \"lon\": [47.481766], \"marker\": {\"color\": \"#ab63fa\"}, \"mode\": \"markers\", \"name\": \"Kuwait\", \"showlegend\": true, \"subplot\": \"mapbox\", \"type\": \"scattermapbox\"}, {\"hovertemplate\": \"country=Kyrgyzstan<br>lat=%{lat}<br>long=%{lon}<extra></extra>\", \"lat\": [41.20438], \"legendgroup\": \"Kyrgyzstan\", \"lon\": [74.766098], \"marker\": {\"color\": \"#FFA15A\"}, \"mode\": \"markers\", \"name\": \"Kyrgyzstan\", \"showlegend\": true, \"subplot\": \"mapbox\", \"type\": \"scattermapbox\"}, {\"hovertemplate\": \"country=Laos<br>lat=%{lat}<br>long=%{lon}<extra></extra>\", \"lat\": [19.856270000000002], \"legendgroup\": \"Laos\", \"lon\": [102.495496], \"marker\": {\"color\": \"#19d3f3\"}, \"mode\": \"markers\", \"name\": \"Laos\", \"showlegend\": true, \"subplot\": \"mapbox\", \"type\": \"scattermapbox\"}, {\"hovertemplate\": \"country=Latvia<br>lat=%{lat}<br>long=%{lon}<extra></extra>\", \"lat\": [56.8796], \"legendgroup\": \"Latvia\", \"lon\": [24.6032], \"marker\": {\"color\": \"#FF6692\"}, \"mode\": \"markers\", \"name\": \"Latvia\", \"showlegend\": true, \"subplot\": \"mapbox\", \"type\": \"scattermapbox\"}, {\"hovertemplate\": \"country=Lebanon<br>lat=%{lat}<br>long=%{lon}<extra></extra>\", \"lat\": [33.8547], \"legendgroup\": \"Lebanon\", \"lon\": [35.8623], \"marker\": {\"color\": \"#B6E880\"}, \"mode\": \"markers\", \"name\": \"Lebanon\", \"showlegend\": true, \"subplot\": \"mapbox\", \"type\": \"scattermapbox\"}, {\"hovertemplate\": \"country=Lesotho<br>lat=%{lat}<br>long=%{lon}<extra></extra>\", \"lat\": [-29.61], \"legendgroup\": \"Lesotho\", \"lon\": [28.2336], \"marker\": {\"color\": \"#FF97FF\"}, \"mode\": \"markers\", \"name\": \"Lesotho\", \"showlegend\": true, \"subplot\": \"mapbox\", \"type\": \"scattermapbox\"}, {\"hovertemplate\": \"country=Liberia<br>lat=%{lat}<br>long=%{lon}<extra></extra>\", \"lat\": [6.4280550000000005], \"legendgroup\": \"Liberia\", \"lon\": [-9.429499], \"marker\": {\"color\": \"#FECB52\"}, \"mode\": \"markers\", \"name\": \"Liberia\", \"showlegend\": true, \"subplot\": \"mapbox\", \"type\": \"scattermapbox\"}, {\"hovertemplate\": \"country=Libya<br>lat=%{lat}<br>long=%{lon}<extra></extra>\", \"lat\": [26.3351], \"legendgroup\": \"Libya\", \"lon\": [17.228331], \"marker\": {\"color\": \"#636efa\"}, \"mode\": \"markers\", \"name\": \"Libya\", \"showlegend\": true, \"subplot\": \"mapbox\", \"type\": \"scattermapbox\"}, {\"hovertemplate\": \"country=Liechtenstein<br>lat=%{lat}<br>long=%{lon}<extra></extra>\", \"lat\": [47.14], \"legendgroup\": \"Liechtenstein\", \"lon\": [9.55], \"marker\": {\"color\": \"#EF553B\"}, \"mode\": \"markers\", \"name\": \"Liechtenstein\", \"showlegend\": true, \"subplot\": \"mapbox\", \"type\": \"scattermapbox\"}, {\"hovertemplate\": \"country=Lithuania<br>lat=%{lat}<br>long=%{lon}<extra></extra>\", \"lat\": [55.1694], \"legendgroup\": \"Lithuania\", \"lon\": [23.8813], \"marker\": {\"color\": \"#00cc96\"}, \"mode\": \"markers\", \"name\": \"Lithuania\", \"showlegend\": true, \"subplot\": \"mapbox\", \"type\": \"scattermapbox\"}, {\"hovertemplate\": \"country=Luxembourg<br>lat=%{lat}<br>long=%{lon}<extra></extra>\", \"lat\": [49.8153], \"legendgroup\": \"Luxembourg\", \"lon\": [6.1296], \"marker\": {\"color\": \"#ab63fa\"}, \"mode\": \"markers\", \"name\": \"Luxembourg\", \"showlegend\": true, \"subplot\": \"mapbox\", \"type\": \"scattermapbox\"}, {\"hovertemplate\": \"country=MS Zaandam<br>lat=%{lat}<br>long=%{lon}<extra></extra>\", \"lat\": [0.0], \"legendgroup\": \"MS Zaandam\", \"lon\": [0.0], \"marker\": {\"color\": \"#FFA15A\"}, \"mode\": \"markers\", \"name\": \"MS Zaandam\", \"showlegend\": true, \"subplot\": \"mapbox\", \"type\": \"scattermapbox\"}, {\"hovertemplate\": \"country=Madagascar<br>lat=%{lat}<br>long=%{lon}<extra></extra>\", \"lat\": [-18.766947000000002], \"legendgroup\": \"Madagascar\", \"lon\": [46.869107], \"marker\": {\"color\": \"#19d3f3\"}, \"mode\": \"markers\", \"name\": \"Madagascar\", \"showlegend\": true, \"subplot\": \"mapbox\", \"type\": \"scattermapbox\"}, {\"hovertemplate\": \"country=Malawi<br>lat=%{lat}<br>long=%{lon}<extra></extra>\", \"lat\": [-13.2543], \"legendgroup\": \"Malawi\", \"lon\": [34.3015], \"marker\": {\"color\": \"#FF6692\"}, \"mode\": \"markers\", \"name\": \"Malawi\", \"showlegend\": true, \"subplot\": \"mapbox\", \"type\": \"scattermapbox\"}, {\"hovertemplate\": \"country=Malaysia<br>lat=%{lat}<br>long=%{lon}<extra></extra>\", \"lat\": [4.210483999999999], \"legendgroup\": \"Malaysia\", \"lon\": [101.97576600000001], \"marker\": {\"color\": \"#B6E880\"}, \"mode\": \"markers\", \"name\": \"Malaysia\", \"showlegend\": true, \"subplot\": \"mapbox\", \"type\": \"scattermapbox\"}, {\"hovertemplate\": \"country=Maldives<br>lat=%{lat}<br>long=%{lon}<extra></extra>\", \"lat\": [3.2028], \"legendgroup\": \"Maldives\", \"lon\": [73.2207], \"marker\": {\"color\": \"#FF97FF\"}, \"mode\": \"markers\", \"name\": \"Maldives\", \"showlegend\": true, \"subplot\": \"mapbox\", \"type\": \"scattermapbox\"}, {\"hovertemplate\": \"country=Mali<br>lat=%{lat}<br>long=%{lon}<extra></extra>\", \"lat\": [17.570692], \"legendgroup\": \"Mali\", \"lon\": [-3.9961660000000006], \"marker\": {\"color\": \"#FECB52\"}, \"mode\": \"markers\", \"name\": \"Mali\", \"showlegend\": true, \"subplot\": \"mapbox\", \"type\": \"scattermapbox\"}, {\"hovertemplate\": \"country=Malta<br>lat=%{lat}<br>long=%{lon}<extra></extra>\", \"lat\": [35.9375], \"legendgroup\": \"Malta\", \"lon\": [14.3754], \"marker\": {\"color\": \"#636efa\"}, \"mode\": \"markers\", \"name\": \"Malta\", \"showlegend\": true, \"subplot\": \"mapbox\", \"type\": \"scattermapbox\"}, {\"hovertemplate\": \"country=Marshall Islands<br>lat=%{lat}<br>long=%{lon}<extra></extra>\", \"lat\": [7.1315], \"legendgroup\": \"Marshall Islands\", \"lon\": [171.1845], \"marker\": {\"color\": \"#EF553B\"}, \"mode\": \"markers\", \"name\": \"Marshall Islands\", \"showlegend\": true, \"subplot\": \"mapbox\", \"type\": \"scattermapbox\"}, {\"hovertemplate\": \"country=Mauritania<br>lat=%{lat}<br>long=%{lon}<extra></extra>\", \"lat\": [21.0079], \"legendgroup\": \"Mauritania\", \"lon\": [-10.9408], \"marker\": {\"color\": \"#00cc96\"}, \"mode\": \"markers\", \"name\": \"Mauritania\", \"showlegend\": true, \"subplot\": \"mapbox\", \"type\": \"scattermapbox\"}, {\"hovertemplate\": \"country=Mauritius<br>lat=%{lat}<br>long=%{lon}<extra></extra>\", \"lat\": [-20.348404000000002], \"legendgroup\": \"Mauritius\", \"lon\": [57.552152], \"marker\": {\"color\": \"#ab63fa\"}, \"mode\": \"markers\", \"name\": \"Mauritius\", \"showlegend\": true, \"subplot\": \"mapbox\", \"type\": \"scattermapbox\"}, {\"hovertemplate\": \"country=Mexico<br>lat=%{lat}<br>long=%{lon}<extra></extra>\", \"lat\": [23.6345], \"legendgroup\": \"Mexico\", \"lon\": [-102.5528], \"marker\": {\"color\": \"#FFA15A\"}, \"mode\": \"markers\", \"name\": \"Mexico\", \"showlegend\": true, \"subplot\": \"mapbox\", \"type\": \"scattermapbox\"}, {\"hovertemplate\": \"country=Micronesia<br>lat=%{lat}<br>long=%{lon}<extra></extra>\", \"lat\": [7.4256], \"legendgroup\": \"Micronesia\", \"lon\": [150.5508], \"marker\": {\"color\": \"#19d3f3\"}, \"mode\": \"markers\", \"name\": \"Micronesia\", \"showlegend\": true, \"subplot\": \"mapbox\", \"type\": \"scattermapbox\"}, {\"hovertemplate\": \"country=Moldova<br>lat=%{lat}<br>long=%{lon}<extra></extra>\", \"lat\": [47.4116], \"legendgroup\": \"Moldova\", \"lon\": [28.3699], \"marker\": {\"color\": \"#FF6692\"}, \"mode\": \"markers\", \"name\": \"Moldova\", \"showlegend\": true, \"subplot\": \"mapbox\", \"type\": \"scattermapbox\"}, {\"hovertemplate\": \"country=Monaco<br>lat=%{lat}<br>long=%{lon}<extra></extra>\", \"lat\": [43.7333], \"legendgroup\": \"Monaco\", \"lon\": [7.4167], \"marker\": {\"color\": \"#B6E880\"}, \"mode\": \"markers\", \"name\": \"Monaco\", \"showlegend\": true, \"subplot\": \"mapbox\", \"type\": \"scattermapbox\"}, {\"hovertemplate\": \"country=Mongolia<br>lat=%{lat}<br>long=%{lon}<extra></extra>\", \"lat\": [46.8625], \"legendgroup\": \"Mongolia\", \"lon\": [103.8467], \"marker\": {\"color\": \"#FF97FF\"}, \"mode\": \"markers\", \"name\": \"Mongolia\", \"showlegend\": true, \"subplot\": \"mapbox\", \"type\": \"scattermapbox\"}, {\"hovertemplate\": \"country=Montenegro<br>lat=%{lat}<br>long=%{lon}<extra></extra>\", \"lat\": [42.708678000000006], \"legendgroup\": \"Montenegro\", \"lon\": [19.37439], \"marker\": {\"color\": \"#FECB52\"}, \"mode\": \"markers\", \"name\": \"Montenegro\", \"showlegend\": true, \"subplot\": \"mapbox\", \"type\": \"scattermapbox\"}, {\"hovertemplate\": \"country=Morocco<br>lat=%{lat}<br>long=%{lon}<extra></extra>\", \"lat\": [31.7917], \"legendgroup\": \"Morocco\", \"lon\": [-7.0926], \"marker\": {\"color\": \"#636efa\"}, \"mode\": \"markers\", \"name\": \"Morocco\", \"showlegend\": true, \"subplot\": \"mapbox\", \"type\": \"scattermapbox\"}, {\"hovertemplate\": \"country=Mozambique<br>lat=%{lat}<br>long=%{lon}<extra></extra>\", \"lat\": [-18.665695], \"legendgroup\": \"Mozambique\", \"lon\": [35.529562], \"marker\": {\"color\": \"#EF553B\"}, \"mode\": \"markers\", \"name\": \"Mozambique\", \"showlegend\": true, \"subplot\": \"mapbox\", \"type\": \"scattermapbox\"}, {\"hovertemplate\": \"country=Namibia<br>lat=%{lat}<br>long=%{lon}<extra></extra>\", \"lat\": [-22.9576], \"legendgroup\": \"Namibia\", \"lon\": [18.4904], \"marker\": {\"color\": \"#00cc96\"}, \"mode\": \"markers\", \"name\": \"Namibia\", \"showlegend\": true, \"subplot\": \"mapbox\", \"type\": \"scattermapbox\"}, {\"hovertemplate\": \"country=Nepal<br>lat=%{lat}<br>long=%{lon}<extra></extra>\", \"lat\": [28.1667], \"legendgroup\": \"Nepal\", \"lon\": [84.25], \"marker\": {\"color\": \"#ab63fa\"}, \"mode\": \"markers\", \"name\": \"Nepal\", \"showlegend\": true, \"subplot\": \"mapbox\", \"type\": \"scattermapbox\"}, {\"hovertemplate\": \"country=Netherlands<br>lat=%{lat}<br>long=%{lon}<extra></extra>\", \"lat\": [12.5211, 12.1784, 12.1696, 18.0425, 52.1326], \"legendgroup\": \"Netherlands\", \"lon\": [-69.9683, -68.2385, -68.99, -63.0548, 5.2913], \"marker\": {\"color\": \"#FFA15A\"}, \"mode\": \"markers\", \"name\": \"Netherlands\", \"showlegend\": true, \"subplot\": \"mapbox\", \"type\": \"scattermapbox\"}, {\"hovertemplate\": \"country=New Zealand<br>lat=%{lat}<br>long=%{lon}<extra></extra>\", \"lat\": [-40.9006], \"legendgroup\": \"New Zealand\", \"lon\": [174.886], \"marker\": {\"color\": \"#19d3f3\"}, \"mode\": \"markers\", \"name\": \"New Zealand\", \"showlegend\": true, \"subplot\": \"mapbox\", \"type\": \"scattermapbox\"}, {\"hovertemplate\": \"country=Nicaragua<br>lat=%{lat}<br>long=%{lon}<extra></extra>\", \"lat\": [12.865416], \"legendgroup\": \"Nicaragua\", \"lon\": [-85.207229], \"marker\": {\"color\": \"#FF6692\"}, \"mode\": \"markers\", \"name\": \"Nicaragua\", \"showlegend\": true, \"subplot\": \"mapbox\", \"type\": \"scattermapbox\"}, {\"hovertemplate\": \"country=Niger<br>lat=%{lat}<br>long=%{lon}<extra></extra>\", \"lat\": [17.607789], \"legendgroup\": \"Niger\", \"lon\": [8.081666], \"marker\": {\"color\": \"#B6E880\"}, \"mode\": \"markers\", \"name\": \"Niger\", \"showlegend\": true, \"subplot\": \"mapbox\", \"type\": \"scattermapbox\"}, {\"hovertemplate\": \"country=Nigeria<br>lat=%{lat}<br>long=%{lon}<extra></extra>\", \"lat\": [9.082], \"legendgroup\": \"Nigeria\", \"lon\": [8.6753], \"marker\": {\"color\": \"#FF97FF\"}, \"mode\": \"markers\", \"name\": \"Nigeria\", \"showlegend\": true, \"subplot\": \"mapbox\", \"type\": \"scattermapbox\"}, {\"hovertemplate\": \"country=North Macedonia<br>lat=%{lat}<br>long=%{lon}<extra></extra>\", \"lat\": [41.6086], \"legendgroup\": \"North Macedonia\", \"lon\": [21.7453], \"marker\": {\"color\": \"#FECB52\"}, \"mode\": \"markers\", \"name\": \"North Macedonia\", \"showlegend\": true, \"subplot\": \"mapbox\", \"type\": \"scattermapbox\"}, {\"hovertemplate\": \"country=Norway<br>lat=%{lat}<br>long=%{lon}<extra></extra>\", \"lat\": [60.472], \"legendgroup\": \"Norway\", \"lon\": [8.4689], \"marker\": {\"color\": \"#636efa\"}, \"mode\": \"markers\", \"name\": \"Norway\", \"showlegend\": true, \"subplot\": \"mapbox\", \"type\": \"scattermapbox\"}, {\"hovertemplate\": \"country=Oman<br>lat=%{lat}<br>long=%{lon}<extra></extra>\", \"lat\": [21.512583], \"legendgroup\": \"Oman\", \"lon\": [55.923255000000005], \"marker\": {\"color\": \"#EF553B\"}, \"mode\": \"markers\", \"name\": \"Oman\", \"showlegend\": true, \"subplot\": \"mapbox\", \"type\": \"scattermapbox\"}, {\"hovertemplate\": \"country=Pakistan<br>lat=%{lat}<br>long=%{lon}<extra></extra>\", \"lat\": [30.3753], \"legendgroup\": \"Pakistan\", \"lon\": [69.3451], \"marker\": {\"color\": \"#00cc96\"}, \"mode\": \"markers\", \"name\": \"Pakistan\", \"showlegend\": true, \"subplot\": \"mapbox\", \"type\": \"scattermapbox\"}, {\"hovertemplate\": \"country=Panama<br>lat=%{lat}<br>long=%{lon}<extra></extra>\", \"lat\": [8.538], \"legendgroup\": \"Panama\", \"lon\": [-80.7821], \"marker\": {\"color\": \"#ab63fa\"}, \"mode\": \"markers\", \"name\": \"Panama\", \"showlegend\": true, \"subplot\": \"mapbox\", \"type\": \"scattermapbox\"}, {\"hovertemplate\": \"country=Papua New Guinea<br>lat=%{lat}<br>long=%{lon}<extra></extra>\", \"lat\": [-6.314993], \"legendgroup\": \"Papua New Guinea\", \"lon\": [143.95555], \"marker\": {\"color\": \"#FFA15A\"}, \"mode\": \"markers\", \"name\": \"Papua New Guinea\", \"showlegend\": true, \"subplot\": \"mapbox\", \"type\": \"scattermapbox\"}, {\"hovertemplate\": \"country=Paraguay<br>lat=%{lat}<br>long=%{lon}<extra></extra>\", \"lat\": [-23.4425], \"legendgroup\": \"Paraguay\", \"lon\": [-58.4438], \"marker\": {\"color\": \"#19d3f3\"}, \"mode\": \"markers\", \"name\": \"Paraguay\", \"showlegend\": true, \"subplot\": \"mapbox\", \"type\": \"scattermapbox\"}, {\"hovertemplate\": \"country=Peru<br>lat=%{lat}<br>long=%{lon}<extra></extra>\", \"lat\": [-9.19], \"legendgroup\": \"Peru\", \"lon\": [-75.0152], \"marker\": {\"color\": \"#FF6692\"}, \"mode\": \"markers\", \"name\": \"Peru\", \"showlegend\": true, \"subplot\": \"mapbox\", \"type\": \"scattermapbox\"}, {\"hovertemplate\": \"country=Philippines<br>lat=%{lat}<br>long=%{lon}<extra></extra>\", \"lat\": [12.879721], \"legendgroup\": \"Philippines\", \"lon\": [121.77401699999999], \"marker\": {\"color\": \"#B6E880\"}, \"mode\": \"markers\", \"name\": \"Philippines\", \"showlegend\": true, \"subplot\": \"mapbox\", \"type\": \"scattermapbox\"}, {\"hovertemplate\": \"country=Poland<br>lat=%{lat}<br>long=%{lon}<extra></extra>\", \"lat\": [51.9194], \"legendgroup\": \"Poland\", \"lon\": [19.1451], \"marker\": {\"color\": \"#FF97FF\"}, \"mode\": \"markers\", \"name\": \"Poland\", \"showlegend\": true, \"subplot\": \"mapbox\", \"type\": \"scattermapbox\"}, {\"hovertemplate\": \"country=Portugal<br>lat=%{lat}<br>long=%{lon}<extra></extra>\", \"lat\": [39.3999], \"legendgroup\": \"Portugal\", \"lon\": [-8.2245], \"marker\": {\"color\": \"#FECB52\"}, \"mode\": \"markers\", \"name\": \"Portugal\", \"showlegend\": true, \"subplot\": \"mapbox\", \"type\": \"scattermapbox\"}, {\"hovertemplate\": \"country=Qatar<br>lat=%{lat}<br>long=%{lon}<extra></extra>\", \"lat\": [25.3548], \"legendgroup\": \"Qatar\", \"lon\": [51.1839], \"marker\": {\"color\": \"#636efa\"}, \"mode\": \"markers\", \"name\": \"Qatar\", \"showlegend\": true, \"subplot\": \"mapbox\", \"type\": \"scattermapbox\"}, {\"hovertemplate\": \"country=Romania<br>lat=%{lat}<br>long=%{lon}<extra></extra>\", \"lat\": [45.9432], \"legendgroup\": \"Romania\", \"lon\": [24.9668], \"marker\": {\"color\": \"#EF553B\"}, \"mode\": \"markers\", \"name\": \"Romania\", \"showlegend\": true, \"subplot\": \"mapbox\", \"type\": \"scattermapbox\"}, {\"hovertemplate\": \"country=Russia<br>lat=%{lat}<br>long=%{lon}<extra></extra>\", \"lat\": [61.52401], \"legendgroup\": \"Russia\", \"lon\": [105.31875600000001], \"marker\": {\"color\": \"#00cc96\"}, \"mode\": \"markers\", \"name\": \"Russia\", \"showlegend\": true, \"subplot\": \"mapbox\", \"type\": \"scattermapbox\"}, {\"hovertemplate\": \"country=Rwanda<br>lat=%{lat}<br>long=%{lon}<extra></extra>\", \"lat\": [-1.9403], \"legendgroup\": \"Rwanda\", \"lon\": [29.8739], \"marker\": {\"color\": \"#ab63fa\"}, \"mode\": \"markers\", \"name\": \"Rwanda\", \"showlegend\": true, \"subplot\": \"mapbox\", \"type\": \"scattermapbox\"}, {\"hovertemplate\": \"country=Saint Kitts and Nevis<br>lat=%{lat}<br>long=%{lon}<extra></extra>\", \"lat\": [17.357822], \"legendgroup\": \"Saint Kitts and Nevis\", \"lon\": [-62.782998], \"marker\": {\"color\": \"#FFA15A\"}, \"mode\": \"markers\", \"name\": \"Saint Kitts and Nevis\", \"showlegend\": true, \"subplot\": \"mapbox\", \"type\": \"scattermapbox\"}, {\"hovertemplate\": \"country=Saint Lucia<br>lat=%{lat}<br>long=%{lon}<extra></extra>\", \"lat\": [13.9094], \"legendgroup\": \"Saint Lucia\", \"lon\": [-60.9789], \"marker\": {\"color\": \"#19d3f3\"}, \"mode\": \"markers\", \"name\": \"Saint Lucia\", \"showlegend\": true, \"subplot\": \"mapbox\", \"type\": \"scattermapbox\"}, {\"hovertemplate\": \"country=Saint Vincent and the Grenadines<br>lat=%{lat}<br>long=%{lon}<extra></extra>\", \"lat\": [12.9843], \"legendgroup\": \"Saint Vincent and the Grenadines\", \"lon\": [-61.2872], \"marker\": {\"color\": \"#FF6692\"}, \"mode\": \"markers\", \"name\": \"Saint Vincent and the Grenadines\", \"showlegend\": true, \"subplot\": \"mapbox\", \"type\": \"scattermapbox\"}, {\"hovertemplate\": \"country=Samoa<br>lat=%{lat}<br>long=%{lon}<extra></extra>\", \"lat\": [-13.759], \"legendgroup\": \"Samoa\", \"lon\": [-172.1046], \"marker\": {\"color\": \"#B6E880\"}, \"mode\": \"markers\", \"name\": \"Samoa\", \"showlegend\": true, \"subplot\": \"mapbox\", \"type\": \"scattermapbox\"}, {\"hovertemplate\": \"country=San Marino<br>lat=%{lat}<br>long=%{lon}<extra></extra>\", \"lat\": [43.9424], \"legendgroup\": \"San Marino\", \"lon\": [12.4578], \"marker\": {\"color\": \"#FF97FF\"}, \"mode\": \"markers\", \"name\": \"San Marino\", \"showlegend\": true, \"subplot\": \"mapbox\", \"type\": \"scattermapbox\"}, {\"hovertemplate\": \"country=Sao Tome and Principe<br>lat=%{lat}<br>long=%{lon}<extra></extra>\", \"lat\": [0.1864], \"legendgroup\": \"Sao Tome and Principe\", \"lon\": [6.6131], \"marker\": {\"color\": \"#FECB52\"}, \"mode\": \"markers\", \"name\": \"Sao Tome and Principe\", \"showlegend\": true, \"subplot\": \"mapbox\", \"type\": \"scattermapbox\"}, {\"hovertemplate\": \"country=Saudi Arabia<br>lat=%{lat}<br>long=%{lon}<extra></extra>\", \"lat\": [23.885942], \"legendgroup\": \"Saudi Arabia\", \"lon\": [45.079162], \"marker\": {\"color\": \"#636efa\"}, \"mode\": \"markers\", \"name\": \"Saudi Arabia\", \"showlegend\": true, \"subplot\": \"mapbox\", \"type\": \"scattermapbox\"}, {\"hovertemplate\": \"country=Senegal<br>lat=%{lat}<br>long=%{lon}<extra></extra>\", \"lat\": [14.4974], \"legendgroup\": \"Senegal\", \"lon\": [-14.4524], \"marker\": {\"color\": \"#EF553B\"}, \"mode\": \"markers\", \"name\": \"Senegal\", \"showlegend\": true, \"subplot\": \"mapbox\", \"type\": \"scattermapbox\"}, {\"hovertemplate\": \"country=Serbia<br>lat=%{lat}<br>long=%{lon}<extra></extra>\", \"lat\": [44.0165], \"legendgroup\": \"Serbia\", \"lon\": [21.0059], \"marker\": {\"color\": \"#00cc96\"}, \"mode\": \"markers\", \"name\": \"Serbia\", \"showlegend\": true, \"subplot\": \"mapbox\", \"type\": \"scattermapbox\"}, {\"hovertemplate\": \"country=Seychelles<br>lat=%{lat}<br>long=%{lon}<extra></extra>\", \"lat\": [-4.6796], \"legendgroup\": \"Seychelles\", \"lon\": [55.492], \"marker\": {\"color\": \"#ab63fa\"}, \"mode\": \"markers\", \"name\": \"Seychelles\", \"showlegend\": true, \"subplot\": \"mapbox\", \"type\": \"scattermapbox\"}, {\"hovertemplate\": \"country=Sierra Leone<br>lat=%{lat}<br>long=%{lon}<extra></extra>\", \"lat\": [8.460555000000001], \"legendgroup\": \"Sierra Leone\", \"lon\": [-11.779889], \"marker\": {\"color\": \"#FFA15A\"}, \"mode\": \"markers\", \"name\": \"Sierra Leone\", \"showlegend\": true, \"subplot\": \"mapbox\", \"type\": \"scattermapbox\"}, {\"hovertemplate\": \"country=Singapore<br>lat=%{lat}<br>long=%{lon}<extra></extra>\", \"lat\": [1.2833], \"legendgroup\": \"Singapore\", \"lon\": [103.8333], \"marker\": {\"color\": \"#19d3f3\"}, \"mode\": \"markers\", \"name\": \"Singapore\", \"showlegend\": true, \"subplot\": \"mapbox\", \"type\": \"scattermapbox\"}, {\"hovertemplate\": \"country=Slovakia<br>lat=%{lat}<br>long=%{lon}<extra></extra>\", \"lat\": [48.669], \"legendgroup\": \"Slovakia\", \"lon\": [19.699], \"marker\": {\"color\": \"#FF6692\"}, \"mode\": \"markers\", \"name\": \"Slovakia\", \"showlegend\": true, \"subplot\": \"mapbox\", \"type\": \"scattermapbox\"}, {\"hovertemplate\": \"country=Slovenia<br>lat=%{lat}<br>long=%{lon}<extra></extra>\", \"lat\": [46.1512], \"legendgroup\": \"Slovenia\", \"lon\": [14.9955], \"marker\": {\"color\": \"#B6E880\"}, \"mode\": \"markers\", \"name\": \"Slovenia\", \"showlegend\": true, \"subplot\": \"mapbox\", \"type\": \"scattermapbox\"}, {\"hovertemplate\": \"country=Solomon Islands<br>lat=%{lat}<br>long=%{lon}<extra></extra>\", \"lat\": [-9.6457], \"legendgroup\": \"Solomon Islands\", \"lon\": [160.1562], \"marker\": {\"color\": \"#FF97FF\"}, \"mode\": \"markers\", \"name\": \"Solomon Islands\", \"showlegend\": true, \"subplot\": \"mapbox\", \"type\": \"scattermapbox\"}, {\"hovertemplate\": \"country=Somalia<br>lat=%{lat}<br>long=%{lon}<extra></extra>\", \"lat\": [5.152149], \"legendgroup\": \"Somalia\", \"lon\": [46.199616], \"marker\": {\"color\": \"#FECB52\"}, \"mode\": \"markers\", \"name\": \"Somalia\", \"showlegend\": true, \"subplot\": \"mapbox\", \"type\": \"scattermapbox\"}, {\"hovertemplate\": \"country=South Africa<br>lat=%{lat}<br>long=%{lon}<extra></extra>\", \"lat\": [-30.5595], \"legendgroup\": \"South Africa\", \"lon\": [22.9375], \"marker\": {\"color\": \"#636efa\"}, \"mode\": \"markers\", \"name\": \"South Africa\", \"showlegend\": true, \"subplot\": \"mapbox\", \"type\": \"scattermapbox\"}, {\"hovertemplate\": \"country=South Sudan<br>lat=%{lat}<br>long=%{lon}<extra></extra>\", \"lat\": [6.877000000000001], \"legendgroup\": \"South Sudan\", \"lon\": [31.307], \"marker\": {\"color\": \"#EF553B\"}, \"mode\": \"markers\", \"name\": \"South Sudan\", \"showlegend\": true, \"subplot\": \"mapbox\", \"type\": \"scattermapbox\"}, {\"hovertemplate\": \"country=Spain<br>lat=%{lat}<br>long=%{lon}<extra></extra>\", \"lat\": [40.463667], \"legendgroup\": \"Spain\", \"lon\": [-3.7492199999999998], \"marker\": {\"color\": \"#00cc96\"}, \"mode\": \"markers\", \"name\": \"Spain\", \"showlegend\": true, \"subplot\": \"mapbox\", \"type\": \"scattermapbox\"}, {\"hovertemplate\": \"country=Sri Lanka<br>lat=%{lat}<br>long=%{lon}<extra></extra>\", \"lat\": [7.873054], \"legendgroup\": \"Sri Lanka\", \"lon\": [80.77179699999999], \"marker\": {\"color\": \"#ab63fa\"}, \"mode\": \"markers\", \"name\": \"Sri Lanka\", \"showlegend\": true, \"subplot\": \"mapbox\", \"type\": \"scattermapbox\"}, {\"hovertemplate\": \"country=Sudan<br>lat=%{lat}<br>long=%{lon}<extra></extra>\", \"lat\": [12.8628], \"legendgroup\": \"Sudan\", \"lon\": [30.2176], \"marker\": {\"color\": \"#FFA15A\"}, \"mode\": \"markers\", \"name\": \"Sudan\", \"showlegend\": true, \"subplot\": \"mapbox\", \"type\": \"scattermapbox\"}, {\"hovertemplate\": \"country=Suriname<br>lat=%{lat}<br>long=%{lon}<extra></extra>\", \"lat\": [3.9193], \"legendgroup\": \"Suriname\", \"lon\": [-56.0278], \"marker\": {\"color\": \"#19d3f3\"}, \"mode\": \"markers\", \"name\": \"Suriname\", \"showlegend\": true, \"subplot\": \"mapbox\", \"type\": \"scattermapbox\"}, {\"hovertemplate\": \"country=Sweden<br>lat=%{lat}<br>long=%{lon}<extra></extra>\", \"lat\": [60.128161], \"legendgroup\": \"Sweden\", \"lon\": [18.643501], \"marker\": {\"color\": \"#FF6692\"}, \"mode\": \"markers\", \"name\": \"Sweden\", \"showlegend\": true, \"subplot\": \"mapbox\", \"type\": \"scattermapbox\"}, {\"hovertemplate\": \"country=Switzerland<br>lat=%{lat}<br>long=%{lon}<extra></extra>\", \"lat\": [46.8182], \"legendgroup\": \"Switzerland\", \"lon\": [8.2275], \"marker\": {\"color\": \"#B6E880\"}, \"mode\": \"markers\", \"name\": \"Switzerland\", \"showlegend\": true, \"subplot\": \"mapbox\", \"type\": \"scattermapbox\"}, {\"hovertemplate\": \"country=Syria<br>lat=%{lat}<br>long=%{lon}<extra></extra>\", \"lat\": [34.802075], \"legendgroup\": \"Syria\", \"lon\": [38.996815000000005], \"marker\": {\"color\": \"#FF97FF\"}, \"mode\": \"markers\", \"name\": \"Syria\", \"showlegend\": true, \"subplot\": \"mapbox\", \"type\": \"scattermapbox\"}, {\"hovertemplate\": \"country=Taiwan*<br>lat=%{lat}<br>long=%{lon}<extra></extra>\", \"lat\": [23.7], \"legendgroup\": \"Taiwan*\", \"lon\": [121.0], \"marker\": {\"color\": \"#FECB52\"}, \"mode\": \"markers\", \"name\": \"Taiwan*\", \"showlegend\": true, \"subplot\": \"mapbox\", \"type\": \"scattermapbox\"}, {\"hovertemplate\": \"country=Tajikistan<br>lat=%{lat}<br>long=%{lon}<extra></extra>\", \"lat\": [38.861], \"legendgroup\": \"Tajikistan\", \"lon\": [71.2761], \"marker\": {\"color\": \"#636efa\"}, \"mode\": \"markers\", \"name\": \"Tajikistan\", \"showlegend\": true, \"subplot\": \"mapbox\", \"type\": \"scattermapbox\"}, {\"hovertemplate\": \"country=Tanzania<br>lat=%{lat}<br>long=%{lon}<extra></extra>\", \"lat\": [-6.369028], \"legendgroup\": \"Tanzania\", \"lon\": [34.888822], \"marker\": {\"color\": \"#EF553B\"}, \"mode\": \"markers\", \"name\": \"Tanzania\", \"showlegend\": true, \"subplot\": \"mapbox\", \"type\": \"scattermapbox\"}, {\"hovertemplate\": \"country=Thailand<br>lat=%{lat}<br>long=%{lon}<extra></extra>\", \"lat\": [15.870032], \"legendgroup\": \"Thailand\", \"lon\": [100.992541], \"marker\": {\"color\": \"#00cc96\"}, \"mode\": \"markers\", \"name\": \"Thailand\", \"showlegend\": true, \"subplot\": \"mapbox\", \"type\": \"scattermapbox\"}, {\"hovertemplate\": \"country=Timor-Leste<br>lat=%{lat}<br>long=%{lon}<extra></extra>\", \"lat\": [-8.874217], \"legendgroup\": \"Timor-Leste\", \"lon\": [125.727539], \"marker\": {\"color\": \"#ab63fa\"}, \"mode\": \"markers\", \"name\": \"Timor-Leste\", \"showlegend\": true, \"subplot\": \"mapbox\", \"type\": \"scattermapbox\"}, {\"hovertemplate\": \"country=Togo<br>lat=%{lat}<br>long=%{lon}<extra></extra>\", \"lat\": [8.6195], \"legendgroup\": \"Togo\", \"lon\": [0.8248], \"marker\": {\"color\": \"#FFA15A\"}, \"mode\": \"markers\", \"name\": \"Togo\", \"showlegend\": true, \"subplot\": \"mapbox\", \"type\": \"scattermapbox\"}, {\"hovertemplate\": \"country=Trinidad and Tobago<br>lat=%{lat}<br>long=%{lon}<extra></extra>\", \"lat\": [10.6918], \"legendgroup\": \"Trinidad and Tobago\", \"lon\": [-61.2225], \"marker\": {\"color\": \"#19d3f3\"}, \"mode\": \"markers\", \"name\": \"Trinidad and Tobago\", \"showlegend\": true, \"subplot\": \"mapbox\", \"type\": \"scattermapbox\"}, {\"hovertemplate\": \"country=Tunisia<br>lat=%{lat}<br>long=%{lon}<extra></extra>\", \"lat\": [33.886917], \"legendgroup\": \"Tunisia\", \"lon\": [9.537499], \"marker\": {\"color\": \"#FF6692\"}, \"mode\": \"markers\", \"name\": \"Tunisia\", \"showlegend\": true, \"subplot\": \"mapbox\", \"type\": \"scattermapbox\"}, {\"hovertemplate\": \"country=Turkey<br>lat=%{lat}<br>long=%{lon}<extra></extra>\", \"lat\": [38.9637], \"legendgroup\": \"Turkey\", \"lon\": [35.2433], \"marker\": {\"color\": \"#B6E880\"}, \"mode\": \"markers\", \"name\": \"Turkey\", \"showlegend\": true, \"subplot\": \"mapbox\", \"type\": \"scattermapbox\"}, {\"hovertemplate\": \"country=US<br>lat=%{lat}<br>long=%{lon}<extra></extra>\", \"lat\": [40.0], \"legendgroup\": \"US\", \"lon\": [-100.0], \"marker\": {\"color\": \"#FF97FF\"}, \"mode\": \"markers\", \"name\": \"US\", \"showlegend\": true, \"subplot\": \"mapbox\", \"type\": \"scattermapbox\"}, {\"hovertemplate\": \"country=Uganda<br>lat=%{lat}<br>long=%{lon}<extra></extra>\", \"lat\": [1.373333], \"legendgroup\": \"Uganda\", \"lon\": [32.290275], \"marker\": {\"color\": \"#FECB52\"}, \"mode\": \"markers\", \"name\": \"Uganda\", \"showlegend\": true, \"subplot\": \"mapbox\", \"type\": \"scattermapbox\"}, {\"hovertemplate\": \"country=Ukraine<br>lat=%{lat}<br>long=%{lon}<extra></extra>\", \"lat\": [48.3794], \"legendgroup\": \"Ukraine\", \"lon\": [31.1656], \"marker\": {\"color\": \"#636efa\"}, \"mode\": \"markers\", \"name\": \"Ukraine\", \"showlegend\": true, \"subplot\": \"mapbox\", \"type\": \"scattermapbox\"}, {\"hovertemplate\": \"country=United Arab Emirates<br>lat=%{lat}<br>long=%{lon}<extra></extra>\", \"lat\": [23.424076], \"legendgroup\": \"United Arab Emirates\", \"lon\": [53.847818000000004], \"marker\": {\"color\": \"#EF553B\"}, \"mode\": \"markers\", \"name\": \"United Arab Emirates\", \"showlegend\": true, \"subplot\": \"mapbox\", \"type\": \"scattermapbox\"}, {\"hovertemplate\": \"country=United Kingdom<br>lat=%{lat}<br>long=%{lon}<extra></extra>\", \"lat\": [18.2206, 32.3078, 18.4207, 19.3133, 49.3723, -51.7963, 36.1408, 54.2361, 16.742498, -7.9467, 21.694000000000003, 55.3781], \"legendgroup\": \"United Kingdom\", \"lon\": [-63.0686, -64.7505, -64.64, -81.2546, -2.3644, -59.5236, -5.3536, -4.5481, -62.187366000000004, -14.3559, -71.7979, -3.4360000000000004], \"marker\": {\"color\": \"#00cc96\"}, \"mode\": \"markers\", \"name\": \"United Kingdom\", \"showlegend\": true, \"subplot\": \"mapbox\", \"type\": \"scattermapbox\"}, {\"hovertemplate\": \"country=Uruguay<br>lat=%{lat}<br>long=%{lon}<extra></extra>\", \"lat\": [-32.5228], \"legendgroup\": \"Uruguay\", \"lon\": [-55.7658], \"marker\": {\"color\": \"#ab63fa\"}, \"mode\": \"markers\", \"name\": \"Uruguay\", \"showlegend\": true, \"subplot\": \"mapbox\", \"type\": \"scattermapbox\"}, {\"hovertemplate\": \"country=Uzbekistan<br>lat=%{lat}<br>long=%{lon}<extra></extra>\", \"lat\": [41.377491], \"legendgroup\": \"Uzbekistan\", \"lon\": [64.585262], \"marker\": {\"color\": \"#FFA15A\"}, \"mode\": \"markers\", \"name\": \"Uzbekistan\", \"showlegend\": true, \"subplot\": \"mapbox\", \"type\": \"scattermapbox\"}, {\"hovertemplate\": \"country=Vanuatu<br>lat=%{lat}<br>long=%{lon}<extra></extra>\", \"lat\": [-15.3767], \"legendgroup\": \"Vanuatu\", \"lon\": [166.9592], \"marker\": {\"color\": \"#19d3f3\"}, \"mode\": \"markers\", \"name\": \"Vanuatu\", \"showlegend\": true, \"subplot\": \"mapbox\", \"type\": \"scattermapbox\"}, {\"hovertemplate\": \"country=Venezuela<br>lat=%{lat}<br>long=%{lon}<extra></extra>\", \"lat\": [6.4238], \"legendgroup\": \"Venezuela\", \"lon\": [-66.5897], \"marker\": {\"color\": \"#FF6692\"}, \"mode\": \"markers\", \"name\": \"Venezuela\", \"showlegend\": true, \"subplot\": \"mapbox\", \"type\": \"scattermapbox\"}, {\"hovertemplate\": \"country=Vietnam<br>lat=%{lat}<br>long=%{lon}<extra></extra>\", \"lat\": [14.058323999999999], \"legendgroup\": \"Vietnam\", \"lon\": [108.277199], \"marker\": {\"color\": \"#B6E880\"}, \"mode\": \"markers\", \"name\": \"Vietnam\", \"showlegend\": true, \"subplot\": \"mapbox\", \"type\": \"scattermapbox\"}, {\"hovertemplate\": \"country=West Bank and Gaza<br>lat=%{lat}<br>long=%{lon}<extra></extra>\", \"lat\": [31.9522], \"legendgroup\": \"West Bank and Gaza\", \"lon\": [35.2332], \"marker\": {\"color\": \"#FF97FF\"}, \"mode\": \"markers\", \"name\": \"West Bank and Gaza\", \"showlegend\": true, \"subplot\": \"mapbox\", \"type\": \"scattermapbox\"}, {\"hovertemplate\": \"country=Yemen<br>lat=%{lat}<br>long=%{lon}<extra></extra>\", \"lat\": [15.552726999999999], \"legendgroup\": \"Yemen\", \"lon\": [48.516388], \"marker\": {\"color\": \"#FECB52\"}, \"mode\": \"markers\", \"name\": \"Yemen\", \"showlegend\": true, \"subplot\": \"mapbox\", \"type\": \"scattermapbox\"}, {\"hovertemplate\": \"country=Zambia<br>lat=%{lat}<br>long=%{lon}<extra></extra>\", \"lat\": [-13.133897], \"legendgroup\": \"Zambia\", \"lon\": [27.849332], \"marker\": {\"color\": \"#636efa\"}, \"mode\": \"markers\", \"name\": \"Zambia\", \"showlegend\": true, \"subplot\": \"mapbox\", \"type\": \"scattermapbox\"}, {\"hovertemplate\": \"country=Zimbabwe<br>lat=%{lat}<br>long=%{lon}<extra></extra>\", \"lat\": [-19.015438], \"legendgroup\": \"Zimbabwe\", \"lon\": [29.154857], \"marker\": {\"color\": \"#EF553B\"}, \"mode\": \"markers\", \"name\": \"Zimbabwe\", \"showlegend\": true, \"subplot\": \"mapbox\", \"type\": \"scattermapbox\"}],                        {\"legend\": {\"title\": {\"text\": \"country\"}, \"tracegroupgap\": 0}, \"mapbox\": {\"center\": {\"lat\": 20.534804212454183, \"lon\": 23.02814327472526}, \"domain\": {\"x\": [0.0, 1.0], \"y\": [0.0, 1.0]}, \"style\": \"carto-positron\", \"zoom\": 0}, \"margin\": {\"t\": 60}, \"template\": {\"data\": {\"bar\": [{\"error_x\": {\"color\": \"#2a3f5f\"}, \"error_y\": {\"color\": \"#2a3f5f\"}, \"marker\": {\"line\": {\"color\": \"#E5ECF6\", \"width\": 0.5}}, \"type\": \"bar\"}], \"barpolar\": [{\"marker\": {\"line\": {\"color\": \"#E5ECF6\", \"width\": 0.5}}, \"type\": \"barpolar\"}], \"carpet\": [{\"aaxis\": {\"endlinecolor\": \"#2a3f5f\", \"gridcolor\": \"white\", \"linecolor\": \"white\", \"minorgridcolor\": \"white\", \"startlinecolor\": \"#2a3f5f\"}, \"baxis\": {\"endlinecolor\": \"#2a3f5f\", \"gridcolor\": \"white\", \"linecolor\": \"white\", \"minorgridcolor\": \"white\", \"startlinecolor\": \"#2a3f5f\"}, \"type\": \"carpet\"}], \"choropleth\": [{\"colorbar\": {\"outlinewidth\": 0, \"ticks\": \"\"}, \"type\": \"choropleth\"}], \"contour\": [{\"colorbar\": {\"outlinewidth\": 0, \"ticks\": \"\"}, \"colorscale\": [[0.0, \"#0d0887\"], [0.1111111111111111, \"#46039f\"], [0.2222222222222222, \"#7201a8\"], [0.3333333333333333, \"#9c179e\"], [0.4444444444444444, \"#bd3786\"], [0.5555555555555556, \"#d8576b\"], [0.6666666666666666, \"#ed7953\"], [0.7777777777777778, \"#fb9f3a\"], [0.8888888888888888, \"#fdca26\"], [1.0, \"#f0f921\"]], \"type\": \"contour\"}], \"contourcarpet\": [{\"colorbar\": {\"outlinewidth\": 0, \"ticks\": \"\"}, \"type\": \"contourcarpet\"}], \"heatmap\": [{\"colorbar\": {\"outlinewidth\": 0, \"ticks\": \"\"}, \"colorscale\": [[0.0, \"#0d0887\"], [0.1111111111111111, \"#46039f\"], [0.2222222222222222, \"#7201a8\"], [0.3333333333333333, \"#9c179e\"], [0.4444444444444444, \"#bd3786\"], [0.5555555555555556, \"#d8576b\"], [0.6666666666666666, \"#ed7953\"], [0.7777777777777778, \"#fb9f3a\"], [0.8888888888888888, \"#fdca26\"], [1.0, \"#f0f921\"]], \"type\": \"heatmap\"}], \"heatmapgl\": [{\"colorbar\": {\"outlinewidth\": 0, \"ticks\": \"\"}, \"colorscale\": [[0.0, \"#0d0887\"], [0.1111111111111111, \"#46039f\"], [0.2222222222222222, \"#7201a8\"], [0.3333333333333333, \"#9c179e\"], [0.4444444444444444, \"#bd3786\"], [0.5555555555555556, \"#d8576b\"], [0.6666666666666666, \"#ed7953\"], [0.7777777777777778, \"#fb9f3a\"], [0.8888888888888888, \"#fdca26\"], [1.0, \"#f0f921\"]], \"type\": \"heatmapgl\"}], \"histogram\": [{\"marker\": {\"colorbar\": {\"outlinewidth\": 0, \"ticks\": \"\"}}, \"type\": \"histogram\"}], \"histogram2d\": [{\"colorbar\": {\"outlinewidth\": 0, \"ticks\": \"\"}, \"colorscale\": [[0.0, \"#0d0887\"], [0.1111111111111111, \"#46039f\"], [0.2222222222222222, \"#7201a8\"], [0.3333333333333333, \"#9c179e\"], [0.4444444444444444, \"#bd3786\"], [0.5555555555555556, \"#d8576b\"], [0.6666666666666666, \"#ed7953\"], [0.7777777777777778, \"#fb9f3a\"], [0.8888888888888888, \"#fdca26\"], [1.0, \"#f0f921\"]], \"type\": \"histogram2d\"}], \"histogram2dcontour\": [{\"colorbar\": {\"outlinewidth\": 0, \"ticks\": \"\"}, \"colorscale\": [[0.0, \"#0d0887\"], [0.1111111111111111, \"#46039f\"], [0.2222222222222222, \"#7201a8\"], [0.3333333333333333, \"#9c179e\"], [0.4444444444444444, \"#bd3786\"], [0.5555555555555556, \"#d8576b\"], [0.6666666666666666, \"#ed7953\"], [0.7777777777777778, \"#fb9f3a\"], [0.8888888888888888, \"#fdca26\"], [1.0, \"#f0f921\"]], \"type\": \"histogram2dcontour\"}], \"mesh3d\": [{\"colorbar\": {\"outlinewidth\": 0, \"ticks\": \"\"}, \"type\": \"mesh3d\"}], \"parcoords\": [{\"line\": {\"colorbar\": {\"outlinewidth\": 0, \"ticks\": \"\"}}, \"type\": \"parcoords\"}], \"pie\": [{\"automargin\": true, \"type\": \"pie\"}], \"scatter\": [{\"marker\": {\"colorbar\": {\"outlinewidth\": 0, \"ticks\": \"\"}}, \"type\": \"scatter\"}], \"scatter3d\": [{\"line\": {\"colorbar\": {\"outlinewidth\": 0, \"ticks\": \"\"}}, \"marker\": {\"colorbar\": {\"outlinewidth\": 0, \"ticks\": \"\"}}, \"type\": \"scatter3d\"}], \"scattercarpet\": [{\"marker\": {\"colorbar\": {\"outlinewidth\": 0, \"ticks\": \"\"}}, \"type\": \"scattercarpet\"}], \"scattergeo\": [{\"marker\": {\"colorbar\": {\"outlinewidth\": 0, \"ticks\": \"\"}}, \"type\": \"scattergeo\"}], \"scattergl\": [{\"marker\": {\"colorbar\": {\"outlinewidth\": 0, \"ticks\": \"\"}}, \"type\": \"scattergl\"}], \"scattermapbox\": [{\"marker\": {\"colorbar\": {\"outlinewidth\": 0, \"ticks\": \"\"}}, \"type\": \"scattermapbox\"}], \"scatterpolar\": [{\"marker\": {\"colorbar\": {\"outlinewidth\": 0, \"ticks\": \"\"}}, \"type\": \"scatterpolar\"}], \"scatterpolargl\": [{\"marker\": {\"colorbar\": {\"outlinewidth\": 0, \"ticks\": \"\"}}, \"type\": \"scatterpolargl\"}], \"scatterternary\": [{\"marker\": {\"colorbar\": {\"outlinewidth\": 0, \"ticks\": \"\"}}, \"type\": \"scatterternary\"}], \"surface\": [{\"colorbar\": {\"outlinewidth\": 0, \"ticks\": \"\"}, \"colorscale\": [[0.0, \"#0d0887\"], [0.1111111111111111, \"#46039f\"], [0.2222222222222222, \"#7201a8\"], [0.3333333333333333, \"#9c179e\"], [0.4444444444444444, \"#bd3786\"], [0.5555555555555556, \"#d8576b\"], [0.6666666666666666, \"#ed7953\"], [0.7777777777777778, \"#fb9f3a\"], [0.8888888888888888, \"#fdca26\"], [1.0, \"#f0f921\"]], \"type\": \"surface\"}], \"table\": [{\"cells\": {\"fill\": {\"color\": \"#EBF0F8\"}, \"line\": {\"color\": \"white\"}}, \"header\": {\"fill\": {\"color\": \"#C8D4E3\"}, \"line\": {\"color\": \"white\"}}, \"type\": \"table\"}]}, \"layout\": {\"annotationdefaults\": {\"arrowcolor\": \"#2a3f5f\", \"arrowhead\": 0, \"arrowwidth\": 1}, \"autotypenumbers\": \"strict\", \"coloraxis\": {\"colorbar\": {\"outlinewidth\": 0, \"ticks\": \"\"}}, \"colorscale\": {\"diverging\": [[0, \"#8e0152\"], [0.1, \"#c51b7d\"], [0.2, \"#de77ae\"], [0.3, \"#f1b6da\"], [0.4, \"#fde0ef\"], [0.5, \"#f7f7f7\"], [0.6, \"#e6f5d0\"], [0.7, \"#b8e186\"], [0.8, \"#7fbc41\"], [0.9, \"#4d9221\"], [1, \"#276419\"]], \"sequential\": [[0.0, \"#0d0887\"], [0.1111111111111111, \"#46039f\"], [0.2222222222222222, \"#7201a8\"], [0.3333333333333333, \"#9c179e\"], [0.4444444444444444, \"#bd3786\"], [0.5555555555555556, \"#d8576b\"], [0.6666666666666666, \"#ed7953\"], [0.7777777777777778, \"#fb9f3a\"], [0.8888888888888888, \"#fdca26\"], [1.0, \"#f0f921\"]], \"sequentialminus\": [[0.0, \"#0d0887\"], [0.1111111111111111, \"#46039f\"], [0.2222222222222222, \"#7201a8\"], [0.3333333333333333, \"#9c179e\"], [0.4444444444444444, \"#bd3786\"], [0.5555555555555556, \"#d8576b\"], [0.6666666666666666, \"#ed7953\"], [0.7777777777777778, \"#fb9f3a\"], [0.8888888888888888, \"#fdca26\"], [1.0, \"#f0f921\"]]}, \"colorway\": [\"#636efa\", \"#EF553B\", \"#00cc96\", \"#ab63fa\", \"#FFA15A\", \"#19d3f3\", \"#FF6692\", \"#B6E880\", \"#FF97FF\", \"#FECB52\"], \"font\": {\"color\": \"#2a3f5f\"}, \"geo\": {\"bgcolor\": \"white\", \"lakecolor\": \"white\", \"landcolor\": \"#E5ECF6\", \"showlakes\": true, \"showland\": true, \"subunitcolor\": \"white\"}, \"hoverlabel\": {\"align\": \"left\"}, \"hovermode\": \"closest\", \"mapbox\": {\"style\": \"light\"}, \"paper_bgcolor\": \"white\", \"plot_bgcolor\": \"#E5ECF6\", \"polar\": {\"angularaxis\": {\"gridcolor\": \"white\", \"linecolor\": \"white\", \"ticks\": \"\"}, \"bgcolor\": \"#E5ECF6\", \"radialaxis\": {\"gridcolor\": \"white\", \"linecolor\": \"white\", \"ticks\": \"\"}}, \"scene\": {\"xaxis\": {\"backgroundcolor\": \"#E5ECF6\", \"gridcolor\": \"white\", \"gridwidth\": 2, \"linecolor\": \"white\", \"showbackground\": true, \"ticks\": \"\", \"zerolinecolor\": \"white\"}, \"yaxis\": {\"backgroundcolor\": \"#E5ECF6\", \"gridcolor\": \"white\", \"gridwidth\": 2, \"linecolor\": \"white\", \"showbackground\": true, \"ticks\": \"\", \"zerolinecolor\": \"white\"}, \"zaxis\": {\"backgroundcolor\": \"#E5ECF6\", \"gridcolor\": \"white\", \"gridwidth\": 2, \"linecolor\": \"white\", \"showbackground\": true, \"ticks\": \"\", \"zerolinecolor\": \"white\"}}, \"shapedefaults\": {\"line\": {\"color\": \"#2a3f5f\"}}, \"ternary\": {\"aaxis\": {\"gridcolor\": \"white\", \"linecolor\": \"white\", \"ticks\": \"\"}, \"baxis\": {\"gridcolor\": \"white\", \"linecolor\": \"white\", \"ticks\": \"\"}, \"bgcolor\": \"#E5ECF6\", \"caxis\": {\"gridcolor\": \"white\", \"linecolor\": \"white\", \"ticks\": \"\"}}, \"title\": {\"x\": 0.05}, \"xaxis\": {\"automargin\": true, \"gridcolor\": \"white\", \"linecolor\": \"white\", \"ticks\": \"\", \"title\": {\"standoff\": 15}, \"zerolinecolor\": \"white\", \"zerolinewidth\": 2}, \"yaxis\": {\"automargin\": true, \"gridcolor\": \"white\", \"linecolor\": \"white\", \"ticks\": \"\", \"title\": {\"standoff\": 15}, \"zerolinecolor\": \"white\", \"zerolinewidth\": 2}}}, \"title\": {\"text\": \"Global spread of COVID-19. (Last updated on 5/4/21)\"}},                        {\"responsive\": true}                    ).then(function(){\n",
       "                            \n",
       "var gd = document.getElementById('c1938c59-f40f-4041-b0b5-b2e2faafe2c8');\n",
       "var x = new MutationObserver(function (mutations, observer) {{\n",
       "        var display = window.getComputedStyle(gd).display;\n",
       "        if (!display || display === 'none') {{\n",
       "            console.log([gd, 'removed!']);\n",
       "            Plotly.purge(gd);\n",
       "            observer.disconnect();\n",
       "        }}\n",
       "}});\n",
       "\n",
       "// Listen for the removal of the full notebook cells\n",
       "var notebookContainer = gd.closest('#notebook-container');\n",
       "if (notebookContainer) {{\n",
       "    x.observe(notebookContainer, {childList: true});\n",
       "}}\n",
       "\n",
       "// Listen for the clearing of the current output cell\n",
       "var outputEl = gd.closest('.output');\n",
       "if (outputEl) {{\n",
       "    x.observe(outputEl, {childList: true});\n",
       "}}\n",
       "\n",
       "                        })                };                });            </script>        </div>"
      ]
     },
     "metadata": {},
     "output_type": "display_data"
    }
   ],
   "source": [
    "fig = px.scatter_mapbox(confirmed_df, lat=\"lat\", lon=\"long\", color=\"country\",\n",
    "                  color_continuous_scale=px.colors.cyclical.IceFire, size_max=15, zoom=0,\n",
    "                  mapbox_style=\"carto-positron\")\n",
    "\n",
    "fig.update_layout(\n",
    "    title=\"Global spread of COVID-19. (Last updated on \"+ confirmed_df.columns[-1] +\")\"\n",
    "    )\n",
    "    \n",
    "fig.show();"
   ]
  }
 ],
 "metadata": {
  "kernelspec": {
   "display_name": "Python 3",
   "language": "python",
   "name": "python3"
  },
  "language_info": {
   "codemirror_mode": {
    "name": "ipython",
    "version": 3
   },
   "file_extension": ".py",
   "mimetype": "text/x-python",
   "name": "python",
   "nbconvert_exporter": "python",
   "pygments_lexer": "ipython3",
   "version": "3.8.3"
  }
 },
 "nbformat": 4,
 "nbformat_minor": 4
}
